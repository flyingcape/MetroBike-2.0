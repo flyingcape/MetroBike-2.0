{
 "cells": [
  {
   "cell_type": "code",
   "execution_count": 1,
   "id": "648b776e",
   "metadata": {},
   "outputs": [],
   "source": [
    "import pandas as pd\n",
    "import numpy as np\n",
    "from matplotlib import pyplot as plt\n",
    "plt.style.use('ggplot')\n",
    "plt.rcParams.update({'font.size': 20})"
   ]
  },
  {
   "cell_type": "code",
   "execution_count": 2,
   "id": "4881317e",
   "metadata": {},
   "outputs": [],
   "source": [
    "pd.set_option('display.max_rows', 500)\n",
    "pd.set_option('display.max_columns', 500)"
   ]
  },
  {
   "cell_type": "markdown",
   "id": "ef0c8a2b",
   "metadata": {},
   "source": [
    "# Load Cleaned Data"
   ]
  },
  {
   "cell_type": "code",
   "execution_count": 3,
   "id": "58b680ce",
   "metadata": {},
   "outputs": [
    {
     "name": "stderr",
     "output_type": "stream",
     "text": [
      "/Users/flyingcape/opt/anaconda3/lib/python3.8/site-packages/IPython/core/interactiveshell.py:3165: DtypeWarning: Columns (3) have mixed types.Specify dtype option on import or set low_memory=False.\n",
      "  has_raised = await self.run_ast_nodes(code_ast.body, cell_name,\n"
     ]
    },
    {
     "data": {
      "text/html": [
       "<div>\n",
       "<style scoped>\n",
       "    .dataframe tbody tr th:only-of-type {\n",
       "        vertical-align: middle;\n",
       "    }\n",
       "\n",
       "    .dataframe tbody tr th {\n",
       "        vertical-align: top;\n",
       "    }\n",
       "\n",
       "    .dataframe thead th {\n",
       "        text-align: right;\n",
       "    }\n",
       "</style>\n",
       "<table border=\"1\" class=\"dataframe\">\n",
       "  <thead>\n",
       "    <tr style=\"text-align: right;\">\n",
       "      <th></th>\n",
       "      <th>Unnamed: 0</th>\n",
       "      <th>Trip ID</th>\n",
       "      <th>Membership Name</th>\n",
       "      <th>Bicycle ID</th>\n",
       "      <th>Bike Type</th>\n",
       "      <th>Checkout Date</th>\n",
       "      <th>Checkout Time</th>\n",
       "      <th>Checkout Kiosk ID</th>\n",
       "      <th>Checkout Kiosk</th>\n",
       "      <th>Return Kiosk ID</th>\n",
       "      <th>Return Kiosk</th>\n",
       "      <th>Trip Duration Minutes</th>\n",
       "      <th>Month_orig</th>\n",
       "      <th>Year_orig</th>\n",
       "      <th>Checkout DateTime</th>\n",
       "      <th>Return DateTime</th>\n",
       "      <th>Year</th>\n",
       "      <th>Month</th>\n",
       "      <th>Weekday</th>\n",
       "      <th>Weekday_name</th>\n",
       "      <th>Checkout_Hour</th>\n",
       "      <th>Checkout_Min</th>\n",
       "      <th>Membership Type</th>\n",
       "      <th>Lat Checkout</th>\n",
       "      <th>Lon Checkout</th>\n",
       "      <th>Council District Checkout</th>\n",
       "      <th>Neighborhood Checkout</th>\n",
       "      <th>Lat Return</th>\n",
       "      <th>Lon Return</th>\n",
       "      <th>Council District Return</th>\n",
       "      <th>Neighborhood Return</th>\n",
       "      <th>Distance_Miles</th>\n",
       "    </tr>\n",
       "  </thead>\n",
       "  <tbody>\n",
       "    <tr>\n",
       "      <th>0</th>\n",
       "      <td>0</td>\n",
       "      <td>9900285854</td>\n",
       "      <td>Annual (San Antonio B-cycle)</td>\n",
       "      <td>207.0</td>\n",
       "      <td>NaN</td>\n",
       "      <td>10/26/2014</td>\n",
       "      <td>13:12:00</td>\n",
       "      <td>2537.0</td>\n",
       "      <td>6th/West</td>\n",
       "      <td>2707.0</td>\n",
       "      <td>Rainey/Cummings</td>\n",
       "      <td>76</td>\n",
       "      <td>10.0</td>\n",
       "      <td>2014.0</td>\n",
       "      <td>2014-10-26 13:12:00</td>\n",
       "      <td>2014-10-26 14:28:00</td>\n",
       "      <td>2014</td>\n",
       "      <td>10</td>\n",
       "      <td>7</td>\n",
       "      <td>Sunday</td>\n",
       "      <td>13</td>\n",
       "      <td>12</td>\n",
       "      <td>Other</td>\n",
       "      <td>30.27041</td>\n",
       "      <td>-97.75046</td>\n",
       "      <td>9.0</td>\n",
       "      <td>DOWNTOWN</td>\n",
       "      <td>30.255906</td>\n",
       "      <td>-97.739949</td>\n",
       "      <td>9.0</td>\n",
       "      <td>DOWNTOWN</td>\n",
       "      <td>1.182257</td>\n",
       "    </tr>\n",
       "    <tr>\n",
       "      <th>1</th>\n",
       "      <td>1</td>\n",
       "      <td>9900285855</td>\n",
       "      <td>24-Hour Kiosk (Austin B-cycle)</td>\n",
       "      <td>969.0</td>\n",
       "      <td>NaN</td>\n",
       "      <td>10/26/2014</td>\n",
       "      <td>13:12:00</td>\n",
       "      <td>2539.0</td>\n",
       "      <td>3rd/Trinity @ The Convention Center</td>\n",
       "      <td>2566.0</td>\n",
       "      <td>Electric Drive/Sandra Muraida Way @ Pfluger Pe...</td>\n",
       "      <td>58</td>\n",
       "      <td>10.0</td>\n",
       "      <td>2014.0</td>\n",
       "      <td>2014-10-26 13:12:00</td>\n",
       "      <td>2014-10-26 14:10:00</td>\n",
       "      <td>2014</td>\n",
       "      <td>10</td>\n",
       "      <td>7</td>\n",
       "      <td>Sunday</td>\n",
       "      <td>13</td>\n",
       "      <td>12</td>\n",
       "      <td>Day</td>\n",
       "      <td>30.26426</td>\n",
       "      <td>-97.74023</td>\n",
       "      <td>9.0</td>\n",
       "      <td>DOWNTOWN</td>\n",
       "      <td>30.267170</td>\n",
       "      <td>-97.754840</td>\n",
       "      <td>9.0</td>\n",
       "      <td>DOWNTOWN</td>\n",
       "      <td>0.894747</td>\n",
       "    </tr>\n",
       "    <tr>\n",
       "      <th>2</th>\n",
       "      <td>2</td>\n",
       "      <td>9900285856</td>\n",
       "      <td>Annual Membership (Austin B-cycle)</td>\n",
       "      <td>214.0</td>\n",
       "      <td>NaN</td>\n",
       "      <td>10/26/2014</td>\n",
       "      <td>13:12:00</td>\n",
       "      <td>2537.0</td>\n",
       "      <td>6th/West</td>\n",
       "      <td>2496.0</td>\n",
       "      <td>8th/Congress</td>\n",
       "      <td>8</td>\n",
       "      <td>10.0</td>\n",
       "      <td>2014.0</td>\n",
       "      <td>2014-10-26 13:12:00</td>\n",
       "      <td>2014-10-26 13:20:00</td>\n",
       "      <td>2014</td>\n",
       "      <td>10</td>\n",
       "      <td>7</td>\n",
       "      <td>Sunday</td>\n",
       "      <td>13</td>\n",
       "      <td>12</td>\n",
       "      <td>Annual</td>\n",
       "      <td>30.27041</td>\n",
       "      <td>-97.75046</td>\n",
       "      <td>9.0</td>\n",
       "      <td>DOWNTOWN</td>\n",
       "      <td>30.269800</td>\n",
       "      <td>-97.741860</td>\n",
       "      <td>9.0</td>\n",
       "      <td>DOWNTOWN</td>\n",
       "      <td>0.514917</td>\n",
       "    </tr>\n",
       "    <tr>\n",
       "      <th>3</th>\n",
       "      <td>3</td>\n",
       "      <td>9900285857</td>\n",
       "      <td>24-Hour Kiosk (Austin B-cycle)</td>\n",
       "      <td>745.0</td>\n",
       "      <td>NaN</td>\n",
       "      <td>10/26/2014</td>\n",
       "      <td>13:12:00</td>\n",
       "      <td>2574.0</td>\n",
       "      <td>Zilker Park</td>\n",
       "      <td>2574.0</td>\n",
       "      <td>Zilker Park</td>\n",
       "      <td>28</td>\n",
       "      <td>10.0</td>\n",
       "      <td>2014.0</td>\n",
       "      <td>2014-10-26 13:12:00</td>\n",
       "      <td>2014-10-26 13:40:00</td>\n",
       "      <td>2014</td>\n",
       "      <td>10</td>\n",
       "      <td>7</td>\n",
       "      <td>Sunday</td>\n",
       "      <td>13</td>\n",
       "      <td>12</td>\n",
       "      <td>Day</td>\n",
       "      <td>30.26590</td>\n",
       "      <td>-97.76822</td>\n",
       "      <td>8.0</td>\n",
       "      <td>BARTON HILLS</td>\n",
       "      <td>30.265900</td>\n",
       "      <td>-97.768220</td>\n",
       "      <td>8.0</td>\n",
       "      <td>BARTON HILLS</td>\n",
       "      <td>0.000000</td>\n",
       "    </tr>\n",
       "    <tr>\n",
       "      <th>4</th>\n",
       "      <td>4</td>\n",
       "      <td>9900285858</td>\n",
       "      <td>24-Hour Kiosk (Austin B-cycle)</td>\n",
       "      <td>164.0</td>\n",
       "      <td>NaN</td>\n",
       "      <td>10/26/2014</td>\n",
       "      <td>13:12:00</td>\n",
       "      <td>2538.0</td>\n",
       "      <td>Bullock Museum @ Congress &amp; MLK</td>\n",
       "      <td>2539.0</td>\n",
       "      <td>3rd/Trinity @ The Convention Center</td>\n",
       "      <td>15</td>\n",
       "      <td>10.0</td>\n",
       "      <td>2014.0</td>\n",
       "      <td>2014-10-26 13:12:00</td>\n",
       "      <td>2014-10-26 13:27:00</td>\n",
       "      <td>2014</td>\n",
       "      <td>10</td>\n",
       "      <td>7</td>\n",
       "      <td>Sunday</td>\n",
       "      <td>13</td>\n",
       "      <td>12</td>\n",
       "      <td>Day</td>\n",
       "      <td>30.28039</td>\n",
       "      <td>-97.73809</td>\n",
       "      <td>1.0</td>\n",
       "      <td>DOWNTOWN</td>\n",
       "      <td>30.264260</td>\n",
       "      <td>-97.740230</td>\n",
       "      <td>9.0</td>\n",
       "      <td>DOWNTOWN</td>\n",
       "      <td>1.121769</td>\n",
       "    </tr>\n",
       "  </tbody>\n",
       "</table>\n",
       "</div>"
      ],
      "text/plain": [
       "   Unnamed: 0     Trip ID                     Membership Name Bicycle ID  \\\n",
       "0           0  9900285854        Annual (San Antonio B-cycle)      207.0   \n",
       "1           1  9900285855      24-Hour Kiosk (Austin B-cycle)      969.0   \n",
       "2           2  9900285856  Annual Membership (Austin B-cycle)      214.0   \n",
       "3           3  9900285857      24-Hour Kiosk (Austin B-cycle)      745.0   \n",
       "4           4  9900285858      24-Hour Kiosk (Austin B-cycle)      164.0   \n",
       "\n",
       "   Bike Type Checkout Date Checkout Time  Checkout Kiosk ID  \\\n",
       "0        NaN    10/26/2014      13:12:00             2537.0   \n",
       "1        NaN    10/26/2014      13:12:00             2539.0   \n",
       "2        NaN    10/26/2014      13:12:00             2537.0   \n",
       "3        NaN    10/26/2014      13:12:00             2574.0   \n",
       "4        NaN    10/26/2014      13:12:00             2538.0   \n",
       "\n",
       "                        Checkout Kiosk  Return Kiosk ID  \\\n",
       "0                             6th/West           2707.0   \n",
       "1  3rd/Trinity @ The Convention Center           2566.0   \n",
       "2                             6th/West           2496.0   \n",
       "3                          Zilker Park           2574.0   \n",
       "4      Bullock Museum @ Congress & MLK           2539.0   \n",
       "\n",
       "                                        Return Kiosk  Trip Duration Minutes  \\\n",
       "0                                    Rainey/Cummings                     76   \n",
       "1  Electric Drive/Sandra Muraida Way @ Pfluger Pe...                     58   \n",
       "2                                       8th/Congress                      8   \n",
       "3                                        Zilker Park                     28   \n",
       "4                3rd/Trinity @ The Convention Center                     15   \n",
       "\n",
       "   Month_orig  Year_orig    Checkout DateTime      Return DateTime  Year  \\\n",
       "0        10.0     2014.0  2014-10-26 13:12:00  2014-10-26 14:28:00  2014   \n",
       "1        10.0     2014.0  2014-10-26 13:12:00  2014-10-26 14:10:00  2014   \n",
       "2        10.0     2014.0  2014-10-26 13:12:00  2014-10-26 13:20:00  2014   \n",
       "3        10.0     2014.0  2014-10-26 13:12:00  2014-10-26 13:40:00  2014   \n",
       "4        10.0     2014.0  2014-10-26 13:12:00  2014-10-26 13:27:00  2014   \n",
       "\n",
       "   Month  Weekday Weekday_name  Checkout_Hour  Checkout_Min Membership Type  \\\n",
       "0     10        7       Sunday             13            12           Other   \n",
       "1     10        7       Sunday             13            12             Day   \n",
       "2     10        7       Sunday             13            12          Annual   \n",
       "3     10        7       Sunday             13            12             Day   \n",
       "4     10        7       Sunday             13            12             Day   \n",
       "\n",
       "   Lat Checkout  Lon Checkout  Council District Checkout  \\\n",
       "0      30.27041     -97.75046                        9.0   \n",
       "1      30.26426     -97.74023                        9.0   \n",
       "2      30.27041     -97.75046                        9.0   \n",
       "3      30.26590     -97.76822                        8.0   \n",
       "4      30.28039     -97.73809                        1.0   \n",
       "\n",
       "  Neighborhood Checkout  Lat Return  Lon Return  Council District Return  \\\n",
       "0              DOWNTOWN   30.255906  -97.739949                      9.0   \n",
       "1              DOWNTOWN   30.267170  -97.754840                      9.0   \n",
       "2              DOWNTOWN   30.269800  -97.741860                      9.0   \n",
       "3          BARTON HILLS   30.265900  -97.768220                      8.0   \n",
       "4              DOWNTOWN   30.264260  -97.740230                      9.0   \n",
       "\n",
       "  Neighborhood Return  Distance_Miles  \n",
       "0            DOWNTOWN        1.182257  \n",
       "1            DOWNTOWN        0.894747  \n",
       "2            DOWNTOWN        0.514917  \n",
       "3        BARTON HILLS        0.000000  \n",
       "4            DOWNTOWN        1.121769  "
      ]
     },
     "execution_count": 3,
     "metadata": {},
     "output_type": "execute_result"
    }
   ],
   "source": [
    "trips = pd.read_csv('../Data/trips.csv') \n",
    "trips.head()"
   ]
  },
  {
   "cell_type": "code",
   "execution_count": 4,
   "id": "a018dbb6",
   "metadata": {},
   "outputs": [
    {
     "data": {
      "text/html": [
       "<div>\n",
       "<style scoped>\n",
       "    .dataframe tbody tr th:only-of-type {\n",
       "        vertical-align: middle;\n",
       "    }\n",
       "\n",
       "    .dataframe tbody tr th {\n",
       "        vertical-align: top;\n",
       "    }\n",
       "\n",
       "    .dataframe thead th {\n",
       "        text-align: right;\n",
       "    }\n",
       "</style>\n",
       "<table border=\"1\" class=\"dataframe\">\n",
       "  <thead>\n",
       "    <tr style=\"text-align: right;\">\n",
       "      <th></th>\n",
       "      <th>Unnamed: 0</th>\n",
       "      <th>Kiosk ID</th>\n",
       "      <th>Kiosk Name</th>\n",
       "      <th>Kiosk Status</th>\n",
       "      <th>Location</th>\n",
       "      <th>Address</th>\n",
       "      <th>Alternate Name</th>\n",
       "      <th>City Asset Number</th>\n",
       "      <th>Property Type</th>\n",
       "      <th>Number of Docks</th>\n",
       "      <th>Power Type</th>\n",
       "      <th>Footprint Length</th>\n",
       "      <th>Footprint Width</th>\n",
       "      <th>Notes</th>\n",
       "      <th>Council District</th>\n",
       "      <th>Image</th>\n",
       "      <th>Modified Date</th>\n",
       "      <th>Latitude</th>\n",
       "      <th>Longitude</th>\n",
       "      <th>geometry</th>\n",
       "      <th>Neighborhood</th>\n",
       "      <th>Lat</th>\n",
       "      <th>Lon</th>\n",
       "    </tr>\n",
       "  </thead>\n",
       "  <tbody>\n",
       "    <tr>\n",
       "      <th>0</th>\n",
       "      <td>0</td>\n",
       "      <td>2823</td>\n",
       "      <td>East 5th/Broadway @ Capital Metro HQ</td>\n",
       "      <td>active</td>\n",
       "      <td>(30.2563, -97.71007)</td>\n",
       "      <td>2910 E 5th St</td>\n",
       "      <td>NaN</td>\n",
       "      <td>16684.0</td>\n",
       "      <td>undetermined_parking</td>\n",
       "      <td>13.0</td>\n",
       "      <td>solar</td>\n",
       "      <td>40.0</td>\n",
       "      <td>5.0</td>\n",
       "      <td>NaN</td>\n",
       "      <td>3</td>\n",
       "      <td>NaN</td>\n",
       "      <td>01/04/2021 12:00:00 AM</td>\n",
       "      <td>30.256300</td>\n",
       "      <td>-97.710070</td>\n",
       "      <td>POINT (-97.71007 30.2563)</td>\n",
       "      <td>GOVALLE</td>\n",
       "      <td>30.256300</td>\n",
       "      <td>-97.710070</td>\n",
       "    </tr>\n",
       "    <tr>\n",
       "      <th>1</th>\n",
       "      <td>1</td>\n",
       "      <td>3291</td>\n",
       "      <td>11th/San Jacinto</td>\n",
       "      <td>active</td>\n",
       "      <td>(30.27193, -97.73854)</td>\n",
       "      <td>310 E. 11th St.</td>\n",
       "      <td>NaN</td>\n",
       "      <td>32503.0</td>\n",
       "      <td>sidewalk</td>\n",
       "      <td>11.0</td>\n",
       "      <td>solar</td>\n",
       "      <td>35.0</td>\n",
       "      <td>5.0</td>\n",
       "      <td>NaN</td>\n",
       "      <td>1</td>\n",
       "      <td>NaN</td>\n",
       "      <td>01/04/2021 12:00:00 AM</td>\n",
       "      <td>30.271930</td>\n",
       "      <td>-97.738540</td>\n",
       "      <td>POINT (-97.73854 30.27193)</td>\n",
       "      <td>DOWNTOWN</td>\n",
       "      <td>30.271930</td>\n",
       "      <td>-97.738540</td>\n",
       "    </tr>\n",
       "    <tr>\n",
       "      <th>2</th>\n",
       "      <td>2</td>\n",
       "      <td>3292</td>\n",
       "      <td>East 4th/Chicon</td>\n",
       "      <td>active</td>\n",
       "      <td>(30.25987, -97.72373)</td>\n",
       "      <td>1819 East 4th St.</td>\n",
       "      <td>NaN</td>\n",
       "      <td>32516.0</td>\n",
       "      <td>undetermined_parking</td>\n",
       "      <td>9.0</td>\n",
       "      <td>solar</td>\n",
       "      <td>30.0</td>\n",
       "      <td>5.0</td>\n",
       "      <td>NaN</td>\n",
       "      <td>3</td>\n",
       "      <td>NaN</td>\n",
       "      <td>01/04/2021 12:00:00 AM</td>\n",
       "      <td>30.259870</td>\n",
       "      <td>-97.723730</td>\n",
       "      <td>POINT (-97.72373 30.25987)</td>\n",
       "      <td>EAST CESAR CHAVEZ</td>\n",
       "      <td>30.259870</td>\n",
       "      <td>-97.723730</td>\n",
       "    </tr>\n",
       "    <tr>\n",
       "      <th>3</th>\n",
       "      <td>3</td>\n",
       "      <td>3293</td>\n",
       "      <td>East 2nd/Pedernales</td>\n",
       "      <td>active</td>\n",
       "      <td>(30.25542, -97.71665)</td>\n",
       "      <td>2414 E 2nd St</td>\n",
       "      <td>NaN</td>\n",
       "      <td>16729.0</td>\n",
       "      <td>nonmetered_parking</td>\n",
       "      <td>10.0</td>\n",
       "      <td>solar</td>\n",
       "      <td>20.0</td>\n",
       "      <td>15.0</td>\n",
       "      <td>Kiosk replaced by Barton Sp/Riverside.  Old ci...</td>\n",
       "      <td>3</td>\n",
       "      <td>NaN</td>\n",
       "      <td>01/04/2021 12:00:00 AM</td>\n",
       "      <td>30.255420</td>\n",
       "      <td>-97.716650</td>\n",
       "      <td>POINT (-97.71665 30.25542)</td>\n",
       "      <td>HOLLY</td>\n",
       "      <td>30.255420</td>\n",
       "      <td>-97.716650</td>\n",
       "    </tr>\n",
       "    <tr>\n",
       "      <th>4</th>\n",
       "      <td>4</td>\n",
       "      <td>3294</td>\n",
       "      <td>6th/Lavaca</td>\n",
       "      <td>active</td>\n",
       "      <td>(30.268887, -97.745242)</td>\n",
       "      <td>601 Lavaca St.</td>\n",
       "      <td>NaN</td>\n",
       "      <td>32515.0</td>\n",
       "      <td>sidewalk</td>\n",
       "      <td>12.0</td>\n",
       "      <td>solar</td>\n",
       "      <td>25.0</td>\n",
       "      <td>8.0</td>\n",
       "      <td>double sided, remeasure</td>\n",
       "      <td>9</td>\n",
       "      <td>NaN</td>\n",
       "      <td>03/04/2022 10:21:00 AM</td>\n",
       "      <td>30.268887</td>\n",
       "      <td>-97.745242</td>\n",
       "      <td>POINT (-97.745242 30.268887)</td>\n",
       "      <td>DOWNTOWN</td>\n",
       "      <td>30.268887</td>\n",
       "      <td>-97.745242</td>\n",
       "    </tr>\n",
       "  </tbody>\n",
       "</table>\n",
       "</div>"
      ],
      "text/plain": [
       "   Unnamed: 0  Kiosk ID                            Kiosk Name Kiosk Status  \\\n",
       "0           0      2823  East 5th/Broadway @ Capital Metro HQ       active   \n",
       "1           1      3291                      11th/San Jacinto       active   \n",
       "2           2      3292                       East 4th/Chicon       active   \n",
       "3           3      3293                   East 2nd/Pedernales       active   \n",
       "4           4      3294                            6th/Lavaca       active   \n",
       "\n",
       "                  Location            Address Alternate Name  \\\n",
       "0     (30.2563, -97.71007)      2910 E 5th St            NaN   \n",
       "1    (30.27193, -97.73854)    310 E. 11th St.            NaN   \n",
       "2    (30.25987, -97.72373)  1819 East 4th St.            NaN   \n",
       "3    (30.25542, -97.71665)      2414 E 2nd St            NaN   \n",
       "4  (30.268887, -97.745242)     601 Lavaca St.            NaN   \n",
       "\n",
       "   City Asset Number         Property Type  Number of Docks Power Type  \\\n",
       "0            16684.0  undetermined_parking             13.0      solar   \n",
       "1            32503.0              sidewalk             11.0      solar   \n",
       "2            32516.0  undetermined_parking              9.0      solar   \n",
       "3            16729.0    nonmetered_parking             10.0      solar   \n",
       "4            32515.0              sidewalk             12.0      solar   \n",
       "\n",
       "   Footprint Length  Footprint Width  \\\n",
       "0              40.0              5.0   \n",
       "1              35.0              5.0   \n",
       "2              30.0              5.0   \n",
       "3              20.0             15.0   \n",
       "4              25.0              8.0   \n",
       "\n",
       "                                               Notes  Council District  Image  \\\n",
       "0                                                NaN                 3    NaN   \n",
       "1                                                NaN                 1    NaN   \n",
       "2                                                NaN                 3    NaN   \n",
       "3  Kiosk replaced by Barton Sp/Riverside.  Old ci...                 3    NaN   \n",
       "4                            double sided, remeasure                 9    NaN   \n",
       "\n",
       "            Modified Date   Latitude  Longitude                      geometry  \\\n",
       "0  01/04/2021 12:00:00 AM  30.256300 -97.710070     POINT (-97.71007 30.2563)   \n",
       "1  01/04/2021 12:00:00 AM  30.271930 -97.738540    POINT (-97.73854 30.27193)   \n",
       "2  01/04/2021 12:00:00 AM  30.259870 -97.723730    POINT (-97.72373 30.25987)   \n",
       "3  01/04/2021 12:00:00 AM  30.255420 -97.716650    POINT (-97.71665 30.25542)   \n",
       "4  03/04/2022 10:21:00 AM  30.268887 -97.745242  POINT (-97.745242 30.268887)   \n",
       "\n",
       "        Neighborhood        Lat        Lon  \n",
       "0            GOVALLE  30.256300 -97.710070  \n",
       "1           DOWNTOWN  30.271930 -97.738540  \n",
       "2  EAST CESAR CHAVEZ  30.259870 -97.723730  \n",
       "3              HOLLY  30.255420 -97.716650  \n",
       "4           DOWNTOWN  30.268887 -97.745242  "
      ]
     },
     "execution_count": 4,
     "metadata": {},
     "output_type": "execute_result"
    }
   ],
   "source": [
    "kiosk = pd.read_csv('../Data/kiosk.csv') \n",
    "kiosk.head()"
   ]
  },
  {
   "cell_type": "code",
   "execution_count": 5,
   "id": "26683d6f",
   "metadata": {},
   "outputs": [],
   "source": [
    "trips_2015 = trips.loc[trips['Year'].isin([2015])]\n",
    "trips_2016 = trips.loc[trips['Year'].isin([2016])]\n",
    "trips_2017 = trips.loc[trips['Year'].isin([2017])]\n",
    "trips_2018 = trips.loc[trips['Year'].isin([2018])]\n",
    "trips_2019 = trips.loc[trips['Year'].isin([2019])]\n",
    "trips_2020 = trips.loc[trips['Year'].isin([2020])]\n",
    "trips_2021 = trips.loc[trips['Year'].isin([2021])]\n",
    "trips_2022 = trips.loc[trips['Year'].isin([2022])]"
   ]
  },
  {
   "cell_type": "markdown",
   "id": "ee23fb3f",
   "metadata": {},
   "source": [
    "# Trying Something"
   ]
  },
  {
   "cell_type": "code",
   "execution_count": 6,
   "id": "11bfa56c",
   "metadata": {
    "scrolled": false
   },
   "outputs": [],
   "source": [
    "rides_2013=[] \n",
    "rides_2014=[]\n",
    "rides_2015=[] \n",
    "rides_2016=[] \n",
    "rides_2017=[] \n",
    "rides_2018=[] \n",
    "rides_2019=[]\n",
    "rides_2020=[]\n",
    "rides_2021=[] \n",
    "rides_2022=[] \n",
    "\n",
    "for kiosk_id in kiosk[\"Kiosk ID\"].unique(): \n",
    "    for yr in trips[\"Year\"].unique():\n",
    "        num_trips = trips.loc[(trips[\"Year\"]==yr)&(trips[\"Checkout Kiosk ID\"]==kiosk_id)].shape[0]\n",
    "        eval(\"rides_\" + str(yr) + \".append(num_trips)\")\n",
    "        #print(kiosk_id, yr, num_trips)\n",
    "        num_trips = 0\n",
    "        \n",
    "kiosk[\"Rides_2013\"] = rides_2013    \n",
    "kiosk[\"Rides_2014\"] = rides_2014    \n",
    "kiosk[\"Rides_2015\"] = rides_2015    \n",
    "kiosk[\"Rides_2016\"] = rides_2016    \n",
    "kiosk[\"Rides_2017\"] = rides_2017    \n",
    "kiosk[\"Rides_2018\"] = rides_2018    \n",
    "kiosk[\"Rides_2019\"] = rides_2019    \n",
    "kiosk[\"Rides_2020\"] = rides_2020    \n",
    "kiosk[\"Rides_2021\"] = rides_2021   \n",
    "kiosk[\"Rides_2022\"] = rides_2022    "
   ]
  },
  {
   "cell_type": "code",
   "execution_count": 7,
   "id": "a75779ac",
   "metadata": {},
   "outputs": [
    {
     "data": {
      "text/html": [
       "<div>\n",
       "<style scoped>\n",
       "    .dataframe tbody tr th:only-of-type {\n",
       "        vertical-align: middle;\n",
       "    }\n",
       "\n",
       "    .dataframe tbody tr th {\n",
       "        vertical-align: top;\n",
       "    }\n",
       "\n",
       "    .dataframe thead th {\n",
       "        text-align: right;\n",
       "    }\n",
       "</style>\n",
       "<table border=\"1\" class=\"dataframe\">\n",
       "  <thead>\n",
       "    <tr style=\"text-align: right;\">\n",
       "      <th></th>\n",
       "      <th>Unnamed: 0</th>\n",
       "      <th>Kiosk ID</th>\n",
       "      <th>Kiosk Name</th>\n",
       "      <th>Kiosk Status</th>\n",
       "      <th>Location</th>\n",
       "      <th>Address</th>\n",
       "      <th>Alternate Name</th>\n",
       "      <th>City Asset Number</th>\n",
       "      <th>Property Type</th>\n",
       "      <th>Number of Docks</th>\n",
       "      <th>Power Type</th>\n",
       "      <th>Footprint Length</th>\n",
       "      <th>Footprint Width</th>\n",
       "      <th>Notes</th>\n",
       "      <th>Council District</th>\n",
       "      <th>Image</th>\n",
       "      <th>Modified Date</th>\n",
       "      <th>Latitude</th>\n",
       "      <th>Longitude</th>\n",
       "      <th>geometry</th>\n",
       "      <th>Neighborhood</th>\n",
       "      <th>Lat</th>\n",
       "      <th>Lon</th>\n",
       "      <th>Rides_2013</th>\n",
       "      <th>Rides_2014</th>\n",
       "      <th>Rides_2015</th>\n",
       "      <th>Rides_2016</th>\n",
       "      <th>Rides_2017</th>\n",
       "      <th>Rides_2018</th>\n",
       "      <th>Rides_2019</th>\n",
       "      <th>Rides_2020</th>\n",
       "      <th>Rides_2021</th>\n",
       "      <th>Rides_2022</th>\n",
       "    </tr>\n",
       "  </thead>\n",
       "  <tbody>\n",
       "    <tr>\n",
       "      <th>0</th>\n",
       "      <td>0</td>\n",
       "      <td>2823</td>\n",
       "      <td>East 5th/Broadway @ Capital Metro HQ</td>\n",
       "      <td>active</td>\n",
       "      <td>(30.2563, -97.71007)</td>\n",
       "      <td>2910 E 5th St</td>\n",
       "      <td>NaN</td>\n",
       "      <td>16684.0</td>\n",
       "      <td>undetermined_parking</td>\n",
       "      <td>13.0</td>\n",
       "      <td>solar</td>\n",
       "      <td>40.0</td>\n",
       "      <td>5.0</td>\n",
       "      <td>NaN</td>\n",
       "      <td>3</td>\n",
       "      <td>NaN</td>\n",
       "      <td>01/04/2021 12:00:00 AM</td>\n",
       "      <td>30.256300</td>\n",
       "      <td>-97.710070</td>\n",
       "      <td>POINT (-97.71007 30.2563)</td>\n",
       "      <td>GOVALLE</td>\n",
       "      <td>30.256300</td>\n",
       "      <td>-97.710070</td>\n",
       "      <td>0</td>\n",
       "      <td>282</td>\n",
       "      <td>901</td>\n",
       "      <td>723</td>\n",
       "      <td>827</td>\n",
       "      <td>589</td>\n",
       "      <td>316</td>\n",
       "      <td>496</td>\n",
       "      <td>912</td>\n",
       "      <td>1118</td>\n",
       "    </tr>\n",
       "    <tr>\n",
       "      <th>1</th>\n",
       "      <td>1</td>\n",
       "      <td>3291</td>\n",
       "      <td>11th/San Jacinto</td>\n",
       "      <td>active</td>\n",
       "      <td>(30.27193, -97.73854)</td>\n",
       "      <td>310 E. 11th St.</td>\n",
       "      <td>NaN</td>\n",
       "      <td>32503.0</td>\n",
       "      <td>sidewalk</td>\n",
       "      <td>11.0</td>\n",
       "      <td>solar</td>\n",
       "      <td>35.0</td>\n",
       "      <td>5.0</td>\n",
       "      <td>NaN</td>\n",
       "      <td>1</td>\n",
       "      <td>NaN</td>\n",
       "      <td>01/04/2021 12:00:00 AM</td>\n",
       "      <td>30.271930</td>\n",
       "      <td>-97.738540</td>\n",
       "      <td>POINT (-97.73854 30.27193)</td>\n",
       "      <td>DOWNTOWN</td>\n",
       "      <td>30.271930</td>\n",
       "      <td>-97.738540</td>\n",
       "      <td>0</td>\n",
       "      <td>0</td>\n",
       "      <td>551</td>\n",
       "      <td>1496</td>\n",
       "      <td>1347</td>\n",
       "      <td>1188</td>\n",
       "      <td>422</td>\n",
       "      <td>1030</td>\n",
       "      <td>1460</td>\n",
       "      <td>833</td>\n",
       "    </tr>\n",
       "    <tr>\n",
       "      <th>2</th>\n",
       "      <td>2</td>\n",
       "      <td>3292</td>\n",
       "      <td>East 4th/Chicon</td>\n",
       "      <td>active</td>\n",
       "      <td>(30.25987, -97.72373)</td>\n",
       "      <td>1819 East 4th St.</td>\n",
       "      <td>NaN</td>\n",
       "      <td>32516.0</td>\n",
       "      <td>undetermined_parking</td>\n",
       "      <td>9.0</td>\n",
       "      <td>solar</td>\n",
       "      <td>30.0</td>\n",
       "      <td>5.0</td>\n",
       "      <td>NaN</td>\n",
       "      <td>3</td>\n",
       "      <td>NaN</td>\n",
       "      <td>01/04/2021 12:00:00 AM</td>\n",
       "      <td>30.259870</td>\n",
       "      <td>-97.723730</td>\n",
       "      <td>POINT (-97.72373 30.25987)</td>\n",
       "      <td>EAST CESAR CHAVEZ</td>\n",
       "      <td>30.259870</td>\n",
       "      <td>-97.723730</td>\n",
       "      <td>0</td>\n",
       "      <td>0</td>\n",
       "      <td>465</td>\n",
       "      <td>1533</td>\n",
       "      <td>1930</td>\n",
       "      <td>1526</td>\n",
       "      <td>604</td>\n",
       "      <td>614</td>\n",
       "      <td>1665</td>\n",
       "      <td>1401</td>\n",
       "    </tr>\n",
       "    <tr>\n",
       "      <th>3</th>\n",
       "      <td>3</td>\n",
       "      <td>3293</td>\n",
       "      <td>East 2nd/Pedernales</td>\n",
       "      <td>active</td>\n",
       "      <td>(30.25542, -97.71665)</td>\n",
       "      <td>2414 E 2nd St</td>\n",
       "      <td>NaN</td>\n",
       "      <td>16729.0</td>\n",
       "      <td>nonmetered_parking</td>\n",
       "      <td>10.0</td>\n",
       "      <td>solar</td>\n",
       "      <td>20.0</td>\n",
       "      <td>15.0</td>\n",
       "      <td>Kiosk replaced by Barton Sp/Riverside.  Old ci...</td>\n",
       "      <td>3</td>\n",
       "      <td>NaN</td>\n",
       "      <td>01/04/2021 12:00:00 AM</td>\n",
       "      <td>30.255420</td>\n",
       "      <td>-97.716650</td>\n",
       "      <td>POINT (-97.71665 30.25542)</td>\n",
       "      <td>HOLLY</td>\n",
       "      <td>30.255420</td>\n",
       "      <td>-97.716650</td>\n",
       "      <td>0</td>\n",
       "      <td>0</td>\n",
       "      <td>423</td>\n",
       "      <td>1350</td>\n",
       "      <td>1298</td>\n",
       "      <td>1172</td>\n",
       "      <td>384</td>\n",
       "      <td>513</td>\n",
       "      <td>1032</td>\n",
       "      <td>933</td>\n",
       "    </tr>\n",
       "    <tr>\n",
       "      <th>4</th>\n",
       "      <td>4</td>\n",
       "      <td>3294</td>\n",
       "      <td>6th/Lavaca</td>\n",
       "      <td>active</td>\n",
       "      <td>(30.268887, -97.745242)</td>\n",
       "      <td>601 Lavaca St.</td>\n",
       "      <td>NaN</td>\n",
       "      <td>32515.0</td>\n",
       "      <td>sidewalk</td>\n",
       "      <td>12.0</td>\n",
       "      <td>solar</td>\n",
       "      <td>25.0</td>\n",
       "      <td>8.0</td>\n",
       "      <td>double sided, remeasure</td>\n",
       "      <td>9</td>\n",
       "      <td>NaN</td>\n",
       "      <td>03/04/2022 10:21:00 AM</td>\n",
       "      <td>30.268887</td>\n",
       "      <td>-97.745242</td>\n",
       "      <td>POINT (-97.745242 30.268887)</td>\n",
       "      <td>DOWNTOWN</td>\n",
       "      <td>30.268887</td>\n",
       "      <td>-97.745242</td>\n",
       "      <td>0</td>\n",
       "      <td>0</td>\n",
       "      <td>698</td>\n",
       "      <td>2474</td>\n",
       "      <td>2555</td>\n",
       "      <td>1588</td>\n",
       "      <td>411</td>\n",
       "      <td>349</td>\n",
       "      <td>684</td>\n",
       "      <td>967</td>\n",
       "    </tr>\n",
       "  </tbody>\n",
       "</table>\n",
       "</div>"
      ],
      "text/plain": [
       "   Unnamed: 0  Kiosk ID                            Kiosk Name Kiosk Status  \\\n",
       "0           0      2823  East 5th/Broadway @ Capital Metro HQ       active   \n",
       "1           1      3291                      11th/San Jacinto       active   \n",
       "2           2      3292                       East 4th/Chicon       active   \n",
       "3           3      3293                   East 2nd/Pedernales       active   \n",
       "4           4      3294                            6th/Lavaca       active   \n",
       "\n",
       "                  Location            Address Alternate Name  \\\n",
       "0     (30.2563, -97.71007)      2910 E 5th St            NaN   \n",
       "1    (30.27193, -97.73854)    310 E. 11th St.            NaN   \n",
       "2    (30.25987, -97.72373)  1819 East 4th St.            NaN   \n",
       "3    (30.25542, -97.71665)      2414 E 2nd St            NaN   \n",
       "4  (30.268887, -97.745242)     601 Lavaca St.            NaN   \n",
       "\n",
       "   City Asset Number         Property Type  Number of Docks Power Type  \\\n",
       "0            16684.0  undetermined_parking             13.0      solar   \n",
       "1            32503.0              sidewalk             11.0      solar   \n",
       "2            32516.0  undetermined_parking              9.0      solar   \n",
       "3            16729.0    nonmetered_parking             10.0      solar   \n",
       "4            32515.0              sidewalk             12.0      solar   \n",
       "\n",
       "   Footprint Length  Footprint Width  \\\n",
       "0              40.0              5.0   \n",
       "1              35.0              5.0   \n",
       "2              30.0              5.0   \n",
       "3              20.0             15.0   \n",
       "4              25.0              8.0   \n",
       "\n",
       "                                               Notes  Council District  Image  \\\n",
       "0                                                NaN                 3    NaN   \n",
       "1                                                NaN                 1    NaN   \n",
       "2                                                NaN                 3    NaN   \n",
       "3  Kiosk replaced by Barton Sp/Riverside.  Old ci...                 3    NaN   \n",
       "4                            double sided, remeasure                 9    NaN   \n",
       "\n",
       "            Modified Date   Latitude  Longitude                      geometry  \\\n",
       "0  01/04/2021 12:00:00 AM  30.256300 -97.710070     POINT (-97.71007 30.2563)   \n",
       "1  01/04/2021 12:00:00 AM  30.271930 -97.738540    POINT (-97.73854 30.27193)   \n",
       "2  01/04/2021 12:00:00 AM  30.259870 -97.723730    POINT (-97.72373 30.25987)   \n",
       "3  01/04/2021 12:00:00 AM  30.255420 -97.716650    POINT (-97.71665 30.25542)   \n",
       "4  03/04/2022 10:21:00 AM  30.268887 -97.745242  POINT (-97.745242 30.268887)   \n",
       "\n",
       "        Neighborhood        Lat        Lon  Rides_2013  Rides_2014  \\\n",
       "0            GOVALLE  30.256300 -97.710070           0         282   \n",
       "1           DOWNTOWN  30.271930 -97.738540           0           0   \n",
       "2  EAST CESAR CHAVEZ  30.259870 -97.723730           0           0   \n",
       "3              HOLLY  30.255420 -97.716650           0           0   \n",
       "4           DOWNTOWN  30.268887 -97.745242           0           0   \n",
       "\n",
       "   Rides_2015  Rides_2016  Rides_2017  Rides_2018  Rides_2019  Rides_2020  \\\n",
       "0         901         723         827         589         316         496   \n",
       "1         551        1496        1347        1188         422        1030   \n",
       "2         465        1533        1930        1526         604         614   \n",
       "3         423        1350        1298        1172         384         513   \n",
       "4         698        2474        2555        1588         411         349   \n",
       "\n",
       "   Rides_2021  Rides_2022  \n",
       "0         912        1118  \n",
       "1        1460         833  \n",
       "2        1665        1401  \n",
       "3        1032         933  \n",
       "4         684         967  "
      ]
     },
     "execution_count": 7,
     "metadata": {},
     "output_type": "execute_result"
    }
   ],
   "source": [
    "kiosk.head()"
   ]
  },
  {
   "cell_type": "markdown",
   "id": "f4c06fd8",
   "metadata": {},
   "source": [
    "# Visualizations"
   ]
  },
  {
   "cell_type": "code",
   "execution_count": 8,
   "id": "c1c8418f",
   "metadata": {},
   "outputs": [],
   "source": [
    "import plotly.express as px\n",
    "import plotly.graph_objects as go"
   ]
  },
  {
   "cell_type": "code",
   "execution_count": 111,
   "id": "a1f2e02f",
   "metadata": {},
   "outputs": [],
   "source": [
    "color_navy = '#112e68'\n",
    "color_light = '#e64e1f' #'#b3006a' #'#EC008C'\n",
    "color_dark = '#cc0079' #'#6a2d94' "
   ]
  },
  {
   "cell_type": "markdown",
   "id": "b0a84bee",
   "metadata": {},
   "source": [
    "# Figure 4"
   ]
  },
  {
   "cell_type": "code",
   "execution_count": 112,
   "id": "de4b8273",
   "metadata": {},
   "outputs": [],
   "source": [
    "import geopandas as gpd\n",
    "from shapely.geometry import Point, Polygon"
   ]
  },
  {
   "cell_type": "code",
   "execution_count": 113,
   "id": "0b1e8435",
   "metadata": {},
   "outputs": [
    {
     "name": "stderr",
     "output_type": "stream",
     "text": [
      "<ipython-input-113-717bee1454b7>:9: FutureWarning:\n",
      "\n",
      "The default value of regex will change from True to False in a future version. In addition, single character regular expressions will*not* be treated as literal strings when regex=True.\n",
      "\n",
      "<ipython-input-113-717bee1454b7>:10: FutureWarning:\n",
      "\n",
      "The default value of regex will change from True to False in a future version. In addition, single character regular expressions will*not* be treated as literal strings when regex=True.\n",
      "\n"
     ]
    }
   ],
   "source": [
    "loc_full = kiosk['Location']\n",
    "loc_full\n",
    "loc_split = loc_full.str.split(',', n=- 1, expand=True)\n",
    "lat_0 = loc_split[0]\n",
    "lon_0 = loc_split[1]\n",
    "\n",
    "# print(lat_0[1][1:-1])\n",
    "\n",
    "lat = lat_0.str.replace('(', '')\n",
    "lon = lon_0.str.replace(')', '')\n",
    "\n",
    "kiosk[\"Latitude\"] = lat.astype('float')\n",
    "kiosk[\"Longitude\"] = lon.astype('float')"
   ]
  },
  {
   "cell_type": "code",
   "execution_count": 114,
   "id": "f8ff463d",
   "metadata": {},
   "outputs": [
    {
     "data": {
      "text/plain": [
       "[<shapely.geometry.point.Point at 0x7fd434b8d4c0>,\n",
       " <shapely.geometry.point.Point at 0x7fd4339c3c40>,\n",
       " <shapely.geometry.point.Point at 0x7fd431e3bfa0>]"
      ]
     },
     "execution_count": 114,
     "metadata": {},
     "output_type": "execute_result"
    }
   ],
   "source": [
    "geometry = [Point(xy) for xy in zip( kiosk[\"Longitude\"], kiosk[\"Latitude\"])]\n",
    "geometry[:3]"
   ]
  },
  {
   "cell_type": "code",
   "execution_count": 115,
   "id": "8ba64be4",
   "metadata": {},
   "outputs": [],
   "source": [
    "crs = \"EPSG:4326\"\n",
    "\n",
    "# create geo-DataFrame\n",
    "kiosk_geo = gpd.GeoDataFrame(kiosk,crs = crs,\n",
    "                         geometry = geometry)"
   ]
  },
  {
   "cell_type": "code",
   "execution_count": 116,
   "id": "43d85ca8",
   "metadata": {},
   "outputs": [
    {
     "name": "stdout",
     "output_type": "stream",
     "text": [
      "30.2485 30.2905\n",
      "-97.77356 -97.71644\n"
     ]
    }
   ],
   "source": [
    "# x and y limits\n",
    "perct = 0.48\n",
    "xdelta = ((1.00-perct)/2)*0.17\n",
    "ydelta = ((1.00-perct)/2)*0.125\n",
    "\n",
    "# x and y ticks\n",
    "perct2 = 0.70\n",
    "ylo = (30.207+ydelta)\n",
    "yhi = (30.332-ydelta)\n",
    "ylen = yhi-ylo\n",
    "ymid = (ylen/2)+ylo\n",
    "ytickhi = ymid + (perct2*(ylen/2))\n",
    "yticklo = ymid - (perct2*(ylen/2))\n",
    "print(yticklo, ytickhi)\n",
    "\n",
    "xlo = (-97.83+xdelta)\n",
    "xhi = (-97.66-xdelta)\n",
    "xlen = xhi-xlo\n",
    "xmid = (xlen/2)+xlo\n",
    "xtickhi = xmid + (perct2*(xlen/2))\n",
    "xticklo = xmid - (perct2*(xlen/2))\n",
    "print(xticklo, xtickhi)"
   ]
  },
  {
   "cell_type": "code",
   "execution_count": 117,
   "id": "b2eca52c",
   "metadata": {
    "scrolled": false
   },
   "outputs": [
    {
     "data": {
      "text/html": [
       "<div>\n",
       "<style scoped>\n",
       "    .dataframe tbody tr th:only-of-type {\n",
       "        vertical-align: middle;\n",
       "    }\n",
       "\n",
       "    .dataframe tbody tr th {\n",
       "        vertical-align: top;\n",
       "    }\n",
       "\n",
       "    .dataframe thead th {\n",
       "        text-align: right;\n",
       "    }\n",
       "</style>\n",
       "<table border=\"1\" class=\"dataframe\">\n",
       "  <thead>\n",
       "    <tr style=\"text-align: right;\">\n",
       "      <th></th>\n",
       "      <th>Unnamed: 0</th>\n",
       "      <th>Kiosk ID</th>\n",
       "      <th>Kiosk Name</th>\n",
       "      <th>Kiosk Status</th>\n",
       "      <th>Location</th>\n",
       "      <th>Address</th>\n",
       "      <th>Alternate Name</th>\n",
       "      <th>City Asset Number</th>\n",
       "      <th>Property Type</th>\n",
       "      <th>Number of Docks</th>\n",
       "      <th>Power Type</th>\n",
       "      <th>Footprint Length</th>\n",
       "      <th>Footprint Width</th>\n",
       "      <th>Notes</th>\n",
       "      <th>Council District</th>\n",
       "      <th>Image</th>\n",
       "      <th>Modified Date</th>\n",
       "      <th>Latitude</th>\n",
       "      <th>Longitude</th>\n",
       "      <th>geometry</th>\n",
       "      <th>Neighborhood</th>\n",
       "      <th>Lat</th>\n",
       "      <th>Lon</th>\n",
       "      <th>Rides_2013</th>\n",
       "      <th>Rides_2014</th>\n",
       "      <th>Rides_2015</th>\n",
       "      <th>Rides_2016</th>\n",
       "      <th>Rides_2017</th>\n",
       "      <th>Rides_2018</th>\n",
       "      <th>Rides_2019</th>\n",
       "      <th>Rides_2020</th>\n",
       "      <th>Rides_2021</th>\n",
       "      <th>Rides_2022</th>\n",
       "    </tr>\n",
       "  </thead>\n",
       "  <tbody>\n",
       "    <tr>\n",
       "      <th>0</th>\n",
       "      <td>0</td>\n",
       "      <td>2823</td>\n",
       "      <td>East 5th/Broadway @ Capital Metro HQ</td>\n",
       "      <td>active</td>\n",
       "      <td>(30.2563, -97.71007)</td>\n",
       "      <td>2910 E 5th St</td>\n",
       "      <td>NaN</td>\n",
       "      <td>16684.0</td>\n",
       "      <td>undetermined_parking</td>\n",
       "      <td>13.0</td>\n",
       "      <td>solar</td>\n",
       "      <td>40.0</td>\n",
       "      <td>5.0</td>\n",
       "      <td>NaN</td>\n",
       "      <td>3</td>\n",
       "      <td>NaN</td>\n",
       "      <td>01/04/2021 12:00:00 AM</td>\n",
       "      <td>30.256300</td>\n",
       "      <td>-97.710070</td>\n",
       "      <td>POINT (-97.71007 30.25630)</td>\n",
       "      <td>GOVALLE</td>\n",
       "      <td>30.256300</td>\n",
       "      <td>-97.710070</td>\n",
       "      <td>0</td>\n",
       "      <td>282</td>\n",
       "      <td>901</td>\n",
       "      <td>723</td>\n",
       "      <td>827</td>\n",
       "      <td>589</td>\n",
       "      <td>316</td>\n",
       "      <td>496</td>\n",
       "      <td>912</td>\n",
       "      <td>1118</td>\n",
       "    </tr>\n",
       "    <tr>\n",
       "      <th>1</th>\n",
       "      <td>1</td>\n",
       "      <td>3291</td>\n",
       "      <td>11th/San Jacinto</td>\n",
       "      <td>active</td>\n",
       "      <td>(30.27193, -97.73854)</td>\n",
       "      <td>310 E. 11th St.</td>\n",
       "      <td>NaN</td>\n",
       "      <td>32503.0</td>\n",
       "      <td>sidewalk</td>\n",
       "      <td>11.0</td>\n",
       "      <td>solar</td>\n",
       "      <td>35.0</td>\n",
       "      <td>5.0</td>\n",
       "      <td>NaN</td>\n",
       "      <td>1</td>\n",
       "      <td>NaN</td>\n",
       "      <td>01/04/2021 12:00:00 AM</td>\n",
       "      <td>30.271930</td>\n",
       "      <td>-97.738540</td>\n",
       "      <td>POINT (-97.73854 30.27193)</td>\n",
       "      <td>DOWNTOWN</td>\n",
       "      <td>30.271930</td>\n",
       "      <td>-97.738540</td>\n",
       "      <td>0</td>\n",
       "      <td>0</td>\n",
       "      <td>551</td>\n",
       "      <td>1496</td>\n",
       "      <td>1347</td>\n",
       "      <td>1188</td>\n",
       "      <td>422</td>\n",
       "      <td>1030</td>\n",
       "      <td>1460</td>\n",
       "      <td>833</td>\n",
       "    </tr>\n",
       "    <tr>\n",
       "      <th>2</th>\n",
       "      <td>2</td>\n",
       "      <td>3292</td>\n",
       "      <td>East 4th/Chicon</td>\n",
       "      <td>active</td>\n",
       "      <td>(30.25987, -97.72373)</td>\n",
       "      <td>1819 East 4th St.</td>\n",
       "      <td>NaN</td>\n",
       "      <td>32516.0</td>\n",
       "      <td>undetermined_parking</td>\n",
       "      <td>9.0</td>\n",
       "      <td>solar</td>\n",
       "      <td>30.0</td>\n",
       "      <td>5.0</td>\n",
       "      <td>NaN</td>\n",
       "      <td>3</td>\n",
       "      <td>NaN</td>\n",
       "      <td>01/04/2021 12:00:00 AM</td>\n",
       "      <td>30.259870</td>\n",
       "      <td>-97.723730</td>\n",
       "      <td>POINT (-97.72373 30.25987)</td>\n",
       "      <td>EAST CESAR CHAVEZ</td>\n",
       "      <td>30.259870</td>\n",
       "      <td>-97.723730</td>\n",
       "      <td>0</td>\n",
       "      <td>0</td>\n",
       "      <td>465</td>\n",
       "      <td>1533</td>\n",
       "      <td>1930</td>\n",
       "      <td>1526</td>\n",
       "      <td>604</td>\n",
       "      <td>614</td>\n",
       "      <td>1665</td>\n",
       "      <td>1401</td>\n",
       "    </tr>\n",
       "    <tr>\n",
       "      <th>3</th>\n",
       "      <td>3</td>\n",
       "      <td>3293</td>\n",
       "      <td>East 2nd/Pedernales</td>\n",
       "      <td>active</td>\n",
       "      <td>(30.25542, -97.71665)</td>\n",
       "      <td>2414 E 2nd St</td>\n",
       "      <td>NaN</td>\n",
       "      <td>16729.0</td>\n",
       "      <td>nonmetered_parking</td>\n",
       "      <td>10.0</td>\n",
       "      <td>solar</td>\n",
       "      <td>20.0</td>\n",
       "      <td>15.0</td>\n",
       "      <td>Kiosk replaced by Barton Sp/Riverside.  Old ci...</td>\n",
       "      <td>3</td>\n",
       "      <td>NaN</td>\n",
       "      <td>01/04/2021 12:00:00 AM</td>\n",
       "      <td>30.255420</td>\n",
       "      <td>-97.716650</td>\n",
       "      <td>POINT (-97.71665 30.25542)</td>\n",
       "      <td>HOLLY</td>\n",
       "      <td>30.255420</td>\n",
       "      <td>-97.716650</td>\n",
       "      <td>0</td>\n",
       "      <td>0</td>\n",
       "      <td>423</td>\n",
       "      <td>1350</td>\n",
       "      <td>1298</td>\n",
       "      <td>1172</td>\n",
       "      <td>384</td>\n",
       "      <td>513</td>\n",
       "      <td>1032</td>\n",
       "      <td>933</td>\n",
       "    </tr>\n",
       "    <tr>\n",
       "      <th>4</th>\n",
       "      <td>4</td>\n",
       "      <td>3294</td>\n",
       "      <td>6th/Lavaca</td>\n",
       "      <td>active</td>\n",
       "      <td>(30.268887, -97.745242)</td>\n",
       "      <td>601 Lavaca St.</td>\n",
       "      <td>NaN</td>\n",
       "      <td>32515.0</td>\n",
       "      <td>sidewalk</td>\n",
       "      <td>12.0</td>\n",
       "      <td>solar</td>\n",
       "      <td>25.0</td>\n",
       "      <td>8.0</td>\n",
       "      <td>double sided, remeasure</td>\n",
       "      <td>9</td>\n",
       "      <td>NaN</td>\n",
       "      <td>03/04/2022 10:21:00 AM</td>\n",
       "      <td>30.268887</td>\n",
       "      <td>-97.745242</td>\n",
       "      <td>POINT (-97.74524 30.26889)</td>\n",
       "      <td>DOWNTOWN</td>\n",
       "      <td>30.268887</td>\n",
       "      <td>-97.745242</td>\n",
       "      <td>0</td>\n",
       "      <td>0</td>\n",
       "      <td>698</td>\n",
       "      <td>2474</td>\n",
       "      <td>2555</td>\n",
       "      <td>1588</td>\n",
       "      <td>411</td>\n",
       "      <td>349</td>\n",
       "      <td>684</td>\n",
       "      <td>967</td>\n",
       "    </tr>\n",
       "  </tbody>\n",
       "</table>\n",
       "</div>"
      ],
      "text/plain": [
       "   Unnamed: 0  Kiosk ID                            Kiosk Name Kiosk Status  \\\n",
       "0           0      2823  East 5th/Broadway @ Capital Metro HQ       active   \n",
       "1           1      3291                      11th/San Jacinto       active   \n",
       "2           2      3292                       East 4th/Chicon       active   \n",
       "3           3      3293                   East 2nd/Pedernales       active   \n",
       "4           4      3294                            6th/Lavaca       active   \n",
       "\n",
       "                  Location            Address Alternate Name  \\\n",
       "0     (30.2563, -97.71007)      2910 E 5th St            NaN   \n",
       "1    (30.27193, -97.73854)    310 E. 11th St.            NaN   \n",
       "2    (30.25987, -97.72373)  1819 East 4th St.            NaN   \n",
       "3    (30.25542, -97.71665)      2414 E 2nd St            NaN   \n",
       "4  (30.268887, -97.745242)     601 Lavaca St.            NaN   \n",
       "\n",
       "   City Asset Number         Property Type  Number of Docks Power Type  \\\n",
       "0            16684.0  undetermined_parking             13.0      solar   \n",
       "1            32503.0              sidewalk             11.0      solar   \n",
       "2            32516.0  undetermined_parking              9.0      solar   \n",
       "3            16729.0    nonmetered_parking             10.0      solar   \n",
       "4            32515.0              sidewalk             12.0      solar   \n",
       "\n",
       "   Footprint Length  Footprint Width  \\\n",
       "0              40.0              5.0   \n",
       "1              35.0              5.0   \n",
       "2              30.0              5.0   \n",
       "3              20.0             15.0   \n",
       "4              25.0              8.0   \n",
       "\n",
       "                                               Notes  Council District  Image  \\\n",
       "0                                                NaN                 3    NaN   \n",
       "1                                                NaN                 1    NaN   \n",
       "2                                                NaN                 3    NaN   \n",
       "3  Kiosk replaced by Barton Sp/Riverside.  Old ci...                 3    NaN   \n",
       "4                            double sided, remeasure                 9    NaN   \n",
       "\n",
       "            Modified Date   Latitude  Longitude                    geometry  \\\n",
       "0  01/04/2021 12:00:00 AM  30.256300 -97.710070  POINT (-97.71007 30.25630)   \n",
       "1  01/04/2021 12:00:00 AM  30.271930 -97.738540  POINT (-97.73854 30.27193)   \n",
       "2  01/04/2021 12:00:00 AM  30.259870 -97.723730  POINT (-97.72373 30.25987)   \n",
       "3  01/04/2021 12:00:00 AM  30.255420 -97.716650  POINT (-97.71665 30.25542)   \n",
       "4  03/04/2022 10:21:00 AM  30.268887 -97.745242  POINT (-97.74524 30.26889)   \n",
       "\n",
       "        Neighborhood        Lat        Lon  Rides_2013  Rides_2014  \\\n",
       "0            GOVALLE  30.256300 -97.710070           0         282   \n",
       "1           DOWNTOWN  30.271930 -97.738540           0           0   \n",
       "2  EAST CESAR CHAVEZ  30.259870 -97.723730           0           0   \n",
       "3              HOLLY  30.255420 -97.716650           0           0   \n",
       "4           DOWNTOWN  30.268887 -97.745242           0           0   \n",
       "\n",
       "   Rides_2015  Rides_2016  Rides_2017  Rides_2018  Rides_2019  Rides_2020  \\\n",
       "0         901         723         827         589         316         496   \n",
       "1         551        1496        1347        1188         422        1030   \n",
       "2         465        1533        1930        1526         604         614   \n",
       "3         423        1350        1298        1172         384         513   \n",
       "4         698        2474        2555        1588         411         349   \n",
       "\n",
       "   Rides_2021  Rides_2022  \n",
       "0         912        1118  \n",
       "1        1460         833  \n",
       "2        1665        1401  \n",
       "3        1032         933  \n",
       "4         684         967  "
      ]
     },
     "execution_count": 117,
     "metadata": {},
     "output_type": "execute_result"
    }
   ],
   "source": [
    "kiosk_geo.head(5)"
   ]
  },
  {
   "cell_type": "code",
   "execution_count": 186,
   "id": "57b87f22",
   "metadata": {},
   "outputs": [],
   "source": [
    "msize_divby = 375"
   ]
  },
  {
   "cell_type": "code",
   "execution_count": 187,
   "id": "d7fc45fe",
   "metadata": {},
   "outputs": [
    {
     "data": {
      "application/vnd.plotly.v1+json": {
       "config": {
        "plotlyServerURL": "https://plotly.com"
       },
       "data": [
        {
         "lat": [
          30.2563,
          30.27193,
          30.25987,
          30.25542,
          30.268887,
          30.27466,
          30.25839,
          30.26455,
          30.26332,
          30.27217,
          30.26406,
          30.28953,
          30.2898,
          30.28354,
          30.283,
          30.26269,
          30.26139,
          30.252,
          30.26214,
          30.24472,
          30.2587,
          30.28039,
          30.27654,
          30.27595,
          30.27624,
          30.267263,
          30.27336,
          30.26912,
          30.26735,
          30.26717,
          30.25971,
          30.26896,
          30.26968,
          30.25226,
          30.26854,
          30.26452,
          30.2659,
          30.26446,
          30.255906,
          30.262,
          30.26032,
          30.27186,
          30.26408,
          30.26634,
          30.2698,
          30.2726,
          30.2696,
          30.25103,
          30.24891,
          30.27041,
          30.26426,
          30.27974,
          30.26217,
          30.25895,
          30.28395,
          30.28576,
          30.26476,
          30.25941,
          30.2678,
          30.26822,
          30.26697,
          30.27616,
          30.25457,
          30.27807,
          30.29439,
          30.2853,
          30.29333,
          30.26754,
          30.2856,
          30.29068,
          30.28728,
          30.27059,
          30.25495,
          30.27489,
          30.27024,
          30.26888,
          30.26969,
          30.26638,
          30.26416,
          30.25802,
          30.26304,
          30.26025,
          30.244961,
          30.24258,
          30.26383,
          30.27106,
          30.2848,
          30.27907,
          30.26587,
          30.26694,
          30.26461,
          30.28118,
          30.25212,
          30.27924,
          30.2741,
          30.2874,
          30.2862,
          30.264327,
          30.260814,
          30.25752616374899,
          30.293172940393987,
          30.287268378033133,
          30.274144170275143
         ],
         "lon": [
          -97.71007,
          -97.73854,
          -97.72373,
          -97.71665,
          -97.745242,
          -97.77028,
          -97.74592,
          -97.73165,
          -97.74508,
          -97.75246,
          -97.76385,
          -97.73695,
          -97.74041,
          -97.73953,
          -97.7375,
          -97.72438,
          -97.77234,
          -97.7346,
          -97.7387,
          -97.72336,
          -97.74872,
          -97.73809,
          -97.74155,
          -97.74739,
          -97.74831,
          -97.747144,
          -97.73805,
          -97.73986,
          -97.73933,
          -97.75484,
          -97.75346,
          -97.72843,
          -97.73074,
          -97.74854,
          -97.73646,
          -97.7712,
          -97.76822,
          -97.75665,
          -97.739949,
          -97.76118,
          -97.71899,
          -97.73997,
          -97.74355,
          -97.74378,
          -97.74186,
          -97.74127,
          -97.75332,
          -97.74926,
          -97.75019,
          -97.75046,
          -97.74023,
          -97.74254,
          -97.72743,
          -97.71475,
          -97.74198,
          -97.74181,
          -97.74678,
          -97.74971,
          -97.75189,
          -97.74285,
          -97.74929,
          -97.74488,
          -97.74258,
          -97.77272,
          -97.78375,
          -97.7467,
          -97.74412,
          -97.74154,
          -97.7335,
          -97.74292,
          -97.74495,
          -97.74441,
          -97.74755,
          -97.76483,
          -97.73578,
          -97.72431,
          -97.71873,
          -97.7214,
          -97.73289,
          -97.7391,
          -97.75824,
          -97.71002,
          -97.751272,
          -97.71726,
          -97.72864,
          -97.74563,
          -97.72756,
          -97.73715,
          -97.76826,
          -97.74939,
          -97.73049,
          -97.75219,
          -97.69807,
          -97.74371,
          -97.73666,
          -97.7478,
          -97.74516,
          -97.736446,
          -97.738086,
          -97.74896370141833,
          -97.74409660233584,
          -97.74658031642245,
          -97.73658827463835
         ],
         "marker": {
          "color": "#112e68",
          "size": [
           1.3226666666666667,
           2.7466666666666666,
           1.6373333333333333,
           1.368,
           0.9306666666666666,
           7.285333333333333,
           4.610666666666667,
           3.6906666666666665,
           2.272,
           2.2106666666666666,
           5.237333333333333,
           3.184,
           3.6826666666666665,
           2.9466666666666668,
           7.48,
           2.152,
           2.074666666666667,
           5.522666666666667,
           2.7093333333333334,
           9.28,
           0,
           0,
           0,
           0,
           0,
           3.1226666666666665,
           2.037333333333333,
           1.0613333333333332,
           1.0133333333333334,
           8.101333333333333,
           4.52,
           0.7413333333333333,
           1.2986666666666666,
           1.704,
           1.728,
           3.368,
           8.181333333333333,
           10.738666666666667,
           10.584,
           3.568,
           1.5813333333333333,
           0,
           4.717333333333333,
           3.792,
           1.9786666666666666,
           4.109333333333334,
           6.1946666666666665,
           1.8053333333333332,
           2.608,
           1.6666666666666667,
           5.2026666666666666,
           0.488,
           3.2666666666666666,
           2.506666666666667,
           5.8613333333333335,
           3.992,
           4.936,
           5.8773333333333335,
           7.472,
           3.957333333333333,
           5.378666666666667,
           1.2293333333333334,
           5.925333333333334,
           2.072,
           1.9786666666666666,
           4.1706666666666665,
           6.856,
           2.608,
           2.84,
           4.634666666666667,
           5.626666666666667,
           1.344,
           3.08,
           2.4106666666666667,
           0.456,
           0.7733333333333333,
           0.7573333333333333,
           0.7386666666666667,
           0,
           0,
           0,
           0,
           0,
           6.509333333333333,
           0,
           0,
           0,
           0,
           0,
           0,
           0,
           0,
           0.04533333333333334,
           0,
           0,
           0,
           0,
           2.2026666666666666,
           5.016,
           0,
           0,
           0,
           0
          ]
         },
         "mode": "markers",
         "type": "scattermapbox"
        }
       ],
       "layout": {
        "autosize": false,
        "font": {
         "color": "Black",
         "family": "Droid Sans",
         "size": 16
        },
        "height": 500,
        "hovermode": "closest",
        "mapbox": {
         "accesstoken": "pk.eyJ1IjoiZmx5aW5nY2FwZSIsImEiOiJjbDd0YWZnc2YwZ3ZzM29yeDQ4bDl3dHZtIn0.q09s_595pGToclUeM8ojQQ",
         "bearing": 0,
         "center": {
          "lat": 30.268485,
          "lon": -97.74091
         },
         "pitch": 0,
         "style": "streets",
         "zoom": 12.25
        },
        "margin": {
         "b": 0,
         "l": 5,
         "pad": 0.2,
         "r": 5,
         "t": 30
        },
        "paper_bgcolor": "White",
        "template": {
         "data": {
          "bar": [
           {
            "error_x": {
             "color": "#2a3f5f"
            },
            "error_y": {
             "color": "#2a3f5f"
            },
            "marker": {
             "line": {
              "color": "#E5ECF6",
              "width": 0.5
             },
             "pattern": {
              "fillmode": "overlay",
              "size": 10,
              "solidity": 0.2
             }
            },
            "type": "bar"
           }
          ],
          "barpolar": [
           {
            "marker": {
             "line": {
              "color": "#E5ECF6",
              "width": 0.5
             },
             "pattern": {
              "fillmode": "overlay",
              "size": 10,
              "solidity": 0.2
             }
            },
            "type": "barpolar"
           }
          ],
          "carpet": [
           {
            "aaxis": {
             "endlinecolor": "#2a3f5f",
             "gridcolor": "white",
             "linecolor": "white",
             "minorgridcolor": "white",
             "startlinecolor": "#2a3f5f"
            },
            "baxis": {
             "endlinecolor": "#2a3f5f",
             "gridcolor": "white",
             "linecolor": "white",
             "minorgridcolor": "white",
             "startlinecolor": "#2a3f5f"
            },
            "type": "carpet"
           }
          ],
          "choropleth": [
           {
            "colorbar": {
             "outlinewidth": 0,
             "ticks": ""
            },
            "type": "choropleth"
           }
          ],
          "contour": [
           {
            "colorbar": {
             "outlinewidth": 0,
             "ticks": ""
            },
            "colorscale": [
             [
              0,
              "#0d0887"
             ],
             [
              0.1111111111111111,
              "#46039f"
             ],
             [
              0.2222222222222222,
              "#7201a8"
             ],
             [
              0.3333333333333333,
              "#9c179e"
             ],
             [
              0.4444444444444444,
              "#bd3786"
             ],
             [
              0.5555555555555556,
              "#d8576b"
             ],
             [
              0.6666666666666666,
              "#ed7953"
             ],
             [
              0.7777777777777778,
              "#fb9f3a"
             ],
             [
              0.8888888888888888,
              "#fdca26"
             ],
             [
              1,
              "#f0f921"
             ]
            ],
            "type": "contour"
           }
          ],
          "contourcarpet": [
           {
            "colorbar": {
             "outlinewidth": 0,
             "ticks": ""
            },
            "type": "contourcarpet"
           }
          ],
          "heatmap": [
           {
            "colorbar": {
             "outlinewidth": 0,
             "ticks": ""
            },
            "colorscale": [
             [
              0,
              "#0d0887"
             ],
             [
              0.1111111111111111,
              "#46039f"
             ],
             [
              0.2222222222222222,
              "#7201a8"
             ],
             [
              0.3333333333333333,
              "#9c179e"
             ],
             [
              0.4444444444444444,
              "#bd3786"
             ],
             [
              0.5555555555555556,
              "#d8576b"
             ],
             [
              0.6666666666666666,
              "#ed7953"
             ],
             [
              0.7777777777777778,
              "#fb9f3a"
             ],
             [
              0.8888888888888888,
              "#fdca26"
             ],
             [
              1,
              "#f0f921"
             ]
            ],
            "type": "heatmap"
           }
          ],
          "heatmapgl": [
           {
            "colorbar": {
             "outlinewidth": 0,
             "ticks": ""
            },
            "colorscale": [
             [
              0,
              "#0d0887"
             ],
             [
              0.1111111111111111,
              "#46039f"
             ],
             [
              0.2222222222222222,
              "#7201a8"
             ],
             [
              0.3333333333333333,
              "#9c179e"
             ],
             [
              0.4444444444444444,
              "#bd3786"
             ],
             [
              0.5555555555555556,
              "#d8576b"
             ],
             [
              0.6666666666666666,
              "#ed7953"
             ],
             [
              0.7777777777777778,
              "#fb9f3a"
             ],
             [
              0.8888888888888888,
              "#fdca26"
             ],
             [
              1,
              "#f0f921"
             ]
            ],
            "type": "heatmapgl"
           }
          ],
          "histogram": [
           {
            "marker": {
             "pattern": {
              "fillmode": "overlay",
              "size": 10,
              "solidity": 0.2
             }
            },
            "type": "histogram"
           }
          ],
          "histogram2d": [
           {
            "colorbar": {
             "outlinewidth": 0,
             "ticks": ""
            },
            "colorscale": [
             [
              0,
              "#0d0887"
             ],
             [
              0.1111111111111111,
              "#46039f"
             ],
             [
              0.2222222222222222,
              "#7201a8"
             ],
             [
              0.3333333333333333,
              "#9c179e"
             ],
             [
              0.4444444444444444,
              "#bd3786"
             ],
             [
              0.5555555555555556,
              "#d8576b"
             ],
             [
              0.6666666666666666,
              "#ed7953"
             ],
             [
              0.7777777777777778,
              "#fb9f3a"
             ],
             [
              0.8888888888888888,
              "#fdca26"
             ],
             [
              1,
              "#f0f921"
             ]
            ],
            "type": "histogram2d"
           }
          ],
          "histogram2dcontour": [
           {
            "colorbar": {
             "outlinewidth": 0,
             "ticks": ""
            },
            "colorscale": [
             [
              0,
              "#0d0887"
             ],
             [
              0.1111111111111111,
              "#46039f"
             ],
             [
              0.2222222222222222,
              "#7201a8"
             ],
             [
              0.3333333333333333,
              "#9c179e"
             ],
             [
              0.4444444444444444,
              "#bd3786"
             ],
             [
              0.5555555555555556,
              "#d8576b"
             ],
             [
              0.6666666666666666,
              "#ed7953"
             ],
             [
              0.7777777777777778,
              "#fb9f3a"
             ],
             [
              0.8888888888888888,
              "#fdca26"
             ],
             [
              1,
              "#f0f921"
             ]
            ],
            "type": "histogram2dcontour"
           }
          ],
          "mesh3d": [
           {
            "colorbar": {
             "outlinewidth": 0,
             "ticks": ""
            },
            "type": "mesh3d"
           }
          ],
          "parcoords": [
           {
            "line": {
             "colorbar": {
              "outlinewidth": 0,
              "ticks": ""
             }
            },
            "type": "parcoords"
           }
          ],
          "pie": [
           {
            "automargin": true,
            "type": "pie"
           }
          ],
          "scatter": [
           {
            "marker": {
             "colorbar": {
              "outlinewidth": 0,
              "ticks": ""
             }
            },
            "type": "scatter"
           }
          ],
          "scatter3d": [
           {
            "line": {
             "colorbar": {
              "outlinewidth": 0,
              "ticks": ""
             }
            },
            "marker": {
             "colorbar": {
              "outlinewidth": 0,
              "ticks": ""
             }
            },
            "type": "scatter3d"
           }
          ],
          "scattercarpet": [
           {
            "marker": {
             "colorbar": {
              "outlinewidth": 0,
              "ticks": ""
             }
            },
            "type": "scattercarpet"
           }
          ],
          "scattergeo": [
           {
            "marker": {
             "colorbar": {
              "outlinewidth": 0,
              "ticks": ""
             }
            },
            "type": "scattergeo"
           }
          ],
          "scattergl": [
           {
            "marker": {
             "colorbar": {
              "outlinewidth": 0,
              "ticks": ""
             }
            },
            "type": "scattergl"
           }
          ],
          "scattermapbox": [
           {
            "marker": {
             "colorbar": {
              "outlinewidth": 0,
              "ticks": ""
             }
            },
            "type": "scattermapbox"
           }
          ],
          "scatterpolar": [
           {
            "marker": {
             "colorbar": {
              "outlinewidth": 0,
              "ticks": ""
             }
            },
            "type": "scatterpolar"
           }
          ],
          "scatterpolargl": [
           {
            "marker": {
             "colorbar": {
              "outlinewidth": 0,
              "ticks": ""
             }
            },
            "type": "scatterpolargl"
           }
          ],
          "scatterternary": [
           {
            "marker": {
             "colorbar": {
              "outlinewidth": 0,
              "ticks": ""
             }
            },
            "type": "scatterternary"
           }
          ],
          "surface": [
           {
            "colorbar": {
             "outlinewidth": 0,
             "ticks": ""
            },
            "colorscale": [
             [
              0,
              "#0d0887"
             ],
             [
              0.1111111111111111,
              "#46039f"
             ],
             [
              0.2222222222222222,
              "#7201a8"
             ],
             [
              0.3333333333333333,
              "#9c179e"
             ],
             [
              0.4444444444444444,
              "#bd3786"
             ],
             [
              0.5555555555555556,
              "#d8576b"
             ],
             [
              0.6666666666666666,
              "#ed7953"
             ],
             [
              0.7777777777777778,
              "#fb9f3a"
             ],
             [
              0.8888888888888888,
              "#fdca26"
             ],
             [
              1,
              "#f0f921"
             ]
            ],
            "type": "surface"
           }
          ],
          "table": [
           {
            "cells": {
             "fill": {
              "color": "#EBF0F8"
             },
             "line": {
              "color": "white"
             }
            },
            "header": {
             "fill": {
              "color": "#C8D4E3"
             },
             "line": {
              "color": "white"
             }
            },
            "type": "table"
           }
          ]
         },
         "layout": {
          "annotationdefaults": {
           "arrowcolor": "#2a3f5f",
           "arrowhead": 0,
           "arrowwidth": 1
          },
          "autotypenumbers": "strict",
          "coloraxis": {
           "colorbar": {
            "outlinewidth": 0,
            "ticks": ""
           }
          },
          "colorscale": {
           "diverging": [
            [
             0,
             "#8e0152"
            ],
            [
             0.1,
             "#c51b7d"
            ],
            [
             0.2,
             "#de77ae"
            ],
            [
             0.3,
             "#f1b6da"
            ],
            [
             0.4,
             "#fde0ef"
            ],
            [
             0.5,
             "#f7f7f7"
            ],
            [
             0.6,
             "#e6f5d0"
            ],
            [
             0.7,
             "#b8e186"
            ],
            [
             0.8,
             "#7fbc41"
            ],
            [
             0.9,
             "#4d9221"
            ],
            [
             1,
             "#276419"
            ]
           ],
           "sequential": [
            [
             0,
             "#0d0887"
            ],
            [
             0.1111111111111111,
             "#46039f"
            ],
            [
             0.2222222222222222,
             "#7201a8"
            ],
            [
             0.3333333333333333,
             "#9c179e"
            ],
            [
             0.4444444444444444,
             "#bd3786"
            ],
            [
             0.5555555555555556,
             "#d8576b"
            ],
            [
             0.6666666666666666,
             "#ed7953"
            ],
            [
             0.7777777777777778,
             "#fb9f3a"
            ],
            [
             0.8888888888888888,
             "#fdca26"
            ],
            [
             1,
             "#f0f921"
            ]
           ],
           "sequentialminus": [
            [
             0,
             "#0d0887"
            ],
            [
             0.1111111111111111,
             "#46039f"
            ],
            [
             0.2222222222222222,
             "#7201a8"
            ],
            [
             0.3333333333333333,
             "#9c179e"
            ],
            [
             0.4444444444444444,
             "#bd3786"
            ],
            [
             0.5555555555555556,
             "#d8576b"
            ],
            [
             0.6666666666666666,
             "#ed7953"
            ],
            [
             0.7777777777777778,
             "#fb9f3a"
            ],
            [
             0.8888888888888888,
             "#fdca26"
            ],
            [
             1,
             "#f0f921"
            ]
           ]
          },
          "colorway": [
           "#636efa",
           "#EF553B",
           "#00cc96",
           "#ab63fa",
           "#FFA15A",
           "#19d3f3",
           "#FF6692",
           "#B6E880",
           "#FF97FF",
           "#FECB52"
          ],
          "font": {
           "color": "#2a3f5f"
          },
          "geo": {
           "bgcolor": "white",
           "lakecolor": "white",
           "landcolor": "#E5ECF6",
           "showlakes": true,
           "showland": true,
           "subunitcolor": "white"
          },
          "hoverlabel": {
           "align": "left"
          },
          "hovermode": "closest",
          "mapbox": {
           "style": "light"
          },
          "paper_bgcolor": "white",
          "plot_bgcolor": "#E5ECF6",
          "polar": {
           "angularaxis": {
            "gridcolor": "white",
            "linecolor": "white",
            "ticks": ""
           },
           "bgcolor": "#E5ECF6",
           "radialaxis": {
            "gridcolor": "white",
            "linecolor": "white",
            "ticks": ""
           }
          },
          "scene": {
           "xaxis": {
            "backgroundcolor": "#E5ECF6",
            "gridcolor": "white",
            "gridwidth": 2,
            "linecolor": "white",
            "showbackground": true,
            "ticks": "",
            "zerolinecolor": "white"
           },
           "yaxis": {
            "backgroundcolor": "#E5ECF6",
            "gridcolor": "white",
            "gridwidth": 2,
            "linecolor": "white",
            "showbackground": true,
            "ticks": "",
            "zerolinecolor": "white"
           },
           "zaxis": {
            "backgroundcolor": "#E5ECF6",
            "gridcolor": "white",
            "gridwidth": 2,
            "linecolor": "white",
            "showbackground": true,
            "ticks": "",
            "zerolinecolor": "white"
           }
          },
          "shapedefaults": {
           "line": {
            "color": "#2a3f5f"
           }
          },
          "ternary": {
           "aaxis": {
            "gridcolor": "white",
            "linecolor": "white",
            "ticks": ""
           },
           "baxis": {
            "gridcolor": "white",
            "linecolor": "white",
            "ticks": ""
           },
           "bgcolor": "#E5ECF6",
           "caxis": {
            "gridcolor": "white",
            "linecolor": "white",
            "ticks": ""
           }
          },
          "title": {
           "x": 0.05
          },
          "xaxis": {
           "automargin": true,
           "gridcolor": "white",
           "linecolor": "white",
           "ticks": "",
           "title": {
            "standoff": 15
           },
           "zerolinecolor": "white",
           "zerolinewidth": 2
          },
          "yaxis": {
           "automargin": true,
           "gridcolor": "white",
           "linecolor": "white",
           "ticks": "",
           "title": {
            "standoff": 15
           },
           "zerolinecolor": "white",
           "zerolinewidth": 2
          }
         }
        },
        "title": {
         "text": "2020",
         "x": 0.5,
         "xanchor": "center",
         "y": 0.984,
         "yanchor": "top"
        },
        "width": 750
       }
      },
      "text/html": [
       "<div>                            <div id=\"39528e1a-3bc3-463d-bc41-cd0d7db9a931\" class=\"plotly-graph-div\" style=\"height:500px; width:750px;\"></div>            <script type=\"text/javascript\">                require([\"plotly\"], function(Plotly) {                    window.PLOTLYENV=window.PLOTLYENV || {};                                    if (document.getElementById(\"39528e1a-3bc3-463d-bc41-cd0d7db9a931\")) {                    Plotly.newPlot(                        \"39528e1a-3bc3-463d-bc41-cd0d7db9a931\",                        [{\"lat\":[30.2563,30.27193,30.25987,30.25542,30.268887,30.27466,30.25839,30.26455,30.26332,30.27217,30.26406,30.28953,30.2898,30.28354,30.283,30.26269,30.26139,30.252,30.26214,30.24472,30.2587,30.28039,30.27654,30.27595,30.27624,30.267263,30.27336,30.26912,30.26735,30.26717,30.25971,30.26896,30.26968,30.25226,30.26854,30.26452,30.2659,30.26446,30.255906,30.262,30.26032,30.27186,30.26408,30.26634,30.2698,30.2726,30.2696,30.25103,30.24891,30.27041,30.26426,30.27974,30.26217,30.25895,30.28395,30.28576,30.26476,30.25941,30.2678,30.26822,30.26697,30.27616,30.25457,30.27807,30.29439,30.2853,30.29333,30.26754,30.2856,30.29068,30.28728,30.27059,30.25495,30.27489,30.27024,30.26888,30.26969,30.26638,30.26416,30.25802,30.26304,30.26025,30.244961,30.24258,30.26383,30.27106,30.2848,30.27907,30.26587,30.26694,30.26461,30.28118,30.25212,30.27924,30.2741,30.2874,30.2862,30.264327,30.260814,30.25752616374899,30.293172940393987,30.287268378033133,30.274144170275143],\"lon\":[-97.71007,-97.73854,-97.72373,-97.71665,-97.745242,-97.77028,-97.74592,-97.73165,-97.74508,-97.75246,-97.76385,-97.73695,-97.74041,-97.73953,-97.7375,-97.72438,-97.77234,-97.7346,-97.7387,-97.72336,-97.74872,-97.73809,-97.74155,-97.74739,-97.74831,-97.747144,-97.73805,-97.73986,-97.73933,-97.75484,-97.75346,-97.72843,-97.73074,-97.74854,-97.73646,-97.7712,-97.76822,-97.75665,-97.739949,-97.76118,-97.71899,-97.73997,-97.74355,-97.74378,-97.74186,-97.74127,-97.75332,-97.74926,-97.75019,-97.75046,-97.74023,-97.74254,-97.72743,-97.71475,-97.74198,-97.74181,-97.74678,-97.74971,-97.75189,-97.74285,-97.74929,-97.74488,-97.74258,-97.77272,-97.78375,-97.7467,-97.74412,-97.74154,-97.7335,-97.74292,-97.74495,-97.74441,-97.74755,-97.76483,-97.73578,-97.72431,-97.71873,-97.7214,-97.73289,-97.7391,-97.75824,-97.71002,-97.751272,-97.71726,-97.72864,-97.74563,-97.72756,-97.73715,-97.76826,-97.74939,-97.73049,-97.75219,-97.69807,-97.74371,-97.73666,-97.7478,-97.74516,-97.736446,-97.738086,-97.74896370141833,-97.74409660233584,-97.74658031642245,-97.73658827463835],\"marker\":{\"color\":\"#112e68\",\"size\":[1.3226666666666667,2.7466666666666666,1.6373333333333333,1.368,0.9306666666666666,7.285333333333333,4.610666666666667,3.6906666666666665,2.272,2.2106666666666666,5.237333333333333,3.184,3.6826666666666665,2.9466666666666668,7.48,2.152,2.074666666666667,5.522666666666667,2.7093333333333334,9.28,0.0,0.0,0.0,0.0,0.0,3.1226666666666665,2.037333333333333,1.0613333333333332,1.0133333333333334,8.101333333333333,4.52,0.7413333333333333,1.2986666666666666,1.704,1.728,3.368,8.181333333333333,10.738666666666667,10.584,3.568,1.5813333333333333,0.0,4.717333333333333,3.792,1.9786666666666666,4.109333333333334,6.1946666666666665,1.8053333333333332,2.608,1.6666666666666667,5.2026666666666666,0.488,3.2666666666666666,2.506666666666667,5.8613333333333335,3.992,4.936,5.8773333333333335,7.472,3.957333333333333,5.378666666666667,1.2293333333333334,5.925333333333334,2.072,1.9786666666666666,4.1706666666666665,6.856,2.608,2.84,4.634666666666667,5.626666666666667,1.344,3.08,2.4106666666666667,0.456,0.7733333333333333,0.7573333333333333,0.7386666666666667,0.0,0.0,0.0,0.0,0.0,6.509333333333333,0.0,0.0,0.0,0.0,0.0,0.0,0.0,0.0,0.04533333333333334,0.0,0.0,0.0,0.0,2.2026666666666666,5.016,0.0,0.0,0.0,0.0]},\"mode\":\"markers\",\"type\":\"scattermapbox\"}],                        {\"autosize\":false,\"font\":{\"color\":\"Black\",\"family\":\"Droid Sans\",\"size\":16},\"height\":500,\"hovermode\":\"closest\",\"mapbox\":{\"accesstoken\":\"pk.eyJ1IjoiZmx5aW5nY2FwZSIsImEiOiJjbDd0YWZnc2YwZ3ZzM29yeDQ4bDl3dHZtIn0.q09s_595pGToclUeM8ojQQ\",\"bearing\":0,\"center\":{\"lat\":30.268485,\"lon\":-97.74091},\"pitch\":0,\"style\":\"streets\",\"zoom\":12.25},\"margin\":{\"b\":0,\"l\":5,\"pad\":0.2,\"r\":5,\"t\":30},\"paper_bgcolor\":\"White\",\"template\":{\"data\":{\"bar\":[{\"error_x\":{\"color\":\"#2a3f5f\"},\"error_y\":{\"color\":\"#2a3f5f\"},\"marker\":{\"line\":{\"color\":\"#E5ECF6\",\"width\":0.5},\"pattern\":{\"fillmode\":\"overlay\",\"size\":10,\"solidity\":0.2}},\"type\":\"bar\"}],\"barpolar\":[{\"marker\":{\"line\":{\"color\":\"#E5ECF6\",\"width\":0.5},\"pattern\":{\"fillmode\":\"overlay\",\"size\":10,\"solidity\":0.2}},\"type\":\"barpolar\"}],\"carpet\":[{\"aaxis\":{\"endlinecolor\":\"#2a3f5f\",\"gridcolor\":\"white\",\"linecolor\":\"white\",\"minorgridcolor\":\"white\",\"startlinecolor\":\"#2a3f5f\"},\"baxis\":{\"endlinecolor\":\"#2a3f5f\",\"gridcolor\":\"white\",\"linecolor\":\"white\",\"minorgridcolor\":\"white\",\"startlinecolor\":\"#2a3f5f\"},\"type\":\"carpet\"}],\"choropleth\":[{\"colorbar\":{\"outlinewidth\":0,\"ticks\":\"\"},\"type\":\"choropleth\"}],\"contour\":[{\"colorbar\":{\"outlinewidth\":0,\"ticks\":\"\"},\"colorscale\":[[0.0,\"#0d0887\"],[0.1111111111111111,\"#46039f\"],[0.2222222222222222,\"#7201a8\"],[0.3333333333333333,\"#9c179e\"],[0.4444444444444444,\"#bd3786\"],[0.5555555555555556,\"#d8576b\"],[0.6666666666666666,\"#ed7953\"],[0.7777777777777778,\"#fb9f3a\"],[0.8888888888888888,\"#fdca26\"],[1.0,\"#f0f921\"]],\"type\":\"contour\"}],\"contourcarpet\":[{\"colorbar\":{\"outlinewidth\":0,\"ticks\":\"\"},\"type\":\"contourcarpet\"}],\"heatmap\":[{\"colorbar\":{\"outlinewidth\":0,\"ticks\":\"\"},\"colorscale\":[[0.0,\"#0d0887\"],[0.1111111111111111,\"#46039f\"],[0.2222222222222222,\"#7201a8\"],[0.3333333333333333,\"#9c179e\"],[0.4444444444444444,\"#bd3786\"],[0.5555555555555556,\"#d8576b\"],[0.6666666666666666,\"#ed7953\"],[0.7777777777777778,\"#fb9f3a\"],[0.8888888888888888,\"#fdca26\"],[1.0,\"#f0f921\"]],\"type\":\"heatmap\"}],\"heatmapgl\":[{\"colorbar\":{\"outlinewidth\":0,\"ticks\":\"\"},\"colorscale\":[[0.0,\"#0d0887\"],[0.1111111111111111,\"#46039f\"],[0.2222222222222222,\"#7201a8\"],[0.3333333333333333,\"#9c179e\"],[0.4444444444444444,\"#bd3786\"],[0.5555555555555556,\"#d8576b\"],[0.6666666666666666,\"#ed7953\"],[0.7777777777777778,\"#fb9f3a\"],[0.8888888888888888,\"#fdca26\"],[1.0,\"#f0f921\"]],\"type\":\"heatmapgl\"}],\"histogram\":[{\"marker\":{\"pattern\":{\"fillmode\":\"overlay\",\"size\":10,\"solidity\":0.2}},\"type\":\"histogram\"}],\"histogram2d\":[{\"colorbar\":{\"outlinewidth\":0,\"ticks\":\"\"},\"colorscale\":[[0.0,\"#0d0887\"],[0.1111111111111111,\"#46039f\"],[0.2222222222222222,\"#7201a8\"],[0.3333333333333333,\"#9c179e\"],[0.4444444444444444,\"#bd3786\"],[0.5555555555555556,\"#d8576b\"],[0.6666666666666666,\"#ed7953\"],[0.7777777777777778,\"#fb9f3a\"],[0.8888888888888888,\"#fdca26\"],[1.0,\"#f0f921\"]],\"type\":\"histogram2d\"}],\"histogram2dcontour\":[{\"colorbar\":{\"outlinewidth\":0,\"ticks\":\"\"},\"colorscale\":[[0.0,\"#0d0887\"],[0.1111111111111111,\"#46039f\"],[0.2222222222222222,\"#7201a8\"],[0.3333333333333333,\"#9c179e\"],[0.4444444444444444,\"#bd3786\"],[0.5555555555555556,\"#d8576b\"],[0.6666666666666666,\"#ed7953\"],[0.7777777777777778,\"#fb9f3a\"],[0.8888888888888888,\"#fdca26\"],[1.0,\"#f0f921\"]],\"type\":\"histogram2dcontour\"}],\"mesh3d\":[{\"colorbar\":{\"outlinewidth\":0,\"ticks\":\"\"},\"type\":\"mesh3d\"}],\"parcoords\":[{\"line\":{\"colorbar\":{\"outlinewidth\":0,\"ticks\":\"\"}},\"type\":\"parcoords\"}],\"pie\":[{\"automargin\":true,\"type\":\"pie\"}],\"scatter\":[{\"marker\":{\"colorbar\":{\"outlinewidth\":0,\"ticks\":\"\"}},\"type\":\"scatter\"}],\"scatter3d\":[{\"line\":{\"colorbar\":{\"outlinewidth\":0,\"ticks\":\"\"}},\"marker\":{\"colorbar\":{\"outlinewidth\":0,\"ticks\":\"\"}},\"type\":\"scatter3d\"}],\"scattercarpet\":[{\"marker\":{\"colorbar\":{\"outlinewidth\":0,\"ticks\":\"\"}},\"type\":\"scattercarpet\"}],\"scattergeo\":[{\"marker\":{\"colorbar\":{\"outlinewidth\":0,\"ticks\":\"\"}},\"type\":\"scattergeo\"}],\"scattergl\":[{\"marker\":{\"colorbar\":{\"outlinewidth\":0,\"ticks\":\"\"}},\"type\":\"scattergl\"}],\"scattermapbox\":[{\"marker\":{\"colorbar\":{\"outlinewidth\":0,\"ticks\":\"\"}},\"type\":\"scattermapbox\"}],\"scatterpolar\":[{\"marker\":{\"colorbar\":{\"outlinewidth\":0,\"ticks\":\"\"}},\"type\":\"scatterpolar\"}],\"scatterpolargl\":[{\"marker\":{\"colorbar\":{\"outlinewidth\":0,\"ticks\":\"\"}},\"type\":\"scatterpolargl\"}],\"scatterternary\":[{\"marker\":{\"colorbar\":{\"outlinewidth\":0,\"ticks\":\"\"}},\"type\":\"scatterternary\"}],\"surface\":[{\"colorbar\":{\"outlinewidth\":0,\"ticks\":\"\"},\"colorscale\":[[0.0,\"#0d0887\"],[0.1111111111111111,\"#46039f\"],[0.2222222222222222,\"#7201a8\"],[0.3333333333333333,\"#9c179e\"],[0.4444444444444444,\"#bd3786\"],[0.5555555555555556,\"#d8576b\"],[0.6666666666666666,\"#ed7953\"],[0.7777777777777778,\"#fb9f3a\"],[0.8888888888888888,\"#fdca26\"],[1.0,\"#f0f921\"]],\"type\":\"surface\"}],\"table\":[{\"cells\":{\"fill\":{\"color\":\"#EBF0F8\"},\"line\":{\"color\":\"white\"}},\"header\":{\"fill\":{\"color\":\"#C8D4E3\"},\"line\":{\"color\":\"white\"}},\"type\":\"table\"}]},\"layout\":{\"annotationdefaults\":{\"arrowcolor\":\"#2a3f5f\",\"arrowhead\":0,\"arrowwidth\":1},\"autotypenumbers\":\"strict\",\"coloraxis\":{\"colorbar\":{\"outlinewidth\":0,\"ticks\":\"\"}},\"colorscale\":{\"diverging\":[[0,\"#8e0152\"],[0.1,\"#c51b7d\"],[0.2,\"#de77ae\"],[0.3,\"#f1b6da\"],[0.4,\"#fde0ef\"],[0.5,\"#f7f7f7\"],[0.6,\"#e6f5d0\"],[0.7,\"#b8e186\"],[0.8,\"#7fbc41\"],[0.9,\"#4d9221\"],[1,\"#276419\"]],\"sequential\":[[0.0,\"#0d0887\"],[0.1111111111111111,\"#46039f\"],[0.2222222222222222,\"#7201a8\"],[0.3333333333333333,\"#9c179e\"],[0.4444444444444444,\"#bd3786\"],[0.5555555555555556,\"#d8576b\"],[0.6666666666666666,\"#ed7953\"],[0.7777777777777778,\"#fb9f3a\"],[0.8888888888888888,\"#fdca26\"],[1.0,\"#f0f921\"]],\"sequentialminus\":[[0.0,\"#0d0887\"],[0.1111111111111111,\"#46039f\"],[0.2222222222222222,\"#7201a8\"],[0.3333333333333333,\"#9c179e\"],[0.4444444444444444,\"#bd3786\"],[0.5555555555555556,\"#d8576b\"],[0.6666666666666666,\"#ed7953\"],[0.7777777777777778,\"#fb9f3a\"],[0.8888888888888888,\"#fdca26\"],[1.0,\"#f0f921\"]]},\"colorway\":[\"#636efa\",\"#EF553B\",\"#00cc96\",\"#ab63fa\",\"#FFA15A\",\"#19d3f3\",\"#FF6692\",\"#B6E880\",\"#FF97FF\",\"#FECB52\"],\"font\":{\"color\":\"#2a3f5f\"},\"geo\":{\"bgcolor\":\"white\",\"lakecolor\":\"white\",\"landcolor\":\"#E5ECF6\",\"showlakes\":true,\"showland\":true,\"subunitcolor\":\"white\"},\"hoverlabel\":{\"align\":\"left\"},\"hovermode\":\"closest\",\"mapbox\":{\"style\":\"light\"},\"paper_bgcolor\":\"white\",\"plot_bgcolor\":\"#E5ECF6\",\"polar\":{\"angularaxis\":{\"gridcolor\":\"white\",\"linecolor\":\"white\",\"ticks\":\"\"},\"bgcolor\":\"#E5ECF6\",\"radialaxis\":{\"gridcolor\":\"white\",\"linecolor\":\"white\",\"ticks\":\"\"}},\"scene\":{\"xaxis\":{\"backgroundcolor\":\"#E5ECF6\",\"gridcolor\":\"white\",\"gridwidth\":2,\"linecolor\":\"white\",\"showbackground\":true,\"ticks\":\"\",\"zerolinecolor\":\"white\"},\"yaxis\":{\"backgroundcolor\":\"#E5ECF6\",\"gridcolor\":\"white\",\"gridwidth\":2,\"linecolor\":\"white\",\"showbackground\":true,\"ticks\":\"\",\"zerolinecolor\":\"white\"},\"zaxis\":{\"backgroundcolor\":\"#E5ECF6\",\"gridcolor\":\"white\",\"gridwidth\":2,\"linecolor\":\"white\",\"showbackground\":true,\"ticks\":\"\",\"zerolinecolor\":\"white\"}},\"shapedefaults\":{\"line\":{\"color\":\"#2a3f5f\"}},\"ternary\":{\"aaxis\":{\"gridcolor\":\"white\",\"linecolor\":\"white\",\"ticks\":\"\"},\"baxis\":{\"gridcolor\":\"white\",\"linecolor\":\"white\",\"ticks\":\"\"},\"bgcolor\":\"#E5ECF6\",\"caxis\":{\"gridcolor\":\"white\",\"linecolor\":\"white\",\"ticks\":\"\"}},\"title\":{\"x\":0.05},\"xaxis\":{\"automargin\":true,\"gridcolor\":\"white\",\"linecolor\":\"white\",\"ticks\":\"\",\"title\":{\"standoff\":15},\"zerolinecolor\":\"white\",\"zerolinewidth\":2},\"yaxis\":{\"automargin\":true,\"gridcolor\":\"white\",\"linecolor\":\"white\",\"ticks\":\"\",\"title\":{\"standoff\":15},\"zerolinecolor\":\"white\",\"zerolinewidth\":2}}},\"title\":{\"text\":\"2020\",\"x\":0.5,\"xanchor\":\"center\",\"y\":0.984,\"yanchor\":\"top\"},\"width\":750},                        {\"responsive\": true}                    ).then(function(){\n",
       "                            \n",
       "var gd = document.getElementById('39528e1a-3bc3-463d-bc41-cd0d7db9a931');\n",
       "var x = new MutationObserver(function (mutations, observer) {{\n",
       "        var display = window.getComputedStyle(gd).display;\n",
       "        if (!display || display === 'none') {{\n",
       "            console.log([gd, 'removed!']);\n",
       "            Plotly.purge(gd);\n",
       "            observer.disconnect();\n",
       "        }}\n",
       "}});\n",
       "\n",
       "// Listen for the removal of the full notebook cells\n",
       "var notebookContainer = gd.closest('#notebook-container');\n",
       "if (notebookContainer) {{\n",
       "    x.observe(notebookContainer, {childList: true});\n",
       "}}\n",
       "\n",
       "// Listen for the clearing of the current output cell\n",
       "var outputEl = gd.closest('.output');\n",
       "if (outputEl) {{\n",
       "    x.observe(outputEl, {childList: true});\n",
       "}}\n",
       "\n",
       "                        })                };                });            </script>        </div>"
      ]
     },
     "metadata": {},
     "output_type": "display_data"
    }
   ],
   "source": [
    "#https://plotly.com/python/scattermapbox/\n",
    "   \n",
    "import plotly.graph_objects as go\n",
    "\n",
    "mapbox_access_token = \"pk.eyJ1IjoiZmx5aW5nY2FwZSIsImEiOiJjbDd0YWZnc2YwZ3ZzM29yeDQ4bDl3dHZtIn0.q09s_595pGToclUeM8ojQQ\"\n",
    "\n",
    "fig0 = go.Figure(go.Scattermapbox(\n",
    "        lat = kiosk_geo['Latitude'],\n",
    "        lon = kiosk_geo['Longitude'],\n",
    "        #text = kiosk_geo['text'],\n",
    "        mode='markers',\n",
    "        marker=go.scattermapbox.Marker(\n",
    "            size = kiosk_geo['Rides_2020']/msize_divby, color = color_navy,\n",
    "        ), \n",
    "        ))\n",
    "\n",
    "fig0.update_layout(\n",
    "    hovermode='closest',\n",
    "    mapbox=dict(\n",
    "        accesstoken=mapbox_access_token,\n",
    "        bearing=0,\n",
    "        center=go.layout.mapbox.Center(\n",
    "            lat=(kiosk_geo['Latitude'].min()+kiosk_geo['Latitude'].max())/2,\n",
    "            lon=(kiosk_geo['Longitude'].min()+kiosk_geo['Longitude'].max())/2\n",
    "        ),\n",
    "        pitch=0,\n",
    "        zoom=12.25,\n",
    "        style = 'streets'\n",
    "    ),\n",
    ")\n",
    "\n",
    "fig0.update_layout(\n",
    "    autosize=False,\n",
    "    width=750,\n",
    "    height=500,\n",
    "        margin=dict(\n",
    "        l=0.5,\n",
    "        r=0.5,\n",
    "        b=0.5,\n",
    "        t=0.5,\n",
    "        pad=0.20\n",
    "    ),\n",
    "    paper_bgcolor=\"White\",\n",
    ")\n",
    "\n",
    "fig0.update_layout(margin={\"r\":5,\"t\":30,\"l\":5,\"b\":0},\n",
    "                  font=dict(\n",
    "                    family=\"Droid Sans\",\n",
    "                    size=16,\n",
    "                    color=\"Black\"\n",
    "                    ),\n",
    "                    title={\n",
    "                    'text': \"2020\",\n",
    "                    'y':0.984,\n",
    "                    'x':0.5,\n",
    "                    'xanchor': 'center',\n",
    "                    'yanchor': 'top'}\n",
    "                  )\n",
    "\n",
    "fig0.show()"
   ]
  },
  {
   "cell_type": "code",
   "execution_count": 188,
   "id": "b8354862",
   "metadata": {},
   "outputs": [
    {
     "data": {
      "text/plain": [
       "'https://plotly.com/~flyingcape/51/'"
      ]
     },
     "execution_count": 188,
     "metadata": {},
     "output_type": "execute_result"
    }
   ],
   "source": [
    "import chart_studio\n",
    "username='flyingcape'\n",
    "api_key='NI4xzO3e4BldD5kASCBo'\n",
    "chart_studio.tools.set_credentials_file(username=username,\n",
    "                                        api_key=api_key)\n",
    "\n",
    "import chart_studio.plotly as py\n",
    "\n",
    "py.plot(fig0, filename=\"2020_map\", auto_open = True)"
   ]
  },
  {
   "cell_type": "code",
   "execution_count": 189,
   "id": "4d0d4277",
   "metadata": {},
   "outputs": [
    {
     "data": {
      "application/vnd.plotly.v1+json": {
       "config": {
        "plotlyServerURL": "https://plotly.com"
       },
       "data": [
        {
         "lat": [
          30.2563,
          30.27193,
          30.25987,
          30.25542,
          30.268887,
          30.27466,
          30.25839,
          30.26455,
          30.26332,
          30.27217,
          30.26406,
          30.28953,
          30.2898,
          30.28354,
          30.283,
          30.26269,
          30.26139,
          30.252,
          30.26214,
          30.24472,
          30.2587,
          30.28039,
          30.27654,
          30.27595,
          30.27624,
          30.267263,
          30.27336,
          30.26912,
          30.26735,
          30.26717,
          30.25971,
          30.26896,
          30.26968,
          30.25226,
          30.26854,
          30.26452,
          30.2659,
          30.26446,
          30.255906,
          30.262,
          30.26032,
          30.27186,
          30.26408,
          30.26634,
          30.2698,
          30.2726,
          30.2696,
          30.25103,
          30.24891,
          30.27041,
          30.26426,
          30.27974,
          30.26217,
          30.25895,
          30.28395,
          30.28576,
          30.26476,
          30.25941,
          30.2678,
          30.26822,
          30.26697,
          30.27616,
          30.25457,
          30.27807,
          30.29439,
          30.2853,
          30.29333,
          30.26754,
          30.2856,
          30.29068,
          30.28728,
          30.27059,
          30.25495,
          30.27489,
          30.27024,
          30.26888,
          30.26969,
          30.26638,
          30.26416,
          30.25802,
          30.26304,
          30.26025,
          30.244961,
          30.24258,
          30.26383,
          30.27106,
          30.2848,
          30.27907,
          30.26587,
          30.26694,
          30.26461,
          30.28118,
          30.25212,
          30.27924,
          30.2741,
          30.2874,
          30.2862,
          30.264327,
          30.260814,
          30.25752616374899,
          30.293172940393987,
          30.287268378033133,
          30.274144170275143
         ],
         "lon": [
          -97.71007,
          -97.73854,
          -97.72373,
          -97.71665,
          -97.745242,
          -97.77028,
          -97.74592,
          -97.73165,
          -97.74508,
          -97.75246,
          -97.76385,
          -97.73695,
          -97.74041,
          -97.73953,
          -97.7375,
          -97.72438,
          -97.77234,
          -97.7346,
          -97.7387,
          -97.72336,
          -97.74872,
          -97.73809,
          -97.74155,
          -97.74739,
          -97.74831,
          -97.747144,
          -97.73805,
          -97.73986,
          -97.73933,
          -97.75484,
          -97.75346,
          -97.72843,
          -97.73074,
          -97.74854,
          -97.73646,
          -97.7712,
          -97.76822,
          -97.75665,
          -97.739949,
          -97.76118,
          -97.71899,
          -97.73997,
          -97.74355,
          -97.74378,
          -97.74186,
          -97.74127,
          -97.75332,
          -97.74926,
          -97.75019,
          -97.75046,
          -97.74023,
          -97.74254,
          -97.72743,
          -97.71475,
          -97.74198,
          -97.74181,
          -97.74678,
          -97.74971,
          -97.75189,
          -97.74285,
          -97.74929,
          -97.74488,
          -97.74258,
          -97.77272,
          -97.78375,
          -97.7467,
          -97.74412,
          -97.74154,
          -97.7335,
          -97.74292,
          -97.74495,
          -97.74441,
          -97.74755,
          -97.76483,
          -97.73578,
          -97.72431,
          -97.71873,
          -97.7214,
          -97.73289,
          -97.7391,
          -97.75824,
          -97.71002,
          -97.751272,
          -97.71726,
          -97.72864,
          -97.74563,
          -97.72756,
          -97.73715,
          -97.76826,
          -97.74939,
          -97.73049,
          -97.75219,
          -97.69807,
          -97.74371,
          -97.73666,
          -97.7478,
          -97.74516,
          -97.736446,
          -97.738086,
          -97.74896370141833,
          -97.74409660233584,
          -97.74658031642245,
          -97.73658827463835
         ],
         "marker": {
          "color": "#e64e1f",
          "size": [
           2.432,
           3.8933333333333335,
           4.44,
           2.752,
           1.824,
           9.850666666666667,
           6.8533333333333335,
           6.962666666666666,
           5.008,
           4.778666666666667,
           7.344,
           19.85333333333333,
           22.48,
           12.658666666666667,
           47.10666666666667,
           4.610666666666667,
           2.968,
           8.592,
           4.997333333333334,
           12.794666666666666,
           0,
           0,
           0,
           0,
           0,
           4.8,
           2.5893333333333333,
           1.5813333333333333,
           2.522666666666667,
           9.52,
           7.645333333333333,
           1.888,
           2.7066666666666666,
           3.48,
           4.032,
           5.778666666666667,
           11.533333333333333,
           13.109333333333334,
           14.506666666666666,
           5.389333333333333,
           1.8826666666666667,
           0,
           8.149333333333333,
           6.776,
           3.448,
           7.541333333333333,
           8.194666666666667,
           3.554666666666667,
           4.92,
           3.7226666666666666,
           9.301333333333334,
           0,
           5.645333333333333,
           2.6906666666666665,
           19.944,
           20.282666666666668,
           6.8773333333333335,
           7.386666666666667,
           13.242666666666667,
           9.402666666666667,
           7.56,
           0,
           8.965333333333334,
           3.989333333333333,
           2.6693333333333333,
           20.085333333333335,
           26.12,
           4.669333333333333,
           12.365333333333334,
           18.154666666666667,
           10.112,
           3.466666666666667,
           5.338666666666667,
           3.1386666666666665,
           1.4586666666666666,
           1.3146666666666667,
           1.1573333333333333,
           1.0293333333333334,
           0,
           0,
           0,
           0,
           0,
           8.930666666666667,
           0,
           0,
           0,
           0,
           0,
           0,
           0,
           0,
           1.6986666666666668,
           6.229333333333333,
           0,
           0,
           4.9013333333333335,
           3.28,
           7.997333333333334,
           0,
           0,
           5.68,
           0.7466666666666667
          ]
         },
         "mode": "markers",
         "type": "scattermapbox"
        }
       ],
       "layout": {
        "autosize": false,
        "font": {
         "color": "Black",
         "family": "Droid Sans",
         "size": 16
        },
        "height": 500,
        "hovermode": "closest",
        "mapbox": {
         "accesstoken": "pk.eyJ1IjoiZmx5aW5nY2FwZSIsImEiOiJjbDd0YWZnc2YwZ3ZzM29yeDQ4bDl3dHZtIn0.q09s_595pGToclUeM8ojQQ",
         "bearing": 0,
         "center": {
          "lat": 30.268485,
          "lon": -97.74091
         },
         "pitch": 0,
         "style": "streets",
         "zoom": 12.25
        },
        "margin": {
         "b": 0,
         "l": 5,
         "pad": 0.2,
         "r": 5,
         "t": 30
        },
        "paper_bgcolor": "White",
        "template": {
         "data": {
          "bar": [
           {
            "error_x": {
             "color": "#2a3f5f"
            },
            "error_y": {
             "color": "#2a3f5f"
            },
            "marker": {
             "line": {
              "color": "#E5ECF6",
              "width": 0.5
             },
             "pattern": {
              "fillmode": "overlay",
              "size": 10,
              "solidity": 0.2
             }
            },
            "type": "bar"
           }
          ],
          "barpolar": [
           {
            "marker": {
             "line": {
              "color": "#E5ECF6",
              "width": 0.5
             },
             "pattern": {
              "fillmode": "overlay",
              "size": 10,
              "solidity": 0.2
             }
            },
            "type": "barpolar"
           }
          ],
          "carpet": [
           {
            "aaxis": {
             "endlinecolor": "#2a3f5f",
             "gridcolor": "white",
             "linecolor": "white",
             "minorgridcolor": "white",
             "startlinecolor": "#2a3f5f"
            },
            "baxis": {
             "endlinecolor": "#2a3f5f",
             "gridcolor": "white",
             "linecolor": "white",
             "minorgridcolor": "white",
             "startlinecolor": "#2a3f5f"
            },
            "type": "carpet"
           }
          ],
          "choropleth": [
           {
            "colorbar": {
             "outlinewidth": 0,
             "ticks": ""
            },
            "type": "choropleth"
           }
          ],
          "contour": [
           {
            "colorbar": {
             "outlinewidth": 0,
             "ticks": ""
            },
            "colorscale": [
             [
              0,
              "#0d0887"
             ],
             [
              0.1111111111111111,
              "#46039f"
             ],
             [
              0.2222222222222222,
              "#7201a8"
             ],
             [
              0.3333333333333333,
              "#9c179e"
             ],
             [
              0.4444444444444444,
              "#bd3786"
             ],
             [
              0.5555555555555556,
              "#d8576b"
             ],
             [
              0.6666666666666666,
              "#ed7953"
             ],
             [
              0.7777777777777778,
              "#fb9f3a"
             ],
             [
              0.8888888888888888,
              "#fdca26"
             ],
             [
              1,
              "#f0f921"
             ]
            ],
            "type": "contour"
           }
          ],
          "contourcarpet": [
           {
            "colorbar": {
             "outlinewidth": 0,
             "ticks": ""
            },
            "type": "contourcarpet"
           }
          ],
          "heatmap": [
           {
            "colorbar": {
             "outlinewidth": 0,
             "ticks": ""
            },
            "colorscale": [
             [
              0,
              "#0d0887"
             ],
             [
              0.1111111111111111,
              "#46039f"
             ],
             [
              0.2222222222222222,
              "#7201a8"
             ],
             [
              0.3333333333333333,
              "#9c179e"
             ],
             [
              0.4444444444444444,
              "#bd3786"
             ],
             [
              0.5555555555555556,
              "#d8576b"
             ],
             [
              0.6666666666666666,
              "#ed7953"
             ],
             [
              0.7777777777777778,
              "#fb9f3a"
             ],
             [
              0.8888888888888888,
              "#fdca26"
             ],
             [
              1,
              "#f0f921"
             ]
            ],
            "type": "heatmap"
           }
          ],
          "heatmapgl": [
           {
            "colorbar": {
             "outlinewidth": 0,
             "ticks": ""
            },
            "colorscale": [
             [
              0,
              "#0d0887"
             ],
             [
              0.1111111111111111,
              "#46039f"
             ],
             [
              0.2222222222222222,
              "#7201a8"
             ],
             [
              0.3333333333333333,
              "#9c179e"
             ],
             [
              0.4444444444444444,
              "#bd3786"
             ],
             [
              0.5555555555555556,
              "#d8576b"
             ],
             [
              0.6666666666666666,
              "#ed7953"
             ],
             [
              0.7777777777777778,
              "#fb9f3a"
             ],
             [
              0.8888888888888888,
              "#fdca26"
             ],
             [
              1,
              "#f0f921"
             ]
            ],
            "type": "heatmapgl"
           }
          ],
          "histogram": [
           {
            "marker": {
             "pattern": {
              "fillmode": "overlay",
              "size": 10,
              "solidity": 0.2
             }
            },
            "type": "histogram"
           }
          ],
          "histogram2d": [
           {
            "colorbar": {
             "outlinewidth": 0,
             "ticks": ""
            },
            "colorscale": [
             [
              0,
              "#0d0887"
             ],
             [
              0.1111111111111111,
              "#46039f"
             ],
             [
              0.2222222222222222,
              "#7201a8"
             ],
             [
              0.3333333333333333,
              "#9c179e"
             ],
             [
              0.4444444444444444,
              "#bd3786"
             ],
             [
              0.5555555555555556,
              "#d8576b"
             ],
             [
              0.6666666666666666,
              "#ed7953"
             ],
             [
              0.7777777777777778,
              "#fb9f3a"
             ],
             [
              0.8888888888888888,
              "#fdca26"
             ],
             [
              1,
              "#f0f921"
             ]
            ],
            "type": "histogram2d"
           }
          ],
          "histogram2dcontour": [
           {
            "colorbar": {
             "outlinewidth": 0,
             "ticks": ""
            },
            "colorscale": [
             [
              0,
              "#0d0887"
             ],
             [
              0.1111111111111111,
              "#46039f"
             ],
             [
              0.2222222222222222,
              "#7201a8"
             ],
             [
              0.3333333333333333,
              "#9c179e"
             ],
             [
              0.4444444444444444,
              "#bd3786"
             ],
             [
              0.5555555555555556,
              "#d8576b"
             ],
             [
              0.6666666666666666,
              "#ed7953"
             ],
             [
              0.7777777777777778,
              "#fb9f3a"
             ],
             [
              0.8888888888888888,
              "#fdca26"
             ],
             [
              1,
              "#f0f921"
             ]
            ],
            "type": "histogram2dcontour"
           }
          ],
          "mesh3d": [
           {
            "colorbar": {
             "outlinewidth": 0,
             "ticks": ""
            },
            "type": "mesh3d"
           }
          ],
          "parcoords": [
           {
            "line": {
             "colorbar": {
              "outlinewidth": 0,
              "ticks": ""
             }
            },
            "type": "parcoords"
           }
          ],
          "pie": [
           {
            "automargin": true,
            "type": "pie"
           }
          ],
          "scatter": [
           {
            "marker": {
             "colorbar": {
              "outlinewidth": 0,
              "ticks": ""
             }
            },
            "type": "scatter"
           }
          ],
          "scatter3d": [
           {
            "line": {
             "colorbar": {
              "outlinewidth": 0,
              "ticks": ""
             }
            },
            "marker": {
             "colorbar": {
              "outlinewidth": 0,
              "ticks": ""
             }
            },
            "type": "scatter3d"
           }
          ],
          "scattercarpet": [
           {
            "marker": {
             "colorbar": {
              "outlinewidth": 0,
              "ticks": ""
             }
            },
            "type": "scattercarpet"
           }
          ],
          "scattergeo": [
           {
            "marker": {
             "colorbar": {
              "outlinewidth": 0,
              "ticks": ""
             }
            },
            "type": "scattergeo"
           }
          ],
          "scattergl": [
           {
            "marker": {
             "colorbar": {
              "outlinewidth": 0,
              "ticks": ""
             }
            },
            "type": "scattergl"
           }
          ],
          "scattermapbox": [
           {
            "marker": {
             "colorbar": {
              "outlinewidth": 0,
              "ticks": ""
             }
            },
            "type": "scattermapbox"
           }
          ],
          "scatterpolar": [
           {
            "marker": {
             "colorbar": {
              "outlinewidth": 0,
              "ticks": ""
             }
            },
            "type": "scatterpolar"
           }
          ],
          "scatterpolargl": [
           {
            "marker": {
             "colorbar": {
              "outlinewidth": 0,
              "ticks": ""
             }
            },
            "type": "scatterpolargl"
           }
          ],
          "scatterternary": [
           {
            "marker": {
             "colorbar": {
              "outlinewidth": 0,
              "ticks": ""
             }
            },
            "type": "scatterternary"
           }
          ],
          "surface": [
           {
            "colorbar": {
             "outlinewidth": 0,
             "ticks": ""
            },
            "colorscale": [
             [
              0,
              "#0d0887"
             ],
             [
              0.1111111111111111,
              "#46039f"
             ],
             [
              0.2222222222222222,
              "#7201a8"
             ],
             [
              0.3333333333333333,
              "#9c179e"
             ],
             [
              0.4444444444444444,
              "#bd3786"
             ],
             [
              0.5555555555555556,
              "#d8576b"
             ],
             [
              0.6666666666666666,
              "#ed7953"
             ],
             [
              0.7777777777777778,
              "#fb9f3a"
             ],
             [
              0.8888888888888888,
              "#fdca26"
             ],
             [
              1,
              "#f0f921"
             ]
            ],
            "type": "surface"
           }
          ],
          "table": [
           {
            "cells": {
             "fill": {
              "color": "#EBF0F8"
             },
             "line": {
              "color": "white"
             }
            },
            "header": {
             "fill": {
              "color": "#C8D4E3"
             },
             "line": {
              "color": "white"
             }
            },
            "type": "table"
           }
          ]
         },
         "layout": {
          "annotationdefaults": {
           "arrowcolor": "#2a3f5f",
           "arrowhead": 0,
           "arrowwidth": 1
          },
          "autotypenumbers": "strict",
          "coloraxis": {
           "colorbar": {
            "outlinewidth": 0,
            "ticks": ""
           }
          },
          "colorscale": {
           "diverging": [
            [
             0,
             "#8e0152"
            ],
            [
             0.1,
             "#c51b7d"
            ],
            [
             0.2,
             "#de77ae"
            ],
            [
             0.3,
             "#f1b6da"
            ],
            [
             0.4,
             "#fde0ef"
            ],
            [
             0.5,
             "#f7f7f7"
            ],
            [
             0.6,
             "#e6f5d0"
            ],
            [
             0.7,
             "#b8e186"
            ],
            [
             0.8,
             "#7fbc41"
            ],
            [
             0.9,
             "#4d9221"
            ],
            [
             1,
             "#276419"
            ]
           ],
           "sequential": [
            [
             0,
             "#0d0887"
            ],
            [
             0.1111111111111111,
             "#46039f"
            ],
            [
             0.2222222222222222,
             "#7201a8"
            ],
            [
             0.3333333333333333,
             "#9c179e"
            ],
            [
             0.4444444444444444,
             "#bd3786"
            ],
            [
             0.5555555555555556,
             "#d8576b"
            ],
            [
             0.6666666666666666,
             "#ed7953"
            ],
            [
             0.7777777777777778,
             "#fb9f3a"
            ],
            [
             0.8888888888888888,
             "#fdca26"
            ],
            [
             1,
             "#f0f921"
            ]
           ],
           "sequentialminus": [
            [
             0,
             "#0d0887"
            ],
            [
             0.1111111111111111,
             "#46039f"
            ],
            [
             0.2222222222222222,
             "#7201a8"
            ],
            [
             0.3333333333333333,
             "#9c179e"
            ],
            [
             0.4444444444444444,
             "#bd3786"
            ],
            [
             0.5555555555555556,
             "#d8576b"
            ],
            [
             0.6666666666666666,
             "#ed7953"
            ],
            [
             0.7777777777777778,
             "#fb9f3a"
            ],
            [
             0.8888888888888888,
             "#fdca26"
            ],
            [
             1,
             "#f0f921"
            ]
           ]
          },
          "colorway": [
           "#636efa",
           "#EF553B",
           "#00cc96",
           "#ab63fa",
           "#FFA15A",
           "#19d3f3",
           "#FF6692",
           "#B6E880",
           "#FF97FF",
           "#FECB52"
          ],
          "font": {
           "color": "#2a3f5f"
          },
          "geo": {
           "bgcolor": "white",
           "lakecolor": "white",
           "landcolor": "#E5ECF6",
           "showlakes": true,
           "showland": true,
           "subunitcolor": "white"
          },
          "hoverlabel": {
           "align": "left"
          },
          "hovermode": "closest",
          "mapbox": {
           "style": "light"
          },
          "paper_bgcolor": "white",
          "plot_bgcolor": "#E5ECF6",
          "polar": {
           "angularaxis": {
            "gridcolor": "white",
            "linecolor": "white",
            "ticks": ""
           },
           "bgcolor": "#E5ECF6",
           "radialaxis": {
            "gridcolor": "white",
            "linecolor": "white",
            "ticks": ""
           }
          },
          "scene": {
           "xaxis": {
            "backgroundcolor": "#E5ECF6",
            "gridcolor": "white",
            "gridwidth": 2,
            "linecolor": "white",
            "showbackground": true,
            "ticks": "",
            "zerolinecolor": "white"
           },
           "yaxis": {
            "backgroundcolor": "#E5ECF6",
            "gridcolor": "white",
            "gridwidth": 2,
            "linecolor": "white",
            "showbackground": true,
            "ticks": "",
            "zerolinecolor": "white"
           },
           "zaxis": {
            "backgroundcolor": "#E5ECF6",
            "gridcolor": "white",
            "gridwidth": 2,
            "linecolor": "white",
            "showbackground": true,
            "ticks": "",
            "zerolinecolor": "white"
           }
          },
          "shapedefaults": {
           "line": {
            "color": "#2a3f5f"
           }
          },
          "ternary": {
           "aaxis": {
            "gridcolor": "white",
            "linecolor": "white",
            "ticks": ""
           },
           "baxis": {
            "gridcolor": "white",
            "linecolor": "white",
            "ticks": ""
           },
           "bgcolor": "#E5ECF6",
           "caxis": {
            "gridcolor": "white",
            "linecolor": "white",
            "ticks": ""
           }
          },
          "title": {
           "x": 0.05
          },
          "xaxis": {
           "automargin": true,
           "gridcolor": "white",
           "linecolor": "white",
           "ticks": "",
           "title": {
            "standoff": 15
           },
           "zerolinecolor": "white",
           "zerolinewidth": 2
          },
          "yaxis": {
           "automargin": true,
           "gridcolor": "white",
           "linecolor": "white",
           "ticks": "",
           "title": {
            "standoff": 15
           },
           "zerolinecolor": "white",
           "zerolinewidth": 2
          }
         }
        },
        "title": {
         "text": "2021",
         "x": 0.5,
         "xanchor": "center",
         "y": 0.984,
         "yanchor": "top"
        },
        "width": 750
       }
      },
      "text/html": [
       "<div>                            <div id=\"b48f5a72-776a-4dd9-8e8c-d6a403bc806c\" class=\"plotly-graph-div\" style=\"height:500px; width:750px;\"></div>            <script type=\"text/javascript\">                require([\"plotly\"], function(Plotly) {                    window.PLOTLYENV=window.PLOTLYENV || {};                                    if (document.getElementById(\"b48f5a72-776a-4dd9-8e8c-d6a403bc806c\")) {                    Plotly.newPlot(                        \"b48f5a72-776a-4dd9-8e8c-d6a403bc806c\",                        [{\"lat\":[30.2563,30.27193,30.25987,30.25542,30.268887,30.27466,30.25839,30.26455,30.26332,30.27217,30.26406,30.28953,30.2898,30.28354,30.283,30.26269,30.26139,30.252,30.26214,30.24472,30.2587,30.28039,30.27654,30.27595,30.27624,30.267263,30.27336,30.26912,30.26735,30.26717,30.25971,30.26896,30.26968,30.25226,30.26854,30.26452,30.2659,30.26446,30.255906,30.262,30.26032,30.27186,30.26408,30.26634,30.2698,30.2726,30.2696,30.25103,30.24891,30.27041,30.26426,30.27974,30.26217,30.25895,30.28395,30.28576,30.26476,30.25941,30.2678,30.26822,30.26697,30.27616,30.25457,30.27807,30.29439,30.2853,30.29333,30.26754,30.2856,30.29068,30.28728,30.27059,30.25495,30.27489,30.27024,30.26888,30.26969,30.26638,30.26416,30.25802,30.26304,30.26025,30.244961,30.24258,30.26383,30.27106,30.2848,30.27907,30.26587,30.26694,30.26461,30.28118,30.25212,30.27924,30.2741,30.2874,30.2862,30.264327,30.260814,30.25752616374899,30.293172940393987,30.287268378033133,30.274144170275143],\"lon\":[-97.71007,-97.73854,-97.72373,-97.71665,-97.745242,-97.77028,-97.74592,-97.73165,-97.74508,-97.75246,-97.76385,-97.73695,-97.74041,-97.73953,-97.7375,-97.72438,-97.77234,-97.7346,-97.7387,-97.72336,-97.74872,-97.73809,-97.74155,-97.74739,-97.74831,-97.747144,-97.73805,-97.73986,-97.73933,-97.75484,-97.75346,-97.72843,-97.73074,-97.74854,-97.73646,-97.7712,-97.76822,-97.75665,-97.739949,-97.76118,-97.71899,-97.73997,-97.74355,-97.74378,-97.74186,-97.74127,-97.75332,-97.74926,-97.75019,-97.75046,-97.74023,-97.74254,-97.72743,-97.71475,-97.74198,-97.74181,-97.74678,-97.74971,-97.75189,-97.74285,-97.74929,-97.74488,-97.74258,-97.77272,-97.78375,-97.7467,-97.74412,-97.74154,-97.7335,-97.74292,-97.74495,-97.74441,-97.74755,-97.76483,-97.73578,-97.72431,-97.71873,-97.7214,-97.73289,-97.7391,-97.75824,-97.71002,-97.751272,-97.71726,-97.72864,-97.74563,-97.72756,-97.73715,-97.76826,-97.74939,-97.73049,-97.75219,-97.69807,-97.74371,-97.73666,-97.7478,-97.74516,-97.736446,-97.738086,-97.74896370141833,-97.74409660233584,-97.74658031642245,-97.73658827463835],\"marker\":{\"color\":\"#e64e1f\",\"size\":[2.432,3.8933333333333335,4.44,2.752,1.824,9.850666666666667,6.8533333333333335,6.962666666666666,5.008,4.778666666666667,7.344,19.85333333333333,22.48,12.658666666666667,47.10666666666667,4.610666666666667,2.968,8.592,4.997333333333334,12.794666666666666,0.0,0.0,0.0,0.0,0.0,4.8,2.5893333333333333,1.5813333333333333,2.522666666666667,9.52,7.645333333333333,1.888,2.7066666666666666,3.48,4.032,5.778666666666667,11.533333333333333,13.109333333333334,14.506666666666666,5.389333333333333,1.8826666666666667,0.0,8.149333333333333,6.776,3.448,7.541333333333333,8.194666666666667,3.554666666666667,4.92,3.7226666666666666,9.301333333333334,0.0,5.645333333333333,2.6906666666666665,19.944,20.282666666666668,6.8773333333333335,7.386666666666667,13.242666666666667,9.402666666666667,7.56,0.0,8.965333333333334,3.989333333333333,2.6693333333333333,20.085333333333335,26.12,4.669333333333333,12.365333333333334,18.154666666666667,10.112,3.466666666666667,5.338666666666667,3.1386666666666665,1.4586666666666666,1.3146666666666667,1.1573333333333333,1.0293333333333334,0.0,0.0,0.0,0.0,0.0,8.930666666666667,0.0,0.0,0.0,0.0,0.0,0.0,0.0,0.0,1.6986666666666668,6.229333333333333,0.0,0.0,4.9013333333333335,3.28,7.997333333333334,0.0,0.0,5.68,0.7466666666666667]},\"mode\":\"markers\",\"type\":\"scattermapbox\"}],                        {\"autosize\":false,\"font\":{\"color\":\"Black\",\"family\":\"Droid Sans\",\"size\":16},\"height\":500,\"hovermode\":\"closest\",\"mapbox\":{\"accesstoken\":\"pk.eyJ1IjoiZmx5aW5nY2FwZSIsImEiOiJjbDd0YWZnc2YwZ3ZzM29yeDQ4bDl3dHZtIn0.q09s_595pGToclUeM8ojQQ\",\"bearing\":0,\"center\":{\"lat\":30.268485,\"lon\":-97.74091},\"pitch\":0,\"style\":\"streets\",\"zoom\":12.25},\"margin\":{\"b\":0,\"l\":5,\"pad\":0.2,\"r\":5,\"t\":30},\"paper_bgcolor\":\"White\",\"template\":{\"data\":{\"bar\":[{\"error_x\":{\"color\":\"#2a3f5f\"},\"error_y\":{\"color\":\"#2a3f5f\"},\"marker\":{\"line\":{\"color\":\"#E5ECF6\",\"width\":0.5},\"pattern\":{\"fillmode\":\"overlay\",\"size\":10,\"solidity\":0.2}},\"type\":\"bar\"}],\"barpolar\":[{\"marker\":{\"line\":{\"color\":\"#E5ECF6\",\"width\":0.5},\"pattern\":{\"fillmode\":\"overlay\",\"size\":10,\"solidity\":0.2}},\"type\":\"barpolar\"}],\"carpet\":[{\"aaxis\":{\"endlinecolor\":\"#2a3f5f\",\"gridcolor\":\"white\",\"linecolor\":\"white\",\"minorgridcolor\":\"white\",\"startlinecolor\":\"#2a3f5f\"},\"baxis\":{\"endlinecolor\":\"#2a3f5f\",\"gridcolor\":\"white\",\"linecolor\":\"white\",\"minorgridcolor\":\"white\",\"startlinecolor\":\"#2a3f5f\"},\"type\":\"carpet\"}],\"choropleth\":[{\"colorbar\":{\"outlinewidth\":0,\"ticks\":\"\"},\"type\":\"choropleth\"}],\"contour\":[{\"colorbar\":{\"outlinewidth\":0,\"ticks\":\"\"},\"colorscale\":[[0.0,\"#0d0887\"],[0.1111111111111111,\"#46039f\"],[0.2222222222222222,\"#7201a8\"],[0.3333333333333333,\"#9c179e\"],[0.4444444444444444,\"#bd3786\"],[0.5555555555555556,\"#d8576b\"],[0.6666666666666666,\"#ed7953\"],[0.7777777777777778,\"#fb9f3a\"],[0.8888888888888888,\"#fdca26\"],[1.0,\"#f0f921\"]],\"type\":\"contour\"}],\"contourcarpet\":[{\"colorbar\":{\"outlinewidth\":0,\"ticks\":\"\"},\"type\":\"contourcarpet\"}],\"heatmap\":[{\"colorbar\":{\"outlinewidth\":0,\"ticks\":\"\"},\"colorscale\":[[0.0,\"#0d0887\"],[0.1111111111111111,\"#46039f\"],[0.2222222222222222,\"#7201a8\"],[0.3333333333333333,\"#9c179e\"],[0.4444444444444444,\"#bd3786\"],[0.5555555555555556,\"#d8576b\"],[0.6666666666666666,\"#ed7953\"],[0.7777777777777778,\"#fb9f3a\"],[0.8888888888888888,\"#fdca26\"],[1.0,\"#f0f921\"]],\"type\":\"heatmap\"}],\"heatmapgl\":[{\"colorbar\":{\"outlinewidth\":0,\"ticks\":\"\"},\"colorscale\":[[0.0,\"#0d0887\"],[0.1111111111111111,\"#46039f\"],[0.2222222222222222,\"#7201a8\"],[0.3333333333333333,\"#9c179e\"],[0.4444444444444444,\"#bd3786\"],[0.5555555555555556,\"#d8576b\"],[0.6666666666666666,\"#ed7953\"],[0.7777777777777778,\"#fb9f3a\"],[0.8888888888888888,\"#fdca26\"],[1.0,\"#f0f921\"]],\"type\":\"heatmapgl\"}],\"histogram\":[{\"marker\":{\"pattern\":{\"fillmode\":\"overlay\",\"size\":10,\"solidity\":0.2}},\"type\":\"histogram\"}],\"histogram2d\":[{\"colorbar\":{\"outlinewidth\":0,\"ticks\":\"\"},\"colorscale\":[[0.0,\"#0d0887\"],[0.1111111111111111,\"#46039f\"],[0.2222222222222222,\"#7201a8\"],[0.3333333333333333,\"#9c179e\"],[0.4444444444444444,\"#bd3786\"],[0.5555555555555556,\"#d8576b\"],[0.6666666666666666,\"#ed7953\"],[0.7777777777777778,\"#fb9f3a\"],[0.8888888888888888,\"#fdca26\"],[1.0,\"#f0f921\"]],\"type\":\"histogram2d\"}],\"histogram2dcontour\":[{\"colorbar\":{\"outlinewidth\":0,\"ticks\":\"\"},\"colorscale\":[[0.0,\"#0d0887\"],[0.1111111111111111,\"#46039f\"],[0.2222222222222222,\"#7201a8\"],[0.3333333333333333,\"#9c179e\"],[0.4444444444444444,\"#bd3786\"],[0.5555555555555556,\"#d8576b\"],[0.6666666666666666,\"#ed7953\"],[0.7777777777777778,\"#fb9f3a\"],[0.8888888888888888,\"#fdca26\"],[1.0,\"#f0f921\"]],\"type\":\"histogram2dcontour\"}],\"mesh3d\":[{\"colorbar\":{\"outlinewidth\":0,\"ticks\":\"\"},\"type\":\"mesh3d\"}],\"parcoords\":[{\"line\":{\"colorbar\":{\"outlinewidth\":0,\"ticks\":\"\"}},\"type\":\"parcoords\"}],\"pie\":[{\"automargin\":true,\"type\":\"pie\"}],\"scatter\":[{\"marker\":{\"colorbar\":{\"outlinewidth\":0,\"ticks\":\"\"}},\"type\":\"scatter\"}],\"scatter3d\":[{\"line\":{\"colorbar\":{\"outlinewidth\":0,\"ticks\":\"\"}},\"marker\":{\"colorbar\":{\"outlinewidth\":0,\"ticks\":\"\"}},\"type\":\"scatter3d\"}],\"scattercarpet\":[{\"marker\":{\"colorbar\":{\"outlinewidth\":0,\"ticks\":\"\"}},\"type\":\"scattercarpet\"}],\"scattergeo\":[{\"marker\":{\"colorbar\":{\"outlinewidth\":0,\"ticks\":\"\"}},\"type\":\"scattergeo\"}],\"scattergl\":[{\"marker\":{\"colorbar\":{\"outlinewidth\":0,\"ticks\":\"\"}},\"type\":\"scattergl\"}],\"scattermapbox\":[{\"marker\":{\"colorbar\":{\"outlinewidth\":0,\"ticks\":\"\"}},\"type\":\"scattermapbox\"}],\"scatterpolar\":[{\"marker\":{\"colorbar\":{\"outlinewidth\":0,\"ticks\":\"\"}},\"type\":\"scatterpolar\"}],\"scatterpolargl\":[{\"marker\":{\"colorbar\":{\"outlinewidth\":0,\"ticks\":\"\"}},\"type\":\"scatterpolargl\"}],\"scatterternary\":[{\"marker\":{\"colorbar\":{\"outlinewidth\":0,\"ticks\":\"\"}},\"type\":\"scatterternary\"}],\"surface\":[{\"colorbar\":{\"outlinewidth\":0,\"ticks\":\"\"},\"colorscale\":[[0.0,\"#0d0887\"],[0.1111111111111111,\"#46039f\"],[0.2222222222222222,\"#7201a8\"],[0.3333333333333333,\"#9c179e\"],[0.4444444444444444,\"#bd3786\"],[0.5555555555555556,\"#d8576b\"],[0.6666666666666666,\"#ed7953\"],[0.7777777777777778,\"#fb9f3a\"],[0.8888888888888888,\"#fdca26\"],[1.0,\"#f0f921\"]],\"type\":\"surface\"}],\"table\":[{\"cells\":{\"fill\":{\"color\":\"#EBF0F8\"},\"line\":{\"color\":\"white\"}},\"header\":{\"fill\":{\"color\":\"#C8D4E3\"},\"line\":{\"color\":\"white\"}},\"type\":\"table\"}]},\"layout\":{\"annotationdefaults\":{\"arrowcolor\":\"#2a3f5f\",\"arrowhead\":0,\"arrowwidth\":1},\"autotypenumbers\":\"strict\",\"coloraxis\":{\"colorbar\":{\"outlinewidth\":0,\"ticks\":\"\"}},\"colorscale\":{\"diverging\":[[0,\"#8e0152\"],[0.1,\"#c51b7d\"],[0.2,\"#de77ae\"],[0.3,\"#f1b6da\"],[0.4,\"#fde0ef\"],[0.5,\"#f7f7f7\"],[0.6,\"#e6f5d0\"],[0.7,\"#b8e186\"],[0.8,\"#7fbc41\"],[0.9,\"#4d9221\"],[1,\"#276419\"]],\"sequential\":[[0.0,\"#0d0887\"],[0.1111111111111111,\"#46039f\"],[0.2222222222222222,\"#7201a8\"],[0.3333333333333333,\"#9c179e\"],[0.4444444444444444,\"#bd3786\"],[0.5555555555555556,\"#d8576b\"],[0.6666666666666666,\"#ed7953\"],[0.7777777777777778,\"#fb9f3a\"],[0.8888888888888888,\"#fdca26\"],[1.0,\"#f0f921\"]],\"sequentialminus\":[[0.0,\"#0d0887\"],[0.1111111111111111,\"#46039f\"],[0.2222222222222222,\"#7201a8\"],[0.3333333333333333,\"#9c179e\"],[0.4444444444444444,\"#bd3786\"],[0.5555555555555556,\"#d8576b\"],[0.6666666666666666,\"#ed7953\"],[0.7777777777777778,\"#fb9f3a\"],[0.8888888888888888,\"#fdca26\"],[1.0,\"#f0f921\"]]},\"colorway\":[\"#636efa\",\"#EF553B\",\"#00cc96\",\"#ab63fa\",\"#FFA15A\",\"#19d3f3\",\"#FF6692\",\"#B6E880\",\"#FF97FF\",\"#FECB52\"],\"font\":{\"color\":\"#2a3f5f\"},\"geo\":{\"bgcolor\":\"white\",\"lakecolor\":\"white\",\"landcolor\":\"#E5ECF6\",\"showlakes\":true,\"showland\":true,\"subunitcolor\":\"white\"},\"hoverlabel\":{\"align\":\"left\"},\"hovermode\":\"closest\",\"mapbox\":{\"style\":\"light\"},\"paper_bgcolor\":\"white\",\"plot_bgcolor\":\"#E5ECF6\",\"polar\":{\"angularaxis\":{\"gridcolor\":\"white\",\"linecolor\":\"white\",\"ticks\":\"\"},\"bgcolor\":\"#E5ECF6\",\"radialaxis\":{\"gridcolor\":\"white\",\"linecolor\":\"white\",\"ticks\":\"\"}},\"scene\":{\"xaxis\":{\"backgroundcolor\":\"#E5ECF6\",\"gridcolor\":\"white\",\"gridwidth\":2,\"linecolor\":\"white\",\"showbackground\":true,\"ticks\":\"\",\"zerolinecolor\":\"white\"},\"yaxis\":{\"backgroundcolor\":\"#E5ECF6\",\"gridcolor\":\"white\",\"gridwidth\":2,\"linecolor\":\"white\",\"showbackground\":true,\"ticks\":\"\",\"zerolinecolor\":\"white\"},\"zaxis\":{\"backgroundcolor\":\"#E5ECF6\",\"gridcolor\":\"white\",\"gridwidth\":2,\"linecolor\":\"white\",\"showbackground\":true,\"ticks\":\"\",\"zerolinecolor\":\"white\"}},\"shapedefaults\":{\"line\":{\"color\":\"#2a3f5f\"}},\"ternary\":{\"aaxis\":{\"gridcolor\":\"white\",\"linecolor\":\"white\",\"ticks\":\"\"},\"baxis\":{\"gridcolor\":\"white\",\"linecolor\":\"white\",\"ticks\":\"\"},\"bgcolor\":\"#E5ECF6\",\"caxis\":{\"gridcolor\":\"white\",\"linecolor\":\"white\",\"ticks\":\"\"}},\"title\":{\"x\":0.05},\"xaxis\":{\"automargin\":true,\"gridcolor\":\"white\",\"linecolor\":\"white\",\"ticks\":\"\",\"title\":{\"standoff\":15},\"zerolinecolor\":\"white\",\"zerolinewidth\":2},\"yaxis\":{\"automargin\":true,\"gridcolor\":\"white\",\"linecolor\":\"white\",\"ticks\":\"\",\"title\":{\"standoff\":15},\"zerolinecolor\":\"white\",\"zerolinewidth\":2}}},\"title\":{\"text\":\"2021\",\"x\":0.5,\"xanchor\":\"center\",\"y\":0.984,\"yanchor\":\"top\"},\"width\":750},                        {\"responsive\": true}                    ).then(function(){\n",
       "                            \n",
       "var gd = document.getElementById('b48f5a72-776a-4dd9-8e8c-d6a403bc806c');\n",
       "var x = new MutationObserver(function (mutations, observer) {{\n",
       "        var display = window.getComputedStyle(gd).display;\n",
       "        if (!display || display === 'none') {{\n",
       "            console.log([gd, 'removed!']);\n",
       "            Plotly.purge(gd);\n",
       "            observer.disconnect();\n",
       "        }}\n",
       "}});\n",
       "\n",
       "// Listen for the removal of the full notebook cells\n",
       "var notebookContainer = gd.closest('#notebook-container');\n",
       "if (notebookContainer) {{\n",
       "    x.observe(notebookContainer, {childList: true});\n",
       "}}\n",
       "\n",
       "// Listen for the clearing of the current output cell\n",
       "var outputEl = gd.closest('.output');\n",
       "if (outputEl) {{\n",
       "    x.observe(outputEl, {childList: true});\n",
       "}}\n",
       "\n",
       "                        })                };                });            </script>        </div>"
      ]
     },
     "metadata": {},
     "output_type": "display_data"
    }
   ],
   "source": [
    "#https://plotly.com/python/scattermapbox/\n",
    "import plotly.graph_objects as go\n",
    "\n",
    "mapbox_access_token = \"pk.eyJ1IjoiZmx5aW5nY2FwZSIsImEiOiJjbDd0YWZnc2YwZ3ZzM29yeDQ4bDl3dHZtIn0.q09s_595pGToclUeM8ojQQ\"\n",
    "\n",
    "fig1 = go.Figure(go.Scattermapbox(\n",
    "        lat = kiosk_geo['Latitude'],\n",
    "        lon = kiosk_geo['Longitude'],\n",
    "        #text = kiosk_geo['text'],\n",
    "        mode='markers',\n",
    "        marker=go.scattermapbox.Marker(\n",
    "            size = kiosk_geo['Rides_2021']/msize_divby, color = color_light,\n",
    "        ), \n",
    "        ))\n",
    "\n",
    "fig1.update_layout(\n",
    "    hovermode='closest',\n",
    "    mapbox=dict(\n",
    "        accesstoken=mapbox_access_token,\n",
    "        bearing=0,\n",
    "        center=go.layout.mapbox.Center(\n",
    "            lat=(kiosk_geo['Latitude'].min()+kiosk_geo['Latitude'].max())/2,\n",
    "            lon=(kiosk_geo['Longitude'].min()+kiosk_geo['Longitude'].max())/2\n",
    "        ),\n",
    "        pitch=0,\n",
    "        zoom=12.25,\n",
    "        style = 'streets'\n",
    "    ),\n",
    ")\n",
    "\n",
    "fig1.update_layout(\n",
    "    autosize=False,\n",
    "    width=750,\n",
    "    height=500,\n",
    "        margin=dict(\n",
    "        l=0.5,\n",
    "        r=0.5,\n",
    "        b=0.5,\n",
    "        t=0.5,\n",
    "        pad=0.20\n",
    "    ),\n",
    "    paper_bgcolor=\"White\",\n",
    ")\n",
    "\n",
    "fig1.update_layout(margin={\"r\":5,\"t\":30,\"l\":5,\"b\":0},\n",
    "                  font=dict(\n",
    "                    family=\"Droid Sans\",\n",
    "                    size=16,\n",
    "                    color=\"Black\"\n",
    "                    ),\n",
    "                    title={\n",
    "                    'text': \"2021\",\n",
    "                    'y':0.984,\n",
    "                    'x':0.5,\n",
    "                    'xanchor': 'center',\n",
    "                    'yanchor': 'top'}\n",
    "                  )\n",
    "fig1.show()"
   ]
  },
  {
   "cell_type": "code",
   "execution_count": 190,
   "id": "e0c3ce23",
   "metadata": {},
   "outputs": [
    {
     "data": {
      "text/plain": [
       "'https://plotly.com/~flyingcape/17/'"
      ]
     },
     "execution_count": 190,
     "metadata": {},
     "output_type": "execute_result"
    }
   ],
   "source": [
    "import chart_studio\n",
    "username='flyingcape'\n",
    "api_key='NI4xzO3e4BldD5kASCBo'\n",
    "chart_studio.tools.set_credentials_file(username=username,\n",
    "                                        api_key=api_key)\n",
    "\n",
    "import chart_studio.plotly as py\n",
    "\n",
    "py.plot(fig1, filename=\"2021_map\", auto_open = True)"
   ]
  },
  {
   "cell_type": "code",
   "execution_count": 194,
   "id": "8b1346ef",
   "metadata": {},
   "outputs": [
    {
     "data": {
      "application/vnd.plotly.v1+json": {
       "config": {
        "plotlyServerURL": "https://plotly.com"
       },
       "data": [
        {
         "lat": [
          30.2563,
          30.27193,
          30.25987,
          30.25542,
          30.268887,
          30.27466,
          30.25839,
          30.26455,
          30.26332,
          30.27217,
          30.26406,
          30.28953,
          30.2898,
          30.28354,
          30.283,
          30.26269,
          30.26139,
          30.252,
          30.26214,
          30.24472,
          30.2587,
          30.28039,
          30.27654,
          30.27595,
          30.27624,
          30.267263,
          30.27336,
          30.26912,
          30.26735,
          30.26717,
          30.25971,
          30.26896,
          30.26968,
          30.25226,
          30.26854,
          30.26452,
          30.2659,
          30.26446,
          30.255906,
          30.262,
          30.26032,
          30.27186,
          30.26408,
          30.26634,
          30.2698,
          30.2726,
          30.2696,
          30.25103,
          30.24891,
          30.27041,
          30.26426,
          30.27974,
          30.26217,
          30.25895,
          30.28395,
          30.28576,
          30.26476,
          30.25941,
          30.2678,
          30.26822,
          30.26697,
          30.27616,
          30.25457,
          30.27807,
          30.29439,
          30.2853,
          30.29333,
          30.26754,
          30.2856,
          30.29068,
          30.28728,
          30.27059,
          30.25495,
          30.27489,
          30.27024,
          30.26888,
          30.26969,
          30.26638,
          30.26416,
          30.25802,
          30.26304,
          30.26025,
          30.244961,
          30.24258,
          30.26383,
          30.27106,
          30.2848,
          30.27907,
          30.26587,
          30.26694,
          30.26461,
          30.28118,
          30.25212,
          30.27924,
          30.2741,
          30.2874,
          30.2862,
          30.264327,
          30.260814,
          30.25752616374899,
          30.293172940393987,
          30.287268378033133,
          30.274144170275143
         ],
         "lon": [
          -97.71007,
          -97.73854,
          -97.72373,
          -97.71665,
          -97.745242,
          -97.77028,
          -97.74592,
          -97.73165,
          -97.74508,
          -97.75246,
          -97.76385,
          -97.73695,
          -97.74041,
          -97.73953,
          -97.7375,
          -97.72438,
          -97.77234,
          -97.7346,
          -97.7387,
          -97.72336,
          -97.74872,
          -97.73809,
          -97.74155,
          -97.74739,
          -97.74831,
          -97.747144,
          -97.73805,
          -97.73986,
          -97.73933,
          -97.75484,
          -97.75346,
          -97.72843,
          -97.73074,
          -97.74854,
          -97.73646,
          -97.7712,
          -97.76822,
          -97.75665,
          -97.739949,
          -97.76118,
          -97.71899,
          -97.73997,
          -97.74355,
          -97.74378,
          -97.74186,
          -97.74127,
          -97.75332,
          -97.74926,
          -97.75019,
          -97.75046,
          -97.74023,
          -97.74254,
          -97.72743,
          -97.71475,
          -97.74198,
          -97.74181,
          -97.74678,
          -97.74971,
          -97.75189,
          -97.74285,
          -97.74929,
          -97.74488,
          -97.74258,
          -97.77272,
          -97.78375,
          -97.7467,
          -97.74412,
          -97.74154,
          -97.7335,
          -97.74292,
          -97.74495,
          -97.74441,
          -97.74755,
          -97.76483,
          -97.73578,
          -97.72431,
          -97.71873,
          -97.7214,
          -97.73289,
          -97.7391,
          -97.75824,
          -97.71002,
          -97.751272,
          -97.71726,
          -97.72864,
          -97.74563,
          -97.72756,
          -97.73715,
          -97.76826,
          -97.74939,
          -97.73049,
          -97.75219,
          -97.69807,
          -97.74371,
          -97.73666,
          -97.7478,
          -97.74516,
          -97.736446,
          -97.738086,
          -97.74896370141833,
          -97.74409660233584,
          -97.74658031642245,
          -97.73658827463835
         ],
         "marker": {
          "color": "#cc0079",
          "size": [
           2.981333333333333,
           2.2213333333333334,
           3.736,
           2.488,
           2.578666666666667,
           7.352,
           7.672,
           9.069333333333333,
           6.992,
           4.864,
           6.656,
           47.35466666666667,
           35.52,
           19.050666666666668,
           89.568,
           4.504,
           5.112,
           7.661333333333333,
           5.757333333333333,
           12.418666666666667,
           0.7946666666666666,
           0,
           0,
           2.8186666666666667,
           0,
           6.192,
           2.7333333333333334,
           2.0773333333333333,
           3.917333333333333,
           9.250666666666667,
           7.461333333333333,
           1.9013333333333333,
           3.112,
           4.021333333333334,
           3.52,
           6.213333333333333,
           8.274666666666667,
           11.616,
           16.042666666666666,
           5.586666666666667,
           1.688,
           0,
           8.434666666666667,
           8.773333333333333,
           4.624,
           7.8533333333333335,
           8.922666666666666,
           3.469333333333333,
           3.6133333333333333,
           5.112,
           8.237333333333334,
           0,
           10.421333333333333,
           3.1413333333333333,
           32.090666666666664,
           29.914666666666665,
           9.101333333333333,
           5.589333333333333,
           13.168,
           11.037333333333333,
           10.754666666666667,
           0,
           8.704,
           5.168,
           2.2986666666666666,
           29.690666666666665,
           4.952,
           4.24,
           19.490666666666666,
           40.538666666666664,
           0,
           3.192,
           5.826666666666667,
           4.690666666666667,
           1.56,
           1.5306666666666666,
           1.2266666666666666,
           1.4986666666666666,
           0,
           0,
           0,
           0,
           3.7413333333333334,
           7.938666666666666,
           0,
           0,
           0,
           0,
           0,
           0,
           0,
           0,
           2.432,
           7.48,
           0,
           0,
           12.922666666666666,
           4.016,
           6.338666666666667,
           1.4426666666666668,
           25.234666666666666,
           25.269333333333332,
           2.5653333333333332
          ]
         },
         "mode": "markers",
         "type": "scattermapbox"
        }
       ],
       "layout": {
        "autosize": false,
        "font": {
         "color": "Black",
         "family": "Droid Sans",
         "size": 16
        },
        "height": 500,
        "hovermode": "closest",
        "mapbox": {
         "accesstoken": "pk.eyJ1IjoiZmx5aW5nY2FwZSIsImEiOiJjbDd0YWZnc2YwZ3ZzM29yeDQ4bDl3dHZtIn0.q09s_595pGToclUeM8ojQQ",
         "bearing": 0,
         "center": {
          "lat": 30.268485,
          "lon": -97.74091
         },
         "pitch": 0,
         "style": "streets",
         "zoom": 12.25
        },
        "margin": {
         "b": 0,
         "l": 5,
         "pad": 0.2,
         "r": 5,
         "t": 30
        },
        "paper_bgcolor": "White",
        "template": {
         "data": {
          "bar": [
           {
            "error_x": {
             "color": "#2a3f5f"
            },
            "error_y": {
             "color": "#2a3f5f"
            },
            "marker": {
             "line": {
              "color": "#E5ECF6",
              "width": 0.5
             },
             "pattern": {
              "fillmode": "overlay",
              "size": 10,
              "solidity": 0.2
             }
            },
            "type": "bar"
           }
          ],
          "barpolar": [
           {
            "marker": {
             "line": {
              "color": "#E5ECF6",
              "width": 0.5
             },
             "pattern": {
              "fillmode": "overlay",
              "size": 10,
              "solidity": 0.2
             }
            },
            "type": "barpolar"
           }
          ],
          "carpet": [
           {
            "aaxis": {
             "endlinecolor": "#2a3f5f",
             "gridcolor": "white",
             "linecolor": "white",
             "minorgridcolor": "white",
             "startlinecolor": "#2a3f5f"
            },
            "baxis": {
             "endlinecolor": "#2a3f5f",
             "gridcolor": "white",
             "linecolor": "white",
             "minorgridcolor": "white",
             "startlinecolor": "#2a3f5f"
            },
            "type": "carpet"
           }
          ],
          "choropleth": [
           {
            "colorbar": {
             "outlinewidth": 0,
             "ticks": ""
            },
            "type": "choropleth"
           }
          ],
          "contour": [
           {
            "colorbar": {
             "outlinewidth": 0,
             "ticks": ""
            },
            "colorscale": [
             [
              0,
              "#0d0887"
             ],
             [
              0.1111111111111111,
              "#46039f"
             ],
             [
              0.2222222222222222,
              "#7201a8"
             ],
             [
              0.3333333333333333,
              "#9c179e"
             ],
             [
              0.4444444444444444,
              "#bd3786"
             ],
             [
              0.5555555555555556,
              "#d8576b"
             ],
             [
              0.6666666666666666,
              "#ed7953"
             ],
             [
              0.7777777777777778,
              "#fb9f3a"
             ],
             [
              0.8888888888888888,
              "#fdca26"
             ],
             [
              1,
              "#f0f921"
             ]
            ],
            "type": "contour"
           }
          ],
          "contourcarpet": [
           {
            "colorbar": {
             "outlinewidth": 0,
             "ticks": ""
            },
            "type": "contourcarpet"
           }
          ],
          "heatmap": [
           {
            "colorbar": {
             "outlinewidth": 0,
             "ticks": ""
            },
            "colorscale": [
             [
              0,
              "#0d0887"
             ],
             [
              0.1111111111111111,
              "#46039f"
             ],
             [
              0.2222222222222222,
              "#7201a8"
             ],
             [
              0.3333333333333333,
              "#9c179e"
             ],
             [
              0.4444444444444444,
              "#bd3786"
             ],
             [
              0.5555555555555556,
              "#d8576b"
             ],
             [
              0.6666666666666666,
              "#ed7953"
             ],
             [
              0.7777777777777778,
              "#fb9f3a"
             ],
             [
              0.8888888888888888,
              "#fdca26"
             ],
             [
              1,
              "#f0f921"
             ]
            ],
            "type": "heatmap"
           }
          ],
          "heatmapgl": [
           {
            "colorbar": {
             "outlinewidth": 0,
             "ticks": ""
            },
            "colorscale": [
             [
              0,
              "#0d0887"
             ],
             [
              0.1111111111111111,
              "#46039f"
             ],
             [
              0.2222222222222222,
              "#7201a8"
             ],
             [
              0.3333333333333333,
              "#9c179e"
             ],
             [
              0.4444444444444444,
              "#bd3786"
             ],
             [
              0.5555555555555556,
              "#d8576b"
             ],
             [
              0.6666666666666666,
              "#ed7953"
             ],
             [
              0.7777777777777778,
              "#fb9f3a"
             ],
             [
              0.8888888888888888,
              "#fdca26"
             ],
             [
              1,
              "#f0f921"
             ]
            ],
            "type": "heatmapgl"
           }
          ],
          "histogram": [
           {
            "marker": {
             "pattern": {
              "fillmode": "overlay",
              "size": 10,
              "solidity": 0.2
             }
            },
            "type": "histogram"
           }
          ],
          "histogram2d": [
           {
            "colorbar": {
             "outlinewidth": 0,
             "ticks": ""
            },
            "colorscale": [
             [
              0,
              "#0d0887"
             ],
             [
              0.1111111111111111,
              "#46039f"
             ],
             [
              0.2222222222222222,
              "#7201a8"
             ],
             [
              0.3333333333333333,
              "#9c179e"
             ],
             [
              0.4444444444444444,
              "#bd3786"
             ],
             [
              0.5555555555555556,
              "#d8576b"
             ],
             [
              0.6666666666666666,
              "#ed7953"
             ],
             [
              0.7777777777777778,
              "#fb9f3a"
             ],
             [
              0.8888888888888888,
              "#fdca26"
             ],
             [
              1,
              "#f0f921"
             ]
            ],
            "type": "histogram2d"
           }
          ],
          "histogram2dcontour": [
           {
            "colorbar": {
             "outlinewidth": 0,
             "ticks": ""
            },
            "colorscale": [
             [
              0,
              "#0d0887"
             ],
             [
              0.1111111111111111,
              "#46039f"
             ],
             [
              0.2222222222222222,
              "#7201a8"
             ],
             [
              0.3333333333333333,
              "#9c179e"
             ],
             [
              0.4444444444444444,
              "#bd3786"
             ],
             [
              0.5555555555555556,
              "#d8576b"
             ],
             [
              0.6666666666666666,
              "#ed7953"
             ],
             [
              0.7777777777777778,
              "#fb9f3a"
             ],
             [
              0.8888888888888888,
              "#fdca26"
             ],
             [
              1,
              "#f0f921"
             ]
            ],
            "type": "histogram2dcontour"
           }
          ],
          "mesh3d": [
           {
            "colorbar": {
             "outlinewidth": 0,
             "ticks": ""
            },
            "type": "mesh3d"
           }
          ],
          "parcoords": [
           {
            "line": {
             "colorbar": {
              "outlinewidth": 0,
              "ticks": ""
             }
            },
            "type": "parcoords"
           }
          ],
          "pie": [
           {
            "automargin": true,
            "type": "pie"
           }
          ],
          "scatter": [
           {
            "marker": {
             "colorbar": {
              "outlinewidth": 0,
              "ticks": ""
             }
            },
            "type": "scatter"
           }
          ],
          "scatter3d": [
           {
            "line": {
             "colorbar": {
              "outlinewidth": 0,
              "ticks": ""
             }
            },
            "marker": {
             "colorbar": {
              "outlinewidth": 0,
              "ticks": ""
             }
            },
            "type": "scatter3d"
           }
          ],
          "scattercarpet": [
           {
            "marker": {
             "colorbar": {
              "outlinewidth": 0,
              "ticks": ""
             }
            },
            "type": "scattercarpet"
           }
          ],
          "scattergeo": [
           {
            "marker": {
             "colorbar": {
              "outlinewidth": 0,
              "ticks": ""
             }
            },
            "type": "scattergeo"
           }
          ],
          "scattergl": [
           {
            "marker": {
             "colorbar": {
              "outlinewidth": 0,
              "ticks": ""
             }
            },
            "type": "scattergl"
           }
          ],
          "scattermapbox": [
           {
            "marker": {
             "colorbar": {
              "outlinewidth": 0,
              "ticks": ""
             }
            },
            "type": "scattermapbox"
           }
          ],
          "scatterpolar": [
           {
            "marker": {
             "colorbar": {
              "outlinewidth": 0,
              "ticks": ""
             }
            },
            "type": "scatterpolar"
           }
          ],
          "scatterpolargl": [
           {
            "marker": {
             "colorbar": {
              "outlinewidth": 0,
              "ticks": ""
             }
            },
            "type": "scatterpolargl"
           }
          ],
          "scatterternary": [
           {
            "marker": {
             "colorbar": {
              "outlinewidth": 0,
              "ticks": ""
             }
            },
            "type": "scatterternary"
           }
          ],
          "surface": [
           {
            "colorbar": {
             "outlinewidth": 0,
             "ticks": ""
            },
            "colorscale": [
             [
              0,
              "#0d0887"
             ],
             [
              0.1111111111111111,
              "#46039f"
             ],
             [
              0.2222222222222222,
              "#7201a8"
             ],
             [
              0.3333333333333333,
              "#9c179e"
             ],
             [
              0.4444444444444444,
              "#bd3786"
             ],
             [
              0.5555555555555556,
              "#d8576b"
             ],
             [
              0.6666666666666666,
              "#ed7953"
             ],
             [
              0.7777777777777778,
              "#fb9f3a"
             ],
             [
              0.8888888888888888,
              "#fdca26"
             ],
             [
              1,
              "#f0f921"
             ]
            ],
            "type": "surface"
           }
          ],
          "table": [
           {
            "cells": {
             "fill": {
              "color": "#EBF0F8"
             },
             "line": {
              "color": "white"
             }
            },
            "header": {
             "fill": {
              "color": "#C8D4E3"
             },
             "line": {
              "color": "white"
             }
            },
            "type": "table"
           }
          ]
         },
         "layout": {
          "annotationdefaults": {
           "arrowcolor": "#2a3f5f",
           "arrowhead": 0,
           "arrowwidth": 1
          },
          "autotypenumbers": "strict",
          "coloraxis": {
           "colorbar": {
            "outlinewidth": 0,
            "ticks": ""
           }
          },
          "colorscale": {
           "diverging": [
            [
             0,
             "#8e0152"
            ],
            [
             0.1,
             "#c51b7d"
            ],
            [
             0.2,
             "#de77ae"
            ],
            [
             0.3,
             "#f1b6da"
            ],
            [
             0.4,
             "#fde0ef"
            ],
            [
             0.5,
             "#f7f7f7"
            ],
            [
             0.6,
             "#e6f5d0"
            ],
            [
             0.7,
             "#b8e186"
            ],
            [
             0.8,
             "#7fbc41"
            ],
            [
             0.9,
             "#4d9221"
            ],
            [
             1,
             "#276419"
            ]
           ],
           "sequential": [
            [
             0,
             "#0d0887"
            ],
            [
             0.1111111111111111,
             "#46039f"
            ],
            [
             0.2222222222222222,
             "#7201a8"
            ],
            [
             0.3333333333333333,
             "#9c179e"
            ],
            [
             0.4444444444444444,
             "#bd3786"
            ],
            [
             0.5555555555555556,
             "#d8576b"
            ],
            [
             0.6666666666666666,
             "#ed7953"
            ],
            [
             0.7777777777777778,
             "#fb9f3a"
            ],
            [
             0.8888888888888888,
             "#fdca26"
            ],
            [
             1,
             "#f0f921"
            ]
           ],
           "sequentialminus": [
            [
             0,
             "#0d0887"
            ],
            [
             0.1111111111111111,
             "#46039f"
            ],
            [
             0.2222222222222222,
             "#7201a8"
            ],
            [
             0.3333333333333333,
             "#9c179e"
            ],
            [
             0.4444444444444444,
             "#bd3786"
            ],
            [
             0.5555555555555556,
             "#d8576b"
            ],
            [
             0.6666666666666666,
             "#ed7953"
            ],
            [
             0.7777777777777778,
             "#fb9f3a"
            ],
            [
             0.8888888888888888,
             "#fdca26"
            ],
            [
             1,
             "#f0f921"
            ]
           ]
          },
          "colorway": [
           "#636efa",
           "#EF553B",
           "#00cc96",
           "#ab63fa",
           "#FFA15A",
           "#19d3f3",
           "#FF6692",
           "#B6E880",
           "#FF97FF",
           "#FECB52"
          ],
          "font": {
           "color": "#2a3f5f"
          },
          "geo": {
           "bgcolor": "white",
           "lakecolor": "white",
           "landcolor": "#E5ECF6",
           "showlakes": true,
           "showland": true,
           "subunitcolor": "white"
          },
          "hoverlabel": {
           "align": "left"
          },
          "hovermode": "closest",
          "mapbox": {
           "style": "light"
          },
          "paper_bgcolor": "white",
          "plot_bgcolor": "#E5ECF6",
          "polar": {
           "angularaxis": {
            "gridcolor": "white",
            "linecolor": "white",
            "ticks": ""
           },
           "bgcolor": "#E5ECF6",
           "radialaxis": {
            "gridcolor": "white",
            "linecolor": "white",
            "ticks": ""
           }
          },
          "scene": {
           "xaxis": {
            "backgroundcolor": "#E5ECF6",
            "gridcolor": "white",
            "gridwidth": 2,
            "linecolor": "white",
            "showbackground": true,
            "ticks": "",
            "zerolinecolor": "white"
           },
           "yaxis": {
            "backgroundcolor": "#E5ECF6",
            "gridcolor": "white",
            "gridwidth": 2,
            "linecolor": "white",
            "showbackground": true,
            "ticks": "",
            "zerolinecolor": "white"
           },
           "zaxis": {
            "backgroundcolor": "#E5ECF6",
            "gridcolor": "white",
            "gridwidth": 2,
            "linecolor": "white",
            "showbackground": true,
            "ticks": "",
            "zerolinecolor": "white"
           }
          },
          "shapedefaults": {
           "line": {
            "color": "#2a3f5f"
           }
          },
          "ternary": {
           "aaxis": {
            "gridcolor": "white",
            "linecolor": "white",
            "ticks": ""
           },
           "baxis": {
            "gridcolor": "white",
            "linecolor": "white",
            "ticks": ""
           },
           "bgcolor": "#E5ECF6",
           "caxis": {
            "gridcolor": "white",
            "linecolor": "white",
            "ticks": ""
           }
          },
          "title": {
           "x": 0.05
          },
          "xaxis": {
           "automargin": true,
           "gridcolor": "white",
           "linecolor": "white",
           "ticks": "",
           "title": {
            "standoff": 15
           },
           "zerolinecolor": "white",
           "zerolinewidth": 2
          },
          "yaxis": {
           "automargin": true,
           "gridcolor": "white",
           "linecolor": "white",
           "ticks": "",
           "title": {
            "standoff": 15
           },
           "zerolinecolor": "white",
           "zerolinewidth": 2
          }
         }
        },
        "title": {
         "text": "2022",
         "x": 0.5,
         "xanchor": "center",
         "y": 0.984,
         "yanchor": "top"
        },
        "width": 750
       }
      },
      "text/html": [
       "<div>                            <div id=\"1d595e86-fc3c-453e-8bdf-01673c49230e\" class=\"plotly-graph-div\" style=\"height:500px; width:750px;\"></div>            <script type=\"text/javascript\">                require([\"plotly\"], function(Plotly) {                    window.PLOTLYENV=window.PLOTLYENV || {};                                    if (document.getElementById(\"1d595e86-fc3c-453e-8bdf-01673c49230e\")) {                    Plotly.newPlot(                        \"1d595e86-fc3c-453e-8bdf-01673c49230e\",                        [{\"lat\":[30.2563,30.27193,30.25987,30.25542,30.268887,30.27466,30.25839,30.26455,30.26332,30.27217,30.26406,30.28953,30.2898,30.28354,30.283,30.26269,30.26139,30.252,30.26214,30.24472,30.2587,30.28039,30.27654,30.27595,30.27624,30.267263,30.27336,30.26912,30.26735,30.26717,30.25971,30.26896,30.26968,30.25226,30.26854,30.26452,30.2659,30.26446,30.255906,30.262,30.26032,30.27186,30.26408,30.26634,30.2698,30.2726,30.2696,30.25103,30.24891,30.27041,30.26426,30.27974,30.26217,30.25895,30.28395,30.28576,30.26476,30.25941,30.2678,30.26822,30.26697,30.27616,30.25457,30.27807,30.29439,30.2853,30.29333,30.26754,30.2856,30.29068,30.28728,30.27059,30.25495,30.27489,30.27024,30.26888,30.26969,30.26638,30.26416,30.25802,30.26304,30.26025,30.244961,30.24258,30.26383,30.27106,30.2848,30.27907,30.26587,30.26694,30.26461,30.28118,30.25212,30.27924,30.2741,30.2874,30.2862,30.264327,30.260814,30.25752616374899,30.293172940393987,30.287268378033133,30.274144170275143],\"lon\":[-97.71007,-97.73854,-97.72373,-97.71665,-97.745242,-97.77028,-97.74592,-97.73165,-97.74508,-97.75246,-97.76385,-97.73695,-97.74041,-97.73953,-97.7375,-97.72438,-97.77234,-97.7346,-97.7387,-97.72336,-97.74872,-97.73809,-97.74155,-97.74739,-97.74831,-97.747144,-97.73805,-97.73986,-97.73933,-97.75484,-97.75346,-97.72843,-97.73074,-97.74854,-97.73646,-97.7712,-97.76822,-97.75665,-97.739949,-97.76118,-97.71899,-97.73997,-97.74355,-97.74378,-97.74186,-97.74127,-97.75332,-97.74926,-97.75019,-97.75046,-97.74023,-97.74254,-97.72743,-97.71475,-97.74198,-97.74181,-97.74678,-97.74971,-97.75189,-97.74285,-97.74929,-97.74488,-97.74258,-97.77272,-97.78375,-97.7467,-97.74412,-97.74154,-97.7335,-97.74292,-97.74495,-97.74441,-97.74755,-97.76483,-97.73578,-97.72431,-97.71873,-97.7214,-97.73289,-97.7391,-97.75824,-97.71002,-97.751272,-97.71726,-97.72864,-97.74563,-97.72756,-97.73715,-97.76826,-97.74939,-97.73049,-97.75219,-97.69807,-97.74371,-97.73666,-97.7478,-97.74516,-97.736446,-97.738086,-97.74896370141833,-97.74409660233584,-97.74658031642245,-97.73658827463835],\"marker\":{\"color\":\"#cc0079\",\"size\":[2.981333333333333,2.2213333333333334,3.736,2.488,2.578666666666667,7.352,7.672,9.069333333333333,6.992,4.864,6.656,47.35466666666667,35.52,19.050666666666668,89.568,4.504,5.112,7.661333333333333,5.757333333333333,12.418666666666667,0.7946666666666666,0.0,0.0,2.8186666666666667,0.0,6.192,2.7333333333333334,2.0773333333333333,3.917333333333333,9.250666666666667,7.461333333333333,1.9013333333333333,3.112,4.021333333333334,3.52,6.213333333333333,8.274666666666667,11.616,16.042666666666666,5.586666666666667,1.688,0.0,8.434666666666667,8.773333333333333,4.624,7.8533333333333335,8.922666666666666,3.469333333333333,3.6133333333333333,5.112,8.237333333333334,0.0,10.421333333333333,3.1413333333333333,32.090666666666664,29.914666666666665,9.101333333333333,5.589333333333333,13.168,11.037333333333333,10.754666666666667,0.0,8.704,5.168,2.2986666666666666,29.690666666666665,4.952,4.24,19.490666666666666,40.538666666666664,0.0,3.192,5.826666666666667,4.690666666666667,1.56,1.5306666666666666,1.2266666666666666,1.4986666666666666,0.0,0.0,0.0,0.0,3.7413333333333334,7.938666666666666,0.0,0.0,0.0,0.0,0.0,0.0,0.0,0.0,2.432,7.48,0.0,0.0,12.922666666666666,4.016,6.338666666666667,1.4426666666666668,25.234666666666666,25.269333333333332,2.5653333333333332]},\"mode\":\"markers\",\"type\":\"scattermapbox\"}],                        {\"autosize\":false,\"font\":{\"color\":\"Black\",\"family\":\"Droid Sans\",\"size\":16},\"height\":500,\"hovermode\":\"closest\",\"mapbox\":{\"accesstoken\":\"pk.eyJ1IjoiZmx5aW5nY2FwZSIsImEiOiJjbDd0YWZnc2YwZ3ZzM29yeDQ4bDl3dHZtIn0.q09s_595pGToclUeM8ojQQ\",\"bearing\":0,\"center\":{\"lat\":30.268485,\"lon\":-97.74091},\"pitch\":0,\"style\":\"streets\",\"zoom\":12.25},\"margin\":{\"b\":0,\"l\":5,\"pad\":0.2,\"r\":5,\"t\":30},\"paper_bgcolor\":\"White\",\"template\":{\"data\":{\"bar\":[{\"error_x\":{\"color\":\"#2a3f5f\"},\"error_y\":{\"color\":\"#2a3f5f\"},\"marker\":{\"line\":{\"color\":\"#E5ECF6\",\"width\":0.5},\"pattern\":{\"fillmode\":\"overlay\",\"size\":10,\"solidity\":0.2}},\"type\":\"bar\"}],\"barpolar\":[{\"marker\":{\"line\":{\"color\":\"#E5ECF6\",\"width\":0.5},\"pattern\":{\"fillmode\":\"overlay\",\"size\":10,\"solidity\":0.2}},\"type\":\"barpolar\"}],\"carpet\":[{\"aaxis\":{\"endlinecolor\":\"#2a3f5f\",\"gridcolor\":\"white\",\"linecolor\":\"white\",\"minorgridcolor\":\"white\",\"startlinecolor\":\"#2a3f5f\"},\"baxis\":{\"endlinecolor\":\"#2a3f5f\",\"gridcolor\":\"white\",\"linecolor\":\"white\",\"minorgridcolor\":\"white\",\"startlinecolor\":\"#2a3f5f\"},\"type\":\"carpet\"}],\"choropleth\":[{\"colorbar\":{\"outlinewidth\":0,\"ticks\":\"\"},\"type\":\"choropleth\"}],\"contour\":[{\"colorbar\":{\"outlinewidth\":0,\"ticks\":\"\"},\"colorscale\":[[0.0,\"#0d0887\"],[0.1111111111111111,\"#46039f\"],[0.2222222222222222,\"#7201a8\"],[0.3333333333333333,\"#9c179e\"],[0.4444444444444444,\"#bd3786\"],[0.5555555555555556,\"#d8576b\"],[0.6666666666666666,\"#ed7953\"],[0.7777777777777778,\"#fb9f3a\"],[0.8888888888888888,\"#fdca26\"],[1.0,\"#f0f921\"]],\"type\":\"contour\"}],\"contourcarpet\":[{\"colorbar\":{\"outlinewidth\":0,\"ticks\":\"\"},\"type\":\"contourcarpet\"}],\"heatmap\":[{\"colorbar\":{\"outlinewidth\":0,\"ticks\":\"\"},\"colorscale\":[[0.0,\"#0d0887\"],[0.1111111111111111,\"#46039f\"],[0.2222222222222222,\"#7201a8\"],[0.3333333333333333,\"#9c179e\"],[0.4444444444444444,\"#bd3786\"],[0.5555555555555556,\"#d8576b\"],[0.6666666666666666,\"#ed7953\"],[0.7777777777777778,\"#fb9f3a\"],[0.8888888888888888,\"#fdca26\"],[1.0,\"#f0f921\"]],\"type\":\"heatmap\"}],\"heatmapgl\":[{\"colorbar\":{\"outlinewidth\":0,\"ticks\":\"\"},\"colorscale\":[[0.0,\"#0d0887\"],[0.1111111111111111,\"#46039f\"],[0.2222222222222222,\"#7201a8\"],[0.3333333333333333,\"#9c179e\"],[0.4444444444444444,\"#bd3786\"],[0.5555555555555556,\"#d8576b\"],[0.6666666666666666,\"#ed7953\"],[0.7777777777777778,\"#fb9f3a\"],[0.8888888888888888,\"#fdca26\"],[1.0,\"#f0f921\"]],\"type\":\"heatmapgl\"}],\"histogram\":[{\"marker\":{\"pattern\":{\"fillmode\":\"overlay\",\"size\":10,\"solidity\":0.2}},\"type\":\"histogram\"}],\"histogram2d\":[{\"colorbar\":{\"outlinewidth\":0,\"ticks\":\"\"},\"colorscale\":[[0.0,\"#0d0887\"],[0.1111111111111111,\"#46039f\"],[0.2222222222222222,\"#7201a8\"],[0.3333333333333333,\"#9c179e\"],[0.4444444444444444,\"#bd3786\"],[0.5555555555555556,\"#d8576b\"],[0.6666666666666666,\"#ed7953\"],[0.7777777777777778,\"#fb9f3a\"],[0.8888888888888888,\"#fdca26\"],[1.0,\"#f0f921\"]],\"type\":\"histogram2d\"}],\"histogram2dcontour\":[{\"colorbar\":{\"outlinewidth\":0,\"ticks\":\"\"},\"colorscale\":[[0.0,\"#0d0887\"],[0.1111111111111111,\"#46039f\"],[0.2222222222222222,\"#7201a8\"],[0.3333333333333333,\"#9c179e\"],[0.4444444444444444,\"#bd3786\"],[0.5555555555555556,\"#d8576b\"],[0.6666666666666666,\"#ed7953\"],[0.7777777777777778,\"#fb9f3a\"],[0.8888888888888888,\"#fdca26\"],[1.0,\"#f0f921\"]],\"type\":\"histogram2dcontour\"}],\"mesh3d\":[{\"colorbar\":{\"outlinewidth\":0,\"ticks\":\"\"},\"type\":\"mesh3d\"}],\"parcoords\":[{\"line\":{\"colorbar\":{\"outlinewidth\":0,\"ticks\":\"\"}},\"type\":\"parcoords\"}],\"pie\":[{\"automargin\":true,\"type\":\"pie\"}],\"scatter\":[{\"marker\":{\"colorbar\":{\"outlinewidth\":0,\"ticks\":\"\"}},\"type\":\"scatter\"}],\"scatter3d\":[{\"line\":{\"colorbar\":{\"outlinewidth\":0,\"ticks\":\"\"}},\"marker\":{\"colorbar\":{\"outlinewidth\":0,\"ticks\":\"\"}},\"type\":\"scatter3d\"}],\"scattercarpet\":[{\"marker\":{\"colorbar\":{\"outlinewidth\":0,\"ticks\":\"\"}},\"type\":\"scattercarpet\"}],\"scattergeo\":[{\"marker\":{\"colorbar\":{\"outlinewidth\":0,\"ticks\":\"\"}},\"type\":\"scattergeo\"}],\"scattergl\":[{\"marker\":{\"colorbar\":{\"outlinewidth\":0,\"ticks\":\"\"}},\"type\":\"scattergl\"}],\"scattermapbox\":[{\"marker\":{\"colorbar\":{\"outlinewidth\":0,\"ticks\":\"\"}},\"type\":\"scattermapbox\"}],\"scatterpolar\":[{\"marker\":{\"colorbar\":{\"outlinewidth\":0,\"ticks\":\"\"}},\"type\":\"scatterpolar\"}],\"scatterpolargl\":[{\"marker\":{\"colorbar\":{\"outlinewidth\":0,\"ticks\":\"\"}},\"type\":\"scatterpolargl\"}],\"scatterternary\":[{\"marker\":{\"colorbar\":{\"outlinewidth\":0,\"ticks\":\"\"}},\"type\":\"scatterternary\"}],\"surface\":[{\"colorbar\":{\"outlinewidth\":0,\"ticks\":\"\"},\"colorscale\":[[0.0,\"#0d0887\"],[0.1111111111111111,\"#46039f\"],[0.2222222222222222,\"#7201a8\"],[0.3333333333333333,\"#9c179e\"],[0.4444444444444444,\"#bd3786\"],[0.5555555555555556,\"#d8576b\"],[0.6666666666666666,\"#ed7953\"],[0.7777777777777778,\"#fb9f3a\"],[0.8888888888888888,\"#fdca26\"],[1.0,\"#f0f921\"]],\"type\":\"surface\"}],\"table\":[{\"cells\":{\"fill\":{\"color\":\"#EBF0F8\"},\"line\":{\"color\":\"white\"}},\"header\":{\"fill\":{\"color\":\"#C8D4E3\"},\"line\":{\"color\":\"white\"}},\"type\":\"table\"}]},\"layout\":{\"annotationdefaults\":{\"arrowcolor\":\"#2a3f5f\",\"arrowhead\":0,\"arrowwidth\":1},\"autotypenumbers\":\"strict\",\"coloraxis\":{\"colorbar\":{\"outlinewidth\":0,\"ticks\":\"\"}},\"colorscale\":{\"diverging\":[[0,\"#8e0152\"],[0.1,\"#c51b7d\"],[0.2,\"#de77ae\"],[0.3,\"#f1b6da\"],[0.4,\"#fde0ef\"],[0.5,\"#f7f7f7\"],[0.6,\"#e6f5d0\"],[0.7,\"#b8e186\"],[0.8,\"#7fbc41\"],[0.9,\"#4d9221\"],[1,\"#276419\"]],\"sequential\":[[0.0,\"#0d0887\"],[0.1111111111111111,\"#46039f\"],[0.2222222222222222,\"#7201a8\"],[0.3333333333333333,\"#9c179e\"],[0.4444444444444444,\"#bd3786\"],[0.5555555555555556,\"#d8576b\"],[0.6666666666666666,\"#ed7953\"],[0.7777777777777778,\"#fb9f3a\"],[0.8888888888888888,\"#fdca26\"],[1.0,\"#f0f921\"]],\"sequentialminus\":[[0.0,\"#0d0887\"],[0.1111111111111111,\"#46039f\"],[0.2222222222222222,\"#7201a8\"],[0.3333333333333333,\"#9c179e\"],[0.4444444444444444,\"#bd3786\"],[0.5555555555555556,\"#d8576b\"],[0.6666666666666666,\"#ed7953\"],[0.7777777777777778,\"#fb9f3a\"],[0.8888888888888888,\"#fdca26\"],[1.0,\"#f0f921\"]]},\"colorway\":[\"#636efa\",\"#EF553B\",\"#00cc96\",\"#ab63fa\",\"#FFA15A\",\"#19d3f3\",\"#FF6692\",\"#B6E880\",\"#FF97FF\",\"#FECB52\"],\"font\":{\"color\":\"#2a3f5f\"},\"geo\":{\"bgcolor\":\"white\",\"lakecolor\":\"white\",\"landcolor\":\"#E5ECF6\",\"showlakes\":true,\"showland\":true,\"subunitcolor\":\"white\"},\"hoverlabel\":{\"align\":\"left\"},\"hovermode\":\"closest\",\"mapbox\":{\"style\":\"light\"},\"paper_bgcolor\":\"white\",\"plot_bgcolor\":\"#E5ECF6\",\"polar\":{\"angularaxis\":{\"gridcolor\":\"white\",\"linecolor\":\"white\",\"ticks\":\"\"},\"bgcolor\":\"#E5ECF6\",\"radialaxis\":{\"gridcolor\":\"white\",\"linecolor\":\"white\",\"ticks\":\"\"}},\"scene\":{\"xaxis\":{\"backgroundcolor\":\"#E5ECF6\",\"gridcolor\":\"white\",\"gridwidth\":2,\"linecolor\":\"white\",\"showbackground\":true,\"ticks\":\"\",\"zerolinecolor\":\"white\"},\"yaxis\":{\"backgroundcolor\":\"#E5ECF6\",\"gridcolor\":\"white\",\"gridwidth\":2,\"linecolor\":\"white\",\"showbackground\":true,\"ticks\":\"\",\"zerolinecolor\":\"white\"},\"zaxis\":{\"backgroundcolor\":\"#E5ECF6\",\"gridcolor\":\"white\",\"gridwidth\":2,\"linecolor\":\"white\",\"showbackground\":true,\"ticks\":\"\",\"zerolinecolor\":\"white\"}},\"shapedefaults\":{\"line\":{\"color\":\"#2a3f5f\"}},\"ternary\":{\"aaxis\":{\"gridcolor\":\"white\",\"linecolor\":\"white\",\"ticks\":\"\"},\"baxis\":{\"gridcolor\":\"white\",\"linecolor\":\"white\",\"ticks\":\"\"},\"bgcolor\":\"#E5ECF6\",\"caxis\":{\"gridcolor\":\"white\",\"linecolor\":\"white\",\"ticks\":\"\"}},\"title\":{\"x\":0.05},\"xaxis\":{\"automargin\":true,\"gridcolor\":\"white\",\"linecolor\":\"white\",\"ticks\":\"\",\"title\":{\"standoff\":15},\"zerolinecolor\":\"white\",\"zerolinewidth\":2},\"yaxis\":{\"automargin\":true,\"gridcolor\":\"white\",\"linecolor\":\"white\",\"ticks\":\"\",\"title\":{\"standoff\":15},\"zerolinecolor\":\"white\",\"zerolinewidth\":2}}},\"title\":{\"text\":\"2022\",\"x\":0.5,\"xanchor\":\"center\",\"y\":0.984,\"yanchor\":\"top\"},\"width\":750},                        {\"responsive\": true}                    ).then(function(){\n",
       "                            \n",
       "var gd = document.getElementById('1d595e86-fc3c-453e-8bdf-01673c49230e');\n",
       "var x = new MutationObserver(function (mutations, observer) {{\n",
       "        var display = window.getComputedStyle(gd).display;\n",
       "        if (!display || display === 'none') {{\n",
       "            console.log([gd, 'removed!']);\n",
       "            Plotly.purge(gd);\n",
       "            observer.disconnect();\n",
       "        }}\n",
       "}});\n",
       "\n",
       "// Listen for the removal of the full notebook cells\n",
       "var notebookContainer = gd.closest('#notebook-container');\n",
       "if (notebookContainer) {{\n",
       "    x.observe(notebookContainer, {childList: true});\n",
       "}}\n",
       "\n",
       "// Listen for the clearing of the current output cell\n",
       "var outputEl = gd.closest('.output');\n",
       "if (outputEl) {{\n",
       "    x.observe(outputEl, {childList: true});\n",
       "}}\n",
       "\n",
       "                        })                };                });            </script>        </div>"
      ]
     },
     "metadata": {},
     "output_type": "display_data"
    }
   ],
   "source": [
    "#https://plotly.com/python/scattermapbox/\n",
    "import plotly.graph_objects as go\n",
    "\n",
    "mapbox_access_token = \"pk.eyJ1IjoiZmx5aW5nY2FwZSIsImEiOiJjbDd0YWZnc2YwZ3ZzM29yeDQ4bDl3dHZtIn0.q09s_595pGToclUeM8ojQQ\"\n",
    "\n",
    "fig2 = go.Figure(go.Scattermapbox(\n",
    "        lat = kiosk_geo['Latitude'],\n",
    "        lon = kiosk_geo['Longitude'],\n",
    "        #text = kiosk_geo['text'],\n",
    "        mode='markers',\n",
    "        marker=go.scattermapbox.Marker(\n",
    "            size = kiosk_geo['Rides_2022']/msize_divby, color = color_dark,\n",
    "        ), \n",
    "        ))\n",
    "\n",
    "fig2.update_layout(\n",
    "    hovermode='closest',\n",
    "    mapbox=dict(\n",
    "        accesstoken=mapbox_access_token,\n",
    "        bearing=0,\n",
    "        center=go.layout.mapbox.Center(\n",
    "            lat=(kiosk_geo['Latitude'].min()+kiosk_geo['Latitude'].max())/2,\n",
    "            lon=(kiosk_geo['Longitude'].min()+kiosk_geo['Longitude'].max())/2\n",
    "        ),\n",
    "        pitch=0,\n",
    "        zoom=12.25,\n",
    "        style = 'streets'\n",
    "    ),\n",
    ")\n",
    "\n",
    "fig2.update_layout(\n",
    "    title = \"2020\",\n",
    "    autosize=False,\n",
    "    width=750,\n",
    "    height=500,\n",
    "        margin=dict(\n",
    "        l=0.5,\n",
    "        r=0.5,\n",
    "        b=0.5,\n",
    "        t=0.5,\n",
    "        pad=0.20\n",
    "    ),\n",
    "    paper_bgcolor=\"White\",\n",
    ")\n",
    "\n",
    "fig2.update_layout(margin={\"r\":5,\"t\":30,\"l\":5,\"b\":0},\n",
    "                  font=dict(\n",
    "                    family=\"Droid Sans\",\n",
    "                    size=16,\n",
    "                    color=\"Black\"\n",
    "                    ),\n",
    "                    title={\n",
    "                    'text': \"2022\",\n",
    "                    'y':0.984,\n",
    "                    'x':0.5,\n",
    "                    'xanchor': 'center',\n",
    "                    'yanchor': 'top'}\n",
    "                  )\n",
    "\n",
    "fig2.show()"
   ]
  },
  {
   "cell_type": "code",
   "execution_count": 195,
   "id": "c4264a5e",
   "metadata": {},
   "outputs": [
    {
     "data": {
      "text/plain": [
       "'https://plotly.com/~flyingcape/54/'"
      ]
     },
     "execution_count": 195,
     "metadata": {},
     "output_type": "execute_result"
    }
   ],
   "source": [
    "import chart_studio\n",
    "username='flyingcape'\n",
    "api_key='NI4xzO3e4BldD5kASCBo'\n",
    "chart_studio.tools.set_credentials_file(username=username,\n",
    "                                        api_key=api_key)\n",
    "\n",
    "import chart_studio.plotly as py\n",
    "\n",
    "py.plot(fig2, filename=\"2022_map\", auto_open = True)"
   ]
  },
  {
   "cell_type": "code",
   "execution_count": 193,
   "id": "2b00f653",
   "metadata": {},
   "outputs": [],
   "source": [
    "kiosk_temp = kiosk_geo.loc[kiosk_geo['Neighborhood'].isin(['UT AUSTIN','WEST UNIVERSITY'])]"
   ]
  },
  {
   "cell_type": "code",
   "execution_count": 204,
   "id": "306f3777",
   "metadata": {},
   "outputs": [
    {
     "data": {
      "text/html": [
       "<div>\n",
       "<style scoped>\n",
       "    .dataframe tbody tr th:only-of-type {\n",
       "        vertical-align: middle;\n",
       "    }\n",
       "\n",
       "    .dataframe tbody tr th {\n",
       "        vertical-align: top;\n",
       "    }\n",
       "\n",
       "    .dataframe thead th {\n",
       "        text-align: right;\n",
       "    }\n",
       "</style>\n",
       "<table border=\"1\" class=\"dataframe\">\n",
       "  <thead>\n",
       "    <tr style=\"text-align: right;\">\n",
       "      <th></th>\n",
       "      <th>Unnamed: 0</th>\n",
       "      <th>Trip ID</th>\n",
       "      <th>Membership Name</th>\n",
       "      <th>Bicycle ID</th>\n",
       "      <th>Bike Type</th>\n",
       "      <th>Checkout Date</th>\n",
       "      <th>Checkout Time</th>\n",
       "      <th>Checkout Kiosk ID</th>\n",
       "      <th>Checkout Kiosk</th>\n",
       "      <th>Return Kiosk ID</th>\n",
       "      <th>Return Kiosk</th>\n",
       "      <th>Trip Duration Minutes</th>\n",
       "      <th>Month_orig</th>\n",
       "      <th>Year_orig</th>\n",
       "      <th>Checkout DateTime</th>\n",
       "      <th>Return DateTime</th>\n",
       "      <th>Year</th>\n",
       "      <th>Month</th>\n",
       "      <th>Weekday</th>\n",
       "      <th>Weekday_name</th>\n",
       "      <th>Checkout_Hour</th>\n",
       "      <th>Checkout_Min</th>\n",
       "      <th>Membership Type</th>\n",
       "      <th>Lat Checkout</th>\n",
       "      <th>Lon Checkout</th>\n",
       "      <th>Council District Checkout</th>\n",
       "      <th>Neighborhood Checkout</th>\n",
       "      <th>Lat Return</th>\n",
       "      <th>Lon Return</th>\n",
       "      <th>Council District Return</th>\n",
       "      <th>Neighborhood Return</th>\n",
       "      <th>Distance_Miles</th>\n",
       "    </tr>\n",
       "  </thead>\n",
       "  <tbody>\n",
       "    <tr>\n",
       "      <th>1525923</th>\n",
       "      <td>1525923</td>\n",
       "      <td>25919356</td>\n",
       "      <td>Local365</td>\n",
       "      <td>19789</td>\n",
       "      <td>NaN</td>\n",
       "      <td>01/17/2022</td>\n",
       "      <td>17:12:41</td>\n",
       "      <td>3799.0</td>\n",
       "      <td>23rd/San Jacinto @ DKR Stadium</td>\n",
       "      <td>7188.0</td>\n",
       "      <td>22nd/Pearl</td>\n",
       "      <td>7</td>\n",
       "      <td>NaN</td>\n",
       "      <td>NaN</td>\n",
       "      <td>2022-01-17 17:12:41</td>\n",
       "      <td>2022-01-17 17:19:41</td>\n",
       "      <td>2022</td>\n",
       "      <td>1</td>\n",
       "      <td>1</td>\n",
       "      <td>Monday</td>\n",
       "      <td>17</td>\n",
       "      <td>12</td>\n",
       "      <td>Annual</td>\n",
       "      <td>30.2856</td>\n",
       "      <td>-97.7335</td>\n",
       "      <td>1.0</td>\n",
       "      <td>UT AUSTIN</td>\n",
       "      <td>30.28530</td>\n",
       "      <td>-97.74670</td>\n",
       "      <td>9.0</td>\n",
       "      <td>WEST UNIVERSITY</td>\n",
       "      <td>0.787835</td>\n",
       "    </tr>\n",
       "    <tr>\n",
       "      <th>1525930</th>\n",
       "      <td>1525930</td>\n",
       "      <td>25907451</td>\n",
       "      <td>Local365</td>\n",
       "      <td>15063E</td>\n",
       "      <td>NaN</td>\n",
       "      <td>01/14/2022</td>\n",
       "      <td>11:18:04</td>\n",
       "      <td>3798.0</td>\n",
       "      <td>21st/Speedway @ PCL</td>\n",
       "      <td>2548.0</td>\n",
       "      <td>Guadalupe/West Mall @ University Co-op</td>\n",
       "      <td>3</td>\n",
       "      <td>NaN</td>\n",
       "      <td>NaN</td>\n",
       "      <td>2022-01-14 11:18:04</td>\n",
       "      <td>2022-01-14 11:21:04</td>\n",
       "      <td>2022</td>\n",
       "      <td>1</td>\n",
       "      <td>5</td>\n",
       "      <td>Friday</td>\n",
       "      <td>11</td>\n",
       "      <td>18</td>\n",
       "      <td>Annual</td>\n",
       "      <td>30.2830</td>\n",
       "      <td>-97.7375</td>\n",
       "      <td>9.0</td>\n",
       "      <td>UT AUSTIN</td>\n",
       "      <td>30.28576</td>\n",
       "      <td>-97.74181</td>\n",
       "      <td>9.0</td>\n",
       "      <td>WEST UNIVERSITY</td>\n",
       "      <td>0.320146</td>\n",
       "    </tr>\n",
       "    <tr>\n",
       "      <th>1525937</th>\n",
       "      <td>1525937</td>\n",
       "      <td>25936568</td>\n",
       "      <td>Local365</td>\n",
       "      <td>21868</td>\n",
       "      <td>NaN</td>\n",
       "      <td>01/23/2022</td>\n",
       "      <td>12:54:46</td>\n",
       "      <td>3798.0</td>\n",
       "      <td>21st/Speedway @ PCL</td>\n",
       "      <td>2494.0</td>\n",
       "      <td>2nd/Congress</td>\n",
       "      <td>22</td>\n",
       "      <td>NaN</td>\n",
       "      <td>NaN</td>\n",
       "      <td>2022-01-23 12:54:46</td>\n",
       "      <td>2022-01-23 13:16:46</td>\n",
       "      <td>2022</td>\n",
       "      <td>1</td>\n",
       "      <td>7</td>\n",
       "      <td>Sunday</td>\n",
       "      <td>12</td>\n",
       "      <td>54</td>\n",
       "      <td>Annual</td>\n",
       "      <td>30.2830</td>\n",
       "      <td>-97.7375</td>\n",
       "      <td>9.0</td>\n",
       "      <td>UT AUSTIN</td>\n",
       "      <td>30.26408</td>\n",
       "      <td>-97.74355</td>\n",
       "      <td>9.0</td>\n",
       "      <td>DOWNTOWN</td>\n",
       "      <td>1.356180</td>\n",
       "    </tr>\n",
       "    <tr>\n",
       "      <th>1525947</th>\n",
       "      <td>1525947</td>\n",
       "      <td>25922914</td>\n",
       "      <td>Local365</td>\n",
       "      <td>21621</td>\n",
       "      <td>NaN</td>\n",
       "      <td>01/18/2022</td>\n",
       "      <td>17:37:13</td>\n",
       "      <td>3798.0</td>\n",
       "      <td>21st/Speedway @ PCL</td>\n",
       "      <td>4938.0</td>\n",
       "      <td>22.5/Rio Grande</td>\n",
       "      <td>17</td>\n",
       "      <td>NaN</td>\n",
       "      <td>NaN</td>\n",
       "      <td>2022-01-18 17:37:13</td>\n",
       "      <td>2022-01-18 17:54:13</td>\n",
       "      <td>2022</td>\n",
       "      <td>1</td>\n",
       "      <td>2</td>\n",
       "      <td>Tuesday</td>\n",
       "      <td>17</td>\n",
       "      <td>37</td>\n",
       "      <td>Annual</td>\n",
       "      <td>30.2830</td>\n",
       "      <td>-97.7375</td>\n",
       "      <td>9.0</td>\n",
       "      <td>UT AUSTIN</td>\n",
       "      <td>30.28620</td>\n",
       "      <td>-97.74516</td>\n",
       "      <td>9.0</td>\n",
       "      <td>WEST UNIVERSITY</td>\n",
       "      <td>0.507701</td>\n",
       "    </tr>\n",
       "    <tr>\n",
       "      <th>1525954</th>\n",
       "      <td>1525954</td>\n",
       "      <td>25906389</td>\n",
       "      <td>Local365</td>\n",
       "      <td>16935</td>\n",
       "      <td>NaN</td>\n",
       "      <td>01/13/2022</td>\n",
       "      <td>20:13:13</td>\n",
       "      <td>3798.0</td>\n",
       "      <td>21st/Speedway @ PCL</td>\n",
       "      <td>3793.0</td>\n",
       "      <td>28th/Rio Grande</td>\n",
       "      <td>9</td>\n",
       "      <td>NaN</td>\n",
       "      <td>NaN</td>\n",
       "      <td>2022-01-13 20:13:13</td>\n",
       "      <td>2022-01-13 20:22:13</td>\n",
       "      <td>2022</td>\n",
       "      <td>1</td>\n",
       "      <td>4</td>\n",
       "      <td>Thursday</td>\n",
       "      <td>20</td>\n",
       "      <td>13</td>\n",
       "      <td>Annual</td>\n",
       "      <td>30.2830</td>\n",
       "      <td>-97.7375</td>\n",
       "      <td>9.0</td>\n",
       "      <td>UT AUSTIN</td>\n",
       "      <td>30.29333</td>\n",
       "      <td>-97.74412</td>\n",
       "      <td>9.0</td>\n",
       "      <td>WEST UNIVERSITY</td>\n",
       "      <td>0.815729</td>\n",
       "    </tr>\n",
       "  </tbody>\n",
       "</table>\n",
       "</div>"
      ],
      "text/plain": [
       "         Unnamed: 0   Trip ID Membership Name Bicycle ID  Bike Type  \\\n",
       "1525923     1525923  25919356        Local365      19789        NaN   \n",
       "1525930     1525930  25907451        Local365     15063E        NaN   \n",
       "1525937     1525937  25936568        Local365      21868        NaN   \n",
       "1525947     1525947  25922914        Local365      21621        NaN   \n",
       "1525954     1525954  25906389        Local365      16935        NaN   \n",
       "\n",
       "        Checkout Date Checkout Time  Checkout Kiosk ID  \\\n",
       "1525923    01/17/2022      17:12:41             3799.0   \n",
       "1525930    01/14/2022      11:18:04             3798.0   \n",
       "1525937    01/23/2022      12:54:46             3798.0   \n",
       "1525947    01/18/2022      17:37:13             3798.0   \n",
       "1525954    01/13/2022      20:13:13             3798.0   \n",
       "\n",
       "                         Checkout Kiosk  Return Kiosk ID  \\\n",
       "1525923  23rd/San Jacinto @ DKR Stadium           7188.0   \n",
       "1525930             21st/Speedway @ PCL           2548.0   \n",
       "1525937             21st/Speedway @ PCL           2494.0   \n",
       "1525947             21st/Speedway @ PCL           4938.0   \n",
       "1525954             21st/Speedway @ PCL           3793.0   \n",
       "\n",
       "                                   Return Kiosk  Trip Duration Minutes  \\\n",
       "1525923                              22nd/Pearl                      7   \n",
       "1525930  Guadalupe/West Mall @ University Co-op                      3   \n",
       "1525937                            2nd/Congress                     22   \n",
       "1525947                         22.5/Rio Grande                     17   \n",
       "1525954                         28th/Rio Grande                      9   \n",
       "\n",
       "         Month_orig  Year_orig    Checkout DateTime      Return DateTime  \\\n",
       "1525923         NaN        NaN  2022-01-17 17:12:41  2022-01-17 17:19:41   \n",
       "1525930         NaN        NaN  2022-01-14 11:18:04  2022-01-14 11:21:04   \n",
       "1525937         NaN        NaN  2022-01-23 12:54:46  2022-01-23 13:16:46   \n",
       "1525947         NaN        NaN  2022-01-18 17:37:13  2022-01-18 17:54:13   \n",
       "1525954         NaN        NaN  2022-01-13 20:13:13  2022-01-13 20:22:13   \n",
       "\n",
       "         Year  Month  Weekday Weekday_name  Checkout_Hour  Checkout_Min  \\\n",
       "1525923  2022      1        1       Monday             17            12   \n",
       "1525930  2022      1        5       Friday             11            18   \n",
       "1525937  2022      1        7       Sunday             12            54   \n",
       "1525947  2022      1        2      Tuesday             17            37   \n",
       "1525954  2022      1        4     Thursday             20            13   \n",
       "\n",
       "        Membership Type  Lat Checkout  Lon Checkout  \\\n",
       "1525923          Annual       30.2856      -97.7335   \n",
       "1525930          Annual       30.2830      -97.7375   \n",
       "1525937          Annual       30.2830      -97.7375   \n",
       "1525947          Annual       30.2830      -97.7375   \n",
       "1525954          Annual       30.2830      -97.7375   \n",
       "\n",
       "         Council District Checkout Neighborhood Checkout  Lat Return  \\\n",
       "1525923                        1.0             UT AUSTIN    30.28530   \n",
       "1525930                        9.0             UT AUSTIN    30.28576   \n",
       "1525937                        9.0             UT AUSTIN    30.26408   \n",
       "1525947                        9.0             UT AUSTIN    30.28620   \n",
       "1525954                        9.0             UT AUSTIN    30.29333   \n",
       "\n",
       "         Lon Return  Council District Return Neighborhood Return  \\\n",
       "1525923   -97.74670                      9.0     WEST UNIVERSITY   \n",
       "1525930   -97.74181                      9.0     WEST UNIVERSITY   \n",
       "1525937   -97.74355                      9.0            DOWNTOWN   \n",
       "1525947   -97.74516                      9.0     WEST UNIVERSITY   \n",
       "1525954   -97.74412                      9.0     WEST UNIVERSITY   \n",
       "\n",
       "         Distance_Miles  \n",
       "1525923        0.787835  \n",
       "1525930        0.320146  \n",
       "1525937        1.356180  \n",
       "1525947        0.507701  \n",
       "1525954        0.815729  "
      ]
     },
     "execution_count": 204,
     "metadata": {},
     "output_type": "execute_result"
    }
   ],
   "source": [
    "trips_temp = trips_2022.loc[trips_2022['Neighborhood Checkout']=='UT AUSTIN']\n",
    "trips_temp.head()"
   ]
  },
  {
   "cell_type": "code",
   "execution_count": 234,
   "id": "b30f2abe",
   "metadata": {},
   "outputs": [
    {
     "data": {
      "application/vnd.plotly.v1+json": {
       "config": {
        "plotlyServerURL": "https://plotly.com"
       },
       "data": [
        {
         "lat": [
          30.28953,
          30.2898,
          30.28354,
          30.283,
          30.28395,
          30.28576,
          30.2853,
          30.29333,
          30.2856,
          30.29068,
          30.28728,
          30.2848,
          30.2874,
          30.2862,
          30.293172940393987,
          30.287268378033133
         ],
         "lon": [
          -97.73695,
          -97.74041,
          -97.73953,
          -97.7375,
          -97.74198,
          -97.74181,
          -97.7467,
          -97.74412,
          -97.7335,
          -97.74292,
          -97.74495,
          -97.72756,
          -97.7478,
          -97.74516,
          -97.74409660233584,
          -97.74658031642245
         ],
         "marker": {
          "color": "#cc0079",
          "size": [
           64.57454545454546,
           48.43636363636364,
           25.978181818181817,
           122.13818181818182,
           43.76,
           40.79272727272727,
           40.487272727272725,
           6.752727272727273,
           26.578181818181818,
           55.28,
           0,
           0,
           0,
           17.62181818181818,
           34.410909090909094,
           34.45818181818182
          ]
         },
         "mode": "markers",
         "text": [
          2498,
          3795,
          3797,
          3798,
          2547,
          2548,
          7188,
          3793,
          3799,
          3838,
          3841,
          1004,
          111,
          4938,
          7189,
          7125
         ],
         "type": "scattermapbox"
        },
        {
         "lat": [
          40.7127,
          51.5072
         ],
         "line": {
          "color": "blue",
          "width": 2
         },
         "lon": [
          -74.0059,
          0.1275
         ],
         "mode": "lines",
         "type": "scattergeo"
        }
       ],
       "layout": {
        "autosize": false,
        "height": 500,
        "hovermode": "closest",
        "mapbox": {
         "accesstoken": "pk.eyJ1IjoiZmx5aW5nY2FwZSIsImEiOiJjbDd0YWZnc2YwZ3ZzM29yeDQ4bDl3dHZtIn0.q09s_595pGToclUeM8ojQQ",
         "bearing": 0,
         "center": {
          "lat": 30.286769815923922,
          "lon": -97.73900261896549
         },
         "pitch": 0,
         "style": "streets",
         "zoom": 13.75
        },
        "margin": {
         "b": 0.5,
         "l": 0.5,
         "pad": 0.2,
         "r": 0.5,
         "t": 0.5
        },
        "paper_bgcolor": "White",
        "template": {
         "data": {
          "bar": [
           {
            "error_x": {
             "color": "#2a3f5f"
            },
            "error_y": {
             "color": "#2a3f5f"
            },
            "marker": {
             "line": {
              "color": "#E5ECF6",
              "width": 0.5
             },
             "pattern": {
              "fillmode": "overlay",
              "size": 10,
              "solidity": 0.2
             }
            },
            "type": "bar"
           }
          ],
          "barpolar": [
           {
            "marker": {
             "line": {
              "color": "#E5ECF6",
              "width": 0.5
             },
             "pattern": {
              "fillmode": "overlay",
              "size": 10,
              "solidity": 0.2
             }
            },
            "type": "barpolar"
           }
          ],
          "carpet": [
           {
            "aaxis": {
             "endlinecolor": "#2a3f5f",
             "gridcolor": "white",
             "linecolor": "white",
             "minorgridcolor": "white",
             "startlinecolor": "#2a3f5f"
            },
            "baxis": {
             "endlinecolor": "#2a3f5f",
             "gridcolor": "white",
             "linecolor": "white",
             "minorgridcolor": "white",
             "startlinecolor": "#2a3f5f"
            },
            "type": "carpet"
           }
          ],
          "choropleth": [
           {
            "colorbar": {
             "outlinewidth": 0,
             "ticks": ""
            },
            "type": "choropleth"
           }
          ],
          "contour": [
           {
            "colorbar": {
             "outlinewidth": 0,
             "ticks": ""
            },
            "colorscale": [
             [
              0,
              "#0d0887"
             ],
             [
              0.1111111111111111,
              "#46039f"
             ],
             [
              0.2222222222222222,
              "#7201a8"
             ],
             [
              0.3333333333333333,
              "#9c179e"
             ],
             [
              0.4444444444444444,
              "#bd3786"
             ],
             [
              0.5555555555555556,
              "#d8576b"
             ],
             [
              0.6666666666666666,
              "#ed7953"
             ],
             [
              0.7777777777777778,
              "#fb9f3a"
             ],
             [
              0.8888888888888888,
              "#fdca26"
             ],
             [
              1,
              "#f0f921"
             ]
            ],
            "type": "contour"
           }
          ],
          "contourcarpet": [
           {
            "colorbar": {
             "outlinewidth": 0,
             "ticks": ""
            },
            "type": "contourcarpet"
           }
          ],
          "heatmap": [
           {
            "colorbar": {
             "outlinewidth": 0,
             "ticks": ""
            },
            "colorscale": [
             [
              0,
              "#0d0887"
             ],
             [
              0.1111111111111111,
              "#46039f"
             ],
             [
              0.2222222222222222,
              "#7201a8"
             ],
             [
              0.3333333333333333,
              "#9c179e"
             ],
             [
              0.4444444444444444,
              "#bd3786"
             ],
             [
              0.5555555555555556,
              "#d8576b"
             ],
             [
              0.6666666666666666,
              "#ed7953"
             ],
             [
              0.7777777777777778,
              "#fb9f3a"
             ],
             [
              0.8888888888888888,
              "#fdca26"
             ],
             [
              1,
              "#f0f921"
             ]
            ],
            "type": "heatmap"
           }
          ],
          "heatmapgl": [
           {
            "colorbar": {
             "outlinewidth": 0,
             "ticks": ""
            },
            "colorscale": [
             [
              0,
              "#0d0887"
             ],
             [
              0.1111111111111111,
              "#46039f"
             ],
             [
              0.2222222222222222,
              "#7201a8"
             ],
             [
              0.3333333333333333,
              "#9c179e"
             ],
             [
              0.4444444444444444,
              "#bd3786"
             ],
             [
              0.5555555555555556,
              "#d8576b"
             ],
             [
              0.6666666666666666,
              "#ed7953"
             ],
             [
              0.7777777777777778,
              "#fb9f3a"
             ],
             [
              0.8888888888888888,
              "#fdca26"
             ],
             [
              1,
              "#f0f921"
             ]
            ],
            "type": "heatmapgl"
           }
          ],
          "histogram": [
           {
            "marker": {
             "pattern": {
              "fillmode": "overlay",
              "size": 10,
              "solidity": 0.2
             }
            },
            "type": "histogram"
           }
          ],
          "histogram2d": [
           {
            "colorbar": {
             "outlinewidth": 0,
             "ticks": ""
            },
            "colorscale": [
             [
              0,
              "#0d0887"
             ],
             [
              0.1111111111111111,
              "#46039f"
             ],
             [
              0.2222222222222222,
              "#7201a8"
             ],
             [
              0.3333333333333333,
              "#9c179e"
             ],
             [
              0.4444444444444444,
              "#bd3786"
             ],
             [
              0.5555555555555556,
              "#d8576b"
             ],
             [
              0.6666666666666666,
              "#ed7953"
             ],
             [
              0.7777777777777778,
              "#fb9f3a"
             ],
             [
              0.8888888888888888,
              "#fdca26"
             ],
             [
              1,
              "#f0f921"
             ]
            ],
            "type": "histogram2d"
           }
          ],
          "histogram2dcontour": [
           {
            "colorbar": {
             "outlinewidth": 0,
             "ticks": ""
            },
            "colorscale": [
             [
              0,
              "#0d0887"
             ],
             [
              0.1111111111111111,
              "#46039f"
             ],
             [
              0.2222222222222222,
              "#7201a8"
             ],
             [
              0.3333333333333333,
              "#9c179e"
             ],
             [
              0.4444444444444444,
              "#bd3786"
             ],
             [
              0.5555555555555556,
              "#d8576b"
             ],
             [
              0.6666666666666666,
              "#ed7953"
             ],
             [
              0.7777777777777778,
              "#fb9f3a"
             ],
             [
              0.8888888888888888,
              "#fdca26"
             ],
             [
              1,
              "#f0f921"
             ]
            ],
            "type": "histogram2dcontour"
           }
          ],
          "mesh3d": [
           {
            "colorbar": {
             "outlinewidth": 0,
             "ticks": ""
            },
            "type": "mesh3d"
           }
          ],
          "parcoords": [
           {
            "line": {
             "colorbar": {
              "outlinewidth": 0,
              "ticks": ""
             }
            },
            "type": "parcoords"
           }
          ],
          "pie": [
           {
            "automargin": true,
            "type": "pie"
           }
          ],
          "scatter": [
           {
            "marker": {
             "colorbar": {
              "outlinewidth": 0,
              "ticks": ""
             }
            },
            "type": "scatter"
           }
          ],
          "scatter3d": [
           {
            "line": {
             "colorbar": {
              "outlinewidth": 0,
              "ticks": ""
             }
            },
            "marker": {
             "colorbar": {
              "outlinewidth": 0,
              "ticks": ""
             }
            },
            "type": "scatter3d"
           }
          ],
          "scattercarpet": [
           {
            "marker": {
             "colorbar": {
              "outlinewidth": 0,
              "ticks": ""
             }
            },
            "type": "scattercarpet"
           }
          ],
          "scattergeo": [
           {
            "marker": {
             "colorbar": {
              "outlinewidth": 0,
              "ticks": ""
             }
            },
            "type": "scattergeo"
           }
          ],
          "scattergl": [
           {
            "marker": {
             "colorbar": {
              "outlinewidth": 0,
              "ticks": ""
             }
            },
            "type": "scattergl"
           }
          ],
          "scattermapbox": [
           {
            "marker": {
             "colorbar": {
              "outlinewidth": 0,
              "ticks": ""
             }
            },
            "type": "scattermapbox"
           }
          ],
          "scatterpolar": [
           {
            "marker": {
             "colorbar": {
              "outlinewidth": 0,
              "ticks": ""
             }
            },
            "type": "scatterpolar"
           }
          ],
          "scatterpolargl": [
           {
            "marker": {
             "colorbar": {
              "outlinewidth": 0,
              "ticks": ""
             }
            },
            "type": "scatterpolargl"
           }
          ],
          "scatterternary": [
           {
            "marker": {
             "colorbar": {
              "outlinewidth": 0,
              "ticks": ""
             }
            },
            "type": "scatterternary"
           }
          ],
          "surface": [
           {
            "colorbar": {
             "outlinewidth": 0,
             "ticks": ""
            },
            "colorscale": [
             [
              0,
              "#0d0887"
             ],
             [
              0.1111111111111111,
              "#46039f"
             ],
             [
              0.2222222222222222,
              "#7201a8"
             ],
             [
              0.3333333333333333,
              "#9c179e"
             ],
             [
              0.4444444444444444,
              "#bd3786"
             ],
             [
              0.5555555555555556,
              "#d8576b"
             ],
             [
              0.6666666666666666,
              "#ed7953"
             ],
             [
              0.7777777777777778,
              "#fb9f3a"
             ],
             [
              0.8888888888888888,
              "#fdca26"
             ],
             [
              1,
              "#f0f921"
             ]
            ],
            "type": "surface"
           }
          ],
          "table": [
           {
            "cells": {
             "fill": {
              "color": "#EBF0F8"
             },
             "line": {
              "color": "white"
             }
            },
            "header": {
             "fill": {
              "color": "#C8D4E3"
             },
             "line": {
              "color": "white"
             }
            },
            "type": "table"
           }
          ]
         },
         "layout": {
          "annotationdefaults": {
           "arrowcolor": "#2a3f5f",
           "arrowhead": 0,
           "arrowwidth": 1
          },
          "autotypenumbers": "strict",
          "coloraxis": {
           "colorbar": {
            "outlinewidth": 0,
            "ticks": ""
           }
          },
          "colorscale": {
           "diverging": [
            [
             0,
             "#8e0152"
            ],
            [
             0.1,
             "#c51b7d"
            ],
            [
             0.2,
             "#de77ae"
            ],
            [
             0.3,
             "#f1b6da"
            ],
            [
             0.4,
             "#fde0ef"
            ],
            [
             0.5,
             "#f7f7f7"
            ],
            [
             0.6,
             "#e6f5d0"
            ],
            [
             0.7,
             "#b8e186"
            ],
            [
             0.8,
             "#7fbc41"
            ],
            [
             0.9,
             "#4d9221"
            ],
            [
             1,
             "#276419"
            ]
           ],
           "sequential": [
            [
             0,
             "#0d0887"
            ],
            [
             0.1111111111111111,
             "#46039f"
            ],
            [
             0.2222222222222222,
             "#7201a8"
            ],
            [
             0.3333333333333333,
             "#9c179e"
            ],
            [
             0.4444444444444444,
             "#bd3786"
            ],
            [
             0.5555555555555556,
             "#d8576b"
            ],
            [
             0.6666666666666666,
             "#ed7953"
            ],
            [
             0.7777777777777778,
             "#fb9f3a"
            ],
            [
             0.8888888888888888,
             "#fdca26"
            ],
            [
             1,
             "#f0f921"
            ]
           ],
           "sequentialminus": [
            [
             0,
             "#0d0887"
            ],
            [
             0.1111111111111111,
             "#46039f"
            ],
            [
             0.2222222222222222,
             "#7201a8"
            ],
            [
             0.3333333333333333,
             "#9c179e"
            ],
            [
             0.4444444444444444,
             "#bd3786"
            ],
            [
             0.5555555555555556,
             "#d8576b"
            ],
            [
             0.6666666666666666,
             "#ed7953"
            ],
            [
             0.7777777777777778,
             "#fb9f3a"
            ],
            [
             0.8888888888888888,
             "#fdca26"
            ],
            [
             1,
             "#f0f921"
            ]
           ]
          },
          "colorway": [
           "#636efa",
           "#EF553B",
           "#00cc96",
           "#ab63fa",
           "#FFA15A",
           "#19d3f3",
           "#FF6692",
           "#B6E880",
           "#FF97FF",
           "#FECB52"
          ],
          "font": {
           "color": "#2a3f5f"
          },
          "geo": {
           "bgcolor": "white",
           "lakecolor": "white",
           "landcolor": "#E5ECF6",
           "showlakes": true,
           "showland": true,
           "subunitcolor": "white"
          },
          "hoverlabel": {
           "align": "left"
          },
          "hovermode": "closest",
          "mapbox": {
           "style": "light"
          },
          "paper_bgcolor": "white",
          "plot_bgcolor": "#E5ECF6",
          "polar": {
           "angularaxis": {
            "gridcolor": "white",
            "linecolor": "white",
            "ticks": ""
           },
           "bgcolor": "#E5ECF6",
           "radialaxis": {
            "gridcolor": "white",
            "linecolor": "white",
            "ticks": ""
           }
          },
          "scene": {
           "xaxis": {
            "backgroundcolor": "#E5ECF6",
            "gridcolor": "white",
            "gridwidth": 2,
            "linecolor": "white",
            "showbackground": true,
            "ticks": "",
            "zerolinecolor": "white"
           },
           "yaxis": {
            "backgroundcolor": "#E5ECF6",
            "gridcolor": "white",
            "gridwidth": 2,
            "linecolor": "white",
            "showbackground": true,
            "ticks": "",
            "zerolinecolor": "white"
           },
           "zaxis": {
            "backgroundcolor": "#E5ECF6",
            "gridcolor": "white",
            "gridwidth": 2,
            "linecolor": "white",
            "showbackground": true,
            "ticks": "",
            "zerolinecolor": "white"
           }
          },
          "shapedefaults": {
           "line": {
            "color": "#2a3f5f"
           }
          },
          "ternary": {
           "aaxis": {
            "gridcolor": "white",
            "linecolor": "white",
            "ticks": ""
           },
           "baxis": {
            "gridcolor": "white",
            "linecolor": "white",
            "ticks": ""
           },
           "bgcolor": "#E5ECF6",
           "caxis": {
            "gridcolor": "white",
            "linecolor": "white",
            "ticks": ""
           }
          },
          "title": {
           "x": 0.05
          },
          "xaxis": {
           "automargin": true,
           "gridcolor": "white",
           "linecolor": "white",
           "ticks": "",
           "title": {
            "standoff": 15
           },
           "zerolinecolor": "white",
           "zerolinewidth": 2
          },
          "yaxis": {
           "automargin": true,
           "gridcolor": "white",
           "linecolor": "white",
           "ticks": "",
           "title": {
            "standoff": 15
           },
           "zerolinecolor": "white",
           "zerolinewidth": 2
          }
         }
        },
        "width": 750
       }
      },
      "text/html": [
       "<div>                            <div id=\"ea7f3df6-baa7-4d66-bb09-f1f486e36e91\" class=\"plotly-graph-div\" style=\"height:500px; width:750px;\"></div>            <script type=\"text/javascript\">                require([\"plotly\"], function(Plotly) {                    window.PLOTLYENV=window.PLOTLYENV || {};                                    if (document.getElementById(\"ea7f3df6-baa7-4d66-bb09-f1f486e36e91\")) {                    Plotly.newPlot(                        \"ea7f3df6-baa7-4d66-bb09-f1f486e36e91\",                        [{\"lat\":[30.28953,30.2898,30.28354,30.283,30.28395,30.28576,30.2853,30.29333,30.2856,30.29068,30.28728,30.2848,30.2874,30.2862,30.293172940393987,30.287268378033133],\"lon\":[-97.73695,-97.74041,-97.73953,-97.7375,-97.74198,-97.74181,-97.7467,-97.74412,-97.7335,-97.74292,-97.74495,-97.72756,-97.7478,-97.74516,-97.74409660233584,-97.74658031642245],\"marker\":{\"color\":\"#cc0079\",\"size\":[64.57454545454546,48.43636363636364,25.978181818181817,122.13818181818182,43.76,40.79272727272727,40.487272727272725,6.752727272727273,26.578181818181818,55.28,0.0,0.0,0.0,17.62181818181818,34.410909090909094,34.45818181818182]},\"mode\":\"markers\",\"text\":[2498.0,3795.0,3797.0,3798.0,2547.0,2548.0,7188.0,3793.0,3799.0,3838.0,3841.0,1004.0,111.0,4938.0,7189.0,7125.0],\"type\":\"scattermapbox\"},{\"lat\":[40.7127,51.5072],\"line\":{\"color\":\"blue\",\"width\":2},\"lon\":[-74.0059,0.1275],\"mode\":\"lines\",\"type\":\"scattergeo\"}],                        {\"autosize\":false,\"height\":500,\"hovermode\":\"closest\",\"mapbox\":{\"accesstoken\":\"pk.eyJ1IjoiZmx5aW5nY2FwZSIsImEiOiJjbDd0YWZnc2YwZ3ZzM29yeDQ4bDl3dHZtIn0.q09s_595pGToclUeM8ojQQ\",\"bearing\":0,\"center\":{\"lat\":30.286769815923922,\"lon\":-97.73900261896549},\"pitch\":0,\"style\":\"streets\",\"zoom\":13.75},\"margin\":{\"b\":0.5,\"l\":0.5,\"pad\":0.2,\"r\":0.5,\"t\":0.5},\"paper_bgcolor\":\"White\",\"template\":{\"data\":{\"bar\":[{\"error_x\":{\"color\":\"#2a3f5f\"},\"error_y\":{\"color\":\"#2a3f5f\"},\"marker\":{\"line\":{\"color\":\"#E5ECF6\",\"width\":0.5},\"pattern\":{\"fillmode\":\"overlay\",\"size\":10,\"solidity\":0.2}},\"type\":\"bar\"}],\"barpolar\":[{\"marker\":{\"line\":{\"color\":\"#E5ECF6\",\"width\":0.5},\"pattern\":{\"fillmode\":\"overlay\",\"size\":10,\"solidity\":0.2}},\"type\":\"barpolar\"}],\"carpet\":[{\"aaxis\":{\"endlinecolor\":\"#2a3f5f\",\"gridcolor\":\"white\",\"linecolor\":\"white\",\"minorgridcolor\":\"white\",\"startlinecolor\":\"#2a3f5f\"},\"baxis\":{\"endlinecolor\":\"#2a3f5f\",\"gridcolor\":\"white\",\"linecolor\":\"white\",\"minorgridcolor\":\"white\",\"startlinecolor\":\"#2a3f5f\"},\"type\":\"carpet\"}],\"choropleth\":[{\"colorbar\":{\"outlinewidth\":0,\"ticks\":\"\"},\"type\":\"choropleth\"}],\"contour\":[{\"colorbar\":{\"outlinewidth\":0,\"ticks\":\"\"},\"colorscale\":[[0.0,\"#0d0887\"],[0.1111111111111111,\"#46039f\"],[0.2222222222222222,\"#7201a8\"],[0.3333333333333333,\"#9c179e\"],[0.4444444444444444,\"#bd3786\"],[0.5555555555555556,\"#d8576b\"],[0.6666666666666666,\"#ed7953\"],[0.7777777777777778,\"#fb9f3a\"],[0.8888888888888888,\"#fdca26\"],[1.0,\"#f0f921\"]],\"type\":\"contour\"}],\"contourcarpet\":[{\"colorbar\":{\"outlinewidth\":0,\"ticks\":\"\"},\"type\":\"contourcarpet\"}],\"heatmap\":[{\"colorbar\":{\"outlinewidth\":0,\"ticks\":\"\"},\"colorscale\":[[0.0,\"#0d0887\"],[0.1111111111111111,\"#46039f\"],[0.2222222222222222,\"#7201a8\"],[0.3333333333333333,\"#9c179e\"],[0.4444444444444444,\"#bd3786\"],[0.5555555555555556,\"#d8576b\"],[0.6666666666666666,\"#ed7953\"],[0.7777777777777778,\"#fb9f3a\"],[0.8888888888888888,\"#fdca26\"],[1.0,\"#f0f921\"]],\"type\":\"heatmap\"}],\"heatmapgl\":[{\"colorbar\":{\"outlinewidth\":0,\"ticks\":\"\"},\"colorscale\":[[0.0,\"#0d0887\"],[0.1111111111111111,\"#46039f\"],[0.2222222222222222,\"#7201a8\"],[0.3333333333333333,\"#9c179e\"],[0.4444444444444444,\"#bd3786\"],[0.5555555555555556,\"#d8576b\"],[0.6666666666666666,\"#ed7953\"],[0.7777777777777778,\"#fb9f3a\"],[0.8888888888888888,\"#fdca26\"],[1.0,\"#f0f921\"]],\"type\":\"heatmapgl\"}],\"histogram\":[{\"marker\":{\"pattern\":{\"fillmode\":\"overlay\",\"size\":10,\"solidity\":0.2}},\"type\":\"histogram\"}],\"histogram2d\":[{\"colorbar\":{\"outlinewidth\":0,\"ticks\":\"\"},\"colorscale\":[[0.0,\"#0d0887\"],[0.1111111111111111,\"#46039f\"],[0.2222222222222222,\"#7201a8\"],[0.3333333333333333,\"#9c179e\"],[0.4444444444444444,\"#bd3786\"],[0.5555555555555556,\"#d8576b\"],[0.6666666666666666,\"#ed7953\"],[0.7777777777777778,\"#fb9f3a\"],[0.8888888888888888,\"#fdca26\"],[1.0,\"#f0f921\"]],\"type\":\"histogram2d\"}],\"histogram2dcontour\":[{\"colorbar\":{\"outlinewidth\":0,\"ticks\":\"\"},\"colorscale\":[[0.0,\"#0d0887\"],[0.1111111111111111,\"#46039f\"],[0.2222222222222222,\"#7201a8\"],[0.3333333333333333,\"#9c179e\"],[0.4444444444444444,\"#bd3786\"],[0.5555555555555556,\"#d8576b\"],[0.6666666666666666,\"#ed7953\"],[0.7777777777777778,\"#fb9f3a\"],[0.8888888888888888,\"#fdca26\"],[1.0,\"#f0f921\"]],\"type\":\"histogram2dcontour\"}],\"mesh3d\":[{\"colorbar\":{\"outlinewidth\":0,\"ticks\":\"\"},\"type\":\"mesh3d\"}],\"parcoords\":[{\"line\":{\"colorbar\":{\"outlinewidth\":0,\"ticks\":\"\"}},\"type\":\"parcoords\"}],\"pie\":[{\"automargin\":true,\"type\":\"pie\"}],\"scatter\":[{\"marker\":{\"colorbar\":{\"outlinewidth\":0,\"ticks\":\"\"}},\"type\":\"scatter\"}],\"scatter3d\":[{\"line\":{\"colorbar\":{\"outlinewidth\":0,\"ticks\":\"\"}},\"marker\":{\"colorbar\":{\"outlinewidth\":0,\"ticks\":\"\"}},\"type\":\"scatter3d\"}],\"scattercarpet\":[{\"marker\":{\"colorbar\":{\"outlinewidth\":0,\"ticks\":\"\"}},\"type\":\"scattercarpet\"}],\"scattergeo\":[{\"marker\":{\"colorbar\":{\"outlinewidth\":0,\"ticks\":\"\"}},\"type\":\"scattergeo\"}],\"scattergl\":[{\"marker\":{\"colorbar\":{\"outlinewidth\":0,\"ticks\":\"\"}},\"type\":\"scattergl\"}],\"scattermapbox\":[{\"marker\":{\"colorbar\":{\"outlinewidth\":0,\"ticks\":\"\"}},\"type\":\"scattermapbox\"}],\"scatterpolar\":[{\"marker\":{\"colorbar\":{\"outlinewidth\":0,\"ticks\":\"\"}},\"type\":\"scatterpolar\"}],\"scatterpolargl\":[{\"marker\":{\"colorbar\":{\"outlinewidth\":0,\"ticks\":\"\"}},\"type\":\"scatterpolargl\"}],\"scatterternary\":[{\"marker\":{\"colorbar\":{\"outlinewidth\":0,\"ticks\":\"\"}},\"type\":\"scatterternary\"}],\"surface\":[{\"colorbar\":{\"outlinewidth\":0,\"ticks\":\"\"},\"colorscale\":[[0.0,\"#0d0887\"],[0.1111111111111111,\"#46039f\"],[0.2222222222222222,\"#7201a8\"],[0.3333333333333333,\"#9c179e\"],[0.4444444444444444,\"#bd3786\"],[0.5555555555555556,\"#d8576b\"],[0.6666666666666666,\"#ed7953\"],[0.7777777777777778,\"#fb9f3a\"],[0.8888888888888888,\"#fdca26\"],[1.0,\"#f0f921\"]],\"type\":\"surface\"}],\"table\":[{\"cells\":{\"fill\":{\"color\":\"#EBF0F8\"},\"line\":{\"color\":\"white\"}},\"header\":{\"fill\":{\"color\":\"#C8D4E3\"},\"line\":{\"color\":\"white\"}},\"type\":\"table\"}]},\"layout\":{\"annotationdefaults\":{\"arrowcolor\":\"#2a3f5f\",\"arrowhead\":0,\"arrowwidth\":1},\"autotypenumbers\":\"strict\",\"coloraxis\":{\"colorbar\":{\"outlinewidth\":0,\"ticks\":\"\"}},\"colorscale\":{\"diverging\":[[0,\"#8e0152\"],[0.1,\"#c51b7d\"],[0.2,\"#de77ae\"],[0.3,\"#f1b6da\"],[0.4,\"#fde0ef\"],[0.5,\"#f7f7f7\"],[0.6,\"#e6f5d0\"],[0.7,\"#b8e186\"],[0.8,\"#7fbc41\"],[0.9,\"#4d9221\"],[1,\"#276419\"]],\"sequential\":[[0.0,\"#0d0887\"],[0.1111111111111111,\"#46039f\"],[0.2222222222222222,\"#7201a8\"],[0.3333333333333333,\"#9c179e\"],[0.4444444444444444,\"#bd3786\"],[0.5555555555555556,\"#d8576b\"],[0.6666666666666666,\"#ed7953\"],[0.7777777777777778,\"#fb9f3a\"],[0.8888888888888888,\"#fdca26\"],[1.0,\"#f0f921\"]],\"sequentialminus\":[[0.0,\"#0d0887\"],[0.1111111111111111,\"#46039f\"],[0.2222222222222222,\"#7201a8\"],[0.3333333333333333,\"#9c179e\"],[0.4444444444444444,\"#bd3786\"],[0.5555555555555556,\"#d8576b\"],[0.6666666666666666,\"#ed7953\"],[0.7777777777777778,\"#fb9f3a\"],[0.8888888888888888,\"#fdca26\"],[1.0,\"#f0f921\"]]},\"colorway\":[\"#636efa\",\"#EF553B\",\"#00cc96\",\"#ab63fa\",\"#FFA15A\",\"#19d3f3\",\"#FF6692\",\"#B6E880\",\"#FF97FF\",\"#FECB52\"],\"font\":{\"color\":\"#2a3f5f\"},\"geo\":{\"bgcolor\":\"white\",\"lakecolor\":\"white\",\"landcolor\":\"#E5ECF6\",\"showlakes\":true,\"showland\":true,\"subunitcolor\":\"white\"},\"hoverlabel\":{\"align\":\"left\"},\"hovermode\":\"closest\",\"mapbox\":{\"style\":\"light\"},\"paper_bgcolor\":\"white\",\"plot_bgcolor\":\"#E5ECF6\",\"polar\":{\"angularaxis\":{\"gridcolor\":\"white\",\"linecolor\":\"white\",\"ticks\":\"\"},\"bgcolor\":\"#E5ECF6\",\"radialaxis\":{\"gridcolor\":\"white\",\"linecolor\":\"white\",\"ticks\":\"\"}},\"scene\":{\"xaxis\":{\"backgroundcolor\":\"#E5ECF6\",\"gridcolor\":\"white\",\"gridwidth\":2,\"linecolor\":\"white\",\"showbackground\":true,\"ticks\":\"\",\"zerolinecolor\":\"white\"},\"yaxis\":{\"backgroundcolor\":\"#E5ECF6\",\"gridcolor\":\"white\",\"gridwidth\":2,\"linecolor\":\"white\",\"showbackground\":true,\"ticks\":\"\",\"zerolinecolor\":\"white\"},\"zaxis\":{\"backgroundcolor\":\"#E5ECF6\",\"gridcolor\":\"white\",\"gridwidth\":2,\"linecolor\":\"white\",\"showbackground\":true,\"ticks\":\"\",\"zerolinecolor\":\"white\"}},\"shapedefaults\":{\"line\":{\"color\":\"#2a3f5f\"}},\"ternary\":{\"aaxis\":{\"gridcolor\":\"white\",\"linecolor\":\"white\",\"ticks\":\"\"},\"baxis\":{\"gridcolor\":\"white\",\"linecolor\":\"white\",\"ticks\":\"\"},\"bgcolor\":\"#E5ECF6\",\"caxis\":{\"gridcolor\":\"white\",\"linecolor\":\"white\",\"ticks\":\"\"}},\"title\":{\"x\":0.05},\"xaxis\":{\"automargin\":true,\"gridcolor\":\"white\",\"linecolor\":\"white\",\"ticks\":\"\",\"title\":{\"standoff\":15},\"zerolinecolor\":\"white\",\"zerolinewidth\":2},\"yaxis\":{\"automargin\":true,\"gridcolor\":\"white\",\"linecolor\":\"white\",\"ticks\":\"\",\"title\":{\"standoff\":15},\"zerolinecolor\":\"white\",\"zerolinewidth\":2}}},\"width\":750},                        {\"responsive\": true}                    ).then(function(){\n",
       "                            \n",
       "var gd = document.getElementById('ea7f3df6-baa7-4d66-bb09-f1f486e36e91');\n",
       "var x = new MutationObserver(function (mutations, observer) {{\n",
       "        var display = window.getComputedStyle(gd).display;\n",
       "        if (!display || display === 'none') {{\n",
       "            console.log([gd, 'removed!']);\n",
       "            Plotly.purge(gd);\n",
       "            observer.disconnect();\n",
       "        }}\n",
       "}});\n",
       "\n",
       "// Listen for the removal of the full notebook cells\n",
       "var notebookContainer = gd.closest('#notebook-container');\n",
       "if (notebookContainer) {{\n",
       "    x.observe(notebookContainer, {childList: true});\n",
       "}}\n",
       "\n",
       "// Listen for the clearing of the current output cell\n",
       "var outputEl = gd.closest('.output');\n",
       "if (outputEl) {{\n",
       "    x.observe(outputEl, {childList: true});\n",
       "}}\n",
       "\n",
       "                        })                };                });            </script>        </div>"
      ]
     },
     "metadata": {},
     "output_type": "display_data"
    }
   ],
   "source": [
    "#https://plotly.com/python/scattermapbox/\n",
    "    \n",
    "import plotly.graph_objects as go\n",
    "\n",
    "mapbox_access_token = \"pk.eyJ1IjoiZmx5aW5nY2FwZSIsImEiOiJjbDd0YWZnc2YwZ3ZzM29yeDQ4bDl3dHZtIn0.q09s_595pGToclUeM8ojQQ\"\n",
    "\n",
    "fig0 = go.Figure(go.Scattermapbox(\n",
    "        lat = kiosk_temp['Latitude'],\n",
    "        lon = kiosk_temp['Longitude'],\n",
    "        text = kiosk_temp['Kiosk ID'],\n",
    "        mode='markers',\n",
    "        marker=go.scattermapbox.Marker(\n",
    "            size = kiosk_temp['Rides_2022']/275, color = color_dark,\n",
    "        ), \n",
    "        ))\n",
    "\n",
    "fig0.add_trace(go.Scattergeo(\n",
    "                    lat = [40.7127, 51.5072],\n",
    "                    lon = [-74.0059, 0.1275],\n",
    "                    mode = 'lines',\n",
    "                    line = dict(width = 2, color = 'blue')))\n",
    "\n",
    "fig0.update_layout(\n",
    "    hovermode='closest',\n",
    "    mapbox=dict(\n",
    "        accesstoken=mapbox_access_token,\n",
    "        bearing=0,\n",
    "        center=go.layout.mapbox.Center(\n",
    "            #lat=(kiosk_temp['Latitude'].min()+kiosk_temp['Latitude'].max())/2,\n",
    "            #lon=(kiosk_temp['Longitude'].min()+kiosk_temp['Longitude'].max())/2\n",
    "            lat = 30.286769815923922,\n",
    "            lon = -97.73900261896549\n",
    "        ),\n",
    "        pitch=0,\n",
    "        zoom=13.75, #12.25,\n",
    "        style = 'streets'\n",
    "    ),\n",
    ")\n",
    "\n",
    "fig0.update_layout(\n",
    "    autosize=False,\n",
    "    width=750,\n",
    "    height=500,\n",
    "        margin=dict(\n",
    "        l=0.5,\n",
    "        r=0.5,\n",
    "        b=0.5,\n",
    "        t=0.5,\n",
    "        pad=0.20\n",
    "    ),\n",
    "    paper_bgcolor=\"White\",\n",
    ")\n",
    "\n",
    "fig0.show()"
   ]
  },
  {
   "cell_type": "code",
   "execution_count": null,
   "id": "bd837f37",
   "metadata": {},
   "outputs": [],
   "source": []
  },
  {
   "cell_type": "code",
   "execution_count": null,
   "id": "912ac117",
   "metadata": {},
   "outputs": [],
   "source": []
  }
 ],
 "metadata": {
  "kernelspec": {
   "display_name": "Python 3",
   "language": "python",
   "name": "python3"
  },
  "language_info": {
   "codemirror_mode": {
    "name": "ipython",
    "version": 3
   },
   "file_extension": ".py",
   "mimetype": "text/x-python",
   "name": "python",
   "nbconvert_exporter": "python",
   "pygments_lexer": "ipython3",
   "version": "3.8.8"
  }
 },
 "nbformat": 4,
 "nbformat_minor": 5
}
