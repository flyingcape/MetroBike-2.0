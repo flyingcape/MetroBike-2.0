{
 "cells": [
  {
   "cell_type": "code",
   "execution_count": 1,
   "id": "f2ec8c97",
   "metadata": {},
   "outputs": [],
   "source": [
    "import pandas as pd\n",
    "import numpy as np\n",
    "from matplotlib import pyplot as plt\n",
    "plt.style.use('ggplot')\n",
    "plt.rcParams.update({'font.size': 20})"
   ]
  },
  {
   "cell_type": "code",
   "execution_count": 2,
   "id": "f20c6878",
   "metadata": {},
   "outputs": [],
   "source": [
    "pd.set_option('display.max_rows', 500)\n",
    "pd.set_option('display.max_columns', 500)"
   ]
  },
  {
   "cell_type": "markdown",
   "id": "3f00a9d5",
   "metadata": {},
   "source": [
    "# Load MetroBike \"Trips\" Dataframe"
   ]
  },
  {
   "cell_type": "code",
   "execution_count": 3,
   "id": "4cace3a5",
   "metadata": {},
   "outputs": [
    {
     "name": "stderr",
     "output_type": "stream",
     "text": [
      "/Users/flyingcape/opt/anaconda3/lib/python3.8/site-packages/IPython/core/interactiveshell.py:3165: DtypeWarning: Columns (2,8) have mixed types.Specify dtype option on import or set low_memory=False.\n",
      "  has_raised = await self.run_ast_nodes(code_ast.body, cell_name,\n"
     ]
    }
   ],
   "source": [
    "# CSV downloaded Dec 20, 2022\n",
    "trips = pd.read_csv('../data/data_austintexas_gov/Austin_MetroBike_Trips_new2.csv') "
   ]
  },
  {
   "cell_type": "code",
   "execution_count": 4,
   "id": "4819a8bc",
   "metadata": {},
   "outputs": [
    {
     "data": {
      "text/html": [
       "<div>\n",
       "<style scoped>\n",
       "    .dataframe tbody tr th:only-of-type {\n",
       "        vertical-align: middle;\n",
       "    }\n",
       "\n",
       "    .dataframe tbody tr th {\n",
       "        vertical-align: top;\n",
       "    }\n",
       "\n",
       "    .dataframe thead th {\n",
       "        text-align: right;\n",
       "    }\n",
       "</style>\n",
       "<table border=\"1\" class=\"dataframe\">\n",
       "  <thead>\n",
       "    <tr style=\"text-align: right;\">\n",
       "      <th></th>\n",
       "      <th>Trip ID</th>\n",
       "      <th>Membership Type</th>\n",
       "      <th>Bicycle ID</th>\n",
       "      <th>Bike Type</th>\n",
       "      <th>Checkout Date</th>\n",
       "      <th>Checkout Time</th>\n",
       "      <th>Checkout Kiosk ID</th>\n",
       "      <th>Checkout Kiosk</th>\n",
       "      <th>Return Kiosk ID</th>\n",
       "      <th>Return Kiosk</th>\n",
       "      <th>Trip Duration Minutes</th>\n",
       "      <th>Month</th>\n",
       "      <th>Year</th>\n",
       "    </tr>\n",
       "  </thead>\n",
       "  <tbody>\n",
       "    <tr>\n",
       "      <th>0</th>\n",
       "      <td>9900285854</td>\n",
       "      <td>Annual (San Antonio B-cycle)</td>\n",
       "      <td>207.0</td>\n",
       "      <td>NaN</td>\n",
       "      <td>10/26/2014</td>\n",
       "      <td>13:12:00</td>\n",
       "      <td>2537.0</td>\n",
       "      <td>West &amp; 6th St.</td>\n",
       "      <td>2707.0</td>\n",
       "      <td>Rainey St @ Cummings</td>\n",
       "      <td>76</td>\n",
       "      <td>10.0</td>\n",
       "      <td>2014.0</td>\n",
       "    </tr>\n",
       "    <tr>\n",
       "      <th>1</th>\n",
       "      <td>9900285855</td>\n",
       "      <td>24-Hour Kiosk (Austin B-cycle)</td>\n",
       "      <td>969.0</td>\n",
       "      <td>NaN</td>\n",
       "      <td>10/26/2014</td>\n",
       "      <td>13:12:00</td>\n",
       "      <td>2498.0</td>\n",
       "      <td>Convention Center / 4th St. @ MetroRail</td>\n",
       "      <td>2566.0</td>\n",
       "      <td>Pfluger Bridge @ W 2nd Street</td>\n",
       "      <td>58</td>\n",
       "      <td>10.0</td>\n",
       "      <td>2014.0</td>\n",
       "    </tr>\n",
       "    <tr>\n",
       "      <th>2</th>\n",
       "      <td>9900285856</td>\n",
       "      <td>Annual Membership (Austin B-cycle)</td>\n",
       "      <td>214.0</td>\n",
       "      <td>NaN</td>\n",
       "      <td>10/26/2014</td>\n",
       "      <td>13:12:00</td>\n",
       "      <td>2537.0</td>\n",
       "      <td>West &amp; 6th St.</td>\n",
       "      <td>2496.0</td>\n",
       "      <td>8th &amp; Congress</td>\n",
       "      <td>8</td>\n",
       "      <td>10.0</td>\n",
       "      <td>2014.0</td>\n",
       "    </tr>\n",
       "    <tr>\n",
       "      <th>3</th>\n",
       "      <td>9900285857</td>\n",
       "      <td>24-Hour Kiosk (Austin B-cycle)</td>\n",
       "      <td>745.0</td>\n",
       "      <td>NaN</td>\n",
       "      <td>10/26/2014</td>\n",
       "      <td>13:12:00</td>\n",
       "      <td>NaN</td>\n",
       "      <td>Zilker Park at Barton Springs &amp; William Barton...</td>\n",
       "      <td>NaN</td>\n",
       "      <td>Zilker Park at Barton Springs &amp; William Barton...</td>\n",
       "      <td>28</td>\n",
       "      <td>10.0</td>\n",
       "      <td>2014.0</td>\n",
       "    </tr>\n",
       "    <tr>\n",
       "      <th>4</th>\n",
       "      <td>9900285858</td>\n",
       "      <td>24-Hour Kiosk (Austin B-cycle)</td>\n",
       "      <td>164.0</td>\n",
       "      <td>NaN</td>\n",
       "      <td>10/26/2014</td>\n",
       "      <td>13:12:00</td>\n",
       "      <td>2538.0</td>\n",
       "      <td>Bullock Museum @ Congress &amp; MLK</td>\n",
       "      <td>NaN</td>\n",
       "      <td>Convention Center/ 3rd &amp; Trinity</td>\n",
       "      <td>15</td>\n",
       "      <td>10.0</td>\n",
       "      <td>2014.0</td>\n",
       "    </tr>\n",
       "  </tbody>\n",
       "</table>\n",
       "</div>"
      ],
      "text/plain": [
       "      Trip ID                     Membership Type Bicycle ID  Bike Type  \\\n",
       "0  9900285854        Annual (San Antonio B-cycle)      207.0        NaN   \n",
       "1  9900285855      24-Hour Kiosk (Austin B-cycle)      969.0        NaN   \n",
       "2  9900285856  Annual Membership (Austin B-cycle)      214.0        NaN   \n",
       "3  9900285857      24-Hour Kiosk (Austin B-cycle)      745.0        NaN   \n",
       "4  9900285858      24-Hour Kiosk (Austin B-cycle)      164.0        NaN   \n",
       "\n",
       "  Checkout Date Checkout Time  Checkout Kiosk ID  \\\n",
       "0    10/26/2014      13:12:00             2537.0   \n",
       "1    10/26/2014      13:12:00             2498.0   \n",
       "2    10/26/2014      13:12:00             2537.0   \n",
       "3    10/26/2014      13:12:00                NaN   \n",
       "4    10/26/2014      13:12:00             2538.0   \n",
       "\n",
       "                                      Checkout Kiosk Return Kiosk ID  \\\n",
       "0                                     West & 6th St.          2707.0   \n",
       "1            Convention Center / 4th St. @ MetroRail          2566.0   \n",
       "2                                     West & 6th St.          2496.0   \n",
       "3  Zilker Park at Barton Springs & William Barton...             NaN   \n",
       "4                    Bullock Museum @ Congress & MLK             NaN   \n",
       "\n",
       "                                        Return Kiosk  Trip Duration Minutes  \\\n",
       "0                               Rainey St @ Cummings                     76   \n",
       "1                      Pfluger Bridge @ W 2nd Street                     58   \n",
       "2                                     8th & Congress                      8   \n",
       "3  Zilker Park at Barton Springs & William Barton...                     28   \n",
       "4                   Convention Center/ 3rd & Trinity                     15   \n",
       "\n",
       "   Month    Year  \n",
       "0   10.0  2014.0  \n",
       "1   10.0  2014.0  \n",
       "2   10.0  2014.0  \n",
       "3   10.0  2014.0  \n",
       "4   10.0  2014.0  "
      ]
     },
     "execution_count": 4,
     "metadata": {},
     "output_type": "execute_result"
    }
   ],
   "source": [
    "trips.head()"
   ]
  },
  {
   "cell_type": "code",
   "execution_count": 5,
   "id": "526e19a8",
   "metadata": {},
   "outputs": [
    {
     "data": {
      "text/plain": [
       "1847746"
      ]
     },
     "execution_count": 5,
     "metadata": {},
     "output_type": "execute_result"
    }
   ],
   "source": [
    "# check number of rows/trips\n",
    "trips.shape[0]"
   ]
  },
  {
   "cell_type": "code",
   "execution_count": 6,
   "id": "a53994c9",
   "metadata": {},
   "outputs": [
    {
     "data": {
      "text/plain": [
       "Trip ID                    int64\n",
       "Membership Type           object\n",
       "Bicycle ID                object\n",
       "Bike Type                float64\n",
       "Checkout Date             object\n",
       "Checkout Time             object\n",
       "Checkout Kiosk ID        float64\n",
       "Checkout Kiosk            object\n",
       "Return Kiosk ID           object\n",
       "Return Kiosk              object\n",
       "Trip Duration Minutes      int64\n",
       "Month                    float64\n",
       "Year                     float64\n",
       "dtype: object"
      ]
     },
     "execution_count": 6,
     "metadata": {},
     "output_type": "execute_result"
    }
   ],
   "source": [
    "trips.dtypes"
   ]
  },
  {
   "cell_type": "markdown",
   "id": "34338367",
   "metadata": {},
   "source": [
    "# Load \"Kiosk\" Dataframe"
   ]
  },
  {
   "cell_type": "code",
   "execution_count": 7,
   "id": "4175d255",
   "metadata": {},
   "outputs": [],
   "source": [
    "# CSV downloaded Dec 20, 2022\n",
    "kiosk = pd.read_csv('../data/data_austintexas_gov/Austin_MetroBike_Kiosk_Locations_new2.csv') "
   ]
  },
  {
   "cell_type": "code",
   "execution_count": 8,
   "id": "8dbb0b77",
   "metadata": {},
   "outputs": [
    {
     "data": {
      "text/html": [
       "<div>\n",
       "<style scoped>\n",
       "    .dataframe tbody tr th:only-of-type {\n",
       "        vertical-align: middle;\n",
       "    }\n",
       "\n",
       "    .dataframe tbody tr th {\n",
       "        vertical-align: top;\n",
       "    }\n",
       "\n",
       "    .dataframe thead th {\n",
       "        text-align: right;\n",
       "    }\n",
       "</style>\n",
       "<table border=\"1\" class=\"dataframe\">\n",
       "  <thead>\n",
       "    <tr style=\"text-align: right;\">\n",
       "      <th></th>\n",
       "      <th>Kiosk ID</th>\n",
       "      <th>Kiosk Name</th>\n",
       "      <th>Kiosk Status</th>\n",
       "      <th>Location</th>\n",
       "      <th>Address</th>\n",
       "      <th>Alternate Name</th>\n",
       "      <th>City Asset Number</th>\n",
       "      <th>Property Type</th>\n",
       "      <th>Number of Docks</th>\n",
       "      <th>Power Type</th>\n",
       "      <th>Footprint Length</th>\n",
       "      <th>Footprint Width</th>\n",
       "      <th>Notes</th>\n",
       "      <th>Council District</th>\n",
       "      <th>Image</th>\n",
       "      <th>Modified Date</th>\n",
       "    </tr>\n",
       "  </thead>\n",
       "  <tbody>\n",
       "    <tr>\n",
       "      <th>0</th>\n",
       "      <td>2823</td>\n",
       "      <td>Capital Metro HQ - East 5th at Broadway</td>\n",
       "      <td>active</td>\n",
       "      <td>(30.2563, -97.71007)</td>\n",
       "      <td>2910 E 5th St</td>\n",
       "      <td>NaN</td>\n",
       "      <td>16684.0</td>\n",
       "      <td>undetermined_parking</td>\n",
       "      <td>13.0</td>\n",
       "      <td>solar</td>\n",
       "      <td>40.0</td>\n",
       "      <td>5.0</td>\n",
       "      <td>NaN</td>\n",
       "      <td>3</td>\n",
       "      <td>NaN</td>\n",
       "      <td>01/04/2021 12:00:00 AM</td>\n",
       "    </tr>\n",
       "    <tr>\n",
       "      <th>1</th>\n",
       "      <td>3291</td>\n",
       "      <td>11th &amp; San Jacinto</td>\n",
       "      <td>active</td>\n",
       "      <td>(30.27193, -97.73854)</td>\n",
       "      <td>310 E. 11th St.</td>\n",
       "      <td>NaN</td>\n",
       "      <td>32503.0</td>\n",
       "      <td>sidewalk</td>\n",
       "      <td>11.0</td>\n",
       "      <td>solar</td>\n",
       "      <td>35.0</td>\n",
       "      <td>5.0</td>\n",
       "      <td>NaN</td>\n",
       "      <td>1</td>\n",
       "      <td>NaN</td>\n",
       "      <td>01/04/2021 12:00:00 AM</td>\n",
       "    </tr>\n",
       "    <tr>\n",
       "      <th>2</th>\n",
       "      <td>3292</td>\n",
       "      <td>East 4th &amp; Chicon</td>\n",
       "      <td>active</td>\n",
       "      <td>(30.25987, -97.72373)</td>\n",
       "      <td>1819 East 4th St.</td>\n",
       "      <td>NaN</td>\n",
       "      <td>32516.0</td>\n",
       "      <td>undetermined_parking</td>\n",
       "      <td>9.0</td>\n",
       "      <td>solar</td>\n",
       "      <td>30.0</td>\n",
       "      <td>5.0</td>\n",
       "      <td>NaN</td>\n",
       "      <td>3</td>\n",
       "      <td>NaN</td>\n",
       "      <td>01/04/2021 12:00:00 AM</td>\n",
       "    </tr>\n",
       "    <tr>\n",
       "      <th>3</th>\n",
       "      <td>3293</td>\n",
       "      <td>East 2nd &amp; Pedernales</td>\n",
       "      <td>active</td>\n",
       "      <td>(30.25542, -97.71665)</td>\n",
       "      <td>2414 E 2nd St</td>\n",
       "      <td>NaN</td>\n",
       "      <td>16729.0</td>\n",
       "      <td>nonmetered_parking</td>\n",
       "      <td>10.0</td>\n",
       "      <td>solar</td>\n",
       "      <td>20.0</td>\n",
       "      <td>15.0</td>\n",
       "      <td>Kiosk replaced by Barton Sp/Riverside.  Old ci...</td>\n",
       "      <td>3</td>\n",
       "      <td>NaN</td>\n",
       "      <td>01/04/2021 12:00:00 AM</td>\n",
       "    </tr>\n",
       "    <tr>\n",
       "      <th>4</th>\n",
       "      <td>3294</td>\n",
       "      <td>Lavaca &amp; 6th</td>\n",
       "      <td>active</td>\n",
       "      <td>(30.268887, -97.745242)</td>\n",
       "      <td>601 Lavaca St.</td>\n",
       "      <td>NaN</td>\n",
       "      <td>32515.0</td>\n",
       "      <td>sidewalk</td>\n",
       "      <td>12.0</td>\n",
       "      <td>solar</td>\n",
       "      <td>25.0</td>\n",
       "      <td>8.0</td>\n",
       "      <td>double sided, remeasure</td>\n",
       "      <td>9</td>\n",
       "      <td>NaN</td>\n",
       "      <td>03/04/2022 10:21:00 AM</td>\n",
       "    </tr>\n",
       "  </tbody>\n",
       "</table>\n",
       "</div>"
      ],
      "text/plain": [
       "   Kiosk ID                               Kiosk Name Kiosk Status  \\\n",
       "0      2823  Capital Metro HQ - East 5th at Broadway       active   \n",
       "1      3291                       11th & San Jacinto       active   \n",
       "2      3292                        East 4th & Chicon       active   \n",
       "3      3293                    East 2nd & Pedernales       active   \n",
       "4      3294                             Lavaca & 6th       active   \n",
       "\n",
       "                  Location            Address Alternate Name  \\\n",
       "0     (30.2563, -97.71007)      2910 E 5th St            NaN   \n",
       "1    (30.27193, -97.73854)    310 E. 11th St.            NaN   \n",
       "2    (30.25987, -97.72373)  1819 East 4th St.            NaN   \n",
       "3    (30.25542, -97.71665)      2414 E 2nd St            NaN   \n",
       "4  (30.268887, -97.745242)     601 Lavaca St.            NaN   \n",
       "\n",
       "   City Asset Number         Property Type  Number of Docks Power Type  \\\n",
       "0            16684.0  undetermined_parking             13.0      solar   \n",
       "1            32503.0              sidewalk             11.0      solar   \n",
       "2            32516.0  undetermined_parking              9.0      solar   \n",
       "3            16729.0    nonmetered_parking             10.0      solar   \n",
       "4            32515.0              sidewalk             12.0      solar   \n",
       "\n",
       "   Footprint Length  Footprint Width  \\\n",
       "0              40.0              5.0   \n",
       "1              35.0              5.0   \n",
       "2              30.0              5.0   \n",
       "3              20.0             15.0   \n",
       "4              25.0              8.0   \n",
       "\n",
       "                                               Notes  Council District  Image  \\\n",
       "0                                                NaN                 3    NaN   \n",
       "1                                                NaN                 1    NaN   \n",
       "2                                                NaN                 3    NaN   \n",
       "3  Kiosk replaced by Barton Sp/Riverside.  Old ci...                 3    NaN   \n",
       "4                            double sided, remeasure                 9    NaN   \n",
       "\n",
       "            Modified Date  \n",
       "0  01/04/2021 12:00:00 AM  \n",
       "1  01/04/2021 12:00:00 AM  \n",
       "2  01/04/2021 12:00:00 AM  \n",
       "3  01/04/2021 12:00:00 AM  \n",
       "4  03/04/2022 10:21:00 AM  "
      ]
     },
     "execution_count": 8,
     "metadata": {},
     "output_type": "execute_result"
    }
   ],
   "source": [
    "kiosk.head()"
   ]
  },
  {
   "cell_type": "code",
   "execution_count": 9,
   "id": "7bf90baf",
   "metadata": {},
   "outputs": [
    {
     "data": {
      "text/plain": [
       "102"
      ]
     },
     "execution_count": 9,
     "metadata": {},
     "output_type": "execute_result"
    }
   ],
   "source": [
    "# check number of rows/kiosk locations\n",
    "kiosk.shape[0]"
   ]
  },
  {
   "cell_type": "code",
   "execution_count": 10,
   "id": "487d7bfe",
   "metadata": {},
   "outputs": [
    {
     "data": {
      "text/plain": [
       "Kiosk ID               int64\n",
       "Kiosk Name            object\n",
       "Kiosk Status          object\n",
       "Location              object\n",
       "Address               object\n",
       "Alternate Name        object\n",
       "City Asset Number    float64\n",
       "Property Type         object\n",
       "Number of Docks      float64\n",
       "Power Type            object\n",
       "Footprint Length     float64\n",
       "Footprint Width      float64\n",
       "Notes                 object\n",
       "Council District       int64\n",
       "Image                float64\n",
       "Modified Date         object\n",
       "dtype: object"
      ]
     },
     "execution_count": 10,
     "metadata": {},
     "output_type": "execute_result"
    }
   ],
   "source": [
    "kiosk.dtypes"
   ]
  },
  {
   "cell_type": "markdown",
   "id": "43fcb7c7",
   "metadata": {},
   "source": [
    "# A. Data Cleaning - \"trips\" dataset - Adding New Columns "
   ]
  },
  {
   "cell_type": "code",
   "execution_count": 11,
   "id": "3c2af2f7",
   "metadata": {},
   "outputs": [],
   "source": [
    "# Rename some of these columns\n",
    "trips.rename(columns = {'Year':'Year_orig', \n",
    "                       'Month':'Month_orig'}, inplace = True)"
   ]
  },
  {
   "cell_type": "markdown",
   "id": "4abe97e2",
   "metadata": {},
   "source": [
    "Note: The \"Year_orig\" column was missing year data for trips between 2018-2021, so a new \"Year\" column is created to address this issue, additionally - Checkout_Hour, Checkout_Min, Month, and Weekday columans were also created.  "
   ]
  },
  {
   "cell_type": "code",
   "execution_count": 12,
   "id": "8a690386",
   "metadata": {},
   "outputs": [
    {
     "data": {
      "text/plain": [
       "Year_orig\n",
       "2013.0      1457\n",
       "2014.0    155703\n",
       "2015.0    184521\n",
       "2016.0    184680\n",
       "2017.0     92118\n",
       "dtype: int64"
      ]
     },
     "execution_count": 12,
     "metadata": {},
     "output_type": "execute_result"
    }
   ],
   "source": [
    "trips.groupby('Year_orig').size()"
   ]
  },
  {
   "cell_type": "markdown",
   "id": "6376a333",
   "metadata": {},
   "source": [
    "The \"Year_orig\" column is missing 2018-2021"
   ]
  },
  {
   "cell_type": "markdown",
   "id": "f44132cd",
   "metadata": {},
   "source": [
    "I. Because of this, I will create a new \"Year\" column "
   ]
  },
  {
   "cell_type": "code",
   "execution_count": 13,
   "id": "b3885fb3",
   "metadata": {},
   "outputs": [],
   "source": [
    "df = trips['Checkout Date']\n",
    "df_split0 = df.str.split('/', n=- 1, expand=True)\n",
    "df_split = df_split0.drop(df_split0.columns[[1]], axis=1)\n",
    "\n",
    "trips[\"Year\"] = df_split[2]"
   ]
  },
  {
   "cell_type": "markdown",
   "id": "a952af8a",
   "metadata": {},
   "source": [
    "II. Also, creating a \"Month\" and \"Weekday\" columns as well"
   ]
  },
  {
   "cell_type": "code",
   "execution_count": 14,
   "id": "81a4d0f6",
   "metadata": {},
   "outputs": [],
   "source": [
    "trips[\"Month\"] = df_split[0]\n",
    "\n",
    "# coverting dates to datetime\n",
    "ex = pd.to_datetime(trips['Checkout Date'], format=\"%m/%d/%Y\")\n",
    "trips[\"Weekday\"] = ex.dt.weekday"
   ]
  },
  {
   "cell_type": "code",
   "execution_count": 15,
   "id": "ba4818b5",
   "metadata": {},
   "outputs": [],
   "source": [
    "temp = ex.dt.isocalendar()\n",
    "#trips[\"Week_of_Year\"] = temp['week']\n",
    "#trips[\"Day_of_Year\"] = ex.dt.strftime(\"%j\")\n",
    "#trips[\"Day_of_Month\"] = ex.dt.strftime(\"%d\")\n",
    "#trips[\"Min_of_Day\"]=(trips[\"Checkout_Hour\"]*60)+trips[\"Checkout_Min\"]"
   ]
  },
  {
   "cell_type": "markdown",
   "id": "c27caff7",
   "metadata": {},
   "source": [
    "III. Adding \"Checkout_Hour\" and \"Checkout_Min\" columns"
   ]
  },
  {
   "cell_type": "code",
   "execution_count": 16,
   "id": "fe1edc42",
   "metadata": {},
   "outputs": [],
   "source": [
    "df_time = trips['Checkout Time']\n",
    "df_time_split = df_time.str.split(':',n=-1, expand=True)\n",
    "trips['Checkout_Hour']=pd.to_numeric(df_time_split[0])\n",
    "trips['Checkout_Min']=pd.to_numeric(df_time_split[1])"
   ]
  },
  {
   "cell_type": "code",
   "execution_count": 17,
   "id": "61ff4a07",
   "metadata": {},
   "outputs": [
    {
     "data": {
      "text/plain": [
       "Text(0, 0.5, '# of Rides')"
      ]
     },
     "execution_count": 17,
     "metadata": {},
     "output_type": "execute_result"
    },
    {
     "data": {
      "image/png": "[encoded data removed]",
      "text/plain": [
       "<Figure size 576x288 with 1 Axes>"
      ]
     },
     "metadata": {},
     "output_type": "display_data"
    }
   ],
   "source": [
    "# Checking if the \"Checkout_Hour\" data make sense\n",
    "plt.figure(figsize = (8,4))\n",
    "trips.groupby('Checkout_Hour').size().plot.bar(color = 'g')\n",
    "plt.ylabel('# of Rides')"
   ]
  },
  {
   "cell_type": "code",
   "execution_count": 18,
   "id": "faef7703",
   "metadata": {},
   "outputs": [
    {
     "data": {
      "text/html": [
       "<div>\n",
       "<style scoped>\n",
       "    .dataframe tbody tr th:only-of-type {\n",
       "        vertical-align: middle;\n",
       "    }\n",
       "\n",
       "    .dataframe tbody tr th {\n",
       "        vertical-align: top;\n",
       "    }\n",
       "\n",
       "    .dataframe thead th {\n",
       "        text-align: right;\n",
       "    }\n",
       "</style>\n",
       "<table border=\"1\" class=\"dataframe\">\n",
       "  <thead>\n",
       "    <tr style=\"text-align: right;\">\n",
       "      <th></th>\n",
       "      <th>Trip ID</th>\n",
       "      <th>Membership Type</th>\n",
       "      <th>Bicycle ID</th>\n",
       "      <th>Bike Type</th>\n",
       "      <th>Checkout Date</th>\n",
       "      <th>Checkout Time</th>\n",
       "      <th>Checkout Kiosk ID</th>\n",
       "      <th>Checkout Kiosk</th>\n",
       "      <th>Return Kiosk ID</th>\n",
       "      <th>Return Kiosk</th>\n",
       "      <th>Trip Duration Minutes</th>\n",
       "      <th>Month_orig</th>\n",
       "      <th>Year_orig</th>\n",
       "      <th>Year</th>\n",
       "      <th>Month</th>\n",
       "      <th>Weekday</th>\n",
       "      <th>Checkout_Hour</th>\n",
       "      <th>Checkout_Min</th>\n",
       "    </tr>\n",
       "  </thead>\n",
       "  <tbody>\n",
       "    <tr>\n",
       "      <th>0</th>\n",
       "      <td>9900285854</td>\n",
       "      <td>Annual (San Antonio B-cycle)</td>\n",
       "      <td>207.0</td>\n",
       "      <td>NaN</td>\n",
       "      <td>10/26/2014</td>\n",
       "      <td>13:12:00</td>\n",
       "      <td>2537.0</td>\n",
       "      <td>West &amp; 6th St.</td>\n",
       "      <td>2707.0</td>\n",
       "      <td>Rainey St @ Cummings</td>\n",
       "      <td>76</td>\n",
       "      <td>10.0</td>\n",
       "      <td>2014.0</td>\n",
       "      <td>2014</td>\n",
       "      <td>10</td>\n",
       "      <td>6</td>\n",
       "      <td>13</td>\n",
       "      <td>12</td>\n",
       "    </tr>\n",
       "    <tr>\n",
       "      <th>1</th>\n",
       "      <td>9900285855</td>\n",
       "      <td>24-Hour Kiosk (Austin B-cycle)</td>\n",
       "      <td>969.0</td>\n",
       "      <td>NaN</td>\n",
       "      <td>10/26/2014</td>\n",
       "      <td>13:12:00</td>\n",
       "      <td>2498.0</td>\n",
       "      <td>Convention Center / 4th St. @ MetroRail</td>\n",
       "      <td>2566.0</td>\n",
       "      <td>Pfluger Bridge @ W 2nd Street</td>\n",
       "      <td>58</td>\n",
       "      <td>10.0</td>\n",
       "      <td>2014.0</td>\n",
       "      <td>2014</td>\n",
       "      <td>10</td>\n",
       "      <td>6</td>\n",
       "      <td>13</td>\n",
       "      <td>12</td>\n",
       "    </tr>\n",
       "    <tr>\n",
       "      <th>2</th>\n",
       "      <td>9900285856</td>\n",
       "      <td>Annual Membership (Austin B-cycle)</td>\n",
       "      <td>214.0</td>\n",
       "      <td>NaN</td>\n",
       "      <td>10/26/2014</td>\n",
       "      <td>13:12:00</td>\n",
       "      <td>2537.0</td>\n",
       "      <td>West &amp; 6th St.</td>\n",
       "      <td>2496.0</td>\n",
       "      <td>8th &amp; Congress</td>\n",
       "      <td>8</td>\n",
       "      <td>10.0</td>\n",
       "      <td>2014.0</td>\n",
       "      <td>2014</td>\n",
       "      <td>10</td>\n",
       "      <td>6</td>\n",
       "      <td>13</td>\n",
       "      <td>12</td>\n",
       "    </tr>\n",
       "    <tr>\n",
       "      <th>3</th>\n",
       "      <td>9900285857</td>\n",
       "      <td>24-Hour Kiosk (Austin B-cycle)</td>\n",
       "      <td>745.0</td>\n",
       "      <td>NaN</td>\n",
       "      <td>10/26/2014</td>\n",
       "      <td>13:12:00</td>\n",
       "      <td>NaN</td>\n",
       "      <td>Zilker Park at Barton Springs &amp; William Barton...</td>\n",
       "      <td>NaN</td>\n",
       "      <td>Zilker Park at Barton Springs &amp; William Barton...</td>\n",
       "      <td>28</td>\n",
       "      <td>10.0</td>\n",
       "      <td>2014.0</td>\n",
       "      <td>2014</td>\n",
       "      <td>10</td>\n",
       "      <td>6</td>\n",
       "      <td>13</td>\n",
       "      <td>12</td>\n",
       "    </tr>\n",
       "    <tr>\n",
       "      <th>4</th>\n",
       "      <td>9900285858</td>\n",
       "      <td>24-Hour Kiosk (Austin B-cycle)</td>\n",
       "      <td>164.0</td>\n",
       "      <td>NaN</td>\n",
       "      <td>10/26/2014</td>\n",
       "      <td>13:12:00</td>\n",
       "      <td>2538.0</td>\n",
       "      <td>Bullock Museum @ Congress &amp; MLK</td>\n",
       "      <td>NaN</td>\n",
       "      <td>Convention Center/ 3rd &amp; Trinity</td>\n",
       "      <td>15</td>\n",
       "      <td>10.0</td>\n",
       "      <td>2014.0</td>\n",
       "      <td>2014</td>\n",
       "      <td>10</td>\n",
       "      <td>6</td>\n",
       "      <td>13</td>\n",
       "      <td>12</td>\n",
       "    </tr>\n",
       "  </tbody>\n",
       "</table>\n",
       "</div>"
      ],
      "text/plain": [
       "      Trip ID                     Membership Type Bicycle ID  Bike Type  \\\n",
       "0  9900285854        Annual (San Antonio B-cycle)      207.0        NaN   \n",
       "1  9900285855      24-Hour Kiosk (Austin B-cycle)      969.0        NaN   \n",
       "2  9900285856  Annual Membership (Austin B-cycle)      214.0        NaN   \n",
       "3  9900285857      24-Hour Kiosk (Austin B-cycle)      745.0        NaN   \n",
       "4  9900285858      24-Hour Kiosk (Austin B-cycle)      164.0        NaN   \n",
       "\n",
       "  Checkout Date Checkout Time  Checkout Kiosk ID  \\\n",
       "0    10/26/2014      13:12:00             2537.0   \n",
       "1    10/26/2014      13:12:00             2498.0   \n",
       "2    10/26/2014      13:12:00             2537.0   \n",
       "3    10/26/2014      13:12:00                NaN   \n",
       "4    10/26/2014      13:12:00             2538.0   \n",
       "\n",
       "                                      Checkout Kiosk Return Kiosk ID  \\\n",
       "0                                     West & 6th St.          2707.0   \n",
       "1            Convention Center / 4th St. @ MetroRail          2566.0   \n",
       "2                                     West & 6th St.          2496.0   \n",
       "3  Zilker Park at Barton Springs & William Barton...             NaN   \n",
       "4                    Bullock Museum @ Congress & MLK             NaN   \n",
       "\n",
       "                                        Return Kiosk  Trip Duration Minutes  \\\n",
       "0                               Rainey St @ Cummings                     76   \n",
       "1                      Pfluger Bridge @ W 2nd Street                     58   \n",
       "2                                     8th & Congress                      8   \n",
       "3  Zilker Park at Barton Springs & William Barton...                     28   \n",
       "4                   Convention Center/ 3rd & Trinity                     15   \n",
       "\n",
       "   Month_orig  Year_orig  Year Month  Weekday  Checkout_Hour  Checkout_Min  \n",
       "0        10.0     2014.0  2014    10        6             13            12  \n",
       "1        10.0     2014.0  2014    10        6             13            12  \n",
       "2        10.0     2014.0  2014    10        6             13            12  \n",
       "3        10.0     2014.0  2014    10        6             13            12  \n",
       "4        10.0     2014.0  2014    10        6             13            12  "
      ]
     },
     "execution_count": 18,
     "metadata": {},
     "output_type": "execute_result"
    }
   ],
   "source": [
    "trips.head()"
   ]
  },
  {
   "cell_type": "markdown",
   "id": "0e19bd36",
   "metadata": {},
   "source": [
    "# B. Data Cleaning - \"trips\" dataset - Removing Rows"
   ]
  },
  {
   "cell_type": "markdown",
   "id": "a6ea82d4",
   "metadata": {},
   "source": [
    "Note: Plotting and checking out the Trip Duration data, but ultimately REMOVING THE SHORT TRIPS (0 MINUTES) and TRIPS LONGER THAN 8 DAYS in later cells"
   ]
  },
  {
   "cell_type": "code",
   "execution_count": 19,
   "id": "a32173f1",
   "metadata": {
    "scrolled": true
   },
   "outputs": [
    {
     "data": {
      "text/plain": [
       "count    1.847746e+06\n",
       "mean     2.982984e+01\n",
       "std      1.267121e+02\n",
       "min      0.000000e+00\n",
       "25%      6.000000e+00\n",
       "50%      1.200000e+01\n",
       "75%      2.800000e+01\n",
       "max      3.423800e+04\n",
       "Name: Trip Duration Minutes, dtype: float64"
      ]
     },
     "execution_count": 19,
     "metadata": {},
     "output_type": "execute_result"
    }
   ],
   "source": [
    "trips['Trip Duration Minutes'].describe()"
   ]
  },
  {
   "cell_type": "code",
   "execution_count": 20,
   "id": "338a8034",
   "metadata": {},
   "outputs": [
    {
     "data": {
      "text/plain": [
       "{'whiskers': [<matplotlib.lines.Line2D at 0x7f9f12697a30>,\n",
       "  <matplotlib.lines.Line2D at 0x7f9f12697d90>],\n",
       " 'caps': [<matplotlib.lines.Line2D at 0x7f9f10a19130>,\n",
       "  <matplotlib.lines.Line2D at 0x7f9f10a19490>],\n",
       " 'boxes': [<matplotlib.lines.Line2D at 0x7f9f126976d0>],\n",
       " 'medians': [<matplotlib.lines.Line2D at 0x7f9f10a197f0>],\n",
       " 'fliers': [<matplotlib.lines.Line2D at 0x7f9f10a19b50>],\n",
       " 'means': []}"
      ]
     },
     "execution_count": 20,
     "metadata": {},
     "output_type": "execute_result"
    },
    {
     "data": {
      "image/png": "[encoded data removed]",
      "text/plain": [
       "<Figure size 432x288 with 1 Axes>"
      ]
     },
     "metadata": {},
     "output_type": "display_data"
    }
   ],
   "source": [
    "plt.boxplot(trips['Trip Duration Minutes'])\n",
    "# some of the trips are too short (0 minutues) \n",
    "# and potentially too long (>8 days or 11520 minutues)\n",
    "# removing these trips "
   ]
  },
  {
   "cell_type": "code",
   "execution_count": 21,
   "id": "b956a6dc",
   "metadata": {},
   "outputs": [
    {
     "data": {
      "text/plain": [
       "(0.0, 500.0)"
      ]
     },
     "execution_count": 21,
     "metadata": {},
     "output_type": "execute_result"
    },
    {
     "data": {
      "image/png": "[encoded data removed]",
      "text/plain": [
       "<Figure size 432x288 with 1 Axes>"
      ]
     },
     "metadata": {},
     "output_type": "display_data"
    }
   ],
   "source": [
    "plt.hist(trips['Trip Duration Minutes'], bins = 5000)\n",
    "plt.xlim(0,500)"
   ]
  },
  {
   "cell_type": "code",
   "execution_count": 22,
   "id": "4ac58c6f",
   "metadata": {},
   "outputs": [
    {
     "data": {
      "text/plain": [
       "1847746"
      ]
     },
     "execution_count": 22,
     "metadata": {},
     "output_type": "execute_result"
    }
   ],
   "source": [
    "trips.shape[0]"
   ]
  },
  {
   "cell_type": "markdown",
   "id": "e688f65d",
   "metadata": {},
   "source": [
    "REMOVING THE SHORT TRIPS (0 MINUTES) and TRIPS LONGER THAN 8 DAYS"
   ]
  },
  {
   "cell_type": "code",
   "execution_count": 23,
   "id": "ef7ed6ff",
   "metadata": {},
   "outputs": [],
   "source": [
    "trips = trips[(trips['Trip Duration Minutes']>0) & (trips['Trip Duration Minutes']<11520)]"
   ]
  },
  {
   "cell_type": "markdown",
   "id": "f1b8b9f0",
   "metadata": {},
   "source": [
    "Lets look at the data after this change"
   ]
  },
  {
   "cell_type": "code",
   "execution_count": 24,
   "id": "5627742e",
   "metadata": {},
   "outputs": [
    {
     "data": {
      "text/plain": [
       "1825976"
      ]
     },
     "execution_count": 24,
     "metadata": {},
     "output_type": "execute_result"
    }
   ],
   "source": [
    "trips.shape[0]"
   ]
  },
  {
   "cell_type": "code",
   "execution_count": 25,
   "id": "5acf0df8",
   "metadata": {},
   "outputs": [
    {
     "name": "stdout",
     "output_type": "stream",
     "text": [
      "Removed:  21770\n",
      "Percent Removed 1.18  %\n"
     ]
    }
   ],
   "source": [
    "print(\"Removed: \",1847746-1825976)\n",
    "print(\"Percent Removed\",round(((1847746-1825976)/1847746)*100,2),\" %\")"
   ]
  },
  {
   "cell_type": "code",
   "execution_count": 26,
   "id": "b25a1855",
   "metadata": {},
   "outputs": [
    {
     "data": {
      "text/plain": [
       "count    1.825976e+06\n",
       "mean     2.993410e+01\n",
       "std      1.085738e+02\n",
       "min      1.000000e+00\n",
       "25%      6.000000e+00\n",
       "50%      1.200000e+01\n",
       "75%      2.800000e+01\n",
       "max      1.147600e+04\n",
       "Name: Trip Duration Minutes, dtype: float64"
      ]
     },
     "execution_count": 26,
     "metadata": {},
     "output_type": "execute_result"
    }
   ],
   "source": [
    "trips['Trip Duration Minutes'].describe()"
   ]
  },
  {
   "cell_type": "code",
   "execution_count": 27,
   "id": "c5ba4bdd",
   "metadata": {},
   "outputs": [
    {
     "data": {
      "text/plain": [
       "{'whiskers': [<matplotlib.lines.Line2D at 0x7f9ef7e6d730>,\n",
       "  <matplotlib.lines.Line2D at 0x7f9ef7e6da90>],\n",
       " 'caps': [<matplotlib.lines.Line2D at 0x7f9ef7e6ddf0>,\n",
       "  <matplotlib.lines.Line2D at 0x7f9ef7d06190>],\n",
       " 'boxes': [<matplotlib.lines.Line2D at 0x7f9ef7e6d3d0>],\n",
       " 'medians': [<matplotlib.lines.Line2D at 0x7f9ef7d064f0>],\n",
       " 'fliers': [<matplotlib.lines.Line2D at 0x7f9ef7d06850>],\n",
       " 'means': []}"
      ]
     },
     "execution_count": 27,
     "metadata": {},
     "output_type": "execute_result"
    },
    {
     "data": {
      "image/png": "[encoded data removed]",
      "text/plain": [
       "<Figure size 432x288 with 1 Axes>"
      ]
     },
     "metadata": {},
     "output_type": "display_data"
    }
   ],
   "source": [
    "# replotting\n",
    "plt.boxplot(trips['Trip Duration Minutes'])"
   ]
  },
  {
   "cell_type": "code",
   "execution_count": 28,
   "id": "110e518b",
   "metadata": {},
   "outputs": [
    {
     "data": {
      "text/plain": [
       "(0.0, 500.0)"
      ]
     },
     "execution_count": 28,
     "metadata": {},
     "output_type": "execute_result"
    },
    {
     "data": {
      "image/png": "[encoded data removed]",
      "text/plain": [
       "<Figure size 432x288 with 1 Axes>"
      ]
     },
     "metadata": {},
     "output_type": "display_data"
    }
   ],
   "source": [
    "plt.hist(trips['Trip Duration Minutes'], bins = 5000)\n",
    "plt.xlim(0,500)"
   ]
  },
  {
   "cell_type": "markdown",
   "id": "c977786a",
   "metadata": {},
   "source": [
    "# C. Data Cleaning - \"trips\" dataset - Fixing Kiosk IDs"
   ]
  },
  {
   "cell_type": "code",
   "execution_count": 29,
   "id": "286c37e3",
   "metadata": {},
   "outputs": [
    {
     "data": {
      "text/plain": [
       "1825976"
      ]
     },
     "execution_count": 29,
     "metadata": {},
     "output_type": "execute_result"
    }
   ],
   "source": [
    "trips.shape[0]"
   ]
  },
  {
   "cell_type": "markdown",
   "id": "33f7bf59",
   "metadata": {},
   "source": [
    "## I. Removing these trip rows, based on the checkout kiosk name, the trips appear to be maintenance-related trips"
   ]
  },
  {
   "cell_type": "code",
   "execution_count": 30,
   "id": "9cff3e57",
   "metadata": {},
   "outputs": [],
   "source": [
    "trips = trips.loc[trips['Checkout Kiosk'] != 'Customer Service']\n",
    "trips = trips.loc[trips['Checkout Kiosk'] != 'Re-branding']\n",
    "trips = trips.loc[trips['Checkout Kiosk'] != 'Repair Shop']\n",
    "trips = trips.loc[trips['Checkout Kiosk'] != 'Shop']"
   ]
  },
  {
   "cell_type": "code",
   "execution_count": 31,
   "id": "7b2452d9",
   "metadata": {},
   "outputs": [],
   "source": [
    "trips = trips.loc[trips['Checkout Kiosk'] != 'Stolen'] # removing these too"
   ]
  },
  {
   "cell_type": "code",
   "execution_count": 32,
   "id": "fb612135",
   "metadata": {},
   "outputs": [
    {
     "data": {
      "text/plain": [
       "1825943"
      ]
     },
     "execution_count": 32,
     "metadata": {},
     "output_type": "execute_result"
    }
   ],
   "source": [
    "trips.shape[0]"
   ]
  },
  {
   "cell_type": "markdown",
   "id": "b15db0c5",
   "metadata": {},
   "source": [
    "Adjusting the Return Kiosk ID to float 64"
   ]
  },
  {
   "cell_type": "code",
   "execution_count": 33,
   "id": "5fef5096",
   "metadata": {},
   "outputs": [
    {
     "data": {
      "text/plain": [
       "Trip ID                    int64\n",
       "Membership Type           object\n",
       "Bicycle ID                object\n",
       "Bike Type                float64\n",
       "Checkout Date             object\n",
       "Checkout Time             object\n",
       "Checkout Kiosk ID        float64\n",
       "Checkout Kiosk            object\n",
       "Return Kiosk ID           object\n",
       "Return Kiosk              object\n",
       "Trip Duration Minutes      int64\n",
       "Month_orig               float64\n",
       "Year_orig                float64\n",
       "Year                      object\n",
       "Month                     object\n",
       "Weekday                    int64\n",
       "Checkout_Hour              int64\n",
       "Checkout_Min               int64\n",
       "dtype: object"
      ]
     },
     "execution_count": 33,
     "metadata": {},
     "output_type": "execute_result"
    }
   ],
   "source": [
    "trips.dtypes"
   ]
  },
  {
   "cell_type": "code",
   "execution_count": 34,
   "id": "4ee9a4af",
   "metadata": {},
   "outputs": [],
   "source": [
    "trips.loc[trips['Return Kiosk ID']==\"Event\",'Return Kiosk ID'] = -1"
   ]
  },
  {
   "cell_type": "code",
   "execution_count": 35,
   "id": "23ec1aef",
   "metadata": {},
   "outputs": [
    {
     "data": {
      "text/plain": [
       "array([2707.0, 2566.0, 2496.0, nan, 2545.0, 2561.0, 2499.0, 2575.0,\n",
       "       2570.0, 2540.0, 2549.0, 2544.0, 2822.0, 2548.0, 2547.0, 2572.0,\n",
       "       2567.0, 2502.0, 2574.0, 2550.0, 2711.0, 2537.0, 2569.0, 2495.0,\n",
       "       2565.0, 2563.0, 2504.0, 2497.0, 2542.0, 2501.0, 2823.0, 2494.0,\n",
       "       1008.0, 2712.0, 2552.0, 2503.0, 2571.0, 2498.0, 2564.0, 3390.0,\n",
       "       2538.0, 2536.0, 2541.0, 2562.0, 3464.0, 1006.0, 3291.0, 2546.0,\n",
       "       2539.0, 2568.0, 2576.0, 3292.0, 3293.0, 3621.0, 3377.0, 3513.0,\n",
       "       3619.0, 1007.0, 3660.0, 2500.0, 3294.0, 3381.0, 3455.0, 3635.0,\n",
       "       1001.0, 3687.0, 1002.0, 3792.0, 7189, 4050.0, 4061.0, 3685.0,\n",
       "       3793.0, 1005.0, 3795.0, 3841.0, 4057.0, 3797.0, 3838.0, 3798.0,\n",
       "       1003.0, 4051.0, 3799.0, 4938.0, 3686.0, 4062.0, 3791.0, 3794.0,\n",
       "       4047.0, 4879.0, 4048.0, 4058.0, 4054.0, 3684.0, 3456.0, 3790.0,\n",
       "       4060, 4055, 4059, 4052, 4699, '4061', '2547', '2570', '3390',\n",
       "       '2568', '2542', '3798', '2566', '3841', '2494', '2565', '4059',\n",
       "       '2549', '2497', '3838', '3792', '2503', '3795', '3797', '2575',\n",
       "       '4055', '2707', '3377', '4048', '3799', '2548', '3794', '4057',\n",
       "       '2823', '3292', '3684', '2572', '2495', '2563', '2567', '2571',\n",
       "       '3687', '2496', '3791', '2552', '4058', '3793', '2539', '3621',\n",
       "       '2574', '3513', '2569', '2499', '3686', '4051', '2562', '3294',\n",
       "       '3291', '3619', '4052', '3685', '3635', '2540', '3455', '3790',\n",
       "       '4062', '3293', '2561', '3660', '2537', '2711', '4060', '4050',\n",
       "       '4054', '4047', '2822', '2544', '2501', '2504', '2498', '4879',\n",
       "       '4938', '4699', -1, 7131, 7125, 7187, 7188, 7186, 7190.0, 7253],\n",
       "      dtype=object)"
      ]
     },
     "execution_count": 35,
     "metadata": {},
     "output_type": "execute_result"
    }
   ],
   "source": [
    "trips['Return Kiosk ID'].unique()"
   ]
  },
  {
   "cell_type": "code",
   "execution_count": 36,
   "id": "5cc40289",
   "metadata": {},
   "outputs": [],
   "source": [
    "trips['Return Kiosk ID'] = trips['Return Kiosk ID'].astype(float)"
   ]
  },
  {
   "cell_type": "code",
   "execution_count": 37,
   "id": "eadd4a3f",
   "metadata": {},
   "outputs": [
    {
     "data": {
      "text/plain": [
       "Trip ID                    int64\n",
       "Membership Type           object\n",
       "Bicycle ID                object\n",
       "Bike Type                float64\n",
       "Checkout Date             object\n",
       "Checkout Time             object\n",
       "Checkout Kiosk ID        float64\n",
       "Checkout Kiosk            object\n",
       "Return Kiosk ID          float64\n",
       "Return Kiosk              object\n",
       "Trip Duration Minutes      int64\n",
       "Month_orig               float64\n",
       "Year_orig                float64\n",
       "Year                      object\n",
       "Month                     object\n",
       "Weekday                    int64\n",
       "Checkout_Hour              int64\n",
       "Checkout_Min               int64\n",
       "dtype: object"
      ]
     },
     "execution_count": 37,
     "metadata": {},
     "output_type": "execute_result"
    }
   ],
   "source": [
    "trips.dtypes"
   ]
  },
  {
   "cell_type": "code",
   "execution_count": 38,
   "id": "efea8779",
   "metadata": {},
   "outputs": [
    {
     "data": {
      "text/plain": [
       "array([ 2.707e+03,  2.566e+03,  2.496e+03,        nan,  2.545e+03,\n",
       "        2.561e+03,  2.499e+03,  2.575e+03,  2.570e+03,  2.540e+03,\n",
       "        2.549e+03,  2.544e+03,  2.822e+03,  2.548e+03,  2.547e+03,\n",
       "        2.572e+03,  2.567e+03,  2.502e+03,  2.574e+03,  2.550e+03,\n",
       "        2.711e+03,  2.537e+03,  2.569e+03,  2.495e+03,  2.565e+03,\n",
       "        2.563e+03,  2.504e+03,  2.497e+03,  2.542e+03,  2.501e+03,\n",
       "        2.823e+03,  2.494e+03,  1.008e+03,  2.712e+03,  2.552e+03,\n",
       "        2.503e+03,  2.571e+03,  2.498e+03,  2.564e+03,  3.390e+03,\n",
       "        2.538e+03,  2.536e+03,  2.541e+03,  2.562e+03,  3.464e+03,\n",
       "        1.006e+03,  3.291e+03,  2.546e+03,  2.539e+03,  2.568e+03,\n",
       "        2.576e+03,  3.292e+03,  3.293e+03,  3.621e+03,  3.377e+03,\n",
       "        3.513e+03,  3.619e+03,  1.007e+03,  3.660e+03,  2.500e+03,\n",
       "        3.294e+03,  3.381e+03,  3.455e+03,  3.635e+03,  1.001e+03,\n",
       "        3.687e+03,  1.002e+03,  3.792e+03,  7.189e+03,  4.050e+03,\n",
       "        4.061e+03,  3.685e+03,  3.793e+03,  1.005e+03,  3.795e+03,\n",
       "        3.841e+03,  4.057e+03,  3.797e+03,  3.838e+03,  3.798e+03,\n",
       "        1.003e+03,  4.051e+03,  3.799e+03,  4.938e+03,  3.686e+03,\n",
       "        4.062e+03,  3.791e+03,  3.794e+03,  4.047e+03,  4.879e+03,\n",
       "        4.048e+03,  4.058e+03,  4.054e+03,  3.684e+03,  3.456e+03,\n",
       "        3.790e+03,  4.060e+03,  4.055e+03,  4.059e+03,  4.052e+03,\n",
       "        4.699e+03, -1.000e+00,  7.131e+03,  7.125e+03,  7.187e+03,\n",
       "        7.188e+03,  7.186e+03,  7.190e+03,  7.253e+03])"
      ]
     },
     "execution_count": 38,
     "metadata": {},
     "output_type": "execute_result"
    }
   ],
   "source": [
    "trips['Return Kiosk ID'].unique()"
   ]
  },
  {
   "cell_type": "markdown",
   "id": "c29fba69",
   "metadata": {},
   "source": [
    "## II. Identify the kiosk IDs that have MULTIPLE kiosk names "
   ]
  },
  {
   "cell_type": "code",
   "execution_count": 39,
   "id": "64c3eb82",
   "metadata": {},
   "outputs": [
    {
     "data": {
      "text/plain": [
       "0.8823529411764706"
      ]
     },
     "execution_count": 39,
     "metadata": {},
     "output_type": "execute_result"
    }
   ],
   "source": [
    "# https://stackoverflow.com/questions/17388213/find-the-similarity-metric-between-two-strings\n",
    "# Function to help find kiosk IDs with multiple names \n",
    "from difflib import SequenceMatcher\n",
    "\n",
    "def similar(a, b):\n",
    "    return SequenceMatcher(None, a, b).ratio()\n",
    "\n",
    "# e.g.\n",
    "similar(\"23rd/San Gabriel\",\"23rd & San Gabriel\")"
   ]
  },
  {
   "cell_type": "code",
   "execution_count": 40,
   "id": "a9566dc3",
   "metadata": {},
   "outputs": [],
   "source": [
    "# remove blank spaces at start and end \n",
    "trips['Checkout Kiosk'] = trips['Checkout Kiosk'].str.strip()\n",
    "trips['Return Kiosk'] = trips['Return Kiosk'].str.strip()"
   ]
  },
  {
   "cell_type": "markdown",
   "id": "c911e628",
   "metadata": {},
   "source": [
    "1. CHECKOUT KIOSK IDS "
   ]
  },
  {
   "cell_type": "code",
   "execution_count": 41,
   "id": "38b1fd04",
   "metadata": {},
   "outputs": [
    {
     "name": "stdout",
     "output_type": "stream",
     "text": [
      "Kiosk ID -  2537.0\n",
      "2 :  ['West & 6th St.' '6th/West']\n",
      "ratio:  0.3636 \n",
      "\n",
      "Kiosk ID -  2566.0\n",
      "2 :  ['Pfluger Bridge @ W 2nd Street'\n",
      " 'Electric Drive/Sandra Muraida Way @ Pfluger Ped Bridge']\n",
      "ratio:  0.3373 \n",
      "\n",
      "Kiosk ID -  2548.0\n",
      "2 :  ['UT West Mall @ Guadalupe' 'Guadalupe/West Mall @ University Co-op']\n",
      "ratio:  0.4194 \n",
      "\n",
      "Kiosk ID -  2549.0\n",
      "2 :  ['Long Center @ South 1st & Riverside' 'South 1st/Riverside @ Long Center']\n",
      "ratio:  0.3235 \n",
      "\n",
      "Kiosk ID -  2823.0\n",
      "2 :  ['Capital Metro HQ - East 5th at Broadway'\n",
      " 'East 5th/Broadway @ Capital Metro HQ']\n",
      "ratio:  0.4267 \n",
      "\n",
      "Kiosk ID -  2499.0\n",
      "2 :  ['City Hall / Lavaca & 2nd' '2nd/Lavaca @ City Hall']\n",
      "ratio:  0.3913 \n",
      "\n",
      "Kiosk ID -  2565.0\n",
      "2 :  ['Trinity & 6th Street' '6th/Trinity']\n",
      "ratio:  0.4516 \n",
      "\n",
      "Kiosk ID -  2497.0\n",
      "2 :  ['Capitol Station / Congress & 11th' '11th/Congress @ The Texas Capitol']\n",
      "ratio:  0.3939 \n",
      "\n",
      "Kiosk ID -  3377.0\n",
      "2 :  ['MoPac Pedestrian Bridge @ Veterans Drive'\n",
      " 'Veterans/Atlanta @ MoPac Ped Bridge']\n",
      "ratio:  0.4267 \n",
      "\n"
     ]
    }
   ],
   "source": [
    "nnames = []\n",
    "for checkout_id in trips['Checkout Kiosk ID'].unique():\n",
    "    all_names = trips[trips['Checkout Kiosk ID']==checkout_id]['Checkout Kiosk'].unique()\n",
    "    nnames.append(len(all_names))\n",
    "\n",
    "    if len(all_names) == 2 and similar(all_names[0],all_names[1]) < 0.50:\n",
    "        print(\"Kiosk ID - \", checkout_id)\n",
    "        print(len(all_names),\": \", all_names)        \n",
    "        print(\"ratio: \", round(similar(all_names[0],all_names[1]),4),\"\\n\")\n",
    "\n",
    "# my review: all of these locations are the same, just modified kiosk name"
   ]
  },
  {
   "cell_type": "code",
   "execution_count": 42,
   "id": "38cbddba",
   "metadata": {
    "scrolled": false
   },
   "outputs": [
    {
     "name": "stdout",
     "output_type": "stream",
     "text": [
      "Kiosk ID -  2498.0\n",
      "3 :  ['Convention Center / 4th St. @ MetroRail' 'Dean Keeton/Speedway'\n",
      " '4th/Neches @ MetroRail Downtown'] \n",
      "\n",
      "Kiosk ID -  2563.0\n",
      "3 :  ['Davis at Rainey Street' 'Rainey/Davis' 'Rainey/Driskill'] \n",
      "\n",
      "Kiosk ID -  3455.0\n",
      "4 :  ['Republic Square @ Federal Courthouse Plaza'\n",
      " 'Republic Square @ 5th & Guadalupe' '4th/Guadalupe @ Republic Square'\n",
      " '5th/Guadalupe @ Republic Square'] \n",
      "\n",
      "Kiosk ID -  3294.0\n",
      "3 :  ['Guadalupe & 6th' 'Lavaca & 6th' '6th/Lavaca'] \n",
      "\n",
      "Kiosk ID -  3794.0\n",
      "3 :  ['4th/Sabine' 'Dean Keeton & Speedway' 'Dean Keeton/Speedway'] \n",
      "\n",
      "Kiosk ID -  3684.0\n",
      "3 :  ['Cesar Chavez/Congress' 'Congress & Cesar Chavez' 'cesar Chavez/Congress'] \n",
      "\n"
     ]
    }
   ],
   "source": [
    "nnames = []\n",
    "for checkout_id in trips['Checkout Kiosk ID'].unique():\n",
    "    all_names = trips[trips['Checkout Kiosk ID']==checkout_id]['Checkout Kiosk'].unique()\n",
    "    nnames.append(len(all_names))\n",
    "\n",
    "    if len(all_names) >2:\n",
    "        print(\"Kiosk ID - \", checkout_id)\n",
    "        print(len(all_names),\": \", all_names, \"\\n\")\n",
    "    \n",
    "# -- all of these locations are the same (3684)\n",
    "# -- OR have simply moved down a street or around the block (2563, 3455, 3294)\n",
    "# -- EXCEPT 2498, 3794 (see below)"
   ]
  },
  {
   "cell_type": "code",
   "execution_count": 43,
   "id": "a09c1a4f",
   "metadata": {},
   "outputs": [],
   "source": [
    "# OK, 'Dean Keeton/Speedway' needs to be ID = 3794 (based on kiosk dataset)\n",
    "# ------------------------------------------------------\n",
    "# OK -- The other locations are essentially at the Convention Center or the MetroRail Downtown \n",
    "# ----- which are on the same block\n",
    "# OK -- 'Convention Center / 4th St. @ MetroRail' and '4th/Neches @ MetroRail Downtown'\n",
    "# ----- will be labeled at ID = 2539 (Convention Center / 3rd & Trinity)\n",
    "# OK, '4th/Sabine' needs to be ID = 2498 (based on kiosk dataset)"
   ]
  },
  {
   "cell_type": "code",
   "execution_count": 44,
   "id": "f54009b6",
   "metadata": {},
   "outputs": [],
   "source": [
    "# MAKE THE UPDATES\n",
    "kiosk_names =['Dean Keeton/Speedway',\n",
    "             'Dean Keeton & Speedway',\n",
    "             'Convention Center / 4th St. @ MetroRail',\n",
    "             '4th/Neches @ MetroRail Downtown',\n",
    "             '4th/Sabine']\n",
    "\n",
    "new_IDs = [3794,  \n",
    "           3794,\n",
    "           2539,\n",
    "           2539,\n",
    "           2498] \n",
    "\n",
    "cnt = 0\n",
    "for checkout_kname in kiosk_names:   \n",
    "    trips.loc[trips['Checkout Kiosk']==checkout_kname,'Checkout Kiosk ID']=new_IDs[cnt]\n",
    "    cnt += 1"
   ]
  },
  {
   "cell_type": "code",
   "execution_count": 45,
   "id": "c0bf8e0b",
   "metadata": {},
   "outputs": [
    {
     "name": "stdout",
     "output_type": "stream",
     "text": [
      "['4th/Sabine']\n",
      "['Dean Keeton/Speedway' 'Dean Keeton & Speedway']\n",
      "['Convention Center / 4th St. @ MetroRail'\n",
      " 'Convention Center / 3rd & Trinity' '3rd/Trinity @ The Convention Center'\n",
      " '4th/Neches @ MetroRail Downtown']\n"
     ]
    }
   ],
   "source": [
    "# CHECK 2498\n",
    "print(trips.loc[trips['Checkout Kiosk ID']==2498]['Checkout Kiosk'].unique())\n",
    "\n",
    "# CHECK 3794\n",
    "print(trips.loc[trips['Checkout Kiosk ID']==3794]['Checkout Kiosk'].unique())\n",
    "\n",
    "# CHECK 2539\n",
    "print(trips.loc[trips['Checkout Kiosk ID']==2539]['Checkout Kiosk'].unique())"
   ]
  },
  {
   "cell_type": "markdown",
   "id": "b834c75b",
   "metadata": {},
   "source": [
    "2. RETURN KIOSK IDS "
   ]
  },
  {
   "cell_type": "code",
   "execution_count": 46,
   "id": "17232c5c",
   "metadata": {},
   "outputs": [
    {
     "name": "stdout",
     "output_type": "stream",
     "text": [
      "Kiosk ID -  2566.0\n",
      "2 :  ['Pfluger Bridge @ W 2nd Street'\n",
      " 'Electric Drive/Sandra Muraida Way @ Pfluger Ped Bridge']\n",
      "ratio:  0.3373 \n",
      "\n",
      "Kiosk ID -  2499.0\n",
      "2 :  ['City Hall / Lavaca & 2nd' '2nd/Lavaca @ City Hall']\n",
      "ratio:  0.3913 \n",
      "\n",
      "Kiosk ID -  2549.0\n",
      "2 :  ['Long Center @ South 1st & Riverside' 'South 1st/Riverside @ Long Center']\n",
      "ratio:  0.3235 \n",
      "\n",
      "Kiosk ID -  2548.0\n",
      "2 :  ['UT West Mall @ Guadalupe' 'Guadalupe/West Mall @ University Co-op']\n",
      "ratio:  0.4194 \n",
      "\n",
      "Kiosk ID -  2537.0\n",
      "2 :  ['West & 6th St.' '6th/West']\n",
      "ratio:  0.3636 \n",
      "\n",
      "Kiosk ID -  2565.0\n",
      "2 :  ['Trinity & 6th Street' '6th/Trinity']\n",
      "ratio:  0.4516 \n",
      "\n",
      "Kiosk ID -  2497.0\n",
      "2 :  ['Capitol Station / Congress & 11th' '11th/Congress @ The Texas Capitol']\n",
      "ratio:  0.3939 \n",
      "\n",
      "Kiosk ID -  2823.0\n",
      "2 :  ['Capital Metro HQ - East 5th at Broadway'\n",
      " 'East 5th/Broadway @ Capital Metro HQ']\n",
      "ratio:  0.4267 \n",
      "\n",
      "Kiosk ID -  3377.0\n",
      "2 :  ['MoPac Pedestrian Bridge @ Veterans Drive'\n",
      " 'Veterans/Atlanta @ MoPac Ped Bridge']\n",
      "ratio:  0.4267 \n",
      "\n"
     ]
    }
   ],
   "source": [
    "nnames = []\n",
    "for return_id in trips['Return Kiosk ID'].unique():\n",
    "    all_names = trips[trips['Return Kiosk ID']==return_id]['Return Kiosk'].unique()\n",
    "    nnames.append(len(all_names))\n",
    "\n",
    "    if len(all_names) == 2 and similar(all_names[0],all_names[1]) < 0.50:\n",
    "        print(\"Kiosk ID - \", return_id)\n",
    "        print(len(all_names),\": \", all_names)        \n",
    "        print(\"ratio: \", round(similar(all_names[0],all_names[1]),4),\"\\n\")\n",
    "\n",
    "# my review: most of these locations are the same, just modified kiosk name"
   ]
  },
  {
   "cell_type": "code",
   "execution_count": 47,
   "id": "e7239864",
   "metadata": {
    "scrolled": false
   },
   "outputs": [
    {
     "name": "stdout",
     "output_type": "stream",
     "text": [
      "Kiosk ID -  2563.0\n",
      "3 :  ['Davis at Rainey Street' 'Rainey/Davis' 'Rainey/Driskill'] \n",
      "\n",
      "Kiosk ID -  2498.0\n",
      "3 :  ['Convention Center / 4th St. @ MetroRail' 'Dean Keeton/Speedway'\n",
      " '4th/Neches @ MetroRail Downtown'] \n",
      "\n",
      "Kiosk ID -  3294.0\n",
      "3 :  ['Guadalupe & 6th' '6th/Lavaca' 'Lavaca & 6th'] \n",
      "\n",
      "Kiosk ID -  3455.0\n",
      "4 :  ['Republic Square @ Federal Courthouse Plaza'\n",
      " 'Republic Square @ 5th & Guadalupe' '4th/Guadalupe @ Republic Square'\n",
      " '5th/Guadalupe @ Republic Square'] \n",
      "\n",
      "Kiosk ID -  3794.0\n",
      "3 :  ['4th/Sabine' 'Dean Keeton & Speedway' 'Dean Keeton/Speedway'] \n",
      "\n"
     ]
    }
   ],
   "source": [
    "nnames = []\n",
    "for return_id in trips['Return Kiosk ID'].unique():\n",
    "    all_names = trips[trips['Return Kiosk ID']==return_id]['Return Kiosk'].unique()\n",
    "    nnames.append(len(all_names))\n",
    "\n",
    "    if len(all_names) >2:\n",
    "        print(\"Kiosk ID - \", return_id)\n",
    "        print(len(all_names),\": \", all_names, \"\\n\")\n",
    "    \n",
    "# -- these location have simply moved down a street or around the block (2563, 3455, 3294)\n",
    "# -- EXCEPT 2498, 3794 (see below)"
   ]
  },
  {
   "cell_type": "code",
   "execution_count": 48,
   "id": "0eda2596",
   "metadata": {},
   "outputs": [],
   "source": [
    "# OK, '4th/Sabine' needs to be ID = 2498 (based on kiosk dataset)\n",
    "# OK, 'Dean Keeton/Speedway' needs to be ID = 3794 (based on kiosk dataset)\n",
    "# ------------------------------------------------------\n",
    "# OK -- The other locations are essentially at the Convention Center or the MetroRail Downtown \n",
    "# ----- which are on the same block\n",
    "# OK -- 'Convention Center / 4th St. @ MetroRail' and '4th/Neches @ MetroRail Downtown'\n",
    "# ----- will be labeled at ID = 2539 (Convention Center / 3rd & Trinity)"
   ]
  },
  {
   "cell_type": "code",
   "execution_count": 49,
   "id": "0cb08c2e",
   "metadata": {},
   "outputs": [],
   "source": [
    "# MAKE THE UPDATES\n",
    "kiosk_names =['Dean Keeton/Speedway',\n",
    "             'Dean Keeton & Speedway',\n",
    "             'Convention Center / 4th St. @ MetroRail',\n",
    "             '4th/Neches @ MetroRail Downtown',\n",
    "             '4th/Sabine']\n",
    "\n",
    "new_IDs = [3794,  \n",
    "           3794,\n",
    "           2539,\n",
    "           2539,\n",
    "           2498] \n",
    "\n",
    "cnt = 0\n",
    "for return_kname in kiosk_names:   \n",
    "    trips.loc[trips['Return Kiosk']==return_kname,'Return Kiosk ID']=new_IDs[cnt]\n",
    "    cnt += 1"
   ]
  },
  {
   "cell_type": "code",
   "execution_count": 51,
   "id": "08782291",
   "metadata": {},
   "outputs": [
    {
     "name": "stdout",
     "output_type": "stream",
     "text": [
      "['4th/Sabine']\n",
      "['Dean Keeton/Speedway' 'Dean Keeton & Speedway']\n",
      "['Convention Center / 4th St. @ MetroRail'\n",
      " 'Convention Center / 3rd & Trinity' '3rd/Trinity @ The Convention Center'\n",
      " '4th/Neches @ MetroRail Downtown']\n"
     ]
    }
   ],
   "source": [
    "# CHECK 2498\n",
    "print(trips.loc[trips['Return Kiosk ID']==2498]['Return Kiosk'].unique())\n",
    "\n",
    "# CHECK 3794\n",
    "print(trips.loc[trips['Return Kiosk ID']==3794]['Return Kiosk'].unique())\n",
    "\n",
    "# CHECK 2539\n",
    "print(trips.loc[trips['Return Kiosk ID']==2539]['Return Kiosk'].unique())"
   ]
  },
  {
   "cell_type": "code",
   "execution_count": 52,
   "id": "17ad98bd",
   "metadata": {},
   "outputs": [],
   "source": [
    "# Just Using this code for Testing\n",
    "#trips[trips['Checkout Kiosk']=='Mobile Station']"
   ]
  },
  {
   "cell_type": "markdown",
   "id": "ea66df89",
   "metadata": {},
   "source": [
    "## III. Identify kiosk IDs that are in the Trips dataset but NOT the Kiosk dataset\n"
   ]
  },
  {
   "cell_type": "code",
   "execution_count": 53,
   "id": "80c23e11",
   "metadata": {
    "scrolled": false
   },
   "outputs": [
    {
     "name": "stdout",
     "output_type": "stream",
     "text": [
      "nan : this id is NOT in the kiosk dataset.\n",
      "\n",
      "\n",
      "7188.0 : this id is NOT in the kiosk dataset.\n",
      "Trip dataset - Kiosk Name:  22nd/Pearl\n",
      "Kiosk dataset - Kiosk ID/Name:  3792 22nd & Pearl  %:  0.82\n",
      "\n",
      "\n",
      "4938.0 : this id is NOT in the kiosk dataset.\n",
      "Trip dataset - Kiosk Name:  22.5/Rio Grande\n",
      "Kiosk dataset - Kiosk ID/Name:  11 22nd 1/2 & Rio Grande  %:  0.72\n",
      "\n",
      "\n",
      "3456.0 : this id is NOT in the kiosk dataset.\n",
      "Trip dataset - Kiosk Name:  Republic Square @ 5th & Guadalupe\n",
      "Kiosk dataset - Kiosk ID/Name:  3455 Republic Square @ 5th & Guadalupe  %:  1.0\n",
      "\n",
      "\n",
      "7125.0 : this id is NOT in the kiosk dataset.\n",
      "Trip dataset - Kiosk Name:  23rd/San Gabriel\n",
      "Kiosk dataset - Kiosk ID/Name:  111 23rd & San Gabriel  %:  0.88\n",
      "\n",
      "\n",
      "7131.0 : this id is NOT in the kiosk dataset.\n",
      "Trip dataset - Kiosk Name:  13th/Trinity\n",
      "Kiosk dataset - Kiosk ID/Name:  1111 13th & Trinity  %:  0.85\n",
      "\n",
      "\n",
      "7187.0 : this id is NOT in the kiosk dataset.\n",
      "Trip dataset - Kiosk Name:  South Congress/Mary\n",
      "Kiosk dataset - Kiosk ID/Name:  2570 South Congress & Academy  %:  0.74\n",
      "Trip dataset - Kiosk Name:  South Congress/Mary\n",
      "Kiosk dataset - Kiosk ID/Name:  2503 South Congress & James  %:  0.73\n",
      "Trip dataset - Kiosk Name:  South Congress/Mary\n",
      "Kiosk dataset - Kiosk ID/Name:  0 South Congress/Mary  %:  1.0\n",
      "\n",
      "\n",
      "7186.0 : this id is NOT in the kiosk dataset.\n",
      "\n",
      "\n",
      "7190.0 : this id is NOT in the kiosk dataset.\n",
      "Trip dataset - Kiosk Name:  Rio Grande/12th\n",
      "Kiosk dataset - Kiosk ID/Name:  2545 ACC - Rio Grande & 12th  %:  0.74\n",
      "Trip dataset - Kiosk Name:  Rio Grande/12th\n",
      "Kiosk dataset - Kiosk ID/Name:  3793 Rio Grande & 28th  %:  0.81\n",
      "\n",
      "\n",
      "7189.0 : this id is NOT in the kiosk dataset.\n",
      "\n",
      "\n",
      "7253.0 : this id is NOT in the kiosk dataset.\n",
      "Trip dataset - Kiosk Name:  Barton Springs/Riverside\n",
      "Kiosk dataset - Kiosk ID/Name:  2502 Barton Springs & Riverside  %:  0.92\n",
      "\n",
      "\n"
     ]
    }
   ],
   "source": [
    "# Identify kiosk IDs that are in the Trips dataset but NOT the Kiosk dataset\n",
    "for checkout_id in trips['Checkout Kiosk ID'].unique():   \n",
    "    \n",
    "    if checkout_id not in kiosk['Kiosk ID'].unique():\n",
    "        \n",
    "        print(checkout_id, \": this id is NOT in the kiosk dataset.\")\n",
    "        \n",
    "        for name in trips[trips['Checkout Kiosk ID']==checkout_id]['Checkout Kiosk'].unique():\n",
    "            for kiosk_name, kiosk_id in zip(kiosk['Kiosk Name'],kiosk['Kiosk ID']):\n",
    "           \n",
    "                if similar(name, kiosk_name) > 0.70:\n",
    "                    print(\"Trip dataset - Kiosk Name: \", name)\n",
    "                    print(\"Kiosk dataset - Kiosk ID/Name: \", kiosk_id, kiosk_name, \" %: \",round(similar(name, kiosk_name),2))\n",
    "                                   \n",
    "        print('\\n')"
   ]
  },
  {
   "cell_type": "code",
   "execution_count": 54,
   "id": "1796651d",
   "metadata": {},
   "outputs": [],
   "source": [
    "# ID 7188 should be 3792\n",
    "# ID 4938 should be 11\n",
    "# ID 3456 should be 3455\n",
    "# ID 7125 should be 111\n",
    "# ID 7131 should be 1111\n",
    "# ID 7187 should be 0\n",
    "# ID 7190 should be 2545\n",
    "# ID 7253 should be 2502\n",
    "\n",
    "# ID 7186, 7189 is NOT Found"
   ]
  },
  {
   "cell_type": "code",
   "execution_count": 55,
   "id": "6fc0dc46",
   "metadata": {},
   "outputs": [],
   "source": [
    "# MAKE THE UPDATES\n",
    "trips.loc[trips['Checkout Kiosk ID']==7188,'Checkout Kiosk ID'] = 3792\n",
    "trips.loc[trips['Checkout Kiosk ID']==4938,'Checkout Kiosk ID'] = 11\n",
    "trips.loc[trips['Checkout Kiosk ID']==3456,'Checkout Kiosk ID'] = 3455\n",
    "trips.loc[trips['Checkout Kiosk ID']==7125,'Checkout Kiosk ID'] = 111\n",
    "trips.loc[trips['Checkout Kiosk ID']==7131,'Checkout Kiosk ID'] = 1111\n",
    "trips.loc[trips['Checkout Kiosk ID']==7187,'Checkout Kiosk ID'] = 0\n",
    "trips.loc[trips['Checkout Kiosk ID']==7190,'Checkout Kiosk ID'] = 2545\n",
    "trips.loc[trips['Checkout Kiosk ID']==7253,'Checkout Kiosk ID'] = 2502"
   ]
  },
  {
   "cell_type": "code",
   "execution_count": 56,
   "id": "923ea1e1",
   "metadata": {},
   "outputs": [],
   "source": [
    "# MAKE THE UPDATES\n",
    "trips.loc[trips['Return Kiosk ID']==7188,'Return Kiosk ID'] = 3792\n",
    "trips.loc[trips['Return Kiosk ID']==4938,'Return Kiosk ID'] = 11\n",
    "trips.loc[trips['Return Kiosk ID']==3456,'Return Kiosk ID'] = 3455\n",
    "trips.loc[trips['Return Kiosk ID']==7125,'Return Kiosk ID'] = 111\n",
    "trips.loc[trips['Return Kiosk ID']==7131,'Return Kiosk ID'] = 1111\n",
    "trips.loc[trips['Return Kiosk ID']==7187,'Return Kiosk ID'] = 0\n",
    "trips.loc[trips['Return Kiosk ID']==7190,'Return Kiosk ID'] = 2545\n",
    "trips.loc[trips['Return Kiosk ID']==7253,'Return Kiosk ID'] = 2502"
   ]
  },
  {
   "cell_type": "code",
   "execution_count": 57,
   "id": "1a5fb9c8",
   "metadata": {},
   "outputs": [
    {
     "name": "stdout",
     "output_type": "stream",
     "text": [
      "nan : this id is NOT in the kiosk dataset.\n",
      "\n",
      "\n",
      "7186.0 : this id is NOT in the kiosk dataset.\n",
      "\n",
      "\n",
      "7189.0 : this id is NOT in the kiosk dataset.\n",
      "\n",
      "\n"
     ]
    }
   ],
   "source": [
    "# Identify kiosk IDs that are in the Trips dataset but NOT the Kiosk dataset\n",
    "for checkout_id in trips['Checkout Kiosk ID'].unique():   \n",
    "    \n",
    "    if checkout_id not in kiosk['Kiosk ID'].unique():\n",
    "        \n",
    "        print(checkout_id, \": this id is NOT in the kiosk dataset.\")\n",
    "        \n",
    "        for name in trips[trips['Checkout Kiosk ID']==checkout_id]['Checkout Kiosk'].unique():\n",
    "            for kiosk_name, kiosk_id in zip(kiosk['Kiosk Name'],kiosk['Kiosk ID']):\n",
    "           \n",
    "                if similar(name, kiosk_name) > 0.70:\n",
    "                    print(\"Trip dataset - Kiosk Name: \", name)\n",
    "                    print(\"Kiosk dataset - Kiosk ID/Name: \", kiosk_id, kiosk_name, \" %: \",round(similar(name, kiosk_name),2))\n",
    "                                   \n",
    "        print('\\n')"
   ]
  },
  {
   "cell_type": "code",
   "execution_count": 58,
   "id": "c51f2ab1",
   "metadata": {
    "scrolled": false
   },
   "outputs": [
    {
     "name": "stdout",
     "output_type": "stream",
     "text": [
      "nan : this id is NOT in the kiosk dataset.\n",
      "\n",
      "\n",
      "7189.0 : this id is NOT in the kiosk dataset.\n",
      "\n",
      "\n",
      "-1.0 : this id is NOT in the kiosk dataset.\n",
      "\n",
      "\n",
      "7186.0 : this id is NOT in the kiosk dataset.\n",
      "\n",
      "\n"
     ]
    }
   ],
   "source": [
    "# Identify kiosk IDs that are in the Trips dataset but NOT the Kiosk dataset\n",
    "for return_id in trips['Return Kiosk ID'].unique():   \n",
    "    \n",
    "    if return_id not in kiosk['Kiosk ID'].unique():\n",
    "        \n",
    "        print(return_id, \": this id is NOT in the kiosk dataset.\")\n",
    "        \n",
    "        for name in trips[trips['Return Kiosk ID']==return_id]['Return Kiosk'].unique():\n",
    "            for kiosk_name, kiosk_id in zip(kiosk['Kiosk Name'],kiosk['Kiosk ID']):\n",
    "           \n",
    "                if similar(name, kiosk_name) > 0.70:\n",
    "                    print(\"Trip dataset - Kiosk Name: \", name)\n",
    "                    print(\"Kiosk dataset - Kiosk ID/Name: \", kiosk_id, kiosk_name, \" %: \",round(similar(name, kiosk_name),2))\n",
    "                                   \n",
    "        print('\\n')"
   ]
  },
  {
   "cell_type": "markdown",
   "id": "14aca19c",
   "metadata": {},
   "source": [
    "## IV. Identify trips with no Checkout Kiosk IDs (NANs)"
   ]
  },
  {
   "cell_type": "code",
   "execution_count": 63,
   "id": "02647e6d",
   "metadata": {},
   "outputs": [
    {
     "data": {
      "text/plain": [
       "False    1806886\n",
       "True       19057\n",
       "Name: Checkout Kiosk ID, dtype: int64"
      ]
     },
     "execution_count": 63,
     "metadata": {},
     "output_type": "execute_result"
    }
   ],
   "source": [
    "trips['Checkout Kiosk ID'].isnull().value_counts()"
   ]
  },
  {
   "cell_type": "code",
   "execution_count": 64,
   "id": "c92dc26c",
   "metadata": {},
   "outputs": [
    {
     "data": {
      "text/plain": [
       "array(['Zilker Park at Barton Springs & William Barton Drive',\n",
       "       'Convention Center/ 3rd & Trinity',\n",
       "       'East 11th Street at Victory Grill', 'Red River @ LBJ Library',\n",
       "       'ACC - West & 12th', 'Main Office', 'Mobile Station',\n",
       "       'Mobile Station @ Bike Fest', 'Marketing Event',\n",
       "       'MapJam at Hops & Grain Brewery', 'MapJam at Pan Am Park',\n",
       "       'MapJam at French Legation', 'MapJam at Scoot Inn',\n",
       "       'Mobile Station @ Boardwalk Opening Ceremony',\n",
       "       'Mobile Station @ Unplugged', 'Bullock Museum @ Congress & MLK',\n",
       "       'State Capitol @ 14th & Colorado', \"Eeyore's 2017\",\n",
       "       \"Eeyore's 2018\", 'Springfest 2022'], dtype=object)"
      ]
     },
     "execution_count": 64,
     "metadata": {},
     "output_type": "execute_result"
    }
   ],
   "source": [
    "trips.loc[trips['Checkout Kiosk ID'].isnull(),'Checkout Kiosk'].unique()"
   ]
  },
  {
   "cell_type": "markdown",
   "id": "d958e011",
   "metadata": {},
   "source": [
    "These trips were all nan for the \"Checkout Kiosk ID\" columan, in the next few cells I am manually adding IDs "
   ]
  },
  {
   "cell_type": "code",
   "execution_count": null,
   "id": "ea82ff2b",
   "metadata": {},
   "outputs": [],
   "source": [
    "kiosk_names =['Red River @ LBJ Library', \n",
    "             'Bullock Museum @ Congress & MLK', \n",
    "             'Convention Center/ 3rd & Trinity', \n",
    "             'State Capitol @ 14th & Colorado', \n",
    "             'ACC - West & 12th', \n",
    "             'East 11th Street at Victory Grill', \n",
    "             'Zilker Park at Barton Springs & William Barton Drive',  \n",
    "             'Dean Keeton & Speedway',\n",
    "             'Main Office']"
   ]
  },
  {
   "cell_type": "code",
   "execution_count": null,
   "id": "36f46247",
   "metadata": {},
   "outputs": [],
   "source": [
    "new_IDs = [1004,  # ID in kiosk dataset\n",
    "            2538, # ID in kiosk dataset\n",
    "            2539, # ID in kiosk dataset\n",
    "            2541, # ID in kiosk dataset\n",
    "            2546, # ID in kiosk dataset\n",
    "            2568, # matches other trips, but these rows were nan\n",
    "            2574, # alternative name\n",
    "            3794, # ID in kiosk dataset\n",
    "            1001] # ID in kiosk dataset"
   ]
  },
  {
   "cell_type": "code",
   "execution_count": null,
   "id": "6669e982",
   "metadata": {},
   "outputs": [],
   "source": [
    "cnt = 0\n",
    "for checkout_kname in kiosk_names:   \n",
    "    trips.loc[trips['Checkout Kiosk']==checkout_kname,'Checkout Kiosk ID']=new_IDs[cnt]\n",
    "    cnt += 1"
   ]
  },
  {
   "cell_type": "code",
   "execution_count": null,
   "id": "61fa921e",
   "metadata": {},
   "outputs": [],
   "source": [
    "trips['Checkout Kiosk ID'].isnull().value_counts()"
   ]
  },
  {
   "cell_type": "markdown",
   "id": "2cede556",
   "metadata": {},
   "source": [
    "IV. After the above operations I-III. The only trips with \"Checkout Kiosk ID\" = nan should be special events"
   ]
  },
  {
   "cell_type": "code",
   "execution_count": null,
   "id": "cbe76bad",
   "metadata": {},
   "outputs": [],
   "source": [
    "## Just Using this code for Testing\n",
    "#trips[trips['Checkout Kiosk'].str.contains('One Texas Center')]"
   ]
  },
  {
   "cell_type": "markdown",
   "id": "c242d857",
   "metadata": {},
   "source": [
    "Taking a closer look below, to verify this"
   ]
  },
  {
   "cell_type": "code",
   "execution_count": null,
   "id": "363fa203",
   "metadata": {},
   "outputs": [],
   "source": [
    "trips[trips['Checkout Kiosk ID'].isnull()]['Checkout Kiosk'].unique()"
   ]
  },
  {
   "cell_type": "code",
   "execution_count": null,
   "id": "1bbe41de",
   "metadata": {},
   "outputs": [],
   "source": [
    "trips[trips['Checkout Kiosk ID'].isnull()]['Checkout Kiosk'].count()"
   ]
  },
  {
   "cell_type": "code",
   "execution_count": null,
   "id": "938ee057",
   "metadata": {},
   "outputs": [],
   "source": [
    "trips[trips['Checkout Kiosk ID'].isnull()].groupby(['Year_2'])['Checkout Kiosk'].value_counts()"
   ]
  },
  {
   "cell_type": "markdown",
   "id": "93e2a276",
   "metadata": {},
   "source": [
    "# D. Data Cleaning - \"kiosk\" dataset - Adding one new row"
   ]
  },
  {
   "cell_type": "markdown",
   "id": "6915e40c",
   "metadata": {},
   "source": [
    "The \"trips\" dataset included trips from one kiosks that was NOT in the \"kiosk\" dataset, to address this mismatch - we added one new kiosk rows to the \"kiosk\" dataset"
   ]
  },
  {
   "cell_type": "code",
   "execution_count": null,
   "id": "65a2aea0",
   "metadata": {},
   "outputs": [],
   "source": [
    "kiosk.columns"
   ]
  },
  {
   "cell_type": "code",
   "execution_count": null,
   "id": "ba5c3daa",
   "metadata": {},
   "outputs": [],
   "source": [
    "# New dataset includes these kiosks\n",
    "\n",
    "# One Texas Center NOT IN kiosk dataset, \n",
    "  # in the trips dataset, this kiosk is IDed as 7186, \n",
    "\n",
    "# 30.257595316333752, -97.74901281385847 (got from Google based on location on stations map)\n",
    "# https://austin.bcycle.com/stations\n",
    "row1 = {'Kiosk ID': 7186, 'Kiosk Name': 'One Texas Center', 'Kiosk Status': 'Unknown','Location': '(30.257595316333752, -97.74901281385847)','Address': '400 Haywood Ave','Alternate Name': '','City Asset Number': '','Property Type': '','Number of Docks': '','Power Type': '','Footprint Length': '','Footprint Width': '','Notes': '','Council District': '','Image': '','Modified Date': 'Mandy 2022-07-26'}\n",
    "\n",
    "kiosk = kiosk.append(row1, ignore_index = True)"
   ]
  },
  {
   "cell_type": "code",
   "execution_count": null,
   "id": "da7d6c8d",
   "metadata": {},
   "outputs": [],
   "source": [
    "# testing if the row add worked\n",
    "kiosk[kiosk['Kiosk ID']== 7186]"
   ]
  },
  {
   "cell_type": "markdown",
   "id": "d0afeacd",
   "metadata": {},
   "source": [
    "# Checking stuff out.."
   ]
  },
  {
   "cell_type": "markdown",
   "id": "ad7ae888",
   "metadata": {},
   "source": [
    "Important: Doing some checks here... on the number of kiosks each year. The next two cells need to match. "
   ]
  },
  {
   "cell_type": "code",
   "execution_count": null,
   "id": "57c7daf2",
   "metadata": {},
   "outputs": [],
   "source": [
    "# Digging into the discrepancies \n",
    "# temp2 = list(kiosk['Kiosk ID'])\n",
    "# temp1 = list(trips_2020['Checkout Kiosk ID'].unique())\n",
    "# s = set(temp2)\n",
    "# temp3 = [x for x in temp1 if x not in s]\n",
    "# temp3"
   ]
  },
  {
   "cell_type": "markdown",
   "id": "6648cbce",
   "metadata": {},
   "source": [
    "# A few more adjustments"
   ]
  },
  {
   "cell_type": "code",
   "execution_count": null,
   "id": "cce47ad8",
   "metadata": {},
   "outputs": [],
   "source": [
    "# Adjustment # 1 - Group the Memberships into Types\n",
    "# -----------------\n",
    "# rename column because I will be creating a new column with this name\n",
    "trips.rename(columns = {'Membership Type':'Membership Name'}, inplace = True)"
   ]
  },
  {
   "cell_type": "code",
   "execution_count": null,
   "id": "5dab9059",
   "metadata": {},
   "outputs": [],
   "source": [
    "# Below, I will create Membership Type groups\n",
    "\n",
    "student_memberships = ['Student Membership','U.T. Student Membership',\n",
    "                      'UT Student Membership',\n",
    "                      'Semester Membership (Austin B-cycle)','Semester Membership']\n",
    "annual_memberships = ['Local365', 'Annual', 'Annual Membership', \n",
    "                      'Annual Membership (Austin B-cycle)','Annual Member',\n",
    "                     'Annual Plus','Local365 Youth with helmet (age 13-17 riders)',\n",
    "                     'Annual Pass','Membership: pay once  one-year commitment',\n",
    "                     'Local365 ($80 plus tax)','Local365 Youth (age 13-17 riders)',\n",
    "                     'Annual Plus Membership','Local365- 1/2 off Anniversary Special',\n",
    "                     'Local365+Guest Pass- 1/2 off Anniversary Special',\n",
    "                     'Local365 Youth (age 13-17 riders)- 1/2 off Special',\n",
    "                     'Annual Pass (30 minute)']\n",
    "annual_other_memberships = ['Annual (San Antonio B-cycle)', \n",
    "                            'Annual (Denver Bike Sharing)',\n",
    "                            'Annual Membership (Fort Worth Bike Sharing)',\n",
    "                           'Annual (Denver B-cycle)', 'Annual Member (Houston B-cycle)',\n",
    "                           'Annual (Cincy Red Bike)', 'Annual (Madison B-cycle)',\n",
    "                           'Annual Membership (GREENbike)', 'Annual (Boulder B-cycle)',\n",
    "                           'Annual (Broward B-cycle)',\n",
    "                           'Annual (San Antonio B-cycle)', 'Annual (Denver Bike Sharing)',\n",
    "                           'Annual Membership (Fort Worth Bike Sharing)',\n",
    "                           'Annual (Nashville B-cycle)',\n",
    "                           'Annual (Kansas City B-cycle)', 'Annual (Omaha B-cycle)',\n",
    "                           'Annual Membership (Charlotte B-cycle)',\n",
    "                           'Annual Membership (Indy - Pacers Bikeshare )',\n",
    "                           'Republic Rider (Annual)','Heartland Pass (Annual Pay)']\n",
    "founder_memberships = ['Founding Member (Austin B-cycle)', 'Founding Member',\n",
    "                      'Denver B-cycle Founder']\n",
    "monthly_memberships = ['Local31','Local30','Local30 ($11 plus tax)']\n",
    "weekly_memberships = ['7-Day Membership (Austin B-cycle)','7-Day']\n",
    "weekend_memberships = ['3-Day Weekender','Weekender','FunFunFun Fest 3 Day Pass',\n",
    "                      'Weekender ($15 plus tax)','ACL Weekend Pass Special (Austin B-cycle)',\n",
    "                      '3-Day Explorer','ACL 2019 Pass']\n",
    "day_memberships = ['Explorer', '24 Hour Walk Up Pass', \n",
    "                   '24-Hour Kiosk (Austin B-cycle)', '24-Hour-Online (Austin B-cycle)']\n",
    "single_ride_memberships = ['Pay-as-you-ride', 'Single Trip Ride', \n",
    "                           'Single Trip (Pay-as-you-ride)', 'Walk Up','RideScout Single Ride',\n",
    "                          'Single Trip','$1 Pay by Trip Winter Special',\n",
    "                          '$1 Pay by Trip Fall Special','Local365+Guest Pass',\n",
    "                          'Try Before You Buy Special','Explorer ($8 plus tax)']"
   ]
  },
  {
   "cell_type": "code",
   "execution_count": null,
   "id": "621d57cf",
   "metadata": {},
   "outputs": [],
   "source": [
    "# Creating a new \"Membership Type\" column\n",
    "new_col = []\n",
    "for membership in trips['Membership Name']:\n",
    "    if membership in student_memberships:\n",
    "        new_col.append('Student')\n",
    "    elif membership in annual_memberships:\n",
    "        new_col.append('Annual')\n",
    "    elif membership in annual_other_memberships:\n",
    "        new_col.append('Other')\n",
    "    elif membership in founder_memberships:\n",
    "        new_col.append('Other')       \n",
    "    elif membership in monthly_memberships:\n",
    "        new_col.append('Monthly')\n",
    "    elif membership in weekly_memberships:\n",
    "        new_col.append('Other')\n",
    "    elif membership in weekend_memberships:\n",
    "        new_col.append('Weekend')\n",
    "    elif membership in day_memberships:\n",
    "        new_col.append('Day')\n",
    "    elif membership in single_ride_memberships:\n",
    "        new_col.append('Single Ride')\n",
    "    else:\n",
    "        new_col.append('Other')\n",
    "trips['Membership Type'] = new_col"
   ]
  },
  {
   "cell_type": "code",
   "execution_count": null,
   "id": "e8cefa08",
   "metadata": {},
   "outputs": [],
   "source": [
    "trips.loc[trips['Membership Type']=='Other']['Membership Name'].unique()"
   ]
  },
  {
   "cell_type": "code",
   "execution_count": null,
   "id": "41082d04",
   "metadata": {},
   "outputs": [],
   "source": [
    "# Adjustment # 2 - Adding Neighborhood to the kiosk dataframe\n",
    "# -----------------\n",
    "my_list = ['Missing'] * 103\n",
    "kiosk['Neighborhood'] = my_list\n",
    "\n",
    "kiosk.loc[kiosk['Kiosk ID'].isin([2572,2574,4058,1006]),'Neighborhood']=\"BARTON HILLS\"\n",
    "kiosk.loc[kiosk['Kiosk ID'].isin([2504,2549,2567,2503,2502,7186]),'Neighborhood']=\"BOULDIN CREEK\"\n",
    "kiosk.loc[kiosk['Kiosk ID'].isin([2568,2569,4052,4054,4055]),'Neighborhood']=\"CENTRAL EAST AUSTIN\"\n",
    "kiosk.loc[kiosk['Kiosk ID'].isin([2571,2707,3291,3294,3390,1111,2537,2539,2540,2561,2562,2565,2566,2563,2494,2495,2496,2497,2499,2501,2552,3455,3621,4879,2498,3619,3635,3684,3685,4047,4051,2500,2538,2541,2545,2546,2550,2576,1001,4060,1003,1005,1007,1008]),'Neighborhood']=\"DOWNTOWN\"\n",
    "kiosk.loc[kiosk['Kiosk ID'].isin([3292,2542,3660,2536,2564,4057,4059,1002]),'Neighborhood']=\"EAST CESAR CHAVEZ\"\n",
    "kiosk.loc[kiosk['Kiosk ID'].isin([2823,4699]),'Neighborhood']=\"GOVALLE\"\n",
    "kiosk.loc[kiosk['Kiosk ID'].isin([2822,3293,2544,3381]),'Neighborhood']=\"HOLLY\"\n",
    "kiosk.loc[kiosk['Kiosk ID'].isin([3464]),'Neighborhood']=\"OLD ENFIELD\"\n",
    "kiosk.loc[kiosk['Kiosk ID'].isin([3377,4050]),'Neighborhood']=\"OLD WEST AUSTIN\"\n",
    "kiosk.loc[kiosk['Kiosk ID'].isin([4061,4062]),'Neighborhood']=\"RIVERSIDE\"\n",
    "kiosk.loc[kiosk['Kiosk ID'].isin([2570,3513,3687,4048,0]),'Neighborhood']=\"SOUTH RIVER CITY\"\n",
    "kiosk.loc[kiosk['Kiosk ID'].isin([3794,3795,3798,3799,1004]),'Neighborhood']=\"UT AUSTIN\"\n",
    "kiosk.loc[kiosk['Kiosk ID'].isin([3790,3791]),'Neighborhood']=\"WEST AUSTIN NG\"\n",
    "kiosk.loc[kiosk['Kiosk ID'].isin([2547,2548,111,11,3792,3793,3797,3838,3841]),'Neighborhood']=\"WEST UNIVERSITY\"\n",
    "kiosk.loc[kiosk['Kiosk ID'].isin([2575,2711,3686,2712]),'Neighborhood']=\"ZILKER\""
   ]
  },
  {
   "cell_type": "code",
   "execution_count": null,
   "id": "f03df7b3",
   "metadata": {},
   "outputs": [],
   "source": [
    "# Adjustment # 3 - Adding Lat & Lon to the trips dataframe\n",
    "# -----------------\n",
    "# remove parenthesises \n",
    "test = kiosk['Location'].str.replace(\")\",\"\")\n",
    "test2 = test.str.replace(\"(\",\"\")\n",
    "\n",
    "# split the Location column into two columns\n",
    "df = test2\n",
    "df_split0 = df.str.split(',', n=- 1, expand=True)\n",
    "df_split = df_split0.drop(df_split0.columns[[1]], axis=1)\n",
    "kiosk['Lat'] = df_split0[0]\n",
    "kiosk['Lon'] = df_split0[1]"
   ]
  },
  {
   "cell_type": "code",
   "execution_count": null,
   "id": "5113ff6b",
   "metadata": {},
   "outputs": [],
   "source": [
    "loc_data = kiosk[[\"Kiosk ID\",\"Lat\",\"Lon\",\"Council District\",\"Neighborhood\"]]\n",
    "loc_data['Kiosk ID'] = loc_data['Kiosk ID'].astype(np.float64)\n",
    "\n",
    "loc_data = loc_data.rename(columns={'Kiosk ID': 'Checkout Kiosk ID'})\n",
    "\n",
    "loc_data.head()"
   ]
  },
  {
   "cell_type": "code",
   "execution_count": null,
   "id": "25a28d08",
   "metadata": {},
   "outputs": [],
   "source": [
    "# merge the lat and lon columns into the trips dataframe\n",
    "trips_final = pd.merge(trips, loc_data, how=\"left\", on=\"Checkout Kiosk ID\")"
   ]
  },
  {
   "cell_type": "code",
   "execution_count": null,
   "id": "3393b6a7",
   "metadata": {},
   "outputs": [],
   "source": [
    "trips_final.head()"
   ]
  },
  {
   "cell_type": "code",
   "execution_count": null,
   "id": "ed0824a8",
   "metadata": {
    "scrolled": false
   },
   "outputs": [],
   "source": [
    "# using the most recent Checkout Kiosk (NAME) for each Checkout Kiosk ID\n",
    "for x in trips_final[\"Checkout Kiosk ID\"].unique():\n",
    "    #print(type(x),x)\n",
    "    if ~np.isnan(x): # want to skip the ID = nan\n",
    "        test = trips_final.loc[trips_final[\"Checkout Kiosk ID\"]== x].sort_values(['Checkout Date'])\n",
    "        last_name = test.iloc[-1]['Checkout Kiosk']\n",
    "    \n",
    "        print(x, test[\"Checkout Kiosk\"].unique(),last_name)\n",
    "        trips_final.loc[trips_final[\"Checkout Kiosk ID\"]== x,\"Checkout Kiosk\"]= last_name\n",
    "        \n",
    "        trips_final.loc[trips_final[\"Checkout Kiosk ID\"]== x,\"Checkout Kiosk Info\"]= str(int(x)) + \": \" + last_name"
   ]
  },
  {
   "cell_type": "code",
   "execution_count": null,
   "id": "080de3f3",
   "metadata": {},
   "outputs": [],
   "source": [
    "trips_final[\"Checkout Kiosk ID\"].nunique()"
   ]
  },
  {
   "cell_type": "code",
   "execution_count": null,
   "id": "ee4eb457",
   "metadata": {},
   "outputs": [],
   "source": [
    "trips_final.loc[~np.isnan(trips_final[\"Checkout Kiosk ID\"]),'Checkout Kiosk'].nunique()"
   ]
  },
  {
   "cell_type": "markdown",
   "id": "f0a93f3d",
   "metadata": {},
   "source": [
    "# Save cleaned data into CSV files"
   ]
  },
  {
   "cell_type": "code",
   "execution_count": null,
   "id": "a4e61901",
   "metadata": {},
   "outputs": [],
   "source": [
    "trips_final.to_csv('../Data/trips.csv')\n",
    "kiosk.to_csv('../Data/kiosk.csv')"
   ]
  },
  {
   "cell_type": "code",
   "execution_count": null,
   "id": "b25397ce",
   "metadata": {},
   "outputs": [],
   "source": [
    "trips_final.head()"
   ]
  },
  {
   "cell_type": "code",
   "execution_count": null,
   "id": "748ad9df",
   "metadata": {},
   "outputs": [],
   "source": []
  }
 ],
 "metadata": {
  "kernelspec": {
   "display_name": "Python 3",
   "language": "python",
   "name": "python3"
  },
  "language_info": {
   "codemirror_mode": {
    "name": "ipython",
    "version": 3
   },
   "file_extension": ".py",
   "mimetype": "text/x-python",
   "name": "python",
   "nbconvert_exporter": "python",
   "pygments_lexer": "ipython3",
   "version": "3.8.8"
  }
 },
 "nbformat": 4,
 "nbformat_minor": 5
}
