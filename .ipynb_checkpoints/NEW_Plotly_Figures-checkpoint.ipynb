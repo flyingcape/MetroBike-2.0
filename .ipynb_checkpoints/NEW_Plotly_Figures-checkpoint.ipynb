{
 "cells": [
  {
   "cell_type": "code",
   "execution_count": 1,
   "id": "648b776e",
   "metadata": {},
   "outputs": [],
   "source": [
    "import pandas as pd\n",
    "import numpy as np\n",
    "from matplotlib import pyplot as plt\n",
    "plt.style.use('ggplot')\n",
    "plt.rcParams.update({'font.size': 20})"
   ]
  },
  {
   "cell_type": "code",
   "execution_count": 2,
   "id": "4881317e",
   "metadata": {},
   "outputs": [],
   "source": [
    "pd.set_option('display.max_rows', 500)\n",
    "pd.set_option('display.max_columns', 500)"
   ]
  },
  {
   "cell_type": "markdown",
   "id": "ef0c8a2b",
   "metadata": {},
   "source": [
    "# Load Cleaned Data"
   ]
  },
  {
   "cell_type": "code",
   "execution_count": 4,
   "id": "58b680ce",
   "metadata": {},
   "outputs": [
    {
     "name": "stderr",
     "output_type": "stream",
     "text": [
      "/Users/flyingcape/opt/anaconda3/lib/python3.8/site-packages/IPython/core/interactiveshell.py:3165: DtypeWarning: Columns (3) have mixed types.Specify dtype option on import or set low_memory=False.\n",
      "  has_raised = await self.run_ast_nodes(code_ast.body, cell_name,\n"
     ]
    },
    {
     "data": {
      "text/html": [
       "<div>\n",
       "<style scoped>\n",
       "    .dataframe tbody tr th:only-of-type {\n",
       "        vertical-align: middle;\n",
       "    }\n",
       "\n",
       "    .dataframe tbody tr th {\n",
       "        vertical-align: top;\n",
       "    }\n",
       "\n",
       "    .dataframe thead th {\n",
       "        text-align: right;\n",
       "    }\n",
       "</style>\n",
       "<table border=\"1\" class=\"dataframe\">\n",
       "  <thead>\n",
       "    <tr style=\"text-align: right;\">\n",
       "      <th></th>\n",
       "      <th>Unnamed: 0</th>\n",
       "      <th>Trip ID</th>\n",
       "      <th>Membership Name</th>\n",
       "      <th>Bicycle ID</th>\n",
       "      <th>Bike Type</th>\n",
       "      <th>Checkout Date</th>\n",
       "      <th>Checkout Time</th>\n",
       "      <th>Checkout Kiosk ID</th>\n",
       "      <th>Checkout Kiosk</th>\n",
       "      <th>Return Kiosk ID</th>\n",
       "      <th>Return Kiosk</th>\n",
       "      <th>Trip Duration Minutes</th>\n",
       "      <th>Month_orig</th>\n",
       "      <th>Year_orig</th>\n",
       "      <th>Checkout DateTime</th>\n",
       "      <th>Return DateTime</th>\n",
       "      <th>Year</th>\n",
       "      <th>Month</th>\n",
       "      <th>Weekday</th>\n",
       "      <th>Checkout_Hour</th>\n",
       "      <th>Checkout_Min</th>\n",
       "      <th>Membership Type</th>\n",
       "      <th>Lat Checkout</th>\n",
       "      <th>Lon Checkout</th>\n",
       "      <th>Council District Checkout</th>\n",
       "      <th>Neighborhood Checkout</th>\n",
       "      <th>Lat Return</th>\n",
       "      <th>Lon Return</th>\n",
       "      <th>Council District Return</th>\n",
       "      <th>Neighborhood Return</th>\n",
       "    </tr>\n",
       "  </thead>\n",
       "  <tbody>\n",
       "    <tr>\n",
       "      <th>0</th>\n",
       "      <td>0</td>\n",
       "      <td>9900285854</td>\n",
       "      <td>Annual (San Antonio B-cycle)</td>\n",
       "      <td>207.0</td>\n",
       "      <td>NaN</td>\n",
       "      <td>10/26/2014</td>\n",
       "      <td>13:12:00</td>\n",
       "      <td>2537.0</td>\n",
       "      <td>6th/West</td>\n",
       "      <td>2707.0</td>\n",
       "      <td>Rainey/Cummings</td>\n",
       "      <td>76</td>\n",
       "      <td>10.0</td>\n",
       "      <td>2014.0</td>\n",
       "      <td>2014-10-26 13:12:00</td>\n",
       "      <td>2014-10-26 14:28:00</td>\n",
       "      <td>2014</td>\n",
       "      <td>10</td>\n",
       "      <td>6</td>\n",
       "      <td>13</td>\n",
       "      <td>12</td>\n",
       "      <td>Other</td>\n",
       "      <td>30.27041</td>\n",
       "      <td>-97.75046</td>\n",
       "      <td>9.0</td>\n",
       "      <td>DOWNTOWN</td>\n",
       "      <td>30.255906</td>\n",
       "      <td>-97.739949</td>\n",
       "      <td>9.0</td>\n",
       "      <td>DOWNTOWN</td>\n",
       "    </tr>\n",
       "    <tr>\n",
       "      <th>1</th>\n",
       "      <td>1</td>\n",
       "      <td>9900285855</td>\n",
       "      <td>24-Hour Kiosk (Austin B-cycle)</td>\n",
       "      <td>969.0</td>\n",
       "      <td>NaN</td>\n",
       "      <td>10/26/2014</td>\n",
       "      <td>13:12:00</td>\n",
       "      <td>2539.0</td>\n",
       "      <td>3rd/Trinity @ The Convention Center</td>\n",
       "      <td>2566.0</td>\n",
       "      <td>Electric Drive/Sandra Muraida Way @ Pfluger Pe...</td>\n",
       "      <td>58</td>\n",
       "      <td>10.0</td>\n",
       "      <td>2014.0</td>\n",
       "      <td>2014-10-26 13:12:00</td>\n",
       "      <td>2014-10-26 14:10:00</td>\n",
       "      <td>2014</td>\n",
       "      <td>10</td>\n",
       "      <td>6</td>\n",
       "      <td>13</td>\n",
       "      <td>12</td>\n",
       "      <td>Day</td>\n",
       "      <td>30.26426</td>\n",
       "      <td>-97.74023</td>\n",
       "      <td>9.0</td>\n",
       "      <td>DOWNTOWN</td>\n",
       "      <td>30.267170</td>\n",
       "      <td>-97.754840</td>\n",
       "      <td>9.0</td>\n",
       "      <td>DOWNTOWN</td>\n",
       "    </tr>\n",
       "    <tr>\n",
       "      <th>2</th>\n",
       "      <td>2</td>\n",
       "      <td>9900285856</td>\n",
       "      <td>Annual Membership (Austin B-cycle)</td>\n",
       "      <td>214.0</td>\n",
       "      <td>NaN</td>\n",
       "      <td>10/26/2014</td>\n",
       "      <td>13:12:00</td>\n",
       "      <td>2537.0</td>\n",
       "      <td>6th/West</td>\n",
       "      <td>2496.0</td>\n",
       "      <td>8th/Congress</td>\n",
       "      <td>8</td>\n",
       "      <td>10.0</td>\n",
       "      <td>2014.0</td>\n",
       "      <td>2014-10-26 13:12:00</td>\n",
       "      <td>2014-10-26 13:20:00</td>\n",
       "      <td>2014</td>\n",
       "      <td>10</td>\n",
       "      <td>6</td>\n",
       "      <td>13</td>\n",
       "      <td>12</td>\n",
       "      <td>Annual</td>\n",
       "      <td>30.27041</td>\n",
       "      <td>-97.75046</td>\n",
       "      <td>9.0</td>\n",
       "      <td>DOWNTOWN</td>\n",
       "      <td>30.269800</td>\n",
       "      <td>-97.741860</td>\n",
       "      <td>9.0</td>\n",
       "      <td>DOWNTOWN</td>\n",
       "    </tr>\n",
       "    <tr>\n",
       "      <th>3</th>\n",
       "      <td>3</td>\n",
       "      <td>9900285857</td>\n",
       "      <td>24-Hour Kiosk (Austin B-cycle)</td>\n",
       "      <td>745.0</td>\n",
       "      <td>NaN</td>\n",
       "      <td>10/26/2014</td>\n",
       "      <td>13:12:00</td>\n",
       "      <td>2574.0</td>\n",
       "      <td>Zilker Park</td>\n",
       "      <td>2574.0</td>\n",
       "      <td>Zilker Park</td>\n",
       "      <td>28</td>\n",
       "      <td>10.0</td>\n",
       "      <td>2014.0</td>\n",
       "      <td>2014-10-26 13:12:00</td>\n",
       "      <td>2014-10-26 13:40:00</td>\n",
       "      <td>2014</td>\n",
       "      <td>10</td>\n",
       "      <td>6</td>\n",
       "      <td>13</td>\n",
       "      <td>12</td>\n",
       "      <td>Day</td>\n",
       "      <td>30.26590</td>\n",
       "      <td>-97.76822</td>\n",
       "      <td>8.0</td>\n",
       "      <td>BARTON HILLS</td>\n",
       "      <td>30.265900</td>\n",
       "      <td>-97.768220</td>\n",
       "      <td>8.0</td>\n",
       "      <td>BARTON HILLS</td>\n",
       "    </tr>\n",
       "    <tr>\n",
       "      <th>4</th>\n",
       "      <td>4</td>\n",
       "      <td>9900285858</td>\n",
       "      <td>24-Hour Kiosk (Austin B-cycle)</td>\n",
       "      <td>164.0</td>\n",
       "      <td>NaN</td>\n",
       "      <td>10/26/2014</td>\n",
       "      <td>13:12:00</td>\n",
       "      <td>2538.0</td>\n",
       "      <td>Bullock Museum @ Congress &amp; MLK</td>\n",
       "      <td>2539.0</td>\n",
       "      <td>3rd/Trinity @ The Convention Center</td>\n",
       "      <td>15</td>\n",
       "      <td>10.0</td>\n",
       "      <td>2014.0</td>\n",
       "      <td>2014-10-26 13:12:00</td>\n",
       "      <td>2014-10-26 13:27:00</td>\n",
       "      <td>2014</td>\n",
       "      <td>10</td>\n",
       "      <td>6</td>\n",
       "      <td>13</td>\n",
       "      <td>12</td>\n",
       "      <td>Day</td>\n",
       "      <td>30.28039</td>\n",
       "      <td>-97.73809</td>\n",
       "      <td>1.0</td>\n",
       "      <td>DOWNTOWN</td>\n",
       "      <td>30.264260</td>\n",
       "      <td>-97.740230</td>\n",
       "      <td>9.0</td>\n",
       "      <td>DOWNTOWN</td>\n",
       "    </tr>\n",
       "  </tbody>\n",
       "</table>\n",
       "</div>"
      ],
      "text/plain": [
       "   Unnamed: 0     Trip ID                     Membership Name Bicycle ID  \\\n",
       "0           0  9900285854        Annual (San Antonio B-cycle)      207.0   \n",
       "1           1  9900285855      24-Hour Kiosk (Austin B-cycle)      969.0   \n",
       "2           2  9900285856  Annual Membership (Austin B-cycle)      214.0   \n",
       "3           3  9900285857      24-Hour Kiosk (Austin B-cycle)      745.0   \n",
       "4           4  9900285858      24-Hour Kiosk (Austin B-cycle)      164.0   \n",
       "\n",
       "   Bike Type Checkout Date Checkout Time  Checkout Kiosk ID  \\\n",
       "0        NaN    10/26/2014      13:12:00             2537.0   \n",
       "1        NaN    10/26/2014      13:12:00             2539.0   \n",
       "2        NaN    10/26/2014      13:12:00             2537.0   \n",
       "3        NaN    10/26/2014      13:12:00             2574.0   \n",
       "4        NaN    10/26/2014      13:12:00             2538.0   \n",
       "\n",
       "                        Checkout Kiosk  Return Kiosk ID  \\\n",
       "0                             6th/West           2707.0   \n",
       "1  3rd/Trinity @ The Convention Center           2566.0   \n",
       "2                             6th/West           2496.0   \n",
       "3                          Zilker Park           2574.0   \n",
       "4      Bullock Museum @ Congress & MLK           2539.0   \n",
       "\n",
       "                                        Return Kiosk  Trip Duration Minutes  \\\n",
       "0                                    Rainey/Cummings                     76   \n",
       "1  Electric Drive/Sandra Muraida Way @ Pfluger Pe...                     58   \n",
       "2                                       8th/Congress                      8   \n",
       "3                                        Zilker Park                     28   \n",
       "4                3rd/Trinity @ The Convention Center                     15   \n",
       "\n",
       "   Month_orig  Year_orig    Checkout DateTime      Return DateTime  Year  \\\n",
       "0        10.0     2014.0  2014-10-26 13:12:00  2014-10-26 14:28:00  2014   \n",
       "1        10.0     2014.0  2014-10-26 13:12:00  2014-10-26 14:10:00  2014   \n",
       "2        10.0     2014.0  2014-10-26 13:12:00  2014-10-26 13:20:00  2014   \n",
       "3        10.0     2014.0  2014-10-26 13:12:00  2014-10-26 13:40:00  2014   \n",
       "4        10.0     2014.0  2014-10-26 13:12:00  2014-10-26 13:27:00  2014   \n",
       "\n",
       "   Month  Weekday  Checkout_Hour  Checkout_Min Membership Type  Lat Checkout  \\\n",
       "0     10        6             13            12           Other      30.27041   \n",
       "1     10        6             13            12             Day      30.26426   \n",
       "2     10        6             13            12          Annual      30.27041   \n",
       "3     10        6             13            12             Day      30.26590   \n",
       "4     10        6             13            12             Day      30.28039   \n",
       "\n",
       "   Lon Checkout  Council District Checkout Neighborhood Checkout  Lat Return  \\\n",
       "0     -97.75046                        9.0              DOWNTOWN   30.255906   \n",
       "1     -97.74023                        9.0              DOWNTOWN   30.267170   \n",
       "2     -97.75046                        9.0              DOWNTOWN   30.269800   \n",
       "3     -97.76822                        8.0          BARTON HILLS   30.265900   \n",
       "4     -97.73809                        1.0              DOWNTOWN   30.264260   \n",
       "\n",
       "   Lon Return  Council District Return Neighborhood Return  \n",
       "0  -97.739949                      9.0            DOWNTOWN  \n",
       "1  -97.754840                      9.0            DOWNTOWN  \n",
       "2  -97.741860                      9.0            DOWNTOWN  \n",
       "3  -97.768220                      8.0        BARTON HILLS  \n",
       "4  -97.740230                      9.0            DOWNTOWN  "
      ]
     },
     "execution_count": 4,
     "metadata": {},
     "output_type": "execute_result"
    }
   ],
   "source": [
    "trips = pd.read_csv('../Data/trips.csv') \n",
    "trips.head()"
   ]
  },
  {
   "cell_type": "code",
   "execution_count": null,
   "id": "a018dbb6",
   "metadata": {},
   "outputs": [],
   "source": [
    "kiosk = pd.read_csv('../Data/kiosk.csv') \n",
    "kiosk.head()"
   ]
  },
  {
   "cell_type": "code",
   "execution_count": 7,
   "id": "26683d6f",
   "metadata": {},
   "outputs": [],
   "source": [
    "trips_2015 = trips.loc[trips['Year'].isin([2015])]\n",
    "trips_2016 = trips.loc[trips['Year'].isin([2016])]\n",
    "trips_2017 = trips.loc[trips['Year'].isin([2017])]\n",
    "trips_2018 = trips.loc[trips['Year'].isin([2018])]\n",
    "trips_2019 = trips.loc[trips['Year'].isin([2019])]\n",
    "trips_2020 = trips.loc[trips['Year'].isin([2020])]\n",
    "trips_2021 = trips.loc[trips['Year'].isin([2021])]\n",
    "trips_2022 = trips.loc[trips['Year'].isin([2022])]"
   ]
  },
  {
   "cell_type": "markdown",
   "id": "f4c06fd8",
   "metadata": {},
   "source": [
    "# Visualizations"
   ]
  },
  {
   "cell_type": "code",
   "execution_count": 8,
   "id": "c1c8418f",
   "metadata": {},
   "outputs": [],
   "source": [
    "import plotly.express as px\n",
    "import plotly.graph_objects as go"
   ]
  },
  {
   "cell_type": "code",
   "execution_count": 9,
   "id": "a1f2e02f",
   "metadata": {},
   "outputs": [],
   "source": [
    "color_2019 = '#fcc201'\n",
    "color_2020 = '#ff5964'\n",
    "color_2021 = '#38618c'"
   ]
  },
  {
   "cell_type": "markdown",
   "id": "408a09e7",
   "metadata": {},
   "source": [
    "# Figure 1"
   ]
  },
  {
   "cell_type": "code",
   "execution_count": 12,
   "id": "35d6907d",
   "metadata": {},
   "outputs": [
    {
     "data": {
      "application/vnd.plotly.v1+json": {
       "config": {
        "plotlyServerURL": "https://plotly.com"
       },
       "data": [
        {
         "alignmentgroup": "True",
         "hovertemplate": "Year=%{x}<br>Total Trips=%{y}<extra></extra>",
         "legendgroup": "",
         "marker": {
          "color": "black",
          "pattern": {
           "shape": ""
          }
         },
         "name": "",
         "offsetgroup": "",
         "orientation": "v",
         "showlegend": false,
         "textposition": "auto",
         "type": "bar",
         "x": [
          2013,
          2014,
          2015,
          2016,
          2017,
          2018,
          2022
         ],
         "xaxis": "x",
         "y": [
          1883,
          176795,
          198828,
          205747,
          205233,
          394775,
          311812
         ],
         "yaxis": "y"
        },
        {
         "alignmentgroup": "True",
         "hovertemplate": "Year=%{x}<br>Total Trips=%{y}<extra></extra>",
         "legendgroup": "",
         "marker": {
          "color": "#fcc201",
          "pattern": {
           "shape": ""
          }
         },
         "name": "",
         "offsetgroup": "",
         "orientation": "v",
         "showlegend": false,
         "textposition": "auto",
         "type": "bar",
         "x": [
          2019
         ],
         "xaxis": "x",
         "y": [
          115146
         ],
         "yaxis": "y"
        },
        {
         "alignmentgroup": "True",
         "hovertemplate": "Year=%{x}<br>Total Trips=%{y}<extra></extra>",
         "legendgroup": "",
         "marker": {
          "color": "#ff5964",
          "pattern": {
           "shape": ""
          }
         },
         "name": "",
         "offsetgroup": "",
         "orientation": "v",
         "showlegend": false,
         "textposition": "auto",
         "type": "bar",
         "x": [
          2020
         ],
         "xaxis": "x",
         "y": [
          109113
         ],
         "yaxis": "y"
        },
        {
         "alignmentgroup": "True",
         "hovertemplate": "Year=%{x}<br>Total Trips=%{y}<extra></extra>",
         "legendgroup": "",
         "marker": {
          "color": "#38618c",
          "pattern": {
           "shape": ""
          }
         },
         "name": "",
         "offsetgroup": "",
         "orientation": "v",
         "showlegend": false,
         "textposition": "auto",
         "type": "bar",
         "x": [
          2021
         ],
         "xaxis": "x",
         "y": [
          234091
         ],
         "yaxis": "y"
        }
       ],
       "layout": {
        "barmode": "relative",
        "font": {
         "color": "Black",
         "family": "Arial",
         "size": 16
        },
        "legend": {
         "tracegroupgap": 0
        },
        "margin": {
         "t": 60
        },
        "showlegend": false,
        "template": {
         "data": {
          "bar": [
           {
            "error_x": {
             "color": "#2a3f5f"
            },
            "error_y": {
             "color": "#2a3f5f"
            },
            "marker": {
             "line": {
              "color": "#E5ECF6",
              "width": 0.5
             },
             "pattern": {
              "fillmode": "overlay",
              "size": 10,
              "solidity": 0.2
             }
            },
            "type": "bar"
           }
          ],
          "barpolar": [
           {
            "marker": {
             "line": {
              "color": "#E5ECF6",
              "width": 0.5
             },
             "pattern": {
              "fillmode": "overlay",
              "size": 10,
              "solidity": 0.2
             }
            },
            "type": "barpolar"
           }
          ],
          "carpet": [
           {
            "aaxis": {
             "endlinecolor": "#2a3f5f",
             "gridcolor": "white",
             "linecolor": "white",
             "minorgridcolor": "white",
             "startlinecolor": "#2a3f5f"
            },
            "baxis": {
             "endlinecolor": "#2a3f5f",
             "gridcolor": "white",
             "linecolor": "white",
             "minorgridcolor": "white",
             "startlinecolor": "#2a3f5f"
            },
            "type": "carpet"
           }
          ],
          "choropleth": [
           {
            "colorbar": {
             "outlinewidth": 0,
             "ticks": ""
            },
            "type": "choropleth"
           }
          ],
          "contour": [
           {
            "colorbar": {
             "outlinewidth": 0,
             "ticks": ""
            },
            "colorscale": [
             [
              0,
              "#0d0887"
             ],
             [
              0.1111111111111111,
              "#46039f"
             ],
             [
              0.2222222222222222,
              "#7201a8"
             ],
             [
              0.3333333333333333,
              "#9c179e"
             ],
             [
              0.4444444444444444,
              "#bd3786"
             ],
             [
              0.5555555555555556,
              "#d8576b"
             ],
             [
              0.6666666666666666,
              "#ed7953"
             ],
             [
              0.7777777777777778,
              "#fb9f3a"
             ],
             [
              0.8888888888888888,
              "#fdca26"
             ],
             [
              1,
              "#f0f921"
             ]
            ],
            "type": "contour"
           }
          ],
          "contourcarpet": [
           {
            "colorbar": {
             "outlinewidth": 0,
             "ticks": ""
            },
            "type": "contourcarpet"
           }
          ],
          "heatmap": [
           {
            "colorbar": {
             "outlinewidth": 0,
             "ticks": ""
            },
            "colorscale": [
             [
              0,
              "#0d0887"
             ],
             [
              0.1111111111111111,
              "#46039f"
             ],
             [
              0.2222222222222222,
              "#7201a8"
             ],
             [
              0.3333333333333333,
              "#9c179e"
             ],
             [
              0.4444444444444444,
              "#bd3786"
             ],
             [
              0.5555555555555556,
              "#d8576b"
             ],
             [
              0.6666666666666666,
              "#ed7953"
             ],
             [
              0.7777777777777778,
              "#fb9f3a"
             ],
             [
              0.8888888888888888,
              "#fdca26"
             ],
             [
              1,
              "#f0f921"
             ]
            ],
            "type": "heatmap"
           }
          ],
          "heatmapgl": [
           {
            "colorbar": {
             "outlinewidth": 0,
             "ticks": ""
            },
            "colorscale": [
             [
              0,
              "#0d0887"
             ],
             [
              0.1111111111111111,
              "#46039f"
             ],
             [
              0.2222222222222222,
              "#7201a8"
             ],
             [
              0.3333333333333333,
              "#9c179e"
             ],
             [
              0.4444444444444444,
              "#bd3786"
             ],
             [
              0.5555555555555556,
              "#d8576b"
             ],
             [
              0.6666666666666666,
              "#ed7953"
             ],
             [
              0.7777777777777778,
              "#fb9f3a"
             ],
             [
              0.8888888888888888,
              "#fdca26"
             ],
             [
              1,
              "#f0f921"
             ]
            ],
            "type": "heatmapgl"
           }
          ],
          "histogram": [
           {
            "marker": {
             "pattern": {
              "fillmode": "overlay",
              "size": 10,
              "solidity": 0.2
             }
            },
            "type": "histogram"
           }
          ],
          "histogram2d": [
           {
            "colorbar": {
             "outlinewidth": 0,
             "ticks": ""
            },
            "colorscale": [
             [
              0,
              "#0d0887"
             ],
             [
              0.1111111111111111,
              "#46039f"
             ],
             [
              0.2222222222222222,
              "#7201a8"
             ],
             [
              0.3333333333333333,
              "#9c179e"
             ],
             [
              0.4444444444444444,
              "#bd3786"
             ],
             [
              0.5555555555555556,
              "#d8576b"
             ],
             [
              0.6666666666666666,
              "#ed7953"
             ],
             [
              0.7777777777777778,
              "#fb9f3a"
             ],
             [
              0.8888888888888888,
              "#fdca26"
             ],
             [
              1,
              "#f0f921"
             ]
            ],
            "type": "histogram2d"
           }
          ],
          "histogram2dcontour": [
           {
            "colorbar": {
             "outlinewidth": 0,
             "ticks": ""
            },
            "colorscale": [
             [
              0,
              "#0d0887"
             ],
             [
              0.1111111111111111,
              "#46039f"
             ],
             [
              0.2222222222222222,
              "#7201a8"
             ],
             [
              0.3333333333333333,
              "#9c179e"
             ],
             [
              0.4444444444444444,
              "#bd3786"
             ],
             [
              0.5555555555555556,
              "#d8576b"
             ],
             [
              0.6666666666666666,
              "#ed7953"
             ],
             [
              0.7777777777777778,
              "#fb9f3a"
             ],
             [
              0.8888888888888888,
              "#fdca26"
             ],
             [
              1,
              "#f0f921"
             ]
            ],
            "type": "histogram2dcontour"
           }
          ],
          "mesh3d": [
           {
            "colorbar": {
             "outlinewidth": 0,
             "ticks": ""
            },
            "type": "mesh3d"
           }
          ],
          "parcoords": [
           {
            "line": {
             "colorbar": {
              "outlinewidth": 0,
              "ticks": ""
             }
            },
            "type": "parcoords"
           }
          ],
          "pie": [
           {
            "automargin": true,
            "type": "pie"
           }
          ],
          "scatter": [
           {
            "marker": {
             "colorbar": {
              "outlinewidth": 0,
              "ticks": ""
             }
            },
            "type": "scatter"
           }
          ],
          "scatter3d": [
           {
            "line": {
             "colorbar": {
              "outlinewidth": 0,
              "ticks": ""
             }
            },
            "marker": {
             "colorbar": {
              "outlinewidth": 0,
              "ticks": ""
             }
            },
            "type": "scatter3d"
           }
          ],
          "scattercarpet": [
           {
            "marker": {
             "colorbar": {
              "outlinewidth": 0,
              "ticks": ""
             }
            },
            "type": "scattercarpet"
           }
          ],
          "scattergeo": [
           {
            "marker": {
             "colorbar": {
              "outlinewidth": 0,
              "ticks": ""
             }
            },
            "type": "scattergeo"
           }
          ],
          "scattergl": [
           {
            "marker": {
             "colorbar": {
              "outlinewidth": 0,
              "ticks": ""
             }
            },
            "type": "scattergl"
           }
          ],
          "scattermapbox": [
           {
            "marker": {
             "colorbar": {
              "outlinewidth": 0,
              "ticks": ""
             }
            },
            "type": "scattermapbox"
           }
          ],
          "scatterpolar": [
           {
            "marker": {
             "colorbar": {
              "outlinewidth": 0,
              "ticks": ""
             }
            },
            "type": "scatterpolar"
           }
          ],
          "scatterpolargl": [
           {
            "marker": {
             "colorbar": {
              "outlinewidth": 0,
              "ticks": ""
             }
            },
            "type": "scatterpolargl"
           }
          ],
          "scatterternary": [
           {
            "marker": {
             "colorbar": {
              "outlinewidth": 0,
              "ticks": ""
             }
            },
            "type": "scatterternary"
           }
          ],
          "surface": [
           {
            "colorbar": {
             "outlinewidth": 0,
             "ticks": ""
            },
            "colorscale": [
             [
              0,
              "#0d0887"
             ],
             [
              0.1111111111111111,
              "#46039f"
             ],
             [
              0.2222222222222222,
              "#7201a8"
             ],
             [
              0.3333333333333333,
              "#9c179e"
             ],
             [
              0.4444444444444444,
              "#bd3786"
             ],
             [
              0.5555555555555556,
              "#d8576b"
             ],
             [
              0.6666666666666666,
              "#ed7953"
             ],
             [
              0.7777777777777778,
              "#fb9f3a"
             ],
             [
              0.8888888888888888,
              "#fdca26"
             ],
             [
              1,
              "#f0f921"
             ]
            ],
            "type": "surface"
           }
          ],
          "table": [
           {
            "cells": {
             "fill": {
              "color": "#EBF0F8"
             },
             "line": {
              "color": "white"
             }
            },
            "header": {
             "fill": {
              "color": "#C8D4E3"
             },
             "line": {
              "color": "white"
             }
            },
            "type": "table"
           }
          ]
         },
         "layout": {
          "annotationdefaults": {
           "arrowcolor": "#2a3f5f",
           "arrowhead": 0,
           "arrowwidth": 1
          },
          "autotypenumbers": "strict",
          "coloraxis": {
           "colorbar": {
            "outlinewidth": 0,
            "ticks": ""
           }
          },
          "colorscale": {
           "diverging": [
            [
             0,
             "#8e0152"
            ],
            [
             0.1,
             "#c51b7d"
            ],
            [
             0.2,
             "#de77ae"
            ],
            [
             0.3,
             "#f1b6da"
            ],
            [
             0.4,
             "#fde0ef"
            ],
            [
             0.5,
             "#f7f7f7"
            ],
            [
             0.6,
             "#e6f5d0"
            ],
            [
             0.7,
             "#b8e186"
            ],
            [
             0.8,
             "#7fbc41"
            ],
            [
             0.9,
             "#4d9221"
            ],
            [
             1,
             "#276419"
            ]
           ],
           "sequential": [
            [
             0,
             "#0d0887"
            ],
            [
             0.1111111111111111,
             "#46039f"
            ],
            [
             0.2222222222222222,
             "#7201a8"
            ],
            [
             0.3333333333333333,
             "#9c179e"
            ],
            [
             0.4444444444444444,
             "#bd3786"
            ],
            [
             0.5555555555555556,
             "#d8576b"
            ],
            [
             0.6666666666666666,
             "#ed7953"
            ],
            [
             0.7777777777777778,
             "#fb9f3a"
            ],
            [
             0.8888888888888888,
             "#fdca26"
            ],
            [
             1,
             "#f0f921"
            ]
           ],
           "sequentialminus": [
            [
             0,
             "#0d0887"
            ],
            [
             0.1111111111111111,
             "#46039f"
            ],
            [
             0.2222222222222222,
             "#7201a8"
            ],
            [
             0.3333333333333333,
             "#9c179e"
            ],
            [
             0.4444444444444444,
             "#bd3786"
            ],
            [
             0.5555555555555556,
             "#d8576b"
            ],
            [
             0.6666666666666666,
             "#ed7953"
            ],
            [
             0.7777777777777778,
             "#fb9f3a"
            ],
            [
             0.8888888888888888,
             "#fdca26"
            ],
            [
             1,
             "#f0f921"
            ]
           ]
          },
          "colorway": [
           "#636efa",
           "#EF553B",
           "#00cc96",
           "#ab63fa",
           "#FFA15A",
           "#19d3f3",
           "#FF6692",
           "#B6E880",
           "#FF97FF",
           "#FECB52"
          ],
          "font": {
           "color": "#2a3f5f"
          },
          "geo": {
           "bgcolor": "white",
           "lakecolor": "white",
           "landcolor": "#E5ECF6",
           "showlakes": true,
           "showland": true,
           "subunitcolor": "white"
          },
          "hoverlabel": {
           "align": "left"
          },
          "hovermode": "closest",
          "mapbox": {
           "style": "light"
          },
          "paper_bgcolor": "white",
          "plot_bgcolor": "#E5ECF6",
          "polar": {
           "angularaxis": {
            "gridcolor": "white",
            "linecolor": "white",
            "ticks": ""
           },
           "bgcolor": "#E5ECF6",
           "radialaxis": {
            "gridcolor": "white",
            "linecolor": "white",
            "ticks": ""
           }
          },
          "scene": {
           "xaxis": {
            "backgroundcolor": "#E5ECF6",
            "gridcolor": "white",
            "gridwidth": 2,
            "linecolor": "white",
            "showbackground": true,
            "ticks": "",
            "zerolinecolor": "white"
           },
           "yaxis": {
            "backgroundcolor": "#E5ECF6",
            "gridcolor": "white",
            "gridwidth": 2,
            "linecolor": "white",
            "showbackground": true,
            "ticks": "",
            "zerolinecolor": "white"
           },
           "zaxis": {
            "backgroundcolor": "#E5ECF6",
            "gridcolor": "white",
            "gridwidth": 2,
            "linecolor": "white",
            "showbackground": true,
            "ticks": "",
            "zerolinecolor": "white"
           }
          },
          "shapedefaults": {
           "line": {
            "color": "#2a3f5f"
           }
          },
          "ternary": {
           "aaxis": {
            "gridcolor": "white",
            "linecolor": "white",
            "ticks": ""
           },
           "baxis": {
            "gridcolor": "white",
            "linecolor": "white",
            "ticks": ""
           },
           "bgcolor": "#E5ECF6",
           "caxis": {
            "gridcolor": "white",
            "linecolor": "white",
            "ticks": ""
           }
          },
          "title": {
           "x": 0.05
          },
          "xaxis": {
           "automargin": true,
           "gridcolor": "white",
           "linecolor": "white",
           "ticks": "",
           "title": {
            "standoff": 15
           },
           "zerolinecolor": "white",
           "zerolinewidth": 2
          },
          "yaxis": {
           "automargin": true,
           "gridcolor": "white",
           "linecolor": "white",
           "ticks": "",
           "title": {
            "standoff": 15
           },
           "zerolinecolor": "white",
           "zerolinewidth": 2
          }
         }
        },
        "title": {
         "font": {
          "color": "black",
          "family": "Arial",
          "size": 25
         },
         "x": 0.5,
         "y": 0.87
        },
        "xaxis": {
         "anchor": "y",
         "domain": [
          0,
          1
         ],
         "range": [
          2018.5,
          2021.5
         ],
         "tickfont": {
          "size": 20
         },
         "tickmode": "array",
         "tickvals": [
          2019,
          2020,
          2021,
          2022
         ],
         "title": {
          "text": "Year"
         }
        },
        "yaxis": {
         "anchor": "x",
         "domain": [
          0,
          1
         ],
         "range": [
          0,
          237000
         ],
         "tickmode": "array",
         "tickvals": [
          0,
          75000,
          150000,
          225000
         ],
         "title": {
          "text": "Total Trips"
         }
        }
       }
      },
      "text/html": [
       "<div>                            <div id=\"53337745-880a-4c5c-9125-621cd253ef3b\" class=\"plotly-graph-div\" style=\"height:525px; width:100%;\"></div>            <script type=\"text/javascript\">                require([\"plotly\"], function(Plotly) {                    window.PLOTLYENV=window.PLOTLYENV || {};                                    if (document.getElementById(\"53337745-880a-4c5c-9125-621cd253ef3b\")) {                    Plotly.newPlot(                        \"53337745-880a-4c5c-9125-621cd253ef3b\",                        [{\"alignmentgroup\":\"True\",\"hovertemplate\":\"Year=%{x}<br>Total Trips=%{y}<extra></extra>\",\"legendgroup\":\"\",\"marker\":{\"color\":\"black\",\"pattern\":{\"shape\":\"\"}},\"name\":\"\",\"offsetgroup\":\"\",\"orientation\":\"v\",\"showlegend\":false,\"textposition\":\"auto\",\"type\":\"bar\",\"x\":[2013,2014,2015,2016,2017,2018,2022],\"xaxis\":\"x\",\"y\":[1883,176795,198828,205747,205233,394775,311812],\"yaxis\":\"y\"},{\"alignmentgroup\":\"True\",\"hovertemplate\":\"Year=%{x}<br>Total Trips=%{y}<extra></extra>\",\"legendgroup\":\"\",\"marker\":{\"color\":\"#fcc201\",\"pattern\":{\"shape\":\"\"}},\"name\":\"\",\"offsetgroup\":\"\",\"orientation\":\"v\",\"showlegend\":false,\"textposition\":\"auto\",\"type\":\"bar\",\"x\":[2019],\"xaxis\":\"x\",\"y\":[115146],\"yaxis\":\"y\"},{\"alignmentgroup\":\"True\",\"hovertemplate\":\"Year=%{x}<br>Total Trips=%{y}<extra></extra>\",\"legendgroup\":\"\",\"marker\":{\"color\":\"#ff5964\",\"pattern\":{\"shape\":\"\"}},\"name\":\"\",\"offsetgroup\":\"\",\"orientation\":\"v\",\"showlegend\":false,\"textposition\":\"auto\",\"type\":\"bar\",\"x\":[2020],\"xaxis\":\"x\",\"y\":[109113],\"yaxis\":\"y\"},{\"alignmentgroup\":\"True\",\"hovertemplate\":\"Year=%{x}<br>Total Trips=%{y}<extra></extra>\",\"legendgroup\":\"\",\"marker\":{\"color\":\"#38618c\",\"pattern\":{\"shape\":\"\"}},\"name\":\"\",\"offsetgroup\":\"\",\"orientation\":\"v\",\"showlegend\":false,\"textposition\":\"auto\",\"type\":\"bar\",\"x\":[2021],\"xaxis\":\"x\",\"y\":[234091],\"yaxis\":\"y\"}],                        {\"barmode\":\"relative\",\"font\":{\"color\":\"Black\",\"family\":\"Arial\",\"size\":16},\"legend\":{\"tracegroupgap\":0},\"margin\":{\"t\":60},\"showlegend\":false,\"template\":{\"data\":{\"bar\":[{\"error_x\":{\"color\":\"#2a3f5f\"},\"error_y\":{\"color\":\"#2a3f5f\"},\"marker\":{\"line\":{\"color\":\"#E5ECF6\",\"width\":0.5},\"pattern\":{\"fillmode\":\"overlay\",\"size\":10,\"solidity\":0.2}},\"type\":\"bar\"}],\"barpolar\":[{\"marker\":{\"line\":{\"color\":\"#E5ECF6\",\"width\":0.5},\"pattern\":{\"fillmode\":\"overlay\",\"size\":10,\"solidity\":0.2}},\"type\":\"barpolar\"}],\"carpet\":[{\"aaxis\":{\"endlinecolor\":\"#2a3f5f\",\"gridcolor\":\"white\",\"linecolor\":\"white\",\"minorgridcolor\":\"white\",\"startlinecolor\":\"#2a3f5f\"},\"baxis\":{\"endlinecolor\":\"#2a3f5f\",\"gridcolor\":\"white\",\"linecolor\":\"white\",\"minorgridcolor\":\"white\",\"startlinecolor\":\"#2a3f5f\"},\"type\":\"carpet\"}],\"choropleth\":[{\"colorbar\":{\"outlinewidth\":0,\"ticks\":\"\"},\"type\":\"choropleth\"}],\"contour\":[{\"colorbar\":{\"outlinewidth\":0,\"ticks\":\"\"},\"colorscale\":[[0.0,\"#0d0887\"],[0.1111111111111111,\"#46039f\"],[0.2222222222222222,\"#7201a8\"],[0.3333333333333333,\"#9c179e\"],[0.4444444444444444,\"#bd3786\"],[0.5555555555555556,\"#d8576b\"],[0.6666666666666666,\"#ed7953\"],[0.7777777777777778,\"#fb9f3a\"],[0.8888888888888888,\"#fdca26\"],[1.0,\"#f0f921\"]],\"type\":\"contour\"}],\"contourcarpet\":[{\"colorbar\":{\"outlinewidth\":0,\"ticks\":\"\"},\"type\":\"contourcarpet\"}],\"heatmap\":[{\"colorbar\":{\"outlinewidth\":0,\"ticks\":\"\"},\"colorscale\":[[0.0,\"#0d0887\"],[0.1111111111111111,\"#46039f\"],[0.2222222222222222,\"#7201a8\"],[0.3333333333333333,\"#9c179e\"],[0.4444444444444444,\"#bd3786\"],[0.5555555555555556,\"#d8576b\"],[0.6666666666666666,\"#ed7953\"],[0.7777777777777778,\"#fb9f3a\"],[0.8888888888888888,\"#fdca26\"],[1.0,\"#f0f921\"]],\"type\":\"heatmap\"}],\"heatmapgl\":[{\"colorbar\":{\"outlinewidth\":0,\"ticks\":\"\"},\"colorscale\":[[0.0,\"#0d0887\"],[0.1111111111111111,\"#46039f\"],[0.2222222222222222,\"#7201a8\"],[0.3333333333333333,\"#9c179e\"],[0.4444444444444444,\"#bd3786\"],[0.5555555555555556,\"#d8576b\"],[0.6666666666666666,\"#ed7953\"],[0.7777777777777778,\"#fb9f3a\"],[0.8888888888888888,\"#fdca26\"],[1.0,\"#f0f921\"]],\"type\":\"heatmapgl\"}],\"histogram\":[{\"marker\":{\"pattern\":{\"fillmode\":\"overlay\",\"size\":10,\"solidity\":0.2}},\"type\":\"histogram\"}],\"histogram2d\":[{\"colorbar\":{\"outlinewidth\":0,\"ticks\":\"\"},\"colorscale\":[[0.0,\"#0d0887\"],[0.1111111111111111,\"#46039f\"],[0.2222222222222222,\"#7201a8\"],[0.3333333333333333,\"#9c179e\"],[0.4444444444444444,\"#bd3786\"],[0.5555555555555556,\"#d8576b\"],[0.6666666666666666,\"#ed7953\"],[0.7777777777777778,\"#fb9f3a\"],[0.8888888888888888,\"#fdca26\"],[1.0,\"#f0f921\"]],\"type\":\"histogram2d\"}],\"histogram2dcontour\":[{\"colorbar\":{\"outlinewidth\":0,\"ticks\":\"\"},\"colorscale\":[[0.0,\"#0d0887\"],[0.1111111111111111,\"#46039f\"],[0.2222222222222222,\"#7201a8\"],[0.3333333333333333,\"#9c179e\"],[0.4444444444444444,\"#bd3786\"],[0.5555555555555556,\"#d8576b\"],[0.6666666666666666,\"#ed7953\"],[0.7777777777777778,\"#fb9f3a\"],[0.8888888888888888,\"#fdca26\"],[1.0,\"#f0f921\"]],\"type\":\"histogram2dcontour\"}],\"mesh3d\":[{\"colorbar\":{\"outlinewidth\":0,\"ticks\":\"\"},\"type\":\"mesh3d\"}],\"parcoords\":[{\"line\":{\"colorbar\":{\"outlinewidth\":0,\"ticks\":\"\"}},\"type\":\"parcoords\"}],\"pie\":[{\"automargin\":true,\"type\":\"pie\"}],\"scatter\":[{\"marker\":{\"colorbar\":{\"outlinewidth\":0,\"ticks\":\"\"}},\"type\":\"scatter\"}],\"scatter3d\":[{\"line\":{\"colorbar\":{\"outlinewidth\":0,\"ticks\":\"\"}},\"marker\":{\"colorbar\":{\"outlinewidth\":0,\"ticks\":\"\"}},\"type\":\"scatter3d\"}],\"scattercarpet\":[{\"marker\":{\"colorbar\":{\"outlinewidth\":0,\"ticks\":\"\"}},\"type\":\"scattercarpet\"}],\"scattergeo\":[{\"marker\":{\"colorbar\":{\"outlinewidth\":0,\"ticks\":\"\"}},\"type\":\"scattergeo\"}],\"scattergl\":[{\"marker\":{\"colorbar\":{\"outlinewidth\":0,\"ticks\":\"\"}},\"type\":\"scattergl\"}],\"scattermapbox\":[{\"marker\":{\"colorbar\":{\"outlinewidth\":0,\"ticks\":\"\"}},\"type\":\"scattermapbox\"}],\"scatterpolar\":[{\"marker\":{\"colorbar\":{\"outlinewidth\":0,\"ticks\":\"\"}},\"type\":\"scatterpolar\"}],\"scatterpolargl\":[{\"marker\":{\"colorbar\":{\"outlinewidth\":0,\"ticks\":\"\"}},\"type\":\"scatterpolargl\"}],\"scatterternary\":[{\"marker\":{\"colorbar\":{\"outlinewidth\":0,\"ticks\":\"\"}},\"type\":\"scatterternary\"}],\"surface\":[{\"colorbar\":{\"outlinewidth\":0,\"ticks\":\"\"},\"colorscale\":[[0.0,\"#0d0887\"],[0.1111111111111111,\"#46039f\"],[0.2222222222222222,\"#7201a8\"],[0.3333333333333333,\"#9c179e\"],[0.4444444444444444,\"#bd3786\"],[0.5555555555555556,\"#d8576b\"],[0.6666666666666666,\"#ed7953\"],[0.7777777777777778,\"#fb9f3a\"],[0.8888888888888888,\"#fdca26\"],[1.0,\"#f0f921\"]],\"type\":\"surface\"}],\"table\":[{\"cells\":{\"fill\":{\"color\":\"#EBF0F8\"},\"line\":{\"color\":\"white\"}},\"header\":{\"fill\":{\"color\":\"#C8D4E3\"},\"line\":{\"color\":\"white\"}},\"type\":\"table\"}]},\"layout\":{\"annotationdefaults\":{\"arrowcolor\":\"#2a3f5f\",\"arrowhead\":0,\"arrowwidth\":1},\"autotypenumbers\":\"strict\",\"coloraxis\":{\"colorbar\":{\"outlinewidth\":0,\"ticks\":\"\"}},\"colorscale\":{\"diverging\":[[0,\"#8e0152\"],[0.1,\"#c51b7d\"],[0.2,\"#de77ae\"],[0.3,\"#f1b6da\"],[0.4,\"#fde0ef\"],[0.5,\"#f7f7f7\"],[0.6,\"#e6f5d0\"],[0.7,\"#b8e186\"],[0.8,\"#7fbc41\"],[0.9,\"#4d9221\"],[1,\"#276419\"]],\"sequential\":[[0.0,\"#0d0887\"],[0.1111111111111111,\"#46039f\"],[0.2222222222222222,\"#7201a8\"],[0.3333333333333333,\"#9c179e\"],[0.4444444444444444,\"#bd3786\"],[0.5555555555555556,\"#d8576b\"],[0.6666666666666666,\"#ed7953\"],[0.7777777777777778,\"#fb9f3a\"],[0.8888888888888888,\"#fdca26\"],[1.0,\"#f0f921\"]],\"sequentialminus\":[[0.0,\"#0d0887\"],[0.1111111111111111,\"#46039f\"],[0.2222222222222222,\"#7201a8\"],[0.3333333333333333,\"#9c179e\"],[0.4444444444444444,\"#bd3786\"],[0.5555555555555556,\"#d8576b\"],[0.6666666666666666,\"#ed7953\"],[0.7777777777777778,\"#fb9f3a\"],[0.8888888888888888,\"#fdca26\"],[1.0,\"#f0f921\"]]},\"colorway\":[\"#636efa\",\"#EF553B\",\"#00cc96\",\"#ab63fa\",\"#FFA15A\",\"#19d3f3\",\"#FF6692\",\"#B6E880\",\"#FF97FF\",\"#FECB52\"],\"font\":{\"color\":\"#2a3f5f\"},\"geo\":{\"bgcolor\":\"white\",\"lakecolor\":\"white\",\"landcolor\":\"#E5ECF6\",\"showlakes\":true,\"showland\":true,\"subunitcolor\":\"white\"},\"hoverlabel\":{\"align\":\"left\"},\"hovermode\":\"closest\",\"mapbox\":{\"style\":\"light\"},\"paper_bgcolor\":\"white\",\"plot_bgcolor\":\"#E5ECF6\",\"polar\":{\"angularaxis\":{\"gridcolor\":\"white\",\"linecolor\":\"white\",\"ticks\":\"\"},\"bgcolor\":\"#E5ECF6\",\"radialaxis\":{\"gridcolor\":\"white\",\"linecolor\":\"white\",\"ticks\":\"\"}},\"scene\":{\"xaxis\":{\"backgroundcolor\":\"#E5ECF6\",\"gridcolor\":\"white\",\"gridwidth\":2,\"linecolor\":\"white\",\"showbackground\":true,\"ticks\":\"\",\"zerolinecolor\":\"white\"},\"yaxis\":{\"backgroundcolor\":\"#E5ECF6\",\"gridcolor\":\"white\",\"gridwidth\":2,\"linecolor\":\"white\",\"showbackground\":true,\"ticks\":\"\",\"zerolinecolor\":\"white\"},\"zaxis\":{\"backgroundcolor\":\"#E5ECF6\",\"gridcolor\":\"white\",\"gridwidth\":2,\"linecolor\":\"white\",\"showbackground\":true,\"ticks\":\"\",\"zerolinecolor\":\"white\"}},\"shapedefaults\":{\"line\":{\"color\":\"#2a3f5f\"}},\"ternary\":{\"aaxis\":{\"gridcolor\":\"white\",\"linecolor\":\"white\",\"ticks\":\"\"},\"baxis\":{\"gridcolor\":\"white\",\"linecolor\":\"white\",\"ticks\":\"\"},\"bgcolor\":\"#E5ECF6\",\"caxis\":{\"gridcolor\":\"white\",\"linecolor\":\"white\",\"ticks\":\"\"}},\"title\":{\"x\":0.05},\"xaxis\":{\"automargin\":true,\"gridcolor\":\"white\",\"linecolor\":\"white\",\"ticks\":\"\",\"title\":{\"standoff\":15},\"zerolinecolor\":\"white\",\"zerolinewidth\":2},\"yaxis\":{\"automargin\":true,\"gridcolor\":\"white\",\"linecolor\":\"white\",\"ticks\":\"\",\"title\":{\"standoff\":15},\"zerolinecolor\":\"white\",\"zerolinewidth\":2}}},\"title\":{\"font\":{\"color\":\"black\",\"family\":\"Arial\",\"size\":25},\"x\":0.5,\"y\":0.87},\"xaxis\":{\"anchor\":\"y\",\"domain\":[0.0,1.0],\"range\":[2018.5,2021.5],\"tickfont\":{\"size\":20},\"tickmode\":\"array\",\"tickvals\":[2019,2020,2021,2022],\"title\":{\"text\":\"Year\"}},\"yaxis\":{\"anchor\":\"x\",\"domain\":[0.0,1.0],\"range\":[0,237000],\"tickmode\":\"array\",\"tickvals\":[0,75000,150000,225000],\"title\":{\"text\":\"Total Trips\"}}},                        {\"responsive\": true}                    ).then(function(){\n",
       "                            \n",
       "var gd = document.getElementById('53337745-880a-4c5c-9125-621cd253ef3b');\n",
       "var x = new MutationObserver(function (mutations, observer) {{\n",
       "        var display = window.getComputedStyle(gd).display;\n",
       "        if (!display || display === 'none') {{\n",
       "            console.log([gd, 'removed!']);\n",
       "            Plotly.purge(gd);\n",
       "            observer.disconnect();\n",
       "        }}\n",
       "}});\n",
       "\n",
       "// Listen for the removal of the full notebook cells\n",
       "var notebookContainer = gd.closest('#notebook-container');\n",
       "if (notebookContainer) {{\n",
       "    x.observe(notebookContainer, {childList: true});\n",
       "}}\n",
       "\n",
       "// Listen for the clearing of the current output cell\n",
       "var outputEl = gd.closest('.output');\n",
       "if (outputEl) {{\n",
       "    x.observe(outputEl, {childList: true});\n",
       "}}\n",
       "\n",
       "                        })                };                });            </script>        </div>"
      ]
     },
     "metadata": {},
     "output_type": "display_data"
    }
   ],
   "source": [
    "clrs = ['black',\n",
    " 'black',\n",
    " 'black',\n",
    " 'black',\n",
    " 'black',\n",
    " 'black',\n",
    " color_2019,\n",
    " color_2020,\n",
    " color_2021,\n",
    " color_2021]\n",
    "\n",
    "fig1 = px.bar(\n",
    "    trips, #dataframe\n",
    "    x=[2013, 2014, 2015, 2016, 2017, 2018, 2019, 2020, 2021, 2022], #x\n",
    "    y=trips.groupby('Year').size(),#y\n",
    "    labels={\"x\": \"Year\", \"y\": \"Total Trips\"}, \n",
    "    color=clrs,\n",
    "    color_discrete_map=\"identity\",\n",
    "    #title=\"ATX MetroBike Annual Ridership\", #title\n",
    "    orientation=\"v\"  \n",
    ")\n",
    "fig1.update_layout(\n",
    "    title=dict(x=0.5,y=0.87), #set title in the center\n",
    "    xaxis_range=[2018.5,2021.5],\n",
    "    yaxis_range=[0,237000],\n",
    "    xaxis = dict(\n",
    "        tickmode = 'array',\n",
    "        tickvals = [2019, 2020, 2021, 2022],\n",
    "    ),\n",
    "    yaxis = dict(\n",
    "        tickmode = 'array',\n",
    "        tickvals = [0,75000,150000,225000],\n",
    "    ),\n",
    "    showlegend=False,\n",
    "    title_font_family=\"Arial\",\n",
    "    title_font_color=\"black\",\n",
    "    title_font_size = 25,\n",
    "    font=dict(\n",
    "        family=\"Arial\",\n",
    "        size=16,\n",
    "        color=\"Black\"\n",
    "    ), \n",
    "    #legend_title_font_color=\"green\"\n",
    ")\n",
    "fig1.update_xaxes(tickfont_size=20)    \n",
    "fig1"
   ]
  },
  {
   "cell_type": "code",
   "execution_count": 9,
   "id": "82d42295",
   "metadata": {},
   "outputs": [
    {
     "data": {
      "text/plain": [
       "'https://plotly.com/~flyingcape/15/'"
      ]
     },
     "execution_count": 9,
     "metadata": {},
     "output_type": "execute_result"
    }
   ],
   "source": [
    "import chart_studio\n",
    "username='flyingcape'\n",
    "api_key='NI4xzO3e4BldD5kASCBo'\n",
    "chart_studio.tools.set_credentials_file(username=username,\n",
    "                                        api_key=api_key)\n",
    "\n",
    "import chart_studio.plotly as py\n",
    "\n",
    "py.plot(fig1, filename=\"yearly_fig\", auto_open = True)"
   ]
  },
  {
   "cell_type": "code",
   "execution_count": 10,
   "id": "90277e25",
   "metadata": {},
   "outputs": [],
   "source": [
    "#!datapane login --token=9a31775255945a53b4df2d5496934bbd5123f80c\n",
    "\n",
    "#import datapane as dp \n",
    "\n",
    "#dp.Report(\n",
    "#    dp.Plot(fig1),\n",
    "#).upload(name=\"fig1\")"
   ]
  },
  {
   "cell_type": "markdown",
   "id": "511c7e83",
   "metadata": {},
   "source": [
    "# Figure 2-4"
   ]
  },
  {
   "cell_type": "code",
   "execution_count": 11,
   "id": "3e6430a1",
   "metadata": {},
   "outputs": [
    {
     "data": {
      "text/html": [
       "<div>\n",
       "<style scoped>\n",
       "    .dataframe tbody tr th:only-of-type {\n",
       "        vertical-align: middle;\n",
       "    }\n",
       "\n",
       "    .dataframe tbody tr th {\n",
       "        vertical-align: top;\n",
       "    }\n",
       "\n",
       "    .dataframe thead th {\n",
       "        text-align: right;\n",
       "    }\n",
       "</style>\n",
       "<table border=\"1\" class=\"dataframe\">\n",
       "  <thead>\n",
       "    <tr style=\"text-align: right;\">\n",
       "      <th></th>\n",
       "      <th>index</th>\n",
       "      <th>Year</th>\n",
       "      <th>Month</th>\n",
       "      <th>Total</th>\n",
       "    </tr>\n",
       "  </thead>\n",
       "  <tbody>\n",
       "    <tr>\n",
       "      <th>0</th>\n",
       "      <td>59</td>\n",
       "      <td>2019</td>\n",
       "      <td>1</td>\n",
       "      <td>9340</td>\n",
       "    </tr>\n",
       "    <tr>\n",
       "      <th>1</th>\n",
       "      <td>60</td>\n",
       "      <td>2019</td>\n",
       "      <td>2</td>\n",
       "      <td>10807</td>\n",
       "    </tr>\n",
       "    <tr>\n",
       "      <th>2</th>\n",
       "      <td>61</td>\n",
       "      <td>2019</td>\n",
       "      <td>3</td>\n",
       "      <td>15939</td>\n",
       "    </tr>\n",
       "    <tr>\n",
       "      <th>3</th>\n",
       "      <td>62</td>\n",
       "      <td>2019</td>\n",
       "      <td>4</td>\n",
       "      <td>13430</td>\n",
       "    </tr>\n",
       "    <tr>\n",
       "      <th>4</th>\n",
       "      <td>63</td>\n",
       "      <td>2019</td>\n",
       "      <td>5</td>\n",
       "      <td>10777</td>\n",
       "    </tr>\n",
       "    <tr>\n",
       "      <th>5</th>\n",
       "      <td>64</td>\n",
       "      <td>2019</td>\n",
       "      <td>6</td>\n",
       "      <td>7537</td>\n",
       "    </tr>\n",
       "    <tr>\n",
       "      <th>6</th>\n",
       "      <td>65</td>\n",
       "      <td>2019</td>\n",
       "      <td>7</td>\n",
       "      <td>8330</td>\n",
       "    </tr>\n",
       "    <tr>\n",
       "      <th>7</th>\n",
       "      <td>66</td>\n",
       "      <td>2019</td>\n",
       "      <td>8</td>\n",
       "      <td>6102</td>\n",
       "    </tr>\n",
       "    <tr>\n",
       "      <th>8</th>\n",
       "      <td>67</td>\n",
       "      <td>2019</td>\n",
       "      <td>9</td>\n",
       "      <td>8607</td>\n",
       "    </tr>\n",
       "    <tr>\n",
       "      <th>9</th>\n",
       "      <td>68</td>\n",
       "      <td>2019</td>\n",
       "      <td>10</td>\n",
       "      <td>8836</td>\n",
       "    </tr>\n",
       "    <tr>\n",
       "      <th>10</th>\n",
       "      <td>69</td>\n",
       "      <td>2019</td>\n",
       "      <td>11</td>\n",
       "      <td>5774</td>\n",
       "    </tr>\n",
       "    <tr>\n",
       "      <th>11</th>\n",
       "      <td>70</td>\n",
       "      <td>2019</td>\n",
       "      <td>12</td>\n",
       "      <td>4944</td>\n",
       "    </tr>\n",
       "    <tr>\n",
       "      <th>12</th>\n",
       "      <td>71</td>\n",
       "      <td>2020</td>\n",
       "      <td>1</td>\n",
       "      <td>4717</td>\n",
       "    </tr>\n",
       "    <tr>\n",
       "      <th>13</th>\n",
       "      <td>72</td>\n",
       "      <td>2020</td>\n",
       "      <td>2</td>\n",
       "      <td>6054</td>\n",
       "    </tr>\n",
       "    <tr>\n",
       "      <th>14</th>\n",
       "      <td>73</td>\n",
       "      <td>2020</td>\n",
       "      <td>3</td>\n",
       "      <td>7050</td>\n",
       "    </tr>\n",
       "    <tr>\n",
       "      <th>15</th>\n",
       "      <td>74</td>\n",
       "      <td>2020</td>\n",
       "      <td>4</td>\n",
       "      <td>5044</td>\n",
       "    </tr>\n",
       "    <tr>\n",
       "      <th>16</th>\n",
       "      <td>75</td>\n",
       "      <td>2020</td>\n",
       "      <td>5</td>\n",
       "      <td>9586</td>\n",
       "    </tr>\n",
       "    <tr>\n",
       "      <th>17</th>\n",
       "      <td>76</td>\n",
       "      <td>2020</td>\n",
       "      <td>6</td>\n",
       "      <td>9897</td>\n",
       "    </tr>\n",
       "    <tr>\n",
       "      <th>18</th>\n",
       "      <td>77</td>\n",
       "      <td>2020</td>\n",
       "      <td>7</td>\n",
       "      <td>8552</td>\n",
       "    </tr>\n",
       "    <tr>\n",
       "      <th>19</th>\n",
       "      <td>78</td>\n",
       "      <td>2020</td>\n",
       "      <td>8</td>\n",
       "      <td>9843</td>\n",
       "    </tr>\n",
       "    <tr>\n",
       "      <th>20</th>\n",
       "      <td>79</td>\n",
       "      <td>2020</td>\n",
       "      <td>9</td>\n",
       "      <td>11309</td>\n",
       "    </tr>\n",
       "    <tr>\n",
       "      <th>21</th>\n",
       "      <td>80</td>\n",
       "      <td>2020</td>\n",
       "      <td>10</td>\n",
       "      <td>11758</td>\n",
       "    </tr>\n",
       "    <tr>\n",
       "      <th>22</th>\n",
       "      <td>81</td>\n",
       "      <td>2020</td>\n",
       "      <td>11</td>\n",
       "      <td>10769</td>\n",
       "    </tr>\n",
       "    <tr>\n",
       "      <th>23</th>\n",
       "      <td>82</td>\n",
       "      <td>2020</td>\n",
       "      <td>12</td>\n",
       "      <td>7740</td>\n",
       "    </tr>\n",
       "  </tbody>\n",
       "</table>\n",
       "</div>"
      ],
      "text/plain": [
       "    index  Year  Month  Total\n",
       "0      59  2019      1   9340\n",
       "1      60  2019      2  10807\n",
       "2      61  2019      3  15939\n",
       "3      62  2019      4  13430\n",
       "4      63  2019      5  10777\n",
       "5      64  2019      6   7537\n",
       "6      65  2019      7   8330\n",
       "7      66  2019      8   6102\n",
       "8      67  2019      9   8607\n",
       "9      68  2019     10   8836\n",
       "10     69  2019     11   5774\n",
       "11     70  2019     12   4944\n",
       "12     71  2020      1   4717\n",
       "13     72  2020      2   6054\n",
       "14     73  2020      3   7050\n",
       "15     74  2020      4   5044\n",
       "16     75  2020      5   9586\n",
       "17     76  2020      6   9897\n",
       "18     77  2020      7   8552\n",
       "19     78  2020      8   9843\n",
       "20     79  2020      9  11309\n",
       "21     80  2020     10  11758\n",
       "22     81  2020     11  10769\n",
       "23     82  2020     12   7740"
      ]
     },
     "execution_count": 11,
     "metadata": {},
     "output_type": "execute_result"
    }
   ],
   "source": [
    "trips_months = trips.groupby(['Year_2','Month_2']).size().to_frame().reset_index()\n",
    "trips_months.rename(columns={'Month_2': 'Month', 'Year_2': 'Year',0:'Total'}, inplace=True)\n",
    "\n",
    "trips_months = trips_months.loc[trips_months['Year'].isin([2019,2020,2021])].reset_index()\n",
    "trips_months.head(24)"
   ]
  },
  {
   "cell_type": "code",
   "execution_count": 12,
   "id": "5a77d63d",
   "metadata": {},
   "outputs": [],
   "source": [
    "a = pd.concat([trips_2019.groupby('Month_2').size().cumsum(),\n",
    "              trips_2020.groupby('Month_2').size().cumsum(),\n",
    "              trips_2021.groupby('Month_2').size().cumsum()],\n",
    "              axis=0).reset_index()\n",
    "trips_months['Total Trips By Month'] = a[0]"
   ]
  },
  {
   "cell_type": "code",
   "execution_count": 13,
   "id": "9c3fd01e",
   "metadata": {},
   "outputs": [
    {
     "data": {
      "text/html": [
       "<div>\n",
       "<style scoped>\n",
       "    .dataframe tbody tr th:only-of-type {\n",
       "        vertical-align: middle;\n",
       "    }\n",
       "\n",
       "    .dataframe tbody tr th {\n",
       "        vertical-align: top;\n",
       "    }\n",
       "\n",
       "    .dataframe thead th {\n",
       "        text-align: right;\n",
       "    }\n",
       "</style>\n",
       "<table border=\"1\" class=\"dataframe\">\n",
       "  <thead>\n",
       "    <tr style=\"text-align: right;\">\n",
       "      <th></th>\n",
       "      <th>index</th>\n",
       "      <th>Year</th>\n",
       "      <th>Month</th>\n",
       "      <th>Total</th>\n",
       "      <th>Total Trips By Month</th>\n",
       "    </tr>\n",
       "  </thead>\n",
       "  <tbody>\n",
       "    <tr>\n",
       "      <th>0</th>\n",
       "      <td>59</td>\n",
       "      <td>2019</td>\n",
       "      <td>1</td>\n",
       "      <td>9340</td>\n",
       "      <td>9340</td>\n",
       "    </tr>\n",
       "    <tr>\n",
       "      <th>1</th>\n",
       "      <td>60</td>\n",
       "      <td>2019</td>\n",
       "      <td>2</td>\n",
       "      <td>10807</td>\n",
       "      <td>20147</td>\n",
       "    </tr>\n",
       "    <tr>\n",
       "      <th>2</th>\n",
       "      <td>61</td>\n",
       "      <td>2019</td>\n",
       "      <td>3</td>\n",
       "      <td>15939</td>\n",
       "      <td>36086</td>\n",
       "    </tr>\n",
       "    <tr>\n",
       "      <th>3</th>\n",
       "      <td>62</td>\n",
       "      <td>2019</td>\n",
       "      <td>4</td>\n",
       "      <td>13430</td>\n",
       "      <td>49516</td>\n",
       "    </tr>\n",
       "    <tr>\n",
       "      <th>4</th>\n",
       "      <td>63</td>\n",
       "      <td>2019</td>\n",
       "      <td>5</td>\n",
       "      <td>10777</td>\n",
       "      <td>60293</td>\n",
       "    </tr>\n",
       "    <tr>\n",
       "      <th>5</th>\n",
       "      <td>64</td>\n",
       "      <td>2019</td>\n",
       "      <td>6</td>\n",
       "      <td>7537</td>\n",
       "      <td>67830</td>\n",
       "    </tr>\n",
       "    <tr>\n",
       "      <th>6</th>\n",
       "      <td>65</td>\n",
       "      <td>2019</td>\n",
       "      <td>7</td>\n",
       "      <td>8330</td>\n",
       "      <td>76160</td>\n",
       "    </tr>\n",
       "    <tr>\n",
       "      <th>7</th>\n",
       "      <td>66</td>\n",
       "      <td>2019</td>\n",
       "      <td>8</td>\n",
       "      <td>6102</td>\n",
       "      <td>82262</td>\n",
       "    </tr>\n",
       "    <tr>\n",
       "      <th>8</th>\n",
       "      <td>67</td>\n",
       "      <td>2019</td>\n",
       "      <td>9</td>\n",
       "      <td>8607</td>\n",
       "      <td>90869</td>\n",
       "    </tr>\n",
       "    <tr>\n",
       "      <th>9</th>\n",
       "      <td>68</td>\n",
       "      <td>2019</td>\n",
       "      <td>10</td>\n",
       "      <td>8836</td>\n",
       "      <td>99705</td>\n",
       "    </tr>\n",
       "    <tr>\n",
       "      <th>10</th>\n",
       "      <td>69</td>\n",
       "      <td>2019</td>\n",
       "      <td>11</td>\n",
       "      <td>5774</td>\n",
       "      <td>105479</td>\n",
       "    </tr>\n",
       "    <tr>\n",
       "      <th>11</th>\n",
       "      <td>70</td>\n",
       "      <td>2019</td>\n",
       "      <td>12</td>\n",
       "      <td>4944</td>\n",
       "      <td>110423</td>\n",
       "    </tr>\n",
       "  </tbody>\n",
       "</table>\n",
       "</div>"
      ],
      "text/plain": [
       "    index  Year  Month  Total  Total Trips By Month\n",
       "0      59  2019      1   9340                  9340\n",
       "1      60  2019      2  10807                 20147\n",
       "2      61  2019      3  15939                 36086\n",
       "3      62  2019      4  13430                 49516\n",
       "4      63  2019      5  10777                 60293\n",
       "5      64  2019      6   7537                 67830\n",
       "6      65  2019      7   8330                 76160\n",
       "7      66  2019      8   6102                 82262\n",
       "8      67  2019      9   8607                 90869\n",
       "9      68  2019     10   8836                 99705\n",
       "10     69  2019     11   5774                105479\n",
       "11     70  2019     12   4944                110423"
      ]
     },
     "execution_count": 13,
     "metadata": {},
     "output_type": "execute_result"
    }
   ],
   "source": [
    "trips_months.head(12)"
   ]
  },
  {
   "cell_type": "code",
   "execution_count": 14,
   "id": "63f9234c",
   "metadata": {},
   "outputs": [
    {
     "data": {
      "text/html": [
       "<div>\n",
       "<style scoped>\n",
       "    .dataframe tbody tr th:only-of-type {\n",
       "        vertical-align: middle;\n",
       "    }\n",
       "\n",
       "    .dataframe tbody tr th {\n",
       "        vertical-align: top;\n",
       "    }\n",
       "\n",
       "    .dataframe thead th {\n",
       "        text-align: right;\n",
       "    }\n",
       "</style>\n",
       "<table border=\"1\" class=\"dataframe\">\n",
       "  <thead>\n",
       "    <tr style=\"text-align: right;\">\n",
       "      <th></th>\n",
       "      <th>index</th>\n",
       "      <th>Year</th>\n",
       "      <th>Month</th>\n",
       "      <th>Total</th>\n",
       "      <th>Total Trips By Month</th>\n",
       "    </tr>\n",
       "  </thead>\n",
       "  <tbody>\n",
       "    <tr>\n",
       "      <th>24</th>\n",
       "      <td>83</td>\n",
       "      <td>2021</td>\n",
       "      <td>1</td>\n",
       "      <td>10587</td>\n",
       "      <td>10587</td>\n",
       "    </tr>\n",
       "    <tr>\n",
       "      <th>25</th>\n",
       "      <td>84</td>\n",
       "      <td>2021</td>\n",
       "      <td>2</td>\n",
       "      <td>7395</td>\n",
       "      <td>17982</td>\n",
       "    </tr>\n",
       "    <tr>\n",
       "      <th>26</th>\n",
       "      <td>85</td>\n",
       "      <td>2021</td>\n",
       "      <td>3</td>\n",
       "      <td>16805</td>\n",
       "      <td>34787</td>\n",
       "    </tr>\n",
       "    <tr>\n",
       "      <th>27</th>\n",
       "      <td>86</td>\n",
       "      <td>2021</td>\n",
       "      <td>4</td>\n",
       "      <td>16980</td>\n",
       "      <td>51767</td>\n",
       "    </tr>\n",
       "    <tr>\n",
       "      <th>28</th>\n",
       "      <td>87</td>\n",
       "      <td>2021</td>\n",
       "      <td>5</td>\n",
       "      <td>17427</td>\n",
       "      <td>69194</td>\n",
       "    </tr>\n",
       "    <tr>\n",
       "      <th>29</th>\n",
       "      <td>88</td>\n",
       "      <td>2021</td>\n",
       "      <td>6</td>\n",
       "      <td>15739</td>\n",
       "      <td>84933</td>\n",
       "    </tr>\n",
       "    <tr>\n",
       "      <th>30</th>\n",
       "      <td>89</td>\n",
       "      <td>2021</td>\n",
       "      <td>7</td>\n",
       "      <td>15769</td>\n",
       "      <td>100702</td>\n",
       "    </tr>\n",
       "    <tr>\n",
       "      <th>31</th>\n",
       "      <td>90</td>\n",
       "      <td>2021</td>\n",
       "      <td>8</td>\n",
       "      <td>16913</td>\n",
       "      <td>117615</td>\n",
       "    </tr>\n",
       "    <tr>\n",
       "      <th>32</th>\n",
       "      <td>91</td>\n",
       "      <td>2021</td>\n",
       "      <td>9</td>\n",
       "      <td>28509</td>\n",
       "      <td>146124</td>\n",
       "    </tr>\n",
       "    <tr>\n",
       "      <th>33</th>\n",
       "      <td>92</td>\n",
       "      <td>2021</td>\n",
       "      <td>10</td>\n",
       "      <td>34256</td>\n",
       "      <td>180380</td>\n",
       "    </tr>\n",
       "    <tr>\n",
       "      <th>34</th>\n",
       "      <td>93</td>\n",
       "      <td>2021</td>\n",
       "      <td>11</td>\n",
       "      <td>24978</td>\n",
       "      <td>205358</td>\n",
       "    </tr>\n",
       "    <tr>\n",
       "      <th>35</th>\n",
       "      <td>94</td>\n",
       "      <td>2021</td>\n",
       "      <td>12</td>\n",
       "      <td>18637</td>\n",
       "      <td>223995</td>\n",
       "    </tr>\n",
       "  </tbody>\n",
       "</table>\n",
       "</div>"
      ],
      "text/plain": [
       "    index  Year  Month  Total  Total Trips By Month\n",
       "24     83  2021      1  10587                 10587\n",
       "25     84  2021      2   7395                 17982\n",
       "26     85  2021      3  16805                 34787\n",
       "27     86  2021      4  16980                 51767\n",
       "28     87  2021      5  17427                 69194\n",
       "29     88  2021      6  15739                 84933\n",
       "30     89  2021      7  15769                100702\n",
       "31     90  2021      8  16913                117615\n",
       "32     91  2021      9  28509                146124\n",
       "33     92  2021     10  34256                180380\n",
       "34     93  2021     11  24978                205358\n",
       "35     94  2021     12  18637                223995"
      ]
     },
     "execution_count": 14,
     "metadata": {},
     "output_type": "execute_result"
    }
   ],
   "source": [
    "trips_months_2021 = trips_months[trips_months['Year']==2021]\n",
    "trips_months_2021"
   ]
  },
  {
   "cell_type": "code",
   "execution_count": 15,
   "id": "199fb63f",
   "metadata": {},
   "outputs": [
    {
     "data": {
      "application/vnd.plotly.v1+json": {
       "config": {
        "plotlyServerURL": "https://plotly.com"
       },
       "data": [
        {
         "alignmentgroup": "True",
         "hovertemplate": "Month=%{x}<br>Monthly Trips=%{y}<extra></extra>",
         "legendgroup": "",
         "marker": {
          "color": "#38618c",
          "pattern": {
           "shape": ""
          }
         },
         "name": "",
         "offsetgroup": "",
         "orientation": "v",
         "showlegend": false,
         "textposition": "auto",
         "type": "bar",
         "x": [
          1,
          2,
          3,
          4,
          5,
          6,
          7,
          8,
          9,
          10,
          11,
          12
         ],
         "xaxis": "x",
         "y": [
          10587,
          7395,
          16805,
          16980,
          17427,
          15739,
          15769,
          16913,
          28509,
          34256,
          24978,
          18637
         ],
         "yaxis": "y"
        }
       ],
       "layout": {
        "barmode": "relative",
        "font": {
         "color": "Black",
         "family": "Arial",
         "size": 16
        },
        "legend": {
         "tracegroupgap": 0
        },
        "margin": {
         "t": 60
        },
        "showlegend": false,
        "template": {
         "data": {
          "bar": [
           {
            "error_x": {
             "color": "#2a3f5f"
            },
            "error_y": {
             "color": "#2a3f5f"
            },
            "marker": {
             "line": {
              "color": "#E5ECF6",
              "width": 0.5
             },
             "pattern": {
              "fillmode": "overlay",
              "size": 10,
              "solidity": 0.2
             }
            },
            "type": "bar"
           }
          ],
          "barpolar": [
           {
            "marker": {
             "line": {
              "color": "#E5ECF6",
              "width": 0.5
             },
             "pattern": {
              "fillmode": "overlay",
              "size": 10,
              "solidity": 0.2
             }
            },
            "type": "barpolar"
           }
          ],
          "carpet": [
           {
            "aaxis": {
             "endlinecolor": "#2a3f5f",
             "gridcolor": "white",
             "linecolor": "white",
             "minorgridcolor": "white",
             "startlinecolor": "#2a3f5f"
            },
            "baxis": {
             "endlinecolor": "#2a3f5f",
             "gridcolor": "white",
             "linecolor": "white",
             "minorgridcolor": "white",
             "startlinecolor": "#2a3f5f"
            },
            "type": "carpet"
           }
          ],
          "choropleth": [
           {
            "colorbar": {
             "outlinewidth": 0,
             "ticks": ""
            },
            "type": "choropleth"
           }
          ],
          "contour": [
           {
            "colorbar": {
             "outlinewidth": 0,
             "ticks": ""
            },
            "colorscale": [
             [
              0,
              "#0d0887"
             ],
             [
              0.1111111111111111,
              "#46039f"
             ],
             [
              0.2222222222222222,
              "#7201a8"
             ],
             [
              0.3333333333333333,
              "#9c179e"
             ],
             [
              0.4444444444444444,
              "#bd3786"
             ],
             [
              0.5555555555555556,
              "#d8576b"
             ],
             [
              0.6666666666666666,
              "#ed7953"
             ],
             [
              0.7777777777777778,
              "#fb9f3a"
             ],
             [
              0.8888888888888888,
              "#fdca26"
             ],
             [
              1,
              "#f0f921"
             ]
            ],
            "type": "contour"
           }
          ],
          "contourcarpet": [
           {
            "colorbar": {
             "outlinewidth": 0,
             "ticks": ""
            },
            "type": "contourcarpet"
           }
          ],
          "heatmap": [
           {
            "colorbar": {
             "outlinewidth": 0,
             "ticks": ""
            },
            "colorscale": [
             [
              0,
              "#0d0887"
             ],
             [
              0.1111111111111111,
              "#46039f"
             ],
             [
              0.2222222222222222,
              "#7201a8"
             ],
             [
              0.3333333333333333,
              "#9c179e"
             ],
             [
              0.4444444444444444,
              "#bd3786"
             ],
             [
              0.5555555555555556,
              "#d8576b"
             ],
             [
              0.6666666666666666,
              "#ed7953"
             ],
             [
              0.7777777777777778,
              "#fb9f3a"
             ],
             [
              0.8888888888888888,
              "#fdca26"
             ],
             [
              1,
              "#f0f921"
             ]
            ],
            "type": "heatmap"
           }
          ],
          "heatmapgl": [
           {
            "colorbar": {
             "outlinewidth": 0,
             "ticks": ""
            },
            "colorscale": [
             [
              0,
              "#0d0887"
             ],
             [
              0.1111111111111111,
              "#46039f"
             ],
             [
              0.2222222222222222,
              "#7201a8"
             ],
             [
              0.3333333333333333,
              "#9c179e"
             ],
             [
              0.4444444444444444,
              "#bd3786"
             ],
             [
              0.5555555555555556,
              "#d8576b"
             ],
             [
              0.6666666666666666,
              "#ed7953"
             ],
             [
              0.7777777777777778,
              "#fb9f3a"
             ],
             [
              0.8888888888888888,
              "#fdca26"
             ],
             [
              1,
              "#f0f921"
             ]
            ],
            "type": "heatmapgl"
           }
          ],
          "histogram": [
           {
            "marker": {
             "pattern": {
              "fillmode": "overlay",
              "size": 10,
              "solidity": 0.2
             }
            },
            "type": "histogram"
           }
          ],
          "histogram2d": [
           {
            "colorbar": {
             "outlinewidth": 0,
             "ticks": ""
            },
            "colorscale": [
             [
              0,
              "#0d0887"
             ],
             [
              0.1111111111111111,
              "#46039f"
             ],
             [
              0.2222222222222222,
              "#7201a8"
             ],
             [
              0.3333333333333333,
              "#9c179e"
             ],
             [
              0.4444444444444444,
              "#bd3786"
             ],
             [
              0.5555555555555556,
              "#d8576b"
             ],
             [
              0.6666666666666666,
              "#ed7953"
             ],
             [
              0.7777777777777778,
              "#fb9f3a"
             ],
             [
              0.8888888888888888,
              "#fdca26"
             ],
             [
              1,
              "#f0f921"
             ]
            ],
            "type": "histogram2d"
           }
          ],
          "histogram2dcontour": [
           {
            "colorbar": {
             "outlinewidth": 0,
             "ticks": ""
            },
            "colorscale": [
             [
              0,
              "#0d0887"
             ],
             [
              0.1111111111111111,
              "#46039f"
             ],
             [
              0.2222222222222222,
              "#7201a8"
             ],
             [
              0.3333333333333333,
              "#9c179e"
             ],
             [
              0.4444444444444444,
              "#bd3786"
             ],
             [
              0.5555555555555556,
              "#d8576b"
             ],
             [
              0.6666666666666666,
              "#ed7953"
             ],
             [
              0.7777777777777778,
              "#fb9f3a"
             ],
             [
              0.8888888888888888,
              "#fdca26"
             ],
             [
              1,
              "#f0f921"
             ]
            ],
            "type": "histogram2dcontour"
           }
          ],
          "mesh3d": [
           {
            "colorbar": {
             "outlinewidth": 0,
             "ticks": ""
            },
            "type": "mesh3d"
           }
          ],
          "parcoords": [
           {
            "line": {
             "colorbar": {
              "outlinewidth": 0,
              "ticks": ""
             }
            },
            "type": "parcoords"
           }
          ],
          "pie": [
           {
            "automargin": true,
            "type": "pie"
           }
          ],
          "scatter": [
           {
            "marker": {
             "colorbar": {
              "outlinewidth": 0,
              "ticks": ""
             }
            },
            "type": "scatter"
           }
          ],
          "scatter3d": [
           {
            "line": {
             "colorbar": {
              "outlinewidth": 0,
              "ticks": ""
             }
            },
            "marker": {
             "colorbar": {
              "outlinewidth": 0,
              "ticks": ""
             }
            },
            "type": "scatter3d"
           }
          ],
          "scattercarpet": [
           {
            "marker": {
             "colorbar": {
              "outlinewidth": 0,
              "ticks": ""
             }
            },
            "type": "scattercarpet"
           }
          ],
          "scattergeo": [
           {
            "marker": {
             "colorbar": {
              "outlinewidth": 0,
              "ticks": ""
             }
            },
            "type": "scattergeo"
           }
          ],
          "scattergl": [
           {
            "marker": {
             "colorbar": {
              "outlinewidth": 0,
              "ticks": ""
             }
            },
            "type": "scattergl"
           }
          ],
          "scattermapbox": [
           {
            "marker": {
             "colorbar": {
              "outlinewidth": 0,
              "ticks": ""
             }
            },
            "type": "scattermapbox"
           }
          ],
          "scatterpolar": [
           {
            "marker": {
             "colorbar": {
              "outlinewidth": 0,
              "ticks": ""
             }
            },
            "type": "scatterpolar"
           }
          ],
          "scatterpolargl": [
           {
            "marker": {
             "colorbar": {
              "outlinewidth": 0,
              "ticks": ""
             }
            },
            "type": "scatterpolargl"
           }
          ],
          "scatterternary": [
           {
            "marker": {
             "colorbar": {
              "outlinewidth": 0,
              "ticks": ""
             }
            },
            "type": "scatterternary"
           }
          ],
          "surface": [
           {
            "colorbar": {
             "outlinewidth": 0,
             "ticks": ""
            },
            "colorscale": [
             [
              0,
              "#0d0887"
             ],
             [
              0.1111111111111111,
              "#46039f"
             ],
             [
              0.2222222222222222,
              "#7201a8"
             ],
             [
              0.3333333333333333,
              "#9c179e"
             ],
             [
              0.4444444444444444,
              "#bd3786"
             ],
             [
              0.5555555555555556,
              "#d8576b"
             ],
             [
              0.6666666666666666,
              "#ed7953"
             ],
             [
              0.7777777777777778,
              "#fb9f3a"
             ],
             [
              0.8888888888888888,
              "#fdca26"
             ],
             [
              1,
              "#f0f921"
             ]
            ],
            "type": "surface"
           }
          ],
          "table": [
           {
            "cells": {
             "fill": {
              "color": "#EBF0F8"
             },
             "line": {
              "color": "white"
             }
            },
            "header": {
             "fill": {
              "color": "#C8D4E3"
             },
             "line": {
              "color": "white"
             }
            },
            "type": "table"
           }
          ]
         },
         "layout": {
          "annotationdefaults": {
           "arrowcolor": "#2a3f5f",
           "arrowhead": 0,
           "arrowwidth": 1
          },
          "autotypenumbers": "strict",
          "coloraxis": {
           "colorbar": {
            "outlinewidth": 0,
            "ticks": ""
           }
          },
          "colorscale": {
           "diverging": [
            [
             0,
             "#8e0152"
            ],
            [
             0.1,
             "#c51b7d"
            ],
            [
             0.2,
             "#de77ae"
            ],
            [
             0.3,
             "#f1b6da"
            ],
            [
             0.4,
             "#fde0ef"
            ],
            [
             0.5,
             "#f7f7f7"
            ],
            [
             0.6,
             "#e6f5d0"
            ],
            [
             0.7,
             "#b8e186"
            ],
            [
             0.8,
             "#7fbc41"
            ],
            [
             0.9,
             "#4d9221"
            ],
            [
             1,
             "#276419"
            ]
           ],
           "sequential": [
            [
             0,
             "#0d0887"
            ],
            [
             0.1111111111111111,
             "#46039f"
            ],
            [
             0.2222222222222222,
             "#7201a8"
            ],
            [
             0.3333333333333333,
             "#9c179e"
            ],
            [
             0.4444444444444444,
             "#bd3786"
            ],
            [
             0.5555555555555556,
             "#d8576b"
            ],
            [
             0.6666666666666666,
             "#ed7953"
            ],
            [
             0.7777777777777778,
             "#fb9f3a"
            ],
            [
             0.8888888888888888,
             "#fdca26"
            ],
            [
             1,
             "#f0f921"
            ]
           ],
           "sequentialminus": [
            [
             0,
             "#0d0887"
            ],
            [
             0.1111111111111111,
             "#46039f"
            ],
            [
             0.2222222222222222,
             "#7201a8"
            ],
            [
             0.3333333333333333,
             "#9c179e"
            ],
            [
             0.4444444444444444,
             "#bd3786"
            ],
            [
             0.5555555555555556,
             "#d8576b"
            ],
            [
             0.6666666666666666,
             "#ed7953"
            ],
            [
             0.7777777777777778,
             "#fb9f3a"
            ],
            [
             0.8888888888888888,
             "#fdca26"
            ],
            [
             1,
             "#f0f921"
            ]
           ]
          },
          "colorway": [
           "#636efa",
           "#EF553B",
           "#00cc96",
           "#ab63fa",
           "#FFA15A",
           "#19d3f3",
           "#FF6692",
           "#B6E880",
           "#FF97FF",
           "#FECB52"
          ],
          "font": {
           "color": "#2a3f5f"
          },
          "geo": {
           "bgcolor": "white",
           "lakecolor": "white",
           "landcolor": "#E5ECF6",
           "showlakes": true,
           "showland": true,
           "subunitcolor": "white"
          },
          "hoverlabel": {
           "align": "left"
          },
          "hovermode": "closest",
          "mapbox": {
           "style": "light"
          },
          "paper_bgcolor": "white",
          "plot_bgcolor": "#E5ECF6",
          "polar": {
           "angularaxis": {
            "gridcolor": "white",
            "linecolor": "white",
            "ticks": ""
           },
           "bgcolor": "#E5ECF6",
           "radialaxis": {
            "gridcolor": "white",
            "linecolor": "white",
            "ticks": ""
           }
          },
          "scene": {
           "xaxis": {
            "backgroundcolor": "#E5ECF6",
            "gridcolor": "white",
            "gridwidth": 2,
            "linecolor": "white",
            "showbackground": true,
            "ticks": "",
            "zerolinecolor": "white"
           },
           "yaxis": {
            "backgroundcolor": "#E5ECF6",
            "gridcolor": "white",
            "gridwidth": 2,
            "linecolor": "white",
            "showbackground": true,
            "ticks": "",
            "zerolinecolor": "white"
           },
           "zaxis": {
            "backgroundcolor": "#E5ECF6",
            "gridcolor": "white",
            "gridwidth": 2,
            "linecolor": "white",
            "showbackground": true,
            "ticks": "",
            "zerolinecolor": "white"
           }
          },
          "shapedefaults": {
           "line": {
            "color": "#2a3f5f"
           }
          },
          "ternary": {
           "aaxis": {
            "gridcolor": "white",
            "linecolor": "white",
            "ticks": ""
           },
           "baxis": {
            "gridcolor": "white",
            "linecolor": "white",
            "ticks": ""
           },
           "bgcolor": "#E5ECF6",
           "caxis": {
            "gridcolor": "white",
            "linecolor": "white",
            "ticks": ""
           }
          },
          "title": {
           "x": 0.05
          },
          "xaxis": {
           "automargin": true,
           "gridcolor": "white",
           "linecolor": "white",
           "ticks": "",
           "title": {
            "standoff": 15
           },
           "zerolinecolor": "white",
           "zerolinewidth": 2
          },
          "yaxis": {
           "automargin": true,
           "gridcolor": "white",
           "linecolor": "white",
           "ticks": "",
           "title": {
            "standoff": 15
           },
           "zerolinecolor": "white",
           "zerolinewidth": 2
          }
         }
        },
        "title": {
         "font": {
          "color": "black",
          "family": "Arial",
          "size": 25
         }
        },
        "xaxis": {
         "anchor": "y",
         "domain": [
          0,
          1
         ],
         "range": [
          0,
          13
         ],
         "tickmode": "array",
         "tickvals": [
          1,
          2,
          3,
          4,
          5,
          6,
          7,
          8,
          9,
          10,
          11,
          12
         ],
         "title": {
          "text": "Month"
         }
        },
        "yaxis": {
         "anchor": "x",
         "domain": [
          0,
          1
         ],
         "title": {
          "text": "Monthly Trips"
         }
        }
       }
      },
      "text/html": [
       "<div>                            <div id=\"f33949fe-6317-485d-b267-38d39ea331fe\" class=\"plotly-graph-div\" style=\"height:525px; width:100%;\"></div>            <script type=\"text/javascript\">                require([\"plotly\"], function(Plotly) {                    window.PLOTLYENV=window.PLOTLYENV || {};                                    if (document.getElementById(\"f33949fe-6317-485d-b267-38d39ea331fe\")) {                    Plotly.newPlot(                        \"f33949fe-6317-485d-b267-38d39ea331fe\",                        [{\"alignmentgroup\":\"True\",\"hovertemplate\":\"Month=%{x}<br>Monthly Trips=%{y}<extra></extra>\",\"legendgroup\":\"\",\"marker\":{\"color\":\"#38618c\",\"pattern\":{\"shape\":\"\"}},\"name\":\"\",\"offsetgroup\":\"\",\"orientation\":\"v\",\"showlegend\":false,\"textposition\":\"auto\",\"type\":\"bar\",\"x\":[1,2,3,4,5,6,7,8,9,10,11,12],\"xaxis\":\"x\",\"y\":[10587,7395,16805,16980,17427,15739,15769,16913,28509,34256,24978,18637],\"yaxis\":\"y\"}],                        {\"barmode\":\"relative\",\"font\":{\"color\":\"Black\",\"family\":\"Arial\",\"size\":16},\"legend\":{\"tracegroupgap\":0},\"margin\":{\"t\":60},\"showlegend\":false,\"template\":{\"data\":{\"bar\":[{\"error_x\":{\"color\":\"#2a3f5f\"},\"error_y\":{\"color\":\"#2a3f5f\"},\"marker\":{\"line\":{\"color\":\"#E5ECF6\",\"width\":0.5},\"pattern\":{\"fillmode\":\"overlay\",\"size\":10,\"solidity\":0.2}},\"type\":\"bar\"}],\"barpolar\":[{\"marker\":{\"line\":{\"color\":\"#E5ECF6\",\"width\":0.5},\"pattern\":{\"fillmode\":\"overlay\",\"size\":10,\"solidity\":0.2}},\"type\":\"barpolar\"}],\"carpet\":[{\"aaxis\":{\"endlinecolor\":\"#2a3f5f\",\"gridcolor\":\"white\",\"linecolor\":\"white\",\"minorgridcolor\":\"white\",\"startlinecolor\":\"#2a3f5f\"},\"baxis\":{\"endlinecolor\":\"#2a3f5f\",\"gridcolor\":\"white\",\"linecolor\":\"white\",\"minorgridcolor\":\"white\",\"startlinecolor\":\"#2a3f5f\"},\"type\":\"carpet\"}],\"choropleth\":[{\"colorbar\":{\"outlinewidth\":0,\"ticks\":\"\"},\"type\":\"choropleth\"}],\"contour\":[{\"colorbar\":{\"outlinewidth\":0,\"ticks\":\"\"},\"colorscale\":[[0.0,\"#0d0887\"],[0.1111111111111111,\"#46039f\"],[0.2222222222222222,\"#7201a8\"],[0.3333333333333333,\"#9c179e\"],[0.4444444444444444,\"#bd3786\"],[0.5555555555555556,\"#d8576b\"],[0.6666666666666666,\"#ed7953\"],[0.7777777777777778,\"#fb9f3a\"],[0.8888888888888888,\"#fdca26\"],[1.0,\"#f0f921\"]],\"type\":\"contour\"}],\"contourcarpet\":[{\"colorbar\":{\"outlinewidth\":0,\"ticks\":\"\"},\"type\":\"contourcarpet\"}],\"heatmap\":[{\"colorbar\":{\"outlinewidth\":0,\"ticks\":\"\"},\"colorscale\":[[0.0,\"#0d0887\"],[0.1111111111111111,\"#46039f\"],[0.2222222222222222,\"#7201a8\"],[0.3333333333333333,\"#9c179e\"],[0.4444444444444444,\"#bd3786\"],[0.5555555555555556,\"#d8576b\"],[0.6666666666666666,\"#ed7953\"],[0.7777777777777778,\"#fb9f3a\"],[0.8888888888888888,\"#fdca26\"],[1.0,\"#f0f921\"]],\"type\":\"heatmap\"}],\"heatmapgl\":[{\"colorbar\":{\"outlinewidth\":0,\"ticks\":\"\"},\"colorscale\":[[0.0,\"#0d0887\"],[0.1111111111111111,\"#46039f\"],[0.2222222222222222,\"#7201a8\"],[0.3333333333333333,\"#9c179e\"],[0.4444444444444444,\"#bd3786\"],[0.5555555555555556,\"#d8576b\"],[0.6666666666666666,\"#ed7953\"],[0.7777777777777778,\"#fb9f3a\"],[0.8888888888888888,\"#fdca26\"],[1.0,\"#f0f921\"]],\"type\":\"heatmapgl\"}],\"histogram\":[{\"marker\":{\"pattern\":{\"fillmode\":\"overlay\",\"size\":10,\"solidity\":0.2}},\"type\":\"histogram\"}],\"histogram2d\":[{\"colorbar\":{\"outlinewidth\":0,\"ticks\":\"\"},\"colorscale\":[[0.0,\"#0d0887\"],[0.1111111111111111,\"#46039f\"],[0.2222222222222222,\"#7201a8\"],[0.3333333333333333,\"#9c179e\"],[0.4444444444444444,\"#bd3786\"],[0.5555555555555556,\"#d8576b\"],[0.6666666666666666,\"#ed7953\"],[0.7777777777777778,\"#fb9f3a\"],[0.8888888888888888,\"#fdca26\"],[1.0,\"#f0f921\"]],\"type\":\"histogram2d\"}],\"histogram2dcontour\":[{\"colorbar\":{\"outlinewidth\":0,\"ticks\":\"\"},\"colorscale\":[[0.0,\"#0d0887\"],[0.1111111111111111,\"#46039f\"],[0.2222222222222222,\"#7201a8\"],[0.3333333333333333,\"#9c179e\"],[0.4444444444444444,\"#bd3786\"],[0.5555555555555556,\"#d8576b\"],[0.6666666666666666,\"#ed7953\"],[0.7777777777777778,\"#fb9f3a\"],[0.8888888888888888,\"#fdca26\"],[1.0,\"#f0f921\"]],\"type\":\"histogram2dcontour\"}],\"mesh3d\":[{\"colorbar\":{\"outlinewidth\":0,\"ticks\":\"\"},\"type\":\"mesh3d\"}],\"parcoords\":[{\"line\":{\"colorbar\":{\"outlinewidth\":0,\"ticks\":\"\"}},\"type\":\"parcoords\"}],\"pie\":[{\"automargin\":true,\"type\":\"pie\"}],\"scatter\":[{\"marker\":{\"colorbar\":{\"outlinewidth\":0,\"ticks\":\"\"}},\"type\":\"scatter\"}],\"scatter3d\":[{\"line\":{\"colorbar\":{\"outlinewidth\":0,\"ticks\":\"\"}},\"marker\":{\"colorbar\":{\"outlinewidth\":0,\"ticks\":\"\"}},\"type\":\"scatter3d\"}],\"scattercarpet\":[{\"marker\":{\"colorbar\":{\"outlinewidth\":0,\"ticks\":\"\"}},\"type\":\"scattercarpet\"}],\"scattergeo\":[{\"marker\":{\"colorbar\":{\"outlinewidth\":0,\"ticks\":\"\"}},\"type\":\"scattergeo\"}],\"scattergl\":[{\"marker\":{\"colorbar\":{\"outlinewidth\":0,\"ticks\":\"\"}},\"type\":\"scattergl\"}],\"scattermapbox\":[{\"marker\":{\"colorbar\":{\"outlinewidth\":0,\"ticks\":\"\"}},\"type\":\"scattermapbox\"}],\"scatterpolar\":[{\"marker\":{\"colorbar\":{\"outlinewidth\":0,\"ticks\":\"\"}},\"type\":\"scatterpolar\"}],\"scatterpolargl\":[{\"marker\":{\"colorbar\":{\"outlinewidth\":0,\"ticks\":\"\"}},\"type\":\"scatterpolargl\"}],\"scatterternary\":[{\"marker\":{\"colorbar\":{\"outlinewidth\":0,\"ticks\":\"\"}},\"type\":\"scatterternary\"}],\"surface\":[{\"colorbar\":{\"outlinewidth\":0,\"ticks\":\"\"},\"colorscale\":[[0.0,\"#0d0887\"],[0.1111111111111111,\"#46039f\"],[0.2222222222222222,\"#7201a8\"],[0.3333333333333333,\"#9c179e\"],[0.4444444444444444,\"#bd3786\"],[0.5555555555555556,\"#d8576b\"],[0.6666666666666666,\"#ed7953\"],[0.7777777777777778,\"#fb9f3a\"],[0.8888888888888888,\"#fdca26\"],[1.0,\"#f0f921\"]],\"type\":\"surface\"}],\"table\":[{\"cells\":{\"fill\":{\"color\":\"#EBF0F8\"},\"line\":{\"color\":\"white\"}},\"header\":{\"fill\":{\"color\":\"#C8D4E3\"},\"line\":{\"color\":\"white\"}},\"type\":\"table\"}]},\"layout\":{\"annotationdefaults\":{\"arrowcolor\":\"#2a3f5f\",\"arrowhead\":0,\"arrowwidth\":1},\"autotypenumbers\":\"strict\",\"coloraxis\":{\"colorbar\":{\"outlinewidth\":0,\"ticks\":\"\"}},\"colorscale\":{\"diverging\":[[0,\"#8e0152\"],[0.1,\"#c51b7d\"],[0.2,\"#de77ae\"],[0.3,\"#f1b6da\"],[0.4,\"#fde0ef\"],[0.5,\"#f7f7f7\"],[0.6,\"#e6f5d0\"],[0.7,\"#b8e186\"],[0.8,\"#7fbc41\"],[0.9,\"#4d9221\"],[1,\"#276419\"]],\"sequential\":[[0.0,\"#0d0887\"],[0.1111111111111111,\"#46039f\"],[0.2222222222222222,\"#7201a8\"],[0.3333333333333333,\"#9c179e\"],[0.4444444444444444,\"#bd3786\"],[0.5555555555555556,\"#d8576b\"],[0.6666666666666666,\"#ed7953\"],[0.7777777777777778,\"#fb9f3a\"],[0.8888888888888888,\"#fdca26\"],[1.0,\"#f0f921\"]],\"sequentialminus\":[[0.0,\"#0d0887\"],[0.1111111111111111,\"#46039f\"],[0.2222222222222222,\"#7201a8\"],[0.3333333333333333,\"#9c179e\"],[0.4444444444444444,\"#bd3786\"],[0.5555555555555556,\"#d8576b\"],[0.6666666666666666,\"#ed7953\"],[0.7777777777777778,\"#fb9f3a\"],[0.8888888888888888,\"#fdca26\"],[1.0,\"#f0f921\"]]},\"colorway\":[\"#636efa\",\"#EF553B\",\"#00cc96\",\"#ab63fa\",\"#FFA15A\",\"#19d3f3\",\"#FF6692\",\"#B6E880\",\"#FF97FF\",\"#FECB52\"],\"font\":{\"color\":\"#2a3f5f\"},\"geo\":{\"bgcolor\":\"white\",\"lakecolor\":\"white\",\"landcolor\":\"#E5ECF6\",\"showlakes\":true,\"showland\":true,\"subunitcolor\":\"white\"},\"hoverlabel\":{\"align\":\"left\"},\"hovermode\":\"closest\",\"mapbox\":{\"style\":\"light\"},\"paper_bgcolor\":\"white\",\"plot_bgcolor\":\"#E5ECF6\",\"polar\":{\"angularaxis\":{\"gridcolor\":\"white\",\"linecolor\":\"white\",\"ticks\":\"\"},\"bgcolor\":\"#E5ECF6\",\"radialaxis\":{\"gridcolor\":\"white\",\"linecolor\":\"white\",\"ticks\":\"\"}},\"scene\":{\"xaxis\":{\"backgroundcolor\":\"#E5ECF6\",\"gridcolor\":\"white\",\"gridwidth\":2,\"linecolor\":\"white\",\"showbackground\":true,\"ticks\":\"\",\"zerolinecolor\":\"white\"},\"yaxis\":{\"backgroundcolor\":\"#E5ECF6\",\"gridcolor\":\"white\",\"gridwidth\":2,\"linecolor\":\"white\",\"showbackground\":true,\"ticks\":\"\",\"zerolinecolor\":\"white\"},\"zaxis\":{\"backgroundcolor\":\"#E5ECF6\",\"gridcolor\":\"white\",\"gridwidth\":2,\"linecolor\":\"white\",\"showbackground\":true,\"ticks\":\"\",\"zerolinecolor\":\"white\"}},\"shapedefaults\":{\"line\":{\"color\":\"#2a3f5f\"}},\"ternary\":{\"aaxis\":{\"gridcolor\":\"white\",\"linecolor\":\"white\",\"ticks\":\"\"},\"baxis\":{\"gridcolor\":\"white\",\"linecolor\":\"white\",\"ticks\":\"\"},\"bgcolor\":\"#E5ECF6\",\"caxis\":{\"gridcolor\":\"white\",\"linecolor\":\"white\",\"ticks\":\"\"}},\"title\":{\"x\":0.05},\"xaxis\":{\"automargin\":true,\"gridcolor\":\"white\",\"linecolor\":\"white\",\"ticks\":\"\",\"title\":{\"standoff\":15},\"zerolinecolor\":\"white\",\"zerolinewidth\":2},\"yaxis\":{\"automargin\":true,\"gridcolor\":\"white\",\"linecolor\":\"white\",\"ticks\":\"\",\"title\":{\"standoff\":15},\"zerolinecolor\":\"white\",\"zerolinewidth\":2}}},\"title\":{\"font\":{\"color\":\"black\",\"family\":\"Arial\",\"size\":25}},\"xaxis\":{\"anchor\":\"y\",\"domain\":[0.0,1.0],\"range\":[0,13],\"tickmode\":\"array\",\"tickvals\":[1,2,3,4,5,6,7,8,9,10,11,12],\"title\":{\"text\":\"Month\"}},\"yaxis\":{\"anchor\":\"x\",\"domain\":[0.0,1.0],\"title\":{\"text\":\"Monthly Trips\"}}},                        {\"responsive\": true}                    ).then(function(){\n",
       "                            \n",
       "var gd = document.getElementById('f33949fe-6317-485d-b267-38d39ea331fe');\n",
       "var x = new MutationObserver(function (mutations, observer) {{\n",
       "        var display = window.getComputedStyle(gd).display;\n",
       "        if (!display || display === 'none') {{\n",
       "            console.log([gd, 'removed!']);\n",
       "            Plotly.purge(gd);\n",
       "            observer.disconnect();\n",
       "        }}\n",
       "}});\n",
       "\n",
       "// Listen for the removal of the full notebook cells\n",
       "var notebookContainer = gd.closest('#notebook-container');\n",
       "if (notebookContainer) {{\n",
       "    x.observe(notebookContainer, {childList: true});\n",
       "}}\n",
       "\n",
       "// Listen for the clearing of the current output cell\n",
       "var outputEl = gd.closest('.output');\n",
       "if (outputEl) {{\n",
       "    x.observe(outputEl, {childList: true});\n",
       "}}\n",
       "\n",
       "                        })                };                });            </script>        </div>"
      ]
     },
     "metadata": {},
     "output_type": "display_data"
    }
   ],
   "source": [
    "months_color = [color_2021,color_2021,color_2021,color_2021,color_2021,color_2021,color_2021,color_2021,color_2021,color_2021,color_2021,color_2021]\n",
    "\n",
    "fig3 = px.bar(\n",
    "    trips_months_2021, #dataframe\n",
    "    x=trips_months_2021['Month'], #x\n",
    "    y=trips_months_2021[\"Total\"],# y\n",
    "    labels={\"Month\": \"Month\", \"Total\": \"Monthly Trips\"}, \n",
    "    color=months_color,\n",
    "    color_discrete_map=\"identity\",\n",
    "    #title=\"ATX MetroBike Annual Ridership\", #title\n",
    "    orientation=\"v\"  \n",
    ")\n",
    "  \n",
    "fig3.update_layout(\n",
    "    xaxis_range=[0,13],\n",
    "    # yaxis_range=[0,237000],\n",
    "    xaxis = dict(\n",
    "        tickmode = 'array',\n",
    "        tickvals = [1,2,3,4,5,6,7,8,9,10,11,12],\n",
    "    ),\n",
    "    #yaxis = dict(\n",
    "    #    tickmode = 'array',\n",
    "    #    tickvals = [0,75000,150000,225000],\n",
    "    #),\n",
    "    showlegend=False,\n",
    "    title_font_family=\"Arial\",\n",
    "    title_font_color=\"black\",\n",
    "    title_font_size = 25,\n",
    "    font=dict(\n",
    "        family=\"Arial\",\n",
    "        size=16,\n",
    "        color=\"Black\"\n",
    "    ), \n",
    "    #legend_title_font_color=\"green\"\n",
    ")\n",
    "fig3"
   ]
  },
  {
   "cell_type": "code",
   "execution_count": 16,
   "id": "4b704567",
   "metadata": {},
   "outputs": [
    {
     "data": {
      "application/vnd.plotly.v1+json": {
       "config": {
        "plotlyServerURL": "https://plotly.com"
       },
       "data": [
        {
         "hovertemplate": "Year=2019<br>Month=%{x}<br>Total Trips=%{y}<extra></extra>",
         "legendgroup": "2019",
         "line": {
          "color": "#fcc201",
          "dash": "solid",
          "width": 8
         },
         "marker": {
          "size": 12,
          "symbol": "circle"
         },
         "mode": "markers+lines",
         "name": "2019",
         "orientation": "v",
         "showlegend": true,
         "type": "scatter",
         "x": [
          1,
          2,
          3,
          4,
          5,
          6,
          7,
          8,
          9,
          10,
          11,
          12
         ],
         "xaxis": "x",
         "y": [
          9340,
          20147,
          36086,
          49516,
          60293,
          67830,
          76160,
          82262,
          90869,
          99705,
          105479,
          110423
         ],
         "yaxis": "y"
        },
        {
         "hovertemplate": "Year=2020<br>Month=%{x}<br>Total Trips=%{y}<extra></extra>",
         "legendgroup": "2020",
         "line": {
          "color": "#ff5964",
          "dash": "solid",
          "width": 7
         },
         "marker": {
          "size": 12,
          "symbol": "diamond"
         },
         "mode": "markers+lines",
         "name": "2020",
         "orientation": "v",
         "showlegend": true,
         "type": "scatter",
         "x": [
          1,
          2,
          3,
          4,
          5,
          6,
          7,
          8,
          9,
          10,
          11,
          12
         ],
         "xaxis": "x",
         "y": [
          4717,
          10771,
          17821,
          22865,
          32451,
          42348,
          50900,
          60743,
          72052,
          83810,
          94579,
          102319
         ],
         "yaxis": "y"
        },
        {
         "hovertemplate": "Year=2021<br>Month=%{x}<br>Total Trips=%{y}<extra></extra>",
         "legendgroup": "2021",
         "line": {
          "color": "#38618c",
          "dash": "dash",
          "width": 9
         },
         "marker": {
          "size": 12,
          "symbol": "square"
         },
         "mode": "markers+lines",
         "name": "2021",
         "opacity": 0.75,
         "orientation": "v",
         "showlegend": true,
         "type": "scatter",
         "x": [
          1,
          2,
          3,
          4,
          5,
          6,
          7,
          8,
          9,
          10,
          11,
          12
         ],
         "xaxis": "x",
         "y": [
          10587,
          17982,
          34787,
          51767,
          69194,
          84933,
          100702,
          117615,
          146124,
          180380,
          205358,
          223995
         ],
         "yaxis": "y"
        }
       ],
       "layout": {
        "font": {
         "color": "Black",
         "family": "Arial",
         "size": 16
        },
        "legend": {
         "title": {
          "text": "Year"
         },
         "tracegroupgap": 0
        },
        "margin": {
         "t": 60
        },
        "showlegend": true,
        "template": {
         "data": {
          "bar": [
           {
            "error_x": {
             "color": "#2a3f5f"
            },
            "error_y": {
             "color": "#2a3f5f"
            },
            "marker": {
             "line": {
              "color": "#E5ECF6",
              "width": 0.5
             },
             "pattern": {
              "fillmode": "overlay",
              "size": 10,
              "solidity": 0.2
             }
            },
            "type": "bar"
           }
          ],
          "barpolar": [
           {
            "marker": {
             "line": {
              "color": "#E5ECF6",
              "width": 0.5
             },
             "pattern": {
              "fillmode": "overlay",
              "size": 10,
              "solidity": 0.2
             }
            },
            "type": "barpolar"
           }
          ],
          "carpet": [
           {
            "aaxis": {
             "endlinecolor": "#2a3f5f",
             "gridcolor": "white",
             "linecolor": "white",
             "minorgridcolor": "white",
             "startlinecolor": "#2a3f5f"
            },
            "baxis": {
             "endlinecolor": "#2a3f5f",
             "gridcolor": "white",
             "linecolor": "white",
             "minorgridcolor": "white",
             "startlinecolor": "#2a3f5f"
            },
            "type": "carpet"
           }
          ],
          "choropleth": [
           {
            "colorbar": {
             "outlinewidth": 0,
             "ticks": ""
            },
            "type": "choropleth"
           }
          ],
          "contour": [
           {
            "colorbar": {
             "outlinewidth": 0,
             "ticks": ""
            },
            "colorscale": [
             [
              0,
              "#0d0887"
             ],
             [
              0.1111111111111111,
              "#46039f"
             ],
             [
              0.2222222222222222,
              "#7201a8"
             ],
             [
              0.3333333333333333,
              "#9c179e"
             ],
             [
              0.4444444444444444,
              "#bd3786"
             ],
             [
              0.5555555555555556,
              "#d8576b"
             ],
             [
              0.6666666666666666,
              "#ed7953"
             ],
             [
              0.7777777777777778,
              "#fb9f3a"
             ],
             [
              0.8888888888888888,
              "#fdca26"
             ],
             [
              1,
              "#f0f921"
             ]
            ],
            "type": "contour"
           }
          ],
          "contourcarpet": [
           {
            "colorbar": {
             "outlinewidth": 0,
             "ticks": ""
            },
            "type": "contourcarpet"
           }
          ],
          "heatmap": [
           {
            "colorbar": {
             "outlinewidth": 0,
             "ticks": ""
            },
            "colorscale": [
             [
              0,
              "#0d0887"
             ],
             [
              0.1111111111111111,
              "#46039f"
             ],
             [
              0.2222222222222222,
              "#7201a8"
             ],
             [
              0.3333333333333333,
              "#9c179e"
             ],
             [
              0.4444444444444444,
              "#bd3786"
             ],
             [
              0.5555555555555556,
              "#d8576b"
             ],
             [
              0.6666666666666666,
              "#ed7953"
             ],
             [
              0.7777777777777778,
              "#fb9f3a"
             ],
             [
              0.8888888888888888,
              "#fdca26"
             ],
             [
              1,
              "#f0f921"
             ]
            ],
            "type": "heatmap"
           }
          ],
          "heatmapgl": [
           {
            "colorbar": {
             "outlinewidth": 0,
             "ticks": ""
            },
            "colorscale": [
             [
              0,
              "#0d0887"
             ],
             [
              0.1111111111111111,
              "#46039f"
             ],
             [
              0.2222222222222222,
              "#7201a8"
             ],
             [
              0.3333333333333333,
              "#9c179e"
             ],
             [
              0.4444444444444444,
              "#bd3786"
             ],
             [
              0.5555555555555556,
              "#d8576b"
             ],
             [
              0.6666666666666666,
              "#ed7953"
             ],
             [
              0.7777777777777778,
              "#fb9f3a"
             ],
             [
              0.8888888888888888,
              "#fdca26"
             ],
             [
              1,
              "#f0f921"
             ]
            ],
            "type": "heatmapgl"
           }
          ],
          "histogram": [
           {
            "marker": {
             "pattern": {
              "fillmode": "overlay",
              "size": 10,
              "solidity": 0.2
             }
            },
            "type": "histogram"
           }
          ],
          "histogram2d": [
           {
            "colorbar": {
             "outlinewidth": 0,
             "ticks": ""
            },
            "colorscale": [
             [
              0,
              "#0d0887"
             ],
             [
              0.1111111111111111,
              "#46039f"
             ],
             [
              0.2222222222222222,
              "#7201a8"
             ],
             [
              0.3333333333333333,
              "#9c179e"
             ],
             [
              0.4444444444444444,
              "#bd3786"
             ],
             [
              0.5555555555555556,
              "#d8576b"
             ],
             [
              0.6666666666666666,
              "#ed7953"
             ],
             [
              0.7777777777777778,
              "#fb9f3a"
             ],
             [
              0.8888888888888888,
              "#fdca26"
             ],
             [
              1,
              "#f0f921"
             ]
            ],
            "type": "histogram2d"
           }
          ],
          "histogram2dcontour": [
           {
            "colorbar": {
             "outlinewidth": 0,
             "ticks": ""
            },
            "colorscale": [
             [
              0,
              "#0d0887"
             ],
             [
              0.1111111111111111,
              "#46039f"
             ],
             [
              0.2222222222222222,
              "#7201a8"
             ],
             [
              0.3333333333333333,
              "#9c179e"
             ],
             [
              0.4444444444444444,
              "#bd3786"
             ],
             [
              0.5555555555555556,
              "#d8576b"
             ],
             [
              0.6666666666666666,
              "#ed7953"
             ],
             [
              0.7777777777777778,
              "#fb9f3a"
             ],
             [
              0.8888888888888888,
              "#fdca26"
             ],
             [
              1,
              "#f0f921"
             ]
            ],
            "type": "histogram2dcontour"
           }
          ],
          "mesh3d": [
           {
            "colorbar": {
             "outlinewidth": 0,
             "ticks": ""
            },
            "type": "mesh3d"
           }
          ],
          "parcoords": [
           {
            "line": {
             "colorbar": {
              "outlinewidth": 0,
              "ticks": ""
             }
            },
            "type": "parcoords"
           }
          ],
          "pie": [
           {
            "automargin": true,
            "type": "pie"
           }
          ],
          "scatter": [
           {
            "marker": {
             "colorbar": {
              "outlinewidth": 0,
              "ticks": ""
             }
            },
            "type": "scatter"
           }
          ],
          "scatter3d": [
           {
            "line": {
             "colorbar": {
              "outlinewidth": 0,
              "ticks": ""
             }
            },
            "marker": {
             "colorbar": {
              "outlinewidth": 0,
              "ticks": ""
             }
            },
            "type": "scatter3d"
           }
          ],
          "scattercarpet": [
           {
            "marker": {
             "colorbar": {
              "outlinewidth": 0,
              "ticks": ""
             }
            },
            "type": "scattercarpet"
           }
          ],
          "scattergeo": [
           {
            "marker": {
             "colorbar": {
              "outlinewidth": 0,
              "ticks": ""
             }
            },
            "type": "scattergeo"
           }
          ],
          "scattergl": [
           {
            "marker": {
             "colorbar": {
              "outlinewidth": 0,
              "ticks": ""
             }
            },
            "type": "scattergl"
           }
          ],
          "scattermapbox": [
           {
            "marker": {
             "colorbar": {
              "outlinewidth": 0,
              "ticks": ""
             }
            },
            "type": "scattermapbox"
           }
          ],
          "scatterpolar": [
           {
            "marker": {
             "colorbar": {
              "outlinewidth": 0,
              "ticks": ""
             }
            },
            "type": "scatterpolar"
           }
          ],
          "scatterpolargl": [
           {
            "marker": {
             "colorbar": {
              "outlinewidth": 0,
              "ticks": ""
             }
            },
            "type": "scatterpolargl"
           }
          ],
          "scatterternary": [
           {
            "marker": {
             "colorbar": {
              "outlinewidth": 0,
              "ticks": ""
             }
            },
            "type": "scatterternary"
           }
          ],
          "surface": [
           {
            "colorbar": {
             "outlinewidth": 0,
             "ticks": ""
            },
            "colorscale": [
             [
              0,
              "#0d0887"
             ],
             [
              0.1111111111111111,
              "#46039f"
             ],
             [
              0.2222222222222222,
              "#7201a8"
             ],
             [
              0.3333333333333333,
              "#9c179e"
             ],
             [
              0.4444444444444444,
              "#bd3786"
             ],
             [
              0.5555555555555556,
              "#d8576b"
             ],
             [
              0.6666666666666666,
              "#ed7953"
             ],
             [
              0.7777777777777778,
              "#fb9f3a"
             ],
             [
              0.8888888888888888,
              "#fdca26"
             ],
             [
              1,
              "#f0f921"
             ]
            ],
            "type": "surface"
           }
          ],
          "table": [
           {
            "cells": {
             "fill": {
              "color": "#EBF0F8"
             },
             "line": {
              "color": "white"
             }
            },
            "header": {
             "fill": {
              "color": "#C8D4E3"
             },
             "line": {
              "color": "white"
             }
            },
            "type": "table"
           }
          ]
         },
         "layout": {
          "annotationdefaults": {
           "arrowcolor": "#2a3f5f",
           "arrowhead": 0,
           "arrowwidth": 1
          },
          "autotypenumbers": "strict",
          "coloraxis": {
           "colorbar": {
            "outlinewidth": 0,
            "ticks": ""
           }
          },
          "colorscale": {
           "diverging": [
            [
             0,
             "#8e0152"
            ],
            [
             0.1,
             "#c51b7d"
            ],
            [
             0.2,
             "#de77ae"
            ],
            [
             0.3,
             "#f1b6da"
            ],
            [
             0.4,
             "#fde0ef"
            ],
            [
             0.5,
             "#f7f7f7"
            ],
            [
             0.6,
             "#e6f5d0"
            ],
            [
             0.7,
             "#b8e186"
            ],
            [
             0.8,
             "#7fbc41"
            ],
            [
             0.9,
             "#4d9221"
            ],
            [
             1,
             "#276419"
            ]
           ],
           "sequential": [
            [
             0,
             "#0d0887"
            ],
            [
             0.1111111111111111,
             "#46039f"
            ],
            [
             0.2222222222222222,
             "#7201a8"
            ],
            [
             0.3333333333333333,
             "#9c179e"
            ],
            [
             0.4444444444444444,
             "#bd3786"
            ],
            [
             0.5555555555555556,
             "#d8576b"
            ],
            [
             0.6666666666666666,
             "#ed7953"
            ],
            [
             0.7777777777777778,
             "#fb9f3a"
            ],
            [
             0.8888888888888888,
             "#fdca26"
            ],
            [
             1,
             "#f0f921"
            ]
           ],
           "sequentialminus": [
            [
             0,
             "#0d0887"
            ],
            [
             0.1111111111111111,
             "#46039f"
            ],
            [
             0.2222222222222222,
             "#7201a8"
            ],
            [
             0.3333333333333333,
             "#9c179e"
            ],
            [
             0.4444444444444444,
             "#bd3786"
            ],
            [
             0.5555555555555556,
             "#d8576b"
            ],
            [
             0.6666666666666666,
             "#ed7953"
            ],
            [
             0.7777777777777778,
             "#fb9f3a"
            ],
            [
             0.8888888888888888,
             "#fdca26"
            ],
            [
             1,
             "#f0f921"
            ]
           ]
          },
          "colorway": [
           "#636efa",
           "#EF553B",
           "#00cc96",
           "#ab63fa",
           "#FFA15A",
           "#19d3f3",
           "#FF6692",
           "#B6E880",
           "#FF97FF",
           "#FECB52"
          ],
          "font": {
           "color": "#2a3f5f"
          },
          "geo": {
           "bgcolor": "white",
           "lakecolor": "white",
           "landcolor": "#E5ECF6",
           "showlakes": true,
           "showland": true,
           "subunitcolor": "white"
          },
          "hoverlabel": {
           "align": "left"
          },
          "hovermode": "closest",
          "mapbox": {
           "style": "light"
          },
          "paper_bgcolor": "white",
          "plot_bgcolor": "#E5ECF6",
          "polar": {
           "angularaxis": {
            "gridcolor": "white",
            "linecolor": "white",
            "ticks": ""
           },
           "bgcolor": "#E5ECF6",
           "radialaxis": {
            "gridcolor": "white",
            "linecolor": "white",
            "ticks": ""
           }
          },
          "scene": {
           "xaxis": {
            "backgroundcolor": "#E5ECF6",
            "gridcolor": "white",
            "gridwidth": 2,
            "linecolor": "white",
            "showbackground": true,
            "ticks": "",
            "zerolinecolor": "white"
           },
           "yaxis": {
            "backgroundcolor": "#E5ECF6",
            "gridcolor": "white",
            "gridwidth": 2,
            "linecolor": "white",
            "showbackground": true,
            "ticks": "",
            "zerolinecolor": "white"
           },
           "zaxis": {
            "backgroundcolor": "#E5ECF6",
            "gridcolor": "white",
            "gridwidth": 2,
            "linecolor": "white",
            "showbackground": true,
            "ticks": "",
            "zerolinecolor": "white"
           }
          },
          "shapedefaults": {
           "line": {
            "color": "#2a3f5f"
           }
          },
          "ternary": {
           "aaxis": {
            "gridcolor": "white",
            "linecolor": "white",
            "ticks": ""
           },
           "baxis": {
            "gridcolor": "white",
            "linecolor": "white",
            "ticks": ""
           },
           "bgcolor": "#E5ECF6",
           "caxis": {
            "gridcolor": "white",
            "linecolor": "white",
            "ticks": ""
           }
          },
          "title": {
           "x": 0.05
          },
          "xaxis": {
           "automargin": true,
           "gridcolor": "white",
           "linecolor": "white",
           "ticks": "",
           "title": {
            "standoff": 15
           },
           "zerolinecolor": "white",
           "zerolinewidth": 2
          },
          "yaxis": {
           "automargin": true,
           "gridcolor": "white",
           "linecolor": "white",
           "ticks": "",
           "title": {
            "standoff": 15
           },
           "zerolinecolor": "white",
           "zerolinewidth": 2
          }
         }
        },
        "title": {
         "font": {
          "color": "black",
          "family": "Arial",
          "size": 25
         },
         "x": 0.5,
         "y": 0.87
        },
        "xaxis": {
         "anchor": "y",
         "domain": [
          0,
          1
         ],
         "range": [
          0,
          13
         ],
         "tickfont": {
          "size": 25
         },
         "tickmode": "array",
         "tickvals": [
          1,
          2,
          3,
          4,
          5,
          6,
          7,
          8,
          9,
          10,
          11,
          12
         ],
         "title": {
          "text": "Month"
         }
        },
        "yaxis": {
         "anchor": "x",
         "domain": [
          0,
          1
         ],
         "range": [
          0,
          237000
         ],
         "tickmode": "array",
         "tickvals": [
          0,
          75000,
          150000,
          225000
         ],
         "title": {
          "text": "Total Trips"
         }
        }
       }
      },
      "text/html": [
       "<div>                            <div id=\"d2f04453-bf4a-45f5-a408-c705ebb0e2a6\" class=\"plotly-graph-div\" style=\"height:525px; width:100%;\"></div>            <script type=\"text/javascript\">                require([\"plotly\"], function(Plotly) {                    window.PLOTLYENV=window.PLOTLYENV || {};                                    if (document.getElementById(\"d2f04453-bf4a-45f5-a408-c705ebb0e2a6\")) {                    Plotly.newPlot(                        \"d2f04453-bf4a-45f5-a408-c705ebb0e2a6\",                        [{\"hovertemplate\":\"Year=2019<br>Month=%{x}<br>Total Trips=%{y}<extra></extra>\",\"legendgroup\":\"2019\",\"line\":{\"color\":\"#fcc201\",\"dash\":\"solid\",\"width\":8},\"marker\":{\"size\":12,\"symbol\":\"circle\"},\"mode\":\"markers+lines\",\"name\":\"2019\",\"orientation\":\"v\",\"showlegend\":true,\"type\":\"scatter\",\"x\":[1,2,3,4,5,6,7,8,9,10,11,12],\"xaxis\":\"x\",\"y\":[9340,20147,36086,49516,60293,67830,76160,82262,90869,99705,105479,110423],\"yaxis\":\"y\"},{\"hovertemplate\":\"Year=2020<br>Month=%{x}<br>Total Trips=%{y}<extra></extra>\",\"legendgroup\":\"2020\",\"line\":{\"color\":\"#ff5964\",\"dash\":\"solid\",\"width\":7},\"marker\":{\"size\":12,\"symbol\":\"diamond\"},\"mode\":\"markers+lines\",\"name\":\"2020\",\"orientation\":\"v\",\"showlegend\":true,\"type\":\"scatter\",\"x\":[1,2,3,4,5,6,7,8,9,10,11,12],\"xaxis\":\"x\",\"y\":[4717,10771,17821,22865,32451,42348,50900,60743,72052,83810,94579,102319],\"yaxis\":\"y\"},{\"hovertemplate\":\"Year=2021<br>Month=%{x}<br>Total Trips=%{y}<extra></extra>\",\"legendgroup\":\"2021\",\"line\":{\"color\":\"#38618c\",\"dash\":\"dash\",\"width\":9},\"marker\":{\"size\":12,\"symbol\":\"square\"},\"mode\":\"markers+lines\",\"name\":\"2021\",\"opacity\":0.75,\"orientation\":\"v\",\"showlegend\":true,\"type\":\"scatter\",\"x\":[1,2,3,4,5,6,7,8,9,10,11,12],\"xaxis\":\"x\",\"y\":[10587,17982,34787,51767,69194,84933,100702,117615,146124,180380,205358,223995],\"yaxis\":\"y\"}],                        {\"font\":{\"color\":\"Black\",\"family\":\"Arial\",\"size\":16},\"legend\":{\"title\":{\"text\":\"Year\"},\"tracegroupgap\":0},\"margin\":{\"t\":60},\"showlegend\":true,\"template\":{\"data\":{\"bar\":[{\"error_x\":{\"color\":\"#2a3f5f\"},\"error_y\":{\"color\":\"#2a3f5f\"},\"marker\":{\"line\":{\"color\":\"#E5ECF6\",\"width\":0.5},\"pattern\":{\"fillmode\":\"overlay\",\"size\":10,\"solidity\":0.2}},\"type\":\"bar\"}],\"barpolar\":[{\"marker\":{\"line\":{\"color\":\"#E5ECF6\",\"width\":0.5},\"pattern\":{\"fillmode\":\"overlay\",\"size\":10,\"solidity\":0.2}},\"type\":\"barpolar\"}],\"carpet\":[{\"aaxis\":{\"endlinecolor\":\"#2a3f5f\",\"gridcolor\":\"white\",\"linecolor\":\"white\",\"minorgridcolor\":\"white\",\"startlinecolor\":\"#2a3f5f\"},\"baxis\":{\"endlinecolor\":\"#2a3f5f\",\"gridcolor\":\"white\",\"linecolor\":\"white\",\"minorgridcolor\":\"white\",\"startlinecolor\":\"#2a3f5f\"},\"type\":\"carpet\"}],\"choropleth\":[{\"colorbar\":{\"outlinewidth\":0,\"ticks\":\"\"},\"type\":\"choropleth\"}],\"contour\":[{\"colorbar\":{\"outlinewidth\":0,\"ticks\":\"\"},\"colorscale\":[[0.0,\"#0d0887\"],[0.1111111111111111,\"#46039f\"],[0.2222222222222222,\"#7201a8\"],[0.3333333333333333,\"#9c179e\"],[0.4444444444444444,\"#bd3786\"],[0.5555555555555556,\"#d8576b\"],[0.6666666666666666,\"#ed7953\"],[0.7777777777777778,\"#fb9f3a\"],[0.8888888888888888,\"#fdca26\"],[1.0,\"#f0f921\"]],\"type\":\"contour\"}],\"contourcarpet\":[{\"colorbar\":{\"outlinewidth\":0,\"ticks\":\"\"},\"type\":\"contourcarpet\"}],\"heatmap\":[{\"colorbar\":{\"outlinewidth\":0,\"ticks\":\"\"},\"colorscale\":[[0.0,\"#0d0887\"],[0.1111111111111111,\"#46039f\"],[0.2222222222222222,\"#7201a8\"],[0.3333333333333333,\"#9c179e\"],[0.4444444444444444,\"#bd3786\"],[0.5555555555555556,\"#d8576b\"],[0.6666666666666666,\"#ed7953\"],[0.7777777777777778,\"#fb9f3a\"],[0.8888888888888888,\"#fdca26\"],[1.0,\"#f0f921\"]],\"type\":\"heatmap\"}],\"heatmapgl\":[{\"colorbar\":{\"outlinewidth\":0,\"ticks\":\"\"},\"colorscale\":[[0.0,\"#0d0887\"],[0.1111111111111111,\"#46039f\"],[0.2222222222222222,\"#7201a8\"],[0.3333333333333333,\"#9c179e\"],[0.4444444444444444,\"#bd3786\"],[0.5555555555555556,\"#d8576b\"],[0.6666666666666666,\"#ed7953\"],[0.7777777777777778,\"#fb9f3a\"],[0.8888888888888888,\"#fdca26\"],[1.0,\"#f0f921\"]],\"type\":\"heatmapgl\"}],\"histogram\":[{\"marker\":{\"pattern\":{\"fillmode\":\"overlay\",\"size\":10,\"solidity\":0.2}},\"type\":\"histogram\"}],\"histogram2d\":[{\"colorbar\":{\"outlinewidth\":0,\"ticks\":\"\"},\"colorscale\":[[0.0,\"#0d0887\"],[0.1111111111111111,\"#46039f\"],[0.2222222222222222,\"#7201a8\"],[0.3333333333333333,\"#9c179e\"],[0.4444444444444444,\"#bd3786\"],[0.5555555555555556,\"#d8576b\"],[0.6666666666666666,\"#ed7953\"],[0.7777777777777778,\"#fb9f3a\"],[0.8888888888888888,\"#fdca26\"],[1.0,\"#f0f921\"]],\"type\":\"histogram2d\"}],\"histogram2dcontour\":[{\"colorbar\":{\"outlinewidth\":0,\"ticks\":\"\"},\"colorscale\":[[0.0,\"#0d0887\"],[0.1111111111111111,\"#46039f\"],[0.2222222222222222,\"#7201a8\"],[0.3333333333333333,\"#9c179e\"],[0.4444444444444444,\"#bd3786\"],[0.5555555555555556,\"#d8576b\"],[0.6666666666666666,\"#ed7953\"],[0.7777777777777778,\"#fb9f3a\"],[0.8888888888888888,\"#fdca26\"],[1.0,\"#f0f921\"]],\"type\":\"histogram2dcontour\"}],\"mesh3d\":[{\"colorbar\":{\"outlinewidth\":0,\"ticks\":\"\"},\"type\":\"mesh3d\"}],\"parcoords\":[{\"line\":{\"colorbar\":{\"outlinewidth\":0,\"ticks\":\"\"}},\"type\":\"parcoords\"}],\"pie\":[{\"automargin\":true,\"type\":\"pie\"}],\"scatter\":[{\"marker\":{\"colorbar\":{\"outlinewidth\":0,\"ticks\":\"\"}},\"type\":\"scatter\"}],\"scatter3d\":[{\"line\":{\"colorbar\":{\"outlinewidth\":0,\"ticks\":\"\"}},\"marker\":{\"colorbar\":{\"outlinewidth\":0,\"ticks\":\"\"}},\"type\":\"scatter3d\"}],\"scattercarpet\":[{\"marker\":{\"colorbar\":{\"outlinewidth\":0,\"ticks\":\"\"}},\"type\":\"scattercarpet\"}],\"scattergeo\":[{\"marker\":{\"colorbar\":{\"outlinewidth\":0,\"ticks\":\"\"}},\"type\":\"scattergeo\"}],\"scattergl\":[{\"marker\":{\"colorbar\":{\"outlinewidth\":0,\"ticks\":\"\"}},\"type\":\"scattergl\"}],\"scattermapbox\":[{\"marker\":{\"colorbar\":{\"outlinewidth\":0,\"ticks\":\"\"}},\"type\":\"scattermapbox\"}],\"scatterpolar\":[{\"marker\":{\"colorbar\":{\"outlinewidth\":0,\"ticks\":\"\"}},\"type\":\"scatterpolar\"}],\"scatterpolargl\":[{\"marker\":{\"colorbar\":{\"outlinewidth\":0,\"ticks\":\"\"}},\"type\":\"scatterpolargl\"}],\"scatterternary\":[{\"marker\":{\"colorbar\":{\"outlinewidth\":0,\"ticks\":\"\"}},\"type\":\"scatterternary\"}],\"surface\":[{\"colorbar\":{\"outlinewidth\":0,\"ticks\":\"\"},\"colorscale\":[[0.0,\"#0d0887\"],[0.1111111111111111,\"#46039f\"],[0.2222222222222222,\"#7201a8\"],[0.3333333333333333,\"#9c179e\"],[0.4444444444444444,\"#bd3786\"],[0.5555555555555556,\"#d8576b\"],[0.6666666666666666,\"#ed7953\"],[0.7777777777777778,\"#fb9f3a\"],[0.8888888888888888,\"#fdca26\"],[1.0,\"#f0f921\"]],\"type\":\"surface\"}],\"table\":[{\"cells\":{\"fill\":{\"color\":\"#EBF0F8\"},\"line\":{\"color\":\"white\"}},\"header\":{\"fill\":{\"color\":\"#C8D4E3\"},\"line\":{\"color\":\"white\"}},\"type\":\"table\"}]},\"layout\":{\"annotationdefaults\":{\"arrowcolor\":\"#2a3f5f\",\"arrowhead\":0,\"arrowwidth\":1},\"autotypenumbers\":\"strict\",\"coloraxis\":{\"colorbar\":{\"outlinewidth\":0,\"ticks\":\"\"}},\"colorscale\":{\"diverging\":[[0,\"#8e0152\"],[0.1,\"#c51b7d\"],[0.2,\"#de77ae\"],[0.3,\"#f1b6da\"],[0.4,\"#fde0ef\"],[0.5,\"#f7f7f7\"],[0.6,\"#e6f5d0\"],[0.7,\"#b8e186\"],[0.8,\"#7fbc41\"],[0.9,\"#4d9221\"],[1,\"#276419\"]],\"sequential\":[[0.0,\"#0d0887\"],[0.1111111111111111,\"#46039f\"],[0.2222222222222222,\"#7201a8\"],[0.3333333333333333,\"#9c179e\"],[0.4444444444444444,\"#bd3786\"],[0.5555555555555556,\"#d8576b\"],[0.6666666666666666,\"#ed7953\"],[0.7777777777777778,\"#fb9f3a\"],[0.8888888888888888,\"#fdca26\"],[1.0,\"#f0f921\"]],\"sequentialminus\":[[0.0,\"#0d0887\"],[0.1111111111111111,\"#46039f\"],[0.2222222222222222,\"#7201a8\"],[0.3333333333333333,\"#9c179e\"],[0.4444444444444444,\"#bd3786\"],[0.5555555555555556,\"#d8576b\"],[0.6666666666666666,\"#ed7953\"],[0.7777777777777778,\"#fb9f3a\"],[0.8888888888888888,\"#fdca26\"],[1.0,\"#f0f921\"]]},\"colorway\":[\"#636efa\",\"#EF553B\",\"#00cc96\",\"#ab63fa\",\"#FFA15A\",\"#19d3f3\",\"#FF6692\",\"#B6E880\",\"#FF97FF\",\"#FECB52\"],\"font\":{\"color\":\"#2a3f5f\"},\"geo\":{\"bgcolor\":\"white\",\"lakecolor\":\"white\",\"landcolor\":\"#E5ECF6\",\"showlakes\":true,\"showland\":true,\"subunitcolor\":\"white\"},\"hoverlabel\":{\"align\":\"left\"},\"hovermode\":\"closest\",\"mapbox\":{\"style\":\"light\"},\"paper_bgcolor\":\"white\",\"plot_bgcolor\":\"#E5ECF6\",\"polar\":{\"angularaxis\":{\"gridcolor\":\"white\",\"linecolor\":\"white\",\"ticks\":\"\"},\"bgcolor\":\"#E5ECF6\",\"radialaxis\":{\"gridcolor\":\"white\",\"linecolor\":\"white\",\"ticks\":\"\"}},\"scene\":{\"xaxis\":{\"backgroundcolor\":\"#E5ECF6\",\"gridcolor\":\"white\",\"gridwidth\":2,\"linecolor\":\"white\",\"showbackground\":true,\"ticks\":\"\",\"zerolinecolor\":\"white\"},\"yaxis\":{\"backgroundcolor\":\"#E5ECF6\",\"gridcolor\":\"white\",\"gridwidth\":2,\"linecolor\":\"white\",\"showbackground\":true,\"ticks\":\"\",\"zerolinecolor\":\"white\"},\"zaxis\":{\"backgroundcolor\":\"#E5ECF6\",\"gridcolor\":\"white\",\"gridwidth\":2,\"linecolor\":\"white\",\"showbackground\":true,\"ticks\":\"\",\"zerolinecolor\":\"white\"}},\"shapedefaults\":{\"line\":{\"color\":\"#2a3f5f\"}},\"ternary\":{\"aaxis\":{\"gridcolor\":\"white\",\"linecolor\":\"white\",\"ticks\":\"\"},\"baxis\":{\"gridcolor\":\"white\",\"linecolor\":\"white\",\"ticks\":\"\"},\"bgcolor\":\"#E5ECF6\",\"caxis\":{\"gridcolor\":\"white\",\"linecolor\":\"white\",\"ticks\":\"\"}},\"title\":{\"x\":0.05},\"xaxis\":{\"automargin\":true,\"gridcolor\":\"white\",\"linecolor\":\"white\",\"ticks\":\"\",\"title\":{\"standoff\":15},\"zerolinecolor\":\"white\",\"zerolinewidth\":2},\"yaxis\":{\"automargin\":true,\"gridcolor\":\"white\",\"linecolor\":\"white\",\"ticks\":\"\",\"title\":{\"standoff\":15},\"zerolinecolor\":\"white\",\"zerolinewidth\":2}}},\"title\":{\"font\":{\"color\":\"black\",\"family\":\"Arial\",\"size\":25},\"x\":0.5,\"y\":0.87},\"xaxis\":{\"anchor\":\"y\",\"domain\":[0.0,1.0],\"range\":[0,13],\"tickfont\":{\"size\":25},\"tickmode\":\"array\",\"tickvals\":[1,2,3,4,5,6,7,8,9,10,11,12],\"title\":{\"text\":\"Month\"}},\"yaxis\":{\"anchor\":\"x\",\"domain\":[0.0,1.0],\"range\":[0,237000],\"tickmode\":\"array\",\"tickvals\":[0,75000,150000,225000],\"title\":{\"text\":\"Total Trips\"}}},                        {\"responsive\": true}                    ).then(function(){\n",
       "                            \n",
       "var gd = document.getElementById('d2f04453-bf4a-45f5-a408-c705ebb0e2a6');\n",
       "var x = new MutationObserver(function (mutations, observer) {{\n",
       "        var display = window.getComputedStyle(gd).display;\n",
       "        if (!display || display === 'none') {{\n",
       "            console.log([gd, 'removed!']);\n",
       "            Plotly.purge(gd);\n",
       "            observer.disconnect();\n",
       "        }}\n",
       "}});\n",
       "\n",
       "// Listen for the removal of the full notebook cells\n",
       "var notebookContainer = gd.closest('#notebook-container');\n",
       "if (notebookContainer) {{\n",
       "    x.observe(notebookContainer, {childList: true});\n",
       "}}\n",
       "\n",
       "// Listen for the clearing of the current output cell\n",
       "var outputEl = gd.closest('.output');\n",
       "if (outputEl) {{\n",
       "    x.observe(outputEl, {childList: true});\n",
       "}}\n",
       "\n",
       "                        })                };                });            </script>        </div>"
      ]
     },
     "metadata": {},
     "output_type": "display_data"
    }
   ],
   "source": [
    "fig2 = px.line(trips_months, \n",
    "               x=\"Month\", \n",
    "               y=\"Total Trips By Month\", \n",
    "               color='Year',\n",
    "               labels={\"Total Trips By Month\": \"Total Trips\"},\n",
    "               #title=\"ATX MetroBike Ridership\",\n",
    "               markers=True,\n",
    "               symbol=\"Year\",\n",
    "               line_dash = 'Year')\n",
    "\n",
    "fig2.update_layout(\n",
    "    title=dict(x=0.5,y=0.87), # set title in the center\n",
    "    xaxis_range=[0,13],\n",
    "    yaxis_range=[0,237000],\n",
    "    xaxis = dict(\n",
    "        tickmode = 'array',\n",
    "        tickvals = [1,2,3,4,5,6,7,8,9,10,11,12],\n",
    "    ),\n",
    "    yaxis = dict(\n",
    "        tickmode = 'array',\n",
    "        tickvals = [0,75000,150000,225000],\n",
    "    ),\n",
    "    showlegend=True,\n",
    "    title_font_family=\"Arial\",\n",
    "    title_font_color=\"black\",\n",
    "    title_font_size = 25,\n",
    "    font=dict(\n",
    "        family=\"Arial\",\n",
    "        size=16,\n",
    "        color=\"Black\"\n",
    "    ), \n",
    "    #legend_title_font_color=\"green\"\n",
    ")\n",
    "\n",
    "fig2.update_traces(line=dict(width=5),\n",
    "                  marker={'size': 12})\n",
    "\n",
    "fig2.data[0].line.color = color_2019\n",
    "fig2.data[1].line.color = color_2020\n",
    "fig2.data[2].line.color = color_2021\n",
    "\n",
    "fig2.data[0].line.dash = \"solid\"\n",
    "fig2.data[1].line.dash = \"solid\"\n",
    "fig2.data[2].line.dash = \"dash\"\n",
    "fig2.data[0].line.width = 8\n",
    "fig2.data[1].line.width = 7\n",
    "fig2.data[2].line.width = 9\n",
    "fig2.data[2].opacity = 0.75\n",
    "\n",
    "fig2.update_xaxes(tickfont_size=25)    \n",
    "\n",
    "fig2"
   ]
  },
  {
   "cell_type": "code",
   "execution_count": 17,
   "id": "f3575d7b",
   "metadata": {},
   "outputs": [
    {
     "data": {
      "text/plain": [
       "'https://plotly.com/~flyingcape/13/'"
      ]
     },
     "execution_count": 17,
     "metadata": {},
     "output_type": "execute_result"
    }
   ],
   "source": [
    "import chart_studio\n",
    "username='flyingcape'\n",
    "api_key='NI4xzO3e4BldD5kASCBo'\n",
    "chart_studio.tools.set_credentials_file(username=username,\n",
    "                                        api_key=api_key)\n",
    "\n",
    "import chart_studio.plotly as py\n",
    "\n",
    "py.plot(fig2, filename=\"monthly_fig\", auto_open = True)"
   ]
  },
  {
   "cell_type": "code",
   "execution_count": 18,
   "id": "3832d402",
   "metadata": {},
   "outputs": [
    {
     "data": {
      "text/html": [
       "<div>\n",
       "<style scoped>\n",
       "    .dataframe tbody tr th:only-of-type {\n",
       "        vertical-align: middle;\n",
       "    }\n",
       "\n",
       "    .dataframe tbody tr th {\n",
       "        vertical-align: top;\n",
       "    }\n",
       "\n",
       "    .dataframe thead th {\n",
       "        text-align: right;\n",
       "    }\n",
       "</style>\n",
       "<table border=\"1\" class=\"dataframe\">\n",
       "  <thead>\n",
       "    <tr style=\"text-align: right;\">\n",
       "      <th></th>\n",
       "      <th>Unnamed: 0</th>\n",
       "      <th>Trip ID</th>\n",
       "      <th>Membership Type</th>\n",
       "      <th>Bicycle ID</th>\n",
       "      <th>Bike Type</th>\n",
       "      <th>Checkout Date</th>\n",
       "      <th>Checkout Time</th>\n",
       "      <th>Checkout Kiosk ID</th>\n",
       "      <th>Checkout Kiosk</th>\n",
       "      <th>Return Kiosk ID</th>\n",
       "      <th>Return Kiosk</th>\n",
       "      <th>Trip Duration Minutes</th>\n",
       "      <th>Month</th>\n",
       "      <th>Year</th>\n",
       "      <th>Checkout_Hour</th>\n",
       "      <th>Checkout_Min</th>\n",
       "      <th>Year_2</th>\n",
       "      <th>Month_2</th>\n",
       "      <th>Weekday</th>\n",
       "      <th>Week_of_Year</th>\n",
       "      <th>Day_of_Year</th>\n",
       "      <th>Day_of_Month</th>\n",
       "      <th>Min_of_Day</th>\n",
       "    </tr>\n",
       "  </thead>\n",
       "  <tbody>\n",
       "    <tr>\n",
       "      <th>0</th>\n",
       "      <td>0</td>\n",
       "      <td>9900285854</td>\n",
       "      <td>Annual (San Antonio B-cycle)</td>\n",
       "      <td>207.0</td>\n",
       "      <td>NaN</td>\n",
       "      <td>10/26/2014</td>\n",
       "      <td>13:12:00</td>\n",
       "      <td>2537.0</td>\n",
       "      <td>West &amp; 6th St.</td>\n",
       "      <td>2707.0</td>\n",
       "      <td>Rainey St @ Cummings</td>\n",
       "      <td>76</td>\n",
       "      <td>10.0</td>\n",
       "      <td>2014.0</td>\n",
       "      <td>13</td>\n",
       "      <td>12</td>\n",
       "      <td>2014</td>\n",
       "      <td>10</td>\n",
       "      <td>6</td>\n",
       "      <td>43</td>\n",
       "      <td>299</td>\n",
       "      <td>26</td>\n",
       "      <td>792</td>\n",
       "    </tr>\n",
       "    <tr>\n",
       "      <th>1</th>\n",
       "      <td>1</td>\n",
       "      <td>9900285855</td>\n",
       "      <td>24-Hour Kiosk (Austin B-cycle)</td>\n",
       "      <td>969.0</td>\n",
       "      <td>NaN</td>\n",
       "      <td>10/26/2014</td>\n",
       "      <td>13:12:00</td>\n",
       "      <td>2539.0</td>\n",
       "      <td>Convention Center / 4th St. @ MetroRail</td>\n",
       "      <td>2566.0</td>\n",
       "      <td>Pfluger Bridge @ W 2nd Street</td>\n",
       "      <td>58</td>\n",
       "      <td>10.0</td>\n",
       "      <td>2014.0</td>\n",
       "      <td>13</td>\n",
       "      <td>12</td>\n",
       "      <td>2014</td>\n",
       "      <td>10</td>\n",
       "      <td>6</td>\n",
       "      <td>43</td>\n",
       "      <td>299</td>\n",
       "      <td>26</td>\n",
       "      <td>792</td>\n",
       "    </tr>\n",
       "    <tr>\n",
       "      <th>2</th>\n",
       "      <td>2</td>\n",
       "      <td>9900285856</td>\n",
       "      <td>Annual Membership (Austin B-cycle)</td>\n",
       "      <td>214.0</td>\n",
       "      <td>NaN</td>\n",
       "      <td>10/26/2014</td>\n",
       "      <td>13:12:00</td>\n",
       "      <td>2537.0</td>\n",
       "      <td>West &amp; 6th St.</td>\n",
       "      <td>2496.0</td>\n",
       "      <td>8th &amp; Congress</td>\n",
       "      <td>8</td>\n",
       "      <td>10.0</td>\n",
       "      <td>2014.0</td>\n",
       "      <td>13</td>\n",
       "      <td>12</td>\n",
       "      <td>2014</td>\n",
       "      <td>10</td>\n",
       "      <td>6</td>\n",
       "      <td>43</td>\n",
       "      <td>299</td>\n",
       "      <td>26</td>\n",
       "      <td>792</td>\n",
       "    </tr>\n",
       "    <tr>\n",
       "      <th>3</th>\n",
       "      <td>3</td>\n",
       "      <td>9900285857</td>\n",
       "      <td>24-Hour Kiosk (Austin B-cycle)</td>\n",
       "      <td>745.0</td>\n",
       "      <td>NaN</td>\n",
       "      <td>10/26/2014</td>\n",
       "      <td>13:12:00</td>\n",
       "      <td>2574.0</td>\n",
       "      <td>Zilker Park at Barton Springs &amp; William Barton...</td>\n",
       "      <td>NaN</td>\n",
       "      <td>Zilker Park at Barton Springs &amp; William Barton...</td>\n",
       "      <td>28</td>\n",
       "      <td>10.0</td>\n",
       "      <td>2014.0</td>\n",
       "      <td>13</td>\n",
       "      <td>12</td>\n",
       "      <td>2014</td>\n",
       "      <td>10</td>\n",
       "      <td>6</td>\n",
       "      <td>43</td>\n",
       "      <td>299</td>\n",
       "      <td>26</td>\n",
       "      <td>792</td>\n",
       "    </tr>\n",
       "    <tr>\n",
       "      <th>4</th>\n",
       "      <td>4</td>\n",
       "      <td>9900285858</td>\n",
       "      <td>24-Hour Kiosk (Austin B-cycle)</td>\n",
       "      <td>164.0</td>\n",
       "      <td>NaN</td>\n",
       "      <td>10/26/2014</td>\n",
       "      <td>13:12:00</td>\n",
       "      <td>2538.0</td>\n",
       "      <td>Bullock Museum @ Congress &amp; MLK</td>\n",
       "      <td>NaN</td>\n",
       "      <td>Convention Center/ 3rd &amp; Trinity</td>\n",
       "      <td>15</td>\n",
       "      <td>10.0</td>\n",
       "      <td>2014.0</td>\n",
       "      <td>13</td>\n",
       "      <td>12</td>\n",
       "      <td>2014</td>\n",
       "      <td>10</td>\n",
       "      <td>6</td>\n",
       "      <td>43</td>\n",
       "      <td>299</td>\n",
       "      <td>26</td>\n",
       "      <td>792</td>\n",
       "    </tr>\n",
       "  </tbody>\n",
       "</table>\n",
       "</div>"
      ],
      "text/plain": [
       "   Unnamed: 0     Trip ID                     Membership Type Bicycle ID  \\\n",
       "0           0  9900285854        Annual (San Antonio B-cycle)      207.0   \n",
       "1           1  9900285855      24-Hour Kiosk (Austin B-cycle)      969.0   \n",
       "2           2  9900285856  Annual Membership (Austin B-cycle)      214.0   \n",
       "3           3  9900285857      24-Hour Kiosk (Austin B-cycle)      745.0   \n",
       "4           4  9900285858      24-Hour Kiosk (Austin B-cycle)      164.0   \n",
       "\n",
       "   Bike Type Checkout Date Checkout Time  Checkout Kiosk ID  \\\n",
       "0        NaN    10/26/2014      13:12:00             2537.0   \n",
       "1        NaN    10/26/2014      13:12:00             2539.0   \n",
       "2        NaN    10/26/2014      13:12:00             2537.0   \n",
       "3        NaN    10/26/2014      13:12:00             2574.0   \n",
       "4        NaN    10/26/2014      13:12:00             2538.0   \n",
       "\n",
       "                                      Checkout Kiosk Return Kiosk ID  \\\n",
       "0                                     West & 6th St.          2707.0   \n",
       "1            Convention Center / 4th St. @ MetroRail          2566.0   \n",
       "2                                     West & 6th St.          2496.0   \n",
       "3  Zilker Park at Barton Springs & William Barton...             NaN   \n",
       "4                    Bullock Museum @ Congress & MLK             NaN   \n",
       "\n",
       "                                        Return Kiosk  Trip Duration Minutes  \\\n",
       "0                               Rainey St @ Cummings                     76   \n",
       "1                      Pfluger Bridge @ W 2nd Street                     58   \n",
       "2                                     8th & Congress                      8   \n",
       "3  Zilker Park at Barton Springs & William Barton...                     28   \n",
       "4                   Convention Center/ 3rd & Trinity                     15   \n",
       "\n",
       "   Month    Year  Checkout_Hour  Checkout_Min  Year_2  Month_2  Weekday  \\\n",
       "0   10.0  2014.0             13            12    2014       10        6   \n",
       "1   10.0  2014.0             13            12    2014       10        6   \n",
       "2   10.0  2014.0             13            12    2014       10        6   \n",
       "3   10.0  2014.0             13            12    2014       10        6   \n",
       "4   10.0  2014.0             13            12    2014       10        6   \n",
       "\n",
       "   Week_of_Year  Day_of_Year  Day_of_Month  Min_of_Day  \n",
       "0            43          299            26         792  \n",
       "1            43          299            26         792  \n",
       "2            43          299            26         792  \n",
       "3            43          299            26         792  \n",
       "4            43          299            26         792  "
      ]
     },
     "execution_count": 18,
     "metadata": {},
     "output_type": "execute_result"
    }
   ],
   "source": [
    "trips.head()"
   ]
  },
  {
   "cell_type": "code",
   "execution_count": 19,
   "id": "99df8a6b",
   "metadata": {},
   "outputs": [
    {
     "data": {
      "text/html": [
       "<div>\n",
       "<style scoped>\n",
       "    .dataframe tbody tr th:only-of-type {\n",
       "        vertical-align: middle;\n",
       "    }\n",
       "\n",
       "    .dataframe tbody tr th {\n",
       "        vertical-align: top;\n",
       "    }\n",
       "\n",
       "    .dataframe thead th {\n",
       "        text-align: right;\n",
       "    }\n",
       "</style>\n",
       "<table border=\"1\" class=\"dataframe\">\n",
       "  <thead>\n",
       "    <tr style=\"text-align: right;\">\n",
       "      <th></th>\n",
       "      <th>Checkout_Hour</th>\n",
       "      <th>0</th>\n",
       "    </tr>\n",
       "  </thead>\n",
       "  <tbody>\n",
       "    <tr>\n",
       "      <th>0</th>\n",
       "      <td>0</td>\n",
       "      <td>2606</td>\n",
       "    </tr>\n",
       "    <tr>\n",
       "      <th>1</th>\n",
       "      <td>1</td>\n",
       "      <td>1881</td>\n",
       "    </tr>\n",
       "    <tr>\n",
       "      <th>2</th>\n",
       "      <td>2</td>\n",
       "      <td>1555</td>\n",
       "    </tr>\n",
       "    <tr>\n",
       "      <th>3</th>\n",
       "      <td>3</td>\n",
       "      <td>530</td>\n",
       "    </tr>\n",
       "    <tr>\n",
       "      <th>4</th>\n",
       "      <td>4</td>\n",
       "      <td>328</td>\n",
       "    </tr>\n",
       "    <tr>\n",
       "      <th>5</th>\n",
       "      <td>5</td>\n",
       "      <td>346</td>\n",
       "    </tr>\n",
       "    <tr>\n",
       "      <th>6</th>\n",
       "      <td>6</td>\n",
       "      <td>926</td>\n",
       "    </tr>\n",
       "    <tr>\n",
       "      <th>7</th>\n",
       "      <td>7</td>\n",
       "      <td>3322</td>\n",
       "    </tr>\n",
       "    <tr>\n",
       "      <th>8</th>\n",
       "      <td>8</td>\n",
       "      <td>5335</td>\n",
       "    </tr>\n",
       "    <tr>\n",
       "      <th>9</th>\n",
       "      <td>9</td>\n",
       "      <td>8091</td>\n",
       "    </tr>\n",
       "    <tr>\n",
       "      <th>10</th>\n",
       "      <td>10</td>\n",
       "      <td>11120</td>\n",
       "    </tr>\n",
       "    <tr>\n",
       "      <th>11</th>\n",
       "      <td>11</td>\n",
       "      <td>14194</td>\n",
       "    </tr>\n",
       "    <tr>\n",
       "      <th>12</th>\n",
       "      <td>12</td>\n",
       "      <td>16722</td>\n",
       "    </tr>\n",
       "    <tr>\n",
       "      <th>13</th>\n",
       "      <td>13</td>\n",
       "      <td>17678</td>\n",
       "    </tr>\n",
       "    <tr>\n",
       "      <th>14</th>\n",
       "      <td>14</td>\n",
       "      <td>17217</td>\n",
       "    </tr>\n",
       "    <tr>\n",
       "      <th>15</th>\n",
       "      <td>15</td>\n",
       "      <td>18176</td>\n",
       "    </tr>\n",
       "    <tr>\n",
       "      <th>16</th>\n",
       "      <td>16</td>\n",
       "      <td>18242</td>\n",
       "    </tr>\n",
       "    <tr>\n",
       "      <th>17</th>\n",
       "      <td>17</td>\n",
       "      <td>19098</td>\n",
       "    </tr>\n",
       "    <tr>\n",
       "      <th>18</th>\n",
       "      <td>18</td>\n",
       "      <td>17852</td>\n",
       "    </tr>\n",
       "    <tr>\n",
       "      <th>19</th>\n",
       "      <td>19</td>\n",
       "      <td>15652</td>\n",
       "    </tr>\n",
       "    <tr>\n",
       "      <th>20</th>\n",
       "      <td>20</td>\n",
       "      <td>12296</td>\n",
       "    </tr>\n",
       "    <tr>\n",
       "      <th>21</th>\n",
       "      <td>21</td>\n",
       "      <td>9356</td>\n",
       "    </tr>\n",
       "    <tr>\n",
       "      <th>22</th>\n",
       "      <td>22</td>\n",
       "      <td>6911</td>\n",
       "    </tr>\n",
       "    <tr>\n",
       "      <th>23</th>\n",
       "      <td>23</td>\n",
       "      <td>4561</td>\n",
       "    </tr>\n",
       "  </tbody>\n",
       "</table>\n",
       "</div>"
      ],
      "text/plain": [
       "    Checkout_Hour      0\n",
       "0               0   2606\n",
       "1               1   1881\n",
       "2               2   1555\n",
       "3               3    530\n",
       "4               4    328\n",
       "5               5    346\n",
       "6               6    926\n",
       "7               7   3322\n",
       "8               8   5335\n",
       "9               9   8091\n",
       "10             10  11120\n",
       "11             11  14194\n",
       "12             12  16722\n",
       "13             13  17678\n",
       "14             14  17217\n",
       "15             15  18176\n",
       "16             16  18242\n",
       "17             17  19098\n",
       "18             18  17852\n",
       "19             19  15652\n",
       "20             20  12296\n",
       "21             21   9356\n",
       "22             22   6911\n",
       "23             23   4561"
      ]
     },
     "execution_count": 19,
     "metadata": {},
     "output_type": "execute_result"
    }
   ],
   "source": [
    "trips_2021.groupby(['Checkout_Hour']).size().to_frame().reset_index()"
   ]
  },
  {
   "cell_type": "code",
   "execution_count": null,
   "id": "4f3c9859",
   "metadata": {},
   "outputs": [],
   "source": []
  },
  {
   "cell_type": "code",
   "execution_count": 20,
   "id": "c05a481a",
   "metadata": {},
   "outputs": [
    {
     "data": {
      "application/vnd.plotly.v1+json": {
       "config": {
        "plotlyServerURL": "https://plotly.com"
       },
       "data": [
        {
         "alignmentgroup": "True",
         "hovertemplate": "Hour=%{x}<br>Total Trips=%{y}<extra></extra>",
         "legendgroup": "",
         "marker": {
          "color": "#38618c",
          "pattern": {
           "shape": ""
          }
         },
         "name": "",
         "offsetgroup": "",
         "orientation": "v",
         "showlegend": false,
         "textposition": "auto",
         "type": "bar",
         "x": [
          1,
          2,
          3,
          4,
          5,
          6,
          7,
          8,
          9,
          10,
          11,
          12,
          13,
          14,
          15,
          16,
          17,
          18,
          19,
          20,
          21,
          22,
          23,
          24
         ],
         "xaxis": "x",
         "y": [
          2606,
          1881,
          1555,
          530,
          328,
          346,
          926,
          3322,
          5335,
          8091,
          11120,
          14194,
          16722,
          17678,
          17217,
          18176,
          18242,
          19098,
          17852,
          15652,
          12296,
          9356,
          6911,
          4561
         ],
         "yaxis": "y"
        }
       ],
       "layout": {
        "barmode": "relative",
        "font": {
         "color": "Black",
         "family": "Arial",
         "size": 16
        },
        "legend": {
         "tracegroupgap": 0
        },
        "margin": {
         "t": 60
        },
        "showlegend": false,
        "template": {
         "data": {
          "bar": [
           {
            "error_x": {
             "color": "#2a3f5f"
            },
            "error_y": {
             "color": "#2a3f5f"
            },
            "marker": {
             "line": {
              "color": "#E5ECF6",
              "width": 0.5
             },
             "pattern": {
              "fillmode": "overlay",
              "size": 10,
              "solidity": 0.2
             }
            },
            "type": "bar"
           }
          ],
          "barpolar": [
           {
            "marker": {
             "line": {
              "color": "#E5ECF6",
              "width": 0.5
             },
             "pattern": {
              "fillmode": "overlay",
              "size": 10,
              "solidity": 0.2
             }
            },
            "type": "barpolar"
           }
          ],
          "carpet": [
           {
            "aaxis": {
             "endlinecolor": "#2a3f5f",
             "gridcolor": "white",
             "linecolor": "white",
             "minorgridcolor": "white",
             "startlinecolor": "#2a3f5f"
            },
            "baxis": {
             "endlinecolor": "#2a3f5f",
             "gridcolor": "white",
             "linecolor": "white",
             "minorgridcolor": "white",
             "startlinecolor": "#2a3f5f"
            },
            "type": "carpet"
           }
          ],
          "choropleth": [
           {
            "colorbar": {
             "outlinewidth": 0,
             "ticks": ""
            },
            "type": "choropleth"
           }
          ],
          "contour": [
           {
            "colorbar": {
             "outlinewidth": 0,
             "ticks": ""
            },
            "colorscale": [
             [
              0,
              "#0d0887"
             ],
             [
              0.1111111111111111,
              "#46039f"
             ],
             [
              0.2222222222222222,
              "#7201a8"
             ],
             [
              0.3333333333333333,
              "#9c179e"
             ],
             [
              0.4444444444444444,
              "#bd3786"
             ],
             [
              0.5555555555555556,
              "#d8576b"
             ],
             [
              0.6666666666666666,
              "#ed7953"
             ],
             [
              0.7777777777777778,
              "#fb9f3a"
             ],
             [
              0.8888888888888888,
              "#fdca26"
             ],
             [
              1,
              "#f0f921"
             ]
            ],
            "type": "contour"
           }
          ],
          "contourcarpet": [
           {
            "colorbar": {
             "outlinewidth": 0,
             "ticks": ""
            },
            "type": "contourcarpet"
           }
          ],
          "heatmap": [
           {
            "colorbar": {
             "outlinewidth": 0,
             "ticks": ""
            },
            "colorscale": [
             [
              0,
              "#0d0887"
             ],
             [
              0.1111111111111111,
              "#46039f"
             ],
             [
              0.2222222222222222,
              "#7201a8"
             ],
             [
              0.3333333333333333,
              "#9c179e"
             ],
             [
              0.4444444444444444,
              "#bd3786"
             ],
             [
              0.5555555555555556,
              "#d8576b"
             ],
             [
              0.6666666666666666,
              "#ed7953"
             ],
             [
              0.7777777777777778,
              "#fb9f3a"
             ],
             [
              0.8888888888888888,
              "#fdca26"
             ],
             [
              1,
              "#f0f921"
             ]
            ],
            "type": "heatmap"
           }
          ],
          "heatmapgl": [
           {
            "colorbar": {
             "outlinewidth": 0,
             "ticks": ""
            },
            "colorscale": [
             [
              0,
              "#0d0887"
             ],
             [
              0.1111111111111111,
              "#46039f"
             ],
             [
              0.2222222222222222,
              "#7201a8"
             ],
             [
              0.3333333333333333,
              "#9c179e"
             ],
             [
              0.4444444444444444,
              "#bd3786"
             ],
             [
              0.5555555555555556,
              "#d8576b"
             ],
             [
              0.6666666666666666,
              "#ed7953"
             ],
             [
              0.7777777777777778,
              "#fb9f3a"
             ],
             [
              0.8888888888888888,
              "#fdca26"
             ],
             [
              1,
              "#f0f921"
             ]
            ],
            "type": "heatmapgl"
           }
          ],
          "histogram": [
           {
            "marker": {
             "pattern": {
              "fillmode": "overlay",
              "size": 10,
              "solidity": 0.2
             }
            },
            "type": "histogram"
           }
          ],
          "histogram2d": [
           {
            "colorbar": {
             "outlinewidth": 0,
             "ticks": ""
            },
            "colorscale": [
             [
              0,
              "#0d0887"
             ],
             [
              0.1111111111111111,
              "#46039f"
             ],
             [
              0.2222222222222222,
              "#7201a8"
             ],
             [
              0.3333333333333333,
              "#9c179e"
             ],
             [
              0.4444444444444444,
              "#bd3786"
             ],
             [
              0.5555555555555556,
              "#d8576b"
             ],
             [
              0.6666666666666666,
              "#ed7953"
             ],
             [
              0.7777777777777778,
              "#fb9f3a"
             ],
             [
              0.8888888888888888,
              "#fdca26"
             ],
             [
              1,
              "#f0f921"
             ]
            ],
            "type": "histogram2d"
           }
          ],
          "histogram2dcontour": [
           {
            "colorbar": {
             "outlinewidth": 0,
             "ticks": ""
            },
            "colorscale": [
             [
              0,
              "#0d0887"
             ],
             [
              0.1111111111111111,
              "#46039f"
             ],
             [
              0.2222222222222222,
              "#7201a8"
             ],
             [
              0.3333333333333333,
              "#9c179e"
             ],
             [
              0.4444444444444444,
              "#bd3786"
             ],
             [
              0.5555555555555556,
              "#d8576b"
             ],
             [
              0.6666666666666666,
              "#ed7953"
             ],
             [
              0.7777777777777778,
              "#fb9f3a"
             ],
             [
              0.8888888888888888,
              "#fdca26"
             ],
             [
              1,
              "#f0f921"
             ]
            ],
            "type": "histogram2dcontour"
           }
          ],
          "mesh3d": [
           {
            "colorbar": {
             "outlinewidth": 0,
             "ticks": ""
            },
            "type": "mesh3d"
           }
          ],
          "parcoords": [
           {
            "line": {
             "colorbar": {
              "outlinewidth": 0,
              "ticks": ""
             }
            },
            "type": "parcoords"
           }
          ],
          "pie": [
           {
            "automargin": true,
            "type": "pie"
           }
          ],
          "scatter": [
           {
            "marker": {
             "colorbar": {
              "outlinewidth": 0,
              "ticks": ""
             }
            },
            "type": "scatter"
           }
          ],
          "scatter3d": [
           {
            "line": {
             "colorbar": {
              "outlinewidth": 0,
              "ticks": ""
             }
            },
            "marker": {
             "colorbar": {
              "outlinewidth": 0,
              "ticks": ""
             }
            },
            "type": "scatter3d"
           }
          ],
          "scattercarpet": [
           {
            "marker": {
             "colorbar": {
              "outlinewidth": 0,
              "ticks": ""
             }
            },
            "type": "scattercarpet"
           }
          ],
          "scattergeo": [
           {
            "marker": {
             "colorbar": {
              "outlinewidth": 0,
              "ticks": ""
             }
            },
            "type": "scattergeo"
           }
          ],
          "scattergl": [
           {
            "marker": {
             "colorbar": {
              "outlinewidth": 0,
              "ticks": ""
             }
            },
            "type": "scattergl"
           }
          ],
          "scattermapbox": [
           {
            "marker": {
             "colorbar": {
              "outlinewidth": 0,
              "ticks": ""
             }
            },
            "type": "scattermapbox"
           }
          ],
          "scatterpolar": [
           {
            "marker": {
             "colorbar": {
              "outlinewidth": 0,
              "ticks": ""
             }
            },
            "type": "scatterpolar"
           }
          ],
          "scatterpolargl": [
           {
            "marker": {
             "colorbar": {
              "outlinewidth": 0,
              "ticks": ""
             }
            },
            "type": "scatterpolargl"
           }
          ],
          "scatterternary": [
           {
            "marker": {
             "colorbar": {
              "outlinewidth": 0,
              "ticks": ""
             }
            },
            "type": "scatterternary"
           }
          ],
          "surface": [
           {
            "colorbar": {
             "outlinewidth": 0,
             "ticks": ""
            },
            "colorscale": [
             [
              0,
              "#0d0887"
             ],
             [
              0.1111111111111111,
              "#46039f"
             ],
             [
              0.2222222222222222,
              "#7201a8"
             ],
             [
              0.3333333333333333,
              "#9c179e"
             ],
             [
              0.4444444444444444,
              "#bd3786"
             ],
             [
              0.5555555555555556,
              "#d8576b"
             ],
             [
              0.6666666666666666,
              "#ed7953"
             ],
             [
              0.7777777777777778,
              "#fb9f3a"
             ],
             [
              0.8888888888888888,
              "#fdca26"
             ],
             [
              1,
              "#f0f921"
             ]
            ],
            "type": "surface"
           }
          ],
          "table": [
           {
            "cells": {
             "fill": {
              "color": "#EBF0F8"
             },
             "line": {
              "color": "white"
             }
            },
            "header": {
             "fill": {
              "color": "#C8D4E3"
             },
             "line": {
              "color": "white"
             }
            },
            "type": "table"
           }
          ]
         },
         "layout": {
          "annotationdefaults": {
           "arrowcolor": "#2a3f5f",
           "arrowhead": 0,
           "arrowwidth": 1
          },
          "autotypenumbers": "strict",
          "coloraxis": {
           "colorbar": {
            "outlinewidth": 0,
            "ticks": ""
           }
          },
          "colorscale": {
           "diverging": [
            [
             0,
             "#8e0152"
            ],
            [
             0.1,
             "#c51b7d"
            ],
            [
             0.2,
             "#de77ae"
            ],
            [
             0.3,
             "#f1b6da"
            ],
            [
             0.4,
             "#fde0ef"
            ],
            [
             0.5,
             "#f7f7f7"
            ],
            [
             0.6,
             "#e6f5d0"
            ],
            [
             0.7,
             "#b8e186"
            ],
            [
             0.8,
             "#7fbc41"
            ],
            [
             0.9,
             "#4d9221"
            ],
            [
             1,
             "#276419"
            ]
           ],
           "sequential": [
            [
             0,
             "#0d0887"
            ],
            [
             0.1111111111111111,
             "#46039f"
            ],
            [
             0.2222222222222222,
             "#7201a8"
            ],
            [
             0.3333333333333333,
             "#9c179e"
            ],
            [
             0.4444444444444444,
             "#bd3786"
            ],
            [
             0.5555555555555556,
             "#d8576b"
            ],
            [
             0.6666666666666666,
             "#ed7953"
            ],
            [
             0.7777777777777778,
             "#fb9f3a"
            ],
            [
             0.8888888888888888,
             "#fdca26"
            ],
            [
             1,
             "#f0f921"
            ]
           ],
           "sequentialminus": [
            [
             0,
             "#0d0887"
            ],
            [
             0.1111111111111111,
             "#46039f"
            ],
            [
             0.2222222222222222,
             "#7201a8"
            ],
            [
             0.3333333333333333,
             "#9c179e"
            ],
            [
             0.4444444444444444,
             "#bd3786"
            ],
            [
             0.5555555555555556,
             "#d8576b"
            ],
            [
             0.6666666666666666,
             "#ed7953"
            ],
            [
             0.7777777777777778,
             "#fb9f3a"
            ],
            [
             0.8888888888888888,
             "#fdca26"
            ],
            [
             1,
             "#f0f921"
            ]
           ]
          },
          "colorway": [
           "#636efa",
           "#EF553B",
           "#00cc96",
           "#ab63fa",
           "#FFA15A",
           "#19d3f3",
           "#FF6692",
           "#B6E880",
           "#FF97FF",
           "#FECB52"
          ],
          "font": {
           "color": "#2a3f5f"
          },
          "geo": {
           "bgcolor": "white",
           "lakecolor": "white",
           "landcolor": "#E5ECF6",
           "showlakes": true,
           "showland": true,
           "subunitcolor": "white"
          },
          "hoverlabel": {
           "align": "left"
          },
          "hovermode": "closest",
          "mapbox": {
           "style": "light"
          },
          "paper_bgcolor": "white",
          "plot_bgcolor": "#E5ECF6",
          "polar": {
           "angularaxis": {
            "gridcolor": "white",
            "linecolor": "white",
            "ticks": ""
           },
           "bgcolor": "#E5ECF6",
           "radialaxis": {
            "gridcolor": "white",
            "linecolor": "white",
            "ticks": ""
           }
          },
          "scene": {
           "xaxis": {
            "backgroundcolor": "#E5ECF6",
            "gridcolor": "white",
            "gridwidth": 2,
            "linecolor": "white",
            "showbackground": true,
            "ticks": "",
            "zerolinecolor": "white"
           },
           "yaxis": {
            "backgroundcolor": "#E5ECF6",
            "gridcolor": "white",
            "gridwidth": 2,
            "linecolor": "white",
            "showbackground": true,
            "ticks": "",
            "zerolinecolor": "white"
           },
           "zaxis": {
            "backgroundcolor": "#E5ECF6",
            "gridcolor": "white",
            "gridwidth": 2,
            "linecolor": "white",
            "showbackground": true,
            "ticks": "",
            "zerolinecolor": "white"
           }
          },
          "shapedefaults": {
           "line": {
            "color": "#2a3f5f"
           }
          },
          "ternary": {
           "aaxis": {
            "gridcolor": "white",
            "linecolor": "white",
            "ticks": ""
           },
           "baxis": {
            "gridcolor": "white",
            "linecolor": "white",
            "ticks": ""
           },
           "bgcolor": "#E5ECF6",
           "caxis": {
            "gridcolor": "white",
            "linecolor": "white",
            "ticks": ""
           }
          },
          "title": {
           "x": 0.05
          },
          "xaxis": {
           "automargin": true,
           "gridcolor": "white",
           "linecolor": "white",
           "ticks": "",
           "title": {
            "standoff": 15
           },
           "zerolinecolor": "white",
           "zerolinewidth": 2
          },
          "yaxis": {
           "automargin": true,
           "gridcolor": "white",
           "linecolor": "white",
           "ticks": "",
           "title": {
            "standoff": 15
           },
           "zerolinecolor": "white",
           "zerolinewidth": 2
          }
         }
        },
        "title": {
         "font": {
          "color": "black",
          "family": "Arial",
          "size": 25
         }
        },
        "xaxis": {
         "anchor": "y",
         "domain": [
          0,
          1
         ],
         "range": [
          0,
          25
         ],
         "tickmode": "array",
         "tickvals": [
          1,
          2,
          3,
          4,
          5,
          6,
          7,
          8,
          9,
          10,
          11,
          12,
          13,
          14,
          15,
          16,
          17,
          18,
          19,
          20,
          21,
          22,
          23,
          24
         ],
         "title": {
          "text": "Hour"
         }
        },
        "yaxis": {
         "anchor": "x",
         "domain": [
          0,
          1
         ],
         "title": {
          "text": "Total Trips"
         }
        }
       }
      },
      "text/html": [
       "<div>                            <div id=\"c45d3875-bdd5-4c1a-8866-3c8e6d105fe8\" class=\"plotly-graph-div\" style=\"height:525px; width:100%;\"></div>            <script type=\"text/javascript\">                require([\"plotly\"], function(Plotly) {                    window.PLOTLYENV=window.PLOTLYENV || {};                                    if (document.getElementById(\"c45d3875-bdd5-4c1a-8866-3c8e6d105fe8\")) {                    Plotly.newPlot(                        \"c45d3875-bdd5-4c1a-8866-3c8e6d105fe8\",                        [{\"alignmentgroup\":\"True\",\"hovertemplate\":\"Hour=%{x}<br>Total Trips=%{y}<extra></extra>\",\"legendgroup\":\"\",\"marker\":{\"color\":\"#38618c\",\"pattern\":{\"shape\":\"\"}},\"name\":\"\",\"offsetgroup\":\"\",\"orientation\":\"v\",\"showlegend\":false,\"textposition\":\"auto\",\"type\":\"bar\",\"x\":[1,2,3,4,5,6,7,8,9,10,11,12,13,14,15,16,17,18,19,20,21,22,23,24],\"xaxis\":\"x\",\"y\":[2606,1881,1555,530,328,346,926,3322,5335,8091,11120,14194,16722,17678,17217,18176,18242,19098,17852,15652,12296,9356,6911,4561],\"yaxis\":\"y\"}],                        {\"barmode\":\"relative\",\"font\":{\"color\":\"Black\",\"family\":\"Arial\",\"size\":16},\"legend\":{\"tracegroupgap\":0},\"margin\":{\"t\":60},\"showlegend\":false,\"template\":{\"data\":{\"bar\":[{\"error_x\":{\"color\":\"#2a3f5f\"},\"error_y\":{\"color\":\"#2a3f5f\"},\"marker\":{\"line\":{\"color\":\"#E5ECF6\",\"width\":0.5},\"pattern\":{\"fillmode\":\"overlay\",\"size\":10,\"solidity\":0.2}},\"type\":\"bar\"}],\"barpolar\":[{\"marker\":{\"line\":{\"color\":\"#E5ECF6\",\"width\":0.5},\"pattern\":{\"fillmode\":\"overlay\",\"size\":10,\"solidity\":0.2}},\"type\":\"barpolar\"}],\"carpet\":[{\"aaxis\":{\"endlinecolor\":\"#2a3f5f\",\"gridcolor\":\"white\",\"linecolor\":\"white\",\"minorgridcolor\":\"white\",\"startlinecolor\":\"#2a3f5f\"},\"baxis\":{\"endlinecolor\":\"#2a3f5f\",\"gridcolor\":\"white\",\"linecolor\":\"white\",\"minorgridcolor\":\"white\",\"startlinecolor\":\"#2a3f5f\"},\"type\":\"carpet\"}],\"choropleth\":[{\"colorbar\":{\"outlinewidth\":0,\"ticks\":\"\"},\"type\":\"choropleth\"}],\"contour\":[{\"colorbar\":{\"outlinewidth\":0,\"ticks\":\"\"},\"colorscale\":[[0.0,\"#0d0887\"],[0.1111111111111111,\"#46039f\"],[0.2222222222222222,\"#7201a8\"],[0.3333333333333333,\"#9c179e\"],[0.4444444444444444,\"#bd3786\"],[0.5555555555555556,\"#d8576b\"],[0.6666666666666666,\"#ed7953\"],[0.7777777777777778,\"#fb9f3a\"],[0.8888888888888888,\"#fdca26\"],[1.0,\"#f0f921\"]],\"type\":\"contour\"}],\"contourcarpet\":[{\"colorbar\":{\"outlinewidth\":0,\"ticks\":\"\"},\"type\":\"contourcarpet\"}],\"heatmap\":[{\"colorbar\":{\"outlinewidth\":0,\"ticks\":\"\"},\"colorscale\":[[0.0,\"#0d0887\"],[0.1111111111111111,\"#46039f\"],[0.2222222222222222,\"#7201a8\"],[0.3333333333333333,\"#9c179e\"],[0.4444444444444444,\"#bd3786\"],[0.5555555555555556,\"#d8576b\"],[0.6666666666666666,\"#ed7953\"],[0.7777777777777778,\"#fb9f3a\"],[0.8888888888888888,\"#fdca26\"],[1.0,\"#f0f921\"]],\"type\":\"heatmap\"}],\"heatmapgl\":[{\"colorbar\":{\"outlinewidth\":0,\"ticks\":\"\"},\"colorscale\":[[0.0,\"#0d0887\"],[0.1111111111111111,\"#46039f\"],[0.2222222222222222,\"#7201a8\"],[0.3333333333333333,\"#9c179e\"],[0.4444444444444444,\"#bd3786\"],[0.5555555555555556,\"#d8576b\"],[0.6666666666666666,\"#ed7953\"],[0.7777777777777778,\"#fb9f3a\"],[0.8888888888888888,\"#fdca26\"],[1.0,\"#f0f921\"]],\"type\":\"heatmapgl\"}],\"histogram\":[{\"marker\":{\"pattern\":{\"fillmode\":\"overlay\",\"size\":10,\"solidity\":0.2}},\"type\":\"histogram\"}],\"histogram2d\":[{\"colorbar\":{\"outlinewidth\":0,\"ticks\":\"\"},\"colorscale\":[[0.0,\"#0d0887\"],[0.1111111111111111,\"#46039f\"],[0.2222222222222222,\"#7201a8\"],[0.3333333333333333,\"#9c179e\"],[0.4444444444444444,\"#bd3786\"],[0.5555555555555556,\"#d8576b\"],[0.6666666666666666,\"#ed7953\"],[0.7777777777777778,\"#fb9f3a\"],[0.8888888888888888,\"#fdca26\"],[1.0,\"#f0f921\"]],\"type\":\"histogram2d\"}],\"histogram2dcontour\":[{\"colorbar\":{\"outlinewidth\":0,\"ticks\":\"\"},\"colorscale\":[[0.0,\"#0d0887\"],[0.1111111111111111,\"#46039f\"],[0.2222222222222222,\"#7201a8\"],[0.3333333333333333,\"#9c179e\"],[0.4444444444444444,\"#bd3786\"],[0.5555555555555556,\"#d8576b\"],[0.6666666666666666,\"#ed7953\"],[0.7777777777777778,\"#fb9f3a\"],[0.8888888888888888,\"#fdca26\"],[1.0,\"#f0f921\"]],\"type\":\"histogram2dcontour\"}],\"mesh3d\":[{\"colorbar\":{\"outlinewidth\":0,\"ticks\":\"\"},\"type\":\"mesh3d\"}],\"parcoords\":[{\"line\":{\"colorbar\":{\"outlinewidth\":0,\"ticks\":\"\"}},\"type\":\"parcoords\"}],\"pie\":[{\"automargin\":true,\"type\":\"pie\"}],\"scatter\":[{\"marker\":{\"colorbar\":{\"outlinewidth\":0,\"ticks\":\"\"}},\"type\":\"scatter\"}],\"scatter3d\":[{\"line\":{\"colorbar\":{\"outlinewidth\":0,\"ticks\":\"\"}},\"marker\":{\"colorbar\":{\"outlinewidth\":0,\"ticks\":\"\"}},\"type\":\"scatter3d\"}],\"scattercarpet\":[{\"marker\":{\"colorbar\":{\"outlinewidth\":0,\"ticks\":\"\"}},\"type\":\"scattercarpet\"}],\"scattergeo\":[{\"marker\":{\"colorbar\":{\"outlinewidth\":0,\"ticks\":\"\"}},\"type\":\"scattergeo\"}],\"scattergl\":[{\"marker\":{\"colorbar\":{\"outlinewidth\":0,\"ticks\":\"\"}},\"type\":\"scattergl\"}],\"scattermapbox\":[{\"marker\":{\"colorbar\":{\"outlinewidth\":0,\"ticks\":\"\"}},\"type\":\"scattermapbox\"}],\"scatterpolar\":[{\"marker\":{\"colorbar\":{\"outlinewidth\":0,\"ticks\":\"\"}},\"type\":\"scatterpolar\"}],\"scatterpolargl\":[{\"marker\":{\"colorbar\":{\"outlinewidth\":0,\"ticks\":\"\"}},\"type\":\"scatterpolargl\"}],\"scatterternary\":[{\"marker\":{\"colorbar\":{\"outlinewidth\":0,\"ticks\":\"\"}},\"type\":\"scatterternary\"}],\"surface\":[{\"colorbar\":{\"outlinewidth\":0,\"ticks\":\"\"},\"colorscale\":[[0.0,\"#0d0887\"],[0.1111111111111111,\"#46039f\"],[0.2222222222222222,\"#7201a8\"],[0.3333333333333333,\"#9c179e\"],[0.4444444444444444,\"#bd3786\"],[0.5555555555555556,\"#d8576b\"],[0.6666666666666666,\"#ed7953\"],[0.7777777777777778,\"#fb9f3a\"],[0.8888888888888888,\"#fdca26\"],[1.0,\"#f0f921\"]],\"type\":\"surface\"}],\"table\":[{\"cells\":{\"fill\":{\"color\":\"#EBF0F8\"},\"line\":{\"color\":\"white\"}},\"header\":{\"fill\":{\"color\":\"#C8D4E3\"},\"line\":{\"color\":\"white\"}},\"type\":\"table\"}]},\"layout\":{\"annotationdefaults\":{\"arrowcolor\":\"#2a3f5f\",\"arrowhead\":0,\"arrowwidth\":1},\"autotypenumbers\":\"strict\",\"coloraxis\":{\"colorbar\":{\"outlinewidth\":0,\"ticks\":\"\"}},\"colorscale\":{\"diverging\":[[0,\"#8e0152\"],[0.1,\"#c51b7d\"],[0.2,\"#de77ae\"],[0.3,\"#f1b6da\"],[0.4,\"#fde0ef\"],[0.5,\"#f7f7f7\"],[0.6,\"#e6f5d0\"],[0.7,\"#b8e186\"],[0.8,\"#7fbc41\"],[0.9,\"#4d9221\"],[1,\"#276419\"]],\"sequential\":[[0.0,\"#0d0887\"],[0.1111111111111111,\"#46039f\"],[0.2222222222222222,\"#7201a8\"],[0.3333333333333333,\"#9c179e\"],[0.4444444444444444,\"#bd3786\"],[0.5555555555555556,\"#d8576b\"],[0.6666666666666666,\"#ed7953\"],[0.7777777777777778,\"#fb9f3a\"],[0.8888888888888888,\"#fdca26\"],[1.0,\"#f0f921\"]],\"sequentialminus\":[[0.0,\"#0d0887\"],[0.1111111111111111,\"#46039f\"],[0.2222222222222222,\"#7201a8\"],[0.3333333333333333,\"#9c179e\"],[0.4444444444444444,\"#bd3786\"],[0.5555555555555556,\"#d8576b\"],[0.6666666666666666,\"#ed7953\"],[0.7777777777777778,\"#fb9f3a\"],[0.8888888888888888,\"#fdca26\"],[1.0,\"#f0f921\"]]},\"colorway\":[\"#636efa\",\"#EF553B\",\"#00cc96\",\"#ab63fa\",\"#FFA15A\",\"#19d3f3\",\"#FF6692\",\"#B6E880\",\"#FF97FF\",\"#FECB52\"],\"font\":{\"color\":\"#2a3f5f\"},\"geo\":{\"bgcolor\":\"white\",\"lakecolor\":\"white\",\"landcolor\":\"#E5ECF6\",\"showlakes\":true,\"showland\":true,\"subunitcolor\":\"white\"},\"hoverlabel\":{\"align\":\"left\"},\"hovermode\":\"closest\",\"mapbox\":{\"style\":\"light\"},\"paper_bgcolor\":\"white\",\"plot_bgcolor\":\"#E5ECF6\",\"polar\":{\"angularaxis\":{\"gridcolor\":\"white\",\"linecolor\":\"white\",\"ticks\":\"\"},\"bgcolor\":\"#E5ECF6\",\"radialaxis\":{\"gridcolor\":\"white\",\"linecolor\":\"white\",\"ticks\":\"\"}},\"scene\":{\"xaxis\":{\"backgroundcolor\":\"#E5ECF6\",\"gridcolor\":\"white\",\"gridwidth\":2,\"linecolor\":\"white\",\"showbackground\":true,\"ticks\":\"\",\"zerolinecolor\":\"white\"},\"yaxis\":{\"backgroundcolor\":\"#E5ECF6\",\"gridcolor\":\"white\",\"gridwidth\":2,\"linecolor\":\"white\",\"showbackground\":true,\"ticks\":\"\",\"zerolinecolor\":\"white\"},\"zaxis\":{\"backgroundcolor\":\"#E5ECF6\",\"gridcolor\":\"white\",\"gridwidth\":2,\"linecolor\":\"white\",\"showbackground\":true,\"ticks\":\"\",\"zerolinecolor\":\"white\"}},\"shapedefaults\":{\"line\":{\"color\":\"#2a3f5f\"}},\"ternary\":{\"aaxis\":{\"gridcolor\":\"white\",\"linecolor\":\"white\",\"ticks\":\"\"},\"baxis\":{\"gridcolor\":\"white\",\"linecolor\":\"white\",\"ticks\":\"\"},\"bgcolor\":\"#E5ECF6\",\"caxis\":{\"gridcolor\":\"white\",\"linecolor\":\"white\",\"ticks\":\"\"}},\"title\":{\"x\":0.05},\"xaxis\":{\"automargin\":true,\"gridcolor\":\"white\",\"linecolor\":\"white\",\"ticks\":\"\",\"title\":{\"standoff\":15},\"zerolinecolor\":\"white\",\"zerolinewidth\":2},\"yaxis\":{\"automargin\":true,\"gridcolor\":\"white\",\"linecolor\":\"white\",\"ticks\":\"\",\"title\":{\"standoff\":15},\"zerolinecolor\":\"white\",\"zerolinewidth\":2}}},\"title\":{\"font\":{\"color\":\"black\",\"family\":\"Arial\",\"size\":25}},\"xaxis\":{\"anchor\":\"y\",\"domain\":[0.0,1.0],\"range\":[0,25],\"tickmode\":\"array\",\"tickvals\":[1,2,3,4,5,6,7,8,9,10,11,12,13,14,15,16,17,18,19,20,21,22,23,24],\"title\":{\"text\":\"Hour\"}},\"yaxis\":{\"anchor\":\"x\",\"domain\":[0.0,1.0],\"title\":{\"text\":\"Total Trips\"}}},                        {\"responsive\": true}                    ).then(function(){\n",
       "                            \n",
       "var gd = document.getElementById('c45d3875-bdd5-4c1a-8866-3c8e6d105fe8');\n",
       "var x = new MutationObserver(function (mutations, observer) {{\n",
       "        var display = window.getComputedStyle(gd).display;\n",
       "        if (!display || display === 'none') {{\n",
       "            console.log([gd, 'removed!']);\n",
       "            Plotly.purge(gd);\n",
       "            observer.disconnect();\n",
       "        }}\n",
       "}});\n",
       "\n",
       "// Listen for the removal of the full notebook cells\n",
       "var notebookContainer = gd.closest('#notebook-container');\n",
       "if (notebookContainer) {{\n",
       "    x.observe(notebookContainer, {childList: true});\n",
       "}}\n",
       "\n",
       "// Listen for the clearing of the current output cell\n",
       "var outputEl = gd.closest('.output');\n",
       "if (outputEl) {{\n",
       "    x.observe(outputEl, {childList: true});\n",
       "}}\n",
       "\n",
       "                        })                };                });            </script>        </div>"
      ]
     },
     "metadata": {},
     "output_type": "display_data"
    }
   ],
   "source": [
    "hours_color = [color_2021]*24\n",
    "\n",
    "fig4 = px.bar(\n",
    "    trips_2021, #dataframe\n",
    "    x=[list(range(1,25))], # x\n",
    "    y=trips_2021.groupby(['Checkout_Hour']).size(),#y\n",
    "    labels={\"value\": \"Hour\", \"y\": \"Total Trips\"}, \n",
    "    color=hours_color,\n",
    "    color_discrete_map=\"identity\",\n",
    "    orientation=\"v\"  \n",
    ")\n",
    "  \n",
    "fig4.update_layout(\n",
    "    xaxis_range=[0,25],\n",
    "    # yaxis_range=[0,237000],\n",
    "    xaxis = dict(\n",
    "        tickmode = 'array',\n",
    "        tickvals = [1,2,3,4,5,6,7,8,9,10,11,12,13,14,15,16,17,18,19,20,21,22,23,24],\n",
    "    ),\n",
    "    #yaxis = dict(\n",
    "    #    tickmode = 'array',\n",
    "    #    tickvals = [0,75000,150000,225000],\n",
    "    #),\n",
    "    showlegend=False,\n",
    "    title_font_family=\"Arial\",\n",
    "    title_font_color=\"black\",\n",
    "    title_font_size = 25,\n",
    "    font=dict(\n",
    "        family=\"Arial\",\n",
    "        size=16,\n",
    "        color=\"Black\"\n",
    "    ), \n",
    "    #legend_title_font_color=\"green\"\n",
    ")\n",
    "fig4"
   ]
  },
  {
   "cell_type": "code",
   "execution_count": 21,
   "id": "af259a3f",
   "metadata": {},
   "outputs": [],
   "source": [
    "#!datapane login --token=9a31775255945a53b4df2d5496934bbd5123f80c\n",
    "\n",
    "#import datapane as dp \n",
    "\n",
    "#dp.Report(\n",
    "#    dp.Plot(fig2),\n",
    "#).upload(name=\"fig2\")"
   ]
  },
  {
   "cell_type": "markdown",
   "id": "83e47a67",
   "metadata": {},
   "source": [
    "# Figure 5"
   ]
  },
  {
   "cell_type": "code",
   "execution_count": 22,
   "id": "31dfac5b",
   "metadata": {},
   "outputs": [
    {
     "data": {
      "text/plain": [
       "Student Membership               0.245145\n",
       "Local365                         0.229960\n",
       "Local31                          0.164469\n",
       "24 Hour Walk Up Pass             0.081337\n",
       "Explorer                         0.072274\n",
       "Pay-as-you-ride                  0.071055\n",
       "Single Trip (Pay-as-you-ride)    0.062166\n",
       "3-Day Weekender                  0.053446\n",
       "U.T. Student Membership          0.018626\n",
       "Local365+Guest Pass              0.001170\n",
       "Annual                           0.000205\n",
       "Annual Membership                0.000125\n",
       "Heartland Pass (Annual Pay)      0.000013\n",
       "Single Trip Ride                 0.000009\n",
       "Name: Membership Type, dtype: float64"
      ]
     },
     "execution_count": 22,
     "metadata": {},
     "output_type": "execute_result"
    }
   ],
   "source": [
    "trips_2021['Membership Type'].value_counts(normalize=True)"
   ]
  },
  {
   "cell_type": "code",
   "execution_count": 23,
   "id": "0933593c",
   "metadata": {},
   "outputs": [
    {
     "name": "stderr",
     "output_type": "stream",
     "text": [
      "<ipython-input-23-028f2c9ef30e>:17: SettingWithCopyWarning:\n",
      "\n",
      "\n",
      "A value is trying to be set on a copy of a slice from a DataFrame.\n",
      "Try using .loc[row_indexer,col_indexer] = value instead\n",
      "\n",
      "See the caveats in the documentation: https://pandas.pydata.org/pandas-docs/stable/user_guide/indexing.html#returning-a-view-versus-a-copy\n",
      "\n"
     ]
    }
   ],
   "source": [
    "new_col = []\n",
    "for membership in trips_2021['Membership Type']:\n",
    "    if membership == 'Student Membership' or membership == 'U.T. Student Membership':\n",
    "        new_col.append('Student')\n",
    "    elif membership == 'Local365' or membership == 'Annual' or membership == 'Annual Membership':\n",
    "        new_col.append('Annual')\n",
    "    elif membership == 'Local31':\n",
    "        new_col.append('Monthly')\n",
    "    elif membership == '3-Day Weekender':\n",
    "        new_col.append('3-Day Weekend')\n",
    "    elif membership == 'Explorer' or membership == '24 Hour Walk Up Pass':\n",
    "        new_col.append('Day')\n",
    "    elif membership == 'Pay-as-you-ride' or membership == 'Single Trip Ride' or membership == 'Single Trip (Pay-as-you-ride)':\n",
    "        new_col.append('Single Ride')\n",
    "    else:\n",
    "        new_col.append('Other')\n",
    "trips_2021['Membership Version'] = new_col"
   ]
  },
  {
   "cell_type": "code",
   "execution_count": 24,
   "id": "5737c3aa",
   "metadata": {},
   "outputs": [
    {
     "data": {
      "text/html": [
       "<div>\n",
       "<style scoped>\n",
       "    .dataframe tbody tr th:only-of-type {\n",
       "        vertical-align: middle;\n",
       "    }\n",
       "\n",
       "    .dataframe tbody tr th {\n",
       "        vertical-align: top;\n",
       "    }\n",
       "\n",
       "    .dataframe thead th {\n",
       "        text-align: right;\n",
       "    }\n",
       "</style>\n",
       "<table border=\"1\" class=\"dataframe\">\n",
       "  <thead>\n",
       "    <tr style=\"text-align: right;\">\n",
       "      <th></th>\n",
       "      <th>Unnamed: 0</th>\n",
       "      <th>Trip ID</th>\n",
       "      <th>Membership Type</th>\n",
       "      <th>Bicycle ID</th>\n",
       "      <th>Bike Type</th>\n",
       "      <th>Checkout Date</th>\n",
       "      <th>Checkout Time</th>\n",
       "      <th>Checkout Kiosk ID</th>\n",
       "      <th>Checkout Kiosk</th>\n",
       "      <th>Return Kiosk ID</th>\n",
       "      <th>Return Kiosk</th>\n",
       "      <th>Trip Duration Minutes</th>\n",
       "      <th>Month</th>\n",
       "      <th>Year</th>\n",
       "      <th>Checkout_Hour</th>\n",
       "      <th>Checkout_Min</th>\n",
       "      <th>Year_2</th>\n",
       "      <th>Month_2</th>\n",
       "      <th>Weekday</th>\n",
       "      <th>Week_of_Year</th>\n",
       "      <th>Day_of_Year</th>\n",
       "      <th>Day_of_Month</th>\n",
       "      <th>Min_of_Day</th>\n",
       "      <th>Membership Version</th>\n",
       "    </tr>\n",
       "  </thead>\n",
       "  <tbody>\n",
       "    <tr>\n",
       "      <th>1026826</th>\n",
       "      <td>1046995</td>\n",
       "      <td>23417195</td>\n",
       "      <td>Local365</td>\n",
       "      <td>19211</td>\n",
       "      <td>NaN</td>\n",
       "      <td>01/15/2021</td>\n",
       "      <td>20:13:58</td>\n",
       "      <td>2563.0</td>\n",
       "      <td>Rainey/Davis</td>\n",
       "      <td>3621</td>\n",
       "      <td>3rd/Nueces</td>\n",
       "      <td>733</td>\n",
       "      <td>NaN</td>\n",
       "      <td>NaN</td>\n",
       "      <td>20</td>\n",
       "      <td>13</td>\n",
       "      <td>2021</td>\n",
       "      <td>1</td>\n",
       "      <td>4</td>\n",
       "      <td>2</td>\n",
       "      <td>15</td>\n",
       "      <td>15</td>\n",
       "      <td>1213</td>\n",
       "      <td>Annual</td>\n",
       "    </tr>\n",
       "    <tr>\n",
       "      <th>1027171</th>\n",
       "      <td>1047350</td>\n",
       "      <td>23388533</td>\n",
       "      <td>Local365</td>\n",
       "      <td>16456</td>\n",
       "      <td>NaN</td>\n",
       "      <td>01/05/2021</td>\n",
       "      <td>19:44:27</td>\n",
       "      <td>2494.0</td>\n",
       "      <td>2nd/Congress</td>\n",
       "      <td>2563</td>\n",
       "      <td>Rainey/Davis</td>\n",
       "      <td>5</td>\n",
       "      <td>NaN</td>\n",
       "      <td>NaN</td>\n",
       "      <td>19</td>\n",
       "      <td>44</td>\n",
       "      <td>2021</td>\n",
       "      <td>1</td>\n",
       "      <td>1</td>\n",
       "      <td>1</td>\n",
       "      <td>5</td>\n",
       "      <td>5</td>\n",
       "      <td>1184</td>\n",
       "      <td>Annual</td>\n",
       "    </tr>\n",
       "    <tr>\n",
       "      <th>1027608</th>\n",
       "      <td>1047795</td>\n",
       "      <td>23412821</td>\n",
       "      <td>Local365</td>\n",
       "      <td>18909</td>\n",
       "      <td>NaN</td>\n",
       "      <td>01/14/2021</td>\n",
       "      <td>12:48:32</td>\n",
       "      <td>2501.0</td>\n",
       "      <td>5th/Bowie</td>\n",
       "      <td>2499</td>\n",
       "      <td>2nd/Lavaca @ City Hall</td>\n",
       "      <td>6</td>\n",
       "      <td>NaN</td>\n",
       "      <td>NaN</td>\n",
       "      <td>12</td>\n",
       "      <td>48</td>\n",
       "      <td>2021</td>\n",
       "      <td>1</td>\n",
       "      <td>3</td>\n",
       "      <td>2</td>\n",
       "      <td>14</td>\n",
       "      <td>14</td>\n",
       "      <td>768</td>\n",
       "      <td>Annual</td>\n",
       "    </tr>\n",
       "    <tr>\n",
       "      <th>1028129</th>\n",
       "      <td>1048328</td>\n",
       "      <td>23437189</td>\n",
       "      <td>Local365</td>\n",
       "      <td>18132</td>\n",
       "      <td>NaN</td>\n",
       "      <td>01/21/2021</td>\n",
       "      <td>11:59:06</td>\n",
       "      <td>3795.0</td>\n",
       "      <td>Dean Keeton/Whitis</td>\n",
       "      <td>2552</td>\n",
       "      <td>3rd/West</td>\n",
       "      <td>11</td>\n",
       "      <td>NaN</td>\n",
       "      <td>NaN</td>\n",
       "      <td>11</td>\n",
       "      <td>59</td>\n",
       "      <td>2021</td>\n",
       "      <td>1</td>\n",
       "      <td>3</td>\n",
       "      <td>3</td>\n",
       "      <td>21</td>\n",
       "      <td>21</td>\n",
       "      <td>719</td>\n",
       "      <td>Annual</td>\n",
       "    </tr>\n",
       "    <tr>\n",
       "      <th>1029121</th>\n",
       "      <td>1049349</td>\n",
       "      <td>23449300</td>\n",
       "      <td>Local365</td>\n",
       "      <td>16276</td>\n",
       "      <td>NaN</td>\n",
       "      <td>01/24/2021</td>\n",
       "      <td>18:17:10</td>\n",
       "      <td>3660.0</td>\n",
       "      <td>East 6th/Medina</td>\n",
       "      <td>3792</td>\n",
       "      <td>22nd/Pearl</td>\n",
       "      <td>29</td>\n",
       "      <td>NaN</td>\n",
       "      <td>NaN</td>\n",
       "      <td>18</td>\n",
       "      <td>17</td>\n",
       "      <td>2021</td>\n",
       "      <td>1</td>\n",
       "      <td>6</td>\n",
       "      <td>3</td>\n",
       "      <td>24</td>\n",
       "      <td>24</td>\n",
       "      <td>1097</td>\n",
       "      <td>Annual</td>\n",
       "    </tr>\n",
       "    <tr>\n",
       "      <th>...</th>\n",
       "      <td>...</td>\n",
       "      <td>...</td>\n",
       "      <td>...</td>\n",
       "      <td>...</td>\n",
       "      <td>...</td>\n",
       "      <td>...</td>\n",
       "      <td>...</td>\n",
       "      <td>...</td>\n",
       "      <td>...</td>\n",
       "      <td>...</td>\n",
       "      <td>...</td>\n",
       "      <td>...</td>\n",
       "      <td>...</td>\n",
       "      <td>...</td>\n",
       "      <td>...</td>\n",
       "      <td>...</td>\n",
       "      <td>...</td>\n",
       "      <td>...</td>\n",
       "      <td>...</td>\n",
       "      <td>...</td>\n",
       "      <td>...</td>\n",
       "      <td>...</td>\n",
       "      <td>...</td>\n",
       "      <td>...</td>\n",
       "    </tr>\n",
       "    <tr>\n",
       "      <th>1526271</th>\n",
       "      <td>1548074</td>\n",
       "      <td>25793094</td>\n",
       "      <td>Local31</td>\n",
       "      <td>21500</td>\n",
       "      <td>NaN</td>\n",
       "      <td>12/10/2021</td>\n",
       "      <td>23:01:45</td>\n",
       "      <td>4050.0</td>\n",
       "      <td>5th/Campbell</td>\n",
       "      <td>2496</td>\n",
       "      <td>8th/Congress</td>\n",
       "      <td>8</td>\n",
       "      <td>NaN</td>\n",
       "      <td>NaN</td>\n",
       "      <td>23</td>\n",
       "      <td>1</td>\n",
       "      <td>2021</td>\n",
       "      <td>12</td>\n",
       "      <td>4</td>\n",
       "      <td>49</td>\n",
       "      <td>344</td>\n",
       "      <td>10</td>\n",
       "      <td>1381</td>\n",
       "      <td>Monthly</td>\n",
       "    </tr>\n",
       "    <tr>\n",
       "      <th>1526272</th>\n",
       "      <td>1548075</td>\n",
       "      <td>25806367</td>\n",
       "      <td>Local31</td>\n",
       "      <td>21464</td>\n",
       "      <td>NaN</td>\n",
       "      <td>12/13/2021</td>\n",
       "      <td>19:20:56</td>\n",
       "      <td>2504.0</td>\n",
       "      <td>South Congress/Elizabeth</td>\n",
       "      <td>3686</td>\n",
       "      <td>Sterzing/Barton Springs</td>\n",
       "      <td>28</td>\n",
       "      <td>NaN</td>\n",
       "      <td>NaN</td>\n",
       "      <td>19</td>\n",
       "      <td>20</td>\n",
       "      <td>2021</td>\n",
       "      <td>12</td>\n",
       "      <td>0</td>\n",
       "      <td>50</td>\n",
       "      <td>347</td>\n",
       "      <td>13</td>\n",
       "      <td>1160</td>\n",
       "      <td>Monthly</td>\n",
       "    </tr>\n",
       "    <tr>\n",
       "      <th>1526273</th>\n",
       "      <td>1548076</td>\n",
       "      <td>25801670</td>\n",
       "      <td>Local31</td>\n",
       "      <td>21709</td>\n",
       "      <td>NaN</td>\n",
       "      <td>12/12/2021</td>\n",
       "      <td>20:06:17</td>\n",
       "      <td>3621.0</td>\n",
       "      <td>3rd/Nueces</td>\n",
       "      <td>2548</td>\n",
       "      <td>Guadalupe/West Mall @ University Co-op</td>\n",
       "      <td>94</td>\n",
       "      <td>NaN</td>\n",
       "      <td>NaN</td>\n",
       "      <td>20</td>\n",
       "      <td>6</td>\n",
       "      <td>2021</td>\n",
       "      <td>12</td>\n",
       "      <td>6</td>\n",
       "      <td>49</td>\n",
       "      <td>346</td>\n",
       "      <td>12</td>\n",
       "      <td>1206</td>\n",
       "      <td>Monthly</td>\n",
       "    </tr>\n",
       "    <tr>\n",
       "      <th>1526274</th>\n",
       "      <td>1548077</td>\n",
       "      <td>25869215</td>\n",
       "      <td>Student Membership</td>\n",
       "      <td>1687</td>\n",
       "      <td>NaN</td>\n",
       "      <td>12/31/2021</td>\n",
       "      <td>13:12:37</td>\n",
       "      <td>3794.0</td>\n",
       "      <td>Dean Keeton/Speedway</td>\n",
       "      <td>3793</td>\n",
       "      <td>28th/Rio Grande</td>\n",
       "      <td>16</td>\n",
       "      <td>NaN</td>\n",
       "      <td>NaN</td>\n",
       "      <td>13</td>\n",
       "      <td>12</td>\n",
       "      <td>2021</td>\n",
       "      <td>12</td>\n",
       "      <td>4</td>\n",
       "      <td>52</td>\n",
       "      <td>365</td>\n",
       "      <td>31</td>\n",
       "      <td>792</td>\n",
       "      <td>Student</td>\n",
       "    </tr>\n",
       "    <tr>\n",
       "      <th>1526275</th>\n",
       "      <td>1548078</td>\n",
       "      <td>25854024</td>\n",
       "      <td>Local31</td>\n",
       "      <td>21752</td>\n",
       "      <td>NaN</td>\n",
       "      <td>12/27/2021</td>\n",
       "      <td>16:16:57</td>\n",
       "      <td>3792.0</td>\n",
       "      <td>22nd/Pearl</td>\n",
       "      <td>2547</td>\n",
       "      <td>21st/Guadalupe</td>\n",
       "      <td>3</td>\n",
       "      <td>NaN</td>\n",
       "      <td>NaN</td>\n",
       "      <td>16</td>\n",
       "      <td>16</td>\n",
       "      <td>2021</td>\n",
       "      <td>12</td>\n",
       "      <td>0</td>\n",
       "      <td>52</td>\n",
       "      <td>361</td>\n",
       "      <td>27</td>\n",
       "      <td>976</td>\n",
       "      <td>Monthly</td>\n",
       "    </tr>\n",
       "  </tbody>\n",
       "</table>\n",
       "<p>223995 rows × 24 columns</p>\n",
       "</div>"
      ],
      "text/plain": [
       "         Unnamed: 0   Trip ID     Membership Type Bicycle ID  Bike Type  \\\n",
       "1026826     1046995  23417195            Local365      19211        NaN   \n",
       "1027171     1047350  23388533            Local365      16456        NaN   \n",
       "1027608     1047795  23412821            Local365      18909        NaN   \n",
       "1028129     1048328  23437189            Local365      18132        NaN   \n",
       "1029121     1049349  23449300            Local365      16276        NaN   \n",
       "...             ...       ...                 ...        ...        ...   \n",
       "1526271     1548074  25793094             Local31      21500        NaN   \n",
       "1526272     1548075  25806367             Local31      21464        NaN   \n",
       "1526273     1548076  25801670             Local31      21709        NaN   \n",
       "1526274     1548077  25869215  Student Membership       1687        NaN   \n",
       "1526275     1548078  25854024             Local31      21752        NaN   \n",
       "\n",
       "        Checkout Date Checkout Time  Checkout Kiosk ID  \\\n",
       "1026826    01/15/2021      20:13:58             2563.0   \n",
       "1027171    01/05/2021      19:44:27             2494.0   \n",
       "1027608    01/14/2021      12:48:32             2501.0   \n",
       "1028129    01/21/2021      11:59:06             3795.0   \n",
       "1029121    01/24/2021      18:17:10             3660.0   \n",
       "...               ...           ...                ...   \n",
       "1526271    12/10/2021      23:01:45             4050.0   \n",
       "1526272    12/13/2021      19:20:56             2504.0   \n",
       "1526273    12/12/2021      20:06:17             3621.0   \n",
       "1526274    12/31/2021      13:12:37             3794.0   \n",
       "1526275    12/27/2021      16:16:57             3792.0   \n",
       "\n",
       "                   Checkout Kiosk Return Kiosk ID  \\\n",
       "1026826              Rainey/Davis            3621   \n",
       "1027171              2nd/Congress            2563   \n",
       "1027608                 5th/Bowie            2499   \n",
       "1028129        Dean Keeton/Whitis            2552   \n",
       "1029121           East 6th/Medina            3792   \n",
       "...                           ...             ...   \n",
       "1526271              5th/Campbell            2496   \n",
       "1526272  South Congress/Elizabeth            3686   \n",
       "1526273                3rd/Nueces            2548   \n",
       "1526274      Dean Keeton/Speedway            3793   \n",
       "1526275                22nd/Pearl            2547   \n",
       "\n",
       "                                   Return Kiosk  Trip Duration Minutes  Month  \\\n",
       "1026826                              3rd/Nueces                    733    NaN   \n",
       "1027171                            Rainey/Davis                      5    NaN   \n",
       "1027608                  2nd/Lavaca @ City Hall                      6    NaN   \n",
       "1028129                                3rd/West                     11    NaN   \n",
       "1029121                              22nd/Pearl                     29    NaN   \n",
       "...                                         ...                    ...    ...   \n",
       "1526271                            8th/Congress                      8    NaN   \n",
       "1526272                 Sterzing/Barton Springs                     28    NaN   \n",
       "1526273  Guadalupe/West Mall @ University Co-op                     94    NaN   \n",
       "1526274                         28th/Rio Grande                     16    NaN   \n",
       "1526275                          21st/Guadalupe                      3    NaN   \n",
       "\n",
       "         Year  Checkout_Hour  Checkout_Min  Year_2  Month_2  Weekday  \\\n",
       "1026826   NaN             20            13    2021        1        4   \n",
       "1027171   NaN             19            44    2021        1        1   \n",
       "1027608   NaN             12            48    2021        1        3   \n",
       "1028129   NaN             11            59    2021        1        3   \n",
       "1029121   NaN             18            17    2021        1        6   \n",
       "...       ...            ...           ...     ...      ...      ...   \n",
       "1526271   NaN             23             1    2021       12        4   \n",
       "1526272   NaN             19            20    2021       12        0   \n",
       "1526273   NaN             20             6    2021       12        6   \n",
       "1526274   NaN             13            12    2021       12        4   \n",
       "1526275   NaN             16            16    2021       12        0   \n",
       "\n",
       "         Week_of_Year  Day_of_Year  Day_of_Month  Min_of_Day  \\\n",
       "1026826             2           15            15        1213   \n",
       "1027171             1            5             5        1184   \n",
       "1027608             2           14            14         768   \n",
       "1028129             3           21            21         719   \n",
       "1029121             3           24            24        1097   \n",
       "...               ...          ...           ...         ...   \n",
       "1526271            49          344            10        1381   \n",
       "1526272            50          347            13        1160   \n",
       "1526273            49          346            12        1206   \n",
       "1526274            52          365            31         792   \n",
       "1526275            52          361            27         976   \n",
       "\n",
       "        Membership Version  \n",
       "1026826             Annual  \n",
       "1027171             Annual  \n",
       "1027608             Annual  \n",
       "1028129             Annual  \n",
       "1029121             Annual  \n",
       "...                    ...  \n",
       "1526271            Monthly  \n",
       "1526272            Monthly  \n",
       "1526273            Monthly  \n",
       "1526274            Student  \n",
       "1526275            Monthly  \n",
       "\n",
       "[223995 rows x 24 columns]"
      ]
     },
     "execution_count": 24,
     "metadata": {},
     "output_type": "execute_result"
    }
   ],
   "source": [
    "trips_2021"
   ]
  },
  {
   "cell_type": "code",
   "execution_count": 25,
   "id": "de80b60d",
   "metadata": {},
   "outputs": [
    {
     "data": {
      "text/html": [
       "<div>\n",
       "<style scoped>\n",
       "    .dataframe tbody tr th:only-of-type {\n",
       "        vertical-align: middle;\n",
       "    }\n",
       "\n",
       "    .dataframe tbody tr th {\n",
       "        vertical-align: top;\n",
       "    }\n",
       "\n",
       "    .dataframe thead th {\n",
       "        text-align: right;\n",
       "    }\n",
       "</style>\n",
       "<table border=\"1\" class=\"dataframe\">\n",
       "  <thead>\n",
       "    <tr style=\"text-align: right;\">\n",
       "      <th></th>\n",
       "      <th>Unnamed: 0</th>\n",
       "      <th>Trip ID</th>\n",
       "      <th>Membership Type</th>\n",
       "      <th>Bicycle ID</th>\n",
       "      <th>Bike Type</th>\n",
       "      <th>Checkout Date</th>\n",
       "      <th>Checkout Time</th>\n",
       "      <th>Checkout Kiosk ID</th>\n",
       "      <th>Checkout Kiosk</th>\n",
       "      <th>Return Kiosk ID</th>\n",
       "      <th>Return Kiosk</th>\n",
       "      <th>Trip Duration Minutes</th>\n",
       "      <th>Month</th>\n",
       "      <th>Year</th>\n",
       "      <th>Checkout_Hour</th>\n",
       "      <th>Checkout_Min</th>\n",
       "      <th>Year_2</th>\n",
       "      <th>Month_2</th>\n",
       "      <th>Weekday</th>\n",
       "      <th>Week_of_Year</th>\n",
       "      <th>Day_of_Year</th>\n",
       "      <th>Day_of_Month</th>\n",
       "      <th>Min_of_Day</th>\n",
       "      <th>Membership Version</th>\n",
       "    </tr>\n",
       "  </thead>\n",
       "  <tbody>\n",
       "    <tr>\n",
       "      <th>1026826</th>\n",
       "      <td>1046995</td>\n",
       "      <td>23417195</td>\n",
       "      <td>Local365</td>\n",
       "      <td>19211</td>\n",
       "      <td>NaN</td>\n",
       "      <td>01/15/2021</td>\n",
       "      <td>20:13:58</td>\n",
       "      <td>2563.0</td>\n",
       "      <td>Rainey/Davis</td>\n",
       "      <td>3621</td>\n",
       "      <td>3rd/Nueces</td>\n",
       "      <td>733</td>\n",
       "      <td>NaN</td>\n",
       "      <td>NaN</td>\n",
       "      <td>20</td>\n",
       "      <td>13</td>\n",
       "      <td>2021</td>\n",
       "      <td>1</td>\n",
       "      <td>4</td>\n",
       "      <td>2</td>\n",
       "      <td>15</td>\n",
       "      <td>15</td>\n",
       "      <td>1213</td>\n",
       "      <td>Annual</td>\n",
       "    </tr>\n",
       "    <tr>\n",
       "      <th>1027171</th>\n",
       "      <td>1047350</td>\n",
       "      <td>23388533</td>\n",
       "      <td>Local365</td>\n",
       "      <td>16456</td>\n",
       "      <td>NaN</td>\n",
       "      <td>01/05/2021</td>\n",
       "      <td>19:44:27</td>\n",
       "      <td>2494.0</td>\n",
       "      <td>2nd/Congress</td>\n",
       "      <td>2563</td>\n",
       "      <td>Rainey/Davis</td>\n",
       "      <td>5</td>\n",
       "      <td>NaN</td>\n",
       "      <td>NaN</td>\n",
       "      <td>19</td>\n",
       "      <td>44</td>\n",
       "      <td>2021</td>\n",
       "      <td>1</td>\n",
       "      <td>1</td>\n",
       "      <td>1</td>\n",
       "      <td>5</td>\n",
       "      <td>5</td>\n",
       "      <td>1184</td>\n",
       "      <td>Annual</td>\n",
       "    </tr>\n",
       "    <tr>\n",
       "      <th>1027608</th>\n",
       "      <td>1047795</td>\n",
       "      <td>23412821</td>\n",
       "      <td>Local365</td>\n",
       "      <td>18909</td>\n",
       "      <td>NaN</td>\n",
       "      <td>01/14/2021</td>\n",
       "      <td>12:48:32</td>\n",
       "      <td>2501.0</td>\n",
       "      <td>5th/Bowie</td>\n",
       "      <td>2499</td>\n",
       "      <td>2nd/Lavaca @ City Hall</td>\n",
       "      <td>6</td>\n",
       "      <td>NaN</td>\n",
       "      <td>NaN</td>\n",
       "      <td>12</td>\n",
       "      <td>48</td>\n",
       "      <td>2021</td>\n",
       "      <td>1</td>\n",
       "      <td>3</td>\n",
       "      <td>2</td>\n",
       "      <td>14</td>\n",
       "      <td>14</td>\n",
       "      <td>768</td>\n",
       "      <td>Annual</td>\n",
       "    </tr>\n",
       "    <tr>\n",
       "      <th>1028129</th>\n",
       "      <td>1048328</td>\n",
       "      <td>23437189</td>\n",
       "      <td>Local365</td>\n",
       "      <td>18132</td>\n",
       "      <td>NaN</td>\n",
       "      <td>01/21/2021</td>\n",
       "      <td>11:59:06</td>\n",
       "      <td>3795.0</td>\n",
       "      <td>Dean Keeton/Whitis</td>\n",
       "      <td>2552</td>\n",
       "      <td>3rd/West</td>\n",
       "      <td>11</td>\n",
       "      <td>NaN</td>\n",
       "      <td>NaN</td>\n",
       "      <td>11</td>\n",
       "      <td>59</td>\n",
       "      <td>2021</td>\n",
       "      <td>1</td>\n",
       "      <td>3</td>\n",
       "      <td>3</td>\n",
       "      <td>21</td>\n",
       "      <td>21</td>\n",
       "      <td>719</td>\n",
       "      <td>Annual</td>\n",
       "    </tr>\n",
       "    <tr>\n",
       "      <th>1029121</th>\n",
       "      <td>1049349</td>\n",
       "      <td>23449300</td>\n",
       "      <td>Local365</td>\n",
       "      <td>16276</td>\n",
       "      <td>NaN</td>\n",
       "      <td>01/24/2021</td>\n",
       "      <td>18:17:10</td>\n",
       "      <td>3660.0</td>\n",
       "      <td>East 6th/Medina</td>\n",
       "      <td>3792</td>\n",
       "      <td>22nd/Pearl</td>\n",
       "      <td>29</td>\n",
       "      <td>NaN</td>\n",
       "      <td>NaN</td>\n",
       "      <td>18</td>\n",
       "      <td>17</td>\n",
       "      <td>2021</td>\n",
       "      <td>1</td>\n",
       "      <td>6</td>\n",
       "      <td>3</td>\n",
       "      <td>24</td>\n",
       "      <td>24</td>\n",
       "      <td>1097</td>\n",
       "      <td>Annual</td>\n",
       "    </tr>\n",
       "    <tr>\n",
       "      <th>...</th>\n",
       "      <td>...</td>\n",
       "      <td>...</td>\n",
       "      <td>...</td>\n",
       "      <td>...</td>\n",
       "      <td>...</td>\n",
       "      <td>...</td>\n",
       "      <td>...</td>\n",
       "      <td>...</td>\n",
       "      <td>...</td>\n",
       "      <td>...</td>\n",
       "      <td>...</td>\n",
       "      <td>...</td>\n",
       "      <td>...</td>\n",
       "      <td>...</td>\n",
       "      <td>...</td>\n",
       "      <td>...</td>\n",
       "      <td>...</td>\n",
       "      <td>...</td>\n",
       "      <td>...</td>\n",
       "      <td>...</td>\n",
       "      <td>...</td>\n",
       "      <td>...</td>\n",
       "      <td>...</td>\n",
       "      <td>...</td>\n",
       "    </tr>\n",
       "    <tr>\n",
       "      <th>1526271</th>\n",
       "      <td>1548074</td>\n",
       "      <td>25793094</td>\n",
       "      <td>Local31</td>\n",
       "      <td>21500</td>\n",
       "      <td>NaN</td>\n",
       "      <td>12/10/2021</td>\n",
       "      <td>23:01:45</td>\n",
       "      <td>4050.0</td>\n",
       "      <td>5th/Campbell</td>\n",
       "      <td>2496</td>\n",
       "      <td>8th/Congress</td>\n",
       "      <td>8</td>\n",
       "      <td>NaN</td>\n",
       "      <td>NaN</td>\n",
       "      <td>23</td>\n",
       "      <td>1</td>\n",
       "      <td>2021</td>\n",
       "      <td>12</td>\n",
       "      <td>4</td>\n",
       "      <td>49</td>\n",
       "      <td>344</td>\n",
       "      <td>10</td>\n",
       "      <td>1381</td>\n",
       "      <td>Monthly</td>\n",
       "    </tr>\n",
       "    <tr>\n",
       "      <th>1526272</th>\n",
       "      <td>1548075</td>\n",
       "      <td>25806367</td>\n",
       "      <td>Local31</td>\n",
       "      <td>21464</td>\n",
       "      <td>NaN</td>\n",
       "      <td>12/13/2021</td>\n",
       "      <td>19:20:56</td>\n",
       "      <td>2504.0</td>\n",
       "      <td>South Congress/Elizabeth</td>\n",
       "      <td>3686</td>\n",
       "      <td>Sterzing/Barton Springs</td>\n",
       "      <td>28</td>\n",
       "      <td>NaN</td>\n",
       "      <td>NaN</td>\n",
       "      <td>19</td>\n",
       "      <td>20</td>\n",
       "      <td>2021</td>\n",
       "      <td>12</td>\n",
       "      <td>0</td>\n",
       "      <td>50</td>\n",
       "      <td>347</td>\n",
       "      <td>13</td>\n",
       "      <td>1160</td>\n",
       "      <td>Monthly</td>\n",
       "    </tr>\n",
       "    <tr>\n",
       "      <th>1526273</th>\n",
       "      <td>1548076</td>\n",
       "      <td>25801670</td>\n",
       "      <td>Local31</td>\n",
       "      <td>21709</td>\n",
       "      <td>NaN</td>\n",
       "      <td>12/12/2021</td>\n",
       "      <td>20:06:17</td>\n",
       "      <td>3621.0</td>\n",
       "      <td>3rd/Nueces</td>\n",
       "      <td>2548</td>\n",
       "      <td>Guadalupe/West Mall @ University Co-op</td>\n",
       "      <td>94</td>\n",
       "      <td>NaN</td>\n",
       "      <td>NaN</td>\n",
       "      <td>20</td>\n",
       "      <td>6</td>\n",
       "      <td>2021</td>\n",
       "      <td>12</td>\n",
       "      <td>6</td>\n",
       "      <td>49</td>\n",
       "      <td>346</td>\n",
       "      <td>12</td>\n",
       "      <td>1206</td>\n",
       "      <td>Monthly</td>\n",
       "    </tr>\n",
       "    <tr>\n",
       "      <th>1526274</th>\n",
       "      <td>1548077</td>\n",
       "      <td>25869215</td>\n",
       "      <td>Student Membership</td>\n",
       "      <td>1687</td>\n",
       "      <td>NaN</td>\n",
       "      <td>12/31/2021</td>\n",
       "      <td>13:12:37</td>\n",
       "      <td>3794.0</td>\n",
       "      <td>Dean Keeton/Speedway</td>\n",
       "      <td>3793</td>\n",
       "      <td>28th/Rio Grande</td>\n",
       "      <td>16</td>\n",
       "      <td>NaN</td>\n",
       "      <td>NaN</td>\n",
       "      <td>13</td>\n",
       "      <td>12</td>\n",
       "      <td>2021</td>\n",
       "      <td>12</td>\n",
       "      <td>4</td>\n",
       "      <td>52</td>\n",
       "      <td>365</td>\n",
       "      <td>31</td>\n",
       "      <td>792</td>\n",
       "      <td>Student</td>\n",
       "    </tr>\n",
       "    <tr>\n",
       "      <th>1526275</th>\n",
       "      <td>1548078</td>\n",
       "      <td>25854024</td>\n",
       "      <td>Local31</td>\n",
       "      <td>21752</td>\n",
       "      <td>NaN</td>\n",
       "      <td>12/27/2021</td>\n",
       "      <td>16:16:57</td>\n",
       "      <td>3792.0</td>\n",
       "      <td>22nd/Pearl</td>\n",
       "      <td>2547</td>\n",
       "      <td>21st/Guadalupe</td>\n",
       "      <td>3</td>\n",
       "      <td>NaN</td>\n",
       "      <td>NaN</td>\n",
       "      <td>16</td>\n",
       "      <td>16</td>\n",
       "      <td>2021</td>\n",
       "      <td>12</td>\n",
       "      <td>0</td>\n",
       "      <td>52</td>\n",
       "      <td>361</td>\n",
       "      <td>27</td>\n",
       "      <td>976</td>\n",
       "      <td>Monthly</td>\n",
       "    </tr>\n",
       "  </tbody>\n",
       "</table>\n",
       "<p>223995 rows × 24 columns</p>\n",
       "</div>"
      ],
      "text/plain": [
       "         Unnamed: 0   Trip ID     Membership Type Bicycle ID  Bike Type  \\\n",
       "1026826     1046995  23417195            Local365      19211        NaN   \n",
       "1027171     1047350  23388533            Local365      16456        NaN   \n",
       "1027608     1047795  23412821            Local365      18909        NaN   \n",
       "1028129     1048328  23437189            Local365      18132        NaN   \n",
       "1029121     1049349  23449300            Local365      16276        NaN   \n",
       "...             ...       ...                 ...        ...        ...   \n",
       "1526271     1548074  25793094             Local31      21500        NaN   \n",
       "1526272     1548075  25806367             Local31      21464        NaN   \n",
       "1526273     1548076  25801670             Local31      21709        NaN   \n",
       "1526274     1548077  25869215  Student Membership       1687        NaN   \n",
       "1526275     1548078  25854024             Local31      21752        NaN   \n",
       "\n",
       "        Checkout Date Checkout Time  Checkout Kiosk ID  \\\n",
       "1026826    01/15/2021      20:13:58             2563.0   \n",
       "1027171    01/05/2021      19:44:27             2494.0   \n",
       "1027608    01/14/2021      12:48:32             2501.0   \n",
       "1028129    01/21/2021      11:59:06             3795.0   \n",
       "1029121    01/24/2021      18:17:10             3660.0   \n",
       "...               ...           ...                ...   \n",
       "1526271    12/10/2021      23:01:45             4050.0   \n",
       "1526272    12/13/2021      19:20:56             2504.0   \n",
       "1526273    12/12/2021      20:06:17             3621.0   \n",
       "1526274    12/31/2021      13:12:37             3794.0   \n",
       "1526275    12/27/2021      16:16:57             3792.0   \n",
       "\n",
       "                   Checkout Kiosk Return Kiosk ID  \\\n",
       "1026826              Rainey/Davis            3621   \n",
       "1027171              2nd/Congress            2563   \n",
       "1027608                 5th/Bowie            2499   \n",
       "1028129        Dean Keeton/Whitis            2552   \n",
       "1029121           East 6th/Medina            3792   \n",
       "...                           ...             ...   \n",
       "1526271              5th/Campbell            2496   \n",
       "1526272  South Congress/Elizabeth            3686   \n",
       "1526273                3rd/Nueces            2548   \n",
       "1526274      Dean Keeton/Speedway            3793   \n",
       "1526275                22nd/Pearl            2547   \n",
       "\n",
       "                                   Return Kiosk  Trip Duration Minutes  Month  \\\n",
       "1026826                              3rd/Nueces                    733    NaN   \n",
       "1027171                            Rainey/Davis                      5    NaN   \n",
       "1027608                  2nd/Lavaca @ City Hall                      6    NaN   \n",
       "1028129                                3rd/West                     11    NaN   \n",
       "1029121                              22nd/Pearl                     29    NaN   \n",
       "...                                         ...                    ...    ...   \n",
       "1526271                            8th/Congress                      8    NaN   \n",
       "1526272                 Sterzing/Barton Springs                     28    NaN   \n",
       "1526273  Guadalupe/West Mall @ University Co-op                     94    NaN   \n",
       "1526274                         28th/Rio Grande                     16    NaN   \n",
       "1526275                          21st/Guadalupe                      3    NaN   \n",
       "\n",
       "         Year  Checkout_Hour  Checkout_Min  Year_2  Month_2  Weekday  \\\n",
       "1026826   NaN             20            13    2021        1        4   \n",
       "1027171   NaN             19            44    2021        1        1   \n",
       "1027608   NaN             12            48    2021        1        3   \n",
       "1028129   NaN             11            59    2021        1        3   \n",
       "1029121   NaN             18            17    2021        1        6   \n",
       "...       ...            ...           ...     ...      ...      ...   \n",
       "1526271   NaN             23             1    2021       12        4   \n",
       "1526272   NaN             19            20    2021       12        0   \n",
       "1526273   NaN             20             6    2021       12        6   \n",
       "1526274   NaN             13            12    2021       12        4   \n",
       "1526275   NaN             16            16    2021       12        0   \n",
       "\n",
       "         Week_of_Year  Day_of_Year  Day_of_Month  Min_of_Day  \\\n",
       "1026826             2           15            15        1213   \n",
       "1027171             1            5             5        1184   \n",
       "1027608             2           14            14         768   \n",
       "1028129             3           21            21         719   \n",
       "1029121             3           24            24        1097   \n",
       "...               ...          ...           ...         ...   \n",
       "1526271            49          344            10        1381   \n",
       "1526272            50          347            13        1160   \n",
       "1526273            49          346            12        1206   \n",
       "1526274            52          365            31         792   \n",
       "1526275            52          361            27         976   \n",
       "\n",
       "        Membership Version  \n",
       "1026826             Annual  \n",
       "1027171             Annual  \n",
       "1027608             Annual  \n",
       "1028129             Annual  \n",
       "1029121             Annual  \n",
       "...                    ...  \n",
       "1526271            Monthly  \n",
       "1526272            Monthly  \n",
       "1526273            Monthly  \n",
       "1526274            Student  \n",
       "1526275            Monthly  \n",
       "\n",
       "[223995 rows x 24 columns]"
      ]
     },
     "execution_count": 25,
     "metadata": {},
     "output_type": "execute_result"
    }
   ],
   "source": [
    "trips_2021"
   ]
  },
  {
   "cell_type": "code",
   "execution_count": 26,
   "id": "78b2a5b5",
   "metadata": {},
   "outputs": [
    {
     "data": {
      "text/plain": [
       "Checkout_Hour\n",
       "0     1.483088\n",
       "1     0.946444\n",
       "2     0.527971\n",
       "3     0.291631\n",
       "4     0.196227\n",
       "5     0.173461\n",
       "6     0.305724\n",
       "7     1.416956\n",
       "8     2.520598\n",
       "9     3.862749\n",
       "10    4.563096\n",
       "11    5.232003\n",
       "12    6.876626\n",
       "13    7.368820\n",
       "14    6.865785\n",
       "15    7.713573\n",
       "16    7.575889\n",
       "17    8.266479\n",
       "18    8.282741\n",
       "19    7.289679\n",
       "20    6.266262\n",
       "21    5.197311\n",
       "22    3.843235\n",
       "23    2.933651\n",
       "dtype: float64"
      ]
     },
     "execution_count": 26,
     "metadata": {},
     "output_type": "execute_result"
    }
   ],
   "source": [
    "(((trips_2021[trips_2021['Checkout Kiosk ID'].isin([3793,3838,3795,3794,111,3841,11,3792,2548,2547,3797,3798,3799,4879])].groupby(['Checkout_Hour']).size())/92240)*100)\n"
   ]
  },
  {
   "cell_type": "code",
   "execution_count": 27,
   "id": "5c174228",
   "metadata": {},
   "outputs": [
    {
     "data": {
      "application/vnd.plotly.v1+json": {
       "config": {
        "plotlyServerURL": "https://plotly.com"
       },
       "data": [
        {
         "alignmentgroup": "True",
         "hovertemplate": "Hour=%{x}<br>Total Trips=%{y}<extra></extra>",
         "legendgroup": "",
         "marker": {
          "color": "#38618c",
          "pattern": {
           "shape": ""
          }
         },
         "name": "",
         "offsetgroup": "",
         "orientation": "v",
         "showlegend": false,
         "textposition": "auto",
         "type": "bar",
         "x": [
          1,
          2,
          3,
          4,
          5,
          6,
          7,
          8,
          9,
          10,
          11,
          12,
          13,
          14,
          15,
          16,
          17,
          18,
          19,
          20,
          21,
          22,
          23,
          24
         ],
         "xaxis": "x",
         "y": [
          1.4830875975715525,
          0.9464440589765828,
          0.5279705117085862,
          0.2916305290546401,
          0.19622723330442327,
          0.17346053772766695,
          0.305724197745013,
          1.4169557675628794,
          2.5205984388551603,
          3.8627493495229834,
          4.563096270598439,
          5.232003469210754,
          6.876626192541196,
          7.368820468343452,
          6.865784908933217,
          7.71357328707719,
          7.575888985255855,
          8.26647875108413,
          8.282740676496097,
          7.289679098005204,
          6.2662619254119685,
          5.197311361665221,
          3.843235039028621,
          2.933651344319167
         ],
         "yaxis": "y"
        }
       ],
       "layout": {
        "barmode": "relative",
        "font": {
         "color": "Black",
         "family": "Arial",
         "size": 16
        },
        "legend": {
         "tracegroupgap": 0
        },
        "margin": {
         "t": 60
        },
        "showlegend": false,
        "template": {
         "data": {
          "bar": [
           {
            "error_x": {
             "color": "#2a3f5f"
            },
            "error_y": {
             "color": "#2a3f5f"
            },
            "marker": {
             "line": {
              "color": "#E5ECF6",
              "width": 0.5
             },
             "pattern": {
              "fillmode": "overlay",
              "size": 10,
              "solidity": 0.2
             }
            },
            "type": "bar"
           }
          ],
          "barpolar": [
           {
            "marker": {
             "line": {
              "color": "#E5ECF6",
              "width": 0.5
             },
             "pattern": {
              "fillmode": "overlay",
              "size": 10,
              "solidity": 0.2
             }
            },
            "type": "barpolar"
           }
          ],
          "carpet": [
           {
            "aaxis": {
             "endlinecolor": "#2a3f5f",
             "gridcolor": "white",
             "linecolor": "white",
             "minorgridcolor": "white",
             "startlinecolor": "#2a3f5f"
            },
            "baxis": {
             "endlinecolor": "#2a3f5f",
             "gridcolor": "white",
             "linecolor": "white",
             "minorgridcolor": "white",
             "startlinecolor": "#2a3f5f"
            },
            "type": "carpet"
           }
          ],
          "choropleth": [
           {
            "colorbar": {
             "outlinewidth": 0,
             "ticks": ""
            },
            "type": "choropleth"
           }
          ],
          "contour": [
           {
            "colorbar": {
             "outlinewidth": 0,
             "ticks": ""
            },
            "colorscale": [
             [
              0,
              "#0d0887"
             ],
             [
              0.1111111111111111,
              "#46039f"
             ],
             [
              0.2222222222222222,
              "#7201a8"
             ],
             [
              0.3333333333333333,
              "#9c179e"
             ],
             [
              0.4444444444444444,
              "#bd3786"
             ],
             [
              0.5555555555555556,
              "#d8576b"
             ],
             [
              0.6666666666666666,
              "#ed7953"
             ],
             [
              0.7777777777777778,
              "#fb9f3a"
             ],
             [
              0.8888888888888888,
              "#fdca26"
             ],
             [
              1,
              "#f0f921"
             ]
            ],
            "type": "contour"
           }
          ],
          "contourcarpet": [
           {
            "colorbar": {
             "outlinewidth": 0,
             "ticks": ""
            },
            "type": "contourcarpet"
           }
          ],
          "heatmap": [
           {
            "colorbar": {
             "outlinewidth": 0,
             "ticks": ""
            },
            "colorscale": [
             [
              0,
              "#0d0887"
             ],
             [
              0.1111111111111111,
              "#46039f"
             ],
             [
              0.2222222222222222,
              "#7201a8"
             ],
             [
              0.3333333333333333,
              "#9c179e"
             ],
             [
              0.4444444444444444,
              "#bd3786"
             ],
             [
              0.5555555555555556,
              "#d8576b"
             ],
             [
              0.6666666666666666,
              "#ed7953"
             ],
             [
              0.7777777777777778,
              "#fb9f3a"
             ],
             [
              0.8888888888888888,
              "#fdca26"
             ],
             [
              1,
              "#f0f921"
             ]
            ],
            "type": "heatmap"
           }
          ],
          "heatmapgl": [
           {
            "colorbar": {
             "outlinewidth": 0,
             "ticks": ""
            },
            "colorscale": [
             [
              0,
              "#0d0887"
             ],
             [
              0.1111111111111111,
              "#46039f"
             ],
             [
              0.2222222222222222,
              "#7201a8"
             ],
             [
              0.3333333333333333,
              "#9c179e"
             ],
             [
              0.4444444444444444,
              "#bd3786"
             ],
             [
              0.5555555555555556,
              "#d8576b"
             ],
             [
              0.6666666666666666,
              "#ed7953"
             ],
             [
              0.7777777777777778,
              "#fb9f3a"
             ],
             [
              0.8888888888888888,
              "#fdca26"
             ],
             [
              1,
              "#f0f921"
             ]
            ],
            "type": "heatmapgl"
           }
          ],
          "histogram": [
           {
            "marker": {
             "pattern": {
              "fillmode": "overlay",
              "size": 10,
              "solidity": 0.2
             }
            },
            "type": "histogram"
           }
          ],
          "histogram2d": [
           {
            "colorbar": {
             "outlinewidth": 0,
             "ticks": ""
            },
            "colorscale": [
             [
              0,
              "#0d0887"
             ],
             [
              0.1111111111111111,
              "#46039f"
             ],
             [
              0.2222222222222222,
              "#7201a8"
             ],
             [
              0.3333333333333333,
              "#9c179e"
             ],
             [
              0.4444444444444444,
              "#bd3786"
             ],
             [
              0.5555555555555556,
              "#d8576b"
             ],
             [
              0.6666666666666666,
              "#ed7953"
             ],
             [
              0.7777777777777778,
              "#fb9f3a"
             ],
             [
              0.8888888888888888,
              "#fdca26"
             ],
             [
              1,
              "#f0f921"
             ]
            ],
            "type": "histogram2d"
           }
          ],
          "histogram2dcontour": [
           {
            "colorbar": {
             "outlinewidth": 0,
             "ticks": ""
            },
            "colorscale": [
             [
              0,
              "#0d0887"
             ],
             [
              0.1111111111111111,
              "#46039f"
             ],
             [
              0.2222222222222222,
              "#7201a8"
             ],
             [
              0.3333333333333333,
              "#9c179e"
             ],
             [
              0.4444444444444444,
              "#bd3786"
             ],
             [
              0.5555555555555556,
              "#d8576b"
             ],
             [
              0.6666666666666666,
              "#ed7953"
             ],
             [
              0.7777777777777778,
              "#fb9f3a"
             ],
             [
              0.8888888888888888,
              "#fdca26"
             ],
             [
              1,
              "#f0f921"
             ]
            ],
            "type": "histogram2dcontour"
           }
          ],
          "mesh3d": [
           {
            "colorbar": {
             "outlinewidth": 0,
             "ticks": ""
            },
            "type": "mesh3d"
           }
          ],
          "parcoords": [
           {
            "line": {
             "colorbar": {
              "outlinewidth": 0,
              "ticks": ""
             }
            },
            "type": "parcoords"
           }
          ],
          "pie": [
           {
            "automargin": true,
            "type": "pie"
           }
          ],
          "scatter": [
           {
            "marker": {
             "colorbar": {
              "outlinewidth": 0,
              "ticks": ""
             }
            },
            "type": "scatter"
           }
          ],
          "scatter3d": [
           {
            "line": {
             "colorbar": {
              "outlinewidth": 0,
              "ticks": ""
             }
            },
            "marker": {
             "colorbar": {
              "outlinewidth": 0,
              "ticks": ""
             }
            },
            "type": "scatter3d"
           }
          ],
          "scattercarpet": [
           {
            "marker": {
             "colorbar": {
              "outlinewidth": 0,
              "ticks": ""
             }
            },
            "type": "scattercarpet"
           }
          ],
          "scattergeo": [
           {
            "marker": {
             "colorbar": {
              "outlinewidth": 0,
              "ticks": ""
             }
            },
            "type": "scattergeo"
           }
          ],
          "scattergl": [
           {
            "marker": {
             "colorbar": {
              "outlinewidth": 0,
              "ticks": ""
             }
            },
            "type": "scattergl"
           }
          ],
          "scattermapbox": [
           {
            "marker": {
             "colorbar": {
              "outlinewidth": 0,
              "ticks": ""
             }
            },
            "type": "scattermapbox"
           }
          ],
          "scatterpolar": [
           {
            "marker": {
             "colorbar": {
              "outlinewidth": 0,
              "ticks": ""
             }
            },
            "type": "scatterpolar"
           }
          ],
          "scatterpolargl": [
           {
            "marker": {
             "colorbar": {
              "outlinewidth": 0,
              "ticks": ""
             }
            },
            "type": "scatterpolargl"
           }
          ],
          "scatterternary": [
           {
            "marker": {
             "colorbar": {
              "outlinewidth": 0,
              "ticks": ""
             }
            },
            "type": "scatterternary"
           }
          ],
          "surface": [
           {
            "colorbar": {
             "outlinewidth": 0,
             "ticks": ""
            },
            "colorscale": [
             [
              0,
              "#0d0887"
             ],
             [
              0.1111111111111111,
              "#46039f"
             ],
             [
              0.2222222222222222,
              "#7201a8"
             ],
             [
              0.3333333333333333,
              "#9c179e"
             ],
             [
              0.4444444444444444,
              "#bd3786"
             ],
             [
              0.5555555555555556,
              "#d8576b"
             ],
             [
              0.6666666666666666,
              "#ed7953"
             ],
             [
              0.7777777777777778,
              "#fb9f3a"
             ],
             [
              0.8888888888888888,
              "#fdca26"
             ],
             [
              1,
              "#f0f921"
             ]
            ],
            "type": "surface"
           }
          ],
          "table": [
           {
            "cells": {
             "fill": {
              "color": "#EBF0F8"
             },
             "line": {
              "color": "white"
             }
            },
            "header": {
             "fill": {
              "color": "#C8D4E3"
             },
             "line": {
              "color": "white"
             }
            },
            "type": "table"
           }
          ]
         },
         "layout": {
          "annotationdefaults": {
           "arrowcolor": "#2a3f5f",
           "arrowhead": 0,
           "arrowwidth": 1
          },
          "autotypenumbers": "strict",
          "coloraxis": {
           "colorbar": {
            "outlinewidth": 0,
            "ticks": ""
           }
          },
          "colorscale": {
           "diverging": [
            [
             0,
             "#8e0152"
            ],
            [
             0.1,
             "#c51b7d"
            ],
            [
             0.2,
             "#de77ae"
            ],
            [
             0.3,
             "#f1b6da"
            ],
            [
             0.4,
             "#fde0ef"
            ],
            [
             0.5,
             "#f7f7f7"
            ],
            [
             0.6,
             "#e6f5d0"
            ],
            [
             0.7,
             "#b8e186"
            ],
            [
             0.8,
             "#7fbc41"
            ],
            [
             0.9,
             "#4d9221"
            ],
            [
             1,
             "#276419"
            ]
           ],
           "sequential": [
            [
             0,
             "#0d0887"
            ],
            [
             0.1111111111111111,
             "#46039f"
            ],
            [
             0.2222222222222222,
             "#7201a8"
            ],
            [
             0.3333333333333333,
             "#9c179e"
            ],
            [
             0.4444444444444444,
             "#bd3786"
            ],
            [
             0.5555555555555556,
             "#d8576b"
            ],
            [
             0.6666666666666666,
             "#ed7953"
            ],
            [
             0.7777777777777778,
             "#fb9f3a"
            ],
            [
             0.8888888888888888,
             "#fdca26"
            ],
            [
             1,
             "#f0f921"
            ]
           ],
           "sequentialminus": [
            [
             0,
             "#0d0887"
            ],
            [
             0.1111111111111111,
             "#46039f"
            ],
            [
             0.2222222222222222,
             "#7201a8"
            ],
            [
             0.3333333333333333,
             "#9c179e"
            ],
            [
             0.4444444444444444,
             "#bd3786"
            ],
            [
             0.5555555555555556,
             "#d8576b"
            ],
            [
             0.6666666666666666,
             "#ed7953"
            ],
            [
             0.7777777777777778,
             "#fb9f3a"
            ],
            [
             0.8888888888888888,
             "#fdca26"
            ],
            [
             1,
             "#f0f921"
            ]
           ]
          },
          "colorway": [
           "#636efa",
           "#EF553B",
           "#00cc96",
           "#ab63fa",
           "#FFA15A",
           "#19d3f3",
           "#FF6692",
           "#B6E880",
           "#FF97FF",
           "#FECB52"
          ],
          "font": {
           "color": "#2a3f5f"
          },
          "geo": {
           "bgcolor": "white",
           "lakecolor": "white",
           "landcolor": "#E5ECF6",
           "showlakes": true,
           "showland": true,
           "subunitcolor": "white"
          },
          "hoverlabel": {
           "align": "left"
          },
          "hovermode": "closest",
          "mapbox": {
           "style": "light"
          },
          "paper_bgcolor": "white",
          "plot_bgcolor": "#E5ECF6",
          "polar": {
           "angularaxis": {
            "gridcolor": "white",
            "linecolor": "white",
            "ticks": ""
           },
           "bgcolor": "#E5ECF6",
           "radialaxis": {
            "gridcolor": "white",
            "linecolor": "white",
            "ticks": ""
           }
          },
          "scene": {
           "xaxis": {
            "backgroundcolor": "#E5ECF6",
            "gridcolor": "white",
            "gridwidth": 2,
            "linecolor": "white",
            "showbackground": true,
            "ticks": "",
            "zerolinecolor": "white"
           },
           "yaxis": {
            "backgroundcolor": "#E5ECF6",
            "gridcolor": "white",
            "gridwidth": 2,
            "linecolor": "white",
            "showbackground": true,
            "ticks": "",
            "zerolinecolor": "white"
           },
           "zaxis": {
            "backgroundcolor": "#E5ECF6",
            "gridcolor": "white",
            "gridwidth": 2,
            "linecolor": "white",
            "showbackground": true,
            "ticks": "",
            "zerolinecolor": "white"
           }
          },
          "shapedefaults": {
           "line": {
            "color": "#2a3f5f"
           }
          },
          "ternary": {
           "aaxis": {
            "gridcolor": "white",
            "linecolor": "white",
            "ticks": ""
           },
           "baxis": {
            "gridcolor": "white",
            "linecolor": "white",
            "ticks": ""
           },
           "bgcolor": "#E5ECF6",
           "caxis": {
            "gridcolor": "white",
            "linecolor": "white",
            "ticks": ""
           }
          },
          "title": {
           "x": 0.05
          },
          "xaxis": {
           "automargin": true,
           "gridcolor": "white",
           "linecolor": "white",
           "ticks": "",
           "title": {
            "standoff": 15
           },
           "zerolinecolor": "white",
           "zerolinewidth": 2
          },
          "yaxis": {
           "automargin": true,
           "gridcolor": "white",
           "linecolor": "white",
           "ticks": "",
           "title": {
            "standoff": 15
           },
           "zerolinecolor": "white",
           "zerolinewidth": 2
          }
         }
        },
        "title": {
         "font": {
          "color": "black",
          "family": "Arial",
          "size": 25
         }
        },
        "xaxis": {
         "anchor": "y",
         "domain": [
          0,
          1
         ],
         "range": [
          0,
          25
         ],
         "tickmode": "array",
         "tickvals": [
          1,
          2,
          3,
          4,
          5,
          6,
          7,
          8,
          9,
          10,
          11,
          12,
          13,
          14,
          15,
          16,
          17,
          18,
          19,
          20,
          21,
          22,
          23,
          24
         ],
         "title": {
          "text": "Hour"
         }
        },
        "yaxis": {
         "anchor": "x",
         "domain": [
          0,
          1
         ],
         "title": {
          "text": "Total Trips"
         }
        }
       }
      },
      "text/html": [
       "<div>                            <div id=\"ec379cff-f84a-4c70-881b-93dd616d386a\" class=\"plotly-graph-div\" style=\"height:525px; width:100%;\"></div>            <script type=\"text/javascript\">                require([\"plotly\"], function(Plotly) {                    window.PLOTLYENV=window.PLOTLYENV || {};                                    if (document.getElementById(\"ec379cff-f84a-4c70-881b-93dd616d386a\")) {                    Plotly.newPlot(                        \"ec379cff-f84a-4c70-881b-93dd616d386a\",                        [{\"alignmentgroup\":\"True\",\"hovertemplate\":\"Hour=%{x}<br>Total Trips=%{y}<extra></extra>\",\"legendgroup\":\"\",\"marker\":{\"color\":\"#38618c\",\"pattern\":{\"shape\":\"\"}},\"name\":\"\",\"offsetgroup\":\"\",\"orientation\":\"v\",\"showlegend\":false,\"textposition\":\"auto\",\"type\":\"bar\",\"x\":[1,2,3,4,5,6,7,8,9,10,11,12,13,14,15,16,17,18,19,20,21,22,23,24],\"xaxis\":\"x\",\"y\":[1.4830875975715525,0.9464440589765828,0.5279705117085862,0.2916305290546401,0.19622723330442327,0.17346053772766695,0.305724197745013,1.4169557675628794,2.5205984388551603,3.8627493495229834,4.563096270598439,5.232003469210754,6.876626192541196,7.368820468343452,6.865784908933217,7.71357328707719,7.575888985255855,8.26647875108413,8.282740676496097,7.289679098005204,6.2662619254119685,5.197311361665221,3.843235039028621,2.933651344319167],\"yaxis\":\"y\"}],                        {\"barmode\":\"relative\",\"font\":{\"color\":\"Black\",\"family\":\"Arial\",\"size\":16},\"legend\":{\"tracegroupgap\":0},\"margin\":{\"t\":60},\"showlegend\":false,\"template\":{\"data\":{\"bar\":[{\"error_x\":{\"color\":\"#2a3f5f\"},\"error_y\":{\"color\":\"#2a3f5f\"},\"marker\":{\"line\":{\"color\":\"#E5ECF6\",\"width\":0.5},\"pattern\":{\"fillmode\":\"overlay\",\"size\":10,\"solidity\":0.2}},\"type\":\"bar\"}],\"barpolar\":[{\"marker\":{\"line\":{\"color\":\"#E5ECF6\",\"width\":0.5},\"pattern\":{\"fillmode\":\"overlay\",\"size\":10,\"solidity\":0.2}},\"type\":\"barpolar\"}],\"carpet\":[{\"aaxis\":{\"endlinecolor\":\"#2a3f5f\",\"gridcolor\":\"white\",\"linecolor\":\"white\",\"minorgridcolor\":\"white\",\"startlinecolor\":\"#2a3f5f\"},\"baxis\":{\"endlinecolor\":\"#2a3f5f\",\"gridcolor\":\"white\",\"linecolor\":\"white\",\"minorgridcolor\":\"white\",\"startlinecolor\":\"#2a3f5f\"},\"type\":\"carpet\"}],\"choropleth\":[{\"colorbar\":{\"outlinewidth\":0,\"ticks\":\"\"},\"type\":\"choropleth\"}],\"contour\":[{\"colorbar\":{\"outlinewidth\":0,\"ticks\":\"\"},\"colorscale\":[[0.0,\"#0d0887\"],[0.1111111111111111,\"#46039f\"],[0.2222222222222222,\"#7201a8\"],[0.3333333333333333,\"#9c179e\"],[0.4444444444444444,\"#bd3786\"],[0.5555555555555556,\"#d8576b\"],[0.6666666666666666,\"#ed7953\"],[0.7777777777777778,\"#fb9f3a\"],[0.8888888888888888,\"#fdca26\"],[1.0,\"#f0f921\"]],\"type\":\"contour\"}],\"contourcarpet\":[{\"colorbar\":{\"outlinewidth\":0,\"ticks\":\"\"},\"type\":\"contourcarpet\"}],\"heatmap\":[{\"colorbar\":{\"outlinewidth\":0,\"ticks\":\"\"},\"colorscale\":[[0.0,\"#0d0887\"],[0.1111111111111111,\"#46039f\"],[0.2222222222222222,\"#7201a8\"],[0.3333333333333333,\"#9c179e\"],[0.4444444444444444,\"#bd3786\"],[0.5555555555555556,\"#d8576b\"],[0.6666666666666666,\"#ed7953\"],[0.7777777777777778,\"#fb9f3a\"],[0.8888888888888888,\"#fdca26\"],[1.0,\"#f0f921\"]],\"type\":\"heatmap\"}],\"heatmapgl\":[{\"colorbar\":{\"outlinewidth\":0,\"ticks\":\"\"},\"colorscale\":[[0.0,\"#0d0887\"],[0.1111111111111111,\"#46039f\"],[0.2222222222222222,\"#7201a8\"],[0.3333333333333333,\"#9c179e\"],[0.4444444444444444,\"#bd3786\"],[0.5555555555555556,\"#d8576b\"],[0.6666666666666666,\"#ed7953\"],[0.7777777777777778,\"#fb9f3a\"],[0.8888888888888888,\"#fdca26\"],[1.0,\"#f0f921\"]],\"type\":\"heatmapgl\"}],\"histogram\":[{\"marker\":{\"pattern\":{\"fillmode\":\"overlay\",\"size\":10,\"solidity\":0.2}},\"type\":\"histogram\"}],\"histogram2d\":[{\"colorbar\":{\"outlinewidth\":0,\"ticks\":\"\"},\"colorscale\":[[0.0,\"#0d0887\"],[0.1111111111111111,\"#46039f\"],[0.2222222222222222,\"#7201a8\"],[0.3333333333333333,\"#9c179e\"],[0.4444444444444444,\"#bd3786\"],[0.5555555555555556,\"#d8576b\"],[0.6666666666666666,\"#ed7953\"],[0.7777777777777778,\"#fb9f3a\"],[0.8888888888888888,\"#fdca26\"],[1.0,\"#f0f921\"]],\"type\":\"histogram2d\"}],\"histogram2dcontour\":[{\"colorbar\":{\"outlinewidth\":0,\"ticks\":\"\"},\"colorscale\":[[0.0,\"#0d0887\"],[0.1111111111111111,\"#46039f\"],[0.2222222222222222,\"#7201a8\"],[0.3333333333333333,\"#9c179e\"],[0.4444444444444444,\"#bd3786\"],[0.5555555555555556,\"#d8576b\"],[0.6666666666666666,\"#ed7953\"],[0.7777777777777778,\"#fb9f3a\"],[0.8888888888888888,\"#fdca26\"],[1.0,\"#f0f921\"]],\"type\":\"histogram2dcontour\"}],\"mesh3d\":[{\"colorbar\":{\"outlinewidth\":0,\"ticks\":\"\"},\"type\":\"mesh3d\"}],\"parcoords\":[{\"line\":{\"colorbar\":{\"outlinewidth\":0,\"ticks\":\"\"}},\"type\":\"parcoords\"}],\"pie\":[{\"automargin\":true,\"type\":\"pie\"}],\"scatter\":[{\"marker\":{\"colorbar\":{\"outlinewidth\":0,\"ticks\":\"\"}},\"type\":\"scatter\"}],\"scatter3d\":[{\"line\":{\"colorbar\":{\"outlinewidth\":0,\"ticks\":\"\"}},\"marker\":{\"colorbar\":{\"outlinewidth\":0,\"ticks\":\"\"}},\"type\":\"scatter3d\"}],\"scattercarpet\":[{\"marker\":{\"colorbar\":{\"outlinewidth\":0,\"ticks\":\"\"}},\"type\":\"scattercarpet\"}],\"scattergeo\":[{\"marker\":{\"colorbar\":{\"outlinewidth\":0,\"ticks\":\"\"}},\"type\":\"scattergeo\"}],\"scattergl\":[{\"marker\":{\"colorbar\":{\"outlinewidth\":0,\"ticks\":\"\"}},\"type\":\"scattergl\"}],\"scattermapbox\":[{\"marker\":{\"colorbar\":{\"outlinewidth\":0,\"ticks\":\"\"}},\"type\":\"scattermapbox\"}],\"scatterpolar\":[{\"marker\":{\"colorbar\":{\"outlinewidth\":0,\"ticks\":\"\"}},\"type\":\"scatterpolar\"}],\"scatterpolargl\":[{\"marker\":{\"colorbar\":{\"outlinewidth\":0,\"ticks\":\"\"}},\"type\":\"scatterpolargl\"}],\"scatterternary\":[{\"marker\":{\"colorbar\":{\"outlinewidth\":0,\"ticks\":\"\"}},\"type\":\"scatterternary\"}],\"surface\":[{\"colorbar\":{\"outlinewidth\":0,\"ticks\":\"\"},\"colorscale\":[[0.0,\"#0d0887\"],[0.1111111111111111,\"#46039f\"],[0.2222222222222222,\"#7201a8\"],[0.3333333333333333,\"#9c179e\"],[0.4444444444444444,\"#bd3786\"],[0.5555555555555556,\"#d8576b\"],[0.6666666666666666,\"#ed7953\"],[0.7777777777777778,\"#fb9f3a\"],[0.8888888888888888,\"#fdca26\"],[1.0,\"#f0f921\"]],\"type\":\"surface\"}],\"table\":[{\"cells\":{\"fill\":{\"color\":\"#EBF0F8\"},\"line\":{\"color\":\"white\"}},\"header\":{\"fill\":{\"color\":\"#C8D4E3\"},\"line\":{\"color\":\"white\"}},\"type\":\"table\"}]},\"layout\":{\"annotationdefaults\":{\"arrowcolor\":\"#2a3f5f\",\"arrowhead\":0,\"arrowwidth\":1},\"autotypenumbers\":\"strict\",\"coloraxis\":{\"colorbar\":{\"outlinewidth\":0,\"ticks\":\"\"}},\"colorscale\":{\"diverging\":[[0,\"#8e0152\"],[0.1,\"#c51b7d\"],[0.2,\"#de77ae\"],[0.3,\"#f1b6da\"],[0.4,\"#fde0ef\"],[0.5,\"#f7f7f7\"],[0.6,\"#e6f5d0\"],[0.7,\"#b8e186\"],[0.8,\"#7fbc41\"],[0.9,\"#4d9221\"],[1,\"#276419\"]],\"sequential\":[[0.0,\"#0d0887\"],[0.1111111111111111,\"#46039f\"],[0.2222222222222222,\"#7201a8\"],[0.3333333333333333,\"#9c179e\"],[0.4444444444444444,\"#bd3786\"],[0.5555555555555556,\"#d8576b\"],[0.6666666666666666,\"#ed7953\"],[0.7777777777777778,\"#fb9f3a\"],[0.8888888888888888,\"#fdca26\"],[1.0,\"#f0f921\"]],\"sequentialminus\":[[0.0,\"#0d0887\"],[0.1111111111111111,\"#46039f\"],[0.2222222222222222,\"#7201a8\"],[0.3333333333333333,\"#9c179e\"],[0.4444444444444444,\"#bd3786\"],[0.5555555555555556,\"#d8576b\"],[0.6666666666666666,\"#ed7953\"],[0.7777777777777778,\"#fb9f3a\"],[0.8888888888888888,\"#fdca26\"],[1.0,\"#f0f921\"]]},\"colorway\":[\"#636efa\",\"#EF553B\",\"#00cc96\",\"#ab63fa\",\"#FFA15A\",\"#19d3f3\",\"#FF6692\",\"#B6E880\",\"#FF97FF\",\"#FECB52\"],\"font\":{\"color\":\"#2a3f5f\"},\"geo\":{\"bgcolor\":\"white\",\"lakecolor\":\"white\",\"landcolor\":\"#E5ECF6\",\"showlakes\":true,\"showland\":true,\"subunitcolor\":\"white\"},\"hoverlabel\":{\"align\":\"left\"},\"hovermode\":\"closest\",\"mapbox\":{\"style\":\"light\"},\"paper_bgcolor\":\"white\",\"plot_bgcolor\":\"#E5ECF6\",\"polar\":{\"angularaxis\":{\"gridcolor\":\"white\",\"linecolor\":\"white\",\"ticks\":\"\"},\"bgcolor\":\"#E5ECF6\",\"radialaxis\":{\"gridcolor\":\"white\",\"linecolor\":\"white\",\"ticks\":\"\"}},\"scene\":{\"xaxis\":{\"backgroundcolor\":\"#E5ECF6\",\"gridcolor\":\"white\",\"gridwidth\":2,\"linecolor\":\"white\",\"showbackground\":true,\"ticks\":\"\",\"zerolinecolor\":\"white\"},\"yaxis\":{\"backgroundcolor\":\"#E5ECF6\",\"gridcolor\":\"white\",\"gridwidth\":2,\"linecolor\":\"white\",\"showbackground\":true,\"ticks\":\"\",\"zerolinecolor\":\"white\"},\"zaxis\":{\"backgroundcolor\":\"#E5ECF6\",\"gridcolor\":\"white\",\"gridwidth\":2,\"linecolor\":\"white\",\"showbackground\":true,\"ticks\":\"\",\"zerolinecolor\":\"white\"}},\"shapedefaults\":{\"line\":{\"color\":\"#2a3f5f\"}},\"ternary\":{\"aaxis\":{\"gridcolor\":\"white\",\"linecolor\":\"white\",\"ticks\":\"\"},\"baxis\":{\"gridcolor\":\"white\",\"linecolor\":\"white\",\"ticks\":\"\"},\"bgcolor\":\"#E5ECF6\",\"caxis\":{\"gridcolor\":\"white\",\"linecolor\":\"white\",\"ticks\":\"\"}},\"title\":{\"x\":0.05},\"xaxis\":{\"automargin\":true,\"gridcolor\":\"white\",\"linecolor\":\"white\",\"ticks\":\"\",\"title\":{\"standoff\":15},\"zerolinecolor\":\"white\",\"zerolinewidth\":2},\"yaxis\":{\"automargin\":true,\"gridcolor\":\"white\",\"linecolor\":\"white\",\"ticks\":\"\",\"title\":{\"standoff\":15},\"zerolinecolor\":\"white\",\"zerolinewidth\":2}}},\"title\":{\"font\":{\"color\":\"black\",\"family\":\"Arial\",\"size\":25}},\"xaxis\":{\"anchor\":\"y\",\"domain\":[0.0,1.0],\"range\":[0,25],\"tickmode\":\"array\",\"tickvals\":[1,2,3,4,5,6,7,8,9,10,11,12,13,14,15,16,17,18,19,20,21,22,23,24],\"title\":{\"text\":\"Hour\"}},\"yaxis\":{\"anchor\":\"x\",\"domain\":[0.0,1.0],\"title\":{\"text\":\"Total Trips\"}}},                        {\"responsive\": true}                    ).then(function(){\n",
       "                            \n",
       "var gd = document.getElementById('ec379cff-f84a-4c70-881b-93dd616d386a');\n",
       "var x = new MutationObserver(function (mutations, observer) {{\n",
       "        var display = window.getComputedStyle(gd).display;\n",
       "        if (!display || display === 'none') {{\n",
       "            console.log([gd, 'removed!']);\n",
       "            Plotly.purge(gd);\n",
       "            observer.disconnect();\n",
       "        }}\n",
       "}});\n",
       "\n",
       "// Listen for the removal of the full notebook cells\n",
       "var notebookContainer = gd.closest('#notebook-container');\n",
       "if (notebookContainer) {{\n",
       "    x.observe(notebookContainer, {childList: true});\n",
       "}}\n",
       "\n",
       "// Listen for the clearing of the current output cell\n",
       "var outputEl = gd.closest('.output');\n",
       "if (outputEl) {{\n",
       "    x.observe(outputEl, {childList: true});\n",
       "}}\n",
       "\n",
       "                        })                };                });            </script>        </div>"
      ]
     },
     "metadata": {},
     "output_type": "display_data"
    }
   ],
   "source": [
    "hours_color = [color_2021]*24\n",
    "\n",
    "fig0 = px.bar(\n",
    "    trips_2021, #dataframe\n",
    "    x=[list(range(1,25))], # x\n",
    "    y=(((trips_2021[trips_2021['Checkout Kiosk ID'].isin([3793,3838,3795,3794,111,3841,11,3792,2548,2547,3797,3798,3799,4879])].groupby(['Checkout_Hour']).size())/92240)*100),#y\n",
    "    labels={\"value\": \"Hour\", \"y\": \"Total Trips\"}, \n",
    "    color=hours_color,\n",
    "    color_discrete_map=\"identity\",\n",
    "    orientation=\"v\"  \n",
    ")\n",
    "  \n",
    "fig0.update_layout(\n",
    "    xaxis_range=[0,25],\n",
    "    # yaxis_range=[0,237000],\n",
    "    xaxis = dict(\n",
    "        tickmode = 'array',\n",
    "        tickvals = [1,2,3,4,5,6,7,8,9,10,11,12,13,14,15,16,17,18,19,20,21,22,23,24],\n",
    "    ),\n",
    "    #yaxis = dict(\n",
    "    #    tickmode = 'array',\n",
    "    #    tickvals = [0,75000,150000,225000],\n",
    "    #),\n",
    "    showlegend=False,\n",
    "    title_font_family=\"Arial\",\n",
    "    title_font_color=\"black\",\n",
    "    title_font_size = 25,\n",
    "    font=dict(\n",
    "        family=\"Arial\",\n",
    "        size=16,\n",
    "        color=\"Black\"\n",
    "    ), \n",
    "    #legend_title_font_color=\"green\"\n",
    ")\n",
    "fig0"
   ]
  },
  {
   "cell_type": "code",
   "execution_count": 28,
   "id": "511aa175",
   "metadata": {},
   "outputs": [
    {
     "data": {
      "text/html": [
       "<div>\n",
       "<style scoped>\n",
       "    .dataframe tbody tr th:only-of-type {\n",
       "        vertical-align: middle;\n",
       "    }\n",
       "\n",
       "    .dataframe tbody tr th {\n",
       "        vertical-align: top;\n",
       "    }\n",
       "\n",
       "    .dataframe thead th {\n",
       "        text-align: right;\n",
       "    }\n",
       "</style>\n",
       "<table border=\"1\" class=\"dataframe\">\n",
       "  <thead>\n",
       "    <tr style=\"text-align: right;\">\n",
       "      <th></th>\n",
       "      <th>Unnamed: 0</th>\n",
       "      <th>Trip ID</th>\n",
       "      <th>Membership Type</th>\n",
       "      <th>Bicycle ID</th>\n",
       "      <th>Bike Type</th>\n",
       "      <th>Checkout Date</th>\n",
       "      <th>Checkout Time</th>\n",
       "      <th>Checkout Kiosk ID</th>\n",
       "      <th>Checkout Kiosk</th>\n",
       "      <th>Return Kiosk ID</th>\n",
       "      <th>Return Kiosk</th>\n",
       "      <th>Trip Duration Minutes</th>\n",
       "      <th>Month</th>\n",
       "      <th>Year</th>\n",
       "      <th>Checkout_Hour</th>\n",
       "      <th>Checkout_Min</th>\n",
       "      <th>Year_2</th>\n",
       "      <th>Month_2</th>\n",
       "      <th>Weekday</th>\n",
       "      <th>Week_of_Year</th>\n",
       "      <th>Day_of_Year</th>\n",
       "      <th>Day_of_Month</th>\n",
       "      <th>Min_of_Day</th>\n",
       "      <th>Membership Version</th>\n",
       "    </tr>\n",
       "  </thead>\n",
       "  <tbody>\n",
       "    <tr>\n",
       "      <th>1026826</th>\n",
       "      <td>1046995</td>\n",
       "      <td>23417195</td>\n",
       "      <td>Local365</td>\n",
       "      <td>19211</td>\n",
       "      <td>NaN</td>\n",
       "      <td>01/15/2021</td>\n",
       "      <td>20:13:58</td>\n",
       "      <td>2563.0</td>\n",
       "      <td>Rainey/Davis</td>\n",
       "      <td>3621</td>\n",
       "      <td>3rd/Nueces</td>\n",
       "      <td>733</td>\n",
       "      <td>NaN</td>\n",
       "      <td>NaN</td>\n",
       "      <td>20</td>\n",
       "      <td>13</td>\n",
       "      <td>2021</td>\n",
       "      <td>1</td>\n",
       "      <td>4</td>\n",
       "      <td>2</td>\n",
       "      <td>15</td>\n",
       "      <td>15</td>\n",
       "      <td>1213</td>\n",
       "      <td>Annual</td>\n",
       "    </tr>\n",
       "    <tr>\n",
       "      <th>1027171</th>\n",
       "      <td>1047350</td>\n",
       "      <td>23388533</td>\n",
       "      <td>Local365</td>\n",
       "      <td>16456</td>\n",
       "      <td>NaN</td>\n",
       "      <td>01/05/2021</td>\n",
       "      <td>19:44:27</td>\n",
       "      <td>2494.0</td>\n",
       "      <td>2nd/Congress</td>\n",
       "      <td>2563</td>\n",
       "      <td>Rainey/Davis</td>\n",
       "      <td>5</td>\n",
       "      <td>NaN</td>\n",
       "      <td>NaN</td>\n",
       "      <td>19</td>\n",
       "      <td>44</td>\n",
       "      <td>2021</td>\n",
       "      <td>1</td>\n",
       "      <td>1</td>\n",
       "      <td>1</td>\n",
       "      <td>5</td>\n",
       "      <td>5</td>\n",
       "      <td>1184</td>\n",
       "      <td>Annual</td>\n",
       "    </tr>\n",
       "    <tr>\n",
       "      <th>1027608</th>\n",
       "      <td>1047795</td>\n",
       "      <td>23412821</td>\n",
       "      <td>Local365</td>\n",
       "      <td>18909</td>\n",
       "      <td>NaN</td>\n",
       "      <td>01/14/2021</td>\n",
       "      <td>12:48:32</td>\n",
       "      <td>2501.0</td>\n",
       "      <td>5th/Bowie</td>\n",
       "      <td>2499</td>\n",
       "      <td>2nd/Lavaca @ City Hall</td>\n",
       "      <td>6</td>\n",
       "      <td>NaN</td>\n",
       "      <td>NaN</td>\n",
       "      <td>12</td>\n",
       "      <td>48</td>\n",
       "      <td>2021</td>\n",
       "      <td>1</td>\n",
       "      <td>3</td>\n",
       "      <td>2</td>\n",
       "      <td>14</td>\n",
       "      <td>14</td>\n",
       "      <td>768</td>\n",
       "      <td>Annual</td>\n",
       "    </tr>\n",
       "    <tr>\n",
       "      <th>1028129</th>\n",
       "      <td>1048328</td>\n",
       "      <td>23437189</td>\n",
       "      <td>Local365</td>\n",
       "      <td>18132</td>\n",
       "      <td>NaN</td>\n",
       "      <td>01/21/2021</td>\n",
       "      <td>11:59:06</td>\n",
       "      <td>3795.0</td>\n",
       "      <td>Dean Keeton/Whitis</td>\n",
       "      <td>2552</td>\n",
       "      <td>3rd/West</td>\n",
       "      <td>11</td>\n",
       "      <td>NaN</td>\n",
       "      <td>NaN</td>\n",
       "      <td>11</td>\n",
       "      <td>59</td>\n",
       "      <td>2021</td>\n",
       "      <td>1</td>\n",
       "      <td>3</td>\n",
       "      <td>3</td>\n",
       "      <td>21</td>\n",
       "      <td>21</td>\n",
       "      <td>719</td>\n",
       "      <td>Annual</td>\n",
       "    </tr>\n",
       "    <tr>\n",
       "      <th>1029121</th>\n",
       "      <td>1049349</td>\n",
       "      <td>23449300</td>\n",
       "      <td>Local365</td>\n",
       "      <td>16276</td>\n",
       "      <td>NaN</td>\n",
       "      <td>01/24/2021</td>\n",
       "      <td>18:17:10</td>\n",
       "      <td>3660.0</td>\n",
       "      <td>East 6th/Medina</td>\n",
       "      <td>3792</td>\n",
       "      <td>22nd/Pearl</td>\n",
       "      <td>29</td>\n",
       "      <td>NaN</td>\n",
       "      <td>NaN</td>\n",
       "      <td>18</td>\n",
       "      <td>17</td>\n",
       "      <td>2021</td>\n",
       "      <td>1</td>\n",
       "      <td>6</td>\n",
       "      <td>3</td>\n",
       "      <td>24</td>\n",
       "      <td>24</td>\n",
       "      <td>1097</td>\n",
       "      <td>Annual</td>\n",
       "    </tr>\n",
       "    <tr>\n",
       "      <th>...</th>\n",
       "      <td>...</td>\n",
       "      <td>...</td>\n",
       "      <td>...</td>\n",
       "      <td>...</td>\n",
       "      <td>...</td>\n",
       "      <td>...</td>\n",
       "      <td>...</td>\n",
       "      <td>...</td>\n",
       "      <td>...</td>\n",
       "      <td>...</td>\n",
       "      <td>...</td>\n",
       "      <td>...</td>\n",
       "      <td>...</td>\n",
       "      <td>...</td>\n",
       "      <td>...</td>\n",
       "      <td>...</td>\n",
       "      <td>...</td>\n",
       "      <td>...</td>\n",
       "      <td>...</td>\n",
       "      <td>...</td>\n",
       "      <td>...</td>\n",
       "      <td>...</td>\n",
       "      <td>...</td>\n",
       "      <td>...</td>\n",
       "    </tr>\n",
       "    <tr>\n",
       "      <th>1526271</th>\n",
       "      <td>1548074</td>\n",
       "      <td>25793094</td>\n",
       "      <td>Local31</td>\n",
       "      <td>21500</td>\n",
       "      <td>NaN</td>\n",
       "      <td>12/10/2021</td>\n",
       "      <td>23:01:45</td>\n",
       "      <td>4050.0</td>\n",
       "      <td>5th/Campbell</td>\n",
       "      <td>2496</td>\n",
       "      <td>8th/Congress</td>\n",
       "      <td>8</td>\n",
       "      <td>NaN</td>\n",
       "      <td>NaN</td>\n",
       "      <td>23</td>\n",
       "      <td>1</td>\n",
       "      <td>2021</td>\n",
       "      <td>12</td>\n",
       "      <td>4</td>\n",
       "      <td>49</td>\n",
       "      <td>344</td>\n",
       "      <td>10</td>\n",
       "      <td>1381</td>\n",
       "      <td>Monthly</td>\n",
       "    </tr>\n",
       "    <tr>\n",
       "      <th>1526272</th>\n",
       "      <td>1548075</td>\n",
       "      <td>25806367</td>\n",
       "      <td>Local31</td>\n",
       "      <td>21464</td>\n",
       "      <td>NaN</td>\n",
       "      <td>12/13/2021</td>\n",
       "      <td>19:20:56</td>\n",
       "      <td>2504.0</td>\n",
       "      <td>South Congress/Elizabeth</td>\n",
       "      <td>3686</td>\n",
       "      <td>Sterzing/Barton Springs</td>\n",
       "      <td>28</td>\n",
       "      <td>NaN</td>\n",
       "      <td>NaN</td>\n",
       "      <td>19</td>\n",
       "      <td>20</td>\n",
       "      <td>2021</td>\n",
       "      <td>12</td>\n",
       "      <td>0</td>\n",
       "      <td>50</td>\n",
       "      <td>347</td>\n",
       "      <td>13</td>\n",
       "      <td>1160</td>\n",
       "      <td>Monthly</td>\n",
       "    </tr>\n",
       "    <tr>\n",
       "      <th>1526273</th>\n",
       "      <td>1548076</td>\n",
       "      <td>25801670</td>\n",
       "      <td>Local31</td>\n",
       "      <td>21709</td>\n",
       "      <td>NaN</td>\n",
       "      <td>12/12/2021</td>\n",
       "      <td>20:06:17</td>\n",
       "      <td>3621.0</td>\n",
       "      <td>3rd/Nueces</td>\n",
       "      <td>2548</td>\n",
       "      <td>Guadalupe/West Mall @ University Co-op</td>\n",
       "      <td>94</td>\n",
       "      <td>NaN</td>\n",
       "      <td>NaN</td>\n",
       "      <td>20</td>\n",
       "      <td>6</td>\n",
       "      <td>2021</td>\n",
       "      <td>12</td>\n",
       "      <td>6</td>\n",
       "      <td>49</td>\n",
       "      <td>346</td>\n",
       "      <td>12</td>\n",
       "      <td>1206</td>\n",
       "      <td>Monthly</td>\n",
       "    </tr>\n",
       "    <tr>\n",
       "      <th>1526274</th>\n",
       "      <td>1548077</td>\n",
       "      <td>25869215</td>\n",
       "      <td>Student Membership</td>\n",
       "      <td>1687</td>\n",
       "      <td>NaN</td>\n",
       "      <td>12/31/2021</td>\n",
       "      <td>13:12:37</td>\n",
       "      <td>3794.0</td>\n",
       "      <td>Dean Keeton/Speedway</td>\n",
       "      <td>3793</td>\n",
       "      <td>28th/Rio Grande</td>\n",
       "      <td>16</td>\n",
       "      <td>NaN</td>\n",
       "      <td>NaN</td>\n",
       "      <td>13</td>\n",
       "      <td>12</td>\n",
       "      <td>2021</td>\n",
       "      <td>12</td>\n",
       "      <td>4</td>\n",
       "      <td>52</td>\n",
       "      <td>365</td>\n",
       "      <td>31</td>\n",
       "      <td>792</td>\n",
       "      <td>Student</td>\n",
       "    </tr>\n",
       "    <tr>\n",
       "      <th>1526275</th>\n",
       "      <td>1548078</td>\n",
       "      <td>25854024</td>\n",
       "      <td>Local31</td>\n",
       "      <td>21752</td>\n",
       "      <td>NaN</td>\n",
       "      <td>12/27/2021</td>\n",
       "      <td>16:16:57</td>\n",
       "      <td>3792.0</td>\n",
       "      <td>22nd/Pearl</td>\n",
       "      <td>2547</td>\n",
       "      <td>21st/Guadalupe</td>\n",
       "      <td>3</td>\n",
       "      <td>NaN</td>\n",
       "      <td>NaN</td>\n",
       "      <td>16</td>\n",
       "      <td>16</td>\n",
       "      <td>2021</td>\n",
       "      <td>12</td>\n",
       "      <td>0</td>\n",
       "      <td>52</td>\n",
       "      <td>361</td>\n",
       "      <td>27</td>\n",
       "      <td>976</td>\n",
       "      <td>Monthly</td>\n",
       "    </tr>\n",
       "  </tbody>\n",
       "</table>\n",
       "<p>223995 rows × 24 columns</p>\n",
       "</div>"
      ],
      "text/plain": [
       "         Unnamed: 0   Trip ID     Membership Type Bicycle ID  Bike Type  \\\n",
       "1026826     1046995  23417195            Local365      19211        NaN   \n",
       "1027171     1047350  23388533            Local365      16456        NaN   \n",
       "1027608     1047795  23412821            Local365      18909        NaN   \n",
       "1028129     1048328  23437189            Local365      18132        NaN   \n",
       "1029121     1049349  23449300            Local365      16276        NaN   \n",
       "...             ...       ...                 ...        ...        ...   \n",
       "1526271     1548074  25793094             Local31      21500        NaN   \n",
       "1526272     1548075  25806367             Local31      21464        NaN   \n",
       "1526273     1548076  25801670             Local31      21709        NaN   \n",
       "1526274     1548077  25869215  Student Membership       1687        NaN   \n",
       "1526275     1548078  25854024             Local31      21752        NaN   \n",
       "\n",
       "        Checkout Date Checkout Time  Checkout Kiosk ID  \\\n",
       "1026826    01/15/2021      20:13:58             2563.0   \n",
       "1027171    01/05/2021      19:44:27             2494.0   \n",
       "1027608    01/14/2021      12:48:32             2501.0   \n",
       "1028129    01/21/2021      11:59:06             3795.0   \n",
       "1029121    01/24/2021      18:17:10             3660.0   \n",
       "...               ...           ...                ...   \n",
       "1526271    12/10/2021      23:01:45             4050.0   \n",
       "1526272    12/13/2021      19:20:56             2504.0   \n",
       "1526273    12/12/2021      20:06:17             3621.0   \n",
       "1526274    12/31/2021      13:12:37             3794.0   \n",
       "1526275    12/27/2021      16:16:57             3792.0   \n",
       "\n",
       "                   Checkout Kiosk Return Kiosk ID  \\\n",
       "1026826              Rainey/Davis            3621   \n",
       "1027171              2nd/Congress            2563   \n",
       "1027608                 5th/Bowie            2499   \n",
       "1028129        Dean Keeton/Whitis            2552   \n",
       "1029121           East 6th/Medina            3792   \n",
       "...                           ...             ...   \n",
       "1526271              5th/Campbell            2496   \n",
       "1526272  South Congress/Elizabeth            3686   \n",
       "1526273                3rd/Nueces            2548   \n",
       "1526274      Dean Keeton/Speedway            3793   \n",
       "1526275                22nd/Pearl            2547   \n",
       "\n",
       "                                   Return Kiosk  Trip Duration Minutes  Month  \\\n",
       "1026826                              3rd/Nueces                    733    NaN   \n",
       "1027171                            Rainey/Davis                      5    NaN   \n",
       "1027608                  2nd/Lavaca @ City Hall                      6    NaN   \n",
       "1028129                                3rd/West                     11    NaN   \n",
       "1029121                              22nd/Pearl                     29    NaN   \n",
       "...                                         ...                    ...    ...   \n",
       "1526271                            8th/Congress                      8    NaN   \n",
       "1526272                 Sterzing/Barton Springs                     28    NaN   \n",
       "1526273  Guadalupe/West Mall @ University Co-op                     94    NaN   \n",
       "1526274                         28th/Rio Grande                     16    NaN   \n",
       "1526275                          21st/Guadalupe                      3    NaN   \n",
       "\n",
       "         Year  Checkout_Hour  Checkout_Min  Year_2  Month_2  Weekday  \\\n",
       "1026826   NaN             20            13    2021        1        4   \n",
       "1027171   NaN             19            44    2021        1        1   \n",
       "1027608   NaN             12            48    2021        1        3   \n",
       "1028129   NaN             11            59    2021        1        3   \n",
       "1029121   NaN             18            17    2021        1        6   \n",
       "...       ...            ...           ...     ...      ...      ...   \n",
       "1526271   NaN             23             1    2021       12        4   \n",
       "1526272   NaN             19            20    2021       12        0   \n",
       "1526273   NaN             20             6    2021       12        6   \n",
       "1526274   NaN             13            12    2021       12        4   \n",
       "1526275   NaN             16            16    2021       12        0   \n",
       "\n",
       "         Week_of_Year  Day_of_Year  Day_of_Month  Min_of_Day  \\\n",
       "1026826             2           15            15        1213   \n",
       "1027171             1            5             5        1184   \n",
       "1027608             2           14            14         768   \n",
       "1028129             3           21            21         719   \n",
       "1029121             3           24            24        1097   \n",
       "...               ...          ...           ...         ...   \n",
       "1526271            49          344            10        1381   \n",
       "1526272            50          347            13        1160   \n",
       "1526273            49          346            12        1206   \n",
       "1526274            52          365            31         792   \n",
       "1526275            52          361            27         976   \n",
       "\n",
       "        Membership Version  \n",
       "1026826             Annual  \n",
       "1027171             Annual  \n",
       "1027608             Annual  \n",
       "1028129             Annual  \n",
       "1029121             Annual  \n",
       "...                    ...  \n",
       "1526271            Monthly  \n",
       "1526272            Monthly  \n",
       "1526273            Monthly  \n",
       "1526274            Student  \n",
       "1526275            Monthly  \n",
       "\n",
       "[223995 rows x 24 columns]"
      ]
     },
     "execution_count": 28,
     "metadata": {},
     "output_type": "execute_result"
    }
   ],
   "source": [
    "trips_2021"
   ]
  },
  {
   "cell_type": "code",
   "execution_count": 29,
   "id": "fe724328",
   "metadata": {},
   "outputs": [
    {
     "data": {
      "application/vnd.plotly.v1+json": {
       "config": {
        "plotlyServerURL": "https://plotly.com"
       },
       "data": [
        {
         "alignmentgroup": "True",
         "hovertemplate": "Week of Year=%{x}<br>Total Trips=%{y}<extra></extra>",
         "legendgroup": "",
         "marker": {
          "color": "#38618c",
          "pattern": {
           "shape": ""
          }
         },
         "name": "",
         "offsetgroup": "",
         "orientation": "v",
         "showlegend": false,
         "textposition": "auto",
         "type": "bar",
         "x": [
          1,
          2,
          3,
          4,
          5,
          6,
          7,
          8,
          9,
          10,
          11,
          12,
          13,
          14,
          15,
          16,
          17,
          18,
          19,
          20,
          21,
          22,
          23,
          24,
          25,
          26,
          27,
          28,
          29,
          30,
          31,
          32,
          33,
          34,
          35,
          36,
          37,
          38,
          39,
          40,
          41,
          42,
          43,
          44,
          45,
          46,
          47,
          48,
          49,
          50,
          51,
          52,
          53
         ],
         "xaxis": "x",
         "y": [
          1790,
          2416,
          2196,
          2784,
          2997,
          1231,
          640,
          2527,
          3041,
          3311,
          4868,
          4031,
          3971,
          4374,
          3926,
          4169,
          3140,
          4470,
          4055,
          3102,
          3934,
          3939,
          3785,
          3549,
          3970,
          4038,
          3399,
          3483,
          3370,
          3209,
          3055,
          2806,
          3446,
          5307,
          6270,
          5986,
          6952,
          7459,
          7309,
          8462,
          7593,
          7490,
          7129,
          5897,
          7585,
          6199,
          3374,
          6865,
          5413,
          3024,
          2485,
          2773,
          1401
         ],
         "yaxis": "y"
        }
       ],
       "layout": {
        "barmode": "relative",
        "font": {
         "color": "Black",
         "family": "Arial",
         "size": 16
        },
        "legend": {
         "tracegroupgap": 0
        },
        "margin": {
         "t": 60
        },
        "showlegend": false,
        "template": {
         "data": {
          "bar": [
           {
            "error_x": {
             "color": "#2a3f5f"
            },
            "error_y": {
             "color": "#2a3f5f"
            },
            "marker": {
             "line": {
              "color": "#E5ECF6",
              "width": 0.5
             },
             "pattern": {
              "fillmode": "overlay",
              "size": 10,
              "solidity": 0.2
             }
            },
            "type": "bar"
           }
          ],
          "barpolar": [
           {
            "marker": {
             "line": {
              "color": "#E5ECF6",
              "width": 0.5
             },
             "pattern": {
              "fillmode": "overlay",
              "size": 10,
              "solidity": 0.2
             }
            },
            "type": "barpolar"
           }
          ],
          "carpet": [
           {
            "aaxis": {
             "endlinecolor": "#2a3f5f",
             "gridcolor": "white",
             "linecolor": "white",
             "minorgridcolor": "white",
             "startlinecolor": "#2a3f5f"
            },
            "baxis": {
             "endlinecolor": "#2a3f5f",
             "gridcolor": "white",
             "linecolor": "white",
             "minorgridcolor": "white",
             "startlinecolor": "#2a3f5f"
            },
            "type": "carpet"
           }
          ],
          "choropleth": [
           {
            "colorbar": {
             "outlinewidth": 0,
             "ticks": ""
            },
            "type": "choropleth"
           }
          ],
          "contour": [
           {
            "colorbar": {
             "outlinewidth": 0,
             "ticks": ""
            },
            "colorscale": [
             [
              0,
              "#0d0887"
             ],
             [
              0.1111111111111111,
              "#46039f"
             ],
             [
              0.2222222222222222,
              "#7201a8"
             ],
             [
              0.3333333333333333,
              "#9c179e"
             ],
             [
              0.4444444444444444,
              "#bd3786"
             ],
             [
              0.5555555555555556,
              "#d8576b"
             ],
             [
              0.6666666666666666,
              "#ed7953"
             ],
             [
              0.7777777777777778,
              "#fb9f3a"
             ],
             [
              0.8888888888888888,
              "#fdca26"
             ],
             [
              1,
              "#f0f921"
             ]
            ],
            "type": "contour"
           }
          ],
          "contourcarpet": [
           {
            "colorbar": {
             "outlinewidth": 0,
             "ticks": ""
            },
            "type": "contourcarpet"
           }
          ],
          "heatmap": [
           {
            "colorbar": {
             "outlinewidth": 0,
             "ticks": ""
            },
            "colorscale": [
             [
              0,
              "#0d0887"
             ],
             [
              0.1111111111111111,
              "#46039f"
             ],
             [
              0.2222222222222222,
              "#7201a8"
             ],
             [
              0.3333333333333333,
              "#9c179e"
             ],
             [
              0.4444444444444444,
              "#bd3786"
             ],
             [
              0.5555555555555556,
              "#d8576b"
             ],
             [
              0.6666666666666666,
              "#ed7953"
             ],
             [
              0.7777777777777778,
              "#fb9f3a"
             ],
             [
              0.8888888888888888,
              "#fdca26"
             ],
             [
              1,
              "#f0f921"
             ]
            ],
            "type": "heatmap"
           }
          ],
          "heatmapgl": [
           {
            "colorbar": {
             "outlinewidth": 0,
             "ticks": ""
            },
            "colorscale": [
             [
              0,
              "#0d0887"
             ],
             [
              0.1111111111111111,
              "#46039f"
             ],
             [
              0.2222222222222222,
              "#7201a8"
             ],
             [
              0.3333333333333333,
              "#9c179e"
             ],
             [
              0.4444444444444444,
              "#bd3786"
             ],
             [
              0.5555555555555556,
              "#d8576b"
             ],
             [
              0.6666666666666666,
              "#ed7953"
             ],
             [
              0.7777777777777778,
              "#fb9f3a"
             ],
             [
              0.8888888888888888,
              "#fdca26"
             ],
             [
              1,
              "#f0f921"
             ]
            ],
            "type": "heatmapgl"
           }
          ],
          "histogram": [
           {
            "marker": {
             "pattern": {
              "fillmode": "overlay",
              "size": 10,
              "solidity": 0.2
             }
            },
            "type": "histogram"
           }
          ],
          "histogram2d": [
           {
            "colorbar": {
             "outlinewidth": 0,
             "ticks": ""
            },
            "colorscale": [
             [
              0,
              "#0d0887"
             ],
             [
              0.1111111111111111,
              "#46039f"
             ],
             [
              0.2222222222222222,
              "#7201a8"
             ],
             [
              0.3333333333333333,
              "#9c179e"
             ],
             [
              0.4444444444444444,
              "#bd3786"
             ],
             [
              0.5555555555555556,
              "#d8576b"
             ],
             [
              0.6666666666666666,
              "#ed7953"
             ],
             [
              0.7777777777777778,
              "#fb9f3a"
             ],
             [
              0.8888888888888888,
              "#fdca26"
             ],
             [
              1,
              "#f0f921"
             ]
            ],
            "type": "histogram2d"
           }
          ],
          "histogram2dcontour": [
           {
            "colorbar": {
             "outlinewidth": 0,
             "ticks": ""
            },
            "colorscale": [
             [
              0,
              "#0d0887"
             ],
             [
              0.1111111111111111,
              "#46039f"
             ],
             [
              0.2222222222222222,
              "#7201a8"
             ],
             [
              0.3333333333333333,
              "#9c179e"
             ],
             [
              0.4444444444444444,
              "#bd3786"
             ],
             [
              0.5555555555555556,
              "#d8576b"
             ],
             [
              0.6666666666666666,
              "#ed7953"
             ],
             [
              0.7777777777777778,
              "#fb9f3a"
             ],
             [
              0.8888888888888888,
              "#fdca26"
             ],
             [
              1,
              "#f0f921"
             ]
            ],
            "type": "histogram2dcontour"
           }
          ],
          "mesh3d": [
           {
            "colorbar": {
             "outlinewidth": 0,
             "ticks": ""
            },
            "type": "mesh3d"
           }
          ],
          "parcoords": [
           {
            "line": {
             "colorbar": {
              "outlinewidth": 0,
              "ticks": ""
             }
            },
            "type": "parcoords"
           }
          ],
          "pie": [
           {
            "automargin": true,
            "type": "pie"
           }
          ],
          "scatter": [
           {
            "marker": {
             "colorbar": {
              "outlinewidth": 0,
              "ticks": ""
             }
            },
            "type": "scatter"
           }
          ],
          "scatter3d": [
           {
            "line": {
             "colorbar": {
              "outlinewidth": 0,
              "ticks": ""
             }
            },
            "marker": {
             "colorbar": {
              "outlinewidth": 0,
              "ticks": ""
             }
            },
            "type": "scatter3d"
           }
          ],
          "scattercarpet": [
           {
            "marker": {
             "colorbar": {
              "outlinewidth": 0,
              "ticks": ""
             }
            },
            "type": "scattercarpet"
           }
          ],
          "scattergeo": [
           {
            "marker": {
             "colorbar": {
              "outlinewidth": 0,
              "ticks": ""
             }
            },
            "type": "scattergeo"
           }
          ],
          "scattergl": [
           {
            "marker": {
             "colorbar": {
              "outlinewidth": 0,
              "ticks": ""
             }
            },
            "type": "scattergl"
           }
          ],
          "scattermapbox": [
           {
            "marker": {
             "colorbar": {
              "outlinewidth": 0,
              "ticks": ""
             }
            },
            "type": "scattermapbox"
           }
          ],
          "scatterpolar": [
           {
            "marker": {
             "colorbar": {
              "outlinewidth": 0,
              "ticks": ""
             }
            },
            "type": "scatterpolar"
           }
          ],
          "scatterpolargl": [
           {
            "marker": {
             "colorbar": {
              "outlinewidth": 0,
              "ticks": ""
             }
            },
            "type": "scatterpolargl"
           }
          ],
          "scatterternary": [
           {
            "marker": {
             "colorbar": {
              "outlinewidth": 0,
              "ticks": ""
             }
            },
            "type": "scatterternary"
           }
          ],
          "surface": [
           {
            "colorbar": {
             "outlinewidth": 0,
             "ticks": ""
            },
            "colorscale": [
             [
              0,
              "#0d0887"
             ],
             [
              0.1111111111111111,
              "#46039f"
             ],
             [
              0.2222222222222222,
              "#7201a8"
             ],
             [
              0.3333333333333333,
              "#9c179e"
             ],
             [
              0.4444444444444444,
              "#bd3786"
             ],
             [
              0.5555555555555556,
              "#d8576b"
             ],
             [
              0.6666666666666666,
              "#ed7953"
             ],
             [
              0.7777777777777778,
              "#fb9f3a"
             ],
             [
              0.8888888888888888,
              "#fdca26"
             ],
             [
              1,
              "#f0f921"
             ]
            ],
            "type": "surface"
           }
          ],
          "table": [
           {
            "cells": {
             "fill": {
              "color": "#EBF0F8"
             },
             "line": {
              "color": "white"
             }
            },
            "header": {
             "fill": {
              "color": "#C8D4E3"
             },
             "line": {
              "color": "white"
             }
            },
            "type": "table"
           }
          ]
         },
         "layout": {
          "annotationdefaults": {
           "arrowcolor": "#2a3f5f",
           "arrowhead": 0,
           "arrowwidth": 1
          },
          "autotypenumbers": "strict",
          "coloraxis": {
           "colorbar": {
            "outlinewidth": 0,
            "ticks": ""
           }
          },
          "colorscale": {
           "diverging": [
            [
             0,
             "#8e0152"
            ],
            [
             0.1,
             "#c51b7d"
            ],
            [
             0.2,
             "#de77ae"
            ],
            [
             0.3,
             "#f1b6da"
            ],
            [
             0.4,
             "#fde0ef"
            ],
            [
             0.5,
             "#f7f7f7"
            ],
            [
             0.6,
             "#e6f5d0"
            ],
            [
             0.7,
             "#b8e186"
            ],
            [
             0.8,
             "#7fbc41"
            ],
            [
             0.9,
             "#4d9221"
            ],
            [
             1,
             "#276419"
            ]
           ],
           "sequential": [
            [
             0,
             "#0d0887"
            ],
            [
             0.1111111111111111,
             "#46039f"
            ],
            [
             0.2222222222222222,
             "#7201a8"
            ],
            [
             0.3333333333333333,
             "#9c179e"
            ],
            [
             0.4444444444444444,
             "#bd3786"
            ],
            [
             0.5555555555555556,
             "#d8576b"
            ],
            [
             0.6666666666666666,
             "#ed7953"
            ],
            [
             0.7777777777777778,
             "#fb9f3a"
            ],
            [
             0.8888888888888888,
             "#fdca26"
            ],
            [
             1,
             "#f0f921"
            ]
           ],
           "sequentialminus": [
            [
             0,
             "#0d0887"
            ],
            [
             0.1111111111111111,
             "#46039f"
            ],
            [
             0.2222222222222222,
             "#7201a8"
            ],
            [
             0.3333333333333333,
             "#9c179e"
            ],
            [
             0.4444444444444444,
             "#bd3786"
            ],
            [
             0.5555555555555556,
             "#d8576b"
            ],
            [
             0.6666666666666666,
             "#ed7953"
            ],
            [
             0.7777777777777778,
             "#fb9f3a"
            ],
            [
             0.8888888888888888,
             "#fdca26"
            ],
            [
             1,
             "#f0f921"
            ]
           ]
          },
          "colorway": [
           "#636efa",
           "#EF553B",
           "#00cc96",
           "#ab63fa",
           "#FFA15A",
           "#19d3f3",
           "#FF6692",
           "#B6E880",
           "#FF97FF",
           "#FECB52"
          ],
          "font": {
           "color": "#2a3f5f"
          },
          "geo": {
           "bgcolor": "white",
           "lakecolor": "white",
           "landcolor": "#E5ECF6",
           "showlakes": true,
           "showland": true,
           "subunitcolor": "white"
          },
          "hoverlabel": {
           "align": "left"
          },
          "hovermode": "closest",
          "mapbox": {
           "style": "light"
          },
          "paper_bgcolor": "white",
          "plot_bgcolor": "#E5ECF6",
          "polar": {
           "angularaxis": {
            "gridcolor": "white",
            "linecolor": "white",
            "ticks": ""
           },
           "bgcolor": "#E5ECF6",
           "radialaxis": {
            "gridcolor": "white",
            "linecolor": "white",
            "ticks": ""
           }
          },
          "scene": {
           "xaxis": {
            "backgroundcolor": "#E5ECF6",
            "gridcolor": "white",
            "gridwidth": 2,
            "linecolor": "white",
            "showbackground": true,
            "ticks": "",
            "zerolinecolor": "white"
           },
           "yaxis": {
            "backgroundcolor": "#E5ECF6",
            "gridcolor": "white",
            "gridwidth": 2,
            "linecolor": "white",
            "showbackground": true,
            "ticks": "",
            "zerolinecolor": "white"
           },
           "zaxis": {
            "backgroundcolor": "#E5ECF6",
            "gridcolor": "white",
            "gridwidth": 2,
            "linecolor": "white",
            "showbackground": true,
            "ticks": "",
            "zerolinecolor": "white"
           }
          },
          "shapedefaults": {
           "line": {
            "color": "#2a3f5f"
           }
          },
          "ternary": {
           "aaxis": {
            "gridcolor": "white",
            "linecolor": "white",
            "ticks": ""
           },
           "baxis": {
            "gridcolor": "white",
            "linecolor": "white",
            "ticks": ""
           },
           "bgcolor": "#E5ECF6",
           "caxis": {
            "gridcolor": "white",
            "linecolor": "white",
            "ticks": ""
           }
          },
          "title": {
           "x": 0.05
          },
          "xaxis": {
           "automargin": true,
           "gridcolor": "white",
           "linecolor": "white",
           "ticks": "",
           "title": {
            "standoff": 15
           },
           "zerolinecolor": "white",
           "zerolinewidth": 2
          },
          "yaxis": {
           "automargin": true,
           "gridcolor": "white",
           "linecolor": "white",
           "ticks": "",
           "title": {
            "standoff": 15
           },
           "zerolinecolor": "white",
           "zerolinewidth": 2
          }
         }
        },
        "title": {
         "font": {
          "color": "black",
          "family": "Arial",
          "size": 25
         }
        },
        "xaxis": {
         "anchor": "y",
         "domain": [
          0,
          1
         ],
         "range": [
          0.02,
          54
         ],
         "title": {
          "text": "Week of Year"
         }
        },
        "yaxis": {
         "anchor": "x",
         "domain": [
          0,
          1
         ],
         "title": {
          "text": "Total Trips"
         }
        }
       }
      },
      "text/html": [
       "<div>                            <div id=\"dcfc8bec-dcdc-4aca-8d77-253dffd9d1f2\" class=\"plotly-graph-div\" style=\"height:525px; width:100%;\"></div>            <script type=\"text/javascript\">                require([\"plotly\"], function(Plotly) {                    window.PLOTLYENV=window.PLOTLYENV || {};                                    if (document.getElementById(\"dcfc8bec-dcdc-4aca-8d77-253dffd9d1f2\")) {                    Plotly.newPlot(                        \"dcfc8bec-dcdc-4aca-8d77-253dffd9d1f2\",                        [{\"alignmentgroup\":\"True\",\"hovertemplate\":\"Week of Year=%{x}<br>Total Trips=%{y}<extra></extra>\",\"legendgroup\":\"\",\"marker\":{\"color\":\"#38618c\",\"pattern\":{\"shape\":\"\"}},\"name\":\"\",\"offsetgroup\":\"\",\"orientation\":\"v\",\"showlegend\":false,\"textposition\":\"auto\",\"type\":\"bar\",\"x\":[1,2,3,4,5,6,7,8,9,10,11,12,13,14,15,16,17,18,19,20,21,22,23,24,25,26,27,28,29,30,31,32,33,34,35,36,37,38,39,40,41,42,43,44,45,46,47,48,49,50,51,52,53],\"xaxis\":\"x\",\"y\":[1790,2416,2196,2784,2997,1231,640,2527,3041,3311,4868,4031,3971,4374,3926,4169,3140,4470,4055,3102,3934,3939,3785,3549,3970,4038,3399,3483,3370,3209,3055,2806,3446,5307,6270,5986,6952,7459,7309,8462,7593,7490,7129,5897,7585,6199,3374,6865,5413,3024,2485,2773,1401],\"yaxis\":\"y\"}],                        {\"barmode\":\"relative\",\"font\":{\"color\":\"Black\",\"family\":\"Arial\",\"size\":16},\"legend\":{\"tracegroupgap\":0},\"margin\":{\"t\":60},\"showlegend\":false,\"template\":{\"data\":{\"bar\":[{\"error_x\":{\"color\":\"#2a3f5f\"},\"error_y\":{\"color\":\"#2a3f5f\"},\"marker\":{\"line\":{\"color\":\"#E5ECF6\",\"width\":0.5},\"pattern\":{\"fillmode\":\"overlay\",\"size\":10,\"solidity\":0.2}},\"type\":\"bar\"}],\"barpolar\":[{\"marker\":{\"line\":{\"color\":\"#E5ECF6\",\"width\":0.5},\"pattern\":{\"fillmode\":\"overlay\",\"size\":10,\"solidity\":0.2}},\"type\":\"barpolar\"}],\"carpet\":[{\"aaxis\":{\"endlinecolor\":\"#2a3f5f\",\"gridcolor\":\"white\",\"linecolor\":\"white\",\"minorgridcolor\":\"white\",\"startlinecolor\":\"#2a3f5f\"},\"baxis\":{\"endlinecolor\":\"#2a3f5f\",\"gridcolor\":\"white\",\"linecolor\":\"white\",\"minorgridcolor\":\"white\",\"startlinecolor\":\"#2a3f5f\"},\"type\":\"carpet\"}],\"choropleth\":[{\"colorbar\":{\"outlinewidth\":0,\"ticks\":\"\"},\"type\":\"choropleth\"}],\"contour\":[{\"colorbar\":{\"outlinewidth\":0,\"ticks\":\"\"},\"colorscale\":[[0.0,\"#0d0887\"],[0.1111111111111111,\"#46039f\"],[0.2222222222222222,\"#7201a8\"],[0.3333333333333333,\"#9c179e\"],[0.4444444444444444,\"#bd3786\"],[0.5555555555555556,\"#d8576b\"],[0.6666666666666666,\"#ed7953\"],[0.7777777777777778,\"#fb9f3a\"],[0.8888888888888888,\"#fdca26\"],[1.0,\"#f0f921\"]],\"type\":\"contour\"}],\"contourcarpet\":[{\"colorbar\":{\"outlinewidth\":0,\"ticks\":\"\"},\"type\":\"contourcarpet\"}],\"heatmap\":[{\"colorbar\":{\"outlinewidth\":0,\"ticks\":\"\"},\"colorscale\":[[0.0,\"#0d0887\"],[0.1111111111111111,\"#46039f\"],[0.2222222222222222,\"#7201a8\"],[0.3333333333333333,\"#9c179e\"],[0.4444444444444444,\"#bd3786\"],[0.5555555555555556,\"#d8576b\"],[0.6666666666666666,\"#ed7953\"],[0.7777777777777778,\"#fb9f3a\"],[0.8888888888888888,\"#fdca26\"],[1.0,\"#f0f921\"]],\"type\":\"heatmap\"}],\"heatmapgl\":[{\"colorbar\":{\"outlinewidth\":0,\"ticks\":\"\"},\"colorscale\":[[0.0,\"#0d0887\"],[0.1111111111111111,\"#46039f\"],[0.2222222222222222,\"#7201a8\"],[0.3333333333333333,\"#9c179e\"],[0.4444444444444444,\"#bd3786\"],[0.5555555555555556,\"#d8576b\"],[0.6666666666666666,\"#ed7953\"],[0.7777777777777778,\"#fb9f3a\"],[0.8888888888888888,\"#fdca26\"],[1.0,\"#f0f921\"]],\"type\":\"heatmapgl\"}],\"histogram\":[{\"marker\":{\"pattern\":{\"fillmode\":\"overlay\",\"size\":10,\"solidity\":0.2}},\"type\":\"histogram\"}],\"histogram2d\":[{\"colorbar\":{\"outlinewidth\":0,\"ticks\":\"\"},\"colorscale\":[[0.0,\"#0d0887\"],[0.1111111111111111,\"#46039f\"],[0.2222222222222222,\"#7201a8\"],[0.3333333333333333,\"#9c179e\"],[0.4444444444444444,\"#bd3786\"],[0.5555555555555556,\"#d8576b\"],[0.6666666666666666,\"#ed7953\"],[0.7777777777777778,\"#fb9f3a\"],[0.8888888888888888,\"#fdca26\"],[1.0,\"#f0f921\"]],\"type\":\"histogram2d\"}],\"histogram2dcontour\":[{\"colorbar\":{\"outlinewidth\":0,\"ticks\":\"\"},\"colorscale\":[[0.0,\"#0d0887\"],[0.1111111111111111,\"#46039f\"],[0.2222222222222222,\"#7201a8\"],[0.3333333333333333,\"#9c179e\"],[0.4444444444444444,\"#bd3786\"],[0.5555555555555556,\"#d8576b\"],[0.6666666666666666,\"#ed7953\"],[0.7777777777777778,\"#fb9f3a\"],[0.8888888888888888,\"#fdca26\"],[1.0,\"#f0f921\"]],\"type\":\"histogram2dcontour\"}],\"mesh3d\":[{\"colorbar\":{\"outlinewidth\":0,\"ticks\":\"\"},\"type\":\"mesh3d\"}],\"parcoords\":[{\"line\":{\"colorbar\":{\"outlinewidth\":0,\"ticks\":\"\"}},\"type\":\"parcoords\"}],\"pie\":[{\"automargin\":true,\"type\":\"pie\"}],\"scatter\":[{\"marker\":{\"colorbar\":{\"outlinewidth\":0,\"ticks\":\"\"}},\"type\":\"scatter\"}],\"scatter3d\":[{\"line\":{\"colorbar\":{\"outlinewidth\":0,\"ticks\":\"\"}},\"marker\":{\"colorbar\":{\"outlinewidth\":0,\"ticks\":\"\"}},\"type\":\"scatter3d\"}],\"scattercarpet\":[{\"marker\":{\"colorbar\":{\"outlinewidth\":0,\"ticks\":\"\"}},\"type\":\"scattercarpet\"}],\"scattergeo\":[{\"marker\":{\"colorbar\":{\"outlinewidth\":0,\"ticks\":\"\"}},\"type\":\"scattergeo\"}],\"scattergl\":[{\"marker\":{\"colorbar\":{\"outlinewidth\":0,\"ticks\":\"\"}},\"type\":\"scattergl\"}],\"scattermapbox\":[{\"marker\":{\"colorbar\":{\"outlinewidth\":0,\"ticks\":\"\"}},\"type\":\"scattermapbox\"}],\"scatterpolar\":[{\"marker\":{\"colorbar\":{\"outlinewidth\":0,\"ticks\":\"\"}},\"type\":\"scatterpolar\"}],\"scatterpolargl\":[{\"marker\":{\"colorbar\":{\"outlinewidth\":0,\"ticks\":\"\"}},\"type\":\"scatterpolargl\"}],\"scatterternary\":[{\"marker\":{\"colorbar\":{\"outlinewidth\":0,\"ticks\":\"\"}},\"type\":\"scatterternary\"}],\"surface\":[{\"colorbar\":{\"outlinewidth\":0,\"ticks\":\"\"},\"colorscale\":[[0.0,\"#0d0887\"],[0.1111111111111111,\"#46039f\"],[0.2222222222222222,\"#7201a8\"],[0.3333333333333333,\"#9c179e\"],[0.4444444444444444,\"#bd3786\"],[0.5555555555555556,\"#d8576b\"],[0.6666666666666666,\"#ed7953\"],[0.7777777777777778,\"#fb9f3a\"],[0.8888888888888888,\"#fdca26\"],[1.0,\"#f0f921\"]],\"type\":\"surface\"}],\"table\":[{\"cells\":{\"fill\":{\"color\":\"#EBF0F8\"},\"line\":{\"color\":\"white\"}},\"header\":{\"fill\":{\"color\":\"#C8D4E3\"},\"line\":{\"color\":\"white\"}},\"type\":\"table\"}]},\"layout\":{\"annotationdefaults\":{\"arrowcolor\":\"#2a3f5f\",\"arrowhead\":0,\"arrowwidth\":1},\"autotypenumbers\":\"strict\",\"coloraxis\":{\"colorbar\":{\"outlinewidth\":0,\"ticks\":\"\"}},\"colorscale\":{\"diverging\":[[0,\"#8e0152\"],[0.1,\"#c51b7d\"],[0.2,\"#de77ae\"],[0.3,\"#f1b6da\"],[0.4,\"#fde0ef\"],[0.5,\"#f7f7f7\"],[0.6,\"#e6f5d0\"],[0.7,\"#b8e186\"],[0.8,\"#7fbc41\"],[0.9,\"#4d9221\"],[1,\"#276419\"]],\"sequential\":[[0.0,\"#0d0887\"],[0.1111111111111111,\"#46039f\"],[0.2222222222222222,\"#7201a8\"],[0.3333333333333333,\"#9c179e\"],[0.4444444444444444,\"#bd3786\"],[0.5555555555555556,\"#d8576b\"],[0.6666666666666666,\"#ed7953\"],[0.7777777777777778,\"#fb9f3a\"],[0.8888888888888888,\"#fdca26\"],[1.0,\"#f0f921\"]],\"sequentialminus\":[[0.0,\"#0d0887\"],[0.1111111111111111,\"#46039f\"],[0.2222222222222222,\"#7201a8\"],[0.3333333333333333,\"#9c179e\"],[0.4444444444444444,\"#bd3786\"],[0.5555555555555556,\"#d8576b\"],[0.6666666666666666,\"#ed7953\"],[0.7777777777777778,\"#fb9f3a\"],[0.8888888888888888,\"#fdca26\"],[1.0,\"#f0f921\"]]},\"colorway\":[\"#636efa\",\"#EF553B\",\"#00cc96\",\"#ab63fa\",\"#FFA15A\",\"#19d3f3\",\"#FF6692\",\"#B6E880\",\"#FF97FF\",\"#FECB52\"],\"font\":{\"color\":\"#2a3f5f\"},\"geo\":{\"bgcolor\":\"white\",\"lakecolor\":\"white\",\"landcolor\":\"#E5ECF6\",\"showlakes\":true,\"showland\":true,\"subunitcolor\":\"white\"},\"hoverlabel\":{\"align\":\"left\"},\"hovermode\":\"closest\",\"mapbox\":{\"style\":\"light\"},\"paper_bgcolor\":\"white\",\"plot_bgcolor\":\"#E5ECF6\",\"polar\":{\"angularaxis\":{\"gridcolor\":\"white\",\"linecolor\":\"white\",\"ticks\":\"\"},\"bgcolor\":\"#E5ECF6\",\"radialaxis\":{\"gridcolor\":\"white\",\"linecolor\":\"white\",\"ticks\":\"\"}},\"scene\":{\"xaxis\":{\"backgroundcolor\":\"#E5ECF6\",\"gridcolor\":\"white\",\"gridwidth\":2,\"linecolor\":\"white\",\"showbackground\":true,\"ticks\":\"\",\"zerolinecolor\":\"white\"},\"yaxis\":{\"backgroundcolor\":\"#E5ECF6\",\"gridcolor\":\"white\",\"gridwidth\":2,\"linecolor\":\"white\",\"showbackground\":true,\"ticks\":\"\",\"zerolinecolor\":\"white\"},\"zaxis\":{\"backgroundcolor\":\"#E5ECF6\",\"gridcolor\":\"white\",\"gridwidth\":2,\"linecolor\":\"white\",\"showbackground\":true,\"ticks\":\"\",\"zerolinecolor\":\"white\"}},\"shapedefaults\":{\"line\":{\"color\":\"#2a3f5f\"}},\"ternary\":{\"aaxis\":{\"gridcolor\":\"white\",\"linecolor\":\"white\",\"ticks\":\"\"},\"baxis\":{\"gridcolor\":\"white\",\"linecolor\":\"white\",\"ticks\":\"\"},\"bgcolor\":\"#E5ECF6\",\"caxis\":{\"gridcolor\":\"white\",\"linecolor\":\"white\",\"ticks\":\"\"}},\"title\":{\"x\":0.05},\"xaxis\":{\"automargin\":true,\"gridcolor\":\"white\",\"linecolor\":\"white\",\"ticks\":\"\",\"title\":{\"standoff\":15},\"zerolinecolor\":\"white\",\"zerolinewidth\":2},\"yaxis\":{\"automargin\":true,\"gridcolor\":\"white\",\"linecolor\":\"white\",\"ticks\":\"\",\"title\":{\"standoff\":15},\"zerolinecolor\":\"white\",\"zerolinewidth\":2}}},\"title\":{\"font\":{\"color\":\"black\",\"family\":\"Arial\",\"size\":25}},\"xaxis\":{\"anchor\":\"y\",\"domain\":[0.0,1.0],\"range\":[0.02,54],\"title\":{\"text\":\"Week of Year\"}},\"yaxis\":{\"anchor\":\"x\",\"domain\":[0.0,1.0],\"title\":{\"text\":\"Total Trips\"}}},                        {\"responsive\": true}                    ).then(function(){\n",
       "                            \n",
       "var gd = document.getElementById('dcfc8bec-dcdc-4aca-8d77-253dffd9d1f2');\n",
       "var x = new MutationObserver(function (mutations, observer) {{\n",
       "        var display = window.getComputedStyle(gd).display;\n",
       "        if (!display || display === 'none') {{\n",
       "            console.log([gd, 'removed!']);\n",
       "            Plotly.purge(gd);\n",
       "            observer.disconnect();\n",
       "        }}\n",
       "}});\n",
       "\n",
       "// Listen for the removal of the full notebook cells\n",
       "var notebookContainer = gd.closest('#notebook-container');\n",
       "if (notebookContainer) {{\n",
       "    x.observe(notebookContainer, {childList: true});\n",
       "}}\n",
       "\n",
       "// Listen for the clearing of the current output cell\n",
       "var outputEl = gd.closest('.output');\n",
       "if (outputEl) {{\n",
       "    x.observe(outputEl, {childList: true});\n",
       "}}\n",
       "\n",
       "                        })                };                });            </script>        </div>"
      ]
     },
     "metadata": {},
     "output_type": "display_data"
    }
   ],
   "source": [
    "weeks_color = ([color_2021]*53)\n",
    "\n",
    "figA = px.bar(\n",
    "    trips_2021, #dataframe\n",
    "    x=[list(range(1,54))], # x\n",
    "    y=trips_2021.groupby(['Week_of_Year']).size(),#y\n",
    "    labels={\"value\": \"Week of Year\", \"y\": \"Total Trips\"}, \n",
    "    color=weeks_color,\n",
    "    color_discrete_map=\"identity\",\n",
    "    orientation=\"v\"  \n",
    ")\n",
    "figA.update_layout(\n",
    "    xaxis_range=[0.02,54],\n",
    "    # yaxis_range=[0,237000],\n",
    "\n",
    "    #yaxis = dict(\n",
    "    #    tickmode = 'array',\n",
    "    #    tickvals = [0,75000,150000,225000],\n",
    "    #),\n",
    "    showlegend=False,\n",
    "    title_font_family=\"Arial\",\n",
    "    title_font_color=\"black\",\n",
    "    title_font_size = 25,\n",
    "    font=dict(\n",
    "        family=\"Arial\",\n",
    "        size=16,\n",
    "        color=\"Black\"\n",
    "    ), \n",
    ") \n",
    "figA"
   ]
  },
  {
   "cell_type": "code",
   "execution_count": 30,
   "id": "954200d0",
   "metadata": {},
   "outputs": [
    {
     "data": {
      "application/vnd.plotly.v1+json": {
       "config": {
        "plotlyServerURL": "https://plotly.com"
       },
       "data": [
        {
         "alignmentgroup": "True",
         "hovertemplate": "Day of Year=%{x}<br>Total Trips=%{y}<extra></extra>",
         "legendgroup": "",
         "marker": {
          "color": "#38618c",
          "pattern": {
           "shape": ""
          }
         },
         "name": "",
         "offsetgroup": "",
         "orientation": "v",
         "showlegend": false,
         "textposition": "auto",
         "type": "bar",
         "x": [
          1,
          2,
          3,
          4,
          5,
          6,
          7,
          8,
          9,
          10,
          11,
          12,
          13,
          14,
          15,
          16,
          17,
          18,
          19,
          20,
          21,
          22,
          23,
          24,
          25,
          26,
          27,
          28,
          29,
          30,
          31,
          32,
          33,
          34,
          35,
          36,
          37,
          38,
          39,
          40,
          41,
          42,
          43,
          44,
          45,
          46,
          47,
          48,
          49,
          50,
          51,
          52,
          53,
          54,
          55,
          56,
          57,
          58,
          59,
          60,
          61,
          62,
          63,
          64,
          65,
          66,
          67,
          68,
          69,
          70,
          71,
          72,
          73,
          74,
          75,
          76,
          77,
          78,
          79,
          80,
          81,
          82,
          83,
          84,
          85,
          86,
          87,
          88,
          89,
          90,
          91,
          92,
          93,
          94,
          95,
          96,
          97,
          98,
          99,
          100,
          101,
          102,
          103,
          104,
          105,
          106,
          107,
          108,
          109,
          110,
          111,
          112,
          113,
          114,
          115,
          116,
          117,
          118,
          119,
          120,
          121,
          122,
          123,
          124,
          125,
          126,
          127,
          128,
          129,
          130,
          131,
          132,
          133,
          134,
          135,
          136,
          137,
          138,
          139,
          140,
          141,
          142,
          143,
          144,
          145,
          146,
          147,
          148,
          149,
          150,
          151,
          152,
          153,
          154,
          155,
          156,
          157,
          158,
          159,
          160,
          161,
          162,
          163,
          164,
          165,
          166,
          167,
          168,
          169,
          170,
          171,
          172,
          173,
          174,
          175,
          176,
          177,
          178,
          179,
          180,
          181,
          182,
          183,
          184,
          185,
          186,
          187,
          188,
          189,
          190,
          191,
          192,
          193,
          194,
          195,
          196,
          197,
          198,
          199,
          200,
          201,
          202,
          203,
          204,
          205,
          206,
          207,
          208,
          209,
          210,
          211,
          212,
          213,
          214,
          215,
          216,
          217,
          218,
          219,
          220,
          221,
          222,
          223,
          224,
          225,
          226,
          227,
          228,
          229,
          230,
          231,
          232,
          233,
          234,
          235,
          236,
          237,
          238,
          239,
          240,
          241,
          242,
          243,
          244,
          245,
          246,
          247,
          248,
          249,
          250,
          251,
          252,
          253,
          254,
          255,
          256,
          257,
          258,
          259,
          260,
          261,
          262,
          263,
          264,
          265,
          266,
          267,
          268,
          269,
          270,
          271,
          272,
          273,
          274,
          275,
          276,
          277,
          278,
          279,
          280,
          281,
          282,
          283,
          284,
          285,
          286,
          287,
          288,
          289,
          290,
          291,
          292,
          293,
          294,
          295,
          296,
          297,
          298,
          299,
          300,
          301,
          302,
          303,
          304,
          305,
          306,
          307,
          308,
          309,
          310,
          311,
          312,
          313,
          314,
          315,
          316,
          317,
          318,
          319,
          320,
          321,
          322,
          323,
          324,
          325,
          326,
          327,
          328,
          329,
          330,
          331,
          332,
          333,
          334,
          335,
          336,
          337,
          338,
          339,
          340,
          341,
          342,
          343,
          344,
          345,
          346,
          347,
          348,
          349,
          350,
          351,
          352,
          353,
          354,
          355,
          356,
          357,
          358,
          359,
          360,
          361,
          362,
          363,
          364,
          365
         ],
         "xaxis": "x",
         "y": [
          441,
          484,
          476,
          353,
          329,
          209,
          283,
          247,
          329,
          40,
          207,
          175,
          285,
          345,
          292,
          544,
          568,
          444,
          216,
          201,
          286,
          478,
          386,
          185,
          377,
          297,
          283,
          304,
          353,
          617,
          553,
          334,
          367,
          405,
          371,
          336,
          669,
          515,
          365,
          320,
          204,
          68,
          138,
          122,
          14,
          12,
          8,
          14,
          3,
          26,
          183,
          394,
          380,
          392,
          312,
          228,
          296,
          449,
          470,
          234,
          355,
          356,
          374,
          472,
          616,
          634,
          391,
          411,
          460,
          372,
          531,
          493,
          653,
          609,
          516,
          533,
          581,
          743,
          1108,
          778,
          379,
          521,
          367,
          479,
          639,
          858,
          788,
          649,
          533,
          372,
          546,
          699,
          547,
          625,
          571,
          557,
          593,
          494,
          663,
          846,
          650,
          470,
          479,
          440,
          356,
          467,
          891,
          823,
          564,
          550,
          484,
          457,
          286,
          973,
          855,
          600,
          423,
          421,
          238,
          412,
          314,
          732,
          660,
          455,
          515,
          579,
          801,
          806,
          654,
          494,
          292,
          413,
          613,
          717,
          926,
          600,
          464,
          346,
          408,
          555,
          621,
          409,
          299,
          376,
          421,
          472,
          426,
          412,
          1023,
          804,
          820,
          573,
          450,
          150,
          592,
          629,
          725,
          425,
          451,
          431,
          498,
          613,
          754,
          613,
          464,
          428,
          393,
          428,
          530,
          704,
          602,
          501,
          541,
          464,
          602,
          602,
          700,
          560,
          406,
          400,
          510,
          569,
          641,
          790,
          722,
          533,
          475,
          479,
          452,
          385,
          559,
          516,
          447,
          389,
          412,
          445,
          481,
          728,
          581,
          346,
          406,
          433,
          406,
          571,
          687,
          521,
          424,
          470,
          506,
          375,
          492,
          528,
          414,
          204,
          381,
          397,
          350,
          464,
          646,
          613,
          394,
          374,
          346,
          330,
          433,
          601,
          328,
          438,
          383,
          431,
          408,
          486,
          771,
          529,
          581,
          575,
          749,
          864,
          1003,
          789,
          746,
          935,
          950,
          917,
          922,
          866,
          820,
          860,
          798,
          487,
          826,
          924,
          1113,
          1007,
          831,
          1001,
          1022,
          973,
          1010,
          1027,
          1087,
          832,
          973,
          997,
          1072,
          1108,
          1173,
          1178,
          958,
          1045,
          859,
          876,
          947,
          1093,
          1372,
          1117,
          1052,
          1063,
          1001,
          1003,
          1504,
          1599,
          1240,
          1154,
          858,
          960,
          910,
          1272,
          1292,
          1147,
          1072,
          1026,
          940,
          1193,
          1190,
          1130,
          939,
          1264,
          1091,
          920,
          953,
          1016,
          982,
          903,
          872,
          944,
          243,
          776,
          1005,
          1061,
          996,
          1036,
          1009,
          975,
          1052,
          1137,
          1299,
          1077,
          1134,
          1039,
          701,
          791,
          911,
          930,
          693,
          723,
          635,
          458,
          322,
          462,
          138,
          636,
          953,
          970,
          831,
          994,
          918,
          1190,
          1009,
          824,
          588,
          793,
          794,
          1001,
          748,
          665,
          619,
          503,
          606,
          438,
          384,
          189,
          285,
          266,
          384,
          372,
          299,
          338,
          453,
          373,
          477,
          508,
          577,
          604,
          607
         ],
         "yaxis": "y"
        }
       ],
       "layout": {
        "barmode": "relative",
        "legend": {
         "tracegroupgap": 0
        },
        "margin": {
         "t": 60
        },
        "template": {
         "data": {
          "bar": [
           {
            "error_x": {
             "color": "#2a3f5f"
            },
            "error_y": {
             "color": "#2a3f5f"
            },
            "marker": {
             "line": {
              "color": "#E5ECF6",
              "width": 0.5
             },
             "pattern": {
              "fillmode": "overlay",
              "size": 10,
              "solidity": 0.2
             }
            },
            "type": "bar"
           }
          ],
          "barpolar": [
           {
            "marker": {
             "line": {
              "color": "#E5ECF6",
              "width": 0.5
             },
             "pattern": {
              "fillmode": "overlay",
              "size": 10,
              "solidity": 0.2
             }
            },
            "type": "barpolar"
           }
          ],
          "carpet": [
           {
            "aaxis": {
             "endlinecolor": "#2a3f5f",
             "gridcolor": "white",
             "linecolor": "white",
             "minorgridcolor": "white",
             "startlinecolor": "#2a3f5f"
            },
            "baxis": {
             "endlinecolor": "#2a3f5f",
             "gridcolor": "white",
             "linecolor": "white",
             "minorgridcolor": "white",
             "startlinecolor": "#2a3f5f"
            },
            "type": "carpet"
           }
          ],
          "choropleth": [
           {
            "colorbar": {
             "outlinewidth": 0,
             "ticks": ""
            },
            "type": "choropleth"
           }
          ],
          "contour": [
           {
            "colorbar": {
             "outlinewidth": 0,
             "ticks": ""
            },
            "colorscale": [
             [
              0,
              "#0d0887"
             ],
             [
              0.1111111111111111,
              "#46039f"
             ],
             [
              0.2222222222222222,
              "#7201a8"
             ],
             [
              0.3333333333333333,
              "#9c179e"
             ],
             [
              0.4444444444444444,
              "#bd3786"
             ],
             [
              0.5555555555555556,
              "#d8576b"
             ],
             [
              0.6666666666666666,
              "#ed7953"
             ],
             [
              0.7777777777777778,
              "#fb9f3a"
             ],
             [
              0.8888888888888888,
              "#fdca26"
             ],
             [
              1,
              "#f0f921"
             ]
            ],
            "type": "contour"
           }
          ],
          "contourcarpet": [
           {
            "colorbar": {
             "outlinewidth": 0,
             "ticks": ""
            },
            "type": "contourcarpet"
           }
          ],
          "heatmap": [
           {
            "colorbar": {
             "outlinewidth": 0,
             "ticks": ""
            },
            "colorscale": [
             [
              0,
              "#0d0887"
             ],
             [
              0.1111111111111111,
              "#46039f"
             ],
             [
              0.2222222222222222,
              "#7201a8"
             ],
             [
              0.3333333333333333,
              "#9c179e"
             ],
             [
              0.4444444444444444,
              "#bd3786"
             ],
             [
              0.5555555555555556,
              "#d8576b"
             ],
             [
              0.6666666666666666,
              "#ed7953"
             ],
             [
              0.7777777777777778,
              "#fb9f3a"
             ],
             [
              0.8888888888888888,
              "#fdca26"
             ],
             [
              1,
              "#f0f921"
             ]
            ],
            "type": "heatmap"
           }
          ],
          "heatmapgl": [
           {
            "colorbar": {
             "outlinewidth": 0,
             "ticks": ""
            },
            "colorscale": [
             [
              0,
              "#0d0887"
             ],
             [
              0.1111111111111111,
              "#46039f"
             ],
             [
              0.2222222222222222,
              "#7201a8"
             ],
             [
              0.3333333333333333,
              "#9c179e"
             ],
             [
              0.4444444444444444,
              "#bd3786"
             ],
             [
              0.5555555555555556,
              "#d8576b"
             ],
             [
              0.6666666666666666,
              "#ed7953"
             ],
             [
              0.7777777777777778,
              "#fb9f3a"
             ],
             [
              0.8888888888888888,
              "#fdca26"
             ],
             [
              1,
              "#f0f921"
             ]
            ],
            "type": "heatmapgl"
           }
          ],
          "histogram": [
           {
            "marker": {
             "pattern": {
              "fillmode": "overlay",
              "size": 10,
              "solidity": 0.2
             }
            },
            "type": "histogram"
           }
          ],
          "histogram2d": [
           {
            "colorbar": {
             "outlinewidth": 0,
             "ticks": ""
            },
            "colorscale": [
             [
              0,
              "#0d0887"
             ],
             [
              0.1111111111111111,
              "#46039f"
             ],
             [
              0.2222222222222222,
              "#7201a8"
             ],
             [
              0.3333333333333333,
              "#9c179e"
             ],
             [
              0.4444444444444444,
              "#bd3786"
             ],
             [
              0.5555555555555556,
              "#d8576b"
             ],
             [
              0.6666666666666666,
              "#ed7953"
             ],
             [
              0.7777777777777778,
              "#fb9f3a"
             ],
             [
              0.8888888888888888,
              "#fdca26"
             ],
             [
              1,
              "#f0f921"
             ]
            ],
            "type": "histogram2d"
           }
          ],
          "histogram2dcontour": [
           {
            "colorbar": {
             "outlinewidth": 0,
             "ticks": ""
            },
            "colorscale": [
             [
              0,
              "#0d0887"
             ],
             [
              0.1111111111111111,
              "#46039f"
             ],
             [
              0.2222222222222222,
              "#7201a8"
             ],
             [
              0.3333333333333333,
              "#9c179e"
             ],
             [
              0.4444444444444444,
              "#bd3786"
             ],
             [
              0.5555555555555556,
              "#d8576b"
             ],
             [
              0.6666666666666666,
              "#ed7953"
             ],
             [
              0.7777777777777778,
              "#fb9f3a"
             ],
             [
              0.8888888888888888,
              "#fdca26"
             ],
             [
              1,
              "#f0f921"
             ]
            ],
            "type": "histogram2dcontour"
           }
          ],
          "mesh3d": [
           {
            "colorbar": {
             "outlinewidth": 0,
             "ticks": ""
            },
            "type": "mesh3d"
           }
          ],
          "parcoords": [
           {
            "line": {
             "colorbar": {
              "outlinewidth": 0,
              "ticks": ""
             }
            },
            "type": "parcoords"
           }
          ],
          "pie": [
           {
            "automargin": true,
            "type": "pie"
           }
          ],
          "scatter": [
           {
            "marker": {
             "colorbar": {
              "outlinewidth": 0,
              "ticks": ""
             }
            },
            "type": "scatter"
           }
          ],
          "scatter3d": [
           {
            "line": {
             "colorbar": {
              "outlinewidth": 0,
              "ticks": ""
             }
            },
            "marker": {
             "colorbar": {
              "outlinewidth": 0,
              "ticks": ""
             }
            },
            "type": "scatter3d"
           }
          ],
          "scattercarpet": [
           {
            "marker": {
             "colorbar": {
              "outlinewidth": 0,
              "ticks": ""
             }
            },
            "type": "scattercarpet"
           }
          ],
          "scattergeo": [
           {
            "marker": {
             "colorbar": {
              "outlinewidth": 0,
              "ticks": ""
             }
            },
            "type": "scattergeo"
           }
          ],
          "scattergl": [
           {
            "marker": {
             "colorbar": {
              "outlinewidth": 0,
              "ticks": ""
             }
            },
            "type": "scattergl"
           }
          ],
          "scattermapbox": [
           {
            "marker": {
             "colorbar": {
              "outlinewidth": 0,
              "ticks": ""
             }
            },
            "type": "scattermapbox"
           }
          ],
          "scatterpolar": [
           {
            "marker": {
             "colorbar": {
              "outlinewidth": 0,
              "ticks": ""
             }
            },
            "type": "scatterpolar"
           }
          ],
          "scatterpolargl": [
           {
            "marker": {
             "colorbar": {
              "outlinewidth": 0,
              "ticks": ""
             }
            },
            "type": "scatterpolargl"
           }
          ],
          "scatterternary": [
           {
            "marker": {
             "colorbar": {
              "outlinewidth": 0,
              "ticks": ""
             }
            },
            "type": "scatterternary"
           }
          ],
          "surface": [
           {
            "colorbar": {
             "outlinewidth": 0,
             "ticks": ""
            },
            "colorscale": [
             [
              0,
              "#0d0887"
             ],
             [
              0.1111111111111111,
              "#46039f"
             ],
             [
              0.2222222222222222,
              "#7201a8"
             ],
             [
              0.3333333333333333,
              "#9c179e"
             ],
             [
              0.4444444444444444,
              "#bd3786"
             ],
             [
              0.5555555555555556,
              "#d8576b"
             ],
             [
              0.6666666666666666,
              "#ed7953"
             ],
             [
              0.7777777777777778,
              "#fb9f3a"
             ],
             [
              0.8888888888888888,
              "#fdca26"
             ],
             [
              1,
              "#f0f921"
             ]
            ],
            "type": "surface"
           }
          ],
          "table": [
           {
            "cells": {
             "fill": {
              "color": "#EBF0F8"
             },
             "line": {
              "color": "white"
             }
            },
            "header": {
             "fill": {
              "color": "#C8D4E3"
             },
             "line": {
              "color": "white"
             }
            },
            "type": "table"
           }
          ]
         },
         "layout": {
          "annotationdefaults": {
           "arrowcolor": "#2a3f5f",
           "arrowhead": 0,
           "arrowwidth": 1
          },
          "autotypenumbers": "strict",
          "coloraxis": {
           "colorbar": {
            "outlinewidth": 0,
            "ticks": ""
           }
          },
          "colorscale": {
           "diverging": [
            [
             0,
             "#8e0152"
            ],
            [
             0.1,
             "#c51b7d"
            ],
            [
             0.2,
             "#de77ae"
            ],
            [
             0.3,
             "#f1b6da"
            ],
            [
             0.4,
             "#fde0ef"
            ],
            [
             0.5,
             "#f7f7f7"
            ],
            [
             0.6,
             "#e6f5d0"
            ],
            [
             0.7,
             "#b8e186"
            ],
            [
             0.8,
             "#7fbc41"
            ],
            [
             0.9,
             "#4d9221"
            ],
            [
             1,
             "#276419"
            ]
           ],
           "sequential": [
            [
             0,
             "#0d0887"
            ],
            [
             0.1111111111111111,
             "#46039f"
            ],
            [
             0.2222222222222222,
             "#7201a8"
            ],
            [
             0.3333333333333333,
             "#9c179e"
            ],
            [
             0.4444444444444444,
             "#bd3786"
            ],
            [
             0.5555555555555556,
             "#d8576b"
            ],
            [
             0.6666666666666666,
             "#ed7953"
            ],
            [
             0.7777777777777778,
             "#fb9f3a"
            ],
            [
             0.8888888888888888,
             "#fdca26"
            ],
            [
             1,
             "#f0f921"
            ]
           ],
           "sequentialminus": [
            [
             0,
             "#0d0887"
            ],
            [
             0.1111111111111111,
             "#46039f"
            ],
            [
             0.2222222222222222,
             "#7201a8"
            ],
            [
             0.3333333333333333,
             "#9c179e"
            ],
            [
             0.4444444444444444,
             "#bd3786"
            ],
            [
             0.5555555555555556,
             "#d8576b"
            ],
            [
             0.6666666666666666,
             "#ed7953"
            ],
            [
             0.7777777777777778,
             "#fb9f3a"
            ],
            [
             0.8888888888888888,
             "#fdca26"
            ],
            [
             1,
             "#f0f921"
            ]
           ]
          },
          "colorway": [
           "#636efa",
           "#EF553B",
           "#00cc96",
           "#ab63fa",
           "#FFA15A",
           "#19d3f3",
           "#FF6692",
           "#B6E880",
           "#FF97FF",
           "#FECB52"
          ],
          "font": {
           "color": "#2a3f5f"
          },
          "geo": {
           "bgcolor": "white",
           "lakecolor": "white",
           "landcolor": "#E5ECF6",
           "showlakes": true,
           "showland": true,
           "subunitcolor": "white"
          },
          "hoverlabel": {
           "align": "left"
          },
          "hovermode": "closest",
          "mapbox": {
           "style": "light"
          },
          "paper_bgcolor": "white",
          "plot_bgcolor": "#E5ECF6",
          "polar": {
           "angularaxis": {
            "gridcolor": "white",
            "linecolor": "white",
            "ticks": ""
           },
           "bgcolor": "#E5ECF6",
           "radialaxis": {
            "gridcolor": "white",
            "linecolor": "white",
            "ticks": ""
           }
          },
          "scene": {
           "xaxis": {
            "backgroundcolor": "#E5ECF6",
            "gridcolor": "white",
            "gridwidth": 2,
            "linecolor": "white",
            "showbackground": true,
            "ticks": "",
            "zerolinecolor": "white"
           },
           "yaxis": {
            "backgroundcolor": "#E5ECF6",
            "gridcolor": "white",
            "gridwidth": 2,
            "linecolor": "white",
            "showbackground": true,
            "ticks": "",
            "zerolinecolor": "white"
           },
           "zaxis": {
            "backgroundcolor": "#E5ECF6",
            "gridcolor": "white",
            "gridwidth": 2,
            "linecolor": "white",
            "showbackground": true,
            "ticks": "",
            "zerolinecolor": "white"
           }
          },
          "shapedefaults": {
           "line": {
            "color": "#2a3f5f"
           }
          },
          "ternary": {
           "aaxis": {
            "gridcolor": "white",
            "linecolor": "white",
            "ticks": ""
           },
           "baxis": {
            "gridcolor": "white",
            "linecolor": "white",
            "ticks": ""
           },
           "bgcolor": "#E5ECF6",
           "caxis": {
            "gridcolor": "white",
            "linecolor": "white",
            "ticks": ""
           }
          },
          "title": {
           "x": 0.05
          },
          "xaxis": {
           "automargin": true,
           "gridcolor": "white",
           "linecolor": "white",
           "ticks": "",
           "title": {
            "standoff": 15
           },
           "zerolinecolor": "white",
           "zerolinewidth": 2
          },
          "yaxis": {
           "automargin": true,
           "gridcolor": "white",
           "linecolor": "white",
           "ticks": "",
           "title": {
            "standoff": 15
           },
           "zerolinecolor": "white",
           "zerolinewidth": 2
          }
         }
        },
        "xaxis": {
         "anchor": "y",
         "domain": [
          0,
          1
         ],
         "title": {
          "text": "Day of Year"
         }
        },
        "yaxis": {
         "anchor": "x",
         "domain": [
          0,
          1
         ],
         "title": {
          "text": "Total Trips"
         }
        }
       }
      },
      "text/html": [
       "<div>                            <div id=\"28069235-d08c-423f-87eb-0190783176a5\" class=\"plotly-graph-div\" style=\"height:525px; width:100%;\"></div>            <script type=\"text/javascript\">                require([\"plotly\"], function(Plotly) {                    window.PLOTLYENV=window.PLOTLYENV || {};                                    if (document.getElementById(\"28069235-d08c-423f-87eb-0190783176a5\")) {                    Plotly.newPlot(                        \"28069235-d08c-423f-87eb-0190783176a5\",                        [{\"alignmentgroup\":\"True\",\"hovertemplate\":\"Day of Year=%{x}<br>Total Trips=%{y}<extra></extra>\",\"legendgroup\":\"\",\"marker\":{\"color\":\"#38618c\",\"pattern\":{\"shape\":\"\"}},\"name\":\"\",\"offsetgroup\":\"\",\"orientation\":\"v\",\"showlegend\":false,\"textposition\":\"auto\",\"type\":\"bar\",\"x\":[1,2,3,4,5,6,7,8,9,10,11,12,13,14,15,16,17,18,19,20,21,22,23,24,25,26,27,28,29,30,31,32,33,34,35,36,37,38,39,40,41,42,43,44,45,46,47,48,49,50,51,52,53,54,55,56,57,58,59,60,61,62,63,64,65,66,67,68,69,70,71,72,73,74,75,76,77,78,79,80,81,82,83,84,85,86,87,88,89,90,91,92,93,94,95,96,97,98,99,100,101,102,103,104,105,106,107,108,109,110,111,112,113,114,115,116,117,118,119,120,121,122,123,124,125,126,127,128,129,130,131,132,133,134,135,136,137,138,139,140,141,142,143,144,145,146,147,148,149,150,151,152,153,154,155,156,157,158,159,160,161,162,163,164,165,166,167,168,169,170,171,172,173,174,175,176,177,178,179,180,181,182,183,184,185,186,187,188,189,190,191,192,193,194,195,196,197,198,199,200,201,202,203,204,205,206,207,208,209,210,211,212,213,214,215,216,217,218,219,220,221,222,223,224,225,226,227,228,229,230,231,232,233,234,235,236,237,238,239,240,241,242,243,244,245,246,247,248,249,250,251,252,253,254,255,256,257,258,259,260,261,262,263,264,265,266,267,268,269,270,271,272,273,274,275,276,277,278,279,280,281,282,283,284,285,286,287,288,289,290,291,292,293,294,295,296,297,298,299,300,301,302,303,304,305,306,307,308,309,310,311,312,313,314,315,316,317,318,319,320,321,322,323,324,325,326,327,328,329,330,331,332,333,334,335,336,337,338,339,340,341,342,343,344,345,346,347,348,349,350,351,352,353,354,355,356,357,358,359,360,361,362,363,364,365],\"xaxis\":\"x\",\"y\":[441,484,476,353,329,209,283,247,329,40,207,175,285,345,292,544,568,444,216,201,286,478,386,185,377,297,283,304,353,617,553,334,367,405,371,336,669,515,365,320,204,68,138,122,14,12,8,14,3,26,183,394,380,392,312,228,296,449,470,234,355,356,374,472,616,634,391,411,460,372,531,493,653,609,516,533,581,743,1108,778,379,521,367,479,639,858,788,649,533,372,546,699,547,625,571,557,593,494,663,846,650,470,479,440,356,467,891,823,564,550,484,457,286,973,855,600,423,421,238,412,314,732,660,455,515,579,801,806,654,494,292,413,613,717,926,600,464,346,408,555,621,409,299,376,421,472,426,412,1023,804,820,573,450,150,592,629,725,425,451,431,498,613,754,613,464,428,393,428,530,704,602,501,541,464,602,602,700,560,406,400,510,569,641,790,722,533,475,479,452,385,559,516,447,389,412,445,481,728,581,346,406,433,406,571,687,521,424,470,506,375,492,528,414,204,381,397,350,464,646,613,394,374,346,330,433,601,328,438,383,431,408,486,771,529,581,575,749,864,1003,789,746,935,950,917,922,866,820,860,798,487,826,924,1113,1007,831,1001,1022,973,1010,1027,1087,832,973,997,1072,1108,1173,1178,958,1045,859,876,947,1093,1372,1117,1052,1063,1001,1003,1504,1599,1240,1154,858,960,910,1272,1292,1147,1072,1026,940,1193,1190,1130,939,1264,1091,920,953,1016,982,903,872,944,243,776,1005,1061,996,1036,1009,975,1052,1137,1299,1077,1134,1039,701,791,911,930,693,723,635,458,322,462,138,636,953,970,831,994,918,1190,1009,824,588,793,794,1001,748,665,619,503,606,438,384,189,285,266,384,372,299,338,453,373,477,508,577,604,607],\"yaxis\":\"y\"}],                        {\"barmode\":\"relative\",\"legend\":{\"tracegroupgap\":0},\"margin\":{\"t\":60},\"template\":{\"data\":{\"bar\":[{\"error_x\":{\"color\":\"#2a3f5f\"},\"error_y\":{\"color\":\"#2a3f5f\"},\"marker\":{\"line\":{\"color\":\"#E5ECF6\",\"width\":0.5},\"pattern\":{\"fillmode\":\"overlay\",\"size\":10,\"solidity\":0.2}},\"type\":\"bar\"}],\"barpolar\":[{\"marker\":{\"line\":{\"color\":\"#E5ECF6\",\"width\":0.5},\"pattern\":{\"fillmode\":\"overlay\",\"size\":10,\"solidity\":0.2}},\"type\":\"barpolar\"}],\"carpet\":[{\"aaxis\":{\"endlinecolor\":\"#2a3f5f\",\"gridcolor\":\"white\",\"linecolor\":\"white\",\"minorgridcolor\":\"white\",\"startlinecolor\":\"#2a3f5f\"},\"baxis\":{\"endlinecolor\":\"#2a3f5f\",\"gridcolor\":\"white\",\"linecolor\":\"white\",\"minorgridcolor\":\"white\",\"startlinecolor\":\"#2a3f5f\"},\"type\":\"carpet\"}],\"choropleth\":[{\"colorbar\":{\"outlinewidth\":0,\"ticks\":\"\"},\"type\":\"choropleth\"}],\"contour\":[{\"colorbar\":{\"outlinewidth\":0,\"ticks\":\"\"},\"colorscale\":[[0.0,\"#0d0887\"],[0.1111111111111111,\"#46039f\"],[0.2222222222222222,\"#7201a8\"],[0.3333333333333333,\"#9c179e\"],[0.4444444444444444,\"#bd3786\"],[0.5555555555555556,\"#d8576b\"],[0.6666666666666666,\"#ed7953\"],[0.7777777777777778,\"#fb9f3a\"],[0.8888888888888888,\"#fdca26\"],[1.0,\"#f0f921\"]],\"type\":\"contour\"}],\"contourcarpet\":[{\"colorbar\":{\"outlinewidth\":0,\"ticks\":\"\"},\"type\":\"contourcarpet\"}],\"heatmap\":[{\"colorbar\":{\"outlinewidth\":0,\"ticks\":\"\"},\"colorscale\":[[0.0,\"#0d0887\"],[0.1111111111111111,\"#46039f\"],[0.2222222222222222,\"#7201a8\"],[0.3333333333333333,\"#9c179e\"],[0.4444444444444444,\"#bd3786\"],[0.5555555555555556,\"#d8576b\"],[0.6666666666666666,\"#ed7953\"],[0.7777777777777778,\"#fb9f3a\"],[0.8888888888888888,\"#fdca26\"],[1.0,\"#f0f921\"]],\"type\":\"heatmap\"}],\"heatmapgl\":[{\"colorbar\":{\"outlinewidth\":0,\"ticks\":\"\"},\"colorscale\":[[0.0,\"#0d0887\"],[0.1111111111111111,\"#46039f\"],[0.2222222222222222,\"#7201a8\"],[0.3333333333333333,\"#9c179e\"],[0.4444444444444444,\"#bd3786\"],[0.5555555555555556,\"#d8576b\"],[0.6666666666666666,\"#ed7953\"],[0.7777777777777778,\"#fb9f3a\"],[0.8888888888888888,\"#fdca26\"],[1.0,\"#f0f921\"]],\"type\":\"heatmapgl\"}],\"histogram\":[{\"marker\":{\"pattern\":{\"fillmode\":\"overlay\",\"size\":10,\"solidity\":0.2}},\"type\":\"histogram\"}],\"histogram2d\":[{\"colorbar\":{\"outlinewidth\":0,\"ticks\":\"\"},\"colorscale\":[[0.0,\"#0d0887\"],[0.1111111111111111,\"#46039f\"],[0.2222222222222222,\"#7201a8\"],[0.3333333333333333,\"#9c179e\"],[0.4444444444444444,\"#bd3786\"],[0.5555555555555556,\"#d8576b\"],[0.6666666666666666,\"#ed7953\"],[0.7777777777777778,\"#fb9f3a\"],[0.8888888888888888,\"#fdca26\"],[1.0,\"#f0f921\"]],\"type\":\"histogram2d\"}],\"histogram2dcontour\":[{\"colorbar\":{\"outlinewidth\":0,\"ticks\":\"\"},\"colorscale\":[[0.0,\"#0d0887\"],[0.1111111111111111,\"#46039f\"],[0.2222222222222222,\"#7201a8\"],[0.3333333333333333,\"#9c179e\"],[0.4444444444444444,\"#bd3786\"],[0.5555555555555556,\"#d8576b\"],[0.6666666666666666,\"#ed7953\"],[0.7777777777777778,\"#fb9f3a\"],[0.8888888888888888,\"#fdca26\"],[1.0,\"#f0f921\"]],\"type\":\"histogram2dcontour\"}],\"mesh3d\":[{\"colorbar\":{\"outlinewidth\":0,\"ticks\":\"\"},\"type\":\"mesh3d\"}],\"parcoords\":[{\"line\":{\"colorbar\":{\"outlinewidth\":0,\"ticks\":\"\"}},\"type\":\"parcoords\"}],\"pie\":[{\"automargin\":true,\"type\":\"pie\"}],\"scatter\":[{\"marker\":{\"colorbar\":{\"outlinewidth\":0,\"ticks\":\"\"}},\"type\":\"scatter\"}],\"scatter3d\":[{\"line\":{\"colorbar\":{\"outlinewidth\":0,\"ticks\":\"\"}},\"marker\":{\"colorbar\":{\"outlinewidth\":0,\"ticks\":\"\"}},\"type\":\"scatter3d\"}],\"scattercarpet\":[{\"marker\":{\"colorbar\":{\"outlinewidth\":0,\"ticks\":\"\"}},\"type\":\"scattercarpet\"}],\"scattergeo\":[{\"marker\":{\"colorbar\":{\"outlinewidth\":0,\"ticks\":\"\"}},\"type\":\"scattergeo\"}],\"scattergl\":[{\"marker\":{\"colorbar\":{\"outlinewidth\":0,\"ticks\":\"\"}},\"type\":\"scattergl\"}],\"scattermapbox\":[{\"marker\":{\"colorbar\":{\"outlinewidth\":0,\"ticks\":\"\"}},\"type\":\"scattermapbox\"}],\"scatterpolar\":[{\"marker\":{\"colorbar\":{\"outlinewidth\":0,\"ticks\":\"\"}},\"type\":\"scatterpolar\"}],\"scatterpolargl\":[{\"marker\":{\"colorbar\":{\"outlinewidth\":0,\"ticks\":\"\"}},\"type\":\"scatterpolargl\"}],\"scatterternary\":[{\"marker\":{\"colorbar\":{\"outlinewidth\":0,\"ticks\":\"\"}},\"type\":\"scatterternary\"}],\"surface\":[{\"colorbar\":{\"outlinewidth\":0,\"ticks\":\"\"},\"colorscale\":[[0.0,\"#0d0887\"],[0.1111111111111111,\"#46039f\"],[0.2222222222222222,\"#7201a8\"],[0.3333333333333333,\"#9c179e\"],[0.4444444444444444,\"#bd3786\"],[0.5555555555555556,\"#d8576b\"],[0.6666666666666666,\"#ed7953\"],[0.7777777777777778,\"#fb9f3a\"],[0.8888888888888888,\"#fdca26\"],[1.0,\"#f0f921\"]],\"type\":\"surface\"}],\"table\":[{\"cells\":{\"fill\":{\"color\":\"#EBF0F8\"},\"line\":{\"color\":\"white\"}},\"header\":{\"fill\":{\"color\":\"#C8D4E3\"},\"line\":{\"color\":\"white\"}},\"type\":\"table\"}]},\"layout\":{\"annotationdefaults\":{\"arrowcolor\":\"#2a3f5f\",\"arrowhead\":0,\"arrowwidth\":1},\"autotypenumbers\":\"strict\",\"coloraxis\":{\"colorbar\":{\"outlinewidth\":0,\"ticks\":\"\"}},\"colorscale\":{\"diverging\":[[0,\"#8e0152\"],[0.1,\"#c51b7d\"],[0.2,\"#de77ae\"],[0.3,\"#f1b6da\"],[0.4,\"#fde0ef\"],[0.5,\"#f7f7f7\"],[0.6,\"#e6f5d0\"],[0.7,\"#b8e186\"],[0.8,\"#7fbc41\"],[0.9,\"#4d9221\"],[1,\"#276419\"]],\"sequential\":[[0.0,\"#0d0887\"],[0.1111111111111111,\"#46039f\"],[0.2222222222222222,\"#7201a8\"],[0.3333333333333333,\"#9c179e\"],[0.4444444444444444,\"#bd3786\"],[0.5555555555555556,\"#d8576b\"],[0.6666666666666666,\"#ed7953\"],[0.7777777777777778,\"#fb9f3a\"],[0.8888888888888888,\"#fdca26\"],[1.0,\"#f0f921\"]],\"sequentialminus\":[[0.0,\"#0d0887\"],[0.1111111111111111,\"#46039f\"],[0.2222222222222222,\"#7201a8\"],[0.3333333333333333,\"#9c179e\"],[0.4444444444444444,\"#bd3786\"],[0.5555555555555556,\"#d8576b\"],[0.6666666666666666,\"#ed7953\"],[0.7777777777777778,\"#fb9f3a\"],[0.8888888888888888,\"#fdca26\"],[1.0,\"#f0f921\"]]},\"colorway\":[\"#636efa\",\"#EF553B\",\"#00cc96\",\"#ab63fa\",\"#FFA15A\",\"#19d3f3\",\"#FF6692\",\"#B6E880\",\"#FF97FF\",\"#FECB52\"],\"font\":{\"color\":\"#2a3f5f\"},\"geo\":{\"bgcolor\":\"white\",\"lakecolor\":\"white\",\"landcolor\":\"#E5ECF6\",\"showlakes\":true,\"showland\":true,\"subunitcolor\":\"white\"},\"hoverlabel\":{\"align\":\"left\"},\"hovermode\":\"closest\",\"mapbox\":{\"style\":\"light\"},\"paper_bgcolor\":\"white\",\"plot_bgcolor\":\"#E5ECF6\",\"polar\":{\"angularaxis\":{\"gridcolor\":\"white\",\"linecolor\":\"white\",\"ticks\":\"\"},\"bgcolor\":\"#E5ECF6\",\"radialaxis\":{\"gridcolor\":\"white\",\"linecolor\":\"white\",\"ticks\":\"\"}},\"scene\":{\"xaxis\":{\"backgroundcolor\":\"#E5ECF6\",\"gridcolor\":\"white\",\"gridwidth\":2,\"linecolor\":\"white\",\"showbackground\":true,\"ticks\":\"\",\"zerolinecolor\":\"white\"},\"yaxis\":{\"backgroundcolor\":\"#E5ECF6\",\"gridcolor\":\"white\",\"gridwidth\":2,\"linecolor\":\"white\",\"showbackground\":true,\"ticks\":\"\",\"zerolinecolor\":\"white\"},\"zaxis\":{\"backgroundcolor\":\"#E5ECF6\",\"gridcolor\":\"white\",\"gridwidth\":2,\"linecolor\":\"white\",\"showbackground\":true,\"ticks\":\"\",\"zerolinecolor\":\"white\"}},\"shapedefaults\":{\"line\":{\"color\":\"#2a3f5f\"}},\"ternary\":{\"aaxis\":{\"gridcolor\":\"white\",\"linecolor\":\"white\",\"ticks\":\"\"},\"baxis\":{\"gridcolor\":\"white\",\"linecolor\":\"white\",\"ticks\":\"\"},\"bgcolor\":\"#E5ECF6\",\"caxis\":{\"gridcolor\":\"white\",\"linecolor\":\"white\",\"ticks\":\"\"}},\"title\":{\"x\":0.05},\"xaxis\":{\"automargin\":true,\"gridcolor\":\"white\",\"linecolor\":\"white\",\"ticks\":\"\",\"title\":{\"standoff\":15},\"zerolinecolor\":\"white\",\"zerolinewidth\":2},\"yaxis\":{\"automargin\":true,\"gridcolor\":\"white\",\"linecolor\":\"white\",\"ticks\":\"\",\"title\":{\"standoff\":15},\"zerolinecolor\":\"white\",\"zerolinewidth\":2}}},\"xaxis\":{\"anchor\":\"y\",\"domain\":[0.0,1.0],\"title\":{\"text\":\"Day of Year\"}},\"yaxis\":{\"anchor\":\"x\",\"domain\":[0.0,1.0],\"title\":{\"text\":\"Total Trips\"}}},                        {\"responsive\": true}                    ).then(function(){\n",
       "                            \n",
       "var gd = document.getElementById('28069235-d08c-423f-87eb-0190783176a5');\n",
       "var x = new MutationObserver(function (mutations, observer) {{\n",
       "        var display = window.getComputedStyle(gd).display;\n",
       "        if (!display || display === 'none') {{\n",
       "            console.log([gd, 'removed!']);\n",
       "            Plotly.purge(gd);\n",
       "            observer.disconnect();\n",
       "        }}\n",
       "}});\n",
       "\n",
       "// Listen for the removal of the full notebook cells\n",
       "var notebookContainer = gd.closest('#notebook-container');\n",
       "if (notebookContainer) {{\n",
       "    x.observe(notebookContainer, {childList: true});\n",
       "}}\n",
       "\n",
       "// Listen for the clearing of the current output cell\n",
       "var outputEl = gd.closest('.output');\n",
       "if (outputEl) {{\n",
       "    x.observe(outputEl, {childList: true});\n",
       "}}\n",
       "\n",
       "                        })                };                });            </script>        </div>"
      ]
     },
     "metadata": {},
     "output_type": "display_data"
    }
   ],
   "source": [
    "days_color = [color_2021]*365\n",
    "\n",
    "figB = px.bar(\n",
    "    trips_2021, #dataframe\n",
    "    x=[list(range(1,366))], # x\n",
    "    y=trips_2021.groupby(['Day_of_Year']).size(),#y\n",
    "    labels={\"value\": \"Day of Year\", \"y\": \"Total Trips\"}, \n",
    "    color=days_color,\n",
    "    color_discrete_map=\"identity\",\n",
    "    orientation=\"v\"  \n",
    ")\n",
    "  \n",
    "figB"
   ]
  },
  {
   "cell_type": "code",
   "execution_count": 31,
   "id": "4db72413",
   "metadata": {},
   "outputs": [
    {
     "data": {
      "text/plain": [
       "1440"
      ]
     },
     "execution_count": 31,
     "metadata": {},
     "output_type": "execute_result"
    }
   ],
   "source": [
    "len(trips['Min_of_Day'].unique())"
   ]
  },
  {
   "cell_type": "code",
   "execution_count": 32,
   "id": "900d8738",
   "metadata": {},
   "outputs": [
    {
     "data": {
      "application/vnd.plotly.v1+json": {
       "config": {
        "plotlyServerURL": "https://plotly.com"
       },
       "data": [
        {
         "alignmentgroup": "True",
         "hovertemplate": "x=%{x}<br>Total Trips=%{y}<extra></extra>",
         "legendgroup": "",
         "marker": {
          "color": "black",
          "pattern": {
           "shape": ""
          }
         },
         "name": "",
         "offsetgroup": "",
         "orientation": "v",
         "showlegend": false,
         "textposition": "auto",
         "type": "bar",
         "x": [
          0,
          2,
          4,
          5,
          6,
          7,
          8,
          9,
          10,
          11,
          12,
          13,
          14,
          15,
          16,
          17,
          18,
          19,
          20,
          21,
          22,
          23,
          24,
          25,
          26,
          27,
          28,
          29,
          30,
          31,
          32,
          33,
          34,
          35,
          36,
          37,
          38,
          39,
          40,
          41,
          42,
          43,
          44,
          45,
          46,
          47,
          48,
          49,
          50,
          51,
          52,
          53,
          54,
          55,
          56,
          57,
          58,
          59,
          60,
          61,
          62,
          63,
          64,
          65,
          66,
          67,
          68,
          69,
          70,
          71,
          72,
          73,
          74,
          75,
          76,
          77,
          78,
          79,
          80,
          81,
          82,
          83,
          84,
          85,
          86,
          87,
          88,
          89,
          90,
          91,
          92,
          93,
          94,
          95,
          96,
          97,
          98,
          99,
          100,
          101,
          102,
          103,
          104,
          105,
          106,
          107,
          108,
          109,
          110,
          111,
          112,
          113,
          114,
          115,
          116,
          117,
          118,
          119,
          120,
          121,
          122,
          123,
          124,
          125,
          126,
          127,
          128,
          129,
          130,
          131,
          132,
          133,
          134,
          135,
          136,
          137,
          138,
          139,
          140,
          141,
          142,
          143,
          144,
          145,
          146,
          147,
          148,
          149,
          150,
          151,
          152,
          153,
          154,
          155,
          156,
          157,
          158,
          159,
          160,
          161,
          162,
          163,
          164,
          165,
          166,
          167,
          168,
          169,
          170,
          171,
          172,
          173,
          174,
          175,
          176,
          177,
          178,
          179,
          180,
          181,
          182,
          183,
          184,
          185,
          186,
          187,
          188,
          189,
          190,
          191,
          192,
          193,
          194,
          195,
          196,
          197,
          198,
          199,
          200,
          201,
          202,
          203,
          204,
          205,
          206,
          207,
          208,
          209,
          210,
          211,
          212,
          213,
          214,
          215,
          216,
          217,
          218,
          219,
          220,
          221,
          222,
          223,
          224,
          225,
          226,
          227,
          228,
          229,
          230,
          231,
          232,
          233,
          234,
          235,
          236,
          237,
          238,
          239,
          240,
          241,
          242,
          243,
          244,
          245,
          246,
          247,
          248,
          249,
          250,
          251,
          252,
          253,
          254,
          255,
          256,
          257,
          258,
          259,
          260,
          261,
          262,
          263,
          264,
          265,
          266,
          267,
          269,
          270,
          271,
          272,
          273,
          274,
          275,
          276,
          277,
          278,
          279,
          280,
          281,
          282,
          283,
          284,
          285,
          286,
          287,
          288,
          289,
          290,
          291,
          292,
          293,
          294,
          295,
          296,
          297,
          298,
          299,
          300,
          301,
          302,
          303,
          304,
          305,
          306,
          307,
          308,
          309,
          310,
          311,
          312,
          313,
          314,
          315,
          316,
          317,
          318,
          319,
          320,
          321,
          322,
          323,
          324,
          325,
          326,
          327,
          328,
          329,
          330,
          331,
          332,
          333,
          334,
          335,
          336,
          337,
          338,
          339,
          340,
          341,
          342,
          343,
          344,
          345,
          346,
          347,
          348,
          349,
          350,
          351,
          352,
          353,
          354,
          355,
          356,
          357,
          358,
          359,
          360,
          361,
          362,
          363,
          364,
          365,
          366,
          367,
          368,
          369,
          370,
          371,
          372,
          373,
          374,
          375,
          376,
          377,
          378,
          379,
          380,
          381,
          382,
          383,
          384,
          385,
          386,
          387,
          388,
          389,
          390,
          391,
          392,
          393,
          394,
          395,
          396,
          397,
          398,
          399,
          400,
          401,
          402,
          403,
          404,
          405,
          406,
          407,
          408,
          409,
          410,
          411,
          412,
          413,
          414,
          415,
          416,
          417,
          418,
          419,
          420,
          421,
          422,
          423,
          424,
          425,
          426,
          427,
          428,
          429,
          430,
          431,
          432,
          433,
          434,
          435,
          436,
          437,
          438,
          439,
          440,
          441,
          442,
          443,
          444,
          445,
          446,
          447,
          448,
          449,
          450,
          451,
          452,
          453,
          454,
          455,
          456,
          457,
          458,
          459,
          460,
          461,
          462,
          463,
          464,
          465,
          466,
          467,
          468,
          469,
          470,
          471,
          472,
          473,
          474,
          475,
          476,
          477,
          478,
          479,
          480,
          481,
          482,
          483,
          484,
          485,
          486,
          487,
          488,
          489,
          490,
          491,
          492,
          493,
          494,
          495,
          496,
          497,
          498,
          499,
          500,
          501,
          502,
          503,
          504,
          505,
          506,
          507,
          508,
          509,
          510,
          511,
          512,
          513,
          514,
          515,
          516,
          517,
          518,
          519,
          520,
          521,
          522,
          523,
          524,
          525,
          526,
          527,
          528,
          529,
          530,
          531,
          532,
          533,
          534,
          535,
          536,
          537,
          538,
          539,
          540,
          541,
          542,
          543,
          544,
          545,
          546,
          547,
          548,
          549,
          550,
          551,
          552,
          553,
          554,
          555,
          556,
          557,
          558,
          559,
          560,
          561,
          562,
          563,
          564,
          565,
          566,
          567,
          568,
          569,
          570,
          571,
          572,
          573,
          574,
          575,
          576,
          577,
          578,
          579,
          580,
          581,
          582,
          583,
          584,
          585,
          586,
          587,
          588,
          589,
          590,
          591,
          592,
          593,
          594,
          595,
          596,
          597,
          598,
          599,
          600,
          601,
          602,
          603,
          604,
          605,
          606,
          607,
          608,
          609,
          610,
          611,
          612,
          613,
          614,
          615,
          616,
          617,
          618,
          619,
          620,
          621,
          622,
          623,
          624,
          625,
          626,
          627,
          628,
          629,
          630,
          631,
          632,
          633,
          634,
          635,
          636,
          637,
          638,
          639,
          640,
          641,
          642,
          643,
          644,
          645,
          646,
          647,
          648,
          649,
          650,
          651,
          652,
          653,
          654,
          655,
          656,
          657,
          658,
          659,
          660,
          661,
          662,
          663,
          664,
          665,
          666,
          667,
          668,
          669,
          670,
          671,
          672,
          673,
          674,
          675,
          676,
          677,
          678,
          679,
          680,
          681,
          682,
          683,
          684,
          685,
          686,
          687,
          688,
          689,
          690,
          691,
          692,
          693,
          694,
          695,
          696,
          697,
          698,
          699,
          700,
          701,
          702,
          703,
          704,
          705,
          706,
          707,
          708,
          709,
          710,
          711,
          712,
          713,
          714,
          715,
          716,
          717,
          718,
          719,
          720,
          721,
          722,
          723,
          724,
          725,
          726,
          727,
          728,
          729,
          730,
          731,
          732,
          733,
          734,
          735,
          736,
          737,
          738,
          739,
          740,
          741,
          742,
          743,
          744,
          745,
          746,
          747,
          748,
          749,
          750,
          751,
          752,
          753,
          754,
          755,
          756,
          757,
          758,
          759,
          760,
          761,
          762,
          763,
          764,
          765,
          766,
          767,
          768,
          769,
          770,
          771,
          772,
          773,
          774,
          775,
          776,
          777,
          778,
          779,
          780,
          781,
          782,
          783,
          784,
          785,
          786,
          787,
          788,
          789,
          790,
          791,
          792,
          793,
          794,
          795,
          796,
          797,
          798,
          799,
          800,
          801,
          802,
          803,
          804,
          805,
          806,
          807,
          808,
          809,
          810,
          811,
          812,
          813,
          814,
          815,
          816,
          817,
          818,
          819,
          820,
          821,
          822,
          823,
          824,
          825,
          826,
          827,
          828,
          829,
          830,
          831,
          832,
          833,
          834,
          835,
          836,
          837,
          838,
          839,
          840,
          841,
          842,
          843,
          844,
          845,
          846,
          847,
          848,
          849,
          850,
          851,
          852,
          853,
          854,
          855,
          856,
          857,
          858,
          859,
          860,
          861,
          862,
          863,
          864,
          865,
          866,
          867,
          868,
          869,
          870,
          871,
          872,
          873,
          874,
          875,
          876,
          877,
          878,
          879,
          880,
          881,
          882,
          883,
          884,
          885,
          886,
          887,
          888,
          889,
          890,
          891,
          892,
          893,
          894,
          895,
          896,
          897,
          898,
          899,
          900,
          901,
          902,
          903,
          904,
          905,
          906,
          907,
          908,
          909,
          910,
          911,
          912,
          913,
          914,
          915,
          916,
          917,
          918,
          919,
          920,
          921,
          922,
          923,
          924,
          925,
          926,
          927,
          928,
          929,
          930,
          931,
          932,
          933,
          934,
          935,
          936,
          937,
          938,
          939,
          940,
          941,
          942,
          943,
          944,
          945,
          946,
          947,
          948,
          949,
          950,
          951,
          952,
          953,
          954,
          955,
          956,
          957,
          958,
          959,
          960,
          961,
          962,
          963,
          964,
          965,
          966,
          967,
          968,
          969,
          970,
          971,
          972,
          973,
          974,
          975,
          976,
          977,
          978,
          979,
          980,
          981,
          982,
          983,
          984,
          985,
          986,
          987,
          988,
          989,
          990,
          991,
          992,
          993,
          994,
          995,
          996,
          997,
          998,
          999,
          1000,
          1001,
          1002,
          1003,
          1004,
          1005,
          1006,
          1007,
          1008,
          1009,
          1010,
          1011,
          1012,
          1013,
          1014,
          1015,
          1016,
          1017,
          1018,
          1019,
          1020,
          1021,
          1022,
          1023,
          1024,
          1025,
          1026,
          1027,
          1028,
          1029,
          1030,
          1031,
          1032,
          1033,
          1034,
          1035,
          1036,
          1037,
          1038,
          1039,
          1040,
          1041,
          1042,
          1043,
          1044,
          1045,
          1046,
          1047,
          1048,
          1049,
          1050,
          1051,
          1052,
          1053,
          1054,
          1055,
          1056,
          1057,
          1058,
          1059,
          1060,
          1061,
          1062,
          1063,
          1064,
          1065,
          1066,
          1067,
          1068,
          1069,
          1070,
          1071,
          1072,
          1073,
          1074,
          1075,
          1076,
          1077,
          1078,
          1079,
          1080,
          1081,
          1082,
          1083,
          1084,
          1085,
          1086,
          1087,
          1088,
          1089,
          1090,
          1091,
          1092,
          1093,
          1094,
          1095,
          1096,
          1097,
          1098,
          1099,
          1100,
          1101,
          1102,
          1103,
          1104,
          1105,
          1106,
          1107,
          1108,
          1109,
          1110,
          1111,
          1112,
          1113,
          1114,
          1115,
          1116,
          1117,
          1118,
          1119,
          1120,
          1121,
          1122,
          1123,
          1124,
          1125,
          1126,
          1127,
          1128,
          1129,
          1130,
          1131,
          1132,
          1133,
          1134,
          1135,
          1136,
          1137,
          1138,
          1139,
          1140,
          1141,
          1142,
          1143,
          1144,
          1145,
          1146,
          1147,
          1148,
          1149,
          1150,
          1151,
          1152,
          1153,
          1154,
          1155,
          1156,
          1157,
          1158,
          1159,
          1160,
          1161,
          1162,
          1163,
          1164,
          1165,
          1166,
          1167,
          1168,
          1169,
          1170,
          1171,
          1172,
          1173,
          1174,
          1175,
          1176,
          1177,
          1178,
          1179,
          1180,
          1181,
          1182,
          1183,
          1184,
          1185,
          1186,
          1187,
          1188,
          1189,
          1190,
          1191,
          1192,
          1193,
          1194,
          1195,
          1196,
          1197,
          1198,
          1199,
          1200,
          1201,
          1202,
          1203,
          1204,
          1205,
          1206,
          1207,
          1208,
          1209,
          1210,
          1211,
          1212,
          1213,
          1214,
          1215,
          1216,
          1217,
          1218,
          1219,
          1220,
          1221,
          1222,
          1223,
          1224,
          1225,
          1226,
          1227,
          1228,
          1229,
          1230,
          1231,
          1232,
          1233,
          1234,
          1235,
          1236,
          1237,
          1238,
          1239,
          1240,
          1241,
          1242,
          1243,
          1244,
          1245,
          1246,
          1247,
          1248,
          1249,
          1250,
          1251,
          1252,
          1253,
          1254,
          1255,
          1256,
          1257,
          1258,
          1259,
          1260,
          1261,
          1262,
          1263,
          1264,
          1265,
          1266,
          1267,
          1268,
          1269,
          1270,
          1271,
          1272,
          1273,
          1274,
          1275,
          1276,
          1277,
          1278,
          1279,
          1280,
          1281,
          1282,
          1283,
          1284,
          1285,
          1286,
          1287,
          1288,
          1289,
          1290,
          1291,
          1292,
          1293,
          1294,
          1295,
          1296,
          1297,
          1298,
          1299,
          1300,
          1301,
          1302,
          1303,
          1304,
          1305,
          1306,
          1307,
          1308,
          1309,
          1310,
          1311,
          1312,
          1313,
          1314,
          1315,
          1316,
          1317,
          1318,
          1319,
          1320,
          1321,
          1322,
          1323,
          1324,
          1325,
          1326,
          1327,
          1328,
          1329,
          1330,
          1331,
          1332,
          1333,
          1334,
          1335,
          1336,
          1337,
          1338,
          1339,
          1340,
          1341,
          1342,
          1343,
          1344,
          1345,
          1346,
          1347,
          1348,
          1349,
          1350,
          1351,
          1352,
          1353,
          1354,
          1355,
          1356,
          1357,
          1358,
          1359,
          1360,
          1361,
          1362,
          1363,
          1364,
          1365,
          1366,
          1367,
          1368,
          1369,
          1370,
          1371,
          1372,
          1373,
          1374,
          1375,
          1376,
          1377,
          1378,
          1379,
          1380,
          1381,
          1382,
          1383,
          1384,
          1385,
          1386,
          1387,
          1388,
          1389,
          1390,
          1391,
          1392,
          1393,
          1394,
          1395,
          1396,
          1397,
          1398,
          1399,
          1400,
          1401,
          1402,
          1403,
          1404,
          1405,
          1406,
          1407,
          1408,
          1409,
          1410,
          1411,
          1412,
          1413,
          1414,
          1415,
          1416,
          1417,
          1418,
          1419,
          1420,
          1421,
          1422,
          1423,
          1424,
          1425,
          1426,
          1427,
          1428,
          1429,
          1430,
          1431,
          1432,
          1433,
          1434,
          1435,
          1436,
          1437,
          1438
         ],
         "xaxis": "x",
         "y": [
          5,
          4,
          3,
          87,
          58,
          56,
          55,
          56,
          62,
          53,
          60,
          54,
          48,
          62,
          45,
          44,
          60,
          43,
          54,
          55,
          46,
          44,
          59,
          53,
          55,
          54,
          36,
          51,
          51,
          48,
          38,
          47,
          51,
          41,
          57,
          64,
          44,
          36,
          34,
          45,
          51,
          52,
          38,
          46,
          42,
          31,
          32,
          34,
          35,
          41,
          23,
          43,
          38,
          43,
          44,
          34,
          30,
          31,
          31,
          40,
          33,
          30,
          24,
          34,
          32,
          41,
          46,
          43,
          41,
          42,
          50,
          33,
          30,
          36,
          28,
          26,
          51,
          50,
          35,
          33,
          33,
          22,
          32,
          34,
          35,
          28,
          34,
          36,
          31,
          29,
          27,
          35,
          33,
          28,
          24,
          33,
          27,
          18,
          26,
          25,
          34,
          23,
          28,
          36,
          24,
          26,
          13,
          18,
          11,
          27,
          29,
          39,
          28,
          35,
          35,
          28,
          32,
          16,
          27,
          15,
          30,
          31,
          29,
          46,
          18,
          32,
          32,
          41,
          31,
          45,
          41,
          45,
          29,
          45,
          33,
          23,
          36,
          35,
          26,
          40,
          37,
          31,
          27,
          24,
          28,
          25,
          23,
          20,
          21,
          30,
          35,
          31,
          16,
          19,
          29,
          27,
          19,
          24,
          13,
          27,
          9,
          13,
          20,
          20,
          15,
          33,
          22,
          18,
          15,
          19,
          16,
          23,
          17,
          11,
          14,
          15,
          17,
          22,
          13,
          16,
          15,
          7,
          9,
          9,
          9,
          14,
          6,
          12,
          11,
          13,
          12,
          13,
          15,
          9,
          7,
          10,
          7,
          8,
          11,
          12,
          15,
          10,
          6,
          11,
          5,
          8,
          12,
          6,
          8,
          14,
          11,
          5,
          11,
          6,
          9,
          4,
          3,
          11,
          5,
          7,
          11,
          11,
          5,
          4,
          5,
          7,
          9,
          6,
          2,
          6,
          10,
          8,
          5,
          5,
          5,
          3,
          9,
          14,
          7,
          7,
          14,
          3,
          7,
          3,
          3,
          4,
          6,
          8,
          5,
          6,
          4,
          3,
          2,
          8,
          5,
          6,
          7,
          8,
          8,
          3,
          10,
          3,
          6,
          2,
          6,
          5,
          4,
          3,
          6,
          4,
          4,
          4,
          5,
          7,
          6,
          9,
          3,
          3,
          4,
          5,
          5,
          5,
          5,
          10,
          4,
          5,
          7,
          5,
          6,
          5,
          5,
          7,
          8,
          5,
          6,
          9,
          5,
          6,
          6,
          5,
          6,
          8,
          1,
          3,
          3,
          5,
          4,
          7,
          3,
          4,
          3,
          8,
          4,
          10,
          9,
          9,
          11,
          7,
          7,
          7,
          7,
          5,
          7,
          7,
          5,
          3,
          4,
          9,
          2,
          6,
          6,
          4,
          4,
          4,
          7,
          5,
          7,
          4,
          4,
          8,
          5,
          1,
          5,
          6,
          3,
          3,
          6,
          5,
          12,
          8,
          5,
          6,
          4,
          5,
          6,
          14,
          8,
          13,
          11,
          7,
          6,
          16,
          8,
          8,
          12,
          8,
          10,
          9,
          6,
          8,
          8,
          8,
          13,
          14,
          8,
          13,
          11,
          5,
          5,
          9,
          9,
          13,
          9,
          9,
          8,
          6,
          10,
          11,
          15,
          18,
          27,
          12,
          21,
          22,
          19,
          20,
          27,
          16,
          24,
          15,
          22,
          26,
          23,
          22,
          18,
          28,
          19,
          27,
          34,
          20,
          22,
          15,
          23,
          28,
          22,
          24,
          26,
          24,
          29,
          22,
          25,
          24,
          32,
          22,
          37,
          39,
          30,
          33,
          40,
          31,
          28,
          27,
          49,
          40,
          42,
          34,
          41,
          32,
          35,
          42,
          41,
          35,
          38,
          49,
          55,
          39,
          42,
          36,
          47,
          42,
          58,
          54,
          64,
          49,
          63,
          74,
          77,
          76,
          62,
          82,
          83,
          83,
          80,
          95,
          89,
          117,
          94,
          91,
          103,
          93,
          74,
          92,
          69,
          82,
          87,
          74,
          75,
          65,
          77,
          70,
          76,
          76,
          71,
          89,
          100,
          70,
          70,
          60,
          43,
          70,
          73,
          76,
          76,
          73,
          74,
          66,
          69,
          79,
          78,
          73,
          71,
          74,
          91,
          78,
          81,
          75,
          77,
          78,
          80,
          93,
          86,
          89,
          92,
          96,
          80,
          106,
          91,
          91,
          130,
          89,
          115,
          98,
          90,
          133,
          101,
          121,
          108,
          114,
          110,
          108,
          122,
          120,
          118,
          105,
          107,
          138,
          105,
          90,
          100,
          100,
          89,
          99,
          114,
          102,
          131,
          122,
          100,
          115,
          143,
          118,
          143,
          135,
          136,
          117,
          133,
          154,
          138,
          146,
          142,
          133,
          139,
          153,
          136,
          138,
          135,
          149,
          125,
          118,
          115,
          132,
          119,
          119,
          138,
          123,
          148,
          144,
          139,
          133,
          125,
          149,
          143,
          151,
          127,
          116,
          140,
          163,
          142,
          145,
          145,
          174,
          175,
          172,
          165,
          191,
          160,
          142,
          163,
          143,
          138,
          158,
          149,
          155,
          137,
          143,
          155,
          145,
          131,
          161,
          127,
          142,
          170,
          174,
          165,
          156,
          166,
          149,
          167,
          148,
          190,
          169,
          180,
          172,
          181,
          192,
          186,
          156,
          140,
          201,
          178,
          155,
          166,
          160,
          154,
          181,
          201,
          205,
          193,
          201,
          205,
          190,
          180,
          210,
          195,
          222,
          232,
          263,
          222,
          233,
          260,
          263,
          267,
          256,
          279,
          234,
          251,
          218,
          200,
          247,
          186,
          211,
          196,
          212,
          197,
          193,
          216,
          209,
          199,
          237,
          210,
          222,
          195,
          243,
          208,
          208,
          237,
          226,
          221,
          211,
          212,
          206,
          176,
          242,
          216,
          216,
          213,
          212,
          234,
          223,
          219,
          231,
          215,
          254,
          226,
          253,
          242,
          247,
          279,
          246,
          241,
          245,
          239,
          265,
          250,
          249,
          259,
          280,
          242,
          265,
          309,
          316,
          302,
          266,
          296,
          291,
          270,
          280,
          283,
          236,
          251,
          251,
          274,
          314,
          264,
          277,
          281,
          292,
          242,
          265,
          284,
          305,
          245,
          279,
          254,
          297,
          280,
          235,
          292,
          277,
          290,
          274,
          320,
          298,
          271,
          257,
          275,
          262,
          264,
          265,
          274,
          265,
          236,
          242,
          280,
          235,
          248,
          283,
          293,
          292,
          267,
          290,
          300,
          305,
          309,
          310,
          289,
          307,
          308,
          287,
          293,
          302,
          320,
          303,
          285,
          293,
          284,
          299,
          252,
          286,
          304,
          274,
          239,
          279,
          292,
          288,
          270,
          271,
          266,
          280,
          264,
          289,
          299,
          286,
          283,
          290,
          261,
          271,
          260,
          276,
          302,
          295,
          273,
          292,
          249,
          256,
          255,
          262,
          243,
          299,
          293,
          253,
          277,
          299,
          285,
          267,
          301,
          267,
          296,
          295,
          315,
          326,
          364,
          344,
          338,
          329,
          342,
          305,
          288,
          324,
          330,
          336,
          329,
          346,
          343,
          345,
          319,
          331,
          337,
          288,
          285,
          288,
          318,
          297,
          290,
          276,
          299,
          285,
          289,
          269,
          308,
          246,
          253,
          302,
          267,
          277,
          311,
          308,
          309,
          301,
          263,
          283,
          299,
          304,
          320,
          273,
          294,
          281,
          271,
          281,
          276,
          270,
          312,
          251,
          305,
          298,
          282,
          240,
          254,
          283,
          256,
          310,
          276,
          269,
          276,
          299,
          294,
          286,
          298,
          289,
          275,
          352,
          291,
          302,
          265,
          318,
          294,
          292,
          269,
          324,
          307,
          282,
          289,
          272,
          288,
          305,
          285,
          340,
          311,
          334,
          295,
          329,
          300,
          281,
          300,
          310,
          293,
          384,
          316,
          281,
          300,
          308,
          329,
          331,
          280,
          312,
          277,
          305,
          303,
          274,
          299,
          274,
          256,
          310,
          293,
          261,
          285,
          305,
          308,
          323,
          292,
          311,
          286,
          305,
          297,
          299,
          294,
          299,
          278,
          297,
          338,
          313,
          322,
          326,
          329,
          305,
          284,
          335,
          307,
          321,
          276,
          329,
          299,
          282,
          281,
          294,
          298,
          288,
          280,
          300,
          327,
          304,
          315,
          294,
          309,
          298,
          310,
          293,
          310,
          278,
          266,
          299,
          293,
          256,
          260,
          296,
          307,
          270,
          294,
          357,
          303,
          257,
          310,
          287,
          277,
          303,
          269,
          327,
          307,
          332,
          302,
          334,
          314,
          278,
          310,
          307,
          332,
          329,
          297,
          338,
          323,
          327,
          350,
          339,
          326,
          376,
          324,
          281,
          299,
          342,
          285,
          309,
          305,
          336,
          337,
          332,
          347,
          348,
          310,
          336,
          341,
          335,
          320,
          360,
          350,
          313,
          314,
          303,
          301,
          318,
          298,
          310,
          336,
          314,
          314,
          363,
          309,
          332,
          314,
          325,
          298,
          301,
          304,
          304,
          304,
          302,
          302,
          336,
          318,
          310,
          313,
          301,
          325,
          342,
          317,
          321,
          281,
          323,
          347,
          325,
          300,
          333,
          285,
          341,
          330,
          291,
          311,
          289,
          287,
          323,
          344,
          289,
          315,
          332,
          317,
          327,
          337,
          315,
          292,
          305,
          287,
          308,
          340,
          350,
          308,
          308,
          276,
          267,
          320,
          279,
          321,
          323,
          277,
          298,
          287,
          307,
          332,
          260,
          300,
          293,
          277,
          273,
          289,
          256,
          300,
          320,
          248,
          263,
          277,
          280,
          272,
          263,
          273,
          290,
          303,
          278,
          291,
          280,
          306,
          319,
          287,
          271,
          331,
          286,
          313,
          300,
          292,
          283,
          294,
          290,
          275,
          268,
          277,
          308,
          268,
          307,
          297,
          267,
          270,
          255,
          224,
          281,
          270,
          256,
          252,
          271,
          281,
          275,
          272,
          270,
          263,
          299,
          272,
          249,
          259,
          261,
          244,
          284,
          256,
          268,
          248,
          270,
          268,
          262,
          227,
          257,
          246,
          260,
          271,
          255,
          273,
          243,
          268,
          252,
          248,
          267,
          261,
          240,
          234,
          260,
          255,
          248,
          256,
          257,
          239,
          225,
          221,
          249,
          203,
          213,
          238,
          215,
          204,
          241,
          247,
          241,
          249,
          222,
          223,
          230,
          228,
          210,
          222,
          246,
          208,
          219,
          205,
          189,
          237,
          226,
          207,
          215,
          197,
          213,
          209,
          201,
          219,
          209,
          185,
          236,
          195,
          214,
          209,
          224,
          210,
          218,
          194,
          187,
          198,
          202,
          191,
          207,
          173,
          185,
          152,
          177,
          173,
          179,
          169,
          148,
          187,
          173,
          186,
          182,
          208,
          166,
          188,
          176,
          221,
          190,
          191,
          171,
          161,
          181,
          162,
          190,
          156,
          177,
          180,
          186,
          194,
          179,
          180,
          170,
          162,
          170,
          175,
          163,
          171,
          172,
          172,
          171,
          148,
          147,
          138,
          145,
          136,
          143,
          155,
          162,
          117,
          148,
          137,
          135,
          166,
          156,
          148,
          155,
          141,
          137,
          134,
          166,
          127,
          153,
          162,
          136,
          136,
          143,
          119,
          142,
          148,
          139,
          151,
          145,
          135,
          163,
          131,
          141,
          147,
          157,
          145,
          153,
          140,
          135,
          143,
          163,
          174,
          144,
          108,
          107,
          139,
          151,
          129,
          124,
          111,
          120,
          131,
          132,
          116,
          115,
          112,
          111,
          135,
          106,
          135,
          128,
          117,
          130,
          134,
          107,
          104,
          100,
          122,
          119,
          112,
          112,
          101,
          98,
          90,
          104,
          100,
          108,
          105,
          96,
          78,
          102,
          92,
          96,
          97,
          101,
          87,
          95,
          84,
          117,
          111,
          80,
          94,
          82,
          72,
          83,
          97,
          102,
          94,
          98,
          109,
          82,
          81,
          100,
          93,
          91,
          102,
          109,
          115,
          93,
          84,
          73,
          77,
          85,
          83,
          84,
          94,
          81,
          84,
          91,
          60,
          88,
          85,
          68,
          65,
          70,
          86,
          58,
          67,
          68,
          75,
          57,
          70,
          81,
          68,
          68,
          71,
          69,
          63,
          74,
          54,
          70,
          79,
          66,
          79,
          83,
          68,
          63,
          50,
          56,
          52,
          60,
          66,
          19
         ],
         "yaxis": "y"
        }
       ],
       "layout": {
        "barmode": "relative",
        "legend": {
         "tracegroupgap": 0
        },
        "margin": {
         "t": 60
        },
        "template": {
         "data": {
          "bar": [
           {
            "error_x": {
             "color": "#2a3f5f"
            },
            "error_y": {
             "color": "#2a3f5f"
            },
            "marker": {
             "line": {
              "color": "#E5ECF6",
              "width": 0.5
             },
             "pattern": {
              "fillmode": "overlay",
              "size": 10,
              "solidity": 0.2
             }
            },
            "type": "bar"
           }
          ],
          "barpolar": [
           {
            "marker": {
             "line": {
              "color": "#E5ECF6",
              "width": 0.5
             },
             "pattern": {
              "fillmode": "overlay",
              "size": 10,
              "solidity": 0.2
             }
            },
            "type": "barpolar"
           }
          ],
          "carpet": [
           {
            "aaxis": {
             "endlinecolor": "#2a3f5f",
             "gridcolor": "white",
             "linecolor": "white",
             "minorgridcolor": "white",
             "startlinecolor": "#2a3f5f"
            },
            "baxis": {
             "endlinecolor": "#2a3f5f",
             "gridcolor": "white",
             "linecolor": "white",
             "minorgridcolor": "white",
             "startlinecolor": "#2a3f5f"
            },
            "type": "carpet"
           }
          ],
          "choropleth": [
           {
            "colorbar": {
             "outlinewidth": 0,
             "ticks": ""
            },
            "type": "choropleth"
           }
          ],
          "contour": [
           {
            "colorbar": {
             "outlinewidth": 0,
             "ticks": ""
            },
            "colorscale": [
             [
              0,
              "#0d0887"
             ],
             [
              0.1111111111111111,
              "#46039f"
             ],
             [
              0.2222222222222222,
              "#7201a8"
             ],
             [
              0.3333333333333333,
              "#9c179e"
             ],
             [
              0.4444444444444444,
              "#bd3786"
             ],
             [
              0.5555555555555556,
              "#d8576b"
             ],
             [
              0.6666666666666666,
              "#ed7953"
             ],
             [
              0.7777777777777778,
              "#fb9f3a"
             ],
             [
              0.8888888888888888,
              "#fdca26"
             ],
             [
              1,
              "#f0f921"
             ]
            ],
            "type": "contour"
           }
          ],
          "contourcarpet": [
           {
            "colorbar": {
             "outlinewidth": 0,
             "ticks": ""
            },
            "type": "contourcarpet"
           }
          ],
          "heatmap": [
           {
            "colorbar": {
             "outlinewidth": 0,
             "ticks": ""
            },
            "colorscale": [
             [
              0,
              "#0d0887"
             ],
             [
              0.1111111111111111,
              "#46039f"
             ],
             [
              0.2222222222222222,
              "#7201a8"
             ],
             [
              0.3333333333333333,
              "#9c179e"
             ],
             [
              0.4444444444444444,
              "#bd3786"
             ],
             [
              0.5555555555555556,
              "#d8576b"
             ],
             [
              0.6666666666666666,
              "#ed7953"
             ],
             [
              0.7777777777777778,
              "#fb9f3a"
             ],
             [
              0.8888888888888888,
              "#fdca26"
             ],
             [
              1,
              "#f0f921"
             ]
            ],
            "type": "heatmap"
           }
          ],
          "heatmapgl": [
           {
            "colorbar": {
             "outlinewidth": 0,
             "ticks": ""
            },
            "colorscale": [
             [
              0,
              "#0d0887"
             ],
             [
              0.1111111111111111,
              "#46039f"
             ],
             [
              0.2222222222222222,
              "#7201a8"
             ],
             [
              0.3333333333333333,
              "#9c179e"
             ],
             [
              0.4444444444444444,
              "#bd3786"
             ],
             [
              0.5555555555555556,
              "#d8576b"
             ],
             [
              0.6666666666666666,
              "#ed7953"
             ],
             [
              0.7777777777777778,
              "#fb9f3a"
             ],
             [
              0.8888888888888888,
              "#fdca26"
             ],
             [
              1,
              "#f0f921"
             ]
            ],
            "type": "heatmapgl"
           }
          ],
          "histogram": [
           {
            "marker": {
             "pattern": {
              "fillmode": "overlay",
              "size": 10,
              "solidity": 0.2
             }
            },
            "type": "histogram"
           }
          ],
          "histogram2d": [
           {
            "colorbar": {
             "outlinewidth": 0,
             "ticks": ""
            },
            "colorscale": [
             [
              0,
              "#0d0887"
             ],
             [
              0.1111111111111111,
              "#46039f"
             ],
             [
              0.2222222222222222,
              "#7201a8"
             ],
             [
              0.3333333333333333,
              "#9c179e"
             ],
             [
              0.4444444444444444,
              "#bd3786"
             ],
             [
              0.5555555555555556,
              "#d8576b"
             ],
             [
              0.6666666666666666,
              "#ed7953"
             ],
             [
              0.7777777777777778,
              "#fb9f3a"
             ],
             [
              0.8888888888888888,
              "#fdca26"
             ],
             [
              1,
              "#f0f921"
             ]
            ],
            "type": "histogram2d"
           }
          ],
          "histogram2dcontour": [
           {
            "colorbar": {
             "outlinewidth": 0,
             "ticks": ""
            },
            "colorscale": [
             [
              0,
              "#0d0887"
             ],
             [
              0.1111111111111111,
              "#46039f"
             ],
             [
              0.2222222222222222,
              "#7201a8"
             ],
             [
              0.3333333333333333,
              "#9c179e"
             ],
             [
              0.4444444444444444,
              "#bd3786"
             ],
             [
              0.5555555555555556,
              "#d8576b"
             ],
             [
              0.6666666666666666,
              "#ed7953"
             ],
             [
              0.7777777777777778,
              "#fb9f3a"
             ],
             [
              0.8888888888888888,
              "#fdca26"
             ],
             [
              1,
              "#f0f921"
             ]
            ],
            "type": "histogram2dcontour"
           }
          ],
          "mesh3d": [
           {
            "colorbar": {
             "outlinewidth": 0,
             "ticks": ""
            },
            "type": "mesh3d"
           }
          ],
          "parcoords": [
           {
            "line": {
             "colorbar": {
              "outlinewidth": 0,
              "ticks": ""
             }
            },
            "type": "parcoords"
           }
          ],
          "pie": [
           {
            "automargin": true,
            "type": "pie"
           }
          ],
          "scatter": [
           {
            "marker": {
             "colorbar": {
              "outlinewidth": 0,
              "ticks": ""
             }
            },
            "type": "scatter"
           }
          ],
          "scatter3d": [
           {
            "line": {
             "colorbar": {
              "outlinewidth": 0,
              "ticks": ""
             }
            },
            "marker": {
             "colorbar": {
              "outlinewidth": 0,
              "ticks": ""
             }
            },
            "type": "scatter3d"
           }
          ],
          "scattercarpet": [
           {
            "marker": {
             "colorbar": {
              "outlinewidth": 0,
              "ticks": ""
             }
            },
            "type": "scattercarpet"
           }
          ],
          "scattergeo": [
           {
            "marker": {
             "colorbar": {
              "outlinewidth": 0,
              "ticks": ""
             }
            },
            "type": "scattergeo"
           }
          ],
          "scattergl": [
           {
            "marker": {
             "colorbar": {
              "outlinewidth": 0,
              "ticks": ""
             }
            },
            "type": "scattergl"
           }
          ],
          "scattermapbox": [
           {
            "marker": {
             "colorbar": {
              "outlinewidth": 0,
              "ticks": ""
             }
            },
            "type": "scattermapbox"
           }
          ],
          "scatterpolar": [
           {
            "marker": {
             "colorbar": {
              "outlinewidth": 0,
              "ticks": ""
             }
            },
            "type": "scatterpolar"
           }
          ],
          "scatterpolargl": [
           {
            "marker": {
             "colorbar": {
              "outlinewidth": 0,
              "ticks": ""
             }
            },
            "type": "scatterpolargl"
           }
          ],
          "scatterternary": [
           {
            "marker": {
             "colorbar": {
              "outlinewidth": 0,
              "ticks": ""
             }
            },
            "type": "scatterternary"
           }
          ],
          "surface": [
           {
            "colorbar": {
             "outlinewidth": 0,
             "ticks": ""
            },
            "colorscale": [
             [
              0,
              "#0d0887"
             ],
             [
              0.1111111111111111,
              "#46039f"
             ],
             [
              0.2222222222222222,
              "#7201a8"
             ],
             [
              0.3333333333333333,
              "#9c179e"
             ],
             [
              0.4444444444444444,
              "#bd3786"
             ],
             [
              0.5555555555555556,
              "#d8576b"
             ],
             [
              0.6666666666666666,
              "#ed7953"
             ],
             [
              0.7777777777777778,
              "#fb9f3a"
             ],
             [
              0.8888888888888888,
              "#fdca26"
             ],
             [
              1,
              "#f0f921"
             ]
            ],
            "type": "surface"
           }
          ],
          "table": [
           {
            "cells": {
             "fill": {
              "color": "#EBF0F8"
             },
             "line": {
              "color": "white"
             }
            },
            "header": {
             "fill": {
              "color": "#C8D4E3"
             },
             "line": {
              "color": "white"
             }
            },
            "type": "table"
           }
          ]
         },
         "layout": {
          "annotationdefaults": {
           "arrowcolor": "#2a3f5f",
           "arrowhead": 0,
           "arrowwidth": 1
          },
          "autotypenumbers": "strict",
          "coloraxis": {
           "colorbar": {
            "outlinewidth": 0,
            "ticks": ""
           }
          },
          "colorscale": {
           "diverging": [
            [
             0,
             "#8e0152"
            ],
            [
             0.1,
             "#c51b7d"
            ],
            [
             0.2,
             "#de77ae"
            ],
            [
             0.3,
             "#f1b6da"
            ],
            [
             0.4,
             "#fde0ef"
            ],
            [
             0.5,
             "#f7f7f7"
            ],
            [
             0.6,
             "#e6f5d0"
            ],
            [
             0.7,
             "#b8e186"
            ],
            [
             0.8,
             "#7fbc41"
            ],
            [
             0.9,
             "#4d9221"
            ],
            [
             1,
             "#276419"
            ]
           ],
           "sequential": [
            [
             0,
             "#0d0887"
            ],
            [
             0.1111111111111111,
             "#46039f"
            ],
            [
             0.2222222222222222,
             "#7201a8"
            ],
            [
             0.3333333333333333,
             "#9c179e"
            ],
            [
             0.4444444444444444,
             "#bd3786"
            ],
            [
             0.5555555555555556,
             "#d8576b"
            ],
            [
             0.6666666666666666,
             "#ed7953"
            ],
            [
             0.7777777777777778,
             "#fb9f3a"
            ],
            [
             0.8888888888888888,
             "#fdca26"
            ],
            [
             1,
             "#f0f921"
            ]
           ],
           "sequentialminus": [
            [
             0,
             "#0d0887"
            ],
            [
             0.1111111111111111,
             "#46039f"
            ],
            [
             0.2222222222222222,
             "#7201a8"
            ],
            [
             0.3333333333333333,
             "#9c179e"
            ],
            [
             0.4444444444444444,
             "#bd3786"
            ],
            [
             0.5555555555555556,
             "#d8576b"
            ],
            [
             0.6666666666666666,
             "#ed7953"
            ],
            [
             0.7777777777777778,
             "#fb9f3a"
            ],
            [
             0.8888888888888888,
             "#fdca26"
            ],
            [
             1,
             "#f0f921"
            ]
           ]
          },
          "colorway": [
           "#636efa",
           "#EF553B",
           "#00cc96",
           "#ab63fa",
           "#FFA15A",
           "#19d3f3",
           "#FF6692",
           "#B6E880",
           "#FF97FF",
           "#FECB52"
          ],
          "font": {
           "color": "#2a3f5f"
          },
          "geo": {
           "bgcolor": "white",
           "lakecolor": "white",
           "landcolor": "#E5ECF6",
           "showlakes": true,
           "showland": true,
           "subunitcolor": "white"
          },
          "hoverlabel": {
           "align": "left"
          },
          "hovermode": "closest",
          "mapbox": {
           "style": "light"
          },
          "paper_bgcolor": "white",
          "plot_bgcolor": "#E5ECF6",
          "polar": {
           "angularaxis": {
            "gridcolor": "white",
            "linecolor": "white",
            "ticks": ""
           },
           "bgcolor": "#E5ECF6",
           "radialaxis": {
            "gridcolor": "white",
            "linecolor": "white",
            "ticks": ""
           }
          },
          "scene": {
           "xaxis": {
            "backgroundcolor": "#E5ECF6",
            "gridcolor": "white",
            "gridwidth": 2,
            "linecolor": "white",
            "showbackground": true,
            "ticks": "",
            "zerolinecolor": "white"
           },
           "yaxis": {
            "backgroundcolor": "#E5ECF6",
            "gridcolor": "white",
            "gridwidth": 2,
            "linecolor": "white",
            "showbackground": true,
            "ticks": "",
            "zerolinecolor": "white"
           },
           "zaxis": {
            "backgroundcolor": "#E5ECF6",
            "gridcolor": "white",
            "gridwidth": 2,
            "linecolor": "white",
            "showbackground": true,
            "ticks": "",
            "zerolinecolor": "white"
           }
          },
          "shapedefaults": {
           "line": {
            "color": "#2a3f5f"
           }
          },
          "ternary": {
           "aaxis": {
            "gridcolor": "white",
            "linecolor": "white",
            "ticks": ""
           },
           "baxis": {
            "gridcolor": "white",
            "linecolor": "white",
            "ticks": ""
           },
           "bgcolor": "#E5ECF6",
           "caxis": {
            "gridcolor": "white",
            "linecolor": "white",
            "ticks": ""
           }
          },
          "title": {
           "x": 0.05
          },
          "xaxis": {
           "automargin": true,
           "gridcolor": "white",
           "linecolor": "white",
           "ticks": "",
           "title": {
            "standoff": 15
           },
           "zerolinecolor": "white",
           "zerolinewidth": 2
          },
          "yaxis": {
           "automargin": true,
           "gridcolor": "white",
           "linecolor": "white",
           "ticks": "",
           "title": {
            "standoff": 15
           },
           "zerolinecolor": "white",
           "zerolinewidth": 2
          }
         }
        },
        "xaxis": {
         "anchor": "y",
         "domain": [
          0,
          1
         ],
         "title": {
          "text": "x"
         }
        },
        "yaxis": {
         "anchor": "x",
         "domain": [
          0,
          1
         ],
         "title": {
          "text": "Total Trips"
         }
        }
       }
      },
      "text/html": [
       "<div>                            <div id=\"b41be6a8-f2db-4c52-a4bd-1c42f74c9047\" class=\"plotly-graph-div\" style=\"height:525px; width:100%;\"></div>            <script type=\"text/javascript\">                require([\"plotly\"], function(Plotly) {                    window.PLOTLYENV=window.PLOTLYENV || {};                                    if (document.getElementById(\"b41be6a8-f2db-4c52-a4bd-1c42f74c9047\")) {                    Plotly.newPlot(                        \"b41be6a8-f2db-4c52-a4bd-1c42f74c9047\",                        [{\"alignmentgroup\":\"True\",\"hovertemplate\":\"x=%{x}<br>Total Trips=%{y}<extra></extra>\",\"legendgroup\":\"\",\"marker\":{\"color\":\"black\",\"pattern\":{\"shape\":\"\"}},\"name\":\"\",\"offsetgroup\":\"\",\"orientation\":\"v\",\"showlegend\":false,\"textposition\":\"auto\",\"type\":\"bar\",\"x\":[0,2,4,5,6,7,8,9,10,11,12,13,14,15,16,17,18,19,20,21,22,23,24,25,26,27,28,29,30,31,32,33,34,35,36,37,38,39,40,41,42,43,44,45,46,47,48,49,50,51,52,53,54,55,56,57,58,59,60,61,62,63,64,65,66,67,68,69,70,71,72,73,74,75,76,77,78,79,80,81,82,83,84,85,86,87,88,89,90,91,92,93,94,95,96,97,98,99,100,101,102,103,104,105,106,107,108,109,110,111,112,113,114,115,116,117,118,119,120,121,122,123,124,125,126,127,128,129,130,131,132,133,134,135,136,137,138,139,140,141,142,143,144,145,146,147,148,149,150,151,152,153,154,155,156,157,158,159,160,161,162,163,164,165,166,167,168,169,170,171,172,173,174,175,176,177,178,179,180,181,182,183,184,185,186,187,188,189,190,191,192,193,194,195,196,197,198,199,200,201,202,203,204,205,206,207,208,209,210,211,212,213,214,215,216,217,218,219,220,221,222,223,224,225,226,227,228,229,230,231,232,233,234,235,236,237,238,239,240,241,242,243,244,245,246,247,248,249,250,251,252,253,254,255,256,257,258,259,260,261,262,263,264,265,266,267,269,270,271,272,273,274,275,276,277,278,279,280,281,282,283,284,285,286,287,288,289,290,291,292,293,294,295,296,297,298,299,300,301,302,303,304,305,306,307,308,309,310,311,312,313,314,315,316,317,318,319,320,321,322,323,324,325,326,327,328,329,330,331,332,333,334,335,336,337,338,339,340,341,342,343,344,345,346,347,348,349,350,351,352,353,354,355,356,357,358,359,360,361,362,363,364,365,366,367,368,369,370,371,372,373,374,375,376,377,378,379,380,381,382,383,384,385,386,387,388,389,390,391,392,393,394,395,396,397,398,399,400,401,402,403,404,405,406,407,408,409,410,411,412,413,414,415,416,417,418,419,420,421,422,423,424,425,426,427,428,429,430,431,432,433,434,435,436,437,438,439,440,441,442,443,444,445,446,447,448,449,450,451,452,453,454,455,456,457,458,459,460,461,462,463,464,465,466,467,468,469,470,471,472,473,474,475,476,477,478,479,480,481,482,483,484,485,486,487,488,489,490,491,492,493,494,495,496,497,498,499,500,501,502,503,504,505,506,507,508,509,510,511,512,513,514,515,516,517,518,519,520,521,522,523,524,525,526,527,528,529,530,531,532,533,534,535,536,537,538,539,540,541,542,543,544,545,546,547,548,549,550,551,552,553,554,555,556,557,558,559,560,561,562,563,564,565,566,567,568,569,570,571,572,573,574,575,576,577,578,579,580,581,582,583,584,585,586,587,588,589,590,591,592,593,594,595,596,597,598,599,600,601,602,603,604,605,606,607,608,609,610,611,612,613,614,615,616,617,618,619,620,621,622,623,624,625,626,627,628,629,630,631,632,633,634,635,636,637,638,639,640,641,642,643,644,645,646,647,648,649,650,651,652,653,654,655,656,657,658,659,660,661,662,663,664,665,666,667,668,669,670,671,672,673,674,675,676,677,678,679,680,681,682,683,684,685,686,687,688,689,690,691,692,693,694,695,696,697,698,699,700,701,702,703,704,705,706,707,708,709,710,711,712,713,714,715,716,717,718,719,720,721,722,723,724,725,726,727,728,729,730,731,732,733,734,735,736,737,738,739,740,741,742,743,744,745,746,747,748,749,750,751,752,753,754,755,756,757,758,759,760,761,762,763,764,765,766,767,768,769,770,771,772,773,774,775,776,777,778,779,780,781,782,783,784,785,786,787,788,789,790,791,792,793,794,795,796,797,798,799,800,801,802,803,804,805,806,807,808,809,810,811,812,813,814,815,816,817,818,819,820,821,822,823,824,825,826,827,828,829,830,831,832,833,834,835,836,837,838,839,840,841,842,843,844,845,846,847,848,849,850,851,852,853,854,855,856,857,858,859,860,861,862,863,864,865,866,867,868,869,870,871,872,873,874,875,876,877,878,879,880,881,882,883,884,885,886,887,888,889,890,891,892,893,894,895,896,897,898,899,900,901,902,903,904,905,906,907,908,909,910,911,912,913,914,915,916,917,918,919,920,921,922,923,924,925,926,927,928,929,930,931,932,933,934,935,936,937,938,939,940,941,942,943,944,945,946,947,948,949,950,951,952,953,954,955,956,957,958,959,960,961,962,963,964,965,966,967,968,969,970,971,972,973,974,975,976,977,978,979,980,981,982,983,984,985,986,987,988,989,990,991,992,993,994,995,996,997,998,999,1000,1001,1002,1003,1004,1005,1006,1007,1008,1009,1010,1011,1012,1013,1014,1015,1016,1017,1018,1019,1020,1021,1022,1023,1024,1025,1026,1027,1028,1029,1030,1031,1032,1033,1034,1035,1036,1037,1038,1039,1040,1041,1042,1043,1044,1045,1046,1047,1048,1049,1050,1051,1052,1053,1054,1055,1056,1057,1058,1059,1060,1061,1062,1063,1064,1065,1066,1067,1068,1069,1070,1071,1072,1073,1074,1075,1076,1077,1078,1079,1080,1081,1082,1083,1084,1085,1086,1087,1088,1089,1090,1091,1092,1093,1094,1095,1096,1097,1098,1099,1100,1101,1102,1103,1104,1105,1106,1107,1108,1109,1110,1111,1112,1113,1114,1115,1116,1117,1118,1119,1120,1121,1122,1123,1124,1125,1126,1127,1128,1129,1130,1131,1132,1133,1134,1135,1136,1137,1138,1139,1140,1141,1142,1143,1144,1145,1146,1147,1148,1149,1150,1151,1152,1153,1154,1155,1156,1157,1158,1159,1160,1161,1162,1163,1164,1165,1166,1167,1168,1169,1170,1171,1172,1173,1174,1175,1176,1177,1178,1179,1180,1181,1182,1183,1184,1185,1186,1187,1188,1189,1190,1191,1192,1193,1194,1195,1196,1197,1198,1199,1200,1201,1202,1203,1204,1205,1206,1207,1208,1209,1210,1211,1212,1213,1214,1215,1216,1217,1218,1219,1220,1221,1222,1223,1224,1225,1226,1227,1228,1229,1230,1231,1232,1233,1234,1235,1236,1237,1238,1239,1240,1241,1242,1243,1244,1245,1246,1247,1248,1249,1250,1251,1252,1253,1254,1255,1256,1257,1258,1259,1260,1261,1262,1263,1264,1265,1266,1267,1268,1269,1270,1271,1272,1273,1274,1275,1276,1277,1278,1279,1280,1281,1282,1283,1284,1285,1286,1287,1288,1289,1290,1291,1292,1293,1294,1295,1296,1297,1298,1299,1300,1301,1302,1303,1304,1305,1306,1307,1308,1309,1310,1311,1312,1313,1314,1315,1316,1317,1318,1319,1320,1321,1322,1323,1324,1325,1326,1327,1328,1329,1330,1331,1332,1333,1334,1335,1336,1337,1338,1339,1340,1341,1342,1343,1344,1345,1346,1347,1348,1349,1350,1351,1352,1353,1354,1355,1356,1357,1358,1359,1360,1361,1362,1363,1364,1365,1366,1367,1368,1369,1370,1371,1372,1373,1374,1375,1376,1377,1378,1379,1380,1381,1382,1383,1384,1385,1386,1387,1388,1389,1390,1391,1392,1393,1394,1395,1396,1397,1398,1399,1400,1401,1402,1403,1404,1405,1406,1407,1408,1409,1410,1411,1412,1413,1414,1415,1416,1417,1418,1419,1420,1421,1422,1423,1424,1425,1426,1427,1428,1429,1430,1431,1432,1433,1434,1435,1436,1437,1438],\"xaxis\":\"x\",\"y\":[5,4,3,87,58,56,55,56,62,53,60,54,48,62,45,44,60,43,54,55,46,44,59,53,55,54,36,51,51,48,38,47,51,41,57,64,44,36,34,45,51,52,38,46,42,31,32,34,35,41,23,43,38,43,44,34,30,31,31,40,33,30,24,34,32,41,46,43,41,42,50,33,30,36,28,26,51,50,35,33,33,22,32,34,35,28,34,36,31,29,27,35,33,28,24,33,27,18,26,25,34,23,28,36,24,26,13,18,11,27,29,39,28,35,35,28,32,16,27,15,30,31,29,46,18,32,32,41,31,45,41,45,29,45,33,23,36,35,26,40,37,31,27,24,28,25,23,20,21,30,35,31,16,19,29,27,19,24,13,27,9,13,20,20,15,33,22,18,15,19,16,23,17,11,14,15,17,22,13,16,15,7,9,9,9,14,6,12,11,13,12,13,15,9,7,10,7,8,11,12,15,10,6,11,5,8,12,6,8,14,11,5,11,6,9,4,3,11,5,7,11,11,5,4,5,7,9,6,2,6,10,8,5,5,5,3,9,14,7,7,14,3,7,3,3,4,6,8,5,6,4,3,2,8,5,6,7,8,8,3,10,3,6,2,6,5,4,3,6,4,4,4,5,7,6,9,3,3,4,5,5,5,5,10,4,5,7,5,6,5,5,7,8,5,6,9,5,6,6,5,6,8,1,3,3,5,4,7,3,4,3,8,4,10,9,9,11,7,7,7,7,5,7,7,5,3,4,9,2,6,6,4,4,4,7,5,7,4,4,8,5,1,5,6,3,3,6,5,12,8,5,6,4,5,6,14,8,13,11,7,6,16,8,8,12,8,10,9,6,8,8,8,13,14,8,13,11,5,5,9,9,13,9,9,8,6,10,11,15,18,27,12,21,22,19,20,27,16,24,15,22,26,23,22,18,28,19,27,34,20,22,15,23,28,22,24,26,24,29,22,25,24,32,22,37,39,30,33,40,31,28,27,49,40,42,34,41,32,35,42,41,35,38,49,55,39,42,36,47,42,58,54,64,49,63,74,77,76,62,82,83,83,80,95,89,117,94,91,103,93,74,92,69,82,87,74,75,65,77,70,76,76,71,89,100,70,70,60,43,70,73,76,76,73,74,66,69,79,78,73,71,74,91,78,81,75,77,78,80,93,86,89,92,96,80,106,91,91,130,89,115,98,90,133,101,121,108,114,110,108,122,120,118,105,107,138,105,90,100,100,89,99,114,102,131,122,100,115,143,118,143,135,136,117,133,154,138,146,142,133,139,153,136,138,135,149,125,118,115,132,119,119,138,123,148,144,139,133,125,149,143,151,127,116,140,163,142,145,145,174,175,172,165,191,160,142,163,143,138,158,149,155,137,143,155,145,131,161,127,142,170,174,165,156,166,149,167,148,190,169,180,172,181,192,186,156,140,201,178,155,166,160,154,181,201,205,193,201,205,190,180,210,195,222,232,263,222,233,260,263,267,256,279,234,251,218,200,247,186,211,196,212,197,193,216,209,199,237,210,222,195,243,208,208,237,226,221,211,212,206,176,242,216,216,213,212,234,223,219,231,215,254,226,253,242,247,279,246,241,245,239,265,250,249,259,280,242,265,309,316,302,266,296,291,270,280,283,236,251,251,274,314,264,277,281,292,242,265,284,305,245,279,254,297,280,235,292,277,290,274,320,298,271,257,275,262,264,265,274,265,236,242,280,235,248,283,293,292,267,290,300,305,309,310,289,307,308,287,293,302,320,303,285,293,284,299,252,286,304,274,239,279,292,288,270,271,266,280,264,289,299,286,283,290,261,271,260,276,302,295,273,292,249,256,255,262,243,299,293,253,277,299,285,267,301,267,296,295,315,326,364,344,338,329,342,305,288,324,330,336,329,346,343,345,319,331,337,288,285,288,318,297,290,276,299,285,289,269,308,246,253,302,267,277,311,308,309,301,263,283,299,304,320,273,294,281,271,281,276,270,312,251,305,298,282,240,254,283,256,310,276,269,276,299,294,286,298,289,275,352,291,302,265,318,294,292,269,324,307,282,289,272,288,305,285,340,311,334,295,329,300,281,300,310,293,384,316,281,300,308,329,331,280,312,277,305,303,274,299,274,256,310,293,261,285,305,308,323,292,311,286,305,297,299,294,299,278,297,338,313,322,326,329,305,284,335,307,321,276,329,299,282,281,294,298,288,280,300,327,304,315,294,309,298,310,293,310,278,266,299,293,256,260,296,307,270,294,357,303,257,310,287,277,303,269,327,307,332,302,334,314,278,310,307,332,329,297,338,323,327,350,339,326,376,324,281,299,342,285,309,305,336,337,332,347,348,310,336,341,335,320,360,350,313,314,303,301,318,298,310,336,314,314,363,309,332,314,325,298,301,304,304,304,302,302,336,318,310,313,301,325,342,317,321,281,323,347,325,300,333,285,341,330,291,311,289,287,323,344,289,315,332,317,327,337,315,292,305,287,308,340,350,308,308,276,267,320,279,321,323,277,298,287,307,332,260,300,293,277,273,289,256,300,320,248,263,277,280,272,263,273,290,303,278,291,280,306,319,287,271,331,286,313,300,292,283,294,290,275,268,277,308,268,307,297,267,270,255,224,281,270,256,252,271,281,275,272,270,263,299,272,249,259,261,244,284,256,268,248,270,268,262,227,257,246,260,271,255,273,243,268,252,248,267,261,240,234,260,255,248,256,257,239,225,221,249,203,213,238,215,204,241,247,241,249,222,223,230,228,210,222,246,208,219,205,189,237,226,207,215,197,213,209,201,219,209,185,236,195,214,209,224,210,218,194,187,198,202,191,207,173,185,152,177,173,179,169,148,187,173,186,182,208,166,188,176,221,190,191,171,161,181,162,190,156,177,180,186,194,179,180,170,162,170,175,163,171,172,172,171,148,147,138,145,136,143,155,162,117,148,137,135,166,156,148,155,141,137,134,166,127,153,162,136,136,143,119,142,148,139,151,145,135,163,131,141,147,157,145,153,140,135,143,163,174,144,108,107,139,151,129,124,111,120,131,132,116,115,112,111,135,106,135,128,117,130,134,107,104,100,122,119,112,112,101,98,90,104,100,108,105,96,78,102,92,96,97,101,87,95,84,117,111,80,94,82,72,83,97,102,94,98,109,82,81,100,93,91,102,109,115,93,84,73,77,85,83,84,94,81,84,91,60,88,85,68,65,70,86,58,67,68,75,57,70,81,68,68,71,69,63,74,54,70,79,66,79,83,68,63,50,56,52,60,66,19],\"yaxis\":\"y\"}],                        {\"barmode\":\"relative\",\"legend\":{\"tracegroupgap\":0},\"margin\":{\"t\":60},\"template\":{\"data\":{\"bar\":[{\"error_x\":{\"color\":\"#2a3f5f\"},\"error_y\":{\"color\":\"#2a3f5f\"},\"marker\":{\"line\":{\"color\":\"#E5ECF6\",\"width\":0.5},\"pattern\":{\"fillmode\":\"overlay\",\"size\":10,\"solidity\":0.2}},\"type\":\"bar\"}],\"barpolar\":[{\"marker\":{\"line\":{\"color\":\"#E5ECF6\",\"width\":0.5},\"pattern\":{\"fillmode\":\"overlay\",\"size\":10,\"solidity\":0.2}},\"type\":\"barpolar\"}],\"carpet\":[{\"aaxis\":{\"endlinecolor\":\"#2a3f5f\",\"gridcolor\":\"white\",\"linecolor\":\"white\",\"minorgridcolor\":\"white\",\"startlinecolor\":\"#2a3f5f\"},\"baxis\":{\"endlinecolor\":\"#2a3f5f\",\"gridcolor\":\"white\",\"linecolor\":\"white\",\"minorgridcolor\":\"white\",\"startlinecolor\":\"#2a3f5f\"},\"type\":\"carpet\"}],\"choropleth\":[{\"colorbar\":{\"outlinewidth\":0,\"ticks\":\"\"},\"type\":\"choropleth\"}],\"contour\":[{\"colorbar\":{\"outlinewidth\":0,\"ticks\":\"\"},\"colorscale\":[[0.0,\"#0d0887\"],[0.1111111111111111,\"#46039f\"],[0.2222222222222222,\"#7201a8\"],[0.3333333333333333,\"#9c179e\"],[0.4444444444444444,\"#bd3786\"],[0.5555555555555556,\"#d8576b\"],[0.6666666666666666,\"#ed7953\"],[0.7777777777777778,\"#fb9f3a\"],[0.8888888888888888,\"#fdca26\"],[1.0,\"#f0f921\"]],\"type\":\"contour\"}],\"contourcarpet\":[{\"colorbar\":{\"outlinewidth\":0,\"ticks\":\"\"},\"type\":\"contourcarpet\"}],\"heatmap\":[{\"colorbar\":{\"outlinewidth\":0,\"ticks\":\"\"},\"colorscale\":[[0.0,\"#0d0887\"],[0.1111111111111111,\"#46039f\"],[0.2222222222222222,\"#7201a8\"],[0.3333333333333333,\"#9c179e\"],[0.4444444444444444,\"#bd3786\"],[0.5555555555555556,\"#d8576b\"],[0.6666666666666666,\"#ed7953\"],[0.7777777777777778,\"#fb9f3a\"],[0.8888888888888888,\"#fdca26\"],[1.0,\"#f0f921\"]],\"type\":\"heatmap\"}],\"heatmapgl\":[{\"colorbar\":{\"outlinewidth\":0,\"ticks\":\"\"},\"colorscale\":[[0.0,\"#0d0887\"],[0.1111111111111111,\"#46039f\"],[0.2222222222222222,\"#7201a8\"],[0.3333333333333333,\"#9c179e\"],[0.4444444444444444,\"#bd3786\"],[0.5555555555555556,\"#d8576b\"],[0.6666666666666666,\"#ed7953\"],[0.7777777777777778,\"#fb9f3a\"],[0.8888888888888888,\"#fdca26\"],[1.0,\"#f0f921\"]],\"type\":\"heatmapgl\"}],\"histogram\":[{\"marker\":{\"pattern\":{\"fillmode\":\"overlay\",\"size\":10,\"solidity\":0.2}},\"type\":\"histogram\"}],\"histogram2d\":[{\"colorbar\":{\"outlinewidth\":0,\"ticks\":\"\"},\"colorscale\":[[0.0,\"#0d0887\"],[0.1111111111111111,\"#46039f\"],[0.2222222222222222,\"#7201a8\"],[0.3333333333333333,\"#9c179e\"],[0.4444444444444444,\"#bd3786\"],[0.5555555555555556,\"#d8576b\"],[0.6666666666666666,\"#ed7953\"],[0.7777777777777778,\"#fb9f3a\"],[0.8888888888888888,\"#fdca26\"],[1.0,\"#f0f921\"]],\"type\":\"histogram2d\"}],\"histogram2dcontour\":[{\"colorbar\":{\"outlinewidth\":0,\"ticks\":\"\"},\"colorscale\":[[0.0,\"#0d0887\"],[0.1111111111111111,\"#46039f\"],[0.2222222222222222,\"#7201a8\"],[0.3333333333333333,\"#9c179e\"],[0.4444444444444444,\"#bd3786\"],[0.5555555555555556,\"#d8576b\"],[0.6666666666666666,\"#ed7953\"],[0.7777777777777778,\"#fb9f3a\"],[0.8888888888888888,\"#fdca26\"],[1.0,\"#f0f921\"]],\"type\":\"histogram2dcontour\"}],\"mesh3d\":[{\"colorbar\":{\"outlinewidth\":0,\"ticks\":\"\"},\"type\":\"mesh3d\"}],\"parcoords\":[{\"line\":{\"colorbar\":{\"outlinewidth\":0,\"ticks\":\"\"}},\"type\":\"parcoords\"}],\"pie\":[{\"automargin\":true,\"type\":\"pie\"}],\"scatter\":[{\"marker\":{\"colorbar\":{\"outlinewidth\":0,\"ticks\":\"\"}},\"type\":\"scatter\"}],\"scatter3d\":[{\"line\":{\"colorbar\":{\"outlinewidth\":0,\"ticks\":\"\"}},\"marker\":{\"colorbar\":{\"outlinewidth\":0,\"ticks\":\"\"}},\"type\":\"scatter3d\"}],\"scattercarpet\":[{\"marker\":{\"colorbar\":{\"outlinewidth\":0,\"ticks\":\"\"}},\"type\":\"scattercarpet\"}],\"scattergeo\":[{\"marker\":{\"colorbar\":{\"outlinewidth\":0,\"ticks\":\"\"}},\"type\":\"scattergeo\"}],\"scattergl\":[{\"marker\":{\"colorbar\":{\"outlinewidth\":0,\"ticks\":\"\"}},\"type\":\"scattergl\"}],\"scattermapbox\":[{\"marker\":{\"colorbar\":{\"outlinewidth\":0,\"ticks\":\"\"}},\"type\":\"scattermapbox\"}],\"scatterpolar\":[{\"marker\":{\"colorbar\":{\"outlinewidth\":0,\"ticks\":\"\"}},\"type\":\"scatterpolar\"}],\"scatterpolargl\":[{\"marker\":{\"colorbar\":{\"outlinewidth\":0,\"ticks\":\"\"}},\"type\":\"scatterpolargl\"}],\"scatterternary\":[{\"marker\":{\"colorbar\":{\"outlinewidth\":0,\"ticks\":\"\"}},\"type\":\"scatterternary\"}],\"surface\":[{\"colorbar\":{\"outlinewidth\":0,\"ticks\":\"\"},\"colorscale\":[[0.0,\"#0d0887\"],[0.1111111111111111,\"#46039f\"],[0.2222222222222222,\"#7201a8\"],[0.3333333333333333,\"#9c179e\"],[0.4444444444444444,\"#bd3786\"],[0.5555555555555556,\"#d8576b\"],[0.6666666666666666,\"#ed7953\"],[0.7777777777777778,\"#fb9f3a\"],[0.8888888888888888,\"#fdca26\"],[1.0,\"#f0f921\"]],\"type\":\"surface\"}],\"table\":[{\"cells\":{\"fill\":{\"color\":\"#EBF0F8\"},\"line\":{\"color\":\"white\"}},\"header\":{\"fill\":{\"color\":\"#C8D4E3\"},\"line\":{\"color\":\"white\"}},\"type\":\"table\"}]},\"layout\":{\"annotationdefaults\":{\"arrowcolor\":\"#2a3f5f\",\"arrowhead\":0,\"arrowwidth\":1},\"autotypenumbers\":\"strict\",\"coloraxis\":{\"colorbar\":{\"outlinewidth\":0,\"ticks\":\"\"}},\"colorscale\":{\"diverging\":[[0,\"#8e0152\"],[0.1,\"#c51b7d\"],[0.2,\"#de77ae\"],[0.3,\"#f1b6da\"],[0.4,\"#fde0ef\"],[0.5,\"#f7f7f7\"],[0.6,\"#e6f5d0\"],[0.7,\"#b8e186\"],[0.8,\"#7fbc41\"],[0.9,\"#4d9221\"],[1,\"#276419\"]],\"sequential\":[[0.0,\"#0d0887\"],[0.1111111111111111,\"#46039f\"],[0.2222222222222222,\"#7201a8\"],[0.3333333333333333,\"#9c179e\"],[0.4444444444444444,\"#bd3786\"],[0.5555555555555556,\"#d8576b\"],[0.6666666666666666,\"#ed7953\"],[0.7777777777777778,\"#fb9f3a\"],[0.8888888888888888,\"#fdca26\"],[1.0,\"#f0f921\"]],\"sequentialminus\":[[0.0,\"#0d0887\"],[0.1111111111111111,\"#46039f\"],[0.2222222222222222,\"#7201a8\"],[0.3333333333333333,\"#9c179e\"],[0.4444444444444444,\"#bd3786\"],[0.5555555555555556,\"#d8576b\"],[0.6666666666666666,\"#ed7953\"],[0.7777777777777778,\"#fb9f3a\"],[0.8888888888888888,\"#fdca26\"],[1.0,\"#f0f921\"]]},\"colorway\":[\"#636efa\",\"#EF553B\",\"#00cc96\",\"#ab63fa\",\"#FFA15A\",\"#19d3f3\",\"#FF6692\",\"#B6E880\",\"#FF97FF\",\"#FECB52\"],\"font\":{\"color\":\"#2a3f5f\"},\"geo\":{\"bgcolor\":\"white\",\"lakecolor\":\"white\",\"landcolor\":\"#E5ECF6\",\"showlakes\":true,\"showland\":true,\"subunitcolor\":\"white\"},\"hoverlabel\":{\"align\":\"left\"},\"hovermode\":\"closest\",\"mapbox\":{\"style\":\"light\"},\"paper_bgcolor\":\"white\",\"plot_bgcolor\":\"#E5ECF6\",\"polar\":{\"angularaxis\":{\"gridcolor\":\"white\",\"linecolor\":\"white\",\"ticks\":\"\"},\"bgcolor\":\"#E5ECF6\",\"radialaxis\":{\"gridcolor\":\"white\",\"linecolor\":\"white\",\"ticks\":\"\"}},\"scene\":{\"xaxis\":{\"backgroundcolor\":\"#E5ECF6\",\"gridcolor\":\"white\",\"gridwidth\":2,\"linecolor\":\"white\",\"showbackground\":true,\"ticks\":\"\",\"zerolinecolor\":\"white\"},\"yaxis\":{\"backgroundcolor\":\"#E5ECF6\",\"gridcolor\":\"white\",\"gridwidth\":2,\"linecolor\":\"white\",\"showbackground\":true,\"ticks\":\"\",\"zerolinecolor\":\"white\"},\"zaxis\":{\"backgroundcolor\":\"#E5ECF6\",\"gridcolor\":\"white\",\"gridwidth\":2,\"linecolor\":\"white\",\"showbackground\":true,\"ticks\":\"\",\"zerolinecolor\":\"white\"}},\"shapedefaults\":{\"line\":{\"color\":\"#2a3f5f\"}},\"ternary\":{\"aaxis\":{\"gridcolor\":\"white\",\"linecolor\":\"white\",\"ticks\":\"\"},\"baxis\":{\"gridcolor\":\"white\",\"linecolor\":\"white\",\"ticks\":\"\"},\"bgcolor\":\"#E5ECF6\",\"caxis\":{\"gridcolor\":\"white\",\"linecolor\":\"white\",\"ticks\":\"\"}},\"title\":{\"x\":0.05},\"xaxis\":{\"automargin\":true,\"gridcolor\":\"white\",\"linecolor\":\"white\",\"ticks\":\"\",\"title\":{\"standoff\":15},\"zerolinecolor\":\"white\",\"zerolinewidth\":2},\"yaxis\":{\"automargin\":true,\"gridcolor\":\"white\",\"linecolor\":\"white\",\"ticks\":\"\",\"title\":{\"standoff\":15},\"zerolinecolor\":\"white\",\"zerolinewidth\":2}}},\"xaxis\":{\"anchor\":\"y\",\"domain\":[0.0,1.0],\"title\":{\"text\":\"x\"}},\"yaxis\":{\"anchor\":\"x\",\"domain\":[0.0,1.0],\"title\":{\"text\":\"Total Trips\"}}},                        {\"responsive\": true}                    ).then(function(){\n",
       "                            \n",
       "var gd = document.getElementById('b41be6a8-f2db-4c52-a4bd-1c42f74c9047');\n",
       "var x = new MutationObserver(function (mutations, observer) {{\n",
       "        var display = window.getComputedStyle(gd).display;\n",
       "        if (!display || display === 'none') {{\n",
       "            console.log([gd, 'removed!']);\n",
       "            Plotly.purge(gd);\n",
       "            observer.disconnect();\n",
       "        }}\n",
       "}});\n",
       "\n",
       "// Listen for the removal of the full notebook cells\n",
       "var notebookContainer = gd.closest('#notebook-container');\n",
       "if (notebookContainer) {{\n",
       "    x.observe(notebookContainer, {childList: true});\n",
       "}}\n",
       "\n",
       "// Listen for the clearing of the current output cell\n",
       "var outputEl = gd.closest('.output');\n",
       "if (outputEl) {{\n",
       "    x.observe(outputEl, {childList: true});\n",
       "}}\n",
       "\n",
       "                        })                };                });            </script>        </div>"
      ]
     },
     "metadata": {},
     "output_type": "display_data"
    }
   ],
   "source": [
    "daymins_color = ([\"black\"]*1436)\n",
    "\n",
    "figC = px.bar(\n",
    "    trips_2021, #dataframe\n",
    "    x=np.sort(trips_2021['Min_of_Day'].unique()), # x\n",
    "    y=trips_2021.groupby(['Min_of_Day']).size(),#y\n",
    "    labels={\"value\": \"Week of Year\", \"y\": \"Total Trips\"}, \n",
    "    color=daymins_color,\n",
    "    color_discrete_map=\"identity\",\n",
    "    orientation=\"v\"  \n",
    ")\n",
    "\n",
    "figC"
   ]
  },
  {
   "cell_type": "code",
   "execution_count": 33,
   "id": "72741868",
   "metadata": {},
   "outputs": [
    {
     "data": {
      "text/plain": [
       "Student          0.263756\n",
       "Annual           0.230277\n",
       "Monthly          0.164459\n",
       "Day              0.153602\n",
       "Single Ride      0.133222\n",
       "3-Day Weekend    0.053443\n",
       "Other            0.001241\n",
       "Name: Membership Version, dtype: float64"
      ]
     },
     "execution_count": 33,
     "metadata": {},
     "output_type": "execute_result"
    }
   ],
   "source": [
    "trips_2021['Membership Version'].value_counts(normalize=True)"
   ]
  },
  {
   "cell_type": "code",
   "execution_count": 34,
   "id": "2a91b73c",
   "metadata": {},
   "outputs": [
    {
     "data": {
      "text/plain": [
       "Membership Version\n",
       "Student          59080\n",
       "Annual           51581\n",
       "Monthly          36838\n",
       "Day              34406\n",
       "Single Ride      29841\n",
       "3-Day Weekend    11971\n",
       "dtype: int64"
      ]
     },
     "execution_count": 34,
     "metadata": {},
     "output_type": "execute_result"
    }
   ],
   "source": [
    "trips_2021.groupby(\n",
    "    ['Membership Version']).size().nlargest(6).sort_values(\n",
    "    ascending=False)"
   ]
  },
  {
   "cell_type": "code",
   "execution_count": 35,
   "id": "f1dc4b5e",
   "metadata": {},
   "outputs": [
    {
     "data": {
      "text/html": [
       "<div>\n",
       "<style scoped>\n",
       "    .dataframe tbody tr th:only-of-type {\n",
       "        vertical-align: middle;\n",
       "    }\n",
       "\n",
       "    .dataframe tbody tr th {\n",
       "        vertical-align: top;\n",
       "    }\n",
       "\n",
       "    .dataframe thead th {\n",
       "        text-align: right;\n",
       "    }\n",
       "</style>\n",
       "<table border=\"1\" class=\"dataframe\">\n",
       "  <thead>\n",
       "    <tr style=\"text-align: right;\">\n",
       "      <th></th>\n",
       "      <th>Membership Group</th>\n",
       "      <th>Month</th>\n",
       "      <th>Total</th>\n",
       "    </tr>\n",
       "  </thead>\n",
       "  <tbody>\n",
       "    <tr>\n",
       "      <th>0</th>\n",
       "      <td>3-Day Weekend</td>\n",
       "      <td>1</td>\n",
       "      <td>401</td>\n",
       "    </tr>\n",
       "    <tr>\n",
       "      <th>1</th>\n",
       "      <td>3-Day Weekend</td>\n",
       "      <td>2</td>\n",
       "      <td>258</td>\n",
       "    </tr>\n",
       "    <tr>\n",
       "      <th>2</th>\n",
       "      <td>3-Day Weekend</td>\n",
       "      <td>3</td>\n",
       "      <td>706</td>\n",
       "    </tr>\n",
       "    <tr>\n",
       "      <th>3</th>\n",
       "      <td>3-Day Weekend</td>\n",
       "      <td>4</td>\n",
       "      <td>1295</td>\n",
       "    </tr>\n",
       "    <tr>\n",
       "      <th>4</th>\n",
       "      <td>3-Day Weekend</td>\n",
       "      <td>5</td>\n",
       "      <td>1551</td>\n",
       "    </tr>\n",
       "    <tr>\n",
       "      <th>5</th>\n",
       "      <td>3-Day Weekend</td>\n",
       "      <td>6</td>\n",
       "      <td>1222</td>\n",
       "    </tr>\n",
       "    <tr>\n",
       "      <th>6</th>\n",
       "      <td>3-Day Weekend</td>\n",
       "      <td>7</td>\n",
       "      <td>1240</td>\n",
       "    </tr>\n",
       "    <tr>\n",
       "      <th>7</th>\n",
       "      <td>3-Day Weekend</td>\n",
       "      <td>8</td>\n",
       "      <td>765</td>\n",
       "    </tr>\n",
       "    <tr>\n",
       "      <th>8</th>\n",
       "      <td>3-Day Weekend</td>\n",
       "      <td>9</td>\n",
       "      <td>903</td>\n",
       "    </tr>\n",
       "    <tr>\n",
       "      <th>9</th>\n",
       "      <td>3-Day Weekend</td>\n",
       "      <td>10</td>\n",
       "      <td>1476</td>\n",
       "    </tr>\n",
       "    <tr>\n",
       "      <th>10</th>\n",
       "      <td>3-Day Weekend</td>\n",
       "      <td>11</td>\n",
       "      <td>1273</td>\n",
       "    </tr>\n",
       "    <tr>\n",
       "      <th>11</th>\n",
       "      <td>3-Day Weekend</td>\n",
       "      <td>12</td>\n",
       "      <td>881</td>\n",
       "    </tr>\n",
       "    <tr>\n",
       "      <th>12</th>\n",
       "      <td>Annual</td>\n",
       "      <td>1</td>\n",
       "      <td>3911</td>\n",
       "    </tr>\n",
       "    <tr>\n",
       "      <th>13</th>\n",
       "      <td>Annual</td>\n",
       "      <td>2</td>\n",
       "      <td>2952</td>\n",
       "    </tr>\n",
       "    <tr>\n",
       "      <th>14</th>\n",
       "      <td>Annual</td>\n",
       "      <td>3</td>\n",
       "      <td>5275</td>\n",
       "    </tr>\n",
       "    <tr>\n",
       "      <th>15</th>\n",
       "      <td>Annual</td>\n",
       "      <td>4</td>\n",
       "      <td>5328</td>\n",
       "    </tr>\n",
       "    <tr>\n",
       "      <th>16</th>\n",
       "      <td>Annual</td>\n",
       "      <td>5</td>\n",
       "      <td>4944</td>\n",
       "    </tr>\n",
       "    <tr>\n",
       "      <th>17</th>\n",
       "      <td>Annual</td>\n",
       "      <td>6</td>\n",
       "      <td>4523</td>\n",
       "    </tr>\n",
       "    <tr>\n",
       "      <th>18</th>\n",
       "      <td>Annual</td>\n",
       "      <td>7</td>\n",
       "      <td>4133</td>\n",
       "    </tr>\n",
       "    <tr>\n",
       "      <th>19</th>\n",
       "      <td>Annual</td>\n",
       "      <td>8</td>\n",
       "      <td>4389</td>\n",
       "    </tr>\n",
       "    <tr>\n",
       "      <th>20</th>\n",
       "      <td>Annual</td>\n",
       "      <td>9</td>\n",
       "      <td>5191</td>\n",
       "    </tr>\n",
       "    <tr>\n",
       "      <th>21</th>\n",
       "      <td>Annual</td>\n",
       "      <td>10</td>\n",
       "      <td>4992</td>\n",
       "    </tr>\n",
       "    <tr>\n",
       "      <th>22</th>\n",
       "      <td>Annual</td>\n",
       "      <td>11</td>\n",
       "      <td>3378</td>\n",
       "    </tr>\n",
       "    <tr>\n",
       "      <th>23</th>\n",
       "      <td>Annual</td>\n",
       "      <td>12</td>\n",
       "      <td>2565</td>\n",
       "    </tr>\n",
       "    <tr>\n",
       "      <th>24</th>\n",
       "      <td>Day</td>\n",
       "      <td>1</td>\n",
       "      <td>1889</td>\n",
       "    </tr>\n",
       "    <tr>\n",
       "      <th>25</th>\n",
       "      <td>Day</td>\n",
       "      <td>2</td>\n",
       "      <td>1020</td>\n",
       "    </tr>\n",
       "    <tr>\n",
       "      <th>26</th>\n",
       "      <td>Day</td>\n",
       "      <td>3</td>\n",
       "      <td>3730</td>\n",
       "    </tr>\n",
       "    <tr>\n",
       "      <th>27</th>\n",
       "      <td>Day</td>\n",
       "      <td>4</td>\n",
       "      <td>3417</td>\n",
       "    </tr>\n",
       "    <tr>\n",
       "      <th>28</th>\n",
       "      <td>Day</td>\n",
       "      <td>5</td>\n",
       "      <td>3634</td>\n",
       "    </tr>\n",
       "    <tr>\n",
       "      <th>29</th>\n",
       "      <td>Day</td>\n",
       "      <td>6</td>\n",
       "      <td>2913</td>\n",
       "    </tr>\n",
       "    <tr>\n",
       "      <th>30</th>\n",
       "      <td>Day</td>\n",
       "      <td>7</td>\n",
       "      <td>3191</td>\n",
       "    </tr>\n",
       "    <tr>\n",
       "      <th>31</th>\n",
       "      <td>Day</td>\n",
       "      <td>8</td>\n",
       "      <td>2654</td>\n",
       "    </tr>\n",
       "    <tr>\n",
       "      <th>32</th>\n",
       "      <td>Day</td>\n",
       "      <td>9</td>\n",
       "      <td>2559</td>\n",
       "    </tr>\n",
       "    <tr>\n",
       "      <th>33</th>\n",
       "      <td>Day</td>\n",
       "      <td>10</td>\n",
       "      <td>3588</td>\n",
       "    </tr>\n",
       "    <tr>\n",
       "      <th>34</th>\n",
       "      <td>Day</td>\n",
       "      <td>11</td>\n",
       "      <td>3021</td>\n",
       "    </tr>\n",
       "    <tr>\n",
       "      <th>35</th>\n",
       "      <td>Day</td>\n",
       "      <td>12</td>\n",
       "      <td>2790</td>\n",
       "    </tr>\n",
       "    <tr>\n",
       "      <th>36</th>\n",
       "      <td>Monthly</td>\n",
       "      <td>1</td>\n",
       "      <td>2668</td>\n",
       "    </tr>\n",
       "    <tr>\n",
       "      <th>37</th>\n",
       "      <td>Monthly</td>\n",
       "      <td>2</td>\n",
       "      <td>2061</td>\n",
       "    </tr>\n",
       "    <tr>\n",
       "      <th>38</th>\n",
       "      <td>Monthly</td>\n",
       "      <td>3</td>\n",
       "      <td>3534</td>\n",
       "    </tr>\n",
       "    <tr>\n",
       "      <th>39</th>\n",
       "      <td>Monthly</td>\n",
       "      <td>4</td>\n",
       "      <td>2789</td>\n",
       "    </tr>\n",
       "    <tr>\n",
       "      <th>40</th>\n",
       "      <td>Monthly</td>\n",
       "      <td>5</td>\n",
       "      <td>2852</td>\n",
       "    </tr>\n",
       "    <tr>\n",
       "      <th>41</th>\n",
       "      <td>Monthly</td>\n",
       "      <td>6</td>\n",
       "      <td>3087</td>\n",
       "    </tr>\n",
       "    <tr>\n",
       "      <th>42</th>\n",
       "      <td>Monthly</td>\n",
       "      <td>7</td>\n",
       "      <td>3210</td>\n",
       "    </tr>\n",
       "    <tr>\n",
       "      <th>43</th>\n",
       "      <td>Monthly</td>\n",
       "      <td>8</td>\n",
       "      <td>2815</td>\n",
       "    </tr>\n",
       "    <tr>\n",
       "      <th>44</th>\n",
       "      <td>Monthly</td>\n",
       "      <td>9</td>\n",
       "      <td>3235</td>\n",
       "    </tr>\n",
       "    <tr>\n",
       "      <th>45</th>\n",
       "      <td>Monthly</td>\n",
       "      <td>10</td>\n",
       "      <td>4504</td>\n",
       "    </tr>\n",
       "    <tr>\n",
       "      <th>46</th>\n",
       "      <td>Monthly</td>\n",
       "      <td>11</td>\n",
       "      <td>3110</td>\n",
       "    </tr>\n",
       "    <tr>\n",
       "      <th>47</th>\n",
       "      <td>Monthly</td>\n",
       "      <td>12</td>\n",
       "      <td>2973</td>\n",
       "    </tr>\n",
       "    <tr>\n",
       "      <th>48</th>\n",
       "      <td>Other</td>\n",
       "      <td>1</td>\n",
       "      <td>17</td>\n",
       "    </tr>\n",
       "    <tr>\n",
       "      <th>49</th>\n",
       "      <td>Other</td>\n",
       "      <td>2</td>\n",
       "      <td>8</td>\n",
       "    </tr>\n",
       "    <tr>\n",
       "      <th>50</th>\n",
       "      <td>Other</td>\n",
       "      <td>3</td>\n",
       "      <td>26</td>\n",
       "    </tr>\n",
       "    <tr>\n",
       "      <th>51</th>\n",
       "      <td>Other</td>\n",
       "      <td>4</td>\n",
       "      <td>32</td>\n",
       "    </tr>\n",
       "    <tr>\n",
       "      <th>52</th>\n",
       "      <td>Other</td>\n",
       "      <td>5</td>\n",
       "      <td>28</td>\n",
       "    </tr>\n",
       "    <tr>\n",
       "      <th>53</th>\n",
       "      <td>Other</td>\n",
       "      <td>6</td>\n",
       "      <td>42</td>\n",
       "    </tr>\n",
       "    <tr>\n",
       "      <th>54</th>\n",
       "      <td>Other</td>\n",
       "      <td>7</td>\n",
       "      <td>32</td>\n",
       "    </tr>\n",
       "    <tr>\n",
       "      <th>55</th>\n",
       "      <td>Other</td>\n",
       "      <td>8</td>\n",
       "      <td>6</td>\n",
       "    </tr>\n",
       "    <tr>\n",
       "      <th>56</th>\n",
       "      <td>Other</td>\n",
       "      <td>9</td>\n",
       "      <td>13</td>\n",
       "    </tr>\n",
       "    <tr>\n",
       "      <th>57</th>\n",
       "      <td>Other</td>\n",
       "      <td>10</td>\n",
       "      <td>37</td>\n",
       "    </tr>\n",
       "    <tr>\n",
       "      <th>58</th>\n",
       "      <td>Other</td>\n",
       "      <td>11</td>\n",
       "      <td>25</td>\n",
       "    </tr>\n",
       "    <tr>\n",
       "      <th>59</th>\n",
       "      <td>Other</td>\n",
       "      <td>12</td>\n",
       "      <td>12</td>\n",
       "    </tr>\n",
       "    <tr>\n",
       "      <th>60</th>\n",
       "      <td>Single Ride</td>\n",
       "      <td>1</td>\n",
       "      <td>1428</td>\n",
       "    </tr>\n",
       "    <tr>\n",
       "      <th>61</th>\n",
       "      <td>Single Ride</td>\n",
       "      <td>2</td>\n",
       "      <td>847</td>\n",
       "    </tr>\n",
       "    <tr>\n",
       "      <th>62</th>\n",
       "      <td>Single Ride</td>\n",
       "      <td>3</td>\n",
       "      <td>3002</td>\n",
       "    </tr>\n",
       "    <tr>\n",
       "      <th>63</th>\n",
       "      <td>Single Ride</td>\n",
       "      <td>4</td>\n",
       "      <td>2483</td>\n",
       "    </tr>\n",
       "    <tr>\n",
       "      <th>64</th>\n",
       "      <td>Single Ride</td>\n",
       "      <td>5</td>\n",
       "      <td>3037</td>\n",
       "    </tr>\n",
       "    <tr>\n",
       "      <th>65</th>\n",
       "      <td>Single Ride</td>\n",
       "      <td>6</td>\n",
       "      <td>2729</td>\n",
       "    </tr>\n",
       "    <tr>\n",
       "      <th>66</th>\n",
       "      <td>Single Ride</td>\n",
       "      <td>7</td>\n",
       "      <td>2667</td>\n",
       "    </tr>\n",
       "    <tr>\n",
       "      <th>67</th>\n",
       "      <td>Single Ride</td>\n",
       "      <td>8</td>\n",
       "      <td>2225</td>\n",
       "    </tr>\n",
       "    <tr>\n",
       "      <th>68</th>\n",
       "      <td>Single Ride</td>\n",
       "      <td>9</td>\n",
       "      <td>2586</td>\n",
       "    </tr>\n",
       "    <tr>\n",
       "      <th>69</th>\n",
       "      <td>Single Ride</td>\n",
       "      <td>10</td>\n",
       "      <td>4170</td>\n",
       "    </tr>\n",
       "    <tr>\n",
       "      <th>70</th>\n",
       "      <td>Single Ride</td>\n",
       "      <td>11</td>\n",
       "      <td>2537</td>\n",
       "    </tr>\n",
       "    <tr>\n",
       "      <th>71</th>\n",
       "      <td>Single Ride</td>\n",
       "      <td>12</td>\n",
       "      <td>2130</td>\n",
       "    </tr>\n",
       "    <tr>\n",
       "      <th>72</th>\n",
       "      <td>Student</td>\n",
       "      <td>1</td>\n",
       "      <td>273</td>\n",
       "    </tr>\n",
       "    <tr>\n",
       "      <th>73</th>\n",
       "      <td>Student</td>\n",
       "      <td>2</td>\n",
       "      <td>249</td>\n",
       "    </tr>\n",
       "    <tr>\n",
       "      <th>74</th>\n",
       "      <td>Student</td>\n",
       "      <td>3</td>\n",
       "      <td>532</td>\n",
       "    </tr>\n",
       "    <tr>\n",
       "      <th>75</th>\n",
       "      <td>Student</td>\n",
       "      <td>4</td>\n",
       "      <td>1636</td>\n",
       "    </tr>\n",
       "    <tr>\n",
       "      <th>76</th>\n",
       "      <td>Student</td>\n",
       "      <td>5</td>\n",
       "      <td>1381</td>\n",
       "    </tr>\n",
       "    <tr>\n",
       "      <th>77</th>\n",
       "      <td>Student</td>\n",
       "      <td>6</td>\n",
       "      <td>1223</td>\n",
       "    </tr>\n",
       "    <tr>\n",
       "      <th>78</th>\n",
       "      <td>Student</td>\n",
       "      <td>7</td>\n",
       "      <td>1296</td>\n",
       "    </tr>\n",
       "    <tr>\n",
       "      <th>79</th>\n",
       "      <td>Student</td>\n",
       "      <td>8</td>\n",
       "      <td>4059</td>\n",
       "    </tr>\n",
       "    <tr>\n",
       "      <th>80</th>\n",
       "      <td>Student</td>\n",
       "      <td>9</td>\n",
       "      <td>14022</td>\n",
       "    </tr>\n",
       "    <tr>\n",
       "      <th>81</th>\n",
       "      <td>Student</td>\n",
       "      <td>10</td>\n",
       "      <td>15489</td>\n",
       "    </tr>\n",
       "    <tr>\n",
       "      <th>82</th>\n",
       "      <td>Student</td>\n",
       "      <td>11</td>\n",
       "      <td>11634</td>\n",
       "    </tr>\n",
       "    <tr>\n",
       "      <th>83</th>\n",
       "      <td>Student</td>\n",
       "      <td>12</td>\n",
       "      <td>7286</td>\n",
       "    </tr>\n",
       "  </tbody>\n",
       "</table>\n",
       "</div>"
      ],
      "text/plain": [
       "   Membership Group  Month  Total\n",
       "0     3-Day Weekend      1    401\n",
       "1     3-Day Weekend      2    258\n",
       "2     3-Day Weekend      3    706\n",
       "3     3-Day Weekend      4   1295\n",
       "4     3-Day Weekend      5   1551\n",
       "5     3-Day Weekend      6   1222\n",
       "6     3-Day Weekend      7   1240\n",
       "7     3-Day Weekend      8    765\n",
       "8     3-Day Weekend      9    903\n",
       "9     3-Day Weekend     10   1476\n",
       "10    3-Day Weekend     11   1273\n",
       "11    3-Day Weekend     12    881\n",
       "12           Annual      1   3911\n",
       "13           Annual      2   2952\n",
       "14           Annual      3   5275\n",
       "15           Annual      4   5328\n",
       "16           Annual      5   4944\n",
       "17           Annual      6   4523\n",
       "18           Annual      7   4133\n",
       "19           Annual      8   4389\n",
       "20           Annual      9   5191\n",
       "21           Annual     10   4992\n",
       "22           Annual     11   3378\n",
       "23           Annual     12   2565\n",
       "24              Day      1   1889\n",
       "25              Day      2   1020\n",
       "26              Day      3   3730\n",
       "27              Day      4   3417\n",
       "28              Day      5   3634\n",
       "29              Day      6   2913\n",
       "30              Day      7   3191\n",
       "31              Day      8   2654\n",
       "32              Day      9   2559\n",
       "33              Day     10   3588\n",
       "34              Day     11   3021\n",
       "35              Day     12   2790\n",
       "36          Monthly      1   2668\n",
       "37          Monthly      2   2061\n",
       "38          Monthly      3   3534\n",
       "39          Monthly      4   2789\n",
       "40          Monthly      5   2852\n",
       "41          Monthly      6   3087\n",
       "42          Monthly      7   3210\n",
       "43          Monthly      8   2815\n",
       "44          Monthly      9   3235\n",
       "45          Monthly     10   4504\n",
       "46          Monthly     11   3110\n",
       "47          Monthly     12   2973\n",
       "48            Other      1     17\n",
       "49            Other      2      8\n",
       "50            Other      3     26\n",
       "51            Other      4     32\n",
       "52            Other      5     28\n",
       "53            Other      6     42\n",
       "54            Other      7     32\n",
       "55            Other      8      6\n",
       "56            Other      9     13\n",
       "57            Other     10     37\n",
       "58            Other     11     25\n",
       "59            Other     12     12\n",
       "60      Single Ride      1   1428\n",
       "61      Single Ride      2    847\n",
       "62      Single Ride      3   3002\n",
       "63      Single Ride      4   2483\n",
       "64      Single Ride      5   3037\n",
       "65      Single Ride      6   2729\n",
       "66      Single Ride      7   2667\n",
       "67      Single Ride      8   2225\n",
       "68      Single Ride      9   2586\n",
       "69      Single Ride     10   4170\n",
       "70      Single Ride     11   2537\n",
       "71      Single Ride     12   2130\n",
       "72          Student      1    273\n",
       "73          Student      2    249\n",
       "74          Student      3    532\n",
       "75          Student      4   1636\n",
       "76          Student      5   1381\n",
       "77          Student      6   1223\n",
       "78          Student      7   1296\n",
       "79          Student      8   4059\n",
       "80          Student      9  14022\n",
       "81          Student     10  15489\n",
       "82          Student     11  11634\n",
       "83          Student     12   7286"
      ]
     },
     "execution_count": 35,
     "metadata": {},
     "output_type": "execute_result"
    }
   ],
   "source": [
    "membership_months = trips_2021.groupby(['Membership Version','Month_2']).size().to_frame().reset_index()\n",
    "membership_months.rename(columns={'Month_2': 'Month',\n",
    "                                  'Membership Version':'Membership Group',\n",
    "                                  0:'Total'}, inplace=True)\n",
    "\n",
    "membership_months.head(100)"
   ]
  },
  {
   "cell_type": "code",
   "execution_count": 36,
   "id": "673bf280",
   "metadata": {},
   "outputs": [],
   "source": [
    "group_categories = [\"Other\", \"3-Day Weekend\",\"Single Ride\", \"Day\",\"Monthly\",\"Annual\",\"Student\"]\n",
    "membership_months[\"Membership Group\"] = pd.Categorical(membership_months[\"Membership Group\"], categories = group_categories)\n",
    "membership_months = membership_months.sort_values(by = [\"Membership Group\",'Month']).reset_index()"
   ]
  },
  {
   "cell_type": "code",
   "execution_count": 37,
   "id": "e938a762",
   "metadata": {},
   "outputs": [
    {
     "data": {
      "text/plain": [
       "['Other', '3-Day Weekend', 'Single Ride', 'Day', 'Monthly', 'Annual', 'Student']\n",
       "Categories (7, object): ['Other', '3-Day Weekend', 'Single Ride', 'Day', 'Monthly', 'Annual', 'Student']"
      ]
     },
     "execution_count": 37,
     "metadata": {},
     "output_type": "execute_result"
    }
   ],
   "source": [
    "membership_months['Membership Group'].unique()"
   ]
  },
  {
   "cell_type": "code",
   "execution_count": 38,
   "id": "fe8caa8a",
   "metadata": {},
   "outputs": [
    {
     "data": {
      "text/html": [
       "<div>\n",
       "<style scoped>\n",
       "    .dataframe tbody tr th:only-of-type {\n",
       "        vertical-align: middle;\n",
       "    }\n",
       "\n",
       "    .dataframe tbody tr th {\n",
       "        vertical-align: top;\n",
       "    }\n",
       "\n",
       "    .dataframe thead th {\n",
       "        text-align: right;\n",
       "    }\n",
       "</style>\n",
       "<table border=\"1\" class=\"dataframe\">\n",
       "  <thead>\n",
       "    <tr style=\"text-align: right;\">\n",
       "      <th></th>\n",
       "      <th>index</th>\n",
       "      <th>Membership Group</th>\n",
       "      <th>Month</th>\n",
       "      <th>Total</th>\n",
       "    </tr>\n",
       "  </thead>\n",
       "  <tbody>\n",
       "    <tr>\n",
       "      <th>0</th>\n",
       "      <td>48</td>\n",
       "      <td>Other</td>\n",
       "      <td>1</td>\n",
       "      <td>17</td>\n",
       "    </tr>\n",
       "    <tr>\n",
       "      <th>1</th>\n",
       "      <td>49</td>\n",
       "      <td>Other</td>\n",
       "      <td>2</td>\n",
       "      <td>8</td>\n",
       "    </tr>\n",
       "    <tr>\n",
       "      <th>2</th>\n",
       "      <td>50</td>\n",
       "      <td>Other</td>\n",
       "      <td>3</td>\n",
       "      <td>26</td>\n",
       "    </tr>\n",
       "    <tr>\n",
       "      <th>3</th>\n",
       "      <td>51</td>\n",
       "      <td>Other</td>\n",
       "      <td>4</td>\n",
       "      <td>32</td>\n",
       "    </tr>\n",
       "    <tr>\n",
       "      <th>4</th>\n",
       "      <td>52</td>\n",
       "      <td>Other</td>\n",
       "      <td>5</td>\n",
       "      <td>28</td>\n",
       "    </tr>\n",
       "    <tr>\n",
       "      <th>5</th>\n",
       "      <td>53</td>\n",
       "      <td>Other</td>\n",
       "      <td>6</td>\n",
       "      <td>42</td>\n",
       "    </tr>\n",
       "    <tr>\n",
       "      <th>6</th>\n",
       "      <td>54</td>\n",
       "      <td>Other</td>\n",
       "      <td>7</td>\n",
       "      <td>32</td>\n",
       "    </tr>\n",
       "    <tr>\n",
       "      <th>7</th>\n",
       "      <td>55</td>\n",
       "      <td>Other</td>\n",
       "      <td>8</td>\n",
       "      <td>6</td>\n",
       "    </tr>\n",
       "    <tr>\n",
       "      <th>8</th>\n",
       "      <td>56</td>\n",
       "      <td>Other</td>\n",
       "      <td>9</td>\n",
       "      <td>13</td>\n",
       "    </tr>\n",
       "    <tr>\n",
       "      <th>9</th>\n",
       "      <td>57</td>\n",
       "      <td>Other</td>\n",
       "      <td>10</td>\n",
       "      <td>37</td>\n",
       "    </tr>\n",
       "    <tr>\n",
       "      <th>10</th>\n",
       "      <td>58</td>\n",
       "      <td>Other</td>\n",
       "      <td>11</td>\n",
       "      <td>25</td>\n",
       "    </tr>\n",
       "    <tr>\n",
       "      <th>11</th>\n",
       "      <td>59</td>\n",
       "      <td>Other</td>\n",
       "      <td>12</td>\n",
       "      <td>12</td>\n",
       "    </tr>\n",
       "    <tr>\n",
       "      <th>12</th>\n",
       "      <td>0</td>\n",
       "      <td>3-Day Weekend</td>\n",
       "      <td>1</td>\n",
       "      <td>401</td>\n",
       "    </tr>\n",
       "    <tr>\n",
       "      <th>13</th>\n",
       "      <td>1</td>\n",
       "      <td>3-Day Weekend</td>\n",
       "      <td>2</td>\n",
       "      <td>258</td>\n",
       "    </tr>\n",
       "    <tr>\n",
       "      <th>14</th>\n",
       "      <td>2</td>\n",
       "      <td>3-Day Weekend</td>\n",
       "      <td>3</td>\n",
       "      <td>706</td>\n",
       "    </tr>\n",
       "    <tr>\n",
       "      <th>15</th>\n",
       "      <td>3</td>\n",
       "      <td>3-Day Weekend</td>\n",
       "      <td>4</td>\n",
       "      <td>1295</td>\n",
       "    </tr>\n",
       "    <tr>\n",
       "      <th>16</th>\n",
       "      <td>4</td>\n",
       "      <td>3-Day Weekend</td>\n",
       "      <td>5</td>\n",
       "      <td>1551</td>\n",
       "    </tr>\n",
       "    <tr>\n",
       "      <th>17</th>\n",
       "      <td>5</td>\n",
       "      <td>3-Day Weekend</td>\n",
       "      <td>6</td>\n",
       "      <td>1222</td>\n",
       "    </tr>\n",
       "    <tr>\n",
       "      <th>18</th>\n",
       "      <td>6</td>\n",
       "      <td>3-Day Weekend</td>\n",
       "      <td>7</td>\n",
       "      <td>1240</td>\n",
       "    </tr>\n",
       "    <tr>\n",
       "      <th>19</th>\n",
       "      <td>7</td>\n",
       "      <td>3-Day Weekend</td>\n",
       "      <td>8</td>\n",
       "      <td>765</td>\n",
       "    </tr>\n",
       "    <tr>\n",
       "      <th>20</th>\n",
       "      <td>8</td>\n",
       "      <td>3-Day Weekend</td>\n",
       "      <td>9</td>\n",
       "      <td>903</td>\n",
       "    </tr>\n",
       "    <tr>\n",
       "      <th>21</th>\n",
       "      <td>9</td>\n",
       "      <td>3-Day Weekend</td>\n",
       "      <td>10</td>\n",
       "      <td>1476</td>\n",
       "    </tr>\n",
       "    <tr>\n",
       "      <th>22</th>\n",
       "      <td>10</td>\n",
       "      <td>3-Day Weekend</td>\n",
       "      <td>11</td>\n",
       "      <td>1273</td>\n",
       "    </tr>\n",
       "    <tr>\n",
       "      <th>23</th>\n",
       "      <td>11</td>\n",
       "      <td>3-Day Weekend</td>\n",
       "      <td>12</td>\n",
       "      <td>881</td>\n",
       "    </tr>\n",
       "    <tr>\n",
       "      <th>24</th>\n",
       "      <td>60</td>\n",
       "      <td>Single Ride</td>\n",
       "      <td>1</td>\n",
       "      <td>1428</td>\n",
       "    </tr>\n",
       "    <tr>\n",
       "      <th>25</th>\n",
       "      <td>61</td>\n",
       "      <td>Single Ride</td>\n",
       "      <td>2</td>\n",
       "      <td>847</td>\n",
       "    </tr>\n",
       "    <tr>\n",
       "      <th>26</th>\n",
       "      <td>62</td>\n",
       "      <td>Single Ride</td>\n",
       "      <td>3</td>\n",
       "      <td>3002</td>\n",
       "    </tr>\n",
       "    <tr>\n",
       "      <th>27</th>\n",
       "      <td>63</td>\n",
       "      <td>Single Ride</td>\n",
       "      <td>4</td>\n",
       "      <td>2483</td>\n",
       "    </tr>\n",
       "    <tr>\n",
       "      <th>28</th>\n",
       "      <td>64</td>\n",
       "      <td>Single Ride</td>\n",
       "      <td>5</td>\n",
       "      <td>3037</td>\n",
       "    </tr>\n",
       "    <tr>\n",
       "      <th>29</th>\n",
       "      <td>65</td>\n",
       "      <td>Single Ride</td>\n",
       "      <td>6</td>\n",
       "      <td>2729</td>\n",
       "    </tr>\n",
       "    <tr>\n",
       "      <th>30</th>\n",
       "      <td>66</td>\n",
       "      <td>Single Ride</td>\n",
       "      <td>7</td>\n",
       "      <td>2667</td>\n",
       "    </tr>\n",
       "    <tr>\n",
       "      <th>31</th>\n",
       "      <td>67</td>\n",
       "      <td>Single Ride</td>\n",
       "      <td>8</td>\n",
       "      <td>2225</td>\n",
       "    </tr>\n",
       "    <tr>\n",
       "      <th>32</th>\n",
       "      <td>68</td>\n",
       "      <td>Single Ride</td>\n",
       "      <td>9</td>\n",
       "      <td>2586</td>\n",
       "    </tr>\n",
       "    <tr>\n",
       "      <th>33</th>\n",
       "      <td>69</td>\n",
       "      <td>Single Ride</td>\n",
       "      <td>10</td>\n",
       "      <td>4170</td>\n",
       "    </tr>\n",
       "    <tr>\n",
       "      <th>34</th>\n",
       "      <td>70</td>\n",
       "      <td>Single Ride</td>\n",
       "      <td>11</td>\n",
       "      <td>2537</td>\n",
       "    </tr>\n",
       "    <tr>\n",
       "      <th>35</th>\n",
       "      <td>71</td>\n",
       "      <td>Single Ride</td>\n",
       "      <td>12</td>\n",
       "      <td>2130</td>\n",
       "    </tr>\n",
       "    <tr>\n",
       "      <th>36</th>\n",
       "      <td>24</td>\n",
       "      <td>Day</td>\n",
       "      <td>1</td>\n",
       "      <td>1889</td>\n",
       "    </tr>\n",
       "    <tr>\n",
       "      <th>37</th>\n",
       "      <td>25</td>\n",
       "      <td>Day</td>\n",
       "      <td>2</td>\n",
       "      <td>1020</td>\n",
       "    </tr>\n",
       "    <tr>\n",
       "      <th>38</th>\n",
       "      <td>26</td>\n",
       "      <td>Day</td>\n",
       "      <td>3</td>\n",
       "      <td>3730</td>\n",
       "    </tr>\n",
       "    <tr>\n",
       "      <th>39</th>\n",
       "      <td>27</td>\n",
       "      <td>Day</td>\n",
       "      <td>4</td>\n",
       "      <td>3417</td>\n",
       "    </tr>\n",
       "    <tr>\n",
       "      <th>40</th>\n",
       "      <td>28</td>\n",
       "      <td>Day</td>\n",
       "      <td>5</td>\n",
       "      <td>3634</td>\n",
       "    </tr>\n",
       "    <tr>\n",
       "      <th>41</th>\n",
       "      <td>29</td>\n",
       "      <td>Day</td>\n",
       "      <td>6</td>\n",
       "      <td>2913</td>\n",
       "    </tr>\n",
       "    <tr>\n",
       "      <th>42</th>\n",
       "      <td>30</td>\n",
       "      <td>Day</td>\n",
       "      <td>7</td>\n",
       "      <td>3191</td>\n",
       "    </tr>\n",
       "    <tr>\n",
       "      <th>43</th>\n",
       "      <td>31</td>\n",
       "      <td>Day</td>\n",
       "      <td>8</td>\n",
       "      <td>2654</td>\n",
       "    </tr>\n",
       "    <tr>\n",
       "      <th>44</th>\n",
       "      <td>32</td>\n",
       "      <td>Day</td>\n",
       "      <td>9</td>\n",
       "      <td>2559</td>\n",
       "    </tr>\n",
       "    <tr>\n",
       "      <th>45</th>\n",
       "      <td>33</td>\n",
       "      <td>Day</td>\n",
       "      <td>10</td>\n",
       "      <td>3588</td>\n",
       "    </tr>\n",
       "    <tr>\n",
       "      <th>46</th>\n",
       "      <td>34</td>\n",
       "      <td>Day</td>\n",
       "      <td>11</td>\n",
       "      <td>3021</td>\n",
       "    </tr>\n",
       "    <tr>\n",
       "      <th>47</th>\n",
       "      <td>35</td>\n",
       "      <td>Day</td>\n",
       "      <td>12</td>\n",
       "      <td>2790</td>\n",
       "    </tr>\n",
       "    <tr>\n",
       "      <th>48</th>\n",
       "      <td>36</td>\n",
       "      <td>Monthly</td>\n",
       "      <td>1</td>\n",
       "      <td>2668</td>\n",
       "    </tr>\n",
       "    <tr>\n",
       "      <th>49</th>\n",
       "      <td>37</td>\n",
       "      <td>Monthly</td>\n",
       "      <td>2</td>\n",
       "      <td>2061</td>\n",
       "    </tr>\n",
       "    <tr>\n",
       "      <th>50</th>\n",
       "      <td>38</td>\n",
       "      <td>Monthly</td>\n",
       "      <td>3</td>\n",
       "      <td>3534</td>\n",
       "    </tr>\n",
       "    <tr>\n",
       "      <th>51</th>\n",
       "      <td>39</td>\n",
       "      <td>Monthly</td>\n",
       "      <td>4</td>\n",
       "      <td>2789</td>\n",
       "    </tr>\n",
       "    <tr>\n",
       "      <th>52</th>\n",
       "      <td>40</td>\n",
       "      <td>Monthly</td>\n",
       "      <td>5</td>\n",
       "      <td>2852</td>\n",
       "    </tr>\n",
       "    <tr>\n",
       "      <th>53</th>\n",
       "      <td>41</td>\n",
       "      <td>Monthly</td>\n",
       "      <td>6</td>\n",
       "      <td>3087</td>\n",
       "    </tr>\n",
       "    <tr>\n",
       "      <th>54</th>\n",
       "      <td>42</td>\n",
       "      <td>Monthly</td>\n",
       "      <td>7</td>\n",
       "      <td>3210</td>\n",
       "    </tr>\n",
       "    <tr>\n",
       "      <th>55</th>\n",
       "      <td>43</td>\n",
       "      <td>Monthly</td>\n",
       "      <td>8</td>\n",
       "      <td>2815</td>\n",
       "    </tr>\n",
       "    <tr>\n",
       "      <th>56</th>\n",
       "      <td>44</td>\n",
       "      <td>Monthly</td>\n",
       "      <td>9</td>\n",
       "      <td>3235</td>\n",
       "    </tr>\n",
       "    <tr>\n",
       "      <th>57</th>\n",
       "      <td>45</td>\n",
       "      <td>Monthly</td>\n",
       "      <td>10</td>\n",
       "      <td>4504</td>\n",
       "    </tr>\n",
       "    <tr>\n",
       "      <th>58</th>\n",
       "      <td>46</td>\n",
       "      <td>Monthly</td>\n",
       "      <td>11</td>\n",
       "      <td>3110</td>\n",
       "    </tr>\n",
       "    <tr>\n",
       "      <th>59</th>\n",
       "      <td>47</td>\n",
       "      <td>Monthly</td>\n",
       "      <td>12</td>\n",
       "      <td>2973</td>\n",
       "    </tr>\n",
       "    <tr>\n",
       "      <th>60</th>\n",
       "      <td>12</td>\n",
       "      <td>Annual</td>\n",
       "      <td>1</td>\n",
       "      <td>3911</td>\n",
       "    </tr>\n",
       "    <tr>\n",
       "      <th>61</th>\n",
       "      <td>13</td>\n",
       "      <td>Annual</td>\n",
       "      <td>2</td>\n",
       "      <td>2952</td>\n",
       "    </tr>\n",
       "    <tr>\n",
       "      <th>62</th>\n",
       "      <td>14</td>\n",
       "      <td>Annual</td>\n",
       "      <td>3</td>\n",
       "      <td>5275</td>\n",
       "    </tr>\n",
       "    <tr>\n",
       "      <th>63</th>\n",
       "      <td>15</td>\n",
       "      <td>Annual</td>\n",
       "      <td>4</td>\n",
       "      <td>5328</td>\n",
       "    </tr>\n",
       "    <tr>\n",
       "      <th>64</th>\n",
       "      <td>16</td>\n",
       "      <td>Annual</td>\n",
       "      <td>5</td>\n",
       "      <td>4944</td>\n",
       "    </tr>\n",
       "    <tr>\n",
       "      <th>65</th>\n",
       "      <td>17</td>\n",
       "      <td>Annual</td>\n",
       "      <td>6</td>\n",
       "      <td>4523</td>\n",
       "    </tr>\n",
       "    <tr>\n",
       "      <th>66</th>\n",
       "      <td>18</td>\n",
       "      <td>Annual</td>\n",
       "      <td>7</td>\n",
       "      <td>4133</td>\n",
       "    </tr>\n",
       "    <tr>\n",
       "      <th>67</th>\n",
       "      <td>19</td>\n",
       "      <td>Annual</td>\n",
       "      <td>8</td>\n",
       "      <td>4389</td>\n",
       "    </tr>\n",
       "    <tr>\n",
       "      <th>68</th>\n",
       "      <td>20</td>\n",
       "      <td>Annual</td>\n",
       "      <td>9</td>\n",
       "      <td>5191</td>\n",
       "    </tr>\n",
       "    <tr>\n",
       "      <th>69</th>\n",
       "      <td>21</td>\n",
       "      <td>Annual</td>\n",
       "      <td>10</td>\n",
       "      <td>4992</td>\n",
       "    </tr>\n",
       "    <tr>\n",
       "      <th>70</th>\n",
       "      <td>22</td>\n",
       "      <td>Annual</td>\n",
       "      <td>11</td>\n",
       "      <td>3378</td>\n",
       "    </tr>\n",
       "    <tr>\n",
       "      <th>71</th>\n",
       "      <td>23</td>\n",
       "      <td>Annual</td>\n",
       "      <td>12</td>\n",
       "      <td>2565</td>\n",
       "    </tr>\n",
       "    <tr>\n",
       "      <th>72</th>\n",
       "      <td>72</td>\n",
       "      <td>Student</td>\n",
       "      <td>1</td>\n",
       "      <td>273</td>\n",
       "    </tr>\n",
       "    <tr>\n",
       "      <th>73</th>\n",
       "      <td>73</td>\n",
       "      <td>Student</td>\n",
       "      <td>2</td>\n",
       "      <td>249</td>\n",
       "    </tr>\n",
       "    <tr>\n",
       "      <th>74</th>\n",
       "      <td>74</td>\n",
       "      <td>Student</td>\n",
       "      <td>3</td>\n",
       "      <td>532</td>\n",
       "    </tr>\n",
       "    <tr>\n",
       "      <th>75</th>\n",
       "      <td>75</td>\n",
       "      <td>Student</td>\n",
       "      <td>4</td>\n",
       "      <td>1636</td>\n",
       "    </tr>\n",
       "    <tr>\n",
       "      <th>76</th>\n",
       "      <td>76</td>\n",
       "      <td>Student</td>\n",
       "      <td>5</td>\n",
       "      <td>1381</td>\n",
       "    </tr>\n",
       "    <tr>\n",
       "      <th>77</th>\n",
       "      <td>77</td>\n",
       "      <td>Student</td>\n",
       "      <td>6</td>\n",
       "      <td>1223</td>\n",
       "    </tr>\n",
       "    <tr>\n",
       "      <th>78</th>\n",
       "      <td>78</td>\n",
       "      <td>Student</td>\n",
       "      <td>7</td>\n",
       "      <td>1296</td>\n",
       "    </tr>\n",
       "    <tr>\n",
       "      <th>79</th>\n",
       "      <td>79</td>\n",
       "      <td>Student</td>\n",
       "      <td>8</td>\n",
       "      <td>4059</td>\n",
       "    </tr>\n",
       "    <tr>\n",
       "      <th>80</th>\n",
       "      <td>80</td>\n",
       "      <td>Student</td>\n",
       "      <td>9</td>\n",
       "      <td>14022</td>\n",
       "    </tr>\n",
       "    <tr>\n",
       "      <th>81</th>\n",
       "      <td>81</td>\n",
       "      <td>Student</td>\n",
       "      <td>10</td>\n",
       "      <td>15489</td>\n",
       "    </tr>\n",
       "    <tr>\n",
       "      <th>82</th>\n",
       "      <td>82</td>\n",
       "      <td>Student</td>\n",
       "      <td>11</td>\n",
       "      <td>11634</td>\n",
       "    </tr>\n",
       "    <tr>\n",
       "      <th>83</th>\n",
       "      <td>83</td>\n",
       "      <td>Student</td>\n",
       "      <td>12</td>\n",
       "      <td>7286</td>\n",
       "    </tr>\n",
       "  </tbody>\n",
       "</table>\n",
       "</div>"
      ],
      "text/plain": [
       "    index Membership Group  Month  Total\n",
       "0      48            Other      1     17\n",
       "1      49            Other      2      8\n",
       "2      50            Other      3     26\n",
       "3      51            Other      4     32\n",
       "4      52            Other      5     28\n",
       "5      53            Other      6     42\n",
       "6      54            Other      7     32\n",
       "7      55            Other      8      6\n",
       "8      56            Other      9     13\n",
       "9      57            Other     10     37\n",
       "10     58            Other     11     25\n",
       "11     59            Other     12     12\n",
       "12      0    3-Day Weekend      1    401\n",
       "13      1    3-Day Weekend      2    258\n",
       "14      2    3-Day Weekend      3    706\n",
       "15      3    3-Day Weekend      4   1295\n",
       "16      4    3-Day Weekend      5   1551\n",
       "17      5    3-Day Weekend      6   1222\n",
       "18      6    3-Day Weekend      7   1240\n",
       "19      7    3-Day Weekend      8    765\n",
       "20      8    3-Day Weekend      9    903\n",
       "21      9    3-Day Weekend     10   1476\n",
       "22     10    3-Day Weekend     11   1273\n",
       "23     11    3-Day Weekend     12    881\n",
       "24     60      Single Ride      1   1428\n",
       "25     61      Single Ride      2    847\n",
       "26     62      Single Ride      3   3002\n",
       "27     63      Single Ride      4   2483\n",
       "28     64      Single Ride      5   3037\n",
       "29     65      Single Ride      6   2729\n",
       "30     66      Single Ride      7   2667\n",
       "31     67      Single Ride      8   2225\n",
       "32     68      Single Ride      9   2586\n",
       "33     69      Single Ride     10   4170\n",
       "34     70      Single Ride     11   2537\n",
       "35     71      Single Ride     12   2130\n",
       "36     24              Day      1   1889\n",
       "37     25              Day      2   1020\n",
       "38     26              Day      3   3730\n",
       "39     27              Day      4   3417\n",
       "40     28              Day      5   3634\n",
       "41     29              Day      6   2913\n",
       "42     30              Day      7   3191\n",
       "43     31              Day      8   2654\n",
       "44     32              Day      9   2559\n",
       "45     33              Day     10   3588\n",
       "46     34              Day     11   3021\n",
       "47     35              Day     12   2790\n",
       "48     36          Monthly      1   2668\n",
       "49     37          Monthly      2   2061\n",
       "50     38          Monthly      3   3534\n",
       "51     39          Monthly      4   2789\n",
       "52     40          Monthly      5   2852\n",
       "53     41          Monthly      6   3087\n",
       "54     42          Monthly      7   3210\n",
       "55     43          Monthly      8   2815\n",
       "56     44          Monthly      9   3235\n",
       "57     45          Monthly     10   4504\n",
       "58     46          Monthly     11   3110\n",
       "59     47          Monthly     12   2973\n",
       "60     12           Annual      1   3911\n",
       "61     13           Annual      2   2952\n",
       "62     14           Annual      3   5275\n",
       "63     15           Annual      4   5328\n",
       "64     16           Annual      5   4944\n",
       "65     17           Annual      6   4523\n",
       "66     18           Annual      7   4133\n",
       "67     19           Annual      8   4389\n",
       "68     20           Annual      9   5191\n",
       "69     21           Annual     10   4992\n",
       "70     22           Annual     11   3378\n",
       "71     23           Annual     12   2565\n",
       "72     72          Student      1    273\n",
       "73     73          Student      2    249\n",
       "74     74          Student      3    532\n",
       "75     75          Student      4   1636\n",
       "76     76          Student      5   1381\n",
       "77     77          Student      6   1223\n",
       "78     78          Student      7   1296\n",
       "79     79          Student      8   4059\n",
       "80     80          Student      9  14022\n",
       "81     81          Student     10  15489\n",
       "82     82          Student     11  11634\n",
       "83     83          Student     12   7286"
      ]
     },
     "execution_count": 38,
     "metadata": {},
     "output_type": "execute_result"
    }
   ],
   "source": [
    "membership_months"
   ]
  },
  {
   "cell_type": "code",
   "execution_count": 39,
   "id": "2032072c",
   "metadata": {},
   "outputs": [],
   "source": [
    "a = pd.concat([trips_2021.loc[trips_2021['Membership Version']=='Other'].groupby('Month_2').size().cumsum(),\n",
    "              trips_2021.loc[trips_2021['Membership Version']=='3-Day Weekend'].groupby('Month_2').size().cumsum(),\n",
    "              trips_2021.loc[trips_2021['Membership Version']=='Single Ride'].groupby('Month_2').size().cumsum(),\n",
    "              trips_2021.loc[trips_2021['Membership Version']=='Day'].groupby('Month_2').size().cumsum(),\n",
    "              trips_2021.loc[trips_2021['Membership Version']=='Monthly'].groupby('Month_2').size().cumsum(),\n",
    "              trips_2021.loc[trips_2021['Membership Version']=='Annual'].groupby('Month_2').size().cumsum(),\n",
    "              trips_2021.loc[trips_2021['Membership Version']=='Student'].groupby('Month_2').size().cumsum()],\n",
    "              axis=0).reset_index()\n",
    "\n",
    "\n",
    "membership_months['Total Trips By Month'] = a[0]"
   ]
  },
  {
   "cell_type": "code",
   "execution_count": 40,
   "id": "682d1ebb",
   "metadata": {
    "scrolled": false
   },
   "outputs": [
    {
     "data": {
      "text/html": [
       "<div>\n",
       "<style scoped>\n",
       "    .dataframe tbody tr th:only-of-type {\n",
       "        vertical-align: middle;\n",
       "    }\n",
       "\n",
       "    .dataframe tbody tr th {\n",
       "        vertical-align: top;\n",
       "    }\n",
       "\n",
       "    .dataframe thead th {\n",
       "        text-align: right;\n",
       "    }\n",
       "</style>\n",
       "<table border=\"1\" class=\"dataframe\">\n",
       "  <thead>\n",
       "    <tr style=\"text-align: right;\">\n",
       "      <th></th>\n",
       "      <th>index</th>\n",
       "      <th>Membership Group</th>\n",
       "      <th>Month</th>\n",
       "      <th>Total</th>\n",
       "      <th>Total Trips By Month</th>\n",
       "    </tr>\n",
       "  </thead>\n",
       "  <tbody>\n",
       "    <tr>\n",
       "      <th>0</th>\n",
       "      <td>48</td>\n",
       "      <td>Other</td>\n",
       "      <td>1</td>\n",
       "      <td>17</td>\n",
       "      <td>17</td>\n",
       "    </tr>\n",
       "    <tr>\n",
       "      <th>1</th>\n",
       "      <td>49</td>\n",
       "      <td>Other</td>\n",
       "      <td>2</td>\n",
       "      <td>8</td>\n",
       "      <td>25</td>\n",
       "    </tr>\n",
       "    <tr>\n",
       "      <th>2</th>\n",
       "      <td>50</td>\n",
       "      <td>Other</td>\n",
       "      <td>3</td>\n",
       "      <td>26</td>\n",
       "      <td>51</td>\n",
       "    </tr>\n",
       "    <tr>\n",
       "      <th>3</th>\n",
       "      <td>51</td>\n",
       "      <td>Other</td>\n",
       "      <td>4</td>\n",
       "      <td>32</td>\n",
       "      <td>83</td>\n",
       "    </tr>\n",
       "    <tr>\n",
       "      <th>4</th>\n",
       "      <td>52</td>\n",
       "      <td>Other</td>\n",
       "      <td>5</td>\n",
       "      <td>28</td>\n",
       "      <td>111</td>\n",
       "    </tr>\n",
       "    <tr>\n",
       "      <th>5</th>\n",
       "      <td>53</td>\n",
       "      <td>Other</td>\n",
       "      <td>6</td>\n",
       "      <td>42</td>\n",
       "      <td>153</td>\n",
       "    </tr>\n",
       "    <tr>\n",
       "      <th>6</th>\n",
       "      <td>54</td>\n",
       "      <td>Other</td>\n",
       "      <td>7</td>\n",
       "      <td>32</td>\n",
       "      <td>185</td>\n",
       "    </tr>\n",
       "    <tr>\n",
       "      <th>7</th>\n",
       "      <td>55</td>\n",
       "      <td>Other</td>\n",
       "      <td>8</td>\n",
       "      <td>6</td>\n",
       "      <td>191</td>\n",
       "    </tr>\n",
       "    <tr>\n",
       "      <th>8</th>\n",
       "      <td>56</td>\n",
       "      <td>Other</td>\n",
       "      <td>9</td>\n",
       "      <td>13</td>\n",
       "      <td>204</td>\n",
       "    </tr>\n",
       "    <tr>\n",
       "      <th>9</th>\n",
       "      <td>57</td>\n",
       "      <td>Other</td>\n",
       "      <td>10</td>\n",
       "      <td>37</td>\n",
       "      <td>241</td>\n",
       "    </tr>\n",
       "    <tr>\n",
       "      <th>10</th>\n",
       "      <td>58</td>\n",
       "      <td>Other</td>\n",
       "      <td>11</td>\n",
       "      <td>25</td>\n",
       "      <td>266</td>\n",
       "    </tr>\n",
       "    <tr>\n",
       "      <th>11</th>\n",
       "      <td>59</td>\n",
       "      <td>Other</td>\n",
       "      <td>12</td>\n",
       "      <td>12</td>\n",
       "      <td>278</td>\n",
       "    </tr>\n",
       "    <tr>\n",
       "      <th>12</th>\n",
       "      <td>0</td>\n",
       "      <td>3-Day Weekend</td>\n",
       "      <td>1</td>\n",
       "      <td>401</td>\n",
       "      <td>401</td>\n",
       "    </tr>\n",
       "    <tr>\n",
       "      <th>13</th>\n",
       "      <td>1</td>\n",
       "      <td>3-Day Weekend</td>\n",
       "      <td>2</td>\n",
       "      <td>258</td>\n",
       "      <td>659</td>\n",
       "    </tr>\n",
       "    <tr>\n",
       "      <th>14</th>\n",
       "      <td>2</td>\n",
       "      <td>3-Day Weekend</td>\n",
       "      <td>3</td>\n",
       "      <td>706</td>\n",
       "      <td>1365</td>\n",
       "    </tr>\n",
       "    <tr>\n",
       "      <th>15</th>\n",
       "      <td>3</td>\n",
       "      <td>3-Day Weekend</td>\n",
       "      <td>4</td>\n",
       "      <td>1295</td>\n",
       "      <td>2660</td>\n",
       "    </tr>\n",
       "    <tr>\n",
       "      <th>16</th>\n",
       "      <td>4</td>\n",
       "      <td>3-Day Weekend</td>\n",
       "      <td>5</td>\n",
       "      <td>1551</td>\n",
       "      <td>4211</td>\n",
       "    </tr>\n",
       "    <tr>\n",
       "      <th>17</th>\n",
       "      <td>5</td>\n",
       "      <td>3-Day Weekend</td>\n",
       "      <td>6</td>\n",
       "      <td>1222</td>\n",
       "      <td>5433</td>\n",
       "    </tr>\n",
       "    <tr>\n",
       "      <th>18</th>\n",
       "      <td>6</td>\n",
       "      <td>3-Day Weekend</td>\n",
       "      <td>7</td>\n",
       "      <td>1240</td>\n",
       "      <td>6673</td>\n",
       "    </tr>\n",
       "    <tr>\n",
       "      <th>19</th>\n",
       "      <td>7</td>\n",
       "      <td>3-Day Weekend</td>\n",
       "      <td>8</td>\n",
       "      <td>765</td>\n",
       "      <td>7438</td>\n",
       "    </tr>\n",
       "    <tr>\n",
       "      <th>20</th>\n",
       "      <td>8</td>\n",
       "      <td>3-Day Weekend</td>\n",
       "      <td>9</td>\n",
       "      <td>903</td>\n",
       "      <td>8341</td>\n",
       "    </tr>\n",
       "    <tr>\n",
       "      <th>21</th>\n",
       "      <td>9</td>\n",
       "      <td>3-Day Weekend</td>\n",
       "      <td>10</td>\n",
       "      <td>1476</td>\n",
       "      <td>9817</td>\n",
       "    </tr>\n",
       "    <tr>\n",
       "      <th>22</th>\n",
       "      <td>10</td>\n",
       "      <td>3-Day Weekend</td>\n",
       "      <td>11</td>\n",
       "      <td>1273</td>\n",
       "      <td>11090</td>\n",
       "    </tr>\n",
       "    <tr>\n",
       "      <th>23</th>\n",
       "      <td>11</td>\n",
       "      <td>3-Day Weekend</td>\n",
       "      <td>12</td>\n",
       "      <td>881</td>\n",
       "      <td>11971</td>\n",
       "    </tr>\n",
       "  </tbody>\n",
       "</table>\n",
       "</div>"
      ],
      "text/plain": [
       "    index Membership Group  Month  Total  Total Trips By Month\n",
       "0      48            Other      1     17                    17\n",
       "1      49            Other      2      8                    25\n",
       "2      50            Other      3     26                    51\n",
       "3      51            Other      4     32                    83\n",
       "4      52            Other      5     28                   111\n",
       "5      53            Other      6     42                   153\n",
       "6      54            Other      7     32                   185\n",
       "7      55            Other      8      6                   191\n",
       "8      56            Other      9     13                   204\n",
       "9      57            Other     10     37                   241\n",
       "10     58            Other     11     25                   266\n",
       "11     59            Other     12     12                   278\n",
       "12      0    3-Day Weekend      1    401                   401\n",
       "13      1    3-Day Weekend      2    258                   659\n",
       "14      2    3-Day Weekend      3    706                  1365\n",
       "15      3    3-Day Weekend      4   1295                  2660\n",
       "16      4    3-Day Weekend      5   1551                  4211\n",
       "17      5    3-Day Weekend      6   1222                  5433\n",
       "18      6    3-Day Weekend      7   1240                  6673\n",
       "19      7    3-Day Weekend      8    765                  7438\n",
       "20      8    3-Day Weekend      9    903                  8341\n",
       "21      9    3-Day Weekend     10   1476                  9817\n",
       "22     10    3-Day Weekend     11   1273                 11090\n",
       "23     11    3-Day Weekend     12    881                 11971"
      ]
     },
     "execution_count": 40,
     "metadata": {},
     "output_type": "execute_result"
    }
   ],
   "source": [
    "membership_months.head(24)"
   ]
  },
  {
   "cell_type": "code",
   "execution_count": 41,
   "id": "6d411be0",
   "metadata": {},
   "outputs": [
    {
     "data": {
      "application/vnd.plotly.v1+json": {
       "config": {
        "plotlyServerURL": "https://plotly.com"
       },
       "data": [
        {
         "hovertemplate": "Membership Group=Other<br>Month=%{x}<br>Total Trips=%{y}<extra></extra>",
         "legendgroup": "Other",
         "line": {
          "color": "#ccc",
          "dash": "solid",
          "width": 5
         },
         "marker": {
          "size": 12,
          "symbol": "circle"
         },
         "mode": "markers+lines",
         "name": "Other",
         "orientation": "v",
         "showlegend": true,
         "type": "scatter",
         "x": [
          1,
          2,
          3,
          4,
          5,
          6,
          7,
          8,
          9,
          10,
          11,
          12
         ],
         "xaxis": "x",
         "y": [
          17,
          25,
          51,
          83,
          111,
          153,
          185,
          191,
          204,
          241,
          266,
          278
         ],
         "yaxis": "y"
        },
        {
         "hovertemplate": "Membership Group=3-Day Weekend<br>Month=%{x}<br>Total Trips=%{y}<extra></extra>",
         "legendgroup": "3-Day Weekend",
         "line": {
          "color": "#828282",
          "dash": "dot",
          "width": 5
         },
         "marker": {
          "size": 12,
          "symbol": "diamond"
         },
         "mode": "markers+lines",
         "name": "3-Day Weekend",
         "orientation": "v",
         "showlegend": true,
         "type": "scatter",
         "x": [
          1,
          2,
          3,
          4,
          5,
          6,
          7,
          8,
          9,
          10,
          11,
          12
         ],
         "xaxis": "x",
         "y": [
          401,
          659,
          1365,
          2660,
          4211,
          5433,
          6673,
          7438,
          8341,
          9817,
          11090,
          11971
         ],
         "yaxis": "y"
        },
        {
         "hovertemplate": "Membership Group=Single Ride<br>Month=%{x}<br>Total Trips=%{y}<extra></extra>",
         "legendgroup": "Single Ride",
         "line": {
          "color": "#5BC7E1",
          "dash": "solid",
          "width": 5
         },
         "marker": {
          "size": 12,
          "symbol": "square"
         },
         "mode": "markers+lines",
         "name": "Single Ride",
         "orientation": "v",
         "showlegend": true,
         "type": "scatter",
         "x": [
          1,
          2,
          3,
          4,
          5,
          6,
          7,
          8,
          9,
          10,
          11,
          12
         ],
         "xaxis": "x",
         "y": [
          1428,
          2275,
          5277,
          7760,
          10797,
          13526,
          16193,
          18418,
          21004,
          25174,
          27711,
          29841
         ],
         "yaxis": "y"
        },
        {
         "hovertemplate": "Membership Group=Day<br>Month=%{x}<br>Total Trips=%{y}<extra></extra>",
         "legendgroup": "Day",
         "line": {
          "color": "#7cb937",
          "dash": "solid",
          "width": 8
         },
         "marker": {
          "size": 12,
          "symbol": "x"
         },
         "mode": "markers+lines",
         "name": "Day",
         "orientation": "v",
         "showlegend": true,
         "type": "scatter",
         "x": [
          1,
          2,
          3,
          4,
          5,
          6,
          7,
          8,
          9,
          10,
          11,
          12
         ],
         "xaxis": "x",
         "y": [
          1889,
          2909,
          6639,
          10056,
          13690,
          16603,
          19794,
          22448,
          25007,
          28595,
          31616,
          34406
         ],
         "yaxis": "y"
        },
        {
         "hovertemplate": "Membership Group=Monthly<br>Month=%{x}<br>Total Trips=%{y}<extra></extra>",
         "legendgroup": "Monthly",
         "line": {
          "color": "#315f2e",
          "dash": "dot",
          "width": 8.5
         },
         "marker": {
          "size": 12,
          "symbol": "cross"
         },
         "mode": "markers+lines",
         "name": "Monthly",
         "orientation": "v",
         "showlegend": true,
         "type": "scatter",
         "x": [
          1,
          2,
          3,
          4,
          5,
          6,
          7,
          8,
          9,
          10,
          11,
          12
         ],
         "xaxis": "x",
         "y": [
          2668,
          4729,
          8263,
          11052,
          13904,
          16991,
          20201,
          23016,
          26251,
          30755,
          33865,
          36838
         ],
         "yaxis": "y"
        },
        {
         "hovertemplate": "Membership Group=Annual<br>Month=%{x}<br>Total Trips=%{y}<extra></extra>",
         "legendgroup": "Annual",
         "line": {
          "color": "#710B79",
          "dash": "solid",
          "width": 8.5
         },
         "marker": {
          "size": 12,
          "symbol": "circle"
         },
         "mode": "markers+lines",
         "name": "Annual",
         "orientation": "v",
         "showlegend": true,
         "type": "scatter",
         "x": [
          1,
          2,
          3,
          4,
          5,
          6,
          7,
          8,
          9,
          10,
          11,
          12
         ],
         "xaxis": "x",
         "y": [
          3911,
          6863,
          12138,
          17466,
          22410,
          26933,
          31066,
          35455,
          40646,
          45638,
          49016,
          51581
         ],
         "yaxis": "y"
        },
        {
         "hovertemplate": "Membership Group=Student<br>Month=%{x}<br>Total Trips=%{y}<extra></extra>",
         "legendgroup": "Student",
         "line": {
          "color": "#C901A1",
          "dash": "solid",
          "width": 9
         },
         "marker": {
          "size": 12,
          "symbol": "diamond"
         },
         "mode": "markers+lines",
         "name": "Student",
         "opacity": 0.75,
         "orientation": "v",
         "showlegend": true,
         "type": "scatter",
         "x": [
          1,
          2,
          3,
          4,
          5,
          6,
          7,
          8,
          9,
          10,
          11,
          12
         ],
         "xaxis": "x",
         "y": [
          273,
          522,
          1054,
          2690,
          4071,
          5294,
          6590,
          10649,
          24671,
          40160,
          51794,
          59080
         ],
         "yaxis": "y"
        }
       ],
       "layout": {
        "font": {
         "color": "Black",
         "family": "Arial",
         "size": 16
        },
        "legend": {
         "title": {
          "text": "Membership Group"
         },
         "tracegroupgap": 0
        },
        "margin": {
         "t": 60
        },
        "showlegend": true,
        "template": {
         "data": {
          "bar": [
           {
            "error_x": {
             "color": "#2a3f5f"
            },
            "error_y": {
             "color": "#2a3f5f"
            },
            "marker": {
             "line": {
              "color": "#E5ECF6",
              "width": 0.5
             },
             "pattern": {
              "fillmode": "overlay",
              "size": 10,
              "solidity": 0.2
             }
            },
            "type": "bar"
           }
          ],
          "barpolar": [
           {
            "marker": {
             "line": {
              "color": "#E5ECF6",
              "width": 0.5
             },
             "pattern": {
              "fillmode": "overlay",
              "size": 10,
              "solidity": 0.2
             }
            },
            "type": "barpolar"
           }
          ],
          "carpet": [
           {
            "aaxis": {
             "endlinecolor": "#2a3f5f",
             "gridcolor": "white",
             "linecolor": "white",
             "minorgridcolor": "white",
             "startlinecolor": "#2a3f5f"
            },
            "baxis": {
             "endlinecolor": "#2a3f5f",
             "gridcolor": "white",
             "linecolor": "white",
             "minorgridcolor": "white",
             "startlinecolor": "#2a3f5f"
            },
            "type": "carpet"
           }
          ],
          "choropleth": [
           {
            "colorbar": {
             "outlinewidth": 0,
             "ticks": ""
            },
            "type": "choropleth"
           }
          ],
          "contour": [
           {
            "colorbar": {
             "outlinewidth": 0,
             "ticks": ""
            },
            "colorscale": [
             [
              0,
              "#0d0887"
             ],
             [
              0.1111111111111111,
              "#46039f"
             ],
             [
              0.2222222222222222,
              "#7201a8"
             ],
             [
              0.3333333333333333,
              "#9c179e"
             ],
             [
              0.4444444444444444,
              "#bd3786"
             ],
             [
              0.5555555555555556,
              "#d8576b"
             ],
             [
              0.6666666666666666,
              "#ed7953"
             ],
             [
              0.7777777777777778,
              "#fb9f3a"
             ],
             [
              0.8888888888888888,
              "#fdca26"
             ],
             [
              1,
              "#f0f921"
             ]
            ],
            "type": "contour"
           }
          ],
          "contourcarpet": [
           {
            "colorbar": {
             "outlinewidth": 0,
             "ticks": ""
            },
            "type": "contourcarpet"
           }
          ],
          "heatmap": [
           {
            "colorbar": {
             "outlinewidth": 0,
             "ticks": ""
            },
            "colorscale": [
             [
              0,
              "#0d0887"
             ],
             [
              0.1111111111111111,
              "#46039f"
             ],
             [
              0.2222222222222222,
              "#7201a8"
             ],
             [
              0.3333333333333333,
              "#9c179e"
             ],
             [
              0.4444444444444444,
              "#bd3786"
             ],
             [
              0.5555555555555556,
              "#d8576b"
             ],
             [
              0.6666666666666666,
              "#ed7953"
             ],
             [
              0.7777777777777778,
              "#fb9f3a"
             ],
             [
              0.8888888888888888,
              "#fdca26"
             ],
             [
              1,
              "#f0f921"
             ]
            ],
            "type": "heatmap"
           }
          ],
          "heatmapgl": [
           {
            "colorbar": {
             "outlinewidth": 0,
             "ticks": ""
            },
            "colorscale": [
             [
              0,
              "#0d0887"
             ],
             [
              0.1111111111111111,
              "#46039f"
             ],
             [
              0.2222222222222222,
              "#7201a8"
             ],
             [
              0.3333333333333333,
              "#9c179e"
             ],
             [
              0.4444444444444444,
              "#bd3786"
             ],
             [
              0.5555555555555556,
              "#d8576b"
             ],
             [
              0.6666666666666666,
              "#ed7953"
             ],
             [
              0.7777777777777778,
              "#fb9f3a"
             ],
             [
              0.8888888888888888,
              "#fdca26"
             ],
             [
              1,
              "#f0f921"
             ]
            ],
            "type": "heatmapgl"
           }
          ],
          "histogram": [
           {
            "marker": {
             "pattern": {
              "fillmode": "overlay",
              "size": 10,
              "solidity": 0.2
             }
            },
            "type": "histogram"
           }
          ],
          "histogram2d": [
           {
            "colorbar": {
             "outlinewidth": 0,
             "ticks": ""
            },
            "colorscale": [
             [
              0,
              "#0d0887"
             ],
             [
              0.1111111111111111,
              "#46039f"
             ],
             [
              0.2222222222222222,
              "#7201a8"
             ],
             [
              0.3333333333333333,
              "#9c179e"
             ],
             [
              0.4444444444444444,
              "#bd3786"
             ],
             [
              0.5555555555555556,
              "#d8576b"
             ],
             [
              0.6666666666666666,
              "#ed7953"
             ],
             [
              0.7777777777777778,
              "#fb9f3a"
             ],
             [
              0.8888888888888888,
              "#fdca26"
             ],
             [
              1,
              "#f0f921"
             ]
            ],
            "type": "histogram2d"
           }
          ],
          "histogram2dcontour": [
           {
            "colorbar": {
             "outlinewidth": 0,
             "ticks": ""
            },
            "colorscale": [
             [
              0,
              "#0d0887"
             ],
             [
              0.1111111111111111,
              "#46039f"
             ],
             [
              0.2222222222222222,
              "#7201a8"
             ],
             [
              0.3333333333333333,
              "#9c179e"
             ],
             [
              0.4444444444444444,
              "#bd3786"
             ],
             [
              0.5555555555555556,
              "#d8576b"
             ],
             [
              0.6666666666666666,
              "#ed7953"
             ],
             [
              0.7777777777777778,
              "#fb9f3a"
             ],
             [
              0.8888888888888888,
              "#fdca26"
             ],
             [
              1,
              "#f0f921"
             ]
            ],
            "type": "histogram2dcontour"
           }
          ],
          "mesh3d": [
           {
            "colorbar": {
             "outlinewidth": 0,
             "ticks": ""
            },
            "type": "mesh3d"
           }
          ],
          "parcoords": [
           {
            "line": {
             "colorbar": {
              "outlinewidth": 0,
              "ticks": ""
             }
            },
            "type": "parcoords"
           }
          ],
          "pie": [
           {
            "automargin": true,
            "type": "pie"
           }
          ],
          "scatter": [
           {
            "marker": {
             "colorbar": {
              "outlinewidth": 0,
              "ticks": ""
             }
            },
            "type": "scatter"
           }
          ],
          "scatter3d": [
           {
            "line": {
             "colorbar": {
              "outlinewidth": 0,
              "ticks": ""
             }
            },
            "marker": {
             "colorbar": {
              "outlinewidth": 0,
              "ticks": ""
             }
            },
            "type": "scatter3d"
           }
          ],
          "scattercarpet": [
           {
            "marker": {
             "colorbar": {
              "outlinewidth": 0,
              "ticks": ""
             }
            },
            "type": "scattercarpet"
           }
          ],
          "scattergeo": [
           {
            "marker": {
             "colorbar": {
              "outlinewidth": 0,
              "ticks": ""
             }
            },
            "type": "scattergeo"
           }
          ],
          "scattergl": [
           {
            "marker": {
             "colorbar": {
              "outlinewidth": 0,
              "ticks": ""
             }
            },
            "type": "scattergl"
           }
          ],
          "scattermapbox": [
           {
            "marker": {
             "colorbar": {
              "outlinewidth": 0,
              "ticks": ""
             }
            },
            "type": "scattermapbox"
           }
          ],
          "scatterpolar": [
           {
            "marker": {
             "colorbar": {
              "outlinewidth": 0,
              "ticks": ""
             }
            },
            "type": "scatterpolar"
           }
          ],
          "scatterpolargl": [
           {
            "marker": {
             "colorbar": {
              "outlinewidth": 0,
              "ticks": ""
             }
            },
            "type": "scatterpolargl"
           }
          ],
          "scatterternary": [
           {
            "marker": {
             "colorbar": {
              "outlinewidth": 0,
              "ticks": ""
             }
            },
            "type": "scatterternary"
           }
          ],
          "surface": [
           {
            "colorbar": {
             "outlinewidth": 0,
             "ticks": ""
            },
            "colorscale": [
             [
              0,
              "#0d0887"
             ],
             [
              0.1111111111111111,
              "#46039f"
             ],
             [
              0.2222222222222222,
              "#7201a8"
             ],
             [
              0.3333333333333333,
              "#9c179e"
             ],
             [
              0.4444444444444444,
              "#bd3786"
             ],
             [
              0.5555555555555556,
              "#d8576b"
             ],
             [
              0.6666666666666666,
              "#ed7953"
             ],
             [
              0.7777777777777778,
              "#fb9f3a"
             ],
             [
              0.8888888888888888,
              "#fdca26"
             ],
             [
              1,
              "#f0f921"
             ]
            ],
            "type": "surface"
           }
          ],
          "table": [
           {
            "cells": {
             "fill": {
              "color": "#EBF0F8"
             },
             "line": {
              "color": "white"
             }
            },
            "header": {
             "fill": {
              "color": "#C8D4E3"
             },
             "line": {
              "color": "white"
             }
            },
            "type": "table"
           }
          ]
         },
         "layout": {
          "annotationdefaults": {
           "arrowcolor": "#2a3f5f",
           "arrowhead": 0,
           "arrowwidth": 1
          },
          "autotypenumbers": "strict",
          "coloraxis": {
           "colorbar": {
            "outlinewidth": 0,
            "ticks": ""
           }
          },
          "colorscale": {
           "diverging": [
            [
             0,
             "#8e0152"
            ],
            [
             0.1,
             "#c51b7d"
            ],
            [
             0.2,
             "#de77ae"
            ],
            [
             0.3,
             "#f1b6da"
            ],
            [
             0.4,
             "#fde0ef"
            ],
            [
             0.5,
             "#f7f7f7"
            ],
            [
             0.6,
             "#e6f5d0"
            ],
            [
             0.7,
             "#b8e186"
            ],
            [
             0.8,
             "#7fbc41"
            ],
            [
             0.9,
             "#4d9221"
            ],
            [
             1,
             "#276419"
            ]
           ],
           "sequential": [
            [
             0,
             "#0d0887"
            ],
            [
             0.1111111111111111,
             "#46039f"
            ],
            [
             0.2222222222222222,
             "#7201a8"
            ],
            [
             0.3333333333333333,
             "#9c179e"
            ],
            [
             0.4444444444444444,
             "#bd3786"
            ],
            [
             0.5555555555555556,
             "#d8576b"
            ],
            [
             0.6666666666666666,
             "#ed7953"
            ],
            [
             0.7777777777777778,
             "#fb9f3a"
            ],
            [
             0.8888888888888888,
             "#fdca26"
            ],
            [
             1,
             "#f0f921"
            ]
           ],
           "sequentialminus": [
            [
             0,
             "#0d0887"
            ],
            [
             0.1111111111111111,
             "#46039f"
            ],
            [
             0.2222222222222222,
             "#7201a8"
            ],
            [
             0.3333333333333333,
             "#9c179e"
            ],
            [
             0.4444444444444444,
             "#bd3786"
            ],
            [
             0.5555555555555556,
             "#d8576b"
            ],
            [
             0.6666666666666666,
             "#ed7953"
            ],
            [
             0.7777777777777778,
             "#fb9f3a"
            ],
            [
             0.8888888888888888,
             "#fdca26"
            ],
            [
             1,
             "#f0f921"
            ]
           ]
          },
          "colorway": [
           "#636efa",
           "#EF553B",
           "#00cc96",
           "#ab63fa",
           "#FFA15A",
           "#19d3f3",
           "#FF6692",
           "#B6E880",
           "#FF97FF",
           "#FECB52"
          ],
          "font": {
           "color": "#2a3f5f"
          },
          "geo": {
           "bgcolor": "white",
           "lakecolor": "white",
           "landcolor": "#E5ECF6",
           "showlakes": true,
           "showland": true,
           "subunitcolor": "white"
          },
          "hoverlabel": {
           "align": "left"
          },
          "hovermode": "closest",
          "mapbox": {
           "style": "light"
          },
          "paper_bgcolor": "white",
          "plot_bgcolor": "#E5ECF6",
          "polar": {
           "angularaxis": {
            "gridcolor": "white",
            "linecolor": "white",
            "ticks": ""
           },
           "bgcolor": "#E5ECF6",
           "radialaxis": {
            "gridcolor": "white",
            "linecolor": "white",
            "ticks": ""
           }
          },
          "scene": {
           "xaxis": {
            "backgroundcolor": "#E5ECF6",
            "gridcolor": "white",
            "gridwidth": 2,
            "linecolor": "white",
            "showbackground": true,
            "ticks": "",
            "zerolinecolor": "white"
           },
           "yaxis": {
            "backgroundcolor": "#E5ECF6",
            "gridcolor": "white",
            "gridwidth": 2,
            "linecolor": "white",
            "showbackground": true,
            "ticks": "",
            "zerolinecolor": "white"
           },
           "zaxis": {
            "backgroundcolor": "#E5ECF6",
            "gridcolor": "white",
            "gridwidth": 2,
            "linecolor": "white",
            "showbackground": true,
            "ticks": "",
            "zerolinecolor": "white"
           }
          },
          "shapedefaults": {
           "line": {
            "color": "#2a3f5f"
           }
          },
          "ternary": {
           "aaxis": {
            "gridcolor": "white",
            "linecolor": "white",
            "ticks": ""
           },
           "baxis": {
            "gridcolor": "white",
            "linecolor": "white",
            "ticks": ""
           },
           "bgcolor": "#E5ECF6",
           "caxis": {
            "gridcolor": "white",
            "linecolor": "white",
            "ticks": ""
           }
          },
          "title": {
           "x": 0.05
          },
          "xaxis": {
           "automargin": true,
           "gridcolor": "white",
           "linecolor": "white",
           "ticks": "",
           "title": {
            "standoff": 15
           },
           "zerolinecolor": "white",
           "zerolinewidth": 2
          },
          "yaxis": {
           "automargin": true,
           "gridcolor": "white",
           "linecolor": "white",
           "ticks": "",
           "title": {
            "standoff": 15
           },
           "zerolinecolor": "white",
           "zerolinewidth": 2
          }
         }
        },
        "title": {
         "font": {
          "color": "black",
          "family": "Arial",
          "size": 25
         },
         "x": 0.5,
         "y": 0.87
        },
        "xaxis": {
         "anchor": "y",
         "domain": [
          0,
          1
         ],
         "range": [
          0.5,
          12.5
         ],
         "tickmode": "array",
         "tickvals": [
          1,
          2,
          3,
          4,
          5,
          6,
          7,
          8,
          9,
          10,
          11,
          12
         ],
         "title": {
          "text": "Month"
         }
        },
        "yaxis": {
         "anchor": "x",
         "domain": [
          0,
          1
         ],
         "range": [
          -3000,
          62000
         ],
         "tickmode": "array",
         "tickvals": [
          0,
          10000,
          20000,
          30000,
          40000,
          50000,
          60000
         ],
         "title": {
          "text": "Total Trips"
         }
        }
       }
      },
      "text/html": [
       "<div>                            <div id=\"f461ff3a-6b3d-41f8-9493-d49dbc93e786\" class=\"plotly-graph-div\" style=\"height:525px; width:100%;\"></div>            <script type=\"text/javascript\">                require([\"plotly\"], function(Plotly) {                    window.PLOTLYENV=window.PLOTLYENV || {};                                    if (document.getElementById(\"f461ff3a-6b3d-41f8-9493-d49dbc93e786\")) {                    Plotly.newPlot(                        \"f461ff3a-6b3d-41f8-9493-d49dbc93e786\",                        [{\"hovertemplate\":\"Membership Group=Other<br>Month=%{x}<br>Total Trips=%{y}<extra></extra>\",\"legendgroup\":\"Other\",\"line\":{\"color\":\"#ccc\",\"dash\":\"solid\",\"width\":5},\"marker\":{\"size\":12,\"symbol\":\"circle\"},\"mode\":\"markers+lines\",\"name\":\"Other\",\"orientation\":\"v\",\"showlegend\":true,\"type\":\"scatter\",\"x\":[1,2,3,4,5,6,7,8,9,10,11,12],\"xaxis\":\"x\",\"y\":[17,25,51,83,111,153,185,191,204,241,266,278],\"yaxis\":\"y\"},{\"hovertemplate\":\"Membership Group=3-Day Weekend<br>Month=%{x}<br>Total Trips=%{y}<extra></extra>\",\"legendgroup\":\"3-Day Weekend\",\"line\":{\"color\":\"#828282\",\"dash\":\"dot\",\"width\":5},\"marker\":{\"size\":12,\"symbol\":\"diamond\"},\"mode\":\"markers+lines\",\"name\":\"3-Day Weekend\",\"orientation\":\"v\",\"showlegend\":true,\"type\":\"scatter\",\"x\":[1,2,3,4,5,6,7,8,9,10,11,12],\"xaxis\":\"x\",\"y\":[401,659,1365,2660,4211,5433,6673,7438,8341,9817,11090,11971],\"yaxis\":\"y\"},{\"hovertemplate\":\"Membership Group=Single Ride<br>Month=%{x}<br>Total Trips=%{y}<extra></extra>\",\"legendgroup\":\"Single Ride\",\"line\":{\"color\":\"#5BC7E1\",\"dash\":\"solid\",\"width\":5},\"marker\":{\"size\":12,\"symbol\":\"square\"},\"mode\":\"markers+lines\",\"name\":\"Single Ride\",\"orientation\":\"v\",\"showlegend\":true,\"type\":\"scatter\",\"x\":[1,2,3,4,5,6,7,8,9,10,11,12],\"xaxis\":\"x\",\"y\":[1428,2275,5277,7760,10797,13526,16193,18418,21004,25174,27711,29841],\"yaxis\":\"y\"},{\"hovertemplate\":\"Membership Group=Day<br>Month=%{x}<br>Total Trips=%{y}<extra></extra>\",\"legendgroup\":\"Day\",\"line\":{\"color\":\"#7cb937\",\"dash\":\"solid\",\"width\":8},\"marker\":{\"size\":12,\"symbol\":\"x\"},\"mode\":\"markers+lines\",\"name\":\"Day\",\"orientation\":\"v\",\"showlegend\":true,\"type\":\"scatter\",\"x\":[1,2,3,4,5,6,7,8,9,10,11,12],\"xaxis\":\"x\",\"y\":[1889,2909,6639,10056,13690,16603,19794,22448,25007,28595,31616,34406],\"yaxis\":\"y\"},{\"hovertemplate\":\"Membership Group=Monthly<br>Month=%{x}<br>Total Trips=%{y}<extra></extra>\",\"legendgroup\":\"Monthly\",\"line\":{\"color\":\"#315f2e\",\"dash\":\"dot\",\"width\":8.5},\"marker\":{\"size\":12,\"symbol\":\"cross\"},\"mode\":\"markers+lines\",\"name\":\"Monthly\",\"orientation\":\"v\",\"showlegend\":true,\"type\":\"scatter\",\"x\":[1,2,3,4,5,6,7,8,9,10,11,12],\"xaxis\":\"x\",\"y\":[2668,4729,8263,11052,13904,16991,20201,23016,26251,30755,33865,36838],\"yaxis\":\"y\"},{\"hovertemplate\":\"Membership Group=Annual<br>Month=%{x}<br>Total Trips=%{y}<extra></extra>\",\"legendgroup\":\"Annual\",\"line\":{\"color\":\"#710B79\",\"dash\":\"solid\",\"width\":8.5},\"marker\":{\"size\":12,\"symbol\":\"circle\"},\"mode\":\"markers+lines\",\"name\":\"Annual\",\"orientation\":\"v\",\"showlegend\":true,\"type\":\"scatter\",\"x\":[1,2,3,4,5,6,7,8,9,10,11,12],\"xaxis\":\"x\",\"y\":[3911,6863,12138,17466,22410,26933,31066,35455,40646,45638,49016,51581],\"yaxis\":\"y\"},{\"hovertemplate\":\"Membership Group=Student<br>Month=%{x}<br>Total Trips=%{y}<extra></extra>\",\"legendgroup\":\"Student\",\"line\":{\"color\":\"#C901A1\",\"dash\":\"solid\",\"width\":9},\"marker\":{\"size\":12,\"symbol\":\"diamond\"},\"mode\":\"markers+lines\",\"name\":\"Student\",\"opacity\":0.75,\"orientation\":\"v\",\"showlegend\":true,\"type\":\"scatter\",\"x\":[1,2,3,4,5,6,7,8,9,10,11,12],\"xaxis\":\"x\",\"y\":[273,522,1054,2690,4071,5294,6590,10649,24671,40160,51794,59080],\"yaxis\":\"y\"}],                        {\"font\":{\"color\":\"Black\",\"family\":\"Arial\",\"size\":16},\"legend\":{\"title\":{\"text\":\"Membership Group\"},\"tracegroupgap\":0},\"margin\":{\"t\":60},\"showlegend\":true,\"template\":{\"data\":{\"bar\":[{\"error_x\":{\"color\":\"#2a3f5f\"},\"error_y\":{\"color\":\"#2a3f5f\"},\"marker\":{\"line\":{\"color\":\"#E5ECF6\",\"width\":0.5},\"pattern\":{\"fillmode\":\"overlay\",\"size\":10,\"solidity\":0.2}},\"type\":\"bar\"}],\"barpolar\":[{\"marker\":{\"line\":{\"color\":\"#E5ECF6\",\"width\":0.5},\"pattern\":{\"fillmode\":\"overlay\",\"size\":10,\"solidity\":0.2}},\"type\":\"barpolar\"}],\"carpet\":[{\"aaxis\":{\"endlinecolor\":\"#2a3f5f\",\"gridcolor\":\"white\",\"linecolor\":\"white\",\"minorgridcolor\":\"white\",\"startlinecolor\":\"#2a3f5f\"},\"baxis\":{\"endlinecolor\":\"#2a3f5f\",\"gridcolor\":\"white\",\"linecolor\":\"white\",\"minorgridcolor\":\"white\",\"startlinecolor\":\"#2a3f5f\"},\"type\":\"carpet\"}],\"choropleth\":[{\"colorbar\":{\"outlinewidth\":0,\"ticks\":\"\"},\"type\":\"choropleth\"}],\"contour\":[{\"colorbar\":{\"outlinewidth\":0,\"ticks\":\"\"},\"colorscale\":[[0.0,\"#0d0887\"],[0.1111111111111111,\"#46039f\"],[0.2222222222222222,\"#7201a8\"],[0.3333333333333333,\"#9c179e\"],[0.4444444444444444,\"#bd3786\"],[0.5555555555555556,\"#d8576b\"],[0.6666666666666666,\"#ed7953\"],[0.7777777777777778,\"#fb9f3a\"],[0.8888888888888888,\"#fdca26\"],[1.0,\"#f0f921\"]],\"type\":\"contour\"}],\"contourcarpet\":[{\"colorbar\":{\"outlinewidth\":0,\"ticks\":\"\"},\"type\":\"contourcarpet\"}],\"heatmap\":[{\"colorbar\":{\"outlinewidth\":0,\"ticks\":\"\"},\"colorscale\":[[0.0,\"#0d0887\"],[0.1111111111111111,\"#46039f\"],[0.2222222222222222,\"#7201a8\"],[0.3333333333333333,\"#9c179e\"],[0.4444444444444444,\"#bd3786\"],[0.5555555555555556,\"#d8576b\"],[0.6666666666666666,\"#ed7953\"],[0.7777777777777778,\"#fb9f3a\"],[0.8888888888888888,\"#fdca26\"],[1.0,\"#f0f921\"]],\"type\":\"heatmap\"}],\"heatmapgl\":[{\"colorbar\":{\"outlinewidth\":0,\"ticks\":\"\"},\"colorscale\":[[0.0,\"#0d0887\"],[0.1111111111111111,\"#46039f\"],[0.2222222222222222,\"#7201a8\"],[0.3333333333333333,\"#9c179e\"],[0.4444444444444444,\"#bd3786\"],[0.5555555555555556,\"#d8576b\"],[0.6666666666666666,\"#ed7953\"],[0.7777777777777778,\"#fb9f3a\"],[0.8888888888888888,\"#fdca26\"],[1.0,\"#f0f921\"]],\"type\":\"heatmapgl\"}],\"histogram\":[{\"marker\":{\"pattern\":{\"fillmode\":\"overlay\",\"size\":10,\"solidity\":0.2}},\"type\":\"histogram\"}],\"histogram2d\":[{\"colorbar\":{\"outlinewidth\":0,\"ticks\":\"\"},\"colorscale\":[[0.0,\"#0d0887\"],[0.1111111111111111,\"#46039f\"],[0.2222222222222222,\"#7201a8\"],[0.3333333333333333,\"#9c179e\"],[0.4444444444444444,\"#bd3786\"],[0.5555555555555556,\"#d8576b\"],[0.6666666666666666,\"#ed7953\"],[0.7777777777777778,\"#fb9f3a\"],[0.8888888888888888,\"#fdca26\"],[1.0,\"#f0f921\"]],\"type\":\"histogram2d\"}],\"histogram2dcontour\":[{\"colorbar\":{\"outlinewidth\":0,\"ticks\":\"\"},\"colorscale\":[[0.0,\"#0d0887\"],[0.1111111111111111,\"#46039f\"],[0.2222222222222222,\"#7201a8\"],[0.3333333333333333,\"#9c179e\"],[0.4444444444444444,\"#bd3786\"],[0.5555555555555556,\"#d8576b\"],[0.6666666666666666,\"#ed7953\"],[0.7777777777777778,\"#fb9f3a\"],[0.8888888888888888,\"#fdca26\"],[1.0,\"#f0f921\"]],\"type\":\"histogram2dcontour\"}],\"mesh3d\":[{\"colorbar\":{\"outlinewidth\":0,\"ticks\":\"\"},\"type\":\"mesh3d\"}],\"parcoords\":[{\"line\":{\"colorbar\":{\"outlinewidth\":0,\"ticks\":\"\"}},\"type\":\"parcoords\"}],\"pie\":[{\"automargin\":true,\"type\":\"pie\"}],\"scatter\":[{\"marker\":{\"colorbar\":{\"outlinewidth\":0,\"ticks\":\"\"}},\"type\":\"scatter\"}],\"scatter3d\":[{\"line\":{\"colorbar\":{\"outlinewidth\":0,\"ticks\":\"\"}},\"marker\":{\"colorbar\":{\"outlinewidth\":0,\"ticks\":\"\"}},\"type\":\"scatter3d\"}],\"scattercarpet\":[{\"marker\":{\"colorbar\":{\"outlinewidth\":0,\"ticks\":\"\"}},\"type\":\"scattercarpet\"}],\"scattergeo\":[{\"marker\":{\"colorbar\":{\"outlinewidth\":0,\"ticks\":\"\"}},\"type\":\"scattergeo\"}],\"scattergl\":[{\"marker\":{\"colorbar\":{\"outlinewidth\":0,\"ticks\":\"\"}},\"type\":\"scattergl\"}],\"scattermapbox\":[{\"marker\":{\"colorbar\":{\"outlinewidth\":0,\"ticks\":\"\"}},\"type\":\"scattermapbox\"}],\"scatterpolar\":[{\"marker\":{\"colorbar\":{\"outlinewidth\":0,\"ticks\":\"\"}},\"type\":\"scatterpolar\"}],\"scatterpolargl\":[{\"marker\":{\"colorbar\":{\"outlinewidth\":0,\"ticks\":\"\"}},\"type\":\"scatterpolargl\"}],\"scatterternary\":[{\"marker\":{\"colorbar\":{\"outlinewidth\":0,\"ticks\":\"\"}},\"type\":\"scatterternary\"}],\"surface\":[{\"colorbar\":{\"outlinewidth\":0,\"ticks\":\"\"},\"colorscale\":[[0.0,\"#0d0887\"],[0.1111111111111111,\"#46039f\"],[0.2222222222222222,\"#7201a8\"],[0.3333333333333333,\"#9c179e\"],[0.4444444444444444,\"#bd3786\"],[0.5555555555555556,\"#d8576b\"],[0.6666666666666666,\"#ed7953\"],[0.7777777777777778,\"#fb9f3a\"],[0.8888888888888888,\"#fdca26\"],[1.0,\"#f0f921\"]],\"type\":\"surface\"}],\"table\":[{\"cells\":{\"fill\":{\"color\":\"#EBF0F8\"},\"line\":{\"color\":\"white\"}},\"header\":{\"fill\":{\"color\":\"#C8D4E3\"},\"line\":{\"color\":\"white\"}},\"type\":\"table\"}]},\"layout\":{\"annotationdefaults\":{\"arrowcolor\":\"#2a3f5f\",\"arrowhead\":0,\"arrowwidth\":1},\"autotypenumbers\":\"strict\",\"coloraxis\":{\"colorbar\":{\"outlinewidth\":0,\"ticks\":\"\"}},\"colorscale\":{\"diverging\":[[0,\"#8e0152\"],[0.1,\"#c51b7d\"],[0.2,\"#de77ae\"],[0.3,\"#f1b6da\"],[0.4,\"#fde0ef\"],[0.5,\"#f7f7f7\"],[0.6,\"#e6f5d0\"],[0.7,\"#b8e186\"],[0.8,\"#7fbc41\"],[0.9,\"#4d9221\"],[1,\"#276419\"]],\"sequential\":[[0.0,\"#0d0887\"],[0.1111111111111111,\"#46039f\"],[0.2222222222222222,\"#7201a8\"],[0.3333333333333333,\"#9c179e\"],[0.4444444444444444,\"#bd3786\"],[0.5555555555555556,\"#d8576b\"],[0.6666666666666666,\"#ed7953\"],[0.7777777777777778,\"#fb9f3a\"],[0.8888888888888888,\"#fdca26\"],[1.0,\"#f0f921\"]],\"sequentialminus\":[[0.0,\"#0d0887\"],[0.1111111111111111,\"#46039f\"],[0.2222222222222222,\"#7201a8\"],[0.3333333333333333,\"#9c179e\"],[0.4444444444444444,\"#bd3786\"],[0.5555555555555556,\"#d8576b\"],[0.6666666666666666,\"#ed7953\"],[0.7777777777777778,\"#fb9f3a\"],[0.8888888888888888,\"#fdca26\"],[1.0,\"#f0f921\"]]},\"colorway\":[\"#636efa\",\"#EF553B\",\"#00cc96\",\"#ab63fa\",\"#FFA15A\",\"#19d3f3\",\"#FF6692\",\"#B6E880\",\"#FF97FF\",\"#FECB52\"],\"font\":{\"color\":\"#2a3f5f\"},\"geo\":{\"bgcolor\":\"white\",\"lakecolor\":\"white\",\"landcolor\":\"#E5ECF6\",\"showlakes\":true,\"showland\":true,\"subunitcolor\":\"white\"},\"hoverlabel\":{\"align\":\"left\"},\"hovermode\":\"closest\",\"mapbox\":{\"style\":\"light\"},\"paper_bgcolor\":\"white\",\"plot_bgcolor\":\"#E5ECF6\",\"polar\":{\"angularaxis\":{\"gridcolor\":\"white\",\"linecolor\":\"white\",\"ticks\":\"\"},\"bgcolor\":\"#E5ECF6\",\"radialaxis\":{\"gridcolor\":\"white\",\"linecolor\":\"white\",\"ticks\":\"\"}},\"scene\":{\"xaxis\":{\"backgroundcolor\":\"#E5ECF6\",\"gridcolor\":\"white\",\"gridwidth\":2,\"linecolor\":\"white\",\"showbackground\":true,\"ticks\":\"\",\"zerolinecolor\":\"white\"},\"yaxis\":{\"backgroundcolor\":\"#E5ECF6\",\"gridcolor\":\"white\",\"gridwidth\":2,\"linecolor\":\"white\",\"showbackground\":true,\"ticks\":\"\",\"zerolinecolor\":\"white\"},\"zaxis\":{\"backgroundcolor\":\"#E5ECF6\",\"gridcolor\":\"white\",\"gridwidth\":2,\"linecolor\":\"white\",\"showbackground\":true,\"ticks\":\"\",\"zerolinecolor\":\"white\"}},\"shapedefaults\":{\"line\":{\"color\":\"#2a3f5f\"}},\"ternary\":{\"aaxis\":{\"gridcolor\":\"white\",\"linecolor\":\"white\",\"ticks\":\"\"},\"baxis\":{\"gridcolor\":\"white\",\"linecolor\":\"white\",\"ticks\":\"\"},\"bgcolor\":\"#E5ECF6\",\"caxis\":{\"gridcolor\":\"white\",\"linecolor\":\"white\",\"ticks\":\"\"}},\"title\":{\"x\":0.05},\"xaxis\":{\"automargin\":true,\"gridcolor\":\"white\",\"linecolor\":\"white\",\"ticks\":\"\",\"title\":{\"standoff\":15},\"zerolinecolor\":\"white\",\"zerolinewidth\":2},\"yaxis\":{\"automargin\":true,\"gridcolor\":\"white\",\"linecolor\":\"white\",\"ticks\":\"\",\"title\":{\"standoff\":15},\"zerolinecolor\":\"white\",\"zerolinewidth\":2}}},\"title\":{\"font\":{\"color\":\"black\",\"family\":\"Arial\",\"size\":25},\"x\":0.5,\"y\":0.87},\"xaxis\":{\"anchor\":\"y\",\"domain\":[0.0,1.0],\"range\":[0.5,12.5],\"tickmode\":\"array\",\"tickvals\":[1,2,3,4,5,6,7,8,9,10,11,12],\"title\":{\"text\":\"Month\"}},\"yaxis\":{\"anchor\":\"x\",\"domain\":[0.0,1.0],\"range\":[-3000,62000],\"tickmode\":\"array\",\"tickvals\":[0,10000.0,20000.0,30000.0,40000.0,50000.0,60000],\"title\":{\"text\":\"Total Trips\"}}},                        {\"responsive\": true}                    ).then(function(){\n",
       "                            \n",
       "var gd = document.getElementById('f461ff3a-6b3d-41f8-9493-d49dbc93e786');\n",
       "var x = new MutationObserver(function (mutations, observer) {{\n",
       "        var display = window.getComputedStyle(gd).display;\n",
       "        if (!display || display === 'none') {{\n",
       "            console.log([gd, 'removed!']);\n",
       "            Plotly.purge(gd);\n",
       "            observer.disconnect();\n",
       "        }}\n",
       "}});\n",
       "\n",
       "// Listen for the removal of the full notebook cells\n",
       "var notebookContainer = gd.closest('#notebook-container');\n",
       "if (notebookContainer) {{\n",
       "    x.observe(notebookContainer, {childList: true});\n",
       "}}\n",
       "\n",
       "// Listen for the clearing of the current output cell\n",
       "var outputEl = gd.closest('.output');\n",
       "if (outputEl) {{\n",
       "    x.observe(outputEl, {childList: true});\n",
       "}}\n",
       "\n",
       "                        })                };                });            </script>        </div>"
      ]
     },
     "metadata": {},
     "output_type": "display_data"
    }
   ],
   "source": [
    "fig3 = px.line(membership_months, \n",
    "               x=\"Month\", \n",
    "               y=\"Total Trips By Month\", \n",
    "               color='Membership Group',\n",
    "               labels={\"Total Trips By Month\": \"Total Trips\"},\n",
    "               #title=\"ATX MetroBike Ridership\",\n",
    "               markers=True,\n",
    "               symbol=\"Membership Group\",\n",
    "               line_dash = 'Membership Group')\n",
    "\n",
    "fig3.update_layout(\n",
    "    title=dict(x=0.5,y=0.87), # set title in the center\n",
    "    xaxis_range=[0.5,12.5],\n",
    "    yaxis_range=[-3000,62000],\n",
    "    xaxis = dict(\n",
    "        tickmode = 'array',\n",
    "        tickvals = [1,2,3,4,5,6,7,8,9,10,11,12],\n",
    "    ),\n",
    "    yaxis = dict(\n",
    "        tickmode = 'array',\n",
    "        tickvals = [0,10e3,20e3,30e3,40e3,50e3,60000],\n",
    "    ),\n",
    "    showlegend=True,\n",
    "    title_font_family=\"Arial\",\n",
    "    title_font_color=\"black\",\n",
    "    title_font_size = 25,\n",
    "    font=dict(\n",
    "        family=\"Arial\",\n",
    "        size=16,\n",
    "        color=\"Black\"\n",
    "    ), \n",
    "    #legend_title_font_color=\"green\"\n",
    ")\n",
    "\n",
    "fig3.update_traces(line=dict(width=5),\n",
    "                  marker={'size': 12})\n",
    "\n",
    "fig3.data[0].line.color = \"#ccc\" \n",
    "fig3.data[1].line.color = \"#828282\" \n",
    "fig3.data[2].line.color = \"#5BC7E1\" \n",
    "fig3.data[3].line.color = \"#7cb937\" \n",
    "fig3.data[4].line.color = \"#315f2e\" \n",
    "fig3.data[5].line.color = \"#710B79\" \n",
    "fig3.data[6].line.color = \"#C901A1\"\n",
    "\n",
    "fig3.data[2].line.dash = \"solid\"\n",
    "fig3.data[3].line.dash = \"solid\"\n",
    "fig3.data[4].line.dash = \"dot\"\n",
    "fig3.data[5].line.dash = \"solid\"\n",
    "fig3.data[6].line.dash = \"solid\"\n",
    "\n",
    "fig3.data[3].line.width = 8\n",
    "fig3.data[4].line.width = 8.5\n",
    "fig3.data[5].line.width = 8.5\n",
    "fig3.data[6].line.width = 9\n",
    "fig3.data[6].opacity = 0.75\n",
    "\n",
    "fig3"
   ]
  },
  {
   "cell_type": "code",
   "execution_count": 42,
   "id": "52096d8b",
   "metadata": {},
   "outputs": [
    {
     "data": {
      "text/plain": [
       "'https://plotly.com/~flyingcape/11/'"
      ]
     },
     "execution_count": 42,
     "metadata": {},
     "output_type": "execute_result"
    }
   ],
   "source": [
    "import chart_studio\n",
    "username='flyingcape'\n",
    "api_key='NI4xzO3e4BldD5kASCBo'\n",
    "chart_studio.tools.set_credentials_file(username=username,\n",
    "                                        api_key=api_key)\n",
    "\n",
    "import chart_studio.plotly as py\n",
    "\n",
    "py.plot(fig3, filename=\"membership_type_fig\", auto_open = True)"
   ]
  },
  {
   "cell_type": "code",
   "execution_count": 43,
   "id": "1d508a1d",
   "metadata": {},
   "outputs": [],
   "source": [
    "# https://towardsdatascience.com/how-to-embed-interactive-charts-on-your-medium-articles-and-website-6987f7b28472\n",
    "    \n",
    "#!datapane login --token=9a31775255945a53b4df2d5496934bbd5123f80c\n",
    "\n",
    "#import datapane as dp \n",
    "\n",
    "#dp.Report(\n",
    "#    dp.Plot(fig3),\n",
    "#).upload(name=\"fig3\")"
   ]
  },
  {
   "cell_type": "markdown",
   "id": "b0a84bee",
   "metadata": {},
   "source": [
    "# Figure 4"
   ]
  },
  {
   "cell_type": "code",
   "execution_count": 44,
   "id": "de4b8273",
   "metadata": {},
   "outputs": [],
   "source": [
    "import geopandas as gpd\n",
    "from shapely.geometry import Point, Polygon"
   ]
  },
  {
   "cell_type": "code",
   "execution_count": 45,
   "id": "0b1e8435",
   "metadata": {},
   "outputs": [
    {
     "name": "stderr",
     "output_type": "stream",
     "text": [
      "<ipython-input-45-717bee1454b7>:9: FutureWarning:\n",
      "\n",
      "The default value of regex will change from True to False in a future version. In addition, single character regular expressions will*not* be treated as literal strings when regex=True.\n",
      "\n",
      "<ipython-input-45-717bee1454b7>:10: FutureWarning:\n",
      "\n",
      "The default value of regex will change from True to False in a future version. In addition, single character regular expressions will*not* be treated as literal strings when regex=True.\n",
      "\n"
     ]
    }
   ],
   "source": [
    "loc_full = kiosk['Location']\n",
    "loc_full\n",
    "loc_split = loc_full.str.split(',', n=- 1, expand=True)\n",
    "lat_0 = loc_split[0]\n",
    "lon_0 = loc_split[1]\n",
    "\n",
    "# print(lat_0[1][1:-1])\n",
    "\n",
    "lat = lat_0.str.replace('(', '')\n",
    "lon = lon_0.str.replace(')', '')\n",
    "\n",
    "kiosk[\"Latitude\"] = lat.astype('float')\n",
    "kiosk[\"Longitude\"] = lon.astype('float')"
   ]
  },
  {
   "cell_type": "code",
   "execution_count": 46,
   "id": "f8ff463d",
   "metadata": {},
   "outputs": [
    {
     "data": {
      "text/plain": [
       "[<shapely.geometry.point.Point at 0x7fe2a15f8a60>,\n",
       " <shapely.geometry.point.Point at 0x7fe2a15efa00>,\n",
       " <shapely.geometry.point.Point at 0x7fe2a15efc40>]"
      ]
     },
     "execution_count": 46,
     "metadata": {},
     "output_type": "execute_result"
    }
   ],
   "source": [
    "geometry = [Point(xy) for xy in zip( kiosk[\"Longitude\"], kiosk[\"Latitude\"])]\n",
    "geometry[:3]"
   ]
  },
  {
   "cell_type": "code",
   "execution_count": 47,
   "id": "8ba64be4",
   "metadata": {},
   "outputs": [],
   "source": [
    "crs = \"EPSG:4326\"\n",
    "\n",
    "# create geo-DataFrame\n",
    "kiosk_geo = gpd.GeoDataFrame(kiosk,crs = crs,\n",
    "                         geometry = geometry)"
   ]
  },
  {
   "cell_type": "code",
   "execution_count": 48,
   "id": "43d85ca8",
   "metadata": {},
   "outputs": [
    {
     "name": "stdout",
     "output_type": "stream",
     "text": [
      "30.2485 30.2905\n",
      "-97.77356 -97.71644\n"
     ]
    }
   ],
   "source": [
    "# x and y limits\n",
    "perct = 0.48\n",
    "xdelta = ((1.00-perct)/2)*0.17\n",
    "ydelta = ((1.00-perct)/2)*0.125\n",
    "\n",
    "# x and y ticks\n",
    "perct2 = 0.70\n",
    "ylo = (30.207+ydelta)\n",
    "yhi = (30.332-ydelta)\n",
    "ylen = yhi-ylo\n",
    "ymid = (ylen/2)+ylo\n",
    "ytickhi = ymid + (perct2*(ylen/2))\n",
    "yticklo = ymid - (perct2*(ylen/2))\n",
    "print(yticklo, ytickhi)\n",
    "\n",
    "xlo = (-97.83+xdelta)\n",
    "xhi = (-97.66-xdelta)\n",
    "xlen = xhi-xlo\n",
    "xmid = (xlen/2)+xlo\n",
    "xtickhi = xmid + (perct2*(xlen/2))\n",
    "xticklo = xmid - (perct2*(xlen/2))\n",
    "print(xticklo, xtickhi)"
   ]
  },
  {
   "cell_type": "code",
   "execution_count": 49,
   "id": "b2eca52c",
   "metadata": {
    "scrolled": false
   },
   "outputs": [
    {
     "data": {
      "text/html": [
       "<div>\n",
       "<style scoped>\n",
       "    .dataframe tbody tr th:only-of-type {\n",
       "        vertical-align: middle;\n",
       "    }\n",
       "\n",
       "    .dataframe tbody tr th {\n",
       "        vertical-align: top;\n",
       "    }\n",
       "\n",
       "    .dataframe thead th {\n",
       "        text-align: right;\n",
       "    }\n",
       "</style>\n",
       "<table border=\"1\" class=\"dataframe\">\n",
       "  <thead>\n",
       "    <tr style=\"text-align: right;\">\n",
       "      <th></th>\n",
       "      <th>Unnamed: 0</th>\n",
       "      <th>Kiosk ID</th>\n",
       "      <th>Kiosk Name</th>\n",
       "      <th>Kiosk Status</th>\n",
       "      <th>Location</th>\n",
       "      <th>Address</th>\n",
       "      <th>Alternate Name</th>\n",
       "      <th>City Asset Number</th>\n",
       "      <th>Property Type</th>\n",
       "      <th>Number of Docks</th>\n",
       "      <th>Power Type</th>\n",
       "      <th>Footprint Length</th>\n",
       "      <th>Footprint Width</th>\n",
       "      <th>Notes</th>\n",
       "      <th>Council District</th>\n",
       "      <th>Image</th>\n",
       "      <th>Modified Date</th>\n",
       "      <th>Num_Rides_AllTime</th>\n",
       "      <th>Num_Rides_2013</th>\n",
       "      <th>Num_Rides_2014</th>\n",
       "      <th>Num_Rides_2015</th>\n",
       "      <th>Num_Rides_2016</th>\n",
       "      <th>Num_Rides_2017</th>\n",
       "      <th>Num_Rides_2018</th>\n",
       "      <th>Num_Rides_2019</th>\n",
       "      <th>Num_Rides_2020</th>\n",
       "      <th>Num_Rides_2021</th>\n",
       "      <th>Num_Rides_2022</th>\n",
       "      <th>UsedIn_2013</th>\n",
       "      <th>UsedIn_2014</th>\n",
       "      <th>UsedIn_2015</th>\n",
       "      <th>UsedIn_2016</th>\n",
       "      <th>UsedIn_2017</th>\n",
       "      <th>UsedIn_2018</th>\n",
       "      <th>UsedIn_2019</th>\n",
       "      <th>UsedIn_2020</th>\n",
       "      <th>UsedIn_2021</th>\n",
       "      <th>UsedIn_2022</th>\n",
       "      <th>Latitude</th>\n",
       "      <th>Longitude</th>\n",
       "      <th>geometry</th>\n",
       "    </tr>\n",
       "  </thead>\n",
       "  <tbody>\n",
       "    <tr>\n",
       "      <th>0</th>\n",
       "      <td>0</td>\n",
       "      <td>2570</td>\n",
       "      <td>South Congress &amp; Academy</td>\n",
       "      <td>active</td>\n",
       "      <td>(30.25226, -97.74854)</td>\n",
       "      <td>1199 S. Congress Ave.</td>\n",
       "      <td>NaN</td>\n",
       "      <td>16752.0</td>\n",
       "      <td>sidewalk</td>\n",
       "      <td>10.0</td>\n",
       "      <td>solar</td>\n",
       "      <td>20.0</td>\n",
       "      <td>7.5</td>\n",
       "      <td>on bulb-out</td>\n",
       "      <td>9.0</td>\n",
       "      <td>NaN</td>\n",
       "      <td>01/04/2021 12:00:00 AM</td>\n",
       "      <td>450098.0</td>\n",
       "      <td>0.0</td>\n",
       "      <td>4044.0</td>\n",
       "      <td>4389.0</td>\n",
       "      <td>3813.0</td>\n",
       "      <td>3357.0</td>\n",
       "      <td>2198.0</td>\n",
       "      <td>546.0</td>\n",
       "      <td>639.0</td>\n",
       "      <td>1305.0</td>\n",
       "      <td>168.0</td>\n",
       "      <td>0</td>\n",
       "      <td>1</td>\n",
       "      <td>1</td>\n",
       "      <td>1</td>\n",
       "      <td>1</td>\n",
       "      <td>1</td>\n",
       "      <td>1</td>\n",
       "      <td>1</td>\n",
       "      <td>1</td>\n",
       "      <td>1</td>\n",
       "      <td>30.25226</td>\n",
       "      <td>-97.74854</td>\n",
       "      <td>POINT (-97.74854 30.25226)</td>\n",
       "    </tr>\n",
       "    <tr>\n",
       "      <th>1</th>\n",
       "      <td>1</td>\n",
       "      <td>2571</td>\n",
       "      <td>Red River &amp; 8th Street</td>\n",
       "      <td>active</td>\n",
       "      <td>(30.26854, -97.73646)</td>\n",
       "      <td>761 Red River St.</td>\n",
       "      <td>NaN</td>\n",
       "      <td>16760.0</td>\n",
       "      <td>sidewalk</td>\n",
       "      <td>13.0</td>\n",
       "      <td>solar</td>\n",
       "      <td>40.0</td>\n",
       "      <td>5.0</td>\n",
       "      <td>on pad built in ROW/easement</td>\n",
       "      <td>9.0</td>\n",
       "      <td>NaN</td>\n",
       "      <td>01/04/2021 12:00:00 AM</td>\n",
       "      <td>334422.0</td>\n",
       "      <td>0.0</td>\n",
       "      <td>2486.0</td>\n",
       "      <td>2329.0</td>\n",
       "      <td>2450.0</td>\n",
       "      <td>2734.0</td>\n",
       "      <td>2169.0</td>\n",
       "      <td>724.0</td>\n",
       "      <td>649.0</td>\n",
       "      <td>1512.0</td>\n",
       "      <td>148.0</td>\n",
       "      <td>0</td>\n",
       "      <td>1</td>\n",
       "      <td>1</td>\n",
       "      <td>1</td>\n",
       "      <td>1</td>\n",
       "      <td>1</td>\n",
       "      <td>1</td>\n",
       "      <td>1</td>\n",
       "      <td>1</td>\n",
       "      <td>1</td>\n",
       "      <td>30.26854</td>\n",
       "      <td>-97.73646</td>\n",
       "      <td>POINT (-97.73646 30.26854)</td>\n",
       "    </tr>\n",
       "    <tr>\n",
       "      <th>2</th>\n",
       "      <td>2</td>\n",
       "      <td>2572</td>\n",
       "      <td>Barton Springs Pool</td>\n",
       "      <td>active</td>\n",
       "      <td>(30.26452, -97.7712)</td>\n",
       "      <td>2200 William Barton Dr.</td>\n",
       "      <td>NaN</td>\n",
       "      <td>16758.0</td>\n",
       "      <td>parkland</td>\n",
       "      <td>13.0</td>\n",
       "      <td>solar</td>\n",
       "      <td>40.0</td>\n",
       "      <td>5.0</td>\n",
       "      <td>NaN</td>\n",
       "      <td>8.0</td>\n",
       "      <td>NaN</td>\n",
       "      <td>01/04/2021 12:00:00 AM</td>\n",
       "      <td>475882.0</td>\n",
       "      <td>0.0</td>\n",
       "      <td>2943.0</td>\n",
       "      <td>3182.0</td>\n",
       "      <td>3308.0</td>\n",
       "      <td>3824.0</td>\n",
       "      <td>3067.0</td>\n",
       "      <td>1602.0</td>\n",
       "      <td>1263.0</td>\n",
       "      <td>2167.0</td>\n",
       "      <td>275.0</td>\n",
       "      <td>0</td>\n",
       "      <td>1</td>\n",
       "      <td>1</td>\n",
       "      <td>1</td>\n",
       "      <td>1</td>\n",
       "      <td>1</td>\n",
       "      <td>1</td>\n",
       "      <td>1</td>\n",
       "      <td>1</td>\n",
       "      <td>1</td>\n",
       "      <td>30.26452</td>\n",
       "      <td>-97.77120</td>\n",
       "      <td>POINT (-97.77120 30.26452)</td>\n",
       "    </tr>\n",
       "    <tr>\n",
       "      <th>3</th>\n",
       "      <td>3</td>\n",
       "      <td>2574</td>\n",
       "      <td>Zilker Park</td>\n",
       "      <td>active</td>\n",
       "      <td>(30.2659, -97.76822)</td>\n",
       "      <td>Barton Springs Rd</td>\n",
       "      <td>Zilker Park at Barton Springs and William Burt...</td>\n",
       "      <td>16759.0</td>\n",
       "      <td>parkland</td>\n",
       "      <td>17.0</td>\n",
       "      <td>solar</td>\n",
       "      <td>50.0</td>\n",
       "      <td>5.0</td>\n",
       "      <td>parkland at ROW/easement</td>\n",
       "      <td>8.0</td>\n",
       "      <td>NaN</td>\n",
       "      <td>01/04/2021 12:00:00 AM</td>\n",
       "      <td>921734.0</td>\n",
       "      <td>0.0</td>\n",
       "      <td>6797.0</td>\n",
       "      <td>7104.0</td>\n",
       "      <td>6213.0</td>\n",
       "      <td>6167.0</td>\n",
       "      <td>5007.0</td>\n",
       "      <td>2797.0</td>\n",
       "      <td>3068.0</td>\n",
       "      <td>4325.0</td>\n",
       "      <td>419.0</td>\n",
       "      <td>0</td>\n",
       "      <td>1</td>\n",
       "      <td>1</td>\n",
       "      <td>1</td>\n",
       "      <td>1</td>\n",
       "      <td>1</td>\n",
       "      <td>1</td>\n",
       "      <td>1</td>\n",
       "      <td>1</td>\n",
       "      <td>1</td>\n",
       "      <td>30.26590</td>\n",
       "      <td>-97.76822</td>\n",
       "      <td>POINT (-97.76822 30.26590)</td>\n",
       "    </tr>\n",
       "    <tr>\n",
       "      <th>4</th>\n",
       "      <td>4</td>\n",
       "      <td>2575</td>\n",
       "      <td>Riverside @ S. Lamar</td>\n",
       "      <td>active</td>\n",
       "      <td>(30.26446, -97.75665)</td>\n",
       "      <td>Presented by Austin Parks Foundation</td>\n",
       "      <td>NaN</td>\n",
       "      <td>16736.0</td>\n",
       "      <td>parkland</td>\n",
       "      <td>15.0</td>\n",
       "      <td>solar</td>\n",
       "      <td>45.0</td>\n",
       "      <td>5.0</td>\n",
       "      <td>parkland at ROW/easement</td>\n",
       "      <td>5.0</td>\n",
       "      <td>NaN</td>\n",
       "      <td>01/04/2021 12:00:00 AM</td>\n",
       "      <td>1135618.0</td>\n",
       "      <td>0.0</td>\n",
       "      <td>6420.0</td>\n",
       "      <td>7716.0</td>\n",
       "      <td>8796.0</td>\n",
       "      <td>8432.0</td>\n",
       "      <td>6880.0</td>\n",
       "      <td>3911.0</td>\n",
       "      <td>4027.0</td>\n",
       "      <td>4916.0</td>\n",
       "      <td>521.0</td>\n",
       "      <td>0</td>\n",
       "      <td>1</td>\n",
       "      <td>1</td>\n",
       "      <td>1</td>\n",
       "      <td>1</td>\n",
       "      <td>1</td>\n",
       "      <td>1</td>\n",
       "      <td>1</td>\n",
       "      <td>1</td>\n",
       "      <td>1</td>\n",
       "      <td>30.26446</td>\n",
       "      <td>-97.75665</td>\n",
       "      <td>POINT (-97.75665 30.26446)</td>\n",
       "    </tr>\n",
       "  </tbody>\n",
       "</table>\n",
       "</div>"
      ],
      "text/plain": [
       "   Unnamed: 0  Kiosk ID                Kiosk Name Kiosk Status  \\\n",
       "0           0      2570  South Congress & Academy       active   \n",
       "1           1      2571    Red River & 8th Street       active   \n",
       "2           2      2572       Barton Springs Pool       active   \n",
       "3           3      2574               Zilker Park       active   \n",
       "4           4      2575      Riverside @ S. Lamar       active   \n",
       "\n",
       "                Location                               Address  \\\n",
       "0  (30.25226, -97.74854)                 1199 S. Congress Ave.   \n",
       "1  (30.26854, -97.73646)                     761 Red River St.   \n",
       "2   (30.26452, -97.7712)               2200 William Barton Dr.   \n",
       "3   (30.2659, -97.76822)                     Barton Springs Rd   \n",
       "4  (30.26446, -97.75665)  Presented by Austin Parks Foundation   \n",
       "\n",
       "                                      Alternate Name  City Asset Number  \\\n",
       "0                                                NaN            16752.0   \n",
       "1                                                NaN            16760.0   \n",
       "2                                                NaN            16758.0   \n",
       "3  Zilker Park at Barton Springs and William Burt...            16759.0   \n",
       "4                                                NaN            16736.0   \n",
       "\n",
       "  Property Type  Number of Docks Power Type  Footprint Length  \\\n",
       "0      sidewalk             10.0      solar              20.0   \n",
       "1      sidewalk             13.0      solar              40.0   \n",
       "2      parkland             13.0      solar              40.0   \n",
       "3      parkland             17.0      solar              50.0   \n",
       "4      parkland             15.0      solar              45.0   \n",
       "\n",
       "   Footprint Width                         Notes  Council District  Image  \\\n",
       "0              7.5                   on bulb-out               9.0    NaN   \n",
       "1              5.0  on pad built in ROW/easement               9.0    NaN   \n",
       "2              5.0                           NaN               8.0    NaN   \n",
       "3              5.0      parkland at ROW/easement               8.0    NaN   \n",
       "4              5.0      parkland at ROW/easement               5.0    NaN   \n",
       "\n",
       "            Modified Date  Num_Rides_AllTime  Num_Rides_2013  Num_Rides_2014  \\\n",
       "0  01/04/2021 12:00:00 AM           450098.0             0.0          4044.0   \n",
       "1  01/04/2021 12:00:00 AM           334422.0             0.0          2486.0   \n",
       "2  01/04/2021 12:00:00 AM           475882.0             0.0          2943.0   \n",
       "3  01/04/2021 12:00:00 AM           921734.0             0.0          6797.0   \n",
       "4  01/04/2021 12:00:00 AM          1135618.0             0.0          6420.0   \n",
       "\n",
       "   Num_Rides_2015  Num_Rides_2016  Num_Rides_2017  Num_Rides_2018  \\\n",
       "0          4389.0          3813.0          3357.0          2198.0   \n",
       "1          2329.0          2450.0          2734.0          2169.0   \n",
       "2          3182.0          3308.0          3824.0          3067.0   \n",
       "3          7104.0          6213.0          6167.0          5007.0   \n",
       "4          7716.0          8796.0          8432.0          6880.0   \n",
       "\n",
       "   Num_Rides_2019  Num_Rides_2020  Num_Rides_2021  Num_Rides_2022  \\\n",
       "0           546.0           639.0          1305.0           168.0   \n",
       "1           724.0           649.0          1512.0           148.0   \n",
       "2          1602.0          1263.0          2167.0           275.0   \n",
       "3          2797.0          3068.0          4325.0           419.0   \n",
       "4          3911.0          4027.0          4916.0           521.0   \n",
       "\n",
       "   UsedIn_2013  UsedIn_2014  UsedIn_2015  UsedIn_2016  UsedIn_2017  \\\n",
       "0            0            1            1            1            1   \n",
       "1            0            1            1            1            1   \n",
       "2            0            1            1            1            1   \n",
       "3            0            1            1            1            1   \n",
       "4            0            1            1            1            1   \n",
       "\n",
       "   UsedIn_2018  UsedIn_2019  UsedIn_2020  UsedIn_2021  UsedIn_2022  Latitude  \\\n",
       "0            1            1            1            1            1  30.25226   \n",
       "1            1            1            1            1            1  30.26854   \n",
       "2            1            1            1            1            1  30.26452   \n",
       "3            1            1            1            1            1  30.26590   \n",
       "4            1            1            1            1            1  30.26446   \n",
       "\n",
       "   Longitude                    geometry  \n",
       "0  -97.74854  POINT (-97.74854 30.25226)  \n",
       "1  -97.73646  POINT (-97.73646 30.26854)  \n",
       "2  -97.77120  POINT (-97.77120 30.26452)  \n",
       "3  -97.76822  POINT (-97.76822 30.26590)  \n",
       "4  -97.75665  POINT (-97.75665 30.26446)  "
      ]
     },
     "execution_count": 49,
     "metadata": {},
     "output_type": "execute_result"
    }
   ],
   "source": [
    "kiosk_geo.head(5)"
   ]
  },
  {
   "cell_type": "code",
   "execution_count": 50,
   "id": "97001238",
   "metadata": {},
   "outputs": [],
   "source": [
    "# Hover text for Kiosk Locations\n",
    "hover_text = []\n",
    "for index, row in kiosk_geo.iterrows():\n",
    "    \n",
    "    hover_text.append(('ID: {Kiosk_ID}<br>'+\n",
    "                       'Kiosk Name: {Kiosk_Name}<br>'+\n",
    "                      'Rides in 2021: {Num_Rides_2021}<br>'+\n",
    "                      'Council District: {Council_District}').format(Kiosk_ID=row['Kiosk ID'],\n",
    "                                        Kiosk_Name=row['Kiosk Name'],\n",
    "                                        Num_Rides_2021=row['Num_Rides_2021'],\n",
    "                                        Council_District=row['Council District']))\n",
    "\n",
    "kiosk_geo['text'] = hover_text"
   ]
  },
  {
   "cell_type": "code",
   "execution_count": 51,
   "id": "0fafd49d",
   "metadata": {},
   "outputs": [
    {
     "data": {
      "application/vnd.plotly.v1+json": {
       "config": {
        "plotlyServerURL": "https://plotly.com"
       },
       "data": [
        {
         "lat": [
          30.25226,
          30.26854,
          30.26452,
          30.2659,
          30.26446,
          30.255906,
          30.262,
          30.26032,
          30.2563,
          30.27193,
          30.25987,
          30.25542,
          30.268887,
          30.27466,
          30.26754,
          30.2741,
          30.24891,
          30.27041,
          30.26426,
          30.27974,
          30.26217,
          30.25895,
          30.28395,
          30.28576,
          30.25941,
          30.27336,
          30.26912,
          30.26735,
          30.26717,
          30.25971,
          30.26896,
          30.26968,
          30.260814,
          30.26408,
          30.26634,
          30.2698,
          30.2726,
          30.26476,
          30.2696,
          30.25103,
          30.2678,
          30.26753,
          30.26697,
          30.28118,
          30.25212,
          30.27924,
          30.2874,
          30.2862,
          30.264327,
          30.25839,
          30.26822,
          30.27616,
          30.26455,
          30.26332,
          30.27217,
          30.26406,
          30.25457,
          30.27807,
          30.29439,
          30.2853,
          30.29333,
          30.28953,
          30.2898,
          30.28354,
          30.283,
          30.2856,
          30.29068,
          30.28728,
          30.27059,
          30.25495,
          30.27489,
          30.27024,
          30.26888,
          30.26969,
          30.26751,
          30.2587,
          30.26461,
          30.28039,
          30.27654,
          30.27595,
          30.27624,
          30.267263,
          30.26416,
          30.25802,
          30.26304,
          30.26025,
          30.244961,
          30.27186,
          30.26638,
          30.26269,
          30.26139,
          30.252,
          30.26214,
          30.24472,
          30.24258,
          30.26383,
          30.27106,
          30.2848,
          30.27907,
          30.26587,
          30.26889,
          30.26694,
          30.257595316333752
         ],
         "lon": [
          -97.74854,
          -97.73646,
          -97.7712,
          -97.76822,
          -97.75665,
          -97.739949,
          -97.76118,
          -97.71899,
          -97.71007,
          -97.73854,
          -97.72373,
          -97.71665,
          -97.745242,
          -97.77028,
          -97.74154,
          -97.73666,
          -97.75019,
          -97.75046,
          -97.74023,
          -97.74254,
          -97.72743,
          -97.71475,
          -97.74198,
          -97.74181,
          -97.74971,
          -97.73805,
          -97.73986,
          -97.73933,
          -97.75484,
          -97.75346,
          -97.72843,
          -97.73074,
          -97.738086,
          -97.74355,
          -97.74378,
          -97.74186,
          -97.74127,
          -97.74678,
          -97.75332,
          -97.74926,
          -97.75189,
          -97.74805,
          -97.74929,
          -97.75219,
          -97.69807,
          -97.74371,
          -97.7478,
          -97.74516,
          -97.736446,
          -97.74592,
          -97.74285,
          -97.74488,
          -97.73165,
          -97.74508,
          -97.75246,
          -97.76385,
          -97.74258,
          -97.77272,
          -97.78375,
          -97.7467,
          -97.74412,
          -97.73695,
          -97.74041,
          -97.73953,
          -97.7375,
          -97.7335,
          -97.74292,
          -97.74495,
          -97.74441,
          -97.74755,
          -97.76483,
          -97.73578,
          -97.72431,
          -97.71873,
          -97.74802,
          -97.74872,
          -97.73049,
          -97.73809,
          -97.74155,
          -97.74739,
          -97.74831,
          -97.747144,
          -97.73289,
          -97.7391,
          -97.75824,
          -97.71002,
          -97.751272,
          -97.73997,
          -97.7214,
          -97.72438,
          -97.77234,
          -97.7346,
          -97.7387,
          -97.72336,
          -97.71726,
          -97.72864,
          -97.74563,
          -97.72756,
          -97.73715,
          -97.76826,
          -97.74525,
          -97.74939,
          -97.74901281385847
         ],
         "marker": {
          "color": "navy",
          "size": [
           2.73,
           3.62,
           8.01,
           13.985,
           19.555,
           16.57,
           4.49,
           2.145,
           1.58,
           2.11,
           3.02,
           1.92,
           2.075,
           12.945,
           4.835,
           0,
           3.76,
           1.48,
           9.89,
           3.67,
           5.22,
           2.295,
           15.54,
           13.275,
           8.68,
           2.47,
           2.49,
           2.78,
           13.81,
           9.095,
           1.85,
           3.93,
           7.87,
           8.895,
           5.065,
           5.715,
           7.73,
           7.665,
           6.07,
           4.605,
           11.55,
           4.44,
           7.115,
           0,
           0,
           0,
           0,
           0,
           0,
           8.6,
           7.43,
           1.91,
           2.7,
           8.26,
           3.2,
           7.445,
           6.395,
           2.24,
           0.845,
           18.29,
           20.635,
           30.045,
           7.09,
           12.865,
           52.16,
           7.76,
           13.865,
           15.855,
           1.615,
           2.44,
           2.215,
           1.53,
           1.12,
           1.02,
           0,
           0.375,
           0,
           0,
           0,
           0,
           0,
           0,
           0,
           0,
           0,
           0,
           0,
           0,
           3.85,
           3.43,
           2.24,
           6.325,
           4.49,
           11.61,
           5.72,
           0,
           0,
           0,
           0,
           0,
           0,
           0,
           0
          ]
         },
         "mode": "markers",
         "text": [
          "ID: 2570<br>Kiosk Name: South Congress & Academy<br>Rides in 2021: 1305.0<br>Council District: 9.0",
          "ID: 2571<br>Kiosk Name: Red River & 8th Street<br>Rides in 2021: 1512.0<br>Council District: 9.0",
          "ID: 2572<br>Kiosk Name: Barton Springs Pool<br>Rides in 2021: 2167.0<br>Council District: 8.0",
          "ID: 2574<br>Kiosk Name: Zilker Park<br>Rides in 2021: 4325.0<br>Council District: 8.0",
          "ID: 2575<br>Kiosk Name: Riverside @ S. Lamar<br>Rides in 2021: 4916.0<br>Council District: 5.0",
          "ID: 2707<br>Kiosk Name: Rainey St @ Cummings<br>Rides in 2021: 5440.0<br>Council District: 9.0",
          "ID: 2711<br>Kiosk Name: Barton Springs @ Kinney Ave<br>Rides in 2021: 2021.0<br>Council District: 5.0",
          "ID: 2822<br>Kiosk Name: East 6th at Robert Martinez<br>Rides in 2021: 706.0<br>Council District: 3.0",
          "ID: 2823<br>Kiosk Name: Capital Metro HQ - East 5th at Broadway<br>Rides in 2021: 912.0<br>Council District: 3.0",
          "ID: 3291<br>Kiosk Name: 11th & San Jacinto<br>Rides in 2021: 1460.0<br>Council District: 1.0",
          "ID: 3292<br>Kiosk Name: East 4th & Chicon<br>Rides in 2021: 1665.0<br>Council District: 3.0",
          "ID: 3293<br>Kiosk Name: East 2nd & Pedernales<br>Rides in 2021: 1032.0<br>Council District: 3.0",
          "ID: 3294<br>Kiosk Name: Lavaca & 6th<br>Rides in 2021: 684.0<br>Council District: 9.0",
          "ID: 3377<br>Kiosk Name: MoPac Pedestrian Bridge @ Veterans Drive<br>Rides in 2021: 3695.0<br>Council District: 9.0",
          "ID: 3390<br>Kiosk Name: Brazos & 6th<br>Rides in 2021: 1751.0<br>Council District: 9.0",
          "ID: 1111<br>Kiosk Name: 13th & Trinity<br>Rides in 2021: 280.0<br>Council District: 1.0",
          "ID: 2504<br>Kiosk Name: South Congress & Elizabeth<br>Rides in 2021: 1845.0<br>Council District: 9.0",
          "ID: 2537<br>Kiosk Name: West & 6th St.<br>Rides in 2021: 1396.0<br>Council District: 9.0",
          "ID: 2539<br>Kiosk Name: Convention Center / 3rd & Trinity<br>Rides in 2021: 3488.0<br>Council District: 9.0",
          "ID: 2540<br>Kiosk Name: 17th & Guadalupe<br>Rides in 2021: 0.0<br>Council District: 9.0",
          "ID: 2542<br>Kiosk Name: Plaza Saltillo<br>Rides in 2021: 2117.0<br>Council District: 3.0",
          "ID: 2544<br>Kiosk Name: East 6th & Pedernales St.<br>Rides in 2021: 1009.0<br>Council District: 3.0",
          "ID: 2547<br>Kiosk Name: Guadalupe & 21st<br>Rides in 2021: 7479.0<br>Council District: 9.0",
          "ID: 2548<br>Kiosk Name: UT West Mall @ Guadalupe<br>Rides in 2021: 7606.0<br>Council District: 9.0",
          "ID: 2549<br>Kiosk Name: Long Center @ South 1st & Riverside<br>Rides in 2021: 2770.0<br>Council District: 9.0",
          "ID: 2561<br>Kiosk Name: State Capitol Visitors Garage @ San Jacinto & 12th<br>Rides in 2021: 971.0<br>Council District: 1.0",
          "ID: 2562<br>Kiosk Name: San Jacinto & 8th Street<br>Rides in 2021: 593.0<br>Council District: 9.0",
          "ID: 2565<br>Kiosk Name: Trinity & 6th Street<br>Rides in 2021: 947.0<br>Council District: 9.0",
          "ID: 2566<br>Kiosk Name: Pfluger Bridge @ W 2nd Street<br>Rides in 2021: 3570.0<br>Council District: 9.0",
          "ID: 2567<br>Kiosk Name: Palmer Auditorium<br>Rides in 2021: 2867.0<br>Council District: 9.0",
          "ID: 2568<br>Kiosk Name: East 11th St. at Victory Grill<br>Rides in 2021: 708.0<br>Council District: 1.0",
          "ID: 2569<br>Kiosk Name: East 11th St. & San Marcos<br>Rides in 2021: 1015.0<br>Council District: 1.0",
          "ID: 2563<br>Kiosk Name: Rainey/Driskill<br>Rides in 2021: 2999.0<br>Council District: 9.0",
          "ID: 2494<br>Kiosk Name: 2nd & Congress<br>Rides in 2021: 3056.0<br>Council District: 9.0",
          "ID: 2495<br>Kiosk Name: 4th & Congress<br>Rides in 2021: 2542.0<br>Council District: 9.0",
          "ID: 2496<br>Kiosk Name: 8th & Congress<br>Rides in 2021: 1293.0<br>Council District: 9.0",
          "ID: 2497<br>Kiosk Name: Capitol Station / Congress & 11th<br>Rides in 2021: 2828.0<br>Council District: 1.0",
          "ID: 2499<br>Kiosk Name: City Hall / Lavaca & 2nd<br>Rides in 2021: 2579.0<br>Council District: 9.0",
          "ID: 2501<br>Kiosk Name: 5th & Bowie<br>Rides in 2021: 3073.0<br>Council District: 9.0",
          "ID: 2503<br>Kiosk Name: South Congress & James<br>Rides in 2021: 1333.0<br>Council District: 9.0",
          "ID: 2552<br>Kiosk Name: 3rd & West<br>Rides in 2021: 4966.0<br>Council District: 9.0",
          "ID: 3455<br>Kiosk Name: Republic Square @ 5th & Guadalupe<br>Rides in 2021: 1800.0<br>Council District: 9.0",
          "ID: 3621<br>Kiosk Name: Nueces & 3rd<br>Rides in 2021: 2835.0<br>Council District: 9.0",
          "ID: 3464<br>Kiosk Name: Pease Park<br>Rides in 2021: 0.0<br>Council District: 9.0",
          "ID: 4699<br>Kiosk Name: East 5th/Shady @ Eastside Bus Plaza<br>Rides in 2021: 637.0<br>Council District: 3.0",
          "ID: 4879<br>Kiosk Name: 16th/San Antonio<br>Rides in 2021: 2336.0<br>Council District: 9.0",
          "ID: 111<br>Kiosk Name: 23rd & San Gabriel<br>Rides in 2021: 2130.0<br>Council District: 9.0",
          "ID: 11<br>Kiosk Name: 22nd 1/2 & Rio Grande<br>Rides in 2021: 1838.0<br>Council District: 9.0",
          "ID: 2498<br>Kiosk Name: 4th/Sabine<br>Rides in 2021: 1230.0<br>Council District: 9.0",
          "ID: 3513<br>Kiosk Name: South Congress & Barton Springs at the Austin American-Statesman<br>Rides in 2021: 2570.0<br>Council District: 9.0",
          "ID: 3619<br>Kiosk Name: 6th & Congress<br>Rides in 2021: 3526.0<br>Council District: 9.0",
          "ID: 3635<br>Kiosk Name: 13th & San Antonio<br>Rides in 2021: 0.0<br>Council District: 9.0",
          "ID: 3660<br>Kiosk Name: Medina & East 6th<br>Rides in 2021: 2612.0<br>Council District: 3.0",
          "ID: 3684<br>Kiosk Name: Congress & Cesar Chavez<br>Rides in 2021: 1879.0<br>Council District: 9.0",
          "ID: 3685<br>Kiosk Name: Henderson & 9th<br>Rides in 2021: 1792.0<br>Council District: 9.0",
          "ID: 3686<br>Kiosk Name: Sterzing at Barton Springs<br>Rides in 2021: 2755.0<br>Council District: 5.0",
          "ID: 3687<br>Kiosk Name: Boardwalk West<br>Rides in 2021: 3362.0<br>Council District: 9.0",
          "ID: 3790<br>Kiosk Name: Lake Austin Blvd @ Deep Eddy<br>Rides in 2021: 1496.0<br>Council District: 10.0",
          "ID: 3791<br>Kiosk Name: Lake Austin & Enfield<br>Rides in 2021: 1001.0<br>Council District: 10.0",
          "ID: 3792<br>Kiosk Name: 22nd & Pearl<br>Rides in 2021: 7532.0<br>Council District: 9.0",
          "ID: 3793<br>Kiosk Name: Rio Grande & 28th<br>Rides in 2021: 9795.0<br>Council District: 9.0",
          "ID: 3794<br>Kiosk Name: Dean Keeton & Speedway<br>Rides in 2021: 7445.0<br>Council District: 9.0",
          "ID: 3795<br>Kiosk Name: Dean Keeton & Whitis<br>Rides in 2021: 8430.0<br>Council District: 9.0",
          "ID: 3797<br>Kiosk Name: 21st & University<br>Rides in 2021: 4747.0<br>Council District: 9.0",
          "ID: 3798<br>Kiosk Name: 21st & Speedway @PCL<br>Rides in 2021: 17665.0<br>Council District: 9.0",
          "ID: 3799<br>Kiosk Name: 23rd & San Jacinto @ DKR Stadium<br>Rides in 2021: 4637.0<br>Council District: 1.0",
          "ID: 3838<br>Kiosk Name: Nueces & 26th<br>Rides in 2021: 6808.0<br>Council District: 9.0",
          "ID: 3841<br>Kiosk Name: 23rd & Rio Grande<br>Rides in 2021: 3792.0<br>Council District: 9.0",
          "ID: 4047<br>Kiosk Name: 8th & Lavaca<br>Rides in 2021: 1300.0<br>Council District: 9.0",
          "ID: 4048<br>Kiosk Name: South Congress @ Bouldin Creek<br>Rides in 2021: 2002.0<br>Council District: 9.0",
          "ID: 4050<br>Kiosk Name: 5th & Campbell<br>Rides in 2021: 1177.0<br>Council District: 9.0",
          "ID: 4051<br>Kiosk Name: 10th & Red River<br>Rides in 2021: 547.0<br>Council District: 1.0",
          "ID: 4052<br>Kiosk Name: Rosewood & Angelina<br>Rides in 2021: 493.0<br>Council District: 1.0",
          "ID: 4054<br>Kiosk Name: Rosewood & Chicon<br>Rides in 2021: 434.0<br>Council District: 1.0",
          "ID: 2500<br>Kiosk Name: Republic Square<br>Rides in 2021: 0.0<br>Council District: 9.0",
          "ID: 2502<br>Kiosk Name: Barton Springs & Riverside<br>Rides in 2021: 0.0<br>Council District: 9.0",
          "ID: 2536<br>Kiosk Name: Waller & 6th St.<br>Rides in 2021: 0.0<br>Council District: 3.0",
          "ID: 2538<br>Kiosk Name: Bullock Museum @ Congress & MLK<br>Rides in 2021: 0.0<br>Council District: 1.0",
          "ID: 2541<br>Kiosk Name: State Capitol @ 14th & Colorado<br>Rides in 2021: 0.0<br>Council District: 1.0",
          "ID: 2545<br>Kiosk Name: ACC - Rio Grande & 12th<br>Rides in 2021: 0.0<br>Council District: 9.0",
          "ID: 2546<br>Kiosk Name: ACC - West & 12th Street<br>Rides in 2021: 0.0<br>Council District: 9.0",
          "ID: 2550<br>Kiosk Name: 4th/Guadalupe @ Republic Square<br>Rides in 2021: 0.0<br>Council District: 9.0",
          "ID: 2564<br>Kiosk Name: 5th & San Marcos<br>Rides in 2021: 0.0<br>Council District: 3.0",
          "ID: 2576<br>Kiosk Name: Rainey @ River St<br>Rides in 2021: 0.0<br>Council District: 9.0",
          "ID: 2712<br>Kiosk Name: Toomey Rd @ South Lamar<br>Rides in 2021: 0.0<br>Council District: 5.0",
          "ID: 3381<br>Kiosk Name: East 7th & Pleasant Valley<br>Rides in 2021: 0.0<br>Council District: 3.0",
          "ID: 0<br>Kiosk Name: South Congress/Mary<br>Rides in 2021: 0.0<br>Council District: 9.0",
          "ID: 1001<br>Kiosk Name: OFFICE/Main/Shop/Repair<br>Rides in 2021: 0.0<br>Council District: 1.0",
          "ID: 4055<br>Kiosk Name: 11th & Salina<br>Rides in 2021: 386.0<br>Council District: 1.0",
          "ID: 4057<br>Kiosk Name: 6th & Chalmers<br>Rides in 2021: 1729.0<br>Council District: 3.0",
          "ID: 4058<br>Kiosk Name: Hollow Creek & Barton Hills<br>Rides in 2021: 1113.0<br>Council District: 5.0",
          "ID: 4059<br>Kiosk Name: Nash Hernandez @ RBJ South<br>Rides in 2021: 3222.0<br>Council District: 3.0",
          "ID: 4060<br>Kiosk Name: Red River/Cesar Chavez @ The Fairmont<br>Rides in 2021: 1874.0<br>Council District: 9.0",
          "ID: 4061<br>Kiosk Name: Lakeshore @ Austin Hostel<br>Rides in 2021: 4798.0<br>Council District: 3.0",
          "ID: 4062<br>Kiosk Name: Lakeshore & Pleasant Valley<br>Rides in 2021: 3349.0<br>Council District: 3.0",
          "ID: 1002<br>Kiosk Name: 6th & Navasota St.<br>Rides in 2021: 0.0<br>Council District: 3.0",
          "ID: 1003<br>Kiosk Name: 8th & Guadalupe<br>Rides in 2021: 0.0<br>Council District: 9.0",
          "ID: 1004<br>Kiosk Name: Red River & LBJ Library<br>Rides in 2021: 0.0<br>Council District: 1.0",
          "ID: 1005<br>Kiosk Name: State Parking Garage @ Brazos & 18th<br>Rides in 2021: 0.0<br>Council District: 1.0",
          "ID: 1006<br>Kiosk Name: Zilker Park West<br>Rides in 2021: 0.0<br>Council District: 8.0",
          "ID: 1007<br>Kiosk Name: Lavaca & 6th<br>Rides in 2021: 0.0<br>Council District: 9.0",
          "ID: 1008<br>Kiosk Name: Nueces @ 3rd<br>Rides in 2021: 0.0<br>Council District: 9.0",
          "ID: 7186<br>Kiosk Name: One Texas Center<br>Rides in 2021: 0.0<br>Council District: nan"
         ],
         "type": "scattermapbox"
        }
       ],
       "layout": {
        "autosize": false,
        "height": 500,
        "hovermode": "closest",
        "mapbox": {
         "accesstoken": "pk.eyJ1IjoiZmx5aW5nY2FwZSIsImEiOiJjbDd0YWZnc2YwZ3ZzM29yeDQ4bDl3dHZtIn0.q09s_595pGToclUeM8ojQQ",
         "bearing": 0,
         "center": {
          "lat": 30.268485,
          "lon": -97.74091
         },
         "pitch": 0,
         "style": "streets",
         "zoom": 12.25
        },
        "margin": {
         "b": 0.5,
         "l": 0.5,
         "pad": 0.2,
         "r": 0.5,
         "t": 0.5
        },
        "paper_bgcolor": "White",
        "template": {
         "data": {
          "bar": [
           {
            "error_x": {
             "color": "#2a3f5f"
            },
            "error_y": {
             "color": "#2a3f5f"
            },
            "marker": {
             "line": {
              "color": "#E5ECF6",
              "width": 0.5
             },
             "pattern": {
              "fillmode": "overlay",
              "size": 10,
              "solidity": 0.2
             }
            },
            "type": "bar"
           }
          ],
          "barpolar": [
           {
            "marker": {
             "line": {
              "color": "#E5ECF6",
              "width": 0.5
             },
             "pattern": {
              "fillmode": "overlay",
              "size": 10,
              "solidity": 0.2
             }
            },
            "type": "barpolar"
           }
          ],
          "carpet": [
           {
            "aaxis": {
             "endlinecolor": "#2a3f5f",
             "gridcolor": "white",
             "linecolor": "white",
             "minorgridcolor": "white",
             "startlinecolor": "#2a3f5f"
            },
            "baxis": {
             "endlinecolor": "#2a3f5f",
             "gridcolor": "white",
             "linecolor": "white",
             "minorgridcolor": "white",
             "startlinecolor": "#2a3f5f"
            },
            "type": "carpet"
           }
          ],
          "choropleth": [
           {
            "colorbar": {
             "outlinewidth": 0,
             "ticks": ""
            },
            "type": "choropleth"
           }
          ],
          "contour": [
           {
            "colorbar": {
             "outlinewidth": 0,
             "ticks": ""
            },
            "colorscale": [
             [
              0,
              "#0d0887"
             ],
             [
              0.1111111111111111,
              "#46039f"
             ],
             [
              0.2222222222222222,
              "#7201a8"
             ],
             [
              0.3333333333333333,
              "#9c179e"
             ],
             [
              0.4444444444444444,
              "#bd3786"
             ],
             [
              0.5555555555555556,
              "#d8576b"
             ],
             [
              0.6666666666666666,
              "#ed7953"
             ],
             [
              0.7777777777777778,
              "#fb9f3a"
             ],
             [
              0.8888888888888888,
              "#fdca26"
             ],
             [
              1,
              "#f0f921"
             ]
            ],
            "type": "contour"
           }
          ],
          "contourcarpet": [
           {
            "colorbar": {
             "outlinewidth": 0,
             "ticks": ""
            },
            "type": "contourcarpet"
           }
          ],
          "heatmap": [
           {
            "colorbar": {
             "outlinewidth": 0,
             "ticks": ""
            },
            "colorscale": [
             [
              0,
              "#0d0887"
             ],
             [
              0.1111111111111111,
              "#46039f"
             ],
             [
              0.2222222222222222,
              "#7201a8"
             ],
             [
              0.3333333333333333,
              "#9c179e"
             ],
             [
              0.4444444444444444,
              "#bd3786"
             ],
             [
              0.5555555555555556,
              "#d8576b"
             ],
             [
              0.6666666666666666,
              "#ed7953"
             ],
             [
              0.7777777777777778,
              "#fb9f3a"
             ],
             [
              0.8888888888888888,
              "#fdca26"
             ],
             [
              1,
              "#f0f921"
             ]
            ],
            "type": "heatmap"
           }
          ],
          "heatmapgl": [
           {
            "colorbar": {
             "outlinewidth": 0,
             "ticks": ""
            },
            "colorscale": [
             [
              0,
              "#0d0887"
             ],
             [
              0.1111111111111111,
              "#46039f"
             ],
             [
              0.2222222222222222,
              "#7201a8"
             ],
             [
              0.3333333333333333,
              "#9c179e"
             ],
             [
              0.4444444444444444,
              "#bd3786"
             ],
             [
              0.5555555555555556,
              "#d8576b"
             ],
             [
              0.6666666666666666,
              "#ed7953"
             ],
             [
              0.7777777777777778,
              "#fb9f3a"
             ],
             [
              0.8888888888888888,
              "#fdca26"
             ],
             [
              1,
              "#f0f921"
             ]
            ],
            "type": "heatmapgl"
           }
          ],
          "histogram": [
           {
            "marker": {
             "pattern": {
              "fillmode": "overlay",
              "size": 10,
              "solidity": 0.2
             }
            },
            "type": "histogram"
           }
          ],
          "histogram2d": [
           {
            "colorbar": {
             "outlinewidth": 0,
             "ticks": ""
            },
            "colorscale": [
             [
              0,
              "#0d0887"
             ],
             [
              0.1111111111111111,
              "#46039f"
             ],
             [
              0.2222222222222222,
              "#7201a8"
             ],
             [
              0.3333333333333333,
              "#9c179e"
             ],
             [
              0.4444444444444444,
              "#bd3786"
             ],
             [
              0.5555555555555556,
              "#d8576b"
             ],
             [
              0.6666666666666666,
              "#ed7953"
             ],
             [
              0.7777777777777778,
              "#fb9f3a"
             ],
             [
              0.8888888888888888,
              "#fdca26"
             ],
             [
              1,
              "#f0f921"
             ]
            ],
            "type": "histogram2d"
           }
          ],
          "histogram2dcontour": [
           {
            "colorbar": {
             "outlinewidth": 0,
             "ticks": ""
            },
            "colorscale": [
             [
              0,
              "#0d0887"
             ],
             [
              0.1111111111111111,
              "#46039f"
             ],
             [
              0.2222222222222222,
              "#7201a8"
             ],
             [
              0.3333333333333333,
              "#9c179e"
             ],
             [
              0.4444444444444444,
              "#bd3786"
             ],
             [
              0.5555555555555556,
              "#d8576b"
             ],
             [
              0.6666666666666666,
              "#ed7953"
             ],
             [
              0.7777777777777778,
              "#fb9f3a"
             ],
             [
              0.8888888888888888,
              "#fdca26"
             ],
             [
              1,
              "#f0f921"
             ]
            ],
            "type": "histogram2dcontour"
           }
          ],
          "mesh3d": [
           {
            "colorbar": {
             "outlinewidth": 0,
             "ticks": ""
            },
            "type": "mesh3d"
           }
          ],
          "parcoords": [
           {
            "line": {
             "colorbar": {
              "outlinewidth": 0,
              "ticks": ""
             }
            },
            "type": "parcoords"
           }
          ],
          "pie": [
           {
            "automargin": true,
            "type": "pie"
           }
          ],
          "scatter": [
           {
            "marker": {
             "colorbar": {
              "outlinewidth": 0,
              "ticks": ""
             }
            },
            "type": "scatter"
           }
          ],
          "scatter3d": [
           {
            "line": {
             "colorbar": {
              "outlinewidth": 0,
              "ticks": ""
             }
            },
            "marker": {
             "colorbar": {
              "outlinewidth": 0,
              "ticks": ""
             }
            },
            "type": "scatter3d"
           }
          ],
          "scattercarpet": [
           {
            "marker": {
             "colorbar": {
              "outlinewidth": 0,
              "ticks": ""
             }
            },
            "type": "scattercarpet"
           }
          ],
          "scattergeo": [
           {
            "marker": {
             "colorbar": {
              "outlinewidth": 0,
              "ticks": ""
             }
            },
            "type": "scattergeo"
           }
          ],
          "scattergl": [
           {
            "marker": {
             "colorbar": {
              "outlinewidth": 0,
              "ticks": ""
             }
            },
            "type": "scattergl"
           }
          ],
          "scattermapbox": [
           {
            "marker": {
             "colorbar": {
              "outlinewidth": 0,
              "ticks": ""
             }
            },
            "type": "scattermapbox"
           }
          ],
          "scatterpolar": [
           {
            "marker": {
             "colorbar": {
              "outlinewidth": 0,
              "ticks": ""
             }
            },
            "type": "scatterpolar"
           }
          ],
          "scatterpolargl": [
           {
            "marker": {
             "colorbar": {
              "outlinewidth": 0,
              "ticks": ""
             }
            },
            "type": "scatterpolargl"
           }
          ],
          "scatterternary": [
           {
            "marker": {
             "colorbar": {
              "outlinewidth": 0,
              "ticks": ""
             }
            },
            "type": "scatterternary"
           }
          ],
          "surface": [
           {
            "colorbar": {
             "outlinewidth": 0,
             "ticks": ""
            },
            "colorscale": [
             [
              0,
              "#0d0887"
             ],
             [
              0.1111111111111111,
              "#46039f"
             ],
             [
              0.2222222222222222,
              "#7201a8"
             ],
             [
              0.3333333333333333,
              "#9c179e"
             ],
             [
              0.4444444444444444,
              "#bd3786"
             ],
             [
              0.5555555555555556,
              "#d8576b"
             ],
             [
              0.6666666666666666,
              "#ed7953"
             ],
             [
              0.7777777777777778,
              "#fb9f3a"
             ],
             [
              0.8888888888888888,
              "#fdca26"
             ],
             [
              1,
              "#f0f921"
             ]
            ],
            "type": "surface"
           }
          ],
          "table": [
           {
            "cells": {
             "fill": {
              "color": "#EBF0F8"
             },
             "line": {
              "color": "white"
             }
            },
            "header": {
             "fill": {
              "color": "#C8D4E3"
             },
             "line": {
              "color": "white"
             }
            },
            "type": "table"
           }
          ]
         },
         "layout": {
          "annotationdefaults": {
           "arrowcolor": "#2a3f5f",
           "arrowhead": 0,
           "arrowwidth": 1
          },
          "autotypenumbers": "strict",
          "coloraxis": {
           "colorbar": {
            "outlinewidth": 0,
            "ticks": ""
           }
          },
          "colorscale": {
           "diverging": [
            [
             0,
             "#8e0152"
            ],
            [
             0.1,
             "#c51b7d"
            ],
            [
             0.2,
             "#de77ae"
            ],
            [
             0.3,
             "#f1b6da"
            ],
            [
             0.4,
             "#fde0ef"
            ],
            [
             0.5,
             "#f7f7f7"
            ],
            [
             0.6,
             "#e6f5d0"
            ],
            [
             0.7,
             "#b8e186"
            ],
            [
             0.8,
             "#7fbc41"
            ],
            [
             0.9,
             "#4d9221"
            ],
            [
             1,
             "#276419"
            ]
           ],
           "sequential": [
            [
             0,
             "#0d0887"
            ],
            [
             0.1111111111111111,
             "#46039f"
            ],
            [
             0.2222222222222222,
             "#7201a8"
            ],
            [
             0.3333333333333333,
             "#9c179e"
            ],
            [
             0.4444444444444444,
             "#bd3786"
            ],
            [
             0.5555555555555556,
             "#d8576b"
            ],
            [
             0.6666666666666666,
             "#ed7953"
            ],
            [
             0.7777777777777778,
             "#fb9f3a"
            ],
            [
             0.8888888888888888,
             "#fdca26"
            ],
            [
             1,
             "#f0f921"
            ]
           ],
           "sequentialminus": [
            [
             0,
             "#0d0887"
            ],
            [
             0.1111111111111111,
             "#46039f"
            ],
            [
             0.2222222222222222,
             "#7201a8"
            ],
            [
             0.3333333333333333,
             "#9c179e"
            ],
            [
             0.4444444444444444,
             "#bd3786"
            ],
            [
             0.5555555555555556,
             "#d8576b"
            ],
            [
             0.6666666666666666,
             "#ed7953"
            ],
            [
             0.7777777777777778,
             "#fb9f3a"
            ],
            [
             0.8888888888888888,
             "#fdca26"
            ],
            [
             1,
             "#f0f921"
            ]
           ]
          },
          "colorway": [
           "#636efa",
           "#EF553B",
           "#00cc96",
           "#ab63fa",
           "#FFA15A",
           "#19d3f3",
           "#FF6692",
           "#B6E880",
           "#FF97FF",
           "#FECB52"
          ],
          "font": {
           "color": "#2a3f5f"
          },
          "geo": {
           "bgcolor": "white",
           "lakecolor": "white",
           "landcolor": "#E5ECF6",
           "showlakes": true,
           "showland": true,
           "subunitcolor": "white"
          },
          "hoverlabel": {
           "align": "left"
          },
          "hovermode": "closest",
          "mapbox": {
           "style": "light"
          },
          "paper_bgcolor": "white",
          "plot_bgcolor": "#E5ECF6",
          "polar": {
           "angularaxis": {
            "gridcolor": "white",
            "linecolor": "white",
            "ticks": ""
           },
           "bgcolor": "#E5ECF6",
           "radialaxis": {
            "gridcolor": "white",
            "linecolor": "white",
            "ticks": ""
           }
          },
          "scene": {
           "xaxis": {
            "backgroundcolor": "#E5ECF6",
            "gridcolor": "white",
            "gridwidth": 2,
            "linecolor": "white",
            "showbackground": true,
            "ticks": "",
            "zerolinecolor": "white"
           },
           "yaxis": {
            "backgroundcolor": "#E5ECF6",
            "gridcolor": "white",
            "gridwidth": 2,
            "linecolor": "white",
            "showbackground": true,
            "ticks": "",
            "zerolinecolor": "white"
           },
           "zaxis": {
            "backgroundcolor": "#E5ECF6",
            "gridcolor": "white",
            "gridwidth": 2,
            "linecolor": "white",
            "showbackground": true,
            "ticks": "",
            "zerolinecolor": "white"
           }
          },
          "shapedefaults": {
           "line": {
            "color": "#2a3f5f"
           }
          },
          "ternary": {
           "aaxis": {
            "gridcolor": "white",
            "linecolor": "white",
            "ticks": ""
           },
           "baxis": {
            "gridcolor": "white",
            "linecolor": "white",
            "ticks": ""
           },
           "bgcolor": "#E5ECF6",
           "caxis": {
            "gridcolor": "white",
            "linecolor": "white",
            "ticks": ""
           }
          },
          "title": {
           "x": 0.05
          },
          "xaxis": {
           "automargin": true,
           "gridcolor": "white",
           "linecolor": "white",
           "ticks": "",
           "title": {
            "standoff": 15
           },
           "zerolinecolor": "white",
           "zerolinewidth": 2
          },
          "yaxis": {
           "automargin": true,
           "gridcolor": "white",
           "linecolor": "white",
           "ticks": "",
           "title": {
            "standoff": 15
           },
           "zerolinecolor": "white",
           "zerolinewidth": 2
          }
         }
        },
        "width": 750
       }
      },
      "text/html": [
       "<div>                            <div id=\"05c1f563-67a6-4132-834a-f80e185aefb3\" class=\"plotly-graph-div\" style=\"height:500px; width:750px;\"></div>            <script type=\"text/javascript\">                require([\"plotly\"], function(Plotly) {                    window.PLOTLYENV=window.PLOTLYENV || {};                                    if (document.getElementById(\"05c1f563-67a6-4132-834a-f80e185aefb3\")) {                    Plotly.newPlot(                        \"05c1f563-67a6-4132-834a-f80e185aefb3\",                        [{\"lat\":[30.25226,30.26854,30.26452,30.2659,30.26446,30.255906,30.262,30.26032,30.2563,30.27193,30.25987,30.25542,30.268887,30.27466,30.26754,30.2741,30.24891,30.27041,30.26426,30.27974,30.26217,30.25895,30.28395,30.28576,30.25941,30.27336,30.26912,30.26735,30.26717,30.25971,30.26896,30.26968,30.260814,30.26408,30.26634,30.2698,30.2726,30.26476,30.2696,30.25103,30.2678,30.26753,30.26697,30.28118,30.25212,30.27924,30.2874,30.2862,30.264327,30.25839,30.26822,30.27616,30.26455,30.26332,30.27217,30.26406,30.25457,30.27807,30.29439,30.2853,30.29333,30.28953,30.2898,30.28354,30.283,30.2856,30.29068,30.28728,30.27059,30.25495,30.27489,30.27024,30.26888,30.26969,30.26751,30.2587,30.26461,30.28039,30.27654,30.27595,30.27624,30.267263,30.26416,30.25802,30.26304,30.26025,30.244961,30.27186,30.26638,30.26269,30.26139,30.252,30.26214,30.24472,30.24258,30.26383,30.27106,30.2848,30.27907,30.26587,30.26889,30.26694,30.257595316333752],\"lon\":[-97.74854,-97.73646,-97.7712,-97.76822,-97.75665,-97.739949,-97.76118,-97.71899,-97.71007,-97.73854,-97.72373,-97.71665,-97.745242,-97.77028,-97.74154,-97.73666,-97.75019,-97.75046,-97.74023,-97.74254,-97.72743,-97.71475,-97.74198,-97.74181,-97.74971,-97.73805,-97.73986,-97.73933,-97.75484,-97.75346,-97.72843,-97.73074,-97.738086,-97.74355,-97.74378,-97.74186,-97.74127,-97.74678,-97.75332,-97.74926,-97.75189,-97.74805,-97.74929,-97.75219,-97.69807,-97.74371,-97.7478,-97.74516,-97.736446,-97.74592,-97.74285,-97.74488,-97.73165,-97.74508,-97.75246,-97.76385,-97.74258,-97.77272,-97.78375,-97.7467,-97.74412,-97.73695,-97.74041,-97.73953,-97.7375,-97.7335,-97.74292,-97.74495,-97.74441,-97.74755,-97.76483,-97.73578,-97.72431,-97.71873,-97.74802,-97.74872,-97.73049,-97.73809,-97.74155,-97.74739,-97.74831,-97.747144,-97.73289,-97.7391,-97.75824,-97.71002,-97.751272,-97.73997,-97.7214,-97.72438,-97.77234,-97.7346,-97.7387,-97.72336,-97.71726,-97.72864,-97.74563,-97.72756,-97.73715,-97.76826,-97.74525,-97.74939,-97.74901281385847],\"marker\":{\"color\":\"navy\",\"size\":[2.73,3.62,8.01,13.985,19.555,16.57,4.49,2.145,1.58,2.11,3.02,1.92,2.075,12.945,4.835,0.0,3.76,1.48,9.89,3.67,5.22,2.295,15.54,13.275,8.68,2.47,2.49,2.78,13.81,9.095,1.85,3.93,7.87,8.895,5.065,5.715,7.73,7.665,6.07,4.605,11.55,4.44,7.115,0.0,0.0,0.0,0.0,0.0,0.0,8.6,7.43,1.91,2.7,8.26,3.2,7.445,6.395,2.24,0.845,18.29,20.635,30.045,7.09,12.865,52.16,7.76,13.865,15.855,1.615,2.44,2.215,1.53,1.12,1.02,0.0,0.375,0.0,0.0,0.0,0.0,0.0,0.0,0.0,0.0,0.0,0.0,0.0,0.0,3.85,3.43,2.24,6.325,4.49,11.61,5.72,0.0,0.0,0.0,0.0,0.0,0.0,0.0,0.0]},\"mode\":\"markers\",\"text\":[\"ID: 2570<br>Kiosk Name: South Congress & Academy<br>Rides in 2021: 1305.0<br>Council District: 9.0\",\"ID: 2571<br>Kiosk Name: Red River & 8th Street<br>Rides in 2021: 1512.0<br>Council District: 9.0\",\"ID: 2572<br>Kiosk Name: Barton Springs Pool<br>Rides in 2021: 2167.0<br>Council District: 8.0\",\"ID: 2574<br>Kiosk Name: Zilker Park<br>Rides in 2021: 4325.0<br>Council District: 8.0\",\"ID: 2575<br>Kiosk Name: Riverside @ S. Lamar<br>Rides in 2021: 4916.0<br>Council District: 5.0\",\"ID: 2707<br>Kiosk Name: Rainey St @ Cummings<br>Rides in 2021: 5440.0<br>Council District: 9.0\",\"ID: 2711<br>Kiosk Name: Barton Springs @ Kinney Ave<br>Rides in 2021: 2021.0<br>Council District: 5.0\",\"ID: 2822<br>Kiosk Name: East 6th at Robert Martinez<br>Rides in 2021: 706.0<br>Council District: 3.0\",\"ID: 2823<br>Kiosk Name: Capital Metro HQ - East 5th at Broadway<br>Rides in 2021: 912.0<br>Council District: 3.0\",\"ID: 3291<br>Kiosk Name: 11th & San Jacinto<br>Rides in 2021: 1460.0<br>Council District: 1.0\",\"ID: 3292<br>Kiosk Name: East 4th & Chicon<br>Rides in 2021: 1665.0<br>Council District: 3.0\",\"ID: 3293<br>Kiosk Name: East 2nd & Pedernales<br>Rides in 2021: 1032.0<br>Council District: 3.0\",\"ID: 3294<br>Kiosk Name: Lavaca & 6th<br>Rides in 2021: 684.0<br>Council District: 9.0\",\"ID: 3377<br>Kiosk Name: MoPac Pedestrian Bridge @ Veterans Drive<br>Rides in 2021: 3695.0<br>Council District: 9.0\",\"ID: 3390<br>Kiosk Name: Brazos & 6th<br>Rides in 2021: 1751.0<br>Council District: 9.0\",\"ID: 1111<br>Kiosk Name: 13th & Trinity<br>Rides in 2021: 280.0<br>Council District: 1.0\",\"ID: 2504<br>Kiosk Name: South Congress & Elizabeth<br>Rides in 2021: 1845.0<br>Council District: 9.0\",\"ID: 2537<br>Kiosk Name: West & 6th St.<br>Rides in 2021: 1396.0<br>Council District: 9.0\",\"ID: 2539<br>Kiosk Name: Convention Center / 3rd & Trinity<br>Rides in 2021: 3488.0<br>Council District: 9.0\",\"ID: 2540<br>Kiosk Name: 17th & Guadalupe<br>Rides in 2021: 0.0<br>Council District: 9.0\",\"ID: 2542<br>Kiosk Name: Plaza Saltillo<br>Rides in 2021: 2117.0<br>Council District: 3.0\",\"ID: 2544<br>Kiosk Name: East 6th & Pedernales St.<br>Rides in 2021: 1009.0<br>Council District: 3.0\",\"ID: 2547<br>Kiosk Name: Guadalupe & 21st<br>Rides in 2021: 7479.0<br>Council District: 9.0\",\"ID: 2548<br>Kiosk Name: UT West Mall @ Guadalupe<br>Rides in 2021: 7606.0<br>Council District: 9.0\",\"ID: 2549<br>Kiosk Name: Long Center @ South 1st & Riverside<br>Rides in 2021: 2770.0<br>Council District: 9.0\",\"ID: 2561<br>Kiosk Name: State Capitol Visitors Garage @ San Jacinto & 12th<br>Rides in 2021: 971.0<br>Council District: 1.0\",\"ID: 2562<br>Kiosk Name: San Jacinto & 8th Street<br>Rides in 2021: 593.0<br>Council District: 9.0\",\"ID: 2565<br>Kiosk Name: Trinity & 6th Street<br>Rides in 2021: 947.0<br>Council District: 9.0\",\"ID: 2566<br>Kiosk Name: Pfluger Bridge @ W 2nd Street<br>Rides in 2021: 3570.0<br>Council District: 9.0\",\"ID: 2567<br>Kiosk Name: Palmer Auditorium<br>Rides in 2021: 2867.0<br>Council District: 9.0\",\"ID: 2568<br>Kiosk Name: East 11th St. at Victory Grill<br>Rides in 2021: 708.0<br>Council District: 1.0\",\"ID: 2569<br>Kiosk Name: East 11th St. & San Marcos<br>Rides in 2021: 1015.0<br>Council District: 1.0\",\"ID: 2563<br>Kiosk Name: Rainey/Driskill<br>Rides in 2021: 2999.0<br>Council District: 9.0\",\"ID: 2494<br>Kiosk Name: 2nd & Congress<br>Rides in 2021: 3056.0<br>Council District: 9.0\",\"ID: 2495<br>Kiosk Name: 4th & Congress<br>Rides in 2021: 2542.0<br>Council District: 9.0\",\"ID: 2496<br>Kiosk Name: 8th & Congress<br>Rides in 2021: 1293.0<br>Council District: 9.0\",\"ID: 2497<br>Kiosk Name: Capitol Station / Congress & 11th<br>Rides in 2021: 2828.0<br>Council District: 1.0\",\"ID: 2499<br>Kiosk Name: City Hall / Lavaca & 2nd<br>Rides in 2021: 2579.0<br>Council District: 9.0\",\"ID: 2501<br>Kiosk Name: 5th & Bowie<br>Rides in 2021: 3073.0<br>Council District: 9.0\",\"ID: 2503<br>Kiosk Name: South Congress & James<br>Rides in 2021: 1333.0<br>Council District: 9.0\",\"ID: 2552<br>Kiosk Name: 3rd & West<br>Rides in 2021: 4966.0<br>Council District: 9.0\",\"ID: 3455<br>Kiosk Name: Republic Square @ 5th & Guadalupe<br>Rides in 2021: 1800.0<br>Council District: 9.0\",\"ID: 3621<br>Kiosk Name: Nueces & 3rd<br>Rides in 2021: 2835.0<br>Council District: 9.0\",\"ID: 3464<br>Kiosk Name: Pease Park<br>Rides in 2021: 0.0<br>Council District: 9.0\",\"ID: 4699<br>Kiosk Name: East 5th/Shady @ Eastside Bus Plaza<br>Rides in 2021: 637.0<br>Council District: 3.0\",\"ID: 4879<br>Kiosk Name: 16th/San Antonio<br>Rides in 2021: 2336.0<br>Council District: 9.0\",\"ID: 111<br>Kiosk Name: 23rd & San Gabriel<br>Rides in 2021: 2130.0<br>Council District: 9.0\",\"ID: 11<br>Kiosk Name: 22nd 1/2 & Rio Grande<br>Rides in 2021: 1838.0<br>Council District: 9.0\",\"ID: 2498<br>Kiosk Name: 4th/Sabine<br>Rides in 2021: 1230.0<br>Council District: 9.0\",\"ID: 3513<br>Kiosk Name: South Congress & Barton Springs at the Austin American-Statesman<br>Rides in 2021: 2570.0<br>Council District: 9.0\",\"ID: 3619<br>Kiosk Name: 6th & Congress<br>Rides in 2021: 3526.0<br>Council District: 9.0\",\"ID: 3635<br>Kiosk Name: 13th & San Antonio<br>Rides in 2021: 0.0<br>Council District: 9.0\",\"ID: 3660<br>Kiosk Name: Medina & East 6th<br>Rides in 2021: 2612.0<br>Council District: 3.0\",\"ID: 3684<br>Kiosk Name: Congress & Cesar Chavez<br>Rides in 2021: 1879.0<br>Council District: 9.0\",\"ID: 3685<br>Kiosk Name: Henderson & 9th<br>Rides in 2021: 1792.0<br>Council District: 9.0\",\"ID: 3686<br>Kiosk Name: Sterzing at Barton Springs<br>Rides in 2021: 2755.0<br>Council District: 5.0\",\"ID: 3687<br>Kiosk Name: Boardwalk West<br>Rides in 2021: 3362.0<br>Council District: 9.0\",\"ID: 3790<br>Kiosk Name: Lake Austin Blvd @ Deep Eddy<br>Rides in 2021: 1496.0<br>Council District: 10.0\",\"ID: 3791<br>Kiosk Name: Lake Austin & Enfield<br>Rides in 2021: 1001.0<br>Council District: 10.0\",\"ID: 3792<br>Kiosk Name: 22nd & Pearl<br>Rides in 2021: 7532.0<br>Council District: 9.0\",\"ID: 3793<br>Kiosk Name: Rio Grande & 28th<br>Rides in 2021: 9795.0<br>Council District: 9.0\",\"ID: 3794<br>Kiosk Name: Dean Keeton & Speedway<br>Rides in 2021: 7445.0<br>Council District: 9.0\",\"ID: 3795<br>Kiosk Name: Dean Keeton & Whitis<br>Rides in 2021: 8430.0<br>Council District: 9.0\",\"ID: 3797<br>Kiosk Name: 21st & University<br>Rides in 2021: 4747.0<br>Council District: 9.0\",\"ID: 3798<br>Kiosk Name: 21st & Speedway @PCL<br>Rides in 2021: 17665.0<br>Council District: 9.0\",\"ID: 3799<br>Kiosk Name: 23rd & San Jacinto @ DKR Stadium<br>Rides in 2021: 4637.0<br>Council District: 1.0\",\"ID: 3838<br>Kiosk Name: Nueces & 26th<br>Rides in 2021: 6808.0<br>Council District: 9.0\",\"ID: 3841<br>Kiosk Name: 23rd & Rio Grande<br>Rides in 2021: 3792.0<br>Council District: 9.0\",\"ID: 4047<br>Kiosk Name: 8th & Lavaca<br>Rides in 2021: 1300.0<br>Council District: 9.0\",\"ID: 4048<br>Kiosk Name: South Congress @ Bouldin Creek<br>Rides in 2021: 2002.0<br>Council District: 9.0\",\"ID: 4050<br>Kiosk Name: 5th & Campbell<br>Rides in 2021: 1177.0<br>Council District: 9.0\",\"ID: 4051<br>Kiosk Name: 10th & Red River<br>Rides in 2021: 547.0<br>Council District: 1.0\",\"ID: 4052<br>Kiosk Name: Rosewood & Angelina<br>Rides in 2021: 493.0<br>Council District: 1.0\",\"ID: 4054<br>Kiosk Name: Rosewood & Chicon<br>Rides in 2021: 434.0<br>Council District: 1.0\",\"ID: 2500<br>Kiosk Name: Republic Square<br>Rides in 2021: 0.0<br>Council District: 9.0\",\"ID: 2502<br>Kiosk Name: Barton Springs & Riverside<br>Rides in 2021: 0.0<br>Council District: 9.0\",\"ID: 2536<br>Kiosk Name: Waller & 6th St.<br>Rides in 2021: 0.0<br>Council District: 3.0\",\"ID: 2538<br>Kiosk Name: Bullock Museum @ Congress & MLK<br>Rides in 2021: 0.0<br>Council District: 1.0\",\"ID: 2541<br>Kiosk Name: State Capitol @ 14th & Colorado<br>Rides in 2021: 0.0<br>Council District: 1.0\",\"ID: 2545<br>Kiosk Name: ACC - Rio Grande & 12th<br>Rides in 2021: 0.0<br>Council District: 9.0\",\"ID: 2546<br>Kiosk Name: ACC - West & 12th Street<br>Rides in 2021: 0.0<br>Council District: 9.0\",\"ID: 2550<br>Kiosk Name: 4th/Guadalupe @ Republic Square<br>Rides in 2021: 0.0<br>Council District: 9.0\",\"ID: 2564<br>Kiosk Name: 5th & San Marcos<br>Rides in 2021: 0.0<br>Council District: 3.0\",\"ID: 2576<br>Kiosk Name: Rainey @ River St<br>Rides in 2021: 0.0<br>Council District: 9.0\",\"ID: 2712<br>Kiosk Name: Toomey Rd @ South Lamar<br>Rides in 2021: 0.0<br>Council District: 5.0\",\"ID: 3381<br>Kiosk Name: East 7th & Pleasant Valley<br>Rides in 2021: 0.0<br>Council District: 3.0\",\"ID: 0<br>Kiosk Name: South Congress/Mary<br>Rides in 2021: 0.0<br>Council District: 9.0\",\"ID: 1001<br>Kiosk Name: OFFICE/Main/Shop/Repair<br>Rides in 2021: 0.0<br>Council District: 1.0\",\"ID: 4055<br>Kiosk Name: 11th & Salina<br>Rides in 2021: 386.0<br>Council District: 1.0\",\"ID: 4057<br>Kiosk Name: 6th & Chalmers<br>Rides in 2021: 1729.0<br>Council District: 3.0\",\"ID: 4058<br>Kiosk Name: Hollow Creek & Barton Hills<br>Rides in 2021: 1113.0<br>Council District: 5.0\",\"ID: 4059<br>Kiosk Name: Nash Hernandez @ RBJ South<br>Rides in 2021: 3222.0<br>Council District: 3.0\",\"ID: 4060<br>Kiosk Name: Red River/Cesar Chavez @ The Fairmont<br>Rides in 2021: 1874.0<br>Council District: 9.0\",\"ID: 4061<br>Kiosk Name: Lakeshore @ Austin Hostel<br>Rides in 2021: 4798.0<br>Council District: 3.0\",\"ID: 4062<br>Kiosk Name: Lakeshore & Pleasant Valley<br>Rides in 2021: 3349.0<br>Council District: 3.0\",\"ID: 1002<br>Kiosk Name: 6th & Navasota St.<br>Rides in 2021: 0.0<br>Council District: 3.0\",\"ID: 1003<br>Kiosk Name: 8th & Guadalupe<br>Rides in 2021: 0.0<br>Council District: 9.0\",\"ID: 1004<br>Kiosk Name: Red River & LBJ Library<br>Rides in 2021: 0.0<br>Council District: 1.0\",\"ID: 1005<br>Kiosk Name: State Parking Garage @ Brazos & 18th<br>Rides in 2021: 0.0<br>Council District: 1.0\",\"ID: 1006<br>Kiosk Name: Zilker Park West<br>Rides in 2021: 0.0<br>Council District: 8.0\",\"ID: 1007<br>Kiosk Name: Lavaca & 6th<br>Rides in 2021: 0.0<br>Council District: 9.0\",\"ID: 1008<br>Kiosk Name: Nueces @ 3rd<br>Rides in 2021: 0.0<br>Council District: 9.0\",\"ID: 7186<br>Kiosk Name: One Texas Center<br>Rides in 2021: 0.0<br>Council District: nan\"],\"type\":\"scattermapbox\"}],                        {\"autosize\":false,\"height\":500,\"hovermode\":\"closest\",\"mapbox\":{\"accesstoken\":\"pk.eyJ1IjoiZmx5aW5nY2FwZSIsImEiOiJjbDd0YWZnc2YwZ3ZzM29yeDQ4bDl3dHZtIn0.q09s_595pGToclUeM8ojQQ\",\"bearing\":0,\"center\":{\"lat\":30.268485,\"lon\":-97.74091},\"pitch\":0,\"style\":\"streets\",\"zoom\":12.25},\"margin\":{\"b\":0.5,\"l\":0.5,\"pad\":0.2,\"r\":0.5,\"t\":0.5},\"paper_bgcolor\":\"White\",\"template\":{\"data\":{\"bar\":[{\"error_x\":{\"color\":\"#2a3f5f\"},\"error_y\":{\"color\":\"#2a3f5f\"},\"marker\":{\"line\":{\"color\":\"#E5ECF6\",\"width\":0.5},\"pattern\":{\"fillmode\":\"overlay\",\"size\":10,\"solidity\":0.2}},\"type\":\"bar\"}],\"barpolar\":[{\"marker\":{\"line\":{\"color\":\"#E5ECF6\",\"width\":0.5},\"pattern\":{\"fillmode\":\"overlay\",\"size\":10,\"solidity\":0.2}},\"type\":\"barpolar\"}],\"carpet\":[{\"aaxis\":{\"endlinecolor\":\"#2a3f5f\",\"gridcolor\":\"white\",\"linecolor\":\"white\",\"minorgridcolor\":\"white\",\"startlinecolor\":\"#2a3f5f\"},\"baxis\":{\"endlinecolor\":\"#2a3f5f\",\"gridcolor\":\"white\",\"linecolor\":\"white\",\"minorgridcolor\":\"white\",\"startlinecolor\":\"#2a3f5f\"},\"type\":\"carpet\"}],\"choropleth\":[{\"colorbar\":{\"outlinewidth\":0,\"ticks\":\"\"},\"type\":\"choropleth\"}],\"contour\":[{\"colorbar\":{\"outlinewidth\":0,\"ticks\":\"\"},\"colorscale\":[[0.0,\"#0d0887\"],[0.1111111111111111,\"#46039f\"],[0.2222222222222222,\"#7201a8\"],[0.3333333333333333,\"#9c179e\"],[0.4444444444444444,\"#bd3786\"],[0.5555555555555556,\"#d8576b\"],[0.6666666666666666,\"#ed7953\"],[0.7777777777777778,\"#fb9f3a\"],[0.8888888888888888,\"#fdca26\"],[1.0,\"#f0f921\"]],\"type\":\"contour\"}],\"contourcarpet\":[{\"colorbar\":{\"outlinewidth\":0,\"ticks\":\"\"},\"type\":\"contourcarpet\"}],\"heatmap\":[{\"colorbar\":{\"outlinewidth\":0,\"ticks\":\"\"},\"colorscale\":[[0.0,\"#0d0887\"],[0.1111111111111111,\"#46039f\"],[0.2222222222222222,\"#7201a8\"],[0.3333333333333333,\"#9c179e\"],[0.4444444444444444,\"#bd3786\"],[0.5555555555555556,\"#d8576b\"],[0.6666666666666666,\"#ed7953\"],[0.7777777777777778,\"#fb9f3a\"],[0.8888888888888888,\"#fdca26\"],[1.0,\"#f0f921\"]],\"type\":\"heatmap\"}],\"heatmapgl\":[{\"colorbar\":{\"outlinewidth\":0,\"ticks\":\"\"},\"colorscale\":[[0.0,\"#0d0887\"],[0.1111111111111111,\"#46039f\"],[0.2222222222222222,\"#7201a8\"],[0.3333333333333333,\"#9c179e\"],[0.4444444444444444,\"#bd3786\"],[0.5555555555555556,\"#d8576b\"],[0.6666666666666666,\"#ed7953\"],[0.7777777777777778,\"#fb9f3a\"],[0.8888888888888888,\"#fdca26\"],[1.0,\"#f0f921\"]],\"type\":\"heatmapgl\"}],\"histogram\":[{\"marker\":{\"pattern\":{\"fillmode\":\"overlay\",\"size\":10,\"solidity\":0.2}},\"type\":\"histogram\"}],\"histogram2d\":[{\"colorbar\":{\"outlinewidth\":0,\"ticks\":\"\"},\"colorscale\":[[0.0,\"#0d0887\"],[0.1111111111111111,\"#46039f\"],[0.2222222222222222,\"#7201a8\"],[0.3333333333333333,\"#9c179e\"],[0.4444444444444444,\"#bd3786\"],[0.5555555555555556,\"#d8576b\"],[0.6666666666666666,\"#ed7953\"],[0.7777777777777778,\"#fb9f3a\"],[0.8888888888888888,\"#fdca26\"],[1.0,\"#f0f921\"]],\"type\":\"histogram2d\"}],\"histogram2dcontour\":[{\"colorbar\":{\"outlinewidth\":0,\"ticks\":\"\"},\"colorscale\":[[0.0,\"#0d0887\"],[0.1111111111111111,\"#46039f\"],[0.2222222222222222,\"#7201a8\"],[0.3333333333333333,\"#9c179e\"],[0.4444444444444444,\"#bd3786\"],[0.5555555555555556,\"#d8576b\"],[0.6666666666666666,\"#ed7953\"],[0.7777777777777778,\"#fb9f3a\"],[0.8888888888888888,\"#fdca26\"],[1.0,\"#f0f921\"]],\"type\":\"histogram2dcontour\"}],\"mesh3d\":[{\"colorbar\":{\"outlinewidth\":0,\"ticks\":\"\"},\"type\":\"mesh3d\"}],\"parcoords\":[{\"line\":{\"colorbar\":{\"outlinewidth\":0,\"ticks\":\"\"}},\"type\":\"parcoords\"}],\"pie\":[{\"automargin\":true,\"type\":\"pie\"}],\"scatter\":[{\"marker\":{\"colorbar\":{\"outlinewidth\":0,\"ticks\":\"\"}},\"type\":\"scatter\"}],\"scatter3d\":[{\"line\":{\"colorbar\":{\"outlinewidth\":0,\"ticks\":\"\"}},\"marker\":{\"colorbar\":{\"outlinewidth\":0,\"ticks\":\"\"}},\"type\":\"scatter3d\"}],\"scattercarpet\":[{\"marker\":{\"colorbar\":{\"outlinewidth\":0,\"ticks\":\"\"}},\"type\":\"scattercarpet\"}],\"scattergeo\":[{\"marker\":{\"colorbar\":{\"outlinewidth\":0,\"ticks\":\"\"}},\"type\":\"scattergeo\"}],\"scattergl\":[{\"marker\":{\"colorbar\":{\"outlinewidth\":0,\"ticks\":\"\"}},\"type\":\"scattergl\"}],\"scattermapbox\":[{\"marker\":{\"colorbar\":{\"outlinewidth\":0,\"ticks\":\"\"}},\"type\":\"scattermapbox\"}],\"scatterpolar\":[{\"marker\":{\"colorbar\":{\"outlinewidth\":0,\"ticks\":\"\"}},\"type\":\"scatterpolar\"}],\"scatterpolargl\":[{\"marker\":{\"colorbar\":{\"outlinewidth\":0,\"ticks\":\"\"}},\"type\":\"scatterpolargl\"}],\"scatterternary\":[{\"marker\":{\"colorbar\":{\"outlinewidth\":0,\"ticks\":\"\"}},\"type\":\"scatterternary\"}],\"surface\":[{\"colorbar\":{\"outlinewidth\":0,\"ticks\":\"\"},\"colorscale\":[[0.0,\"#0d0887\"],[0.1111111111111111,\"#46039f\"],[0.2222222222222222,\"#7201a8\"],[0.3333333333333333,\"#9c179e\"],[0.4444444444444444,\"#bd3786\"],[0.5555555555555556,\"#d8576b\"],[0.6666666666666666,\"#ed7953\"],[0.7777777777777778,\"#fb9f3a\"],[0.8888888888888888,\"#fdca26\"],[1.0,\"#f0f921\"]],\"type\":\"surface\"}],\"table\":[{\"cells\":{\"fill\":{\"color\":\"#EBF0F8\"},\"line\":{\"color\":\"white\"}},\"header\":{\"fill\":{\"color\":\"#C8D4E3\"},\"line\":{\"color\":\"white\"}},\"type\":\"table\"}]},\"layout\":{\"annotationdefaults\":{\"arrowcolor\":\"#2a3f5f\",\"arrowhead\":0,\"arrowwidth\":1},\"autotypenumbers\":\"strict\",\"coloraxis\":{\"colorbar\":{\"outlinewidth\":0,\"ticks\":\"\"}},\"colorscale\":{\"diverging\":[[0,\"#8e0152\"],[0.1,\"#c51b7d\"],[0.2,\"#de77ae\"],[0.3,\"#f1b6da\"],[0.4,\"#fde0ef\"],[0.5,\"#f7f7f7\"],[0.6,\"#e6f5d0\"],[0.7,\"#b8e186\"],[0.8,\"#7fbc41\"],[0.9,\"#4d9221\"],[1,\"#276419\"]],\"sequential\":[[0.0,\"#0d0887\"],[0.1111111111111111,\"#46039f\"],[0.2222222222222222,\"#7201a8\"],[0.3333333333333333,\"#9c179e\"],[0.4444444444444444,\"#bd3786\"],[0.5555555555555556,\"#d8576b\"],[0.6666666666666666,\"#ed7953\"],[0.7777777777777778,\"#fb9f3a\"],[0.8888888888888888,\"#fdca26\"],[1.0,\"#f0f921\"]],\"sequentialminus\":[[0.0,\"#0d0887\"],[0.1111111111111111,\"#46039f\"],[0.2222222222222222,\"#7201a8\"],[0.3333333333333333,\"#9c179e\"],[0.4444444444444444,\"#bd3786\"],[0.5555555555555556,\"#d8576b\"],[0.6666666666666666,\"#ed7953\"],[0.7777777777777778,\"#fb9f3a\"],[0.8888888888888888,\"#fdca26\"],[1.0,\"#f0f921\"]]},\"colorway\":[\"#636efa\",\"#EF553B\",\"#00cc96\",\"#ab63fa\",\"#FFA15A\",\"#19d3f3\",\"#FF6692\",\"#B6E880\",\"#FF97FF\",\"#FECB52\"],\"font\":{\"color\":\"#2a3f5f\"},\"geo\":{\"bgcolor\":\"white\",\"lakecolor\":\"white\",\"landcolor\":\"#E5ECF6\",\"showlakes\":true,\"showland\":true,\"subunitcolor\":\"white\"},\"hoverlabel\":{\"align\":\"left\"},\"hovermode\":\"closest\",\"mapbox\":{\"style\":\"light\"},\"paper_bgcolor\":\"white\",\"plot_bgcolor\":\"#E5ECF6\",\"polar\":{\"angularaxis\":{\"gridcolor\":\"white\",\"linecolor\":\"white\",\"ticks\":\"\"},\"bgcolor\":\"#E5ECF6\",\"radialaxis\":{\"gridcolor\":\"white\",\"linecolor\":\"white\",\"ticks\":\"\"}},\"scene\":{\"xaxis\":{\"backgroundcolor\":\"#E5ECF6\",\"gridcolor\":\"white\",\"gridwidth\":2,\"linecolor\":\"white\",\"showbackground\":true,\"ticks\":\"\",\"zerolinecolor\":\"white\"},\"yaxis\":{\"backgroundcolor\":\"#E5ECF6\",\"gridcolor\":\"white\",\"gridwidth\":2,\"linecolor\":\"white\",\"showbackground\":true,\"ticks\":\"\",\"zerolinecolor\":\"white\"},\"zaxis\":{\"backgroundcolor\":\"#E5ECF6\",\"gridcolor\":\"white\",\"gridwidth\":2,\"linecolor\":\"white\",\"showbackground\":true,\"ticks\":\"\",\"zerolinecolor\":\"white\"}},\"shapedefaults\":{\"line\":{\"color\":\"#2a3f5f\"}},\"ternary\":{\"aaxis\":{\"gridcolor\":\"white\",\"linecolor\":\"white\",\"ticks\":\"\"},\"baxis\":{\"gridcolor\":\"white\",\"linecolor\":\"white\",\"ticks\":\"\"},\"bgcolor\":\"#E5ECF6\",\"caxis\":{\"gridcolor\":\"white\",\"linecolor\":\"white\",\"ticks\":\"\"}},\"title\":{\"x\":0.05},\"xaxis\":{\"automargin\":true,\"gridcolor\":\"white\",\"linecolor\":\"white\",\"ticks\":\"\",\"title\":{\"standoff\":15},\"zerolinecolor\":\"white\",\"zerolinewidth\":2},\"yaxis\":{\"automargin\":true,\"gridcolor\":\"white\",\"linecolor\":\"white\",\"ticks\":\"\",\"title\":{\"standoff\":15},\"zerolinecolor\":\"white\",\"zerolinewidth\":2}}},\"width\":750},                        {\"responsive\": true}                    ).then(function(){\n",
       "                            \n",
       "var gd = document.getElementById('05c1f563-67a6-4132-834a-f80e185aefb3');\n",
       "var x = new MutationObserver(function (mutations, observer) {{\n",
       "        var display = window.getComputedStyle(gd).display;\n",
       "        if (!display || display === 'none') {{\n",
       "            console.log([gd, 'removed!']);\n",
       "            Plotly.purge(gd);\n",
       "            observer.disconnect();\n",
       "        }}\n",
       "}});\n",
       "\n",
       "// Listen for the removal of the full notebook cells\n",
       "var notebookContainer = gd.closest('#notebook-container');\n",
       "if (notebookContainer) {{\n",
       "    x.observe(notebookContainer, {childList: true});\n",
       "}}\n",
       "\n",
       "// Listen for the clearing of the current output cell\n",
       "var outputEl = gd.closest('.output');\n",
       "if (outputEl) {{\n",
       "    x.observe(outputEl, {childList: true});\n",
       "}}\n",
       "\n",
       "                        })                };                });            </script>        </div>"
      ]
     },
     "metadata": {},
     "output_type": "display_data"
    }
   ],
   "source": [
    "#https://plotly.com/python/scattermapbox/\n",
    "    \n",
    "import plotly.graph_objects as go\n",
    "\n",
    "mapbox_access_token = \"pk.eyJ1IjoiZmx5aW5nY2FwZSIsImEiOiJjbDd0YWZnc2YwZ3ZzM29yeDQ4bDl3dHZtIn0.q09s_595pGToclUeM8ojQQ\"\n",
    "\n",
    "fig = go.Figure(go.Scattermapbox(\n",
    "        lat = kiosk_geo['Latitude'],\n",
    "        lon = kiosk_geo['Longitude'],\n",
    "        text = kiosk_geo['text'],\n",
    "        mode='markers',\n",
    "        marker=go.scattermapbox.Marker(\n",
    "            size = kiosk_geo['Num_Rides_2019']/200, color = \"navy\",\n",
    "        ), \n",
    "        ))\n",
    "\n",
    "fig.update_layout(\n",
    "    hovermode='closest',\n",
    "    mapbox=dict(\n",
    "        accesstoken=mapbox_access_token,\n",
    "        bearing=0,\n",
    "        center=go.layout.mapbox.Center(\n",
    "            lat=(kiosk_geo['Latitude'].min()+kiosk_geo['Latitude'].max())/2,\n",
    "            lon=(kiosk_geo['Longitude'].min()+kiosk_geo['Longitude'].max())/2\n",
    "        ),\n",
    "        pitch=0,\n",
    "        zoom=12.25,\n",
    "        style = 'streets'\n",
    "    ),\n",
    ")\n",
    "\n",
    "fig.update_layout(\n",
    "    autosize=False,\n",
    "    width=750,\n",
    "    height=500,\n",
    "        margin=dict(\n",
    "        l=0.5,\n",
    "        r=0.5,\n",
    "        b=0.5,\n",
    "        t=0.5,\n",
    "        pad=0.20\n",
    "    ),\n",
    "    paper_bgcolor=\"White\",\n",
    ")\n",
    "#fig.add_annotation(x=0.96, y=1.10,\n",
    "#            text=\"Austin, TX, USA<br> MetroBike Kiosk Stations\",\n",
    "#                  showarrow=False)\n",
    "fig.show()"
   ]
  },
  {
   "cell_type": "code",
   "execution_count": 52,
   "id": "53a6691b",
   "metadata": {},
   "outputs": [
    {
     "data": {
      "application/vnd.plotly.v1+json": {
       "config": {
        "plotlyServerURL": "https://plotly.com"
       },
       "data": [
        {
         "lat": [
          30.25226,
          30.26854,
          30.26452,
          30.2659,
          30.26446,
          30.255906,
          30.262,
          30.26032,
          30.2563,
          30.27193,
          30.25987,
          30.25542,
          30.268887,
          30.27466,
          30.26754,
          30.2741,
          30.24891,
          30.27041,
          30.26426,
          30.27974,
          30.26217,
          30.25895,
          30.28395,
          30.28576,
          30.25941,
          30.27336,
          30.26912,
          30.26735,
          30.26717,
          30.25971,
          30.26896,
          30.26968,
          30.260814,
          30.26408,
          30.26634,
          30.2698,
          30.2726,
          30.26476,
          30.2696,
          30.25103,
          30.2678,
          30.26753,
          30.26697,
          30.28118,
          30.25212,
          30.27924,
          30.2874,
          30.2862,
          30.264327,
          30.25839,
          30.26822,
          30.27616,
          30.26455,
          30.26332,
          30.27217,
          30.26406,
          30.25457,
          30.27807,
          30.29439,
          30.2853,
          30.29333,
          30.28953,
          30.2898,
          30.28354,
          30.283,
          30.2856,
          30.29068,
          30.28728,
          30.27059,
          30.25495,
          30.27489,
          30.27024,
          30.26888,
          30.26969,
          30.26751,
          30.2587,
          30.26461,
          30.28039,
          30.27654,
          30.27595,
          30.27624,
          30.267263,
          30.26416,
          30.25802,
          30.26304,
          30.26025,
          30.244961,
          30.27186,
          30.26638,
          30.26269,
          30.26139,
          30.252,
          30.26214,
          30.24472,
          30.24258,
          30.26383,
          30.27106,
          30.2848,
          30.27907,
          30.26587,
          30.26889,
          30.26694,
          30.257595316333752
         ],
         "lon": [
          -97.74854,
          -97.73646,
          -97.7712,
          -97.76822,
          -97.75665,
          -97.739949,
          -97.76118,
          -97.71899,
          -97.71007,
          -97.73854,
          -97.72373,
          -97.71665,
          -97.745242,
          -97.77028,
          -97.74154,
          -97.73666,
          -97.75019,
          -97.75046,
          -97.74023,
          -97.74254,
          -97.72743,
          -97.71475,
          -97.74198,
          -97.74181,
          -97.74971,
          -97.73805,
          -97.73986,
          -97.73933,
          -97.75484,
          -97.75346,
          -97.72843,
          -97.73074,
          -97.738086,
          -97.74355,
          -97.74378,
          -97.74186,
          -97.74127,
          -97.74678,
          -97.75332,
          -97.74926,
          -97.75189,
          -97.74805,
          -97.74929,
          -97.75219,
          -97.69807,
          -97.74371,
          -97.7478,
          -97.74516,
          -97.736446,
          -97.74592,
          -97.74285,
          -97.74488,
          -97.73165,
          -97.74508,
          -97.75246,
          -97.76385,
          -97.74258,
          -97.77272,
          -97.78375,
          -97.7467,
          -97.74412,
          -97.73695,
          -97.74041,
          -97.73953,
          -97.7375,
          -97.7335,
          -97.74292,
          -97.74495,
          -97.74441,
          -97.74755,
          -97.76483,
          -97.73578,
          -97.72431,
          -97.71873,
          -97.74802,
          -97.74872,
          -97.73049,
          -97.73809,
          -97.74155,
          -97.74739,
          -97.74831,
          -97.747144,
          -97.73289,
          -97.7391,
          -97.75824,
          -97.71002,
          -97.751272,
          -97.73997,
          -97.7214,
          -97.72438,
          -97.77234,
          -97.7346,
          -97.7387,
          -97.72336,
          -97.71726,
          -97.72864,
          -97.74563,
          -97.72756,
          -97.73715,
          -97.76826,
          -97.74525,
          -97.74939,
          -97.74901281385847
         ],
         "marker": {
          "color": "navy",
          "size": [
           3.195,
           3.245,
           6.315,
           15.34,
           20.135,
           19.85,
           6.69,
           2.965,
           2.485,
           5.155,
           3.07,
           2.57,
           1.75,
           13.66,
           4.89,
           0,
           4.89,
           3.125,
           9.755,
           0.925,
           6.125,
           4.7,
           10.99,
           7.485,
           11.025,
           3.82,
           1.995,
           1.9,
           15.195,
           8.475,
           1.39,
           2.435,
           9.405,
           8.845,
           7.11,
           3.71,
           7.71,
           9.255,
           11.615,
           3.385,
           14.01,
           5.86,
           10.09,
           0,
           0.085,
           0,
           0,
           0,
           4.145,
           8.645,
           7.425,
           2.31,
           6.925,
           4.26,
           4.145,
           9.825,
           11.11,
           3.885,
           3.71,
           7.82,
           12.855,
           5.97,
           6.905,
           5.525,
           14.025,
           5.325,
           8.69,
           10.55,
           2.525,
           5.775,
           4.52,
           0.855,
           1.45,
           1.42,
           0,
           0,
           0,
           0,
           0,
           0,
           0,
           0,
           0,
           0,
           0,
           0,
           0,
           0,
           1.385,
           4.035,
           3.89,
           10.36,
           5.09,
           17.405,
           12.21,
           0,
           0,
           0,
           0,
           0,
           0,
           0,
           0
          ]
         },
         "mode": "markers",
         "text": [
          "ID: 2570<br>Kiosk Name: South Congress & Academy<br>Rides in 2021: 1305.0<br>Council District: 9.0",
          "ID: 2571<br>Kiosk Name: Red River & 8th Street<br>Rides in 2021: 1512.0<br>Council District: 9.0",
          "ID: 2572<br>Kiosk Name: Barton Springs Pool<br>Rides in 2021: 2167.0<br>Council District: 8.0",
          "ID: 2574<br>Kiosk Name: Zilker Park<br>Rides in 2021: 4325.0<br>Council District: 8.0",
          "ID: 2575<br>Kiosk Name: Riverside @ S. Lamar<br>Rides in 2021: 4916.0<br>Council District: 5.0",
          "ID: 2707<br>Kiosk Name: Rainey St @ Cummings<br>Rides in 2021: 5440.0<br>Council District: 9.0",
          "ID: 2711<br>Kiosk Name: Barton Springs @ Kinney Ave<br>Rides in 2021: 2021.0<br>Council District: 5.0",
          "ID: 2822<br>Kiosk Name: East 6th at Robert Martinez<br>Rides in 2021: 706.0<br>Council District: 3.0",
          "ID: 2823<br>Kiosk Name: Capital Metro HQ - East 5th at Broadway<br>Rides in 2021: 912.0<br>Council District: 3.0",
          "ID: 3291<br>Kiosk Name: 11th & San Jacinto<br>Rides in 2021: 1460.0<br>Council District: 1.0",
          "ID: 3292<br>Kiosk Name: East 4th & Chicon<br>Rides in 2021: 1665.0<br>Council District: 3.0",
          "ID: 3293<br>Kiosk Name: East 2nd & Pedernales<br>Rides in 2021: 1032.0<br>Council District: 3.0",
          "ID: 3294<br>Kiosk Name: Lavaca & 6th<br>Rides in 2021: 684.0<br>Council District: 9.0",
          "ID: 3377<br>Kiosk Name: MoPac Pedestrian Bridge @ Veterans Drive<br>Rides in 2021: 3695.0<br>Council District: 9.0",
          "ID: 3390<br>Kiosk Name: Brazos & 6th<br>Rides in 2021: 1751.0<br>Council District: 9.0",
          "ID: 1111<br>Kiosk Name: 13th & Trinity<br>Rides in 2021: 280.0<br>Council District: 1.0",
          "ID: 2504<br>Kiosk Name: South Congress & Elizabeth<br>Rides in 2021: 1845.0<br>Council District: 9.0",
          "ID: 2537<br>Kiosk Name: West & 6th St.<br>Rides in 2021: 1396.0<br>Council District: 9.0",
          "ID: 2539<br>Kiosk Name: Convention Center / 3rd & Trinity<br>Rides in 2021: 3488.0<br>Council District: 9.0",
          "ID: 2540<br>Kiosk Name: 17th & Guadalupe<br>Rides in 2021: 0.0<br>Council District: 9.0",
          "ID: 2542<br>Kiosk Name: Plaza Saltillo<br>Rides in 2021: 2117.0<br>Council District: 3.0",
          "ID: 2544<br>Kiosk Name: East 6th & Pedernales St.<br>Rides in 2021: 1009.0<br>Council District: 3.0",
          "ID: 2547<br>Kiosk Name: Guadalupe & 21st<br>Rides in 2021: 7479.0<br>Council District: 9.0",
          "ID: 2548<br>Kiosk Name: UT West Mall @ Guadalupe<br>Rides in 2021: 7606.0<br>Council District: 9.0",
          "ID: 2549<br>Kiosk Name: Long Center @ South 1st & Riverside<br>Rides in 2021: 2770.0<br>Council District: 9.0",
          "ID: 2561<br>Kiosk Name: State Capitol Visitors Garage @ San Jacinto & 12th<br>Rides in 2021: 971.0<br>Council District: 1.0",
          "ID: 2562<br>Kiosk Name: San Jacinto & 8th Street<br>Rides in 2021: 593.0<br>Council District: 9.0",
          "ID: 2565<br>Kiosk Name: Trinity & 6th Street<br>Rides in 2021: 947.0<br>Council District: 9.0",
          "ID: 2566<br>Kiosk Name: Pfluger Bridge @ W 2nd Street<br>Rides in 2021: 3570.0<br>Council District: 9.0",
          "ID: 2567<br>Kiosk Name: Palmer Auditorium<br>Rides in 2021: 2867.0<br>Council District: 9.0",
          "ID: 2568<br>Kiosk Name: East 11th St. at Victory Grill<br>Rides in 2021: 708.0<br>Council District: 1.0",
          "ID: 2569<br>Kiosk Name: East 11th St. & San Marcos<br>Rides in 2021: 1015.0<br>Council District: 1.0",
          "ID: 2563<br>Kiosk Name: Rainey/Driskill<br>Rides in 2021: 2999.0<br>Council District: 9.0",
          "ID: 2494<br>Kiosk Name: 2nd & Congress<br>Rides in 2021: 3056.0<br>Council District: 9.0",
          "ID: 2495<br>Kiosk Name: 4th & Congress<br>Rides in 2021: 2542.0<br>Council District: 9.0",
          "ID: 2496<br>Kiosk Name: 8th & Congress<br>Rides in 2021: 1293.0<br>Council District: 9.0",
          "ID: 2497<br>Kiosk Name: Capitol Station / Congress & 11th<br>Rides in 2021: 2828.0<br>Council District: 1.0",
          "ID: 2499<br>Kiosk Name: City Hall / Lavaca & 2nd<br>Rides in 2021: 2579.0<br>Council District: 9.0",
          "ID: 2501<br>Kiosk Name: 5th & Bowie<br>Rides in 2021: 3073.0<br>Council District: 9.0",
          "ID: 2503<br>Kiosk Name: South Congress & James<br>Rides in 2021: 1333.0<br>Council District: 9.0",
          "ID: 2552<br>Kiosk Name: 3rd & West<br>Rides in 2021: 4966.0<br>Council District: 9.0",
          "ID: 3455<br>Kiosk Name: Republic Square @ 5th & Guadalupe<br>Rides in 2021: 1800.0<br>Council District: 9.0",
          "ID: 3621<br>Kiosk Name: Nueces & 3rd<br>Rides in 2021: 2835.0<br>Council District: 9.0",
          "ID: 3464<br>Kiosk Name: Pease Park<br>Rides in 2021: 0.0<br>Council District: 9.0",
          "ID: 4699<br>Kiosk Name: East 5th/Shady @ Eastside Bus Plaza<br>Rides in 2021: 637.0<br>Council District: 3.0",
          "ID: 4879<br>Kiosk Name: 16th/San Antonio<br>Rides in 2021: 2336.0<br>Council District: 9.0",
          "ID: 111<br>Kiosk Name: 23rd & San Gabriel<br>Rides in 2021: 2130.0<br>Council District: 9.0",
          "ID: 11<br>Kiosk Name: 22nd 1/2 & Rio Grande<br>Rides in 2021: 1838.0<br>Council District: 9.0",
          "ID: 2498<br>Kiosk Name: 4th/Sabine<br>Rides in 2021: 1230.0<br>Council District: 9.0",
          "ID: 3513<br>Kiosk Name: South Congress & Barton Springs at the Austin American-Statesman<br>Rides in 2021: 2570.0<br>Council District: 9.0",
          "ID: 3619<br>Kiosk Name: 6th & Congress<br>Rides in 2021: 3526.0<br>Council District: 9.0",
          "ID: 3635<br>Kiosk Name: 13th & San Antonio<br>Rides in 2021: 0.0<br>Council District: 9.0",
          "ID: 3660<br>Kiosk Name: Medina & East 6th<br>Rides in 2021: 2612.0<br>Council District: 3.0",
          "ID: 3684<br>Kiosk Name: Congress & Cesar Chavez<br>Rides in 2021: 1879.0<br>Council District: 9.0",
          "ID: 3685<br>Kiosk Name: Henderson & 9th<br>Rides in 2021: 1792.0<br>Council District: 9.0",
          "ID: 3686<br>Kiosk Name: Sterzing at Barton Springs<br>Rides in 2021: 2755.0<br>Council District: 5.0",
          "ID: 3687<br>Kiosk Name: Boardwalk West<br>Rides in 2021: 3362.0<br>Council District: 9.0",
          "ID: 3790<br>Kiosk Name: Lake Austin Blvd @ Deep Eddy<br>Rides in 2021: 1496.0<br>Council District: 10.0",
          "ID: 3791<br>Kiosk Name: Lake Austin & Enfield<br>Rides in 2021: 1001.0<br>Council District: 10.0",
          "ID: 3792<br>Kiosk Name: 22nd & Pearl<br>Rides in 2021: 7532.0<br>Council District: 9.0",
          "ID: 3793<br>Kiosk Name: Rio Grande & 28th<br>Rides in 2021: 9795.0<br>Council District: 9.0",
          "ID: 3794<br>Kiosk Name: Dean Keeton & Speedway<br>Rides in 2021: 7445.0<br>Council District: 9.0",
          "ID: 3795<br>Kiosk Name: Dean Keeton & Whitis<br>Rides in 2021: 8430.0<br>Council District: 9.0",
          "ID: 3797<br>Kiosk Name: 21st & University<br>Rides in 2021: 4747.0<br>Council District: 9.0",
          "ID: 3798<br>Kiosk Name: 21st & Speedway @PCL<br>Rides in 2021: 17665.0<br>Council District: 9.0",
          "ID: 3799<br>Kiosk Name: 23rd & San Jacinto @ DKR Stadium<br>Rides in 2021: 4637.0<br>Council District: 1.0",
          "ID: 3838<br>Kiosk Name: Nueces & 26th<br>Rides in 2021: 6808.0<br>Council District: 9.0",
          "ID: 3841<br>Kiosk Name: 23rd & Rio Grande<br>Rides in 2021: 3792.0<br>Council District: 9.0",
          "ID: 4047<br>Kiosk Name: 8th & Lavaca<br>Rides in 2021: 1300.0<br>Council District: 9.0",
          "ID: 4048<br>Kiosk Name: South Congress @ Bouldin Creek<br>Rides in 2021: 2002.0<br>Council District: 9.0",
          "ID: 4050<br>Kiosk Name: 5th & Campbell<br>Rides in 2021: 1177.0<br>Council District: 9.0",
          "ID: 4051<br>Kiosk Name: 10th & Red River<br>Rides in 2021: 547.0<br>Council District: 1.0",
          "ID: 4052<br>Kiosk Name: Rosewood & Angelina<br>Rides in 2021: 493.0<br>Council District: 1.0",
          "ID: 4054<br>Kiosk Name: Rosewood & Chicon<br>Rides in 2021: 434.0<br>Council District: 1.0",
          "ID: 2500<br>Kiosk Name: Republic Square<br>Rides in 2021: 0.0<br>Council District: 9.0",
          "ID: 2502<br>Kiosk Name: Barton Springs & Riverside<br>Rides in 2021: 0.0<br>Council District: 9.0",
          "ID: 2536<br>Kiosk Name: Waller & 6th St.<br>Rides in 2021: 0.0<br>Council District: 3.0",
          "ID: 2538<br>Kiosk Name: Bullock Museum @ Congress & MLK<br>Rides in 2021: 0.0<br>Council District: 1.0",
          "ID: 2541<br>Kiosk Name: State Capitol @ 14th & Colorado<br>Rides in 2021: 0.0<br>Council District: 1.0",
          "ID: 2545<br>Kiosk Name: ACC - Rio Grande & 12th<br>Rides in 2021: 0.0<br>Council District: 9.0",
          "ID: 2546<br>Kiosk Name: ACC - West & 12th Street<br>Rides in 2021: 0.0<br>Council District: 9.0",
          "ID: 2550<br>Kiosk Name: 4th/Guadalupe @ Republic Square<br>Rides in 2021: 0.0<br>Council District: 9.0",
          "ID: 2564<br>Kiosk Name: 5th & San Marcos<br>Rides in 2021: 0.0<br>Council District: 3.0",
          "ID: 2576<br>Kiosk Name: Rainey @ River St<br>Rides in 2021: 0.0<br>Council District: 9.0",
          "ID: 2712<br>Kiosk Name: Toomey Rd @ South Lamar<br>Rides in 2021: 0.0<br>Council District: 5.0",
          "ID: 3381<br>Kiosk Name: East 7th & Pleasant Valley<br>Rides in 2021: 0.0<br>Council District: 3.0",
          "ID: 0<br>Kiosk Name: South Congress/Mary<br>Rides in 2021: 0.0<br>Council District: 9.0",
          "ID: 1001<br>Kiosk Name: OFFICE/Main/Shop/Repair<br>Rides in 2021: 0.0<br>Council District: 1.0",
          "ID: 4055<br>Kiosk Name: 11th & Salina<br>Rides in 2021: 386.0<br>Council District: 1.0",
          "ID: 4057<br>Kiosk Name: 6th & Chalmers<br>Rides in 2021: 1729.0<br>Council District: 3.0",
          "ID: 4058<br>Kiosk Name: Hollow Creek & Barton Hills<br>Rides in 2021: 1113.0<br>Council District: 5.0",
          "ID: 4059<br>Kiosk Name: Nash Hernandez @ RBJ South<br>Rides in 2021: 3222.0<br>Council District: 3.0",
          "ID: 4060<br>Kiosk Name: Red River/Cesar Chavez @ The Fairmont<br>Rides in 2021: 1874.0<br>Council District: 9.0",
          "ID: 4061<br>Kiosk Name: Lakeshore @ Austin Hostel<br>Rides in 2021: 4798.0<br>Council District: 3.0",
          "ID: 4062<br>Kiosk Name: Lakeshore & Pleasant Valley<br>Rides in 2021: 3349.0<br>Council District: 3.0",
          "ID: 1002<br>Kiosk Name: 6th & Navasota St.<br>Rides in 2021: 0.0<br>Council District: 3.0",
          "ID: 1003<br>Kiosk Name: 8th & Guadalupe<br>Rides in 2021: 0.0<br>Council District: 9.0",
          "ID: 1004<br>Kiosk Name: Red River & LBJ Library<br>Rides in 2021: 0.0<br>Council District: 1.0",
          "ID: 1005<br>Kiosk Name: State Parking Garage @ Brazos & 18th<br>Rides in 2021: 0.0<br>Council District: 1.0",
          "ID: 1006<br>Kiosk Name: Zilker Park West<br>Rides in 2021: 0.0<br>Council District: 8.0",
          "ID: 1007<br>Kiosk Name: Lavaca & 6th<br>Rides in 2021: 0.0<br>Council District: 9.0",
          "ID: 1008<br>Kiosk Name: Nueces @ 3rd<br>Rides in 2021: 0.0<br>Council District: 9.0",
          "ID: 7186<br>Kiosk Name: One Texas Center<br>Rides in 2021: 0.0<br>Council District: nan"
         ],
         "type": "scattermapbox"
        }
       ],
       "layout": {
        "autosize": false,
        "height": 500,
        "hovermode": "closest",
        "mapbox": {
         "accesstoken": "pk.eyJ1IjoiZmx5aW5nY2FwZSIsImEiOiJjbDd0YWZnc2YwZ3ZzM29yeDQ4bDl3dHZtIn0.q09s_595pGToclUeM8ojQQ",
         "bearing": 0,
         "center": {
          "lat": 30.268485,
          "lon": -97.74091
         },
         "pitch": 0,
         "style": "streets",
         "zoom": 12.25
        },
        "margin": {
         "b": 0.5,
         "l": 0.5,
         "pad": 0.2,
         "r": 0.5,
         "t": 0.5
        },
        "paper_bgcolor": "White",
        "template": {
         "data": {
          "bar": [
           {
            "error_x": {
             "color": "#2a3f5f"
            },
            "error_y": {
             "color": "#2a3f5f"
            },
            "marker": {
             "line": {
              "color": "#E5ECF6",
              "width": 0.5
             },
             "pattern": {
              "fillmode": "overlay",
              "size": 10,
              "solidity": 0.2
             }
            },
            "type": "bar"
           }
          ],
          "barpolar": [
           {
            "marker": {
             "line": {
              "color": "#E5ECF6",
              "width": 0.5
             },
             "pattern": {
              "fillmode": "overlay",
              "size": 10,
              "solidity": 0.2
             }
            },
            "type": "barpolar"
           }
          ],
          "carpet": [
           {
            "aaxis": {
             "endlinecolor": "#2a3f5f",
             "gridcolor": "white",
             "linecolor": "white",
             "minorgridcolor": "white",
             "startlinecolor": "#2a3f5f"
            },
            "baxis": {
             "endlinecolor": "#2a3f5f",
             "gridcolor": "white",
             "linecolor": "white",
             "minorgridcolor": "white",
             "startlinecolor": "#2a3f5f"
            },
            "type": "carpet"
           }
          ],
          "choropleth": [
           {
            "colorbar": {
             "outlinewidth": 0,
             "ticks": ""
            },
            "type": "choropleth"
           }
          ],
          "contour": [
           {
            "colorbar": {
             "outlinewidth": 0,
             "ticks": ""
            },
            "colorscale": [
             [
              0,
              "#0d0887"
             ],
             [
              0.1111111111111111,
              "#46039f"
             ],
             [
              0.2222222222222222,
              "#7201a8"
             ],
             [
              0.3333333333333333,
              "#9c179e"
             ],
             [
              0.4444444444444444,
              "#bd3786"
             ],
             [
              0.5555555555555556,
              "#d8576b"
             ],
             [
              0.6666666666666666,
              "#ed7953"
             ],
             [
              0.7777777777777778,
              "#fb9f3a"
             ],
             [
              0.8888888888888888,
              "#fdca26"
             ],
             [
              1,
              "#f0f921"
             ]
            ],
            "type": "contour"
           }
          ],
          "contourcarpet": [
           {
            "colorbar": {
             "outlinewidth": 0,
             "ticks": ""
            },
            "type": "contourcarpet"
           }
          ],
          "heatmap": [
           {
            "colorbar": {
             "outlinewidth": 0,
             "ticks": ""
            },
            "colorscale": [
             [
              0,
              "#0d0887"
             ],
             [
              0.1111111111111111,
              "#46039f"
             ],
             [
              0.2222222222222222,
              "#7201a8"
             ],
             [
              0.3333333333333333,
              "#9c179e"
             ],
             [
              0.4444444444444444,
              "#bd3786"
             ],
             [
              0.5555555555555556,
              "#d8576b"
             ],
             [
              0.6666666666666666,
              "#ed7953"
             ],
             [
              0.7777777777777778,
              "#fb9f3a"
             ],
             [
              0.8888888888888888,
              "#fdca26"
             ],
             [
              1,
              "#f0f921"
             ]
            ],
            "type": "heatmap"
           }
          ],
          "heatmapgl": [
           {
            "colorbar": {
             "outlinewidth": 0,
             "ticks": ""
            },
            "colorscale": [
             [
              0,
              "#0d0887"
             ],
             [
              0.1111111111111111,
              "#46039f"
             ],
             [
              0.2222222222222222,
              "#7201a8"
             ],
             [
              0.3333333333333333,
              "#9c179e"
             ],
             [
              0.4444444444444444,
              "#bd3786"
             ],
             [
              0.5555555555555556,
              "#d8576b"
             ],
             [
              0.6666666666666666,
              "#ed7953"
             ],
             [
              0.7777777777777778,
              "#fb9f3a"
             ],
             [
              0.8888888888888888,
              "#fdca26"
             ],
             [
              1,
              "#f0f921"
             ]
            ],
            "type": "heatmapgl"
           }
          ],
          "histogram": [
           {
            "marker": {
             "pattern": {
              "fillmode": "overlay",
              "size": 10,
              "solidity": 0.2
             }
            },
            "type": "histogram"
           }
          ],
          "histogram2d": [
           {
            "colorbar": {
             "outlinewidth": 0,
             "ticks": ""
            },
            "colorscale": [
             [
              0,
              "#0d0887"
             ],
             [
              0.1111111111111111,
              "#46039f"
             ],
             [
              0.2222222222222222,
              "#7201a8"
             ],
             [
              0.3333333333333333,
              "#9c179e"
             ],
             [
              0.4444444444444444,
              "#bd3786"
             ],
             [
              0.5555555555555556,
              "#d8576b"
             ],
             [
              0.6666666666666666,
              "#ed7953"
             ],
             [
              0.7777777777777778,
              "#fb9f3a"
             ],
             [
              0.8888888888888888,
              "#fdca26"
             ],
             [
              1,
              "#f0f921"
             ]
            ],
            "type": "histogram2d"
           }
          ],
          "histogram2dcontour": [
           {
            "colorbar": {
             "outlinewidth": 0,
             "ticks": ""
            },
            "colorscale": [
             [
              0,
              "#0d0887"
             ],
             [
              0.1111111111111111,
              "#46039f"
             ],
             [
              0.2222222222222222,
              "#7201a8"
             ],
             [
              0.3333333333333333,
              "#9c179e"
             ],
             [
              0.4444444444444444,
              "#bd3786"
             ],
             [
              0.5555555555555556,
              "#d8576b"
             ],
             [
              0.6666666666666666,
              "#ed7953"
             ],
             [
              0.7777777777777778,
              "#fb9f3a"
             ],
             [
              0.8888888888888888,
              "#fdca26"
             ],
             [
              1,
              "#f0f921"
             ]
            ],
            "type": "histogram2dcontour"
           }
          ],
          "mesh3d": [
           {
            "colorbar": {
             "outlinewidth": 0,
             "ticks": ""
            },
            "type": "mesh3d"
           }
          ],
          "parcoords": [
           {
            "line": {
             "colorbar": {
              "outlinewidth": 0,
              "ticks": ""
             }
            },
            "type": "parcoords"
           }
          ],
          "pie": [
           {
            "automargin": true,
            "type": "pie"
           }
          ],
          "scatter": [
           {
            "marker": {
             "colorbar": {
              "outlinewidth": 0,
              "ticks": ""
             }
            },
            "type": "scatter"
           }
          ],
          "scatter3d": [
           {
            "line": {
             "colorbar": {
              "outlinewidth": 0,
              "ticks": ""
             }
            },
            "marker": {
             "colorbar": {
              "outlinewidth": 0,
              "ticks": ""
             }
            },
            "type": "scatter3d"
           }
          ],
          "scattercarpet": [
           {
            "marker": {
             "colorbar": {
              "outlinewidth": 0,
              "ticks": ""
             }
            },
            "type": "scattercarpet"
           }
          ],
          "scattergeo": [
           {
            "marker": {
             "colorbar": {
              "outlinewidth": 0,
              "ticks": ""
             }
            },
            "type": "scattergeo"
           }
          ],
          "scattergl": [
           {
            "marker": {
             "colorbar": {
              "outlinewidth": 0,
              "ticks": ""
             }
            },
            "type": "scattergl"
           }
          ],
          "scattermapbox": [
           {
            "marker": {
             "colorbar": {
              "outlinewidth": 0,
              "ticks": ""
             }
            },
            "type": "scattermapbox"
           }
          ],
          "scatterpolar": [
           {
            "marker": {
             "colorbar": {
              "outlinewidth": 0,
              "ticks": ""
             }
            },
            "type": "scatterpolar"
           }
          ],
          "scatterpolargl": [
           {
            "marker": {
             "colorbar": {
              "outlinewidth": 0,
              "ticks": ""
             }
            },
            "type": "scatterpolargl"
           }
          ],
          "scatterternary": [
           {
            "marker": {
             "colorbar": {
              "outlinewidth": 0,
              "ticks": ""
             }
            },
            "type": "scatterternary"
           }
          ],
          "surface": [
           {
            "colorbar": {
             "outlinewidth": 0,
             "ticks": ""
            },
            "colorscale": [
             [
              0,
              "#0d0887"
             ],
             [
              0.1111111111111111,
              "#46039f"
             ],
             [
              0.2222222222222222,
              "#7201a8"
             ],
             [
              0.3333333333333333,
              "#9c179e"
             ],
             [
              0.4444444444444444,
              "#bd3786"
             ],
             [
              0.5555555555555556,
              "#d8576b"
             ],
             [
              0.6666666666666666,
              "#ed7953"
             ],
             [
              0.7777777777777778,
              "#fb9f3a"
             ],
             [
              0.8888888888888888,
              "#fdca26"
             ],
             [
              1,
              "#f0f921"
             ]
            ],
            "type": "surface"
           }
          ],
          "table": [
           {
            "cells": {
             "fill": {
              "color": "#EBF0F8"
             },
             "line": {
              "color": "white"
             }
            },
            "header": {
             "fill": {
              "color": "#C8D4E3"
             },
             "line": {
              "color": "white"
             }
            },
            "type": "table"
           }
          ]
         },
         "layout": {
          "annotationdefaults": {
           "arrowcolor": "#2a3f5f",
           "arrowhead": 0,
           "arrowwidth": 1
          },
          "autotypenumbers": "strict",
          "coloraxis": {
           "colorbar": {
            "outlinewidth": 0,
            "ticks": ""
           }
          },
          "colorscale": {
           "diverging": [
            [
             0,
             "#8e0152"
            ],
            [
             0.1,
             "#c51b7d"
            ],
            [
             0.2,
             "#de77ae"
            ],
            [
             0.3,
             "#f1b6da"
            ],
            [
             0.4,
             "#fde0ef"
            ],
            [
             0.5,
             "#f7f7f7"
            ],
            [
             0.6,
             "#e6f5d0"
            ],
            [
             0.7,
             "#b8e186"
            ],
            [
             0.8,
             "#7fbc41"
            ],
            [
             0.9,
             "#4d9221"
            ],
            [
             1,
             "#276419"
            ]
           ],
           "sequential": [
            [
             0,
             "#0d0887"
            ],
            [
             0.1111111111111111,
             "#46039f"
            ],
            [
             0.2222222222222222,
             "#7201a8"
            ],
            [
             0.3333333333333333,
             "#9c179e"
            ],
            [
             0.4444444444444444,
             "#bd3786"
            ],
            [
             0.5555555555555556,
             "#d8576b"
            ],
            [
             0.6666666666666666,
             "#ed7953"
            ],
            [
             0.7777777777777778,
             "#fb9f3a"
            ],
            [
             0.8888888888888888,
             "#fdca26"
            ],
            [
             1,
             "#f0f921"
            ]
           ],
           "sequentialminus": [
            [
             0,
             "#0d0887"
            ],
            [
             0.1111111111111111,
             "#46039f"
            ],
            [
             0.2222222222222222,
             "#7201a8"
            ],
            [
             0.3333333333333333,
             "#9c179e"
            ],
            [
             0.4444444444444444,
             "#bd3786"
            ],
            [
             0.5555555555555556,
             "#d8576b"
            ],
            [
             0.6666666666666666,
             "#ed7953"
            ],
            [
             0.7777777777777778,
             "#fb9f3a"
            ],
            [
             0.8888888888888888,
             "#fdca26"
            ],
            [
             1,
             "#f0f921"
            ]
           ]
          },
          "colorway": [
           "#636efa",
           "#EF553B",
           "#00cc96",
           "#ab63fa",
           "#FFA15A",
           "#19d3f3",
           "#FF6692",
           "#B6E880",
           "#FF97FF",
           "#FECB52"
          ],
          "font": {
           "color": "#2a3f5f"
          },
          "geo": {
           "bgcolor": "white",
           "lakecolor": "white",
           "landcolor": "#E5ECF6",
           "showlakes": true,
           "showland": true,
           "subunitcolor": "white"
          },
          "hoverlabel": {
           "align": "left"
          },
          "hovermode": "closest",
          "mapbox": {
           "style": "light"
          },
          "paper_bgcolor": "white",
          "plot_bgcolor": "#E5ECF6",
          "polar": {
           "angularaxis": {
            "gridcolor": "white",
            "linecolor": "white",
            "ticks": ""
           },
           "bgcolor": "#E5ECF6",
           "radialaxis": {
            "gridcolor": "white",
            "linecolor": "white",
            "ticks": ""
           }
          },
          "scene": {
           "xaxis": {
            "backgroundcolor": "#E5ECF6",
            "gridcolor": "white",
            "gridwidth": 2,
            "linecolor": "white",
            "showbackground": true,
            "ticks": "",
            "zerolinecolor": "white"
           },
           "yaxis": {
            "backgroundcolor": "#E5ECF6",
            "gridcolor": "white",
            "gridwidth": 2,
            "linecolor": "white",
            "showbackground": true,
            "ticks": "",
            "zerolinecolor": "white"
           },
           "zaxis": {
            "backgroundcolor": "#E5ECF6",
            "gridcolor": "white",
            "gridwidth": 2,
            "linecolor": "white",
            "showbackground": true,
            "ticks": "",
            "zerolinecolor": "white"
           }
          },
          "shapedefaults": {
           "line": {
            "color": "#2a3f5f"
           }
          },
          "ternary": {
           "aaxis": {
            "gridcolor": "white",
            "linecolor": "white",
            "ticks": ""
           },
           "baxis": {
            "gridcolor": "white",
            "linecolor": "white",
            "ticks": ""
           },
           "bgcolor": "#E5ECF6",
           "caxis": {
            "gridcolor": "white",
            "linecolor": "white",
            "ticks": ""
           }
          },
          "title": {
           "x": 0.05
          },
          "xaxis": {
           "automargin": true,
           "gridcolor": "white",
           "linecolor": "white",
           "ticks": "",
           "title": {
            "standoff": 15
           },
           "zerolinecolor": "white",
           "zerolinewidth": 2
          },
          "yaxis": {
           "automargin": true,
           "gridcolor": "white",
           "linecolor": "white",
           "ticks": "",
           "title": {
            "standoff": 15
           },
           "zerolinecolor": "white",
           "zerolinewidth": 2
          }
         }
        },
        "width": 750
       }
      },
      "text/html": [
       "<div>                            <div id=\"df247a6a-f20e-4ae6-872f-35bcb978d176\" class=\"plotly-graph-div\" style=\"height:500px; width:750px;\"></div>            <script type=\"text/javascript\">                require([\"plotly\"], function(Plotly) {                    window.PLOTLYENV=window.PLOTLYENV || {};                                    if (document.getElementById(\"df247a6a-f20e-4ae6-872f-35bcb978d176\")) {                    Plotly.newPlot(                        \"df247a6a-f20e-4ae6-872f-35bcb978d176\",                        [{\"lat\":[30.25226,30.26854,30.26452,30.2659,30.26446,30.255906,30.262,30.26032,30.2563,30.27193,30.25987,30.25542,30.268887,30.27466,30.26754,30.2741,30.24891,30.27041,30.26426,30.27974,30.26217,30.25895,30.28395,30.28576,30.25941,30.27336,30.26912,30.26735,30.26717,30.25971,30.26896,30.26968,30.260814,30.26408,30.26634,30.2698,30.2726,30.26476,30.2696,30.25103,30.2678,30.26753,30.26697,30.28118,30.25212,30.27924,30.2874,30.2862,30.264327,30.25839,30.26822,30.27616,30.26455,30.26332,30.27217,30.26406,30.25457,30.27807,30.29439,30.2853,30.29333,30.28953,30.2898,30.28354,30.283,30.2856,30.29068,30.28728,30.27059,30.25495,30.27489,30.27024,30.26888,30.26969,30.26751,30.2587,30.26461,30.28039,30.27654,30.27595,30.27624,30.267263,30.26416,30.25802,30.26304,30.26025,30.244961,30.27186,30.26638,30.26269,30.26139,30.252,30.26214,30.24472,30.24258,30.26383,30.27106,30.2848,30.27907,30.26587,30.26889,30.26694,30.257595316333752],\"lon\":[-97.74854,-97.73646,-97.7712,-97.76822,-97.75665,-97.739949,-97.76118,-97.71899,-97.71007,-97.73854,-97.72373,-97.71665,-97.745242,-97.77028,-97.74154,-97.73666,-97.75019,-97.75046,-97.74023,-97.74254,-97.72743,-97.71475,-97.74198,-97.74181,-97.74971,-97.73805,-97.73986,-97.73933,-97.75484,-97.75346,-97.72843,-97.73074,-97.738086,-97.74355,-97.74378,-97.74186,-97.74127,-97.74678,-97.75332,-97.74926,-97.75189,-97.74805,-97.74929,-97.75219,-97.69807,-97.74371,-97.7478,-97.74516,-97.736446,-97.74592,-97.74285,-97.74488,-97.73165,-97.74508,-97.75246,-97.76385,-97.74258,-97.77272,-97.78375,-97.7467,-97.74412,-97.73695,-97.74041,-97.73953,-97.7375,-97.7335,-97.74292,-97.74495,-97.74441,-97.74755,-97.76483,-97.73578,-97.72431,-97.71873,-97.74802,-97.74872,-97.73049,-97.73809,-97.74155,-97.74739,-97.74831,-97.747144,-97.73289,-97.7391,-97.75824,-97.71002,-97.751272,-97.73997,-97.7214,-97.72438,-97.77234,-97.7346,-97.7387,-97.72336,-97.71726,-97.72864,-97.74563,-97.72756,-97.73715,-97.76826,-97.74525,-97.74939,-97.74901281385847],\"marker\":{\"color\":\"navy\",\"size\":[3.195,3.245,6.315,15.34,20.135,19.85,6.69,2.965,2.485,5.155,3.07,2.57,1.75,13.66,4.89,0.0,4.89,3.125,9.755,0.925,6.125,4.7,10.99,7.485,11.025,3.82,1.995,1.9,15.195,8.475,1.39,2.435,9.405,8.845,7.11,3.71,7.71,9.255,11.615,3.385,14.01,5.86,10.09,0.0,0.085,0.0,0.0,0.0,4.145,8.645,7.425,2.31,6.925,4.26,4.145,9.825,11.11,3.885,3.71,7.82,12.855,5.97,6.905,5.525,14.025,5.325,8.69,10.55,2.525,5.775,4.52,0.855,1.45,1.42,0.0,0.0,0.0,0.0,0.0,0.0,0.0,0.0,0.0,0.0,0.0,0.0,0.0,0.0,1.385,4.035,3.89,10.36,5.09,17.405,12.21,0.0,0.0,0.0,0.0,0.0,0.0,0.0,0.0]},\"mode\":\"markers\",\"text\":[\"ID: 2570<br>Kiosk Name: South Congress & Academy<br>Rides in 2021: 1305.0<br>Council District: 9.0\",\"ID: 2571<br>Kiosk Name: Red River & 8th Street<br>Rides in 2021: 1512.0<br>Council District: 9.0\",\"ID: 2572<br>Kiosk Name: Barton Springs Pool<br>Rides in 2021: 2167.0<br>Council District: 8.0\",\"ID: 2574<br>Kiosk Name: Zilker Park<br>Rides in 2021: 4325.0<br>Council District: 8.0\",\"ID: 2575<br>Kiosk Name: Riverside @ S. Lamar<br>Rides in 2021: 4916.0<br>Council District: 5.0\",\"ID: 2707<br>Kiosk Name: Rainey St @ Cummings<br>Rides in 2021: 5440.0<br>Council District: 9.0\",\"ID: 2711<br>Kiosk Name: Barton Springs @ Kinney Ave<br>Rides in 2021: 2021.0<br>Council District: 5.0\",\"ID: 2822<br>Kiosk Name: East 6th at Robert Martinez<br>Rides in 2021: 706.0<br>Council District: 3.0\",\"ID: 2823<br>Kiosk Name: Capital Metro HQ - East 5th at Broadway<br>Rides in 2021: 912.0<br>Council District: 3.0\",\"ID: 3291<br>Kiosk Name: 11th & San Jacinto<br>Rides in 2021: 1460.0<br>Council District: 1.0\",\"ID: 3292<br>Kiosk Name: East 4th & Chicon<br>Rides in 2021: 1665.0<br>Council District: 3.0\",\"ID: 3293<br>Kiosk Name: East 2nd & Pedernales<br>Rides in 2021: 1032.0<br>Council District: 3.0\",\"ID: 3294<br>Kiosk Name: Lavaca & 6th<br>Rides in 2021: 684.0<br>Council District: 9.0\",\"ID: 3377<br>Kiosk Name: MoPac Pedestrian Bridge @ Veterans Drive<br>Rides in 2021: 3695.0<br>Council District: 9.0\",\"ID: 3390<br>Kiosk Name: Brazos & 6th<br>Rides in 2021: 1751.0<br>Council District: 9.0\",\"ID: 1111<br>Kiosk Name: 13th & Trinity<br>Rides in 2021: 280.0<br>Council District: 1.0\",\"ID: 2504<br>Kiosk Name: South Congress & Elizabeth<br>Rides in 2021: 1845.0<br>Council District: 9.0\",\"ID: 2537<br>Kiosk Name: West & 6th St.<br>Rides in 2021: 1396.0<br>Council District: 9.0\",\"ID: 2539<br>Kiosk Name: Convention Center / 3rd & Trinity<br>Rides in 2021: 3488.0<br>Council District: 9.0\",\"ID: 2540<br>Kiosk Name: 17th & Guadalupe<br>Rides in 2021: 0.0<br>Council District: 9.0\",\"ID: 2542<br>Kiosk Name: Plaza Saltillo<br>Rides in 2021: 2117.0<br>Council District: 3.0\",\"ID: 2544<br>Kiosk Name: East 6th & Pedernales St.<br>Rides in 2021: 1009.0<br>Council District: 3.0\",\"ID: 2547<br>Kiosk Name: Guadalupe & 21st<br>Rides in 2021: 7479.0<br>Council District: 9.0\",\"ID: 2548<br>Kiosk Name: UT West Mall @ Guadalupe<br>Rides in 2021: 7606.0<br>Council District: 9.0\",\"ID: 2549<br>Kiosk Name: Long Center @ South 1st & Riverside<br>Rides in 2021: 2770.0<br>Council District: 9.0\",\"ID: 2561<br>Kiosk Name: State Capitol Visitors Garage @ San Jacinto & 12th<br>Rides in 2021: 971.0<br>Council District: 1.0\",\"ID: 2562<br>Kiosk Name: San Jacinto & 8th Street<br>Rides in 2021: 593.0<br>Council District: 9.0\",\"ID: 2565<br>Kiosk Name: Trinity & 6th Street<br>Rides in 2021: 947.0<br>Council District: 9.0\",\"ID: 2566<br>Kiosk Name: Pfluger Bridge @ W 2nd Street<br>Rides in 2021: 3570.0<br>Council District: 9.0\",\"ID: 2567<br>Kiosk Name: Palmer Auditorium<br>Rides in 2021: 2867.0<br>Council District: 9.0\",\"ID: 2568<br>Kiosk Name: East 11th St. at Victory Grill<br>Rides in 2021: 708.0<br>Council District: 1.0\",\"ID: 2569<br>Kiosk Name: East 11th St. & San Marcos<br>Rides in 2021: 1015.0<br>Council District: 1.0\",\"ID: 2563<br>Kiosk Name: Rainey/Driskill<br>Rides in 2021: 2999.0<br>Council District: 9.0\",\"ID: 2494<br>Kiosk Name: 2nd & Congress<br>Rides in 2021: 3056.0<br>Council District: 9.0\",\"ID: 2495<br>Kiosk Name: 4th & Congress<br>Rides in 2021: 2542.0<br>Council District: 9.0\",\"ID: 2496<br>Kiosk Name: 8th & Congress<br>Rides in 2021: 1293.0<br>Council District: 9.0\",\"ID: 2497<br>Kiosk Name: Capitol Station / Congress & 11th<br>Rides in 2021: 2828.0<br>Council District: 1.0\",\"ID: 2499<br>Kiosk Name: City Hall / Lavaca & 2nd<br>Rides in 2021: 2579.0<br>Council District: 9.0\",\"ID: 2501<br>Kiosk Name: 5th & Bowie<br>Rides in 2021: 3073.0<br>Council District: 9.0\",\"ID: 2503<br>Kiosk Name: South Congress & James<br>Rides in 2021: 1333.0<br>Council District: 9.0\",\"ID: 2552<br>Kiosk Name: 3rd & West<br>Rides in 2021: 4966.0<br>Council District: 9.0\",\"ID: 3455<br>Kiosk Name: Republic Square @ 5th & Guadalupe<br>Rides in 2021: 1800.0<br>Council District: 9.0\",\"ID: 3621<br>Kiosk Name: Nueces & 3rd<br>Rides in 2021: 2835.0<br>Council District: 9.0\",\"ID: 3464<br>Kiosk Name: Pease Park<br>Rides in 2021: 0.0<br>Council District: 9.0\",\"ID: 4699<br>Kiosk Name: East 5th/Shady @ Eastside Bus Plaza<br>Rides in 2021: 637.0<br>Council District: 3.0\",\"ID: 4879<br>Kiosk Name: 16th/San Antonio<br>Rides in 2021: 2336.0<br>Council District: 9.0\",\"ID: 111<br>Kiosk Name: 23rd & San Gabriel<br>Rides in 2021: 2130.0<br>Council District: 9.0\",\"ID: 11<br>Kiosk Name: 22nd 1/2 & Rio Grande<br>Rides in 2021: 1838.0<br>Council District: 9.0\",\"ID: 2498<br>Kiosk Name: 4th/Sabine<br>Rides in 2021: 1230.0<br>Council District: 9.0\",\"ID: 3513<br>Kiosk Name: South Congress & Barton Springs at the Austin American-Statesman<br>Rides in 2021: 2570.0<br>Council District: 9.0\",\"ID: 3619<br>Kiosk Name: 6th & Congress<br>Rides in 2021: 3526.0<br>Council District: 9.0\",\"ID: 3635<br>Kiosk Name: 13th & San Antonio<br>Rides in 2021: 0.0<br>Council District: 9.0\",\"ID: 3660<br>Kiosk Name: Medina & East 6th<br>Rides in 2021: 2612.0<br>Council District: 3.0\",\"ID: 3684<br>Kiosk Name: Congress & Cesar Chavez<br>Rides in 2021: 1879.0<br>Council District: 9.0\",\"ID: 3685<br>Kiosk Name: Henderson & 9th<br>Rides in 2021: 1792.0<br>Council District: 9.0\",\"ID: 3686<br>Kiosk Name: Sterzing at Barton Springs<br>Rides in 2021: 2755.0<br>Council District: 5.0\",\"ID: 3687<br>Kiosk Name: Boardwalk West<br>Rides in 2021: 3362.0<br>Council District: 9.0\",\"ID: 3790<br>Kiosk Name: Lake Austin Blvd @ Deep Eddy<br>Rides in 2021: 1496.0<br>Council District: 10.0\",\"ID: 3791<br>Kiosk Name: Lake Austin & Enfield<br>Rides in 2021: 1001.0<br>Council District: 10.0\",\"ID: 3792<br>Kiosk Name: 22nd & Pearl<br>Rides in 2021: 7532.0<br>Council District: 9.0\",\"ID: 3793<br>Kiosk Name: Rio Grande & 28th<br>Rides in 2021: 9795.0<br>Council District: 9.0\",\"ID: 3794<br>Kiosk Name: Dean Keeton & Speedway<br>Rides in 2021: 7445.0<br>Council District: 9.0\",\"ID: 3795<br>Kiosk Name: Dean Keeton & Whitis<br>Rides in 2021: 8430.0<br>Council District: 9.0\",\"ID: 3797<br>Kiosk Name: 21st & University<br>Rides in 2021: 4747.0<br>Council District: 9.0\",\"ID: 3798<br>Kiosk Name: 21st & Speedway @PCL<br>Rides in 2021: 17665.0<br>Council District: 9.0\",\"ID: 3799<br>Kiosk Name: 23rd & San Jacinto @ DKR Stadium<br>Rides in 2021: 4637.0<br>Council District: 1.0\",\"ID: 3838<br>Kiosk Name: Nueces & 26th<br>Rides in 2021: 6808.0<br>Council District: 9.0\",\"ID: 3841<br>Kiosk Name: 23rd & Rio Grande<br>Rides in 2021: 3792.0<br>Council District: 9.0\",\"ID: 4047<br>Kiosk Name: 8th & Lavaca<br>Rides in 2021: 1300.0<br>Council District: 9.0\",\"ID: 4048<br>Kiosk Name: South Congress @ Bouldin Creek<br>Rides in 2021: 2002.0<br>Council District: 9.0\",\"ID: 4050<br>Kiosk Name: 5th & Campbell<br>Rides in 2021: 1177.0<br>Council District: 9.0\",\"ID: 4051<br>Kiosk Name: 10th & Red River<br>Rides in 2021: 547.0<br>Council District: 1.0\",\"ID: 4052<br>Kiosk Name: Rosewood & Angelina<br>Rides in 2021: 493.0<br>Council District: 1.0\",\"ID: 4054<br>Kiosk Name: Rosewood & Chicon<br>Rides in 2021: 434.0<br>Council District: 1.0\",\"ID: 2500<br>Kiosk Name: Republic Square<br>Rides in 2021: 0.0<br>Council District: 9.0\",\"ID: 2502<br>Kiosk Name: Barton Springs & Riverside<br>Rides in 2021: 0.0<br>Council District: 9.0\",\"ID: 2536<br>Kiosk Name: Waller & 6th St.<br>Rides in 2021: 0.0<br>Council District: 3.0\",\"ID: 2538<br>Kiosk Name: Bullock Museum @ Congress & MLK<br>Rides in 2021: 0.0<br>Council District: 1.0\",\"ID: 2541<br>Kiosk Name: State Capitol @ 14th & Colorado<br>Rides in 2021: 0.0<br>Council District: 1.0\",\"ID: 2545<br>Kiosk Name: ACC - Rio Grande & 12th<br>Rides in 2021: 0.0<br>Council District: 9.0\",\"ID: 2546<br>Kiosk Name: ACC - West & 12th Street<br>Rides in 2021: 0.0<br>Council District: 9.0\",\"ID: 2550<br>Kiosk Name: 4th/Guadalupe @ Republic Square<br>Rides in 2021: 0.0<br>Council District: 9.0\",\"ID: 2564<br>Kiosk Name: 5th & San Marcos<br>Rides in 2021: 0.0<br>Council District: 3.0\",\"ID: 2576<br>Kiosk Name: Rainey @ River St<br>Rides in 2021: 0.0<br>Council District: 9.0\",\"ID: 2712<br>Kiosk Name: Toomey Rd @ South Lamar<br>Rides in 2021: 0.0<br>Council District: 5.0\",\"ID: 3381<br>Kiosk Name: East 7th & Pleasant Valley<br>Rides in 2021: 0.0<br>Council District: 3.0\",\"ID: 0<br>Kiosk Name: South Congress/Mary<br>Rides in 2021: 0.0<br>Council District: 9.0\",\"ID: 1001<br>Kiosk Name: OFFICE/Main/Shop/Repair<br>Rides in 2021: 0.0<br>Council District: 1.0\",\"ID: 4055<br>Kiosk Name: 11th & Salina<br>Rides in 2021: 386.0<br>Council District: 1.0\",\"ID: 4057<br>Kiosk Name: 6th & Chalmers<br>Rides in 2021: 1729.0<br>Council District: 3.0\",\"ID: 4058<br>Kiosk Name: Hollow Creek & Barton Hills<br>Rides in 2021: 1113.0<br>Council District: 5.0\",\"ID: 4059<br>Kiosk Name: Nash Hernandez @ RBJ South<br>Rides in 2021: 3222.0<br>Council District: 3.0\",\"ID: 4060<br>Kiosk Name: Red River/Cesar Chavez @ The Fairmont<br>Rides in 2021: 1874.0<br>Council District: 9.0\",\"ID: 4061<br>Kiosk Name: Lakeshore @ Austin Hostel<br>Rides in 2021: 4798.0<br>Council District: 3.0\",\"ID: 4062<br>Kiosk Name: Lakeshore & Pleasant Valley<br>Rides in 2021: 3349.0<br>Council District: 3.0\",\"ID: 1002<br>Kiosk Name: 6th & Navasota St.<br>Rides in 2021: 0.0<br>Council District: 3.0\",\"ID: 1003<br>Kiosk Name: 8th & Guadalupe<br>Rides in 2021: 0.0<br>Council District: 9.0\",\"ID: 1004<br>Kiosk Name: Red River & LBJ Library<br>Rides in 2021: 0.0<br>Council District: 1.0\",\"ID: 1005<br>Kiosk Name: State Parking Garage @ Brazos & 18th<br>Rides in 2021: 0.0<br>Council District: 1.0\",\"ID: 1006<br>Kiosk Name: Zilker Park West<br>Rides in 2021: 0.0<br>Council District: 8.0\",\"ID: 1007<br>Kiosk Name: Lavaca & 6th<br>Rides in 2021: 0.0<br>Council District: 9.0\",\"ID: 1008<br>Kiosk Name: Nueces @ 3rd<br>Rides in 2021: 0.0<br>Council District: 9.0\",\"ID: 7186<br>Kiosk Name: One Texas Center<br>Rides in 2021: 0.0<br>Council District: nan\"],\"type\":\"scattermapbox\"}],                        {\"autosize\":false,\"height\":500,\"hovermode\":\"closest\",\"mapbox\":{\"accesstoken\":\"pk.eyJ1IjoiZmx5aW5nY2FwZSIsImEiOiJjbDd0YWZnc2YwZ3ZzM29yeDQ4bDl3dHZtIn0.q09s_595pGToclUeM8ojQQ\",\"bearing\":0,\"center\":{\"lat\":30.268485,\"lon\":-97.74091},\"pitch\":0,\"style\":\"streets\",\"zoom\":12.25},\"margin\":{\"b\":0.5,\"l\":0.5,\"pad\":0.2,\"r\":0.5,\"t\":0.5},\"paper_bgcolor\":\"White\",\"template\":{\"data\":{\"bar\":[{\"error_x\":{\"color\":\"#2a3f5f\"},\"error_y\":{\"color\":\"#2a3f5f\"},\"marker\":{\"line\":{\"color\":\"#E5ECF6\",\"width\":0.5},\"pattern\":{\"fillmode\":\"overlay\",\"size\":10,\"solidity\":0.2}},\"type\":\"bar\"}],\"barpolar\":[{\"marker\":{\"line\":{\"color\":\"#E5ECF6\",\"width\":0.5},\"pattern\":{\"fillmode\":\"overlay\",\"size\":10,\"solidity\":0.2}},\"type\":\"barpolar\"}],\"carpet\":[{\"aaxis\":{\"endlinecolor\":\"#2a3f5f\",\"gridcolor\":\"white\",\"linecolor\":\"white\",\"minorgridcolor\":\"white\",\"startlinecolor\":\"#2a3f5f\"},\"baxis\":{\"endlinecolor\":\"#2a3f5f\",\"gridcolor\":\"white\",\"linecolor\":\"white\",\"minorgridcolor\":\"white\",\"startlinecolor\":\"#2a3f5f\"},\"type\":\"carpet\"}],\"choropleth\":[{\"colorbar\":{\"outlinewidth\":0,\"ticks\":\"\"},\"type\":\"choropleth\"}],\"contour\":[{\"colorbar\":{\"outlinewidth\":0,\"ticks\":\"\"},\"colorscale\":[[0.0,\"#0d0887\"],[0.1111111111111111,\"#46039f\"],[0.2222222222222222,\"#7201a8\"],[0.3333333333333333,\"#9c179e\"],[0.4444444444444444,\"#bd3786\"],[0.5555555555555556,\"#d8576b\"],[0.6666666666666666,\"#ed7953\"],[0.7777777777777778,\"#fb9f3a\"],[0.8888888888888888,\"#fdca26\"],[1.0,\"#f0f921\"]],\"type\":\"contour\"}],\"contourcarpet\":[{\"colorbar\":{\"outlinewidth\":0,\"ticks\":\"\"},\"type\":\"contourcarpet\"}],\"heatmap\":[{\"colorbar\":{\"outlinewidth\":0,\"ticks\":\"\"},\"colorscale\":[[0.0,\"#0d0887\"],[0.1111111111111111,\"#46039f\"],[0.2222222222222222,\"#7201a8\"],[0.3333333333333333,\"#9c179e\"],[0.4444444444444444,\"#bd3786\"],[0.5555555555555556,\"#d8576b\"],[0.6666666666666666,\"#ed7953\"],[0.7777777777777778,\"#fb9f3a\"],[0.8888888888888888,\"#fdca26\"],[1.0,\"#f0f921\"]],\"type\":\"heatmap\"}],\"heatmapgl\":[{\"colorbar\":{\"outlinewidth\":0,\"ticks\":\"\"},\"colorscale\":[[0.0,\"#0d0887\"],[0.1111111111111111,\"#46039f\"],[0.2222222222222222,\"#7201a8\"],[0.3333333333333333,\"#9c179e\"],[0.4444444444444444,\"#bd3786\"],[0.5555555555555556,\"#d8576b\"],[0.6666666666666666,\"#ed7953\"],[0.7777777777777778,\"#fb9f3a\"],[0.8888888888888888,\"#fdca26\"],[1.0,\"#f0f921\"]],\"type\":\"heatmapgl\"}],\"histogram\":[{\"marker\":{\"pattern\":{\"fillmode\":\"overlay\",\"size\":10,\"solidity\":0.2}},\"type\":\"histogram\"}],\"histogram2d\":[{\"colorbar\":{\"outlinewidth\":0,\"ticks\":\"\"},\"colorscale\":[[0.0,\"#0d0887\"],[0.1111111111111111,\"#46039f\"],[0.2222222222222222,\"#7201a8\"],[0.3333333333333333,\"#9c179e\"],[0.4444444444444444,\"#bd3786\"],[0.5555555555555556,\"#d8576b\"],[0.6666666666666666,\"#ed7953\"],[0.7777777777777778,\"#fb9f3a\"],[0.8888888888888888,\"#fdca26\"],[1.0,\"#f0f921\"]],\"type\":\"histogram2d\"}],\"histogram2dcontour\":[{\"colorbar\":{\"outlinewidth\":0,\"ticks\":\"\"},\"colorscale\":[[0.0,\"#0d0887\"],[0.1111111111111111,\"#46039f\"],[0.2222222222222222,\"#7201a8\"],[0.3333333333333333,\"#9c179e\"],[0.4444444444444444,\"#bd3786\"],[0.5555555555555556,\"#d8576b\"],[0.6666666666666666,\"#ed7953\"],[0.7777777777777778,\"#fb9f3a\"],[0.8888888888888888,\"#fdca26\"],[1.0,\"#f0f921\"]],\"type\":\"histogram2dcontour\"}],\"mesh3d\":[{\"colorbar\":{\"outlinewidth\":0,\"ticks\":\"\"},\"type\":\"mesh3d\"}],\"parcoords\":[{\"line\":{\"colorbar\":{\"outlinewidth\":0,\"ticks\":\"\"}},\"type\":\"parcoords\"}],\"pie\":[{\"automargin\":true,\"type\":\"pie\"}],\"scatter\":[{\"marker\":{\"colorbar\":{\"outlinewidth\":0,\"ticks\":\"\"}},\"type\":\"scatter\"}],\"scatter3d\":[{\"line\":{\"colorbar\":{\"outlinewidth\":0,\"ticks\":\"\"}},\"marker\":{\"colorbar\":{\"outlinewidth\":0,\"ticks\":\"\"}},\"type\":\"scatter3d\"}],\"scattercarpet\":[{\"marker\":{\"colorbar\":{\"outlinewidth\":0,\"ticks\":\"\"}},\"type\":\"scattercarpet\"}],\"scattergeo\":[{\"marker\":{\"colorbar\":{\"outlinewidth\":0,\"ticks\":\"\"}},\"type\":\"scattergeo\"}],\"scattergl\":[{\"marker\":{\"colorbar\":{\"outlinewidth\":0,\"ticks\":\"\"}},\"type\":\"scattergl\"}],\"scattermapbox\":[{\"marker\":{\"colorbar\":{\"outlinewidth\":0,\"ticks\":\"\"}},\"type\":\"scattermapbox\"}],\"scatterpolar\":[{\"marker\":{\"colorbar\":{\"outlinewidth\":0,\"ticks\":\"\"}},\"type\":\"scatterpolar\"}],\"scatterpolargl\":[{\"marker\":{\"colorbar\":{\"outlinewidth\":0,\"ticks\":\"\"}},\"type\":\"scatterpolargl\"}],\"scatterternary\":[{\"marker\":{\"colorbar\":{\"outlinewidth\":0,\"ticks\":\"\"}},\"type\":\"scatterternary\"}],\"surface\":[{\"colorbar\":{\"outlinewidth\":0,\"ticks\":\"\"},\"colorscale\":[[0.0,\"#0d0887\"],[0.1111111111111111,\"#46039f\"],[0.2222222222222222,\"#7201a8\"],[0.3333333333333333,\"#9c179e\"],[0.4444444444444444,\"#bd3786\"],[0.5555555555555556,\"#d8576b\"],[0.6666666666666666,\"#ed7953\"],[0.7777777777777778,\"#fb9f3a\"],[0.8888888888888888,\"#fdca26\"],[1.0,\"#f0f921\"]],\"type\":\"surface\"}],\"table\":[{\"cells\":{\"fill\":{\"color\":\"#EBF0F8\"},\"line\":{\"color\":\"white\"}},\"header\":{\"fill\":{\"color\":\"#C8D4E3\"},\"line\":{\"color\":\"white\"}},\"type\":\"table\"}]},\"layout\":{\"annotationdefaults\":{\"arrowcolor\":\"#2a3f5f\",\"arrowhead\":0,\"arrowwidth\":1},\"autotypenumbers\":\"strict\",\"coloraxis\":{\"colorbar\":{\"outlinewidth\":0,\"ticks\":\"\"}},\"colorscale\":{\"diverging\":[[0,\"#8e0152\"],[0.1,\"#c51b7d\"],[0.2,\"#de77ae\"],[0.3,\"#f1b6da\"],[0.4,\"#fde0ef\"],[0.5,\"#f7f7f7\"],[0.6,\"#e6f5d0\"],[0.7,\"#b8e186\"],[0.8,\"#7fbc41\"],[0.9,\"#4d9221\"],[1,\"#276419\"]],\"sequential\":[[0.0,\"#0d0887\"],[0.1111111111111111,\"#46039f\"],[0.2222222222222222,\"#7201a8\"],[0.3333333333333333,\"#9c179e\"],[0.4444444444444444,\"#bd3786\"],[0.5555555555555556,\"#d8576b\"],[0.6666666666666666,\"#ed7953\"],[0.7777777777777778,\"#fb9f3a\"],[0.8888888888888888,\"#fdca26\"],[1.0,\"#f0f921\"]],\"sequentialminus\":[[0.0,\"#0d0887\"],[0.1111111111111111,\"#46039f\"],[0.2222222222222222,\"#7201a8\"],[0.3333333333333333,\"#9c179e\"],[0.4444444444444444,\"#bd3786\"],[0.5555555555555556,\"#d8576b\"],[0.6666666666666666,\"#ed7953\"],[0.7777777777777778,\"#fb9f3a\"],[0.8888888888888888,\"#fdca26\"],[1.0,\"#f0f921\"]]},\"colorway\":[\"#636efa\",\"#EF553B\",\"#00cc96\",\"#ab63fa\",\"#FFA15A\",\"#19d3f3\",\"#FF6692\",\"#B6E880\",\"#FF97FF\",\"#FECB52\"],\"font\":{\"color\":\"#2a3f5f\"},\"geo\":{\"bgcolor\":\"white\",\"lakecolor\":\"white\",\"landcolor\":\"#E5ECF6\",\"showlakes\":true,\"showland\":true,\"subunitcolor\":\"white\"},\"hoverlabel\":{\"align\":\"left\"},\"hovermode\":\"closest\",\"mapbox\":{\"style\":\"light\"},\"paper_bgcolor\":\"white\",\"plot_bgcolor\":\"#E5ECF6\",\"polar\":{\"angularaxis\":{\"gridcolor\":\"white\",\"linecolor\":\"white\",\"ticks\":\"\"},\"bgcolor\":\"#E5ECF6\",\"radialaxis\":{\"gridcolor\":\"white\",\"linecolor\":\"white\",\"ticks\":\"\"}},\"scene\":{\"xaxis\":{\"backgroundcolor\":\"#E5ECF6\",\"gridcolor\":\"white\",\"gridwidth\":2,\"linecolor\":\"white\",\"showbackground\":true,\"ticks\":\"\",\"zerolinecolor\":\"white\"},\"yaxis\":{\"backgroundcolor\":\"#E5ECF6\",\"gridcolor\":\"white\",\"gridwidth\":2,\"linecolor\":\"white\",\"showbackground\":true,\"ticks\":\"\",\"zerolinecolor\":\"white\"},\"zaxis\":{\"backgroundcolor\":\"#E5ECF6\",\"gridcolor\":\"white\",\"gridwidth\":2,\"linecolor\":\"white\",\"showbackground\":true,\"ticks\":\"\",\"zerolinecolor\":\"white\"}},\"shapedefaults\":{\"line\":{\"color\":\"#2a3f5f\"}},\"ternary\":{\"aaxis\":{\"gridcolor\":\"white\",\"linecolor\":\"white\",\"ticks\":\"\"},\"baxis\":{\"gridcolor\":\"white\",\"linecolor\":\"white\",\"ticks\":\"\"},\"bgcolor\":\"#E5ECF6\",\"caxis\":{\"gridcolor\":\"white\",\"linecolor\":\"white\",\"ticks\":\"\"}},\"title\":{\"x\":0.05},\"xaxis\":{\"automargin\":true,\"gridcolor\":\"white\",\"linecolor\":\"white\",\"ticks\":\"\",\"title\":{\"standoff\":15},\"zerolinecolor\":\"white\",\"zerolinewidth\":2},\"yaxis\":{\"automargin\":true,\"gridcolor\":\"white\",\"linecolor\":\"white\",\"ticks\":\"\",\"title\":{\"standoff\":15},\"zerolinecolor\":\"white\",\"zerolinewidth\":2}}},\"width\":750},                        {\"responsive\": true}                    ).then(function(){\n",
       "                            \n",
       "var gd = document.getElementById('df247a6a-f20e-4ae6-872f-35bcb978d176');\n",
       "var x = new MutationObserver(function (mutations, observer) {{\n",
       "        var display = window.getComputedStyle(gd).display;\n",
       "        if (!display || display === 'none') {{\n",
       "            console.log([gd, 'removed!']);\n",
       "            Plotly.purge(gd);\n",
       "            observer.disconnect();\n",
       "        }}\n",
       "}});\n",
       "\n",
       "// Listen for the removal of the full notebook cells\n",
       "var notebookContainer = gd.closest('#notebook-container');\n",
       "if (notebookContainer) {{\n",
       "    x.observe(notebookContainer, {childList: true});\n",
       "}}\n",
       "\n",
       "// Listen for the clearing of the current output cell\n",
       "var outputEl = gd.closest('.output');\n",
       "if (outputEl) {{\n",
       "    x.observe(outputEl, {childList: true});\n",
       "}}\n",
       "\n",
       "                        })                };                });            </script>        </div>"
      ]
     },
     "metadata": {},
     "output_type": "display_data"
    }
   ],
   "source": [
    "#https://plotly.com/python/scattermapbox/\n",
    "    \n",
    "import plotly.graph_objects as go\n",
    "\n",
    "mapbox_access_token = \"pk.eyJ1IjoiZmx5aW5nY2FwZSIsImEiOiJjbDd0YWZnc2YwZ3ZzM29yeDQ4bDl3dHZtIn0.q09s_595pGToclUeM8ojQQ\"\n",
    "\n",
    "fig = go.Figure(go.Scattermapbox(\n",
    "        lat = kiosk_geo['Latitude'],\n",
    "        lon = kiosk_geo['Longitude'],\n",
    "        text = kiosk_geo['text'],\n",
    "        mode='markers',\n",
    "        marker=go.scattermapbox.Marker(\n",
    "            size = kiosk_geo['Num_Rides_2020']/200, color = \"navy\",\n",
    "        ), \n",
    "        ))\n",
    "\n",
    "fig.update_layout(\n",
    "    hovermode='closest',\n",
    "    mapbox=dict(\n",
    "        accesstoken=mapbox_access_token,\n",
    "        bearing=0,\n",
    "        center=go.layout.mapbox.Center(\n",
    "            lat=(kiosk_geo['Latitude'].min()+kiosk_geo['Latitude'].max())/2,\n",
    "            lon=(kiosk_geo['Longitude'].min()+kiosk_geo['Longitude'].max())/2\n",
    "        ),\n",
    "        pitch=0,\n",
    "        zoom=12.25,\n",
    "        style = 'streets'\n",
    "    ),\n",
    ")\n",
    "\n",
    "fig.update_layout(\n",
    "    autosize=False,\n",
    "    width=750,\n",
    "    height=500,\n",
    "        margin=dict(\n",
    "        l=0.5,\n",
    "        r=0.5,\n",
    "        b=0.5,\n",
    "        t=0.5,\n",
    "        pad=0.20\n",
    "    ),\n",
    "    paper_bgcolor=\"White\",\n",
    ")\n",
    "#fig.add_annotation(x=0.96, y=1.10,\n",
    "#            text=\"Austin, TX, USA<br> MetroBike Kiosk Stations\",\n",
    "#                  showarrow=False)\n",
    "fig.show()"
   ]
  },
  {
   "cell_type": "code",
   "execution_count": 53,
   "id": "d7fc45fe",
   "metadata": {},
   "outputs": [
    {
     "data": {
      "application/vnd.plotly.v1+json": {
       "config": {
        "plotlyServerURL": "https://plotly.com"
       },
       "data": [
        {
         "lat": [
          30.25226,
          30.26854,
          30.26452,
          30.2659,
          30.26446,
          30.255906,
          30.262,
          30.26032,
          30.2563,
          30.27193,
          30.25987,
          30.25542,
          30.268887,
          30.27466,
          30.26754,
          30.2741,
          30.24891,
          30.27041,
          30.26426,
          30.27974,
          30.26217,
          30.25895,
          30.28395,
          30.28576,
          30.25941,
          30.27336,
          30.26912,
          30.26735,
          30.26717,
          30.25971,
          30.26896,
          30.26968,
          30.260814,
          30.26408,
          30.26634,
          30.2698,
          30.2726,
          30.26476,
          30.2696,
          30.25103,
          30.2678,
          30.26753,
          30.26697,
          30.28118,
          30.25212,
          30.27924,
          30.2874,
          30.2862,
          30.264327,
          30.25839,
          30.26822,
          30.27616,
          30.26455,
          30.26332,
          30.27217,
          30.26406,
          30.25457,
          30.27807,
          30.29439,
          30.2853,
          30.29333,
          30.28953,
          30.2898,
          30.28354,
          30.283,
          30.2856,
          30.29068,
          30.28728,
          30.27059,
          30.25495,
          30.27489,
          30.27024,
          30.26888,
          30.26969,
          30.26751,
          30.2587,
          30.26461,
          30.28039,
          30.27654,
          30.27595,
          30.27624,
          30.267263,
          30.26416,
          30.25802,
          30.26304,
          30.26025,
          30.244961,
          30.27186,
          30.26638,
          30.26269,
          30.26139,
          30.252,
          30.26214,
          30.24472,
          30.24258,
          30.26383,
          30.27106,
          30.2848,
          30.27907,
          30.26587,
          30.26889,
          30.26694,
          30.257595316333752
         ],
         "lon": [
          -97.74854,
          -97.73646,
          -97.7712,
          -97.76822,
          -97.75665,
          -97.739949,
          -97.76118,
          -97.71899,
          -97.71007,
          -97.73854,
          -97.72373,
          -97.71665,
          -97.745242,
          -97.77028,
          -97.74154,
          -97.73666,
          -97.75019,
          -97.75046,
          -97.74023,
          -97.74254,
          -97.72743,
          -97.71475,
          -97.74198,
          -97.74181,
          -97.74971,
          -97.73805,
          -97.73986,
          -97.73933,
          -97.75484,
          -97.75346,
          -97.72843,
          -97.73074,
          -97.738086,
          -97.74355,
          -97.74378,
          -97.74186,
          -97.74127,
          -97.74678,
          -97.75332,
          -97.74926,
          -97.75189,
          -97.74805,
          -97.74929,
          -97.75219,
          -97.69807,
          -97.74371,
          -97.7478,
          -97.74516,
          -97.736446,
          -97.74592,
          -97.74285,
          -97.74488,
          -97.73165,
          -97.74508,
          -97.75246,
          -97.76385,
          -97.74258,
          -97.77272,
          -97.78375,
          -97.7467,
          -97.74412,
          -97.73695,
          -97.74041,
          -97.73953,
          -97.7375,
          -97.7335,
          -97.74292,
          -97.74495,
          -97.74441,
          -97.74755,
          -97.76483,
          -97.73578,
          -97.72431,
          -97.71873,
          -97.74802,
          -97.74872,
          -97.73049,
          -97.73809,
          -97.74155,
          -97.74739,
          -97.74831,
          -97.747144,
          -97.73289,
          -97.7391,
          -97.75824,
          -97.71002,
          -97.751272,
          -97.73997,
          -97.7214,
          -97.72438,
          -97.77234,
          -97.7346,
          -97.7387,
          -97.72336,
          -97.71726,
          -97.72864,
          -97.74563,
          -97.72756,
          -97.73715,
          -97.76826,
          -97.74525,
          -97.74939,
          -97.74901281385847
         ],
         "marker": {
          "color": "navy",
          "size": [
           6.525,
           7.56,
           10.835,
           21.625,
           24.58,
           27.2,
           10.105,
           3.53,
           4.56,
           7.3,
           8.325,
           5.16,
           3.42,
           18.475,
           8.755,
           1.4,
           9.225,
           6.98,
           17.44,
           0,
           10.585,
           5.045,
           37.395,
           38.03,
           13.85,
           4.855,
           2.965,
           4.735,
           17.85,
           14.335,
           3.54,
           5.075,
           14.995,
           15.28,
           12.71,
           6.465,
           14.14,
           12.895,
           15.365,
           6.665,
           24.83,
           9,
           14.175,
           0,
           3.185,
           11.68,
           10.65,
           9.19,
           6.15,
           12.85,
           17.63,
           0,
           13.06,
           9.395,
           8.96,
           13.775,
           16.81,
           7.48,
           5.005,
           37.66,
           48.975,
           37.225,
           42.15,
           23.735,
           88.325,
           23.185,
           34.04,
           18.96,
           6.5,
           10.01,
           5.885,
           2.735,
           2.465,
           2.17,
           0,
           0,
           0,
           0,
           0,
           0,
           0,
           0,
           0,
           0,
           0,
           0,
           0,
           0,
           1.93,
           8.645,
           5.565,
           16.11,
           9.37,
           23.99,
           16.745,
           0,
           0,
           0,
           0,
           0,
           0,
           0,
           0
          ]
         },
         "mode": "markers",
         "text": [
          "ID: 2570<br>Kiosk Name: South Congress & Academy<br>Rides in 2021: 1305.0<br>Council District: 9.0",
          "ID: 2571<br>Kiosk Name: Red River & 8th Street<br>Rides in 2021: 1512.0<br>Council District: 9.0",
          "ID: 2572<br>Kiosk Name: Barton Springs Pool<br>Rides in 2021: 2167.0<br>Council District: 8.0",
          "ID: 2574<br>Kiosk Name: Zilker Park<br>Rides in 2021: 4325.0<br>Council District: 8.0",
          "ID: 2575<br>Kiosk Name: Riverside @ S. Lamar<br>Rides in 2021: 4916.0<br>Council District: 5.0",
          "ID: 2707<br>Kiosk Name: Rainey St @ Cummings<br>Rides in 2021: 5440.0<br>Council District: 9.0",
          "ID: 2711<br>Kiosk Name: Barton Springs @ Kinney Ave<br>Rides in 2021: 2021.0<br>Council District: 5.0",
          "ID: 2822<br>Kiosk Name: East 6th at Robert Martinez<br>Rides in 2021: 706.0<br>Council District: 3.0",
          "ID: 2823<br>Kiosk Name: Capital Metro HQ - East 5th at Broadway<br>Rides in 2021: 912.0<br>Council District: 3.0",
          "ID: 3291<br>Kiosk Name: 11th & San Jacinto<br>Rides in 2021: 1460.0<br>Council District: 1.0",
          "ID: 3292<br>Kiosk Name: East 4th & Chicon<br>Rides in 2021: 1665.0<br>Council District: 3.0",
          "ID: 3293<br>Kiosk Name: East 2nd & Pedernales<br>Rides in 2021: 1032.0<br>Council District: 3.0",
          "ID: 3294<br>Kiosk Name: Lavaca & 6th<br>Rides in 2021: 684.0<br>Council District: 9.0",
          "ID: 3377<br>Kiosk Name: MoPac Pedestrian Bridge @ Veterans Drive<br>Rides in 2021: 3695.0<br>Council District: 9.0",
          "ID: 3390<br>Kiosk Name: Brazos & 6th<br>Rides in 2021: 1751.0<br>Council District: 9.0",
          "ID: 1111<br>Kiosk Name: 13th & Trinity<br>Rides in 2021: 280.0<br>Council District: 1.0",
          "ID: 2504<br>Kiosk Name: South Congress & Elizabeth<br>Rides in 2021: 1845.0<br>Council District: 9.0",
          "ID: 2537<br>Kiosk Name: West & 6th St.<br>Rides in 2021: 1396.0<br>Council District: 9.0",
          "ID: 2539<br>Kiosk Name: Convention Center / 3rd & Trinity<br>Rides in 2021: 3488.0<br>Council District: 9.0",
          "ID: 2540<br>Kiosk Name: 17th & Guadalupe<br>Rides in 2021: 0.0<br>Council District: 9.0",
          "ID: 2542<br>Kiosk Name: Plaza Saltillo<br>Rides in 2021: 2117.0<br>Council District: 3.0",
          "ID: 2544<br>Kiosk Name: East 6th & Pedernales St.<br>Rides in 2021: 1009.0<br>Council District: 3.0",
          "ID: 2547<br>Kiosk Name: Guadalupe & 21st<br>Rides in 2021: 7479.0<br>Council District: 9.0",
          "ID: 2548<br>Kiosk Name: UT West Mall @ Guadalupe<br>Rides in 2021: 7606.0<br>Council District: 9.0",
          "ID: 2549<br>Kiosk Name: Long Center @ South 1st & Riverside<br>Rides in 2021: 2770.0<br>Council District: 9.0",
          "ID: 2561<br>Kiosk Name: State Capitol Visitors Garage @ San Jacinto & 12th<br>Rides in 2021: 971.0<br>Council District: 1.0",
          "ID: 2562<br>Kiosk Name: San Jacinto & 8th Street<br>Rides in 2021: 593.0<br>Council District: 9.0",
          "ID: 2565<br>Kiosk Name: Trinity & 6th Street<br>Rides in 2021: 947.0<br>Council District: 9.0",
          "ID: 2566<br>Kiosk Name: Pfluger Bridge @ W 2nd Street<br>Rides in 2021: 3570.0<br>Council District: 9.0",
          "ID: 2567<br>Kiosk Name: Palmer Auditorium<br>Rides in 2021: 2867.0<br>Council District: 9.0",
          "ID: 2568<br>Kiosk Name: East 11th St. at Victory Grill<br>Rides in 2021: 708.0<br>Council District: 1.0",
          "ID: 2569<br>Kiosk Name: East 11th St. & San Marcos<br>Rides in 2021: 1015.0<br>Council District: 1.0",
          "ID: 2563<br>Kiosk Name: Rainey/Driskill<br>Rides in 2021: 2999.0<br>Council District: 9.0",
          "ID: 2494<br>Kiosk Name: 2nd & Congress<br>Rides in 2021: 3056.0<br>Council District: 9.0",
          "ID: 2495<br>Kiosk Name: 4th & Congress<br>Rides in 2021: 2542.0<br>Council District: 9.0",
          "ID: 2496<br>Kiosk Name: 8th & Congress<br>Rides in 2021: 1293.0<br>Council District: 9.0",
          "ID: 2497<br>Kiosk Name: Capitol Station / Congress & 11th<br>Rides in 2021: 2828.0<br>Council District: 1.0",
          "ID: 2499<br>Kiosk Name: City Hall / Lavaca & 2nd<br>Rides in 2021: 2579.0<br>Council District: 9.0",
          "ID: 2501<br>Kiosk Name: 5th & Bowie<br>Rides in 2021: 3073.0<br>Council District: 9.0",
          "ID: 2503<br>Kiosk Name: South Congress & James<br>Rides in 2021: 1333.0<br>Council District: 9.0",
          "ID: 2552<br>Kiosk Name: 3rd & West<br>Rides in 2021: 4966.0<br>Council District: 9.0",
          "ID: 3455<br>Kiosk Name: Republic Square @ 5th & Guadalupe<br>Rides in 2021: 1800.0<br>Council District: 9.0",
          "ID: 3621<br>Kiosk Name: Nueces & 3rd<br>Rides in 2021: 2835.0<br>Council District: 9.0",
          "ID: 3464<br>Kiosk Name: Pease Park<br>Rides in 2021: 0.0<br>Council District: 9.0",
          "ID: 4699<br>Kiosk Name: East 5th/Shady @ Eastside Bus Plaza<br>Rides in 2021: 637.0<br>Council District: 3.0",
          "ID: 4879<br>Kiosk Name: 16th/San Antonio<br>Rides in 2021: 2336.0<br>Council District: 9.0",
          "ID: 111<br>Kiosk Name: 23rd & San Gabriel<br>Rides in 2021: 2130.0<br>Council District: 9.0",
          "ID: 11<br>Kiosk Name: 22nd 1/2 & Rio Grande<br>Rides in 2021: 1838.0<br>Council District: 9.0",
          "ID: 2498<br>Kiosk Name: 4th/Sabine<br>Rides in 2021: 1230.0<br>Council District: 9.0",
          "ID: 3513<br>Kiosk Name: South Congress & Barton Springs at the Austin American-Statesman<br>Rides in 2021: 2570.0<br>Council District: 9.0",
          "ID: 3619<br>Kiosk Name: 6th & Congress<br>Rides in 2021: 3526.0<br>Council District: 9.0",
          "ID: 3635<br>Kiosk Name: 13th & San Antonio<br>Rides in 2021: 0.0<br>Council District: 9.0",
          "ID: 3660<br>Kiosk Name: Medina & East 6th<br>Rides in 2021: 2612.0<br>Council District: 3.0",
          "ID: 3684<br>Kiosk Name: Congress & Cesar Chavez<br>Rides in 2021: 1879.0<br>Council District: 9.0",
          "ID: 3685<br>Kiosk Name: Henderson & 9th<br>Rides in 2021: 1792.0<br>Council District: 9.0",
          "ID: 3686<br>Kiosk Name: Sterzing at Barton Springs<br>Rides in 2021: 2755.0<br>Council District: 5.0",
          "ID: 3687<br>Kiosk Name: Boardwalk West<br>Rides in 2021: 3362.0<br>Council District: 9.0",
          "ID: 3790<br>Kiosk Name: Lake Austin Blvd @ Deep Eddy<br>Rides in 2021: 1496.0<br>Council District: 10.0",
          "ID: 3791<br>Kiosk Name: Lake Austin & Enfield<br>Rides in 2021: 1001.0<br>Council District: 10.0",
          "ID: 3792<br>Kiosk Name: 22nd & Pearl<br>Rides in 2021: 7532.0<br>Council District: 9.0",
          "ID: 3793<br>Kiosk Name: Rio Grande & 28th<br>Rides in 2021: 9795.0<br>Council District: 9.0",
          "ID: 3794<br>Kiosk Name: Dean Keeton & Speedway<br>Rides in 2021: 7445.0<br>Council District: 9.0",
          "ID: 3795<br>Kiosk Name: Dean Keeton & Whitis<br>Rides in 2021: 8430.0<br>Council District: 9.0",
          "ID: 3797<br>Kiosk Name: 21st & University<br>Rides in 2021: 4747.0<br>Council District: 9.0",
          "ID: 3798<br>Kiosk Name: 21st & Speedway @PCL<br>Rides in 2021: 17665.0<br>Council District: 9.0",
          "ID: 3799<br>Kiosk Name: 23rd & San Jacinto @ DKR Stadium<br>Rides in 2021: 4637.0<br>Council District: 1.0",
          "ID: 3838<br>Kiosk Name: Nueces & 26th<br>Rides in 2021: 6808.0<br>Council District: 9.0",
          "ID: 3841<br>Kiosk Name: 23rd & Rio Grande<br>Rides in 2021: 3792.0<br>Council District: 9.0",
          "ID: 4047<br>Kiosk Name: 8th & Lavaca<br>Rides in 2021: 1300.0<br>Council District: 9.0",
          "ID: 4048<br>Kiosk Name: South Congress @ Bouldin Creek<br>Rides in 2021: 2002.0<br>Council District: 9.0",
          "ID: 4050<br>Kiosk Name: 5th & Campbell<br>Rides in 2021: 1177.0<br>Council District: 9.0",
          "ID: 4051<br>Kiosk Name: 10th & Red River<br>Rides in 2021: 547.0<br>Council District: 1.0",
          "ID: 4052<br>Kiosk Name: Rosewood & Angelina<br>Rides in 2021: 493.0<br>Council District: 1.0",
          "ID: 4054<br>Kiosk Name: Rosewood & Chicon<br>Rides in 2021: 434.0<br>Council District: 1.0",
          "ID: 2500<br>Kiosk Name: Republic Square<br>Rides in 2021: 0.0<br>Council District: 9.0",
          "ID: 2502<br>Kiosk Name: Barton Springs & Riverside<br>Rides in 2021: 0.0<br>Council District: 9.0",
          "ID: 2536<br>Kiosk Name: Waller & 6th St.<br>Rides in 2021: 0.0<br>Council District: 3.0",
          "ID: 2538<br>Kiosk Name: Bullock Museum @ Congress & MLK<br>Rides in 2021: 0.0<br>Council District: 1.0",
          "ID: 2541<br>Kiosk Name: State Capitol @ 14th & Colorado<br>Rides in 2021: 0.0<br>Council District: 1.0",
          "ID: 2545<br>Kiosk Name: ACC - Rio Grande & 12th<br>Rides in 2021: 0.0<br>Council District: 9.0",
          "ID: 2546<br>Kiosk Name: ACC - West & 12th Street<br>Rides in 2021: 0.0<br>Council District: 9.0",
          "ID: 2550<br>Kiosk Name: 4th/Guadalupe @ Republic Square<br>Rides in 2021: 0.0<br>Council District: 9.0",
          "ID: 2564<br>Kiosk Name: 5th & San Marcos<br>Rides in 2021: 0.0<br>Council District: 3.0",
          "ID: 2576<br>Kiosk Name: Rainey @ River St<br>Rides in 2021: 0.0<br>Council District: 9.0",
          "ID: 2712<br>Kiosk Name: Toomey Rd @ South Lamar<br>Rides in 2021: 0.0<br>Council District: 5.0",
          "ID: 3381<br>Kiosk Name: East 7th & Pleasant Valley<br>Rides in 2021: 0.0<br>Council District: 3.0",
          "ID: 0<br>Kiosk Name: South Congress/Mary<br>Rides in 2021: 0.0<br>Council District: 9.0",
          "ID: 1001<br>Kiosk Name: OFFICE/Main/Shop/Repair<br>Rides in 2021: 0.0<br>Council District: 1.0",
          "ID: 4055<br>Kiosk Name: 11th & Salina<br>Rides in 2021: 386.0<br>Council District: 1.0",
          "ID: 4057<br>Kiosk Name: 6th & Chalmers<br>Rides in 2021: 1729.0<br>Council District: 3.0",
          "ID: 4058<br>Kiosk Name: Hollow Creek & Barton Hills<br>Rides in 2021: 1113.0<br>Council District: 5.0",
          "ID: 4059<br>Kiosk Name: Nash Hernandez @ RBJ South<br>Rides in 2021: 3222.0<br>Council District: 3.0",
          "ID: 4060<br>Kiosk Name: Red River/Cesar Chavez @ The Fairmont<br>Rides in 2021: 1874.0<br>Council District: 9.0",
          "ID: 4061<br>Kiosk Name: Lakeshore @ Austin Hostel<br>Rides in 2021: 4798.0<br>Council District: 3.0",
          "ID: 4062<br>Kiosk Name: Lakeshore & Pleasant Valley<br>Rides in 2021: 3349.0<br>Council District: 3.0",
          "ID: 1002<br>Kiosk Name: 6th & Navasota St.<br>Rides in 2021: 0.0<br>Council District: 3.0",
          "ID: 1003<br>Kiosk Name: 8th & Guadalupe<br>Rides in 2021: 0.0<br>Council District: 9.0",
          "ID: 1004<br>Kiosk Name: Red River & LBJ Library<br>Rides in 2021: 0.0<br>Council District: 1.0",
          "ID: 1005<br>Kiosk Name: State Parking Garage @ Brazos & 18th<br>Rides in 2021: 0.0<br>Council District: 1.0",
          "ID: 1006<br>Kiosk Name: Zilker Park West<br>Rides in 2021: 0.0<br>Council District: 8.0",
          "ID: 1007<br>Kiosk Name: Lavaca & 6th<br>Rides in 2021: 0.0<br>Council District: 9.0",
          "ID: 1008<br>Kiosk Name: Nueces @ 3rd<br>Rides in 2021: 0.0<br>Council District: 9.0",
          "ID: 7186<br>Kiosk Name: One Texas Center<br>Rides in 2021: 0.0<br>Council District: nan"
         ],
         "type": "scattermapbox"
        }
       ],
       "layout": {
        "autosize": false,
        "height": 500,
        "hovermode": "closest",
        "mapbox": {
         "accesstoken": "pk.eyJ1IjoiZmx5aW5nY2FwZSIsImEiOiJjbDd0YWZnc2YwZ3ZzM29yeDQ4bDl3dHZtIn0.q09s_595pGToclUeM8ojQQ",
         "bearing": 0,
         "center": {
          "lat": 30.268485,
          "lon": -97.74091
         },
         "pitch": 0,
         "style": "streets",
         "zoom": 12.25
        },
        "margin": {
         "b": 0.5,
         "l": 0.5,
         "pad": 0.2,
         "r": 0.5,
         "t": 0.5
        },
        "paper_bgcolor": "White",
        "template": {
         "data": {
          "bar": [
           {
            "error_x": {
             "color": "#2a3f5f"
            },
            "error_y": {
             "color": "#2a3f5f"
            },
            "marker": {
             "line": {
              "color": "#E5ECF6",
              "width": 0.5
             },
             "pattern": {
              "fillmode": "overlay",
              "size": 10,
              "solidity": 0.2
             }
            },
            "type": "bar"
           }
          ],
          "barpolar": [
           {
            "marker": {
             "line": {
              "color": "#E5ECF6",
              "width": 0.5
             },
             "pattern": {
              "fillmode": "overlay",
              "size": 10,
              "solidity": 0.2
             }
            },
            "type": "barpolar"
           }
          ],
          "carpet": [
           {
            "aaxis": {
             "endlinecolor": "#2a3f5f",
             "gridcolor": "white",
             "linecolor": "white",
             "minorgridcolor": "white",
             "startlinecolor": "#2a3f5f"
            },
            "baxis": {
             "endlinecolor": "#2a3f5f",
             "gridcolor": "white",
             "linecolor": "white",
             "minorgridcolor": "white",
             "startlinecolor": "#2a3f5f"
            },
            "type": "carpet"
           }
          ],
          "choropleth": [
           {
            "colorbar": {
             "outlinewidth": 0,
             "ticks": ""
            },
            "type": "choropleth"
           }
          ],
          "contour": [
           {
            "colorbar": {
             "outlinewidth": 0,
             "ticks": ""
            },
            "colorscale": [
             [
              0,
              "#0d0887"
             ],
             [
              0.1111111111111111,
              "#46039f"
             ],
             [
              0.2222222222222222,
              "#7201a8"
             ],
             [
              0.3333333333333333,
              "#9c179e"
             ],
             [
              0.4444444444444444,
              "#bd3786"
             ],
             [
              0.5555555555555556,
              "#d8576b"
             ],
             [
              0.6666666666666666,
              "#ed7953"
             ],
             [
              0.7777777777777778,
              "#fb9f3a"
             ],
             [
              0.8888888888888888,
              "#fdca26"
             ],
             [
              1,
              "#f0f921"
             ]
            ],
            "type": "contour"
           }
          ],
          "contourcarpet": [
           {
            "colorbar": {
             "outlinewidth": 0,
             "ticks": ""
            },
            "type": "contourcarpet"
           }
          ],
          "heatmap": [
           {
            "colorbar": {
             "outlinewidth": 0,
             "ticks": ""
            },
            "colorscale": [
             [
              0,
              "#0d0887"
             ],
             [
              0.1111111111111111,
              "#46039f"
             ],
             [
              0.2222222222222222,
              "#7201a8"
             ],
             [
              0.3333333333333333,
              "#9c179e"
             ],
             [
              0.4444444444444444,
              "#bd3786"
             ],
             [
              0.5555555555555556,
              "#d8576b"
             ],
             [
              0.6666666666666666,
              "#ed7953"
             ],
             [
              0.7777777777777778,
              "#fb9f3a"
             ],
             [
              0.8888888888888888,
              "#fdca26"
             ],
             [
              1,
              "#f0f921"
             ]
            ],
            "type": "heatmap"
           }
          ],
          "heatmapgl": [
           {
            "colorbar": {
             "outlinewidth": 0,
             "ticks": ""
            },
            "colorscale": [
             [
              0,
              "#0d0887"
             ],
             [
              0.1111111111111111,
              "#46039f"
             ],
             [
              0.2222222222222222,
              "#7201a8"
             ],
             [
              0.3333333333333333,
              "#9c179e"
             ],
             [
              0.4444444444444444,
              "#bd3786"
             ],
             [
              0.5555555555555556,
              "#d8576b"
             ],
             [
              0.6666666666666666,
              "#ed7953"
             ],
             [
              0.7777777777777778,
              "#fb9f3a"
             ],
             [
              0.8888888888888888,
              "#fdca26"
             ],
             [
              1,
              "#f0f921"
             ]
            ],
            "type": "heatmapgl"
           }
          ],
          "histogram": [
           {
            "marker": {
             "pattern": {
              "fillmode": "overlay",
              "size": 10,
              "solidity": 0.2
             }
            },
            "type": "histogram"
           }
          ],
          "histogram2d": [
           {
            "colorbar": {
             "outlinewidth": 0,
             "ticks": ""
            },
            "colorscale": [
             [
              0,
              "#0d0887"
             ],
             [
              0.1111111111111111,
              "#46039f"
             ],
             [
              0.2222222222222222,
              "#7201a8"
             ],
             [
              0.3333333333333333,
              "#9c179e"
             ],
             [
              0.4444444444444444,
              "#bd3786"
             ],
             [
              0.5555555555555556,
              "#d8576b"
             ],
             [
              0.6666666666666666,
              "#ed7953"
             ],
             [
              0.7777777777777778,
              "#fb9f3a"
             ],
             [
              0.8888888888888888,
              "#fdca26"
             ],
             [
              1,
              "#f0f921"
             ]
            ],
            "type": "histogram2d"
           }
          ],
          "histogram2dcontour": [
           {
            "colorbar": {
             "outlinewidth": 0,
             "ticks": ""
            },
            "colorscale": [
             [
              0,
              "#0d0887"
             ],
             [
              0.1111111111111111,
              "#46039f"
             ],
             [
              0.2222222222222222,
              "#7201a8"
             ],
             [
              0.3333333333333333,
              "#9c179e"
             ],
             [
              0.4444444444444444,
              "#bd3786"
             ],
             [
              0.5555555555555556,
              "#d8576b"
             ],
             [
              0.6666666666666666,
              "#ed7953"
             ],
             [
              0.7777777777777778,
              "#fb9f3a"
             ],
             [
              0.8888888888888888,
              "#fdca26"
             ],
             [
              1,
              "#f0f921"
             ]
            ],
            "type": "histogram2dcontour"
           }
          ],
          "mesh3d": [
           {
            "colorbar": {
             "outlinewidth": 0,
             "ticks": ""
            },
            "type": "mesh3d"
           }
          ],
          "parcoords": [
           {
            "line": {
             "colorbar": {
              "outlinewidth": 0,
              "ticks": ""
             }
            },
            "type": "parcoords"
           }
          ],
          "pie": [
           {
            "automargin": true,
            "type": "pie"
           }
          ],
          "scatter": [
           {
            "marker": {
             "colorbar": {
              "outlinewidth": 0,
              "ticks": ""
             }
            },
            "type": "scatter"
           }
          ],
          "scatter3d": [
           {
            "line": {
             "colorbar": {
              "outlinewidth": 0,
              "ticks": ""
             }
            },
            "marker": {
             "colorbar": {
              "outlinewidth": 0,
              "ticks": ""
             }
            },
            "type": "scatter3d"
           }
          ],
          "scattercarpet": [
           {
            "marker": {
             "colorbar": {
              "outlinewidth": 0,
              "ticks": ""
             }
            },
            "type": "scattercarpet"
           }
          ],
          "scattergeo": [
           {
            "marker": {
             "colorbar": {
              "outlinewidth": 0,
              "ticks": ""
             }
            },
            "type": "scattergeo"
           }
          ],
          "scattergl": [
           {
            "marker": {
             "colorbar": {
              "outlinewidth": 0,
              "ticks": ""
             }
            },
            "type": "scattergl"
           }
          ],
          "scattermapbox": [
           {
            "marker": {
             "colorbar": {
              "outlinewidth": 0,
              "ticks": ""
             }
            },
            "type": "scattermapbox"
           }
          ],
          "scatterpolar": [
           {
            "marker": {
             "colorbar": {
              "outlinewidth": 0,
              "ticks": ""
             }
            },
            "type": "scatterpolar"
           }
          ],
          "scatterpolargl": [
           {
            "marker": {
             "colorbar": {
              "outlinewidth": 0,
              "ticks": ""
             }
            },
            "type": "scatterpolargl"
           }
          ],
          "scatterternary": [
           {
            "marker": {
             "colorbar": {
              "outlinewidth": 0,
              "ticks": ""
             }
            },
            "type": "scatterternary"
           }
          ],
          "surface": [
           {
            "colorbar": {
             "outlinewidth": 0,
             "ticks": ""
            },
            "colorscale": [
             [
              0,
              "#0d0887"
             ],
             [
              0.1111111111111111,
              "#46039f"
             ],
             [
              0.2222222222222222,
              "#7201a8"
             ],
             [
              0.3333333333333333,
              "#9c179e"
             ],
             [
              0.4444444444444444,
              "#bd3786"
             ],
             [
              0.5555555555555556,
              "#d8576b"
             ],
             [
              0.6666666666666666,
              "#ed7953"
             ],
             [
              0.7777777777777778,
              "#fb9f3a"
             ],
             [
              0.8888888888888888,
              "#fdca26"
             ],
             [
              1,
              "#f0f921"
             ]
            ],
            "type": "surface"
           }
          ],
          "table": [
           {
            "cells": {
             "fill": {
              "color": "#EBF0F8"
             },
             "line": {
              "color": "white"
             }
            },
            "header": {
             "fill": {
              "color": "#C8D4E3"
             },
             "line": {
              "color": "white"
             }
            },
            "type": "table"
           }
          ]
         },
         "layout": {
          "annotationdefaults": {
           "arrowcolor": "#2a3f5f",
           "arrowhead": 0,
           "arrowwidth": 1
          },
          "autotypenumbers": "strict",
          "coloraxis": {
           "colorbar": {
            "outlinewidth": 0,
            "ticks": ""
           }
          },
          "colorscale": {
           "diverging": [
            [
             0,
             "#8e0152"
            ],
            [
             0.1,
             "#c51b7d"
            ],
            [
             0.2,
             "#de77ae"
            ],
            [
             0.3,
             "#f1b6da"
            ],
            [
             0.4,
             "#fde0ef"
            ],
            [
             0.5,
             "#f7f7f7"
            ],
            [
             0.6,
             "#e6f5d0"
            ],
            [
             0.7,
             "#b8e186"
            ],
            [
             0.8,
             "#7fbc41"
            ],
            [
             0.9,
             "#4d9221"
            ],
            [
             1,
             "#276419"
            ]
           ],
           "sequential": [
            [
             0,
             "#0d0887"
            ],
            [
             0.1111111111111111,
             "#46039f"
            ],
            [
             0.2222222222222222,
             "#7201a8"
            ],
            [
             0.3333333333333333,
             "#9c179e"
            ],
            [
             0.4444444444444444,
             "#bd3786"
            ],
            [
             0.5555555555555556,
             "#d8576b"
            ],
            [
             0.6666666666666666,
             "#ed7953"
            ],
            [
             0.7777777777777778,
             "#fb9f3a"
            ],
            [
             0.8888888888888888,
             "#fdca26"
            ],
            [
             1,
             "#f0f921"
            ]
           ],
           "sequentialminus": [
            [
             0,
             "#0d0887"
            ],
            [
             0.1111111111111111,
             "#46039f"
            ],
            [
             0.2222222222222222,
             "#7201a8"
            ],
            [
             0.3333333333333333,
             "#9c179e"
            ],
            [
             0.4444444444444444,
             "#bd3786"
            ],
            [
             0.5555555555555556,
             "#d8576b"
            ],
            [
             0.6666666666666666,
             "#ed7953"
            ],
            [
             0.7777777777777778,
             "#fb9f3a"
            ],
            [
             0.8888888888888888,
             "#fdca26"
            ],
            [
             1,
             "#f0f921"
            ]
           ]
          },
          "colorway": [
           "#636efa",
           "#EF553B",
           "#00cc96",
           "#ab63fa",
           "#FFA15A",
           "#19d3f3",
           "#FF6692",
           "#B6E880",
           "#FF97FF",
           "#FECB52"
          ],
          "font": {
           "color": "#2a3f5f"
          },
          "geo": {
           "bgcolor": "white",
           "lakecolor": "white",
           "landcolor": "#E5ECF6",
           "showlakes": true,
           "showland": true,
           "subunitcolor": "white"
          },
          "hoverlabel": {
           "align": "left"
          },
          "hovermode": "closest",
          "mapbox": {
           "style": "light"
          },
          "paper_bgcolor": "white",
          "plot_bgcolor": "#E5ECF6",
          "polar": {
           "angularaxis": {
            "gridcolor": "white",
            "linecolor": "white",
            "ticks": ""
           },
           "bgcolor": "#E5ECF6",
           "radialaxis": {
            "gridcolor": "white",
            "linecolor": "white",
            "ticks": ""
           }
          },
          "scene": {
           "xaxis": {
            "backgroundcolor": "#E5ECF6",
            "gridcolor": "white",
            "gridwidth": 2,
            "linecolor": "white",
            "showbackground": true,
            "ticks": "",
            "zerolinecolor": "white"
           },
           "yaxis": {
            "backgroundcolor": "#E5ECF6",
            "gridcolor": "white",
            "gridwidth": 2,
            "linecolor": "white",
            "showbackground": true,
            "ticks": "",
            "zerolinecolor": "white"
           },
           "zaxis": {
            "backgroundcolor": "#E5ECF6",
            "gridcolor": "white",
            "gridwidth": 2,
            "linecolor": "white",
            "showbackground": true,
            "ticks": "",
            "zerolinecolor": "white"
           }
          },
          "shapedefaults": {
           "line": {
            "color": "#2a3f5f"
           }
          },
          "ternary": {
           "aaxis": {
            "gridcolor": "white",
            "linecolor": "white",
            "ticks": ""
           },
           "baxis": {
            "gridcolor": "white",
            "linecolor": "white",
            "ticks": ""
           },
           "bgcolor": "#E5ECF6",
           "caxis": {
            "gridcolor": "white",
            "linecolor": "white",
            "ticks": ""
           }
          },
          "title": {
           "x": 0.05
          },
          "xaxis": {
           "automargin": true,
           "gridcolor": "white",
           "linecolor": "white",
           "ticks": "",
           "title": {
            "standoff": 15
           },
           "zerolinecolor": "white",
           "zerolinewidth": 2
          },
          "yaxis": {
           "automargin": true,
           "gridcolor": "white",
           "linecolor": "white",
           "ticks": "",
           "title": {
            "standoff": 15
           },
           "zerolinecolor": "white",
           "zerolinewidth": 2
          }
         }
        },
        "width": 750
       }
      },
      "text/html": [
       "<div>                            <div id=\"2088fb53-c1c0-4777-b214-827422b12c39\" class=\"plotly-graph-div\" style=\"height:500px; width:750px;\"></div>            <script type=\"text/javascript\">                require([\"plotly\"], function(Plotly) {                    window.PLOTLYENV=window.PLOTLYENV || {};                                    if (document.getElementById(\"2088fb53-c1c0-4777-b214-827422b12c39\")) {                    Plotly.newPlot(                        \"2088fb53-c1c0-4777-b214-827422b12c39\",                        [{\"lat\":[30.25226,30.26854,30.26452,30.2659,30.26446,30.255906,30.262,30.26032,30.2563,30.27193,30.25987,30.25542,30.268887,30.27466,30.26754,30.2741,30.24891,30.27041,30.26426,30.27974,30.26217,30.25895,30.28395,30.28576,30.25941,30.27336,30.26912,30.26735,30.26717,30.25971,30.26896,30.26968,30.260814,30.26408,30.26634,30.2698,30.2726,30.26476,30.2696,30.25103,30.2678,30.26753,30.26697,30.28118,30.25212,30.27924,30.2874,30.2862,30.264327,30.25839,30.26822,30.27616,30.26455,30.26332,30.27217,30.26406,30.25457,30.27807,30.29439,30.2853,30.29333,30.28953,30.2898,30.28354,30.283,30.2856,30.29068,30.28728,30.27059,30.25495,30.27489,30.27024,30.26888,30.26969,30.26751,30.2587,30.26461,30.28039,30.27654,30.27595,30.27624,30.267263,30.26416,30.25802,30.26304,30.26025,30.244961,30.27186,30.26638,30.26269,30.26139,30.252,30.26214,30.24472,30.24258,30.26383,30.27106,30.2848,30.27907,30.26587,30.26889,30.26694,30.257595316333752],\"lon\":[-97.74854,-97.73646,-97.7712,-97.76822,-97.75665,-97.739949,-97.76118,-97.71899,-97.71007,-97.73854,-97.72373,-97.71665,-97.745242,-97.77028,-97.74154,-97.73666,-97.75019,-97.75046,-97.74023,-97.74254,-97.72743,-97.71475,-97.74198,-97.74181,-97.74971,-97.73805,-97.73986,-97.73933,-97.75484,-97.75346,-97.72843,-97.73074,-97.738086,-97.74355,-97.74378,-97.74186,-97.74127,-97.74678,-97.75332,-97.74926,-97.75189,-97.74805,-97.74929,-97.75219,-97.69807,-97.74371,-97.7478,-97.74516,-97.736446,-97.74592,-97.74285,-97.74488,-97.73165,-97.74508,-97.75246,-97.76385,-97.74258,-97.77272,-97.78375,-97.7467,-97.74412,-97.73695,-97.74041,-97.73953,-97.7375,-97.7335,-97.74292,-97.74495,-97.74441,-97.74755,-97.76483,-97.73578,-97.72431,-97.71873,-97.74802,-97.74872,-97.73049,-97.73809,-97.74155,-97.74739,-97.74831,-97.747144,-97.73289,-97.7391,-97.75824,-97.71002,-97.751272,-97.73997,-97.7214,-97.72438,-97.77234,-97.7346,-97.7387,-97.72336,-97.71726,-97.72864,-97.74563,-97.72756,-97.73715,-97.76826,-97.74525,-97.74939,-97.74901281385847],\"marker\":{\"color\":\"navy\",\"size\":[6.525,7.56,10.835,21.625,24.58,27.2,10.105,3.53,4.56,7.3,8.325,5.16,3.42,18.475,8.755,1.4,9.225,6.98,17.44,0.0,10.585,5.045,37.395,38.03,13.85,4.855,2.965,4.735,17.85,14.335,3.54,5.075,14.995,15.28,12.71,6.465,14.14,12.895,15.365,6.665,24.83,9.0,14.175,0.0,3.185,11.68,10.65,9.19,6.15,12.85,17.63,0.0,13.06,9.395,8.96,13.775,16.81,7.48,5.005,37.66,48.975,37.225,42.15,23.735,88.325,23.185,34.04,18.96,6.5,10.01,5.885,2.735,2.465,2.17,0.0,0.0,0.0,0.0,0.0,0.0,0.0,0.0,0.0,0.0,0.0,0.0,0.0,0.0,1.93,8.645,5.565,16.11,9.37,23.99,16.745,0.0,0.0,0.0,0.0,0.0,0.0,0.0,0.0]},\"mode\":\"markers\",\"text\":[\"ID: 2570<br>Kiosk Name: South Congress & Academy<br>Rides in 2021: 1305.0<br>Council District: 9.0\",\"ID: 2571<br>Kiosk Name: Red River & 8th Street<br>Rides in 2021: 1512.0<br>Council District: 9.0\",\"ID: 2572<br>Kiosk Name: Barton Springs Pool<br>Rides in 2021: 2167.0<br>Council District: 8.0\",\"ID: 2574<br>Kiosk Name: Zilker Park<br>Rides in 2021: 4325.0<br>Council District: 8.0\",\"ID: 2575<br>Kiosk Name: Riverside @ S. Lamar<br>Rides in 2021: 4916.0<br>Council District: 5.0\",\"ID: 2707<br>Kiosk Name: Rainey St @ Cummings<br>Rides in 2021: 5440.0<br>Council District: 9.0\",\"ID: 2711<br>Kiosk Name: Barton Springs @ Kinney Ave<br>Rides in 2021: 2021.0<br>Council District: 5.0\",\"ID: 2822<br>Kiosk Name: East 6th at Robert Martinez<br>Rides in 2021: 706.0<br>Council District: 3.0\",\"ID: 2823<br>Kiosk Name: Capital Metro HQ - East 5th at Broadway<br>Rides in 2021: 912.0<br>Council District: 3.0\",\"ID: 3291<br>Kiosk Name: 11th & San Jacinto<br>Rides in 2021: 1460.0<br>Council District: 1.0\",\"ID: 3292<br>Kiosk Name: East 4th & Chicon<br>Rides in 2021: 1665.0<br>Council District: 3.0\",\"ID: 3293<br>Kiosk Name: East 2nd & Pedernales<br>Rides in 2021: 1032.0<br>Council District: 3.0\",\"ID: 3294<br>Kiosk Name: Lavaca & 6th<br>Rides in 2021: 684.0<br>Council District: 9.0\",\"ID: 3377<br>Kiosk Name: MoPac Pedestrian Bridge @ Veterans Drive<br>Rides in 2021: 3695.0<br>Council District: 9.0\",\"ID: 3390<br>Kiosk Name: Brazos & 6th<br>Rides in 2021: 1751.0<br>Council District: 9.0\",\"ID: 1111<br>Kiosk Name: 13th & Trinity<br>Rides in 2021: 280.0<br>Council District: 1.0\",\"ID: 2504<br>Kiosk Name: South Congress & Elizabeth<br>Rides in 2021: 1845.0<br>Council District: 9.0\",\"ID: 2537<br>Kiosk Name: West & 6th St.<br>Rides in 2021: 1396.0<br>Council District: 9.0\",\"ID: 2539<br>Kiosk Name: Convention Center / 3rd & Trinity<br>Rides in 2021: 3488.0<br>Council District: 9.0\",\"ID: 2540<br>Kiosk Name: 17th & Guadalupe<br>Rides in 2021: 0.0<br>Council District: 9.0\",\"ID: 2542<br>Kiosk Name: Plaza Saltillo<br>Rides in 2021: 2117.0<br>Council District: 3.0\",\"ID: 2544<br>Kiosk Name: East 6th & Pedernales St.<br>Rides in 2021: 1009.0<br>Council District: 3.0\",\"ID: 2547<br>Kiosk Name: Guadalupe & 21st<br>Rides in 2021: 7479.0<br>Council District: 9.0\",\"ID: 2548<br>Kiosk Name: UT West Mall @ Guadalupe<br>Rides in 2021: 7606.0<br>Council District: 9.0\",\"ID: 2549<br>Kiosk Name: Long Center @ South 1st & Riverside<br>Rides in 2021: 2770.0<br>Council District: 9.0\",\"ID: 2561<br>Kiosk Name: State Capitol Visitors Garage @ San Jacinto & 12th<br>Rides in 2021: 971.0<br>Council District: 1.0\",\"ID: 2562<br>Kiosk Name: San Jacinto & 8th Street<br>Rides in 2021: 593.0<br>Council District: 9.0\",\"ID: 2565<br>Kiosk Name: Trinity & 6th Street<br>Rides in 2021: 947.0<br>Council District: 9.0\",\"ID: 2566<br>Kiosk Name: Pfluger Bridge @ W 2nd Street<br>Rides in 2021: 3570.0<br>Council District: 9.0\",\"ID: 2567<br>Kiosk Name: Palmer Auditorium<br>Rides in 2021: 2867.0<br>Council District: 9.0\",\"ID: 2568<br>Kiosk Name: East 11th St. at Victory Grill<br>Rides in 2021: 708.0<br>Council District: 1.0\",\"ID: 2569<br>Kiosk Name: East 11th St. & San Marcos<br>Rides in 2021: 1015.0<br>Council District: 1.0\",\"ID: 2563<br>Kiosk Name: Rainey/Driskill<br>Rides in 2021: 2999.0<br>Council District: 9.0\",\"ID: 2494<br>Kiosk Name: 2nd & Congress<br>Rides in 2021: 3056.0<br>Council District: 9.0\",\"ID: 2495<br>Kiosk Name: 4th & Congress<br>Rides in 2021: 2542.0<br>Council District: 9.0\",\"ID: 2496<br>Kiosk Name: 8th & Congress<br>Rides in 2021: 1293.0<br>Council District: 9.0\",\"ID: 2497<br>Kiosk Name: Capitol Station / Congress & 11th<br>Rides in 2021: 2828.0<br>Council District: 1.0\",\"ID: 2499<br>Kiosk Name: City Hall / Lavaca & 2nd<br>Rides in 2021: 2579.0<br>Council District: 9.0\",\"ID: 2501<br>Kiosk Name: 5th & Bowie<br>Rides in 2021: 3073.0<br>Council District: 9.0\",\"ID: 2503<br>Kiosk Name: South Congress & James<br>Rides in 2021: 1333.0<br>Council District: 9.0\",\"ID: 2552<br>Kiosk Name: 3rd & West<br>Rides in 2021: 4966.0<br>Council District: 9.0\",\"ID: 3455<br>Kiosk Name: Republic Square @ 5th & Guadalupe<br>Rides in 2021: 1800.0<br>Council District: 9.0\",\"ID: 3621<br>Kiosk Name: Nueces & 3rd<br>Rides in 2021: 2835.0<br>Council District: 9.0\",\"ID: 3464<br>Kiosk Name: Pease Park<br>Rides in 2021: 0.0<br>Council District: 9.0\",\"ID: 4699<br>Kiosk Name: East 5th/Shady @ Eastside Bus Plaza<br>Rides in 2021: 637.0<br>Council District: 3.0\",\"ID: 4879<br>Kiosk Name: 16th/San Antonio<br>Rides in 2021: 2336.0<br>Council District: 9.0\",\"ID: 111<br>Kiosk Name: 23rd & San Gabriel<br>Rides in 2021: 2130.0<br>Council District: 9.0\",\"ID: 11<br>Kiosk Name: 22nd 1/2 & Rio Grande<br>Rides in 2021: 1838.0<br>Council District: 9.0\",\"ID: 2498<br>Kiosk Name: 4th/Sabine<br>Rides in 2021: 1230.0<br>Council District: 9.0\",\"ID: 3513<br>Kiosk Name: South Congress & Barton Springs at the Austin American-Statesman<br>Rides in 2021: 2570.0<br>Council District: 9.0\",\"ID: 3619<br>Kiosk Name: 6th & Congress<br>Rides in 2021: 3526.0<br>Council District: 9.0\",\"ID: 3635<br>Kiosk Name: 13th & San Antonio<br>Rides in 2021: 0.0<br>Council District: 9.0\",\"ID: 3660<br>Kiosk Name: Medina & East 6th<br>Rides in 2021: 2612.0<br>Council District: 3.0\",\"ID: 3684<br>Kiosk Name: Congress & Cesar Chavez<br>Rides in 2021: 1879.0<br>Council District: 9.0\",\"ID: 3685<br>Kiosk Name: Henderson & 9th<br>Rides in 2021: 1792.0<br>Council District: 9.0\",\"ID: 3686<br>Kiosk Name: Sterzing at Barton Springs<br>Rides in 2021: 2755.0<br>Council District: 5.0\",\"ID: 3687<br>Kiosk Name: Boardwalk West<br>Rides in 2021: 3362.0<br>Council District: 9.0\",\"ID: 3790<br>Kiosk Name: Lake Austin Blvd @ Deep Eddy<br>Rides in 2021: 1496.0<br>Council District: 10.0\",\"ID: 3791<br>Kiosk Name: Lake Austin & Enfield<br>Rides in 2021: 1001.0<br>Council District: 10.0\",\"ID: 3792<br>Kiosk Name: 22nd & Pearl<br>Rides in 2021: 7532.0<br>Council District: 9.0\",\"ID: 3793<br>Kiosk Name: Rio Grande & 28th<br>Rides in 2021: 9795.0<br>Council District: 9.0\",\"ID: 3794<br>Kiosk Name: Dean Keeton & Speedway<br>Rides in 2021: 7445.0<br>Council District: 9.0\",\"ID: 3795<br>Kiosk Name: Dean Keeton & Whitis<br>Rides in 2021: 8430.0<br>Council District: 9.0\",\"ID: 3797<br>Kiosk Name: 21st & University<br>Rides in 2021: 4747.0<br>Council District: 9.0\",\"ID: 3798<br>Kiosk Name: 21st & Speedway @PCL<br>Rides in 2021: 17665.0<br>Council District: 9.0\",\"ID: 3799<br>Kiosk Name: 23rd & San Jacinto @ DKR Stadium<br>Rides in 2021: 4637.0<br>Council District: 1.0\",\"ID: 3838<br>Kiosk Name: Nueces & 26th<br>Rides in 2021: 6808.0<br>Council District: 9.0\",\"ID: 3841<br>Kiosk Name: 23rd & Rio Grande<br>Rides in 2021: 3792.0<br>Council District: 9.0\",\"ID: 4047<br>Kiosk Name: 8th & Lavaca<br>Rides in 2021: 1300.0<br>Council District: 9.0\",\"ID: 4048<br>Kiosk Name: South Congress @ Bouldin Creek<br>Rides in 2021: 2002.0<br>Council District: 9.0\",\"ID: 4050<br>Kiosk Name: 5th & Campbell<br>Rides in 2021: 1177.0<br>Council District: 9.0\",\"ID: 4051<br>Kiosk Name: 10th & Red River<br>Rides in 2021: 547.0<br>Council District: 1.0\",\"ID: 4052<br>Kiosk Name: Rosewood & Angelina<br>Rides in 2021: 493.0<br>Council District: 1.0\",\"ID: 4054<br>Kiosk Name: Rosewood & Chicon<br>Rides in 2021: 434.0<br>Council District: 1.0\",\"ID: 2500<br>Kiosk Name: Republic Square<br>Rides in 2021: 0.0<br>Council District: 9.0\",\"ID: 2502<br>Kiosk Name: Barton Springs & Riverside<br>Rides in 2021: 0.0<br>Council District: 9.0\",\"ID: 2536<br>Kiosk Name: Waller & 6th St.<br>Rides in 2021: 0.0<br>Council District: 3.0\",\"ID: 2538<br>Kiosk Name: Bullock Museum @ Congress & MLK<br>Rides in 2021: 0.0<br>Council District: 1.0\",\"ID: 2541<br>Kiosk Name: State Capitol @ 14th & Colorado<br>Rides in 2021: 0.0<br>Council District: 1.0\",\"ID: 2545<br>Kiosk Name: ACC - Rio Grande & 12th<br>Rides in 2021: 0.0<br>Council District: 9.0\",\"ID: 2546<br>Kiosk Name: ACC - West & 12th Street<br>Rides in 2021: 0.0<br>Council District: 9.0\",\"ID: 2550<br>Kiosk Name: 4th/Guadalupe @ Republic Square<br>Rides in 2021: 0.0<br>Council District: 9.0\",\"ID: 2564<br>Kiosk Name: 5th & San Marcos<br>Rides in 2021: 0.0<br>Council District: 3.0\",\"ID: 2576<br>Kiosk Name: Rainey @ River St<br>Rides in 2021: 0.0<br>Council District: 9.0\",\"ID: 2712<br>Kiosk Name: Toomey Rd @ South Lamar<br>Rides in 2021: 0.0<br>Council District: 5.0\",\"ID: 3381<br>Kiosk Name: East 7th & Pleasant Valley<br>Rides in 2021: 0.0<br>Council District: 3.0\",\"ID: 0<br>Kiosk Name: South Congress/Mary<br>Rides in 2021: 0.0<br>Council District: 9.0\",\"ID: 1001<br>Kiosk Name: OFFICE/Main/Shop/Repair<br>Rides in 2021: 0.0<br>Council District: 1.0\",\"ID: 4055<br>Kiosk Name: 11th & Salina<br>Rides in 2021: 386.0<br>Council District: 1.0\",\"ID: 4057<br>Kiosk Name: 6th & Chalmers<br>Rides in 2021: 1729.0<br>Council District: 3.0\",\"ID: 4058<br>Kiosk Name: Hollow Creek & Barton Hills<br>Rides in 2021: 1113.0<br>Council District: 5.0\",\"ID: 4059<br>Kiosk Name: Nash Hernandez @ RBJ South<br>Rides in 2021: 3222.0<br>Council District: 3.0\",\"ID: 4060<br>Kiosk Name: Red River/Cesar Chavez @ The Fairmont<br>Rides in 2021: 1874.0<br>Council District: 9.0\",\"ID: 4061<br>Kiosk Name: Lakeshore @ Austin Hostel<br>Rides in 2021: 4798.0<br>Council District: 3.0\",\"ID: 4062<br>Kiosk Name: Lakeshore & Pleasant Valley<br>Rides in 2021: 3349.0<br>Council District: 3.0\",\"ID: 1002<br>Kiosk Name: 6th & Navasota St.<br>Rides in 2021: 0.0<br>Council District: 3.0\",\"ID: 1003<br>Kiosk Name: 8th & Guadalupe<br>Rides in 2021: 0.0<br>Council District: 9.0\",\"ID: 1004<br>Kiosk Name: Red River & LBJ Library<br>Rides in 2021: 0.0<br>Council District: 1.0\",\"ID: 1005<br>Kiosk Name: State Parking Garage @ Brazos & 18th<br>Rides in 2021: 0.0<br>Council District: 1.0\",\"ID: 1006<br>Kiosk Name: Zilker Park West<br>Rides in 2021: 0.0<br>Council District: 8.0\",\"ID: 1007<br>Kiosk Name: Lavaca & 6th<br>Rides in 2021: 0.0<br>Council District: 9.0\",\"ID: 1008<br>Kiosk Name: Nueces @ 3rd<br>Rides in 2021: 0.0<br>Council District: 9.0\",\"ID: 7186<br>Kiosk Name: One Texas Center<br>Rides in 2021: 0.0<br>Council District: nan\"],\"type\":\"scattermapbox\"}],                        {\"autosize\":false,\"height\":500,\"hovermode\":\"closest\",\"mapbox\":{\"accesstoken\":\"pk.eyJ1IjoiZmx5aW5nY2FwZSIsImEiOiJjbDd0YWZnc2YwZ3ZzM29yeDQ4bDl3dHZtIn0.q09s_595pGToclUeM8ojQQ\",\"bearing\":0,\"center\":{\"lat\":30.268485,\"lon\":-97.74091},\"pitch\":0,\"style\":\"streets\",\"zoom\":12.25},\"margin\":{\"b\":0.5,\"l\":0.5,\"pad\":0.2,\"r\":0.5,\"t\":0.5},\"paper_bgcolor\":\"White\",\"template\":{\"data\":{\"bar\":[{\"error_x\":{\"color\":\"#2a3f5f\"},\"error_y\":{\"color\":\"#2a3f5f\"},\"marker\":{\"line\":{\"color\":\"#E5ECF6\",\"width\":0.5},\"pattern\":{\"fillmode\":\"overlay\",\"size\":10,\"solidity\":0.2}},\"type\":\"bar\"}],\"barpolar\":[{\"marker\":{\"line\":{\"color\":\"#E5ECF6\",\"width\":0.5},\"pattern\":{\"fillmode\":\"overlay\",\"size\":10,\"solidity\":0.2}},\"type\":\"barpolar\"}],\"carpet\":[{\"aaxis\":{\"endlinecolor\":\"#2a3f5f\",\"gridcolor\":\"white\",\"linecolor\":\"white\",\"minorgridcolor\":\"white\",\"startlinecolor\":\"#2a3f5f\"},\"baxis\":{\"endlinecolor\":\"#2a3f5f\",\"gridcolor\":\"white\",\"linecolor\":\"white\",\"minorgridcolor\":\"white\",\"startlinecolor\":\"#2a3f5f\"},\"type\":\"carpet\"}],\"choropleth\":[{\"colorbar\":{\"outlinewidth\":0,\"ticks\":\"\"},\"type\":\"choropleth\"}],\"contour\":[{\"colorbar\":{\"outlinewidth\":0,\"ticks\":\"\"},\"colorscale\":[[0.0,\"#0d0887\"],[0.1111111111111111,\"#46039f\"],[0.2222222222222222,\"#7201a8\"],[0.3333333333333333,\"#9c179e\"],[0.4444444444444444,\"#bd3786\"],[0.5555555555555556,\"#d8576b\"],[0.6666666666666666,\"#ed7953\"],[0.7777777777777778,\"#fb9f3a\"],[0.8888888888888888,\"#fdca26\"],[1.0,\"#f0f921\"]],\"type\":\"contour\"}],\"contourcarpet\":[{\"colorbar\":{\"outlinewidth\":0,\"ticks\":\"\"},\"type\":\"contourcarpet\"}],\"heatmap\":[{\"colorbar\":{\"outlinewidth\":0,\"ticks\":\"\"},\"colorscale\":[[0.0,\"#0d0887\"],[0.1111111111111111,\"#46039f\"],[0.2222222222222222,\"#7201a8\"],[0.3333333333333333,\"#9c179e\"],[0.4444444444444444,\"#bd3786\"],[0.5555555555555556,\"#d8576b\"],[0.6666666666666666,\"#ed7953\"],[0.7777777777777778,\"#fb9f3a\"],[0.8888888888888888,\"#fdca26\"],[1.0,\"#f0f921\"]],\"type\":\"heatmap\"}],\"heatmapgl\":[{\"colorbar\":{\"outlinewidth\":0,\"ticks\":\"\"},\"colorscale\":[[0.0,\"#0d0887\"],[0.1111111111111111,\"#46039f\"],[0.2222222222222222,\"#7201a8\"],[0.3333333333333333,\"#9c179e\"],[0.4444444444444444,\"#bd3786\"],[0.5555555555555556,\"#d8576b\"],[0.6666666666666666,\"#ed7953\"],[0.7777777777777778,\"#fb9f3a\"],[0.8888888888888888,\"#fdca26\"],[1.0,\"#f0f921\"]],\"type\":\"heatmapgl\"}],\"histogram\":[{\"marker\":{\"pattern\":{\"fillmode\":\"overlay\",\"size\":10,\"solidity\":0.2}},\"type\":\"histogram\"}],\"histogram2d\":[{\"colorbar\":{\"outlinewidth\":0,\"ticks\":\"\"},\"colorscale\":[[0.0,\"#0d0887\"],[0.1111111111111111,\"#46039f\"],[0.2222222222222222,\"#7201a8\"],[0.3333333333333333,\"#9c179e\"],[0.4444444444444444,\"#bd3786\"],[0.5555555555555556,\"#d8576b\"],[0.6666666666666666,\"#ed7953\"],[0.7777777777777778,\"#fb9f3a\"],[0.8888888888888888,\"#fdca26\"],[1.0,\"#f0f921\"]],\"type\":\"histogram2d\"}],\"histogram2dcontour\":[{\"colorbar\":{\"outlinewidth\":0,\"ticks\":\"\"},\"colorscale\":[[0.0,\"#0d0887\"],[0.1111111111111111,\"#46039f\"],[0.2222222222222222,\"#7201a8\"],[0.3333333333333333,\"#9c179e\"],[0.4444444444444444,\"#bd3786\"],[0.5555555555555556,\"#d8576b\"],[0.6666666666666666,\"#ed7953\"],[0.7777777777777778,\"#fb9f3a\"],[0.8888888888888888,\"#fdca26\"],[1.0,\"#f0f921\"]],\"type\":\"histogram2dcontour\"}],\"mesh3d\":[{\"colorbar\":{\"outlinewidth\":0,\"ticks\":\"\"},\"type\":\"mesh3d\"}],\"parcoords\":[{\"line\":{\"colorbar\":{\"outlinewidth\":0,\"ticks\":\"\"}},\"type\":\"parcoords\"}],\"pie\":[{\"automargin\":true,\"type\":\"pie\"}],\"scatter\":[{\"marker\":{\"colorbar\":{\"outlinewidth\":0,\"ticks\":\"\"}},\"type\":\"scatter\"}],\"scatter3d\":[{\"line\":{\"colorbar\":{\"outlinewidth\":0,\"ticks\":\"\"}},\"marker\":{\"colorbar\":{\"outlinewidth\":0,\"ticks\":\"\"}},\"type\":\"scatter3d\"}],\"scattercarpet\":[{\"marker\":{\"colorbar\":{\"outlinewidth\":0,\"ticks\":\"\"}},\"type\":\"scattercarpet\"}],\"scattergeo\":[{\"marker\":{\"colorbar\":{\"outlinewidth\":0,\"ticks\":\"\"}},\"type\":\"scattergeo\"}],\"scattergl\":[{\"marker\":{\"colorbar\":{\"outlinewidth\":0,\"ticks\":\"\"}},\"type\":\"scattergl\"}],\"scattermapbox\":[{\"marker\":{\"colorbar\":{\"outlinewidth\":0,\"ticks\":\"\"}},\"type\":\"scattermapbox\"}],\"scatterpolar\":[{\"marker\":{\"colorbar\":{\"outlinewidth\":0,\"ticks\":\"\"}},\"type\":\"scatterpolar\"}],\"scatterpolargl\":[{\"marker\":{\"colorbar\":{\"outlinewidth\":0,\"ticks\":\"\"}},\"type\":\"scatterpolargl\"}],\"scatterternary\":[{\"marker\":{\"colorbar\":{\"outlinewidth\":0,\"ticks\":\"\"}},\"type\":\"scatterternary\"}],\"surface\":[{\"colorbar\":{\"outlinewidth\":0,\"ticks\":\"\"},\"colorscale\":[[0.0,\"#0d0887\"],[0.1111111111111111,\"#46039f\"],[0.2222222222222222,\"#7201a8\"],[0.3333333333333333,\"#9c179e\"],[0.4444444444444444,\"#bd3786\"],[0.5555555555555556,\"#d8576b\"],[0.6666666666666666,\"#ed7953\"],[0.7777777777777778,\"#fb9f3a\"],[0.8888888888888888,\"#fdca26\"],[1.0,\"#f0f921\"]],\"type\":\"surface\"}],\"table\":[{\"cells\":{\"fill\":{\"color\":\"#EBF0F8\"},\"line\":{\"color\":\"white\"}},\"header\":{\"fill\":{\"color\":\"#C8D4E3\"},\"line\":{\"color\":\"white\"}},\"type\":\"table\"}]},\"layout\":{\"annotationdefaults\":{\"arrowcolor\":\"#2a3f5f\",\"arrowhead\":0,\"arrowwidth\":1},\"autotypenumbers\":\"strict\",\"coloraxis\":{\"colorbar\":{\"outlinewidth\":0,\"ticks\":\"\"}},\"colorscale\":{\"diverging\":[[0,\"#8e0152\"],[0.1,\"#c51b7d\"],[0.2,\"#de77ae\"],[0.3,\"#f1b6da\"],[0.4,\"#fde0ef\"],[0.5,\"#f7f7f7\"],[0.6,\"#e6f5d0\"],[0.7,\"#b8e186\"],[0.8,\"#7fbc41\"],[0.9,\"#4d9221\"],[1,\"#276419\"]],\"sequential\":[[0.0,\"#0d0887\"],[0.1111111111111111,\"#46039f\"],[0.2222222222222222,\"#7201a8\"],[0.3333333333333333,\"#9c179e\"],[0.4444444444444444,\"#bd3786\"],[0.5555555555555556,\"#d8576b\"],[0.6666666666666666,\"#ed7953\"],[0.7777777777777778,\"#fb9f3a\"],[0.8888888888888888,\"#fdca26\"],[1.0,\"#f0f921\"]],\"sequentialminus\":[[0.0,\"#0d0887\"],[0.1111111111111111,\"#46039f\"],[0.2222222222222222,\"#7201a8\"],[0.3333333333333333,\"#9c179e\"],[0.4444444444444444,\"#bd3786\"],[0.5555555555555556,\"#d8576b\"],[0.6666666666666666,\"#ed7953\"],[0.7777777777777778,\"#fb9f3a\"],[0.8888888888888888,\"#fdca26\"],[1.0,\"#f0f921\"]]},\"colorway\":[\"#636efa\",\"#EF553B\",\"#00cc96\",\"#ab63fa\",\"#FFA15A\",\"#19d3f3\",\"#FF6692\",\"#B6E880\",\"#FF97FF\",\"#FECB52\"],\"font\":{\"color\":\"#2a3f5f\"},\"geo\":{\"bgcolor\":\"white\",\"lakecolor\":\"white\",\"landcolor\":\"#E5ECF6\",\"showlakes\":true,\"showland\":true,\"subunitcolor\":\"white\"},\"hoverlabel\":{\"align\":\"left\"},\"hovermode\":\"closest\",\"mapbox\":{\"style\":\"light\"},\"paper_bgcolor\":\"white\",\"plot_bgcolor\":\"#E5ECF6\",\"polar\":{\"angularaxis\":{\"gridcolor\":\"white\",\"linecolor\":\"white\",\"ticks\":\"\"},\"bgcolor\":\"#E5ECF6\",\"radialaxis\":{\"gridcolor\":\"white\",\"linecolor\":\"white\",\"ticks\":\"\"}},\"scene\":{\"xaxis\":{\"backgroundcolor\":\"#E5ECF6\",\"gridcolor\":\"white\",\"gridwidth\":2,\"linecolor\":\"white\",\"showbackground\":true,\"ticks\":\"\",\"zerolinecolor\":\"white\"},\"yaxis\":{\"backgroundcolor\":\"#E5ECF6\",\"gridcolor\":\"white\",\"gridwidth\":2,\"linecolor\":\"white\",\"showbackground\":true,\"ticks\":\"\",\"zerolinecolor\":\"white\"},\"zaxis\":{\"backgroundcolor\":\"#E5ECF6\",\"gridcolor\":\"white\",\"gridwidth\":2,\"linecolor\":\"white\",\"showbackground\":true,\"ticks\":\"\",\"zerolinecolor\":\"white\"}},\"shapedefaults\":{\"line\":{\"color\":\"#2a3f5f\"}},\"ternary\":{\"aaxis\":{\"gridcolor\":\"white\",\"linecolor\":\"white\",\"ticks\":\"\"},\"baxis\":{\"gridcolor\":\"white\",\"linecolor\":\"white\",\"ticks\":\"\"},\"bgcolor\":\"#E5ECF6\",\"caxis\":{\"gridcolor\":\"white\",\"linecolor\":\"white\",\"ticks\":\"\"}},\"title\":{\"x\":0.05},\"xaxis\":{\"automargin\":true,\"gridcolor\":\"white\",\"linecolor\":\"white\",\"ticks\":\"\",\"title\":{\"standoff\":15},\"zerolinecolor\":\"white\",\"zerolinewidth\":2},\"yaxis\":{\"automargin\":true,\"gridcolor\":\"white\",\"linecolor\":\"white\",\"ticks\":\"\",\"title\":{\"standoff\":15},\"zerolinecolor\":\"white\",\"zerolinewidth\":2}}},\"width\":750},                        {\"responsive\": true}                    ).then(function(){\n",
       "                            \n",
       "var gd = document.getElementById('2088fb53-c1c0-4777-b214-827422b12c39');\n",
       "var x = new MutationObserver(function (mutations, observer) {{\n",
       "        var display = window.getComputedStyle(gd).display;\n",
       "        if (!display || display === 'none') {{\n",
       "            console.log([gd, 'removed!']);\n",
       "            Plotly.purge(gd);\n",
       "            observer.disconnect();\n",
       "        }}\n",
       "}});\n",
       "\n",
       "// Listen for the removal of the full notebook cells\n",
       "var notebookContainer = gd.closest('#notebook-container');\n",
       "if (notebookContainer) {{\n",
       "    x.observe(notebookContainer, {childList: true});\n",
       "}}\n",
       "\n",
       "// Listen for the clearing of the current output cell\n",
       "var outputEl = gd.closest('.output');\n",
       "if (outputEl) {{\n",
       "    x.observe(outputEl, {childList: true});\n",
       "}}\n",
       "\n",
       "                        })                };                });            </script>        </div>"
      ]
     },
     "metadata": {},
     "output_type": "display_data"
    }
   ],
   "source": [
    "#https://plotly.com/python/scattermapbox/\n",
    "    \n",
    "import plotly.graph_objects as go\n",
    "\n",
    "mapbox_access_token = \"pk.eyJ1IjoiZmx5aW5nY2FwZSIsImEiOiJjbDd0YWZnc2YwZ3ZzM29yeDQ4bDl3dHZtIn0.q09s_595pGToclUeM8ojQQ\"\n",
    "\n",
    "fig0 = go.Figure(go.Scattermapbox(\n",
    "        lat = kiosk_geo['Latitude'],\n",
    "        lon = kiosk_geo['Longitude'],\n",
    "        text = kiosk_geo['text'],\n",
    "        mode='markers',\n",
    "        marker=go.scattermapbox.Marker(\n",
    "            size = kiosk_geo['Num_Rides_2021']/200, color = \"navy\",\n",
    "        ), \n",
    "        ))\n",
    "\n",
    "fig0.update_layout(\n",
    "    hovermode='closest',\n",
    "    mapbox=dict(\n",
    "        accesstoken=mapbox_access_token,\n",
    "        bearing=0,\n",
    "        center=go.layout.mapbox.Center(\n",
    "            lat=(kiosk_geo['Latitude'].min()+kiosk_geo['Latitude'].max())/2,\n",
    "            lon=(kiosk_geo['Longitude'].min()+kiosk_geo['Longitude'].max())/2\n",
    "        ),\n",
    "        pitch=0,\n",
    "        zoom=12.25,\n",
    "        style = 'streets'\n",
    "    ),\n",
    ")\n",
    "\n",
    "fig0.update_layout(\n",
    "    autosize=False,\n",
    "    width=750,\n",
    "    height=500,\n",
    "        margin=dict(\n",
    "        l=0.5,\n",
    "        r=0.5,\n",
    "        b=0.5,\n",
    "        t=0.5,\n",
    "        pad=0.20\n",
    "    ),\n",
    "    paper_bgcolor=\"White\",\n",
    ")\n",
    "\n",
    "fig0.show()"
   ]
  },
  {
   "cell_type": "code",
   "execution_count": 54,
   "id": "c4264a5e",
   "metadata": {},
   "outputs": [
    {
     "data": {
      "text/plain": [
       "'https://plotly.com/~flyingcape/17/'"
      ]
     },
     "execution_count": 54,
     "metadata": {},
     "output_type": "execute_result"
    }
   ],
   "source": [
    "import chart_studio\n",
    "username='flyingcape'\n",
    "api_key='NI4xzO3e4BldD5kASCBo'\n",
    "chart_studio.tools.set_credentials_file(username=username,\n",
    "                                        api_key=api_key)\n",
    "\n",
    "import chart_studio.plotly as py\n",
    "\n",
    "py.plot(fig, filename=\"2021_map\", auto_open = True)"
   ]
  },
  {
   "cell_type": "code",
   "execution_count": null,
   "id": "17b11749",
   "metadata": {},
   "outputs": [],
   "source": []
  }
 ],
 "metadata": {
  "kernelspec": {
   "display_name": "Python 3",
   "language": "python",
   "name": "python3"
  },
  "language_info": {
   "codemirror_mode": {
    "name": "ipython",
    "version": 3
   },
   "file_extension": ".py",
   "mimetype": "text/x-python",
   "name": "python",
   "nbconvert_exporter": "python",
   "pygments_lexer": "ipython3",
   "version": "3.8.8"
  }
 },
 "nbformat": 4,
 "nbformat_minor": 5
}
